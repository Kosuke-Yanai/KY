{
 "cells": [
  {
   "cell_type": "markdown",
   "metadata": {},
   "source": [
    "# [【SOTA】マイナビ × SIGNATE Student Cup 2019: 賃貸物件の家賃予測](https://signate.jp/competitions/264)"
   ]
  },
  {
   "cell_type": "markdown",
   "metadata": {},
   "source": [
    "## 1. データ読み込み"
   ]
  },
  {
   "cell_type": "code",
   "execution_count": 78,
   "metadata": {},
   "outputs": [],
   "source": [
    "import pandas as pd\n",
    "import numpy as np\n",
    "import pathlib\n",
    "import os\n",
    "\n",
    "# 学習データ、テストデータの読み込み\n",
    "train_path = pathlib.Path(\"./DATA/train.csv\")\n",
    "test_path = pathlib.Path(\"./DATA/test.csv\")\n",
    "\n",
    "train_data = pd.read_csv(train_path)\n",
    "test_data = pd.read_csv(test_path)"
   ]
  },
  {
   "cell_type": "code",
   "execution_count": 79,
   "metadata": {},
   "outputs": [
    {
     "data": {
      "text/html": [
       "<div>\n",
       "<style scoped>\n",
       "    .dataframe tbody tr th:only-of-type {\n",
       "        vertical-align: middle;\n",
       "    }\n",
       "\n",
       "    .dataframe tbody tr th {\n",
       "        vertical-align: top;\n",
       "    }\n",
       "\n",
       "    .dataframe thead th {\n",
       "        text-align: right;\n",
       "    }\n",
       "</style>\n",
       "<table border=\"1\" class=\"dataframe\">\n",
       "  <thead>\n",
       "    <tr style=\"text-align: right;\">\n",
       "      <th></th>\n",
       "      <th>id</th>\n",
       "      <th>所在地</th>\n",
       "      <th>アクセス</th>\n",
       "      <th>間取り</th>\n",
       "      <th>築年数</th>\n",
       "      <th>方角</th>\n",
       "      <th>面積</th>\n",
       "      <th>所在階</th>\n",
       "      <th>バス・トイレ</th>\n",
       "      <th>キッチン</th>\n",
       "      <th>放送・通信</th>\n",
       "      <th>室内設備</th>\n",
       "      <th>駐車場</th>\n",
       "      <th>周辺環境</th>\n",
       "      <th>建物構造</th>\n",
       "      <th>契約期間</th>\n",
       "    </tr>\n",
       "  </thead>\n",
       "  <tbody>\n",
       "    <tr>\n",
       "      <th>0</th>\n",
       "      <td>31471</td>\n",
       "      <td>東京都世田谷区深沢５丁目1-27</td>\n",
       "      <td>東急大井町線\\t等々力駅\\t徒歩15分\\t\\t東急田園都市線\\t桜新町駅\\t徒歩24分\\t\\...</td>\n",
       "      <td>2LDK</td>\n",
       "      <td>49年0ヶ月</td>\n",
       "      <td>南</td>\n",
       "      <td>50.22m2</td>\n",
       "      <td>8階／8階建</td>\n",
       "      <td>専用バス／\\t専用トイレ／\\tバス・トイレ別／\\tシャワー／\\t追焚機能／\\t温水洗浄便座／...</td>\n",
       "      <td>ガスコンロ／\\tコンロ3口／\\tシステムキッチン\\t／\\t給湯／\\tL字キッチン</td>\n",
       "      <td>インターネット対応</td>\n",
       "      <td>エアコン付\\tシューズボックス／\\tバルコニー／\\tフローリング／\\tエレベーター\\t公営水...</td>\n",
       "      <td>駐輪場\\t空有\\t駐車場\\t無\\tバイク置き場\\t無</td>\n",
       "      <td>【コンビニ】 74m\\t【スーパー】 215m\\t【病院】 313m\\t【小学校】 219m...</td>\n",
       "      <td>鉄骨造</td>\n",
       "      <td>NaN</td>\n",
       "    </tr>\n",
       "    <tr>\n",
       "      <th>1</th>\n",
       "      <td>31472</td>\n",
       "      <td>東京都目黒区八雲１丁目11-8</td>\n",
       "      <td>東急東横線\\t都立大学駅\\t徒歩6分\\t\\t東急東横線\\t自由が丘駅\\t徒歩17分\\t\\t東...</td>\n",
       "      <td>1R</td>\n",
       "      <td>0年2ヶ月</td>\n",
       "      <td>南東</td>\n",
       "      <td>20.88m2</td>\n",
       "      <td>3階／4階建</td>\n",
       "      <td>専用バス／\\t専用トイレ／\\tバス・トイレ別／\\tシャワー／\\t浴室乾燥機\\t／\\t温水洗浄...</td>\n",
       "      <td>ガスコンロ／\\tコンロ2口／\\tシステムキッチン\\t／\\t給湯</td>\n",
       "      <td>インターネット対応／\\tCSアンテナ／\\tBSアンテナ／\\tインターネット使用料無料</td>\n",
       "      <td>エアコン付\\tシューズボックス／\\tフローリング／\\t室内洗濯機置場\\t公営水道／\\t下水／...</td>\n",
       "      <td>駐車場\\t近隣\\t34,000円(税込)\\t距離200m\\t駐輪場\\t無\\tバイク置き場\\t無</td>\n",
       "      <td>【スーパー】 128m\\t【スーパー】 313m\\t【コンビニ】 374m\\t【コンビニ】 ...</td>\n",
       "      <td>RC（鉄筋コンクリート）</td>\n",
       "      <td>2年間</td>\n",
       "    </tr>\n",
       "    <tr>\n",
       "      <th>2</th>\n",
       "      <td>31473</td>\n",
       "      <td>東京都豊島区池袋本町２丁目22-2</td>\n",
       "      <td>東武東上線\\t北池袋駅\\t徒歩10分\\t\\t埼京線\\t板橋駅\\t徒歩16分\\t\\t山手線\\t...</td>\n",
       "      <td>1K</td>\n",
       "      <td>23年4ヶ月</td>\n",
       "      <td>南東</td>\n",
       "      <td>26.93m2</td>\n",
       "      <td>1階／4階建</td>\n",
       "      <td>専用バス／\\t専用トイレ／\\tバス・トイレ別／\\tシャワー／\\t温水洗浄便座</td>\n",
       "      <td>ガスコンロ／\\t給湯</td>\n",
       "      <td>インターネット対応／\\t光ファイバー／\\tCATV</td>\n",
       "      <td>エアコン付\\tシューズボックス／\\tバルコニー／\\tフローリング／\\t2面採光／\\t室内洗濯...</td>\n",
       "      <td>駐車場\\t空有\\t5,000円(税込)\\t(敷金あり\\t1ヶ月)\\t駐輪場\\t空有\\tバイク...</td>\n",
       "      <td>【スーパー】 529m\\t【スーパー】 810m\\t【コンビニ】 316m\\t【コンビニ】 ...</td>\n",
       "      <td>鉄骨造</td>\n",
       "      <td>2年間</td>\n",
       "    </tr>\n",
       "    <tr>\n",
       "      <th>3</th>\n",
       "      <td>31474</td>\n",
       "      <td>東京都杉並区和泉１丁目</td>\n",
       "      <td>丸ノ内線(中野坂上－方南町)\\t方南町駅\\t徒歩10分\\t\\t京王線\\t代田橋駅\\t徒歩8分...</td>\n",
       "      <td>1K</td>\n",
       "      <td>36年2ヶ月</td>\n",
       "      <td>南東</td>\n",
       "      <td>23.57m2</td>\n",
       "      <td>1階／2階建</td>\n",
       "      <td>シャワー</td>\n",
       "      <td>ガスコンロ／\\t給湯</td>\n",
       "      <td>NaN</td>\n",
       "      <td>エアコン付\\tシューズボックス／\\t2面採光／\\t室外洗濯機置場\\t公営水道／\\t下水／\\t...</td>\n",
       "      <td>駐輪場\\t空有\\t0円</td>\n",
       "      <td>【スーパー】 286m\\t【スーパー】 702m\\t【コンビニ】 489m\\t【コンビニ】 ...</td>\n",
       "      <td>木造</td>\n",
       "      <td>2年間</td>\n",
       "    </tr>\n",
       "    <tr>\n",
       "      <th>4</th>\n",
       "      <td>31475</td>\n",
       "      <td>東京都杉並区堀ノ内２丁目</td>\n",
       "      <td>丸ノ内線(中野坂上－方南町)\\t方南町駅\\t徒歩12分\\t\\t丸ノ内線(池袋－荻窪)\\t新高...</td>\n",
       "      <td>2LDK</td>\n",
       "      <td>45年4ヶ月</td>\n",
       "      <td>南</td>\n",
       "      <td>50m2</td>\n",
       "      <td>4階／4階建</td>\n",
       "      <td>専用バス／\\t専用トイレ／\\tバス・トイレ別</td>\n",
       "      <td>コンロ設置可（口数不明）／\\t給湯</td>\n",
       "      <td>インターネット対応</td>\n",
       "      <td>冷房／\\tエアコン付\\tシューズボックス／\\tバルコニー／\\tフローリング／\\t室内洗濯機置...</td>\n",
       "      <td>駐車場\\t近隣\\t22,600円\\t距離177m</td>\n",
       "      <td>【コンビニ】 312m\\t【コンビニ】 436m\\t【スーパー】 902m\\t【コンビニ】 ...</td>\n",
       "      <td>RC（鉄筋コンクリート）</td>\n",
       "      <td>2年間</td>\n",
       "    </tr>\n",
       "  </tbody>\n",
       "</table>\n",
       "</div>"
      ],
      "text/plain": [
       "      id                所在地  \\\n",
       "0  31471   東京都世田谷区深沢５丁目1-27   \n",
       "1  31472    東京都目黒区八雲１丁目11-8   \n",
       "2  31473  東京都豊島区池袋本町２丁目22-2   \n",
       "3  31474        東京都杉並区和泉１丁目   \n",
       "4  31475       東京都杉並区堀ノ内２丁目   \n",
       "\n",
       "                                                アクセス   間取り     築年数  方角  \\\n",
       "0  東急大井町線\\t等々力駅\\t徒歩15分\\t\\t東急田園都市線\\t桜新町駅\\t徒歩24分\\t\\...  2LDK  49年0ヶ月   南   \n",
       "1  東急東横線\\t都立大学駅\\t徒歩6分\\t\\t東急東横線\\t自由が丘駅\\t徒歩17分\\t\\t東...    1R   0年2ヶ月  南東   \n",
       "2  東武東上線\\t北池袋駅\\t徒歩10分\\t\\t埼京線\\t板橋駅\\t徒歩16分\\t\\t山手線\\t...    1K  23年4ヶ月  南東   \n",
       "3  丸ノ内線(中野坂上－方南町)\\t方南町駅\\t徒歩10分\\t\\t京王線\\t代田橋駅\\t徒歩8分...    1K  36年2ヶ月  南東   \n",
       "4  丸ノ内線(中野坂上－方南町)\\t方南町駅\\t徒歩12分\\t\\t丸ノ内線(池袋－荻窪)\\t新高...  2LDK  45年4ヶ月   南   \n",
       "\n",
       "        面積     所在階                                             バス・トイレ  \\\n",
       "0  50.22m2  8階／8階建  専用バス／\\t専用トイレ／\\tバス・トイレ別／\\tシャワー／\\t追焚機能／\\t温水洗浄便座／...   \n",
       "1  20.88m2  3階／4階建  専用バス／\\t専用トイレ／\\tバス・トイレ別／\\tシャワー／\\t浴室乾燥機\\t／\\t温水洗浄...   \n",
       "2  26.93m2  1階／4階建             専用バス／\\t専用トイレ／\\tバス・トイレ別／\\tシャワー／\\t温水洗浄便座   \n",
       "3  23.57m2  1階／2階建                                               シャワー   \n",
       "4     50m2  4階／4階建                             専用バス／\\t専用トイレ／\\tバス・トイレ別   \n",
       "\n",
       "                                       キッチン  \\\n",
       "0  ガスコンロ／\\tコンロ3口／\\tシステムキッチン\\t／\\t給湯／\\tL字キッチン   \n",
       "1           ガスコンロ／\\tコンロ2口／\\tシステムキッチン\\t／\\t給湯   \n",
       "2                                ガスコンロ／\\t給湯   \n",
       "3                                ガスコンロ／\\t給湯   \n",
       "4                         コンロ設置可（口数不明）／\\t給湯   \n",
       "\n",
       "                                        放送・通信  \\\n",
       "0                                   インターネット対応   \n",
       "1  インターネット対応／\\tCSアンテナ／\\tBSアンテナ／\\tインターネット使用料無料   \n",
       "2                   インターネット対応／\\t光ファイバー／\\tCATV   \n",
       "3                                         NaN   \n",
       "4                                   インターネット対応   \n",
       "\n",
       "                                                室内設備  \\\n",
       "0  エアコン付\\tシューズボックス／\\tバルコニー／\\tフローリング／\\tエレベーター\\t公営水...   \n",
       "1  エアコン付\\tシューズボックス／\\tフローリング／\\t室内洗濯機置場\\t公営水道／\\t下水／...   \n",
       "2  エアコン付\\tシューズボックス／\\tバルコニー／\\tフローリング／\\t2面採光／\\t室内洗濯...   \n",
       "3  エアコン付\\tシューズボックス／\\t2面採光／\\t室外洗濯機置場\\t公営水道／\\t下水／\\t...   \n",
       "4  冷房／\\tエアコン付\\tシューズボックス／\\tバルコニー／\\tフローリング／\\t室内洗濯機置...   \n",
       "\n",
       "                                                 駐車場  \\\n",
       "0                         駐輪場\\t空有\\t駐車場\\t無\\tバイク置き場\\t無   \n",
       "1    駐車場\\t近隣\\t34,000円(税込)\\t距離200m\\t駐輪場\\t無\\tバイク置き場\\t無   \n",
       "2  駐車場\\t空有\\t5,000円(税込)\\t(敷金あり\\t1ヶ月)\\t駐輪場\\t空有\\tバイク...   \n",
       "3                                        駐輪場\\t空有\\t0円   \n",
       "4                           駐車場\\t近隣\\t22,600円\\t距離177m   \n",
       "\n",
       "                                                周辺環境          建物構造 契約期間  \n",
       "0  【コンビニ】 74m\\t【スーパー】 215m\\t【病院】 313m\\t【小学校】 219m...           鉄骨造  NaN  \n",
       "1  【スーパー】 128m\\t【スーパー】 313m\\t【コンビニ】 374m\\t【コンビニ】 ...  RC（鉄筋コンクリート）  2年間  \n",
       "2  【スーパー】 529m\\t【スーパー】 810m\\t【コンビニ】 316m\\t【コンビニ】 ...           鉄骨造  2年間  \n",
       "3  【スーパー】 286m\\t【スーパー】 702m\\t【コンビニ】 489m\\t【コンビニ】 ...            木造  2年間  \n",
       "4  【コンビニ】 312m\\t【コンビニ】 436m\\t【スーパー】 902m\\t【コンビニ】 ...  RC（鉄筋コンクリート）  2年間  "
      ]
     },
     "execution_count": 79,
     "metadata": {},
     "output_type": "execute_result"
    }
   ],
   "source": [
    "test_data.head()"
   ]
  },
  {
   "cell_type": "markdown",
   "metadata": {},
   "source": [
    "## 2. 前処理"
   ]
  },
  {
   "cell_type": "markdown",
   "metadata": {},
   "source": [
    "### 2.1. データ選択"
   ]
  },
  {
   "cell_type": "code",
   "execution_count": 80,
   "metadata": {},
   "outputs": [],
   "source": [
    "train_data_1 = train_data[[\"id\", \"所在地\", \"賃料\", \"間取り\", \"築年数\", \"面積\", \"所在階\", \"建物構造\"]]\n",
    "test_data_1 = test_data[[\"id\", \"所在地\", \"間取り\", \"築年数\", \"面積\", \"所在階\", \"建物構造\"]]"
   ]
  },
  {
   "cell_type": "markdown",
   "metadata": {},
   "source": [
    "### 2.2. 間取りの数値化"
   ]
  },
  {
   "cell_type": "code",
   "execution_count": 81,
   "metadata": {},
   "outputs": [
    {
     "name": "stderr",
     "output_type": "stream",
     "text": [
      "C:\\ProgramData\\Anaconda3\\lib\\site-packages\\ipykernel_launcher.py:7: SettingWithCopyWarning: \n",
      "A value is trying to be set on a copy of a slice from a DataFrame.\n",
      "Try using .loc[row_indexer,col_indexer] = value instead\n",
      "\n",
      "See the caveats in the documentation: https://pandas.pydata.org/pandas-docs/stable/user_guide/indexing.html#returning-a-view-versus-a-copy\n",
      "  import sys\n",
      "C:\\ProgramData\\Anaconda3\\lib\\site-packages\\ipykernel_launcher.py:8: SettingWithCopyWarning: \n",
      "A value is trying to be set on a copy of a slice from a DataFrame.\n",
      "Try using .loc[row_indexer,col_indexer] = value instead\n",
      "\n",
      "See the caveats in the documentation: https://pandas.pydata.org/pandas-docs/stable/user_guide/indexing.html#returning-a-view-versus-a-copy\n",
      "  \n"
     ]
    }
   ],
   "source": [
    "# 間取りにlabel encodingを適用\n",
    "from sklearn.preprocessing import LabelEncoder\n",
    "\n",
    "le = LabelEncoder()\n",
    "le.fit(pd.concat([train_data_1[\"間取り\"],test_data_1[\"間取り\"]]))\n",
    "\n",
    "train_data_1[\"間取りID\"] = le.transform(train_data_1[\"間取り\"])\n",
    "test_data_1[\"間取りID\"] = le.transform(test_data_1[\"間取り\"])"
   ]
  },
  {
   "cell_type": "markdown",
   "metadata": {},
   "source": [
    "### 2.3. 面積の数値化"
   ]
  },
  {
   "cell_type": "code",
   "execution_count": 82,
   "metadata": {},
   "outputs": [],
   "source": [
    "# 面積のカラムタイトルを面積[m2]に置換\n",
    "train_data_1 = train_data_1.rename(columns={\"面積\": \"面積m2\"})\n",
    "test_data_1 = test_data_1.rename(columns={\"面積\": \"面積m2\"})"
   ]
  },
  {
   "cell_type": "code",
   "execution_count": 83,
   "metadata": {},
   "outputs": [],
   "source": [
    "# カラムタイトル面積[m2]の要素からm2を削除\n",
    "train_data_1['面積m2'] = train_data_1['面積m2'].str.replace('m2', '').astype(float)\n",
    "test_data_1['面積m2'] = test_data_1['面積m2'].str.replace('m2', '').astype(float)"
   ]
  },
  {
   "cell_type": "markdown",
   "metadata": {},
   "source": [
    "### 2.4. 所在階の数値化"
   ]
  },
  {
   "cell_type": "code",
   "execution_count": 84,
   "metadata": {},
   "outputs": [],
   "source": [
    "# 所在階の中身を\"／\"で2つの列に分割\n",
    "train_data_1 = pd.concat([train_data_1, train_data_1['所在階'].str.split('／', expand=True)], axis=1)\n",
    "test_data_1 = pd.concat([test_data_1, test_data_1['所在階'].str.split('／', expand=True)], axis=1)"
   ]
  },
  {
   "cell_type": "code",
   "execution_count": 85,
   "metadata": {},
   "outputs": [],
   "source": [
    "# 分割した所在階のカラム名変更　0:所在、1:階層\n",
    "train_data_1 = train_data_1.rename(columns={0:\"所在\", 1:\"階層\"})\n",
    "test_data_1 = test_data_1.rename(columns={0:\"所在\", 1:\"階層\"})"
   ]
  },
  {
   "cell_type": "code",
   "execution_count": 86,
   "metadata": {},
   "outputs": [],
   "source": [
    "# 所在と階層の要素を整形\n",
    "train_data_1['所在'] = train_data_1['所在'].str.replace('階', '')\n",
    "train_data_1['所在'] = train_data_1['所在'].str.replace('建', '')\n",
    "train_data_1['所在'] = train_data_1['所在'].str.replace('地下', '-')\n",
    "train_data_1['所在'] = train_data_1['所在'].str.replace('\\（.*\\）', '', regex=True)\n",
    "train_data_1['階層'] = train_data_1['階層'].str.replace('階建', '')\n",
    "train_data_1['階層'] = train_data_1['階層'].str.replace('\\（.*\\）', '', regex=True)\n",
    "train_data_1['所在'] = train_data_1['所在'].replace('', np.nan)\n",
    "\n",
    "test_data_1['所在'] = test_data_1['所在'].str.replace('階', '')\n",
    "test_data_1['所在'] = test_data_1['所在'].str.replace('建', '')\n",
    "test_data_1['所在'] = test_data_1['所在'].str.replace('地下', '-')\n",
    "test_data_1['所在'] = test_data_1['所在'].str.replace('\\（.*\\）', '', regex=True)\n",
    "test_data_1['階層'] = test_data_1['階層'].str.replace('階建', '')\n",
    "test_data_1['階層'] = test_data_1['階層'].str.replace('\\（.*\\）', '', regex=True)\n",
    "test_data_1['所在'] = test_data_1['所在'].replace('', np.nan)"
   ]
  },
  {
   "cell_type": "code",
   "execution_count": 87,
   "metadata": {},
   "outputs": [],
   "source": [
    "# # \"階層\"がNoneの箇所を\"所在\"の値で埋める\n",
    "# train_data_1['階層'].fillna(train_data_1['所在'], inplace=True)\n",
    "# test_data_1['階層'].fillna(test_data_1['所在'], inplace=True)"
   ]
  },
  {
   "cell_type": "code",
   "execution_count": 88,
   "metadata": {},
   "outputs": [],
   "source": [
    "# 所在と階層の要素をfloat型に変換する\n",
    "train_data_1['所在'] = train_data_1['所在'].astype(float)\n",
    "train_data_1['階層'] = train_data_1['階層'].astype(float)\n",
    "\n",
    "test_data_1['所在'] = test_data_1['所在'].astype(float)\n",
    "test_data_1['階層'] = test_data_1['階層'].astype(float)"
   ]
  },
  {
   "cell_type": "code",
   "execution_count": 89,
   "metadata": {},
   "outputs": [],
   "source": [
    "# 所在階のカラムを削除\n",
    "train_data_1 = train_data_1.drop('所在階', axis=1)\n",
    "test_data_1 = test_data_1.drop('所在階', axis=1)"
   ]
  },
  {
   "cell_type": "code",
   "execution_count": 90,
   "metadata": {},
   "outputs": [],
   "source": [
    "# # 所在のNaNを埋める\n",
    "# train_data_1.loc[train_data_1[\"所在\"].isnull(), \"所在\"] = train_data_1[\"階層\"]\n",
    "# test_data_1.loc[test_data_1[\"所在\"].isnull(), \"所在\"] = test_data_1[\"階層\"]"
   ]
  },
  {
   "cell_type": "code",
   "execution_count": 91,
   "metadata": {},
   "outputs": [],
   "source": [
    "# # 所在も階層も空欄のデータは間取りと面積の近いデータで埋める\n",
    "# print(test_data_1[(test_data_1[\"間取りID\"] == 21) & (test_data_1[\"面積m2\"] > 90) & (test_data_1[\"面積m2\"] < 95)].mean())\n",
    "# test_data_1.loc[test_data_1[\"id\"]==40675, \"所在\"] = float(6)\n",
    "# test_data_1.loc[test_data_1[\"id\"]==40675, \"階層\"] = float(9)"
   ]
  },
  {
   "cell_type": "markdown",
   "metadata": {},
   "source": [
    "### 2.5. 築年数の数値化"
   ]
  },
  {
   "cell_type": "code",
   "execution_count": 92,
   "metadata": {},
   "outputs": [],
   "source": [
    "# 新築の場合は全て0にする\n",
    "train_data_1.loc[train_data_1[\"築年数\"]==\"新築\", \"築年数\"] = float(0)\n",
    "test_data_1.loc[test_data_1[\"築年数\"]==\"新築\", \"築年数\"] = float(0)"
   ]
  },
  {
   "cell_type": "code",
   "execution_count": 93,
   "metadata": {},
   "outputs": [],
   "source": [
    "# 築年数を数値に変換する\n",
    "train_data_1 = pd.concat([train_data_1, train_data_1['築年数'].str.split('年', expand=True)], axis=1)\n",
    "test_data_1 = pd.concat([test_data_1, test_data_1['築年数'].str.split('年', expand=True)], axis=1)"
   ]
  },
  {
   "cell_type": "code",
   "execution_count": 94,
   "metadata": {},
   "outputs": [],
   "source": [
    "# ヶ月を消す\n",
    "train_data_1[1] = train_data_1[1].str.replace('ヶ月', '')\n",
    "test_data_1[1] = test_data_1[1].str.replace('ヶ月', '')"
   ]
  },
  {
   "cell_type": "code",
   "execution_count": 95,
   "metadata": {},
   "outputs": [],
   "source": [
    "# 築年数をfloat変換\n",
    "train_data_1[\"築年数\"] = train_data_1[0].astype(float) + (train_data_1[1].astype(float) / float(10))\n",
    "test_data_1[\"築年数\"] = test_data_1[0].astype(float) + (test_data_1[1].astype(float) / float(10))"
   ]
  },
  {
   "cell_type": "code",
   "execution_count": 96,
   "metadata": {},
   "outputs": [
    {
     "data": {
      "text/html": [
       "<div>\n",
       "<style scoped>\n",
       "    .dataframe tbody tr th:only-of-type {\n",
       "        vertical-align: middle;\n",
       "    }\n",
       "\n",
       "    .dataframe tbody tr th {\n",
       "        vertical-align: top;\n",
       "    }\n",
       "\n",
       "    .dataframe thead th {\n",
       "        text-align: right;\n",
       "    }\n",
       "</style>\n",
       "<table border=\"1\" class=\"dataframe\">\n",
       "  <thead>\n",
       "    <tr style=\"text-align: right;\">\n",
       "      <th></th>\n",
       "      <th>id</th>\n",
       "      <th>所在地</th>\n",
       "      <th>間取り</th>\n",
       "      <th>築年数</th>\n",
       "      <th>面積m2</th>\n",
       "      <th>建物構造</th>\n",
       "      <th>間取りID</th>\n",
       "      <th>所在</th>\n",
       "      <th>階層</th>\n",
       "      <th>0</th>\n",
       "      <th>1</th>\n",
       "    </tr>\n",
       "  </thead>\n",
       "  <tbody>\n",
       "    <tr>\n",
       "      <th>0</th>\n",
       "      <td>31471</td>\n",
       "      <td>東京都世田谷区深沢５丁目1-27</td>\n",
       "      <td>2LDK</td>\n",
       "      <td>49.0</td>\n",
       "      <td>50.22</td>\n",
       "      <td>鉄骨造</td>\n",
       "      <td>14</td>\n",
       "      <td>8.0</td>\n",
       "      <td>8.0</td>\n",
       "      <td>49</td>\n",
       "      <td>0</td>\n",
       "    </tr>\n",
       "    <tr>\n",
       "      <th>1</th>\n",
       "      <td>31472</td>\n",
       "      <td>東京都目黒区八雲１丁目11-8</td>\n",
       "      <td>1R</td>\n",
       "      <td>0.2</td>\n",
       "      <td>20.88</td>\n",
       "      <td>RC（鉄筋コンクリート）</td>\n",
       "      <td>9</td>\n",
       "      <td>3.0</td>\n",
       "      <td>4.0</td>\n",
       "      <td>0</td>\n",
       "      <td>2</td>\n",
       "    </tr>\n",
       "    <tr>\n",
       "      <th>2</th>\n",
       "      <td>31473</td>\n",
       "      <td>東京都豊島区池袋本町２丁目22-2</td>\n",
       "      <td>1K</td>\n",
       "      <td>23.4</td>\n",
       "      <td>26.93</td>\n",
       "      <td>鉄骨造</td>\n",
       "      <td>3</td>\n",
       "      <td>1.0</td>\n",
       "      <td>4.0</td>\n",
       "      <td>23</td>\n",
       "      <td>4</td>\n",
       "    </tr>\n",
       "    <tr>\n",
       "      <th>3</th>\n",
       "      <td>31474</td>\n",
       "      <td>東京都杉並区和泉１丁目</td>\n",
       "      <td>1K</td>\n",
       "      <td>36.2</td>\n",
       "      <td>23.57</td>\n",
       "      <td>木造</td>\n",
       "      <td>3</td>\n",
       "      <td>1.0</td>\n",
       "      <td>2.0</td>\n",
       "      <td>36</td>\n",
       "      <td>2</td>\n",
       "    </tr>\n",
       "    <tr>\n",
       "      <th>4</th>\n",
       "      <td>31475</td>\n",
       "      <td>東京都杉並区堀ノ内２丁目</td>\n",
       "      <td>2LDK</td>\n",
       "      <td>45.4</td>\n",
       "      <td>50.00</td>\n",
       "      <td>RC（鉄筋コンクリート）</td>\n",
       "      <td>14</td>\n",
       "      <td>4.0</td>\n",
       "      <td>4.0</td>\n",
       "      <td>45</td>\n",
       "      <td>4</td>\n",
       "    </tr>\n",
       "  </tbody>\n",
       "</table>\n",
       "</div>"
      ],
      "text/plain": [
       "      id                所在地   間取り   築年数   面積m2          建物構造  間取りID   所在   階層  \\\n",
       "0  31471   東京都世田谷区深沢５丁目1-27  2LDK  49.0  50.22           鉄骨造     14  8.0  8.0   \n",
       "1  31472    東京都目黒区八雲１丁目11-8    1R   0.2  20.88  RC（鉄筋コンクリート）      9  3.0  4.0   \n",
       "2  31473  東京都豊島区池袋本町２丁目22-2    1K  23.4  26.93           鉄骨造      3  1.0  4.0   \n",
       "3  31474        東京都杉並区和泉１丁目    1K  36.2  23.57            木造      3  1.0  2.0   \n",
       "4  31475       東京都杉並区堀ノ内２丁目  2LDK  45.4  50.00  RC（鉄筋コンクリート）     14  4.0  4.0   \n",
       "\n",
       "    0  1  \n",
       "0  49  0  \n",
       "1   0  2  \n",
       "2  23  4  \n",
       "3  36  2  \n",
       "4  45  4  "
      ]
     },
     "execution_count": 96,
     "metadata": {},
     "output_type": "execute_result"
    }
   ],
   "source": [
    "test_data_1.head()"
   ]
  },
  {
   "cell_type": "code",
   "execution_count": 97,
   "metadata": {},
   "outputs": [
    {
     "name": "stdout",
     "output_type": "stream",
     "text": [
      "          id               所在地       間取り  築年数   面積m2          建物構造  間取りID  \\\n",
      "77     31548      東京都大田区東矢口２丁目  1K+S(納戸)  NaN  23.80           鉄骨造      4   \n",
      "108    31579  東京都世田谷区上馬２丁目26-8        1K  NaN  26.44  RC（鉄筋コンクリート）      3   \n",
      "112    31583       東京都台東区台東２丁目      1LDK  NaN  41.65           鉄骨造      5   \n",
      "156    31627  東京都品川区南大井４丁目20-5        1R  NaN  20.56  RC（鉄筋コンクリート）      9   \n",
      "162    31633     東京都江東区扇橋２丁目23        1K  NaN  25.34  RC（鉄筋コンクリート）      3   \n",
      "...      ...               ...       ...  ...    ...           ...    ...   \n",
      "31141  62612  東京都世田谷区桜丘４丁目15-9      2LDK  NaN  60.81            木造     14   \n",
      "31176  62647   東京都江戸川区中葛西８丁目22      1LDK  NaN  40.06  RC（鉄筋コンクリート）      5   \n",
      "31181  62652       東京都新宿区原町３丁目      1LDK  NaN  40.26           鉄骨造      5   \n",
      "31182  62653       東京都新宿区原町３丁目      2LDK  NaN  54.75           鉄骨造     14   \n",
      "31212  62683       東京都新宿区原町３丁目      1LDK  NaN  40.79           鉄骨造      5   \n",
      "\n",
      "        所在    階層    0    1  \n",
      "77     2.0   3.0  NaN  NaN  \n",
      "108    7.0  13.0  NaN  NaN  \n",
      "112    3.0  10.0  NaN  NaN  \n",
      "156    3.0  12.0  NaN  NaN  \n",
      "162    1.0   8.0  NaN  NaN  \n",
      "...    ...   ...  ...  ...  \n",
      "31141  2.0   2.0  NaN  NaN  \n",
      "31176  3.0  10.0  NaN  NaN  \n",
      "31181  2.0   3.0  NaN  NaN  \n",
      "31182  1.0   3.0  NaN  NaN  \n",
      "31212  2.0   3.0  NaN  NaN  \n",
      "\n",
      "[850 rows x 11 columns]\n"
     ]
    }
   ],
   "source": [
    "print(test_data_1[test_data_1[\"築年数\"].isnull()])"
   ]
  },
  {
   "cell_type": "code",
   "execution_count": 98,
   "metadata": {},
   "outputs": [],
   "source": [
    "# 0と1の列を消す\n",
    "train_data_1 = train_data_1.drop(0, axis=1)\n",
    "train_data_1 = train_data_1.drop(1, axis=1)\n",
    "\n",
    "test_data_1 = test_data_1.drop(0, axis=1)\n",
    "test_data_1 = test_data_1.drop(1, axis=1)"
   ]
  },
  {
   "cell_type": "markdown",
   "metadata": {},
   "source": [
    "### 2.6. 緯度経度情報の追加"
   ]
  },
  {
   "cell_type": "markdown",
   "metadata": {},
   "source": [
    "#### [このサイト](https://ktgis.net/gcode/geocoding.html)を利用する"
   ]
  },
  {
   "cell_type": "code",
   "execution_count": 99,
   "metadata": {},
   "outputs": [],
   "source": [
    "# IDと住所をファイル出力\n",
    "train_coordinate = train_data[[\"id\", \"所在地\"]]\n",
    "test_coordinate = test_data[[\"id\", \"所在地\"]]\n",
    "\n",
    "train_coordinate.to_csv(\"train_coordinate.csv\", header=False, index=False)\n",
    "test_coordinate.to_csv(\"test_coordinate.csv\", header=False, index=False)"
   ]
  },
  {
   "cell_type": "code",
   "execution_count": 100,
   "metadata": {},
   "outputs": [],
   "source": [
    "# 緯度、経度情報の読み込み(id, 所在地, 経度, 緯度)\n",
    "train_coordinate_addvalue = pd.read_excel(\"train_coordinate_addvalue.xlsx\")\n",
    "test_coordinate_addvalue = pd.read_excel(\"test_coordinate_addvalue.xlsx\")"
   ]
  },
  {
   "cell_type": "code",
   "execution_count": 101,
   "metadata": {},
   "outputs": [],
   "source": [
    "train_data_1 = pd.merge(train_data_1, train_coordinate_addvalue[[\"id\", \"経度\", \"緯度\"]], on='id')\n",
    "test_data_1 = pd.merge(test_data_1, test_coordinate_addvalue[[\"id\", \"経度\", \"緯度\"]], on='id')"
   ]
  },
  {
   "cell_type": "markdown",
   "metadata": {},
   "source": [
    "### 2.7. 部屋数の追加"
   ]
  },
  {
   "cell_type": "code",
   "execution_count": 102,
   "metadata": {},
   "outputs": [],
   "source": [
    "# 部屋数のマージ\n",
    "number_of_rooms = pd.read_excel(\"number_of_rooms.xlsx\")\n",
    "train_data_1 = pd.merge(train_data_1, number_of_rooms[[\"間取り\", \"部屋数\"]], on='間取り')\n",
    "test_data_1 = pd.merge(test_data_1, number_of_rooms[[\"間取り\", \"部屋数\"]], on='間取り')"
   ]
  },
  {
   "cell_type": "code",
   "execution_count": 103,
   "metadata": {},
   "outputs": [],
   "source": [
    "# インデックスの振り直し\n",
    "train_data_1 = train_data_1.sort_values(\"id\")\n",
    "train_data_1 = train_data_1.reset_index(drop=True)\n",
    "\n",
    "test_data_1 = test_data_1.sort_values(\"id\")\n",
    "test_data_1 = test_data_1.reset_index(drop=True)"
   ]
  },
  {
   "cell_type": "markdown",
   "metadata": {},
   "source": [
    "### 2.8. 1部屋当たりの面積追加"
   ]
  },
  {
   "cell_type": "code",
   "execution_count": 104,
   "metadata": {},
   "outputs": [],
   "source": [
    "# 面積と部屋数から1部屋当たりの面積を算出\n",
    "train_data_1[\"1部屋当たり面積m2\"] = (train_data_1[\"面積m2\"] / train_data_1[\"部屋数\"]).astype(float)\n",
    "test_data_1[\"1部屋当たり面積m2\"] = (test_data_1[\"面積m2\"] / test_data_1[\"部屋数\"]).astype(float)"
   ]
  },
  {
   "cell_type": "code",
   "execution_count": 105,
   "metadata": {},
   "outputs": [],
   "source": [
    "# 間取りと間取りIDは削除する\n",
    "train_data_1 = train_data_1.drop('間取り', axis=1)\n",
    "test_data_1 = test_data_1.drop('間取り', axis=1)\n",
    "\n",
    "# train_data_1 = train_data_1.drop('間取りID', axis=1)\n",
    "# test_data_1 = test_data_1.drop('間取りID', axis=1)"
   ]
  },
  {
   "cell_type": "markdown",
   "metadata": {},
   "source": [
    "#### 2.9. 建物の高さ率を追加(高さ率=所在/階層)"
   ]
  },
  {
   "cell_type": "code",
   "execution_count": 106,
   "metadata": {},
   "outputs": [],
   "source": [
    "# 高さ率の算出\n",
    "train_data_1[\"高さ率\"] = (train_data_1[\"所在\"] / train_data_1[\"階層\"]).astype(float)\n",
    "test_data_1[\"高さ率\"] = (test_data_1[\"所在\"] / test_data_1[\"階層\"]).astype(float)"
   ]
  },
  {
   "cell_type": "markdown",
   "metadata": {},
   "source": [
    "### 2.10. 建物構造の数値化"
   ]
  },
  {
   "cell_type": "code",
   "execution_count": 107,
   "metadata": {},
   "outputs": [
    {
     "data": {
      "text/plain": [
       "RC（鉄筋コンクリート）                   17505\n",
       "木造                              5512\n",
       "鉄骨造                             3726\n",
       "SRC（鉄骨鉄筋コンクリート）                 2429\n",
       "軽量鉄骨                            1812\n",
       "ALC（軽量気泡コンクリート）                  297\n",
       "その他                              136\n",
       "PC（プレキャスト・コンクリート（鉄筋コンクリート））       46\n",
       "HPC（プレキャスト・コンクリート（重量鉄骨））           4\n",
       "ブロック                               3\n",
       "Name: 建物構造, dtype: int64"
      ]
     },
     "execution_count": 107,
     "metadata": {},
     "output_type": "execute_result"
    }
   ],
   "source": [
    "train_data_1[\"建物構造\"].value_counts()"
   ]
  },
  {
   "cell_type": "code",
   "execution_count": 108,
   "metadata": {},
   "outputs": [],
   "source": [
    "# 建物構造にlabel encodingを適用\n",
    "from sklearn.preprocessing import LabelEncoder\n",
    "\n",
    "le = LabelEncoder()\n",
    "le.fit(pd.concat([train_data_1[\"建物構造\"],test_data_1[\"建物構造\"]]))\n",
    "\n",
    "train_data_1[\"建物構造ID\"] = le.transform(train_data_1[\"建物構造\"])\n",
    "test_data_1[\"建物構造ID\"] = le.transform(test_data_1[\"建物構造\"])"
   ]
  },
  {
   "cell_type": "code",
   "execution_count": 109,
   "metadata": {},
   "outputs": [
    {
     "data": {
      "text/html": [
       "<div>\n",
       "<style scoped>\n",
       "    .dataframe tbody tr th:only-of-type {\n",
       "        vertical-align: middle;\n",
       "    }\n",
       "\n",
       "    .dataframe tbody tr th {\n",
       "        vertical-align: top;\n",
       "    }\n",
       "\n",
       "    .dataframe thead th {\n",
       "        text-align: right;\n",
       "    }\n",
       "</style>\n",
       "<table border=\"1\" class=\"dataframe\">\n",
       "  <thead>\n",
       "    <tr style=\"text-align: right;\">\n",
       "      <th></th>\n",
       "      <th>id</th>\n",
       "      <th>所在地</th>\n",
       "      <th>築年数</th>\n",
       "      <th>面積m2</th>\n",
       "      <th>建物構造</th>\n",
       "      <th>間取りID</th>\n",
       "      <th>所在</th>\n",
       "      <th>階層</th>\n",
       "      <th>経度</th>\n",
       "      <th>緯度</th>\n",
       "      <th>部屋数</th>\n",
       "      <th>1部屋当たり面積m2</th>\n",
       "      <th>高さ率</th>\n",
       "      <th>建物構造ID</th>\n",
       "    </tr>\n",
       "  </thead>\n",
       "  <tbody>\n",
       "    <tr>\n",
       "      <th>0</th>\n",
       "      <td>31471</td>\n",
       "      <td>東京都世田谷区深沢５丁目1-27</td>\n",
       "      <td>49.0</td>\n",
       "      <td>50.22</td>\n",
       "      <td>鉄骨造</td>\n",
       "      <td>14</td>\n",
       "      <td>8.0</td>\n",
       "      <td>8.0</td>\n",
       "      <td>139.652762</td>\n",
       "      <td>35.617708</td>\n",
       "      <td>3.5</td>\n",
       "      <td>14.348571</td>\n",
       "      <td>1.00</td>\n",
       "      <td>10</td>\n",
       "    </tr>\n",
       "    <tr>\n",
       "      <th>1</th>\n",
       "      <td>31472</td>\n",
       "      <td>東京都目黒区八雲１丁目11-8</td>\n",
       "      <td>0.2</td>\n",
       "      <td>20.88</td>\n",
       "      <td>RC（鉄筋コンクリート）</td>\n",
       "      <td>9</td>\n",
       "      <td>3.0</td>\n",
       "      <td>4.0</td>\n",
       "      <td>139.672871</td>\n",
       "      <td>35.617709</td>\n",
       "      <td>1.0</td>\n",
       "      <td>20.880000</td>\n",
       "      <td>0.75</td>\n",
       "      <td>3</td>\n",
       "    </tr>\n",
       "    <tr>\n",
       "      <th>2</th>\n",
       "      <td>31473</td>\n",
       "      <td>東京都豊島区池袋本町２丁目22-2</td>\n",
       "      <td>23.4</td>\n",
       "      <td>26.93</td>\n",
       "      <td>鉄骨造</td>\n",
       "      <td>3</td>\n",
       "      <td>1.0</td>\n",
       "      <td>4.0</td>\n",
       "      <td>139.709049</td>\n",
       "      <td>35.741996</td>\n",
       "      <td>1.0</td>\n",
       "      <td>26.930000</td>\n",
       "      <td>0.25</td>\n",
       "      <td>10</td>\n",
       "    </tr>\n",
       "    <tr>\n",
       "      <th>3</th>\n",
       "      <td>31474</td>\n",
       "      <td>東京都杉並区和泉１丁目</td>\n",
       "      <td>36.2</td>\n",
       "      <td>23.57</td>\n",
       "      <td>木造</td>\n",
       "      <td>3</td>\n",
       "      <td>1.0</td>\n",
       "      <td>2.0</td>\n",
       "      <td>139.658270</td>\n",
       "      <td>35.673602</td>\n",
       "      <td>1.0</td>\n",
       "      <td>23.570000</td>\n",
       "      <td>0.50</td>\n",
       "      <td>7</td>\n",
       "    </tr>\n",
       "    <tr>\n",
       "      <th>4</th>\n",
       "      <td>31475</td>\n",
       "      <td>東京都杉並区堀ノ内２丁目</td>\n",
       "      <td>45.4</td>\n",
       "      <td>50.00</td>\n",
       "      <td>RC（鉄筋コンクリート）</td>\n",
       "      <td>14</td>\n",
       "      <td>4.0</td>\n",
       "      <td>4.0</td>\n",
       "      <td>139.650468</td>\n",
       "      <td>35.689411</td>\n",
       "      <td>3.5</td>\n",
       "      <td>14.285714</td>\n",
       "      <td>1.00</td>\n",
       "      <td>3</td>\n",
       "    </tr>\n",
       "  </tbody>\n",
       "</table>\n",
       "</div>"
      ],
      "text/plain": [
       "      id                所在地   築年数   面積m2          建物構造  間取りID   所在   階層  \\\n",
       "0  31471   東京都世田谷区深沢５丁目1-27  49.0  50.22           鉄骨造     14  8.0  8.0   \n",
       "1  31472    東京都目黒区八雲１丁目11-8   0.2  20.88  RC（鉄筋コンクリート）      9  3.0  4.0   \n",
       "2  31473  東京都豊島区池袋本町２丁目22-2  23.4  26.93           鉄骨造      3  1.0  4.0   \n",
       "3  31474        東京都杉並区和泉１丁目  36.2  23.57            木造      3  1.0  2.0   \n",
       "4  31475       東京都杉並区堀ノ内２丁目  45.4  50.00  RC（鉄筋コンクリート）     14  4.0  4.0   \n",
       "\n",
       "           経度         緯度  部屋数  1部屋当たり面積m2   高さ率  建物構造ID  \n",
       "0  139.652762  35.617708  3.5   14.348571  1.00      10  \n",
       "1  139.672871  35.617709  1.0   20.880000  0.75       3  \n",
       "2  139.709049  35.741996  1.0   26.930000  0.25      10  \n",
       "3  139.658270  35.673602  1.0   23.570000  0.50       7  \n",
       "4  139.650468  35.689411  3.5   14.285714  1.00       3  "
      ]
     },
     "execution_count": 109,
     "metadata": {},
     "output_type": "execute_result"
    }
   ],
   "source": [
    "test_data_1.head()"
   ]
  },
  {
   "cell_type": "code",
   "execution_count": 110,
   "metadata": {},
   "outputs": [],
   "source": [
    "# 不要になった建物構造カラムを削除する\n",
    "train_data_1 = train_data_1.drop('建物構造', axis=1)\n",
    "test_data_1 = test_data_1.drop('建物構造', axis=1)"
   ]
  },
  {
   "cell_type": "markdown",
   "metadata": {},
   "source": [
    "### 2.11. 新規カラムに「賃料/面積」を追加"
   ]
  },
  {
   "cell_type": "code",
   "execution_count": 111,
   "metadata": {},
   "outputs": [],
   "source": [
    "train_data_1[\"賃料/面積\"] = train_data_1[\"賃料\"] / train_data_1[\"面積m2\"]"
   ]
  },
  {
   "cell_type": "code",
   "execution_count": 112,
   "metadata": {},
   "outputs": [
    {
     "data": {
      "text/html": [
       "<div>\n",
       "<style scoped>\n",
       "    .dataframe tbody tr th:only-of-type {\n",
       "        vertical-align: middle;\n",
       "    }\n",
       "\n",
       "    .dataframe tbody tr th {\n",
       "        vertical-align: top;\n",
       "    }\n",
       "\n",
       "    .dataframe thead th {\n",
       "        text-align: right;\n",
       "    }\n",
       "</style>\n",
       "<table border=\"1\" class=\"dataframe\">\n",
       "  <thead>\n",
       "    <tr style=\"text-align: right;\">\n",
       "      <th></th>\n",
       "      <th>id</th>\n",
       "      <th>所在地</th>\n",
       "      <th>賃料</th>\n",
       "      <th>築年数</th>\n",
       "      <th>面積m2</th>\n",
       "      <th>間取りID</th>\n",
       "      <th>所在</th>\n",
       "      <th>階層</th>\n",
       "      <th>経度</th>\n",
       "      <th>緯度</th>\n",
       "      <th>部屋数</th>\n",
       "      <th>1部屋当たり面積m2</th>\n",
       "      <th>高さ率</th>\n",
       "      <th>建物構造ID</th>\n",
       "      <th>賃料/面積</th>\n",
       "    </tr>\n",
       "  </thead>\n",
       "  <tbody>\n",
       "    <tr>\n",
       "      <th>0</th>\n",
       "      <td>1</td>\n",
       "      <td>東京都北区滝野川３丁目</td>\n",
       "      <td>75000</td>\n",
       "      <td>9.9</td>\n",
       "      <td>20.01</td>\n",
       "      <td>3</td>\n",
       "      <td>1.0</td>\n",
       "      <td>12.0</td>\n",
       "      <td>139.727873</td>\n",
       "      <td>35.747759</td>\n",
       "      <td>1.0</td>\n",
       "      <td>20.01</td>\n",
       "      <td>0.083333</td>\n",
       "      <td>3</td>\n",
       "      <td>3748.125937</td>\n",
       "    </tr>\n",
       "    <tr>\n",
       "      <th>1</th>\n",
       "      <td>2</td>\n",
       "      <td>東京都中央区月島３丁目</td>\n",
       "      <td>76000</td>\n",
       "      <td>45.0</td>\n",
       "      <td>16.50</td>\n",
       "      <td>9</td>\n",
       "      <td>5.0</td>\n",
       "      <td>10.0</td>\n",
       "      <td>139.780485</td>\n",
       "      <td>35.662406</td>\n",
       "      <td>1.0</td>\n",
       "      <td>16.50</td>\n",
       "      <td>0.500000</td>\n",
       "      <td>10</td>\n",
       "      <td>4606.060606</td>\n",
       "    </tr>\n",
       "    <tr>\n",
       "      <th>2</th>\n",
       "      <td>3</td>\n",
       "      <td>東京都渋谷区笹塚２丁目</td>\n",
       "      <td>110000</td>\n",
       "      <td>8.6</td>\n",
       "      <td>22.05</td>\n",
       "      <td>3</td>\n",
       "      <td>12.0</td>\n",
       "      <td>15.0</td>\n",
       "      <td>139.667375</td>\n",
       "      <td>35.675358</td>\n",
       "      <td>1.0</td>\n",
       "      <td>22.05</td>\n",
       "      <td>0.800000</td>\n",
       "      <td>3</td>\n",
       "      <td>4988.662132</td>\n",
       "    </tr>\n",
       "    <tr>\n",
       "      <th>3</th>\n",
       "      <td>4</td>\n",
       "      <td>東京都杉並区高円寺南２丁目23-2</td>\n",
       "      <td>150000</td>\n",
       "      <td>29.4</td>\n",
       "      <td>60.48</td>\n",
       "      <td>14</td>\n",
       "      <td>3.0</td>\n",
       "      <td>4.0</td>\n",
       "      <td>139.648495</td>\n",
       "      <td>35.700193</td>\n",
       "      <td>3.5</td>\n",
       "      <td>17.28</td>\n",
       "      <td>0.750000</td>\n",
       "      <td>3</td>\n",
       "      <td>2480.158730</td>\n",
       "    </tr>\n",
       "    <tr>\n",
       "      <th>4</th>\n",
       "      <td>5</td>\n",
       "      <td>東京都葛飾区金町３丁目7-2</td>\n",
       "      <td>74000</td>\n",
       "      <td>31.7</td>\n",
       "      <td>39.66</td>\n",
       "      <td>10</td>\n",
       "      <td>1.0</td>\n",
       "      <td>2.0</td>\n",
       "      <td>139.872315</td>\n",
       "      <td>35.766413</td>\n",
       "      <td>3.0</td>\n",
       "      <td>13.22</td>\n",
       "      <td>0.500000</td>\n",
       "      <td>7</td>\n",
       "      <td>1865.859808</td>\n",
       "    </tr>\n",
       "  </tbody>\n",
       "</table>\n",
       "</div>"
      ],
      "text/plain": [
       "   id                所在地      賃料   築年数   面積m2  間取りID    所在    階層          経度  \\\n",
       "0   1        東京都北区滝野川３丁目   75000   9.9  20.01      3   1.0  12.0  139.727873   \n",
       "1   2        東京都中央区月島３丁目   76000  45.0  16.50      9   5.0  10.0  139.780485   \n",
       "2   3        東京都渋谷区笹塚２丁目  110000   8.6  22.05      3  12.0  15.0  139.667375   \n",
       "3   4  東京都杉並区高円寺南２丁目23-2  150000  29.4  60.48     14   3.0   4.0  139.648495   \n",
       "4   5     東京都葛飾区金町３丁目7-2   74000  31.7  39.66     10   1.0   2.0  139.872315   \n",
       "\n",
       "          緯度  部屋数  1部屋当たり面積m2       高さ率  建物構造ID        賃料/面積  \n",
       "0  35.747759  1.0       20.01  0.083333       3  3748.125937  \n",
       "1  35.662406  1.0       16.50  0.500000      10  4606.060606  \n",
       "2  35.675358  1.0       22.05  0.800000       3  4988.662132  \n",
       "3  35.700193  3.5       17.28  0.750000       3  2480.158730  \n",
       "4  35.766413  3.0       13.22  0.500000       7  1865.859808  "
      ]
     },
     "execution_count": 112,
     "metadata": {},
     "output_type": "execute_result"
    }
   ],
   "source": [
    "train_data_1.head()"
   ]
  },
  {
   "cell_type": "markdown",
   "metadata": {},
   "source": [
    "### 2.12. 東京23区の地域ごとに、住宅地の平均地価情報を追加"
   ]
  },
  {
   "cell_type": "code",
   "execution_count": 113,
   "metadata": {},
   "outputs": [],
   "source": [
    "# 区の情報の確認(23区だけだった)\n",
    "# sample = train_data[\"所在地\"].str.extract(\"東京都(.+区)\", expand=True)\n",
    "# sample.value_counts()"
   ]
  },
  {
   "cell_type": "code",
   "execution_count": 114,
   "metadata": {},
   "outputs": [
    {
     "name": "stdout",
     "output_type": "stream",
     "text": [
      "31470\n",
      "31262\n"
     ]
    }
   ],
   "source": [
    "print(len(train_data_1))\n",
    "print(len(test_data_1))"
   ]
  },
  {
   "cell_type": "code",
   "execution_count": 115,
   "metadata": {},
   "outputs": [],
   "source": [
    "# 訓練データとテストデータに、エリア情報を追加\n",
    "train_data_1[\"エリア\"] = \"\"\n",
    "test_data_1[\"エリア\"] = \"\"\n",
    "train_data_1[\"エリア\"] = train_data_1[\"所在地\"].str.extract(\"東京都((.+区.+?)[０-９]|(.+区.+?)[0-9]|(.+区.+))\", expand=True)\n",
    "test_data_1[\"エリア\"] = test_data_1[\"所在地\"].str.extract(\"東京都((.+区.+?)[０-９]|(.+区.+?)[0-9]|(.+区.+))\", expand=True)"
   ]
  },
  {
   "cell_type": "code",
   "execution_count": 116,
   "metadata": {},
   "outputs": [
    {
     "name": "stdout",
     "output_type": "stream",
     "text": [
      "31470\n",
      "31262\n"
     ]
    }
   ],
   "source": [
    "print(len(train_data_1))\n",
    "print(len(test_data_1))"
   ]
  },
  {
   "cell_type": "code",
   "execution_count": 117,
   "metadata": {},
   "outputs": [
    {
     "name": "stderr",
     "output_type": "stream",
     "text": [
      "C:\\ProgramData\\Anaconda3\\lib\\site-packages\\ipykernel_launcher.py:2: FutureWarning: The default value of regex will change from True to False in a future version.\n",
      "  \n",
      "C:\\ProgramData\\Anaconda3\\lib\\site-packages\\ipykernel_launcher.py:6: FutureWarning: The default value of regex will change from True to False in a future version.\n",
      "  \n"
     ]
    }
   ],
   "source": [
    "# 一部エリア情報に数値が残ってしまうので、消す\n",
    "train_data_1[\"エリア\"] = train_data_1[\"エリア\"].str.replace(\"[０-９]|[0-9]\", \"\")\n",
    "train_data_1[\"エリア\"] = train_data_1[\"エリア\"].str.replace(\"一丁目\", \"\")\n",
    "train_data_1[\"エリア\"] = train_data_1[\"エリア\"].str.replace(\"-\", \"\")\n",
    "\n",
    "test_data_1[\"エリア\"] = test_data_1[\"エリア\"].str.replace(\"[０-９]|[0-9]\", \"\")\n",
    "test_data_1[\"エリア\"] = test_data_1[\"エリア\"].str.replace(\"一丁目\", \"\")\n",
    "test_data_1[\"エリア\"] = test_data_1[\"エリア\"].str.replace(\"二丁目\", \"\")\n",
    "test_data_1[\"エリア\"] = test_data_1[\"エリア\"].str.replace(\"四丁目\", \"\")"
   ]
  },
  {
   "cell_type": "code",
   "execution_count": 118,
   "metadata": {},
   "outputs": [
    {
     "name": "stdout",
     "output_type": "stream",
     "text": [
      "31470\n",
      "31262\n"
     ]
    }
   ],
   "source": [
    "print(len(train_data_1))\n",
    "print(len(test_data_1))"
   ]
  },
  {
   "cell_type": "code",
   "execution_count": 119,
   "metadata": {},
   "outputs": [],
   "source": [
    "# 坪単価情報の読込～結合\n",
    "wards_value = pd.read_excel(\"23区_地域毎_坪単価.xlsx\")\n",
    "train_data_1 = pd.merge(train_data_1, wards_value, on=\"エリア\", how=\"left\")\n",
    "test_data_1 = pd.merge(test_data_1, wards_value, on=\"エリア\", how=\"left\")\n",
    "train_data_1 = train_data_1.sort_values(\"id\")\n",
    "test_data_1 = test_data_1.sort_values(\"id\")"
   ]
  },
  {
   "cell_type": "code",
   "execution_count": 120,
   "metadata": {},
   "outputs": [],
   "source": [
    "# 地価の抜けデータを平均値で補間\n",
    "# 江東区\n",
    "train_data_1.loc[train_data_1[\"id\"]==2767, \"平均坪単価（万円）\"] = 206.6\n",
    "train_data_1.loc[train_data_1[\"id\"]==7559, \"平均坪単価（万円）\"] = 206.6\n",
    "# 港区\n",
    "train_data_1.loc[train_data_1[\"id\"]==17654, \"平均坪単価（万円）\"] = 1321.4"
   ]
  },
  {
   "cell_type": "code",
   "execution_count": 121,
   "metadata": {},
   "outputs": [
    {
     "name": "stdout",
     "output_type": "stream",
     "text": [
      "31470\n",
      "31262\n"
     ]
    }
   ],
   "source": [
    "print(len(train_data_1))\n",
    "print(len(test_data_1))"
   ]
  },
  {
   "cell_type": "code",
   "execution_count": 122,
   "metadata": {},
   "outputs": [
    {
     "name": "stdout",
     "output_type": "stream",
     "text": [
      "Empty DataFrame\n",
      "Columns: [id, 所在地, 賃料, 築年数, 面積m2, 間取りID, 所在, 階層, 経度, 緯度, 部屋数, 1部屋当たり面積m2, 高さ率, 建物構造ID, 賃料/面積, エリア, 区, 地名, 平均坪単価（万円）, Unnamed: 4]\n",
      "Index: []\n",
      "Empty DataFrame\n",
      "Columns: [id, 所在地, 築年数, 面積m2, 間取りID, 所在, 階層, 経度, 緯度, 部屋数, 1部屋当たり面積m2, 高さ率, 建物構造ID, エリア, 区, 地名, 平均坪単価（万円）, Unnamed: 4]\n",
      "Index: []\n"
     ]
    }
   ],
   "source": [
    "print(train_data_1[train_data_1[\"平均坪単価（万円）\"].isnull()])\n",
    "print(test_data_1[test_data_1[\"平均坪単価（万円）\"].isnull()])"
   ]
  },
  {
   "cell_type": "code",
   "execution_count": 123,
   "metadata": {},
   "outputs": [
    {
     "data": {
      "text/html": [
       "<div>\n",
       "<style scoped>\n",
       "    .dataframe tbody tr th:only-of-type {\n",
       "        vertical-align: middle;\n",
       "    }\n",
       "\n",
       "    .dataframe tbody tr th {\n",
       "        vertical-align: top;\n",
       "    }\n",
       "\n",
       "    .dataframe thead th {\n",
       "        text-align: right;\n",
       "    }\n",
       "</style>\n",
       "<table border=\"1\" class=\"dataframe\">\n",
       "  <thead>\n",
       "    <tr style=\"text-align: right;\">\n",
       "      <th></th>\n",
       "      <th>id</th>\n",
       "      <th>所在地</th>\n",
       "      <th>築年数</th>\n",
       "      <th>面積m2</th>\n",
       "      <th>間取りID</th>\n",
       "      <th>所在</th>\n",
       "      <th>階層</th>\n",
       "      <th>経度</th>\n",
       "      <th>緯度</th>\n",
       "      <th>部屋数</th>\n",
       "      <th>1部屋当たり面積m2</th>\n",
       "      <th>高さ率</th>\n",
       "      <th>建物構造ID</th>\n",
       "      <th>エリア</th>\n",
       "      <th>区</th>\n",
       "      <th>地名</th>\n",
       "      <th>平均坪単価（万円）</th>\n",
       "      <th>Unnamed: 4</th>\n",
       "    </tr>\n",
       "  </thead>\n",
       "  <tbody>\n",
       "    <tr>\n",
       "      <th>0</th>\n",
       "      <td>31471</td>\n",
       "      <td>東京都世田谷区深沢５丁目1-27</td>\n",
       "      <td>49.0</td>\n",
       "      <td>50.22</td>\n",
       "      <td>14</td>\n",
       "      <td>8.0</td>\n",
       "      <td>8.0</td>\n",
       "      <td>139.652762</td>\n",
       "      <td>35.617708</td>\n",
       "      <td>3.5</td>\n",
       "      <td>14.348571</td>\n",
       "      <td>1.000000</td>\n",
       "      <td>10</td>\n",
       "      <td>世田谷区深沢</td>\n",
       "      <td>世田谷区</td>\n",
       "      <td>深沢</td>\n",
       "      <td>208.0</td>\n",
       "      <td>NaN</td>\n",
       "    </tr>\n",
       "    <tr>\n",
       "      <th>1</th>\n",
       "      <td>31472</td>\n",
       "      <td>東京都目黒区八雲１丁目11-8</td>\n",
       "      <td>0.2</td>\n",
       "      <td>20.88</td>\n",
       "      <td>9</td>\n",
       "      <td>3.0</td>\n",
       "      <td>4.0</td>\n",
       "      <td>139.672871</td>\n",
       "      <td>35.617709</td>\n",
       "      <td>1.0</td>\n",
       "      <td>20.880000</td>\n",
       "      <td>0.750000</td>\n",
       "      <td>3</td>\n",
       "      <td>目黒区八雲</td>\n",
       "      <td>目黒区</td>\n",
       "      <td>八雲</td>\n",
       "      <td>273.0</td>\n",
       "      <td>NaN</td>\n",
       "    </tr>\n",
       "    <tr>\n",
       "      <th>2</th>\n",
       "      <td>31473</td>\n",
       "      <td>東京都豊島区池袋本町２丁目22-2</td>\n",
       "      <td>23.4</td>\n",
       "      <td>26.93</td>\n",
       "      <td>3</td>\n",
       "      <td>1.0</td>\n",
       "      <td>4.0</td>\n",
       "      <td>139.709049</td>\n",
       "      <td>35.741996</td>\n",
       "      <td>1.0</td>\n",
       "      <td>26.930000</td>\n",
       "      <td>0.250000</td>\n",
       "      <td>10</td>\n",
       "      <td>豊島区池袋本町</td>\n",
       "      <td>豊島区</td>\n",
       "      <td>池袋本町</td>\n",
       "      <td>186.0</td>\n",
       "      <td>NaN</td>\n",
       "    </tr>\n",
       "    <tr>\n",
       "      <th>3</th>\n",
       "      <td>31474</td>\n",
       "      <td>東京都杉並区和泉１丁目</td>\n",
       "      <td>36.2</td>\n",
       "      <td>23.57</td>\n",
       "      <td>3</td>\n",
       "      <td>1.0</td>\n",
       "      <td>2.0</td>\n",
       "      <td>139.658270</td>\n",
       "      <td>35.673602</td>\n",
       "      <td>1.0</td>\n",
       "      <td>23.570000</td>\n",
       "      <td>0.500000</td>\n",
       "      <td>7</td>\n",
       "      <td>杉並区和泉</td>\n",
       "      <td>杉並区</td>\n",
       "      <td>和泉</td>\n",
       "      <td>184.0</td>\n",
       "      <td>NaN</td>\n",
       "    </tr>\n",
       "    <tr>\n",
       "      <th>4</th>\n",
       "      <td>31475</td>\n",
       "      <td>東京都杉並区堀ノ内２丁目</td>\n",
       "      <td>45.4</td>\n",
       "      <td>50.00</td>\n",
       "      <td>14</td>\n",
       "      <td>4.0</td>\n",
       "      <td>4.0</td>\n",
       "      <td>139.650468</td>\n",
       "      <td>35.689411</td>\n",
       "      <td>3.5</td>\n",
       "      <td>14.285714</td>\n",
       "      <td>1.000000</td>\n",
       "      <td>3</td>\n",
       "      <td>杉並区堀ノ内</td>\n",
       "      <td>杉並区</td>\n",
       "      <td>堀ノ内</td>\n",
       "      <td>145.0</td>\n",
       "      <td>NaN</td>\n",
       "    </tr>\n",
       "    <tr>\n",
       "      <th>...</th>\n",
       "      <td>...</td>\n",
       "      <td>...</td>\n",
       "      <td>...</td>\n",
       "      <td>...</td>\n",
       "      <td>...</td>\n",
       "      <td>...</td>\n",
       "      <td>...</td>\n",
       "      <td>...</td>\n",
       "      <td>...</td>\n",
       "      <td>...</td>\n",
       "      <td>...</td>\n",
       "      <td>...</td>\n",
       "      <td>...</td>\n",
       "      <td>...</td>\n",
       "      <td>...</td>\n",
       "      <td>...</td>\n",
       "      <td>...</td>\n",
       "      <td>...</td>\n",
       "    </tr>\n",
       "    <tr>\n",
       "      <th>31257</th>\n",
       "      <td>62728</td>\n",
       "      <td>東京都豊島区上池袋４丁目</td>\n",
       "      <td>0.1</td>\n",
       "      <td>25.66</td>\n",
       "      <td>3</td>\n",
       "      <td>6.0</td>\n",
       "      <td>8.0</td>\n",
       "      <td>139.718979</td>\n",
       "      <td>35.741285</td>\n",
       "      <td>1.0</td>\n",
       "      <td>25.660000</td>\n",
       "      <td>0.750000</td>\n",
       "      <td>3</td>\n",
       "      <td>豊島区上池袋</td>\n",
       "      <td>豊島区</td>\n",
       "      <td>上池袋</td>\n",
       "      <td>190.0</td>\n",
       "      <td>NaN</td>\n",
       "    </tr>\n",
       "    <tr>\n",
       "      <th>31258</th>\n",
       "      <td>62729</td>\n",
       "      <td>東京都千代田区岩本町２丁目</td>\n",
       "      <td>15.6</td>\n",
       "      <td>22.71</td>\n",
       "      <td>9</td>\n",
       "      <td>8.0</td>\n",
       "      <td>15.0</td>\n",
       "      <td>139.776177</td>\n",
       "      <td>35.693717</td>\n",
       "      <td>1.0</td>\n",
       "      <td>22.710000</td>\n",
       "      <td>0.533333</td>\n",
       "      <td>3</td>\n",
       "      <td>千代田区岩本町</td>\n",
       "      <td>千代田区</td>\n",
       "      <td>岩本町</td>\n",
       "      <td>447.0</td>\n",
       "      <td>NaN</td>\n",
       "    </tr>\n",
       "    <tr>\n",
       "      <th>31259</th>\n",
       "      <td>62730</td>\n",
       "      <td>東京都中野区江古田３丁目14-3</td>\n",
       "      <td>1.0</td>\n",
       "      <td>45.76</td>\n",
       "      <td>5</td>\n",
       "      <td>10.0</td>\n",
       "      <td>14.0</td>\n",
       "      <td>139.667395</td>\n",
       "      <td>35.727602</td>\n",
       "      <td>2.5</td>\n",
       "      <td>18.304000</td>\n",
       "      <td>0.714286</td>\n",
       "      <td>3</td>\n",
       "      <td>中野区江古田</td>\n",
       "      <td>中野区</td>\n",
       "      <td>江古田</td>\n",
       "      <td>167.0</td>\n",
       "      <td>NaN</td>\n",
       "    </tr>\n",
       "    <tr>\n",
       "      <th>31260</th>\n",
       "      <td>62731</td>\n",
       "      <td>東京都千代田区二番町</td>\n",
       "      <td>15.4</td>\n",
       "      <td>55.20</td>\n",
       "      <td>3</td>\n",
       "      <td>14.0</td>\n",
       "      <td>14.0</td>\n",
       "      <td>139.734508</td>\n",
       "      <td>35.686078</td>\n",
       "      <td>1.0</td>\n",
       "      <td>55.200000</td>\n",
       "      <td>1.000000</td>\n",
       "      <td>4</td>\n",
       "      <td>千代田区二番町</td>\n",
       "      <td>千代田区</td>\n",
       "      <td>二番町</td>\n",
       "      <td>628.0</td>\n",
       "      <td>NaN</td>\n",
       "    </tr>\n",
       "    <tr>\n",
       "      <th>31261</th>\n",
       "      <td>62732</td>\n",
       "      <td>東京都大田区南馬込６丁目</td>\n",
       "      <td>16.3</td>\n",
       "      <td>21.18</td>\n",
       "      <td>3</td>\n",
       "      <td>5.0</td>\n",
       "      <td>5.0</td>\n",
       "      <td>139.708991</td>\n",
       "      <td>35.583653</td>\n",
       "      <td>1.0</td>\n",
       "      <td>21.180000</td>\n",
       "      <td>1.000000</td>\n",
       "      <td>3</td>\n",
       "      <td>大田区南馬込</td>\n",
       "      <td>大田区</td>\n",
       "      <td>南馬込</td>\n",
       "      <td>175.0</td>\n",
       "      <td>NaN</td>\n",
       "    </tr>\n",
       "  </tbody>\n",
       "</table>\n",
       "<p>31262 rows × 18 columns</p>\n",
       "</div>"
      ],
      "text/plain": [
       "          id                所在地   築年数   面積m2  間取りID    所在    階層          経度  \\\n",
       "0      31471   東京都世田谷区深沢５丁目1-27  49.0  50.22     14   8.0   8.0  139.652762   \n",
       "1      31472    東京都目黒区八雲１丁目11-8   0.2  20.88      9   3.0   4.0  139.672871   \n",
       "2      31473  東京都豊島区池袋本町２丁目22-2  23.4  26.93      3   1.0   4.0  139.709049   \n",
       "3      31474        東京都杉並区和泉１丁目  36.2  23.57      3   1.0   2.0  139.658270   \n",
       "4      31475       東京都杉並区堀ノ内２丁目  45.4  50.00     14   4.0   4.0  139.650468   \n",
       "...      ...                ...   ...    ...    ...   ...   ...         ...   \n",
       "31257  62728       東京都豊島区上池袋４丁目   0.1  25.66      3   6.0   8.0  139.718979   \n",
       "31258  62729      東京都千代田区岩本町２丁目  15.6  22.71      9   8.0  15.0  139.776177   \n",
       "31259  62730   東京都中野区江古田３丁目14-3   1.0  45.76      5  10.0  14.0  139.667395   \n",
       "31260  62731         東京都千代田区二番町  15.4  55.20      3  14.0  14.0  139.734508   \n",
       "31261  62732       東京都大田区南馬込６丁目  16.3  21.18      3   5.0   5.0  139.708991   \n",
       "\n",
       "              緯度  部屋数  1部屋当たり面積m2       高さ率  建物構造ID      エリア     区    地名  \\\n",
       "0      35.617708  3.5   14.348571  1.000000      10   世田谷区深沢  世田谷区    深沢   \n",
       "1      35.617709  1.0   20.880000  0.750000       3    目黒区八雲   目黒区    八雲   \n",
       "2      35.741996  1.0   26.930000  0.250000      10  豊島区池袋本町   豊島区  池袋本町   \n",
       "3      35.673602  1.0   23.570000  0.500000       7    杉並区和泉   杉並区    和泉   \n",
       "4      35.689411  3.5   14.285714  1.000000       3   杉並区堀ノ内   杉並区   堀ノ内   \n",
       "...          ...  ...         ...       ...     ...      ...   ...   ...   \n",
       "31257  35.741285  1.0   25.660000  0.750000       3   豊島区上池袋   豊島区   上池袋   \n",
       "31258  35.693717  1.0   22.710000  0.533333       3  千代田区岩本町  千代田区   岩本町   \n",
       "31259  35.727602  2.5   18.304000  0.714286       3   中野区江古田   中野区   江古田   \n",
       "31260  35.686078  1.0   55.200000  1.000000       4  千代田区二番町  千代田区   二番町   \n",
       "31261  35.583653  1.0   21.180000  1.000000       3   大田区南馬込   大田区   南馬込   \n",
       "\n",
       "       平均坪単価（万円）  Unnamed: 4  \n",
       "0          208.0         NaN  \n",
       "1          273.0         NaN  \n",
       "2          186.0         NaN  \n",
       "3          184.0         NaN  \n",
       "4          145.0         NaN  \n",
       "...          ...         ...  \n",
       "31257      190.0         NaN  \n",
       "31258      447.0         NaN  \n",
       "31259      167.0         NaN  \n",
       "31260      628.0         NaN  \n",
       "31261      175.0         NaN  \n",
       "\n",
       "[31262 rows x 18 columns]"
      ]
     },
     "execution_count": 123,
     "metadata": {},
     "output_type": "execute_result"
    }
   ],
   "source": [
    "test_data_1"
   ]
  },
  {
   "cell_type": "code",
   "execution_count": 124,
   "metadata": {},
   "outputs": [],
   "source": [
    "# 不要なカラムを削除する\n",
    "train_data_1 = train_data_1.drop([\"所在地\", \"エリア\", \"区\", \"地名\"], axis=1)\n",
    "test_data_1 = test_data_1.drop([\"所在地\", \"エリア\", \"区\", \"地名\"], axis=1)"
   ]
  },
  {
   "cell_type": "markdown",
   "metadata": {},
   "source": [
    "### 2.13. 重複物件の抽出・削除"
   ]
  },
  {
   "cell_type": "code",
   "execution_count": 125,
   "metadata": {},
   "outputs": [],
   "source": [
    "# 重複確認用のデータ出力\n",
    "# train_duplicate = pd.concat([train_data[[\"id\", \"賃料\", \"所在地\"]], train_data_1[[\"間取りID\", \"面積m2\", \"所在\", \"階層\"]]], axis=1)\n",
    "# test_duplicate = pd.concat([test_data[[\"id\", \"所在地\"]], test_data_1[[\"間取りID\", \"面積m2\", \"所在\", \"階層\"]]], axis=1)"
   ]
  },
  {
   "cell_type": "code",
   "execution_count": 126,
   "metadata": {},
   "outputs": [],
   "source": [
    "# 結果の出力\n",
    "# train_duplicate.to_excel(\"train_duplicate.xlsx\", header=True, index=False)\n",
    "# test_duplicate.to_excel(\"test_duplicate.xlsx\", header=True, index=False)"
   ]
  },
  {
   "cell_type": "code",
   "execution_count": 127,
   "metadata": {},
   "outputs": [],
   "source": [
    "# 重複対象のデータ読み込み\n",
    "train_duplicate_flag = pd.read_excel(\"train_duplicate_flag.xlsx\")\n",
    "test_duplicate_flag = pd.read_excel(\"test_duplicate_flag.xlsx\")"
   ]
  },
  {
   "cell_type": "code",
   "execution_count": 128,
   "metadata": {},
   "outputs": [
    {
     "name": "stdout",
     "output_type": "stream",
     "text": [
      "Train: 31470 - 31470 = 0\n",
      "Test: 31262 - 31262 = 0\n"
     ]
    }
   ],
   "source": [
    "# データ数のチェック\n",
    "print(\"Train:\", len(train_data_1), \"-\", len(train_duplicate_flag), \"=\", len(train_data_1)-len(train_duplicate_flag))\n",
    "print(\"Test:\", len(test_data_1), \"-\", len(test_duplicate_flag), \"=\", len(test_data_1)-len(test_duplicate_flag))"
   ]
  },
  {
   "cell_type": "code",
   "execution_count": 129,
   "metadata": {},
   "outputs": [],
   "source": [
    "# 重複フラグを結合\n",
    "train_data_1 = pd.merge(train_data_1, train_duplicate_flag, on=\"id\")\n",
    "train_data_1 = train_data_1.rename(columns={\"賃料_x\":\"賃料\"})\n",
    "train_data_1 = train_data_1.drop('賃料_y', axis=1)\n",
    "\n",
    "test_data_1 = pd.merge(test_data_1, test_duplicate_flag, on=\"id\")"
   ]
  },
  {
   "cell_type": "code",
   "execution_count": 130,
   "metadata": {},
   "outputs": [
    {
     "name": "stdout",
     "output_type": "stream",
     "text": [
      "【削除前】 train: 31470 ,  test: 31262\n",
      "【削除後】 train: 31470 ,  test: 24812\n"
     ]
    }
   ],
   "source": [
    "# testデータからのみ、flag=1.0の列を削除\n",
    "print(\"【削除前】\", \"train:\", len(train_data_1), \", \", \"test:\", len(test_data_1))\n",
    "#train_data_1 = train_data_1.loc[train_data_1[\"flag\"] != 1.0]\n",
    "test_data_1 = test_data_1.loc[test_data_1[\"flag\"] != 1.0]\n",
    "print(\"【削除後】\", \"train:\", len(train_data_1), \", \", \"test:\", len(test_data_1))"
   ]
  },
  {
   "cell_type": "markdown",
   "metadata": {},
   "source": [
    "## 3. データチェック"
   ]
  },
  {
   "cell_type": "code",
   "execution_count": 131,
   "metadata": {},
   "outputs": [
    {
     "data": {
      "text/plain": [
       "id                0\n",
       "賃料                0\n",
       "築年数             889\n",
       "面積m2              0\n",
       "間取りID             0\n",
       "所在              120\n",
       "階層              594\n",
       "経度                0\n",
       "緯度                0\n",
       "部屋数               0\n",
       "1部屋当たり面積m2        0\n",
       "高さ率             714\n",
       "建物構造ID            0\n",
       "賃料/面積             0\n",
       "平均坪単価（万円）         0\n",
       "Unnamed: 4    31470\n",
       "flag          25975\n",
       "dtype: int64"
      ]
     },
     "execution_count": 131,
     "metadata": {},
     "output_type": "execute_result"
    }
   ],
   "source": [
    "train_data_1.isnull().sum()"
   ]
  },
  {
   "cell_type": "code",
   "execution_count": 132,
   "metadata": {},
   "outputs": [
    {
     "data": {
      "text/plain": [
       "id                0\n",
       "築年数             675\n",
       "面積m2              0\n",
       "間取りID             0\n",
       "所在              102\n",
       "階層              476\n",
       "経度                0\n",
       "緯度                0\n",
       "部屋数               0\n",
       "1部屋当たり面積m2        0\n",
       "高さ率             577\n",
       "建物構造ID            0\n",
       "平均坪単価（万円）         0\n",
       "Unnamed: 4    24812\n",
       "flag          24812\n",
       "dtype: int64"
      ]
     },
     "execution_count": 132,
     "metadata": {},
     "output_type": "execute_result"
    }
   ],
   "source": [
    "test_data_1.isnull().sum()"
   ]
  },
  {
   "cell_type": "code",
   "execution_count": 133,
   "metadata": {},
   "outputs": [
    {
     "data": {
      "text/plain": [
       "31470"
      ]
     },
     "execution_count": 133,
     "metadata": {},
     "output_type": "execute_result"
    }
   ],
   "source": [
    "len(train_data_1)"
   ]
  },
  {
   "cell_type": "code",
   "execution_count": 134,
   "metadata": {},
   "outputs": [
    {
     "data": {
      "text/plain": [
       "31470"
      ]
     },
     "execution_count": 134,
     "metadata": {},
     "output_type": "execute_result"
    }
   ],
   "source": [
    "len(train_data)"
   ]
  },
  {
   "cell_type": "code",
   "execution_count": 135,
   "metadata": {},
   "outputs": [
    {
     "data": {
      "text/plain": [
       "24812"
      ]
     },
     "execution_count": 135,
     "metadata": {},
     "output_type": "execute_result"
    }
   ],
   "source": [
    "len(test_data_1)"
   ]
  },
  {
   "cell_type": "code",
   "execution_count": 136,
   "metadata": {},
   "outputs": [
    {
     "data": {
      "text/plain": [
       "31262"
      ]
     },
     "execution_count": 136,
     "metadata": {},
     "output_type": "execute_result"
    }
   ],
   "source": [
    "len(test_data)"
   ]
  },
  {
   "cell_type": "code",
   "execution_count": 137,
   "metadata": {},
   "outputs": [
    {
     "data": {
      "text/html": [
       "<div>\n",
       "<style scoped>\n",
       "    .dataframe tbody tr th:only-of-type {\n",
       "        vertical-align: middle;\n",
       "    }\n",
       "\n",
       "    .dataframe tbody tr th {\n",
       "        vertical-align: top;\n",
       "    }\n",
       "\n",
       "    .dataframe thead th {\n",
       "        text-align: right;\n",
       "    }\n",
       "</style>\n",
       "<table border=\"1\" class=\"dataframe\">\n",
       "  <thead>\n",
       "    <tr style=\"text-align: right;\">\n",
       "      <th></th>\n",
       "      <th>id</th>\n",
       "      <th>賃料</th>\n",
       "      <th>築年数</th>\n",
       "      <th>面積m2</th>\n",
       "      <th>間取りID</th>\n",
       "      <th>所在</th>\n",
       "      <th>階層</th>\n",
       "      <th>経度</th>\n",
       "      <th>緯度</th>\n",
       "      <th>部屋数</th>\n",
       "      <th>1部屋当たり面積m2</th>\n",
       "      <th>高さ率</th>\n",
       "      <th>建物構造ID</th>\n",
       "      <th>賃料/面積</th>\n",
       "      <th>平均坪単価（万円）</th>\n",
       "      <th>Unnamed: 4</th>\n",
       "      <th>flag</th>\n",
       "    </tr>\n",
       "  </thead>\n",
       "  <tbody>\n",
       "    <tr>\n",
       "      <th>0</th>\n",
       "      <td>1</td>\n",
       "      <td>75000</td>\n",
       "      <td>9.9</td>\n",
       "      <td>20.01</td>\n",
       "      <td>3</td>\n",
       "      <td>1.0</td>\n",
       "      <td>12.0</td>\n",
       "      <td>139.727873</td>\n",
       "      <td>35.747759</td>\n",
       "      <td>1.0</td>\n",
       "      <td>20.01</td>\n",
       "      <td>0.083333</td>\n",
       "      <td>3</td>\n",
       "      <td>3748.125937</td>\n",
       "      <td>180.0</td>\n",
       "      <td>NaN</td>\n",
       "      <td>NaN</td>\n",
       "    </tr>\n",
       "    <tr>\n",
       "      <th>1</th>\n",
       "      <td>2</td>\n",
       "      <td>76000</td>\n",
       "      <td>45.0</td>\n",
       "      <td>16.50</td>\n",
       "      <td>9</td>\n",
       "      <td>5.0</td>\n",
       "      <td>10.0</td>\n",
       "      <td>139.780485</td>\n",
       "      <td>35.662406</td>\n",
       "      <td>1.0</td>\n",
       "      <td>16.50</td>\n",
       "      <td>0.500000</td>\n",
       "      <td>10</td>\n",
       "      <td>4606.060606</td>\n",
       "      <td>323.0</td>\n",
       "      <td>NaN</td>\n",
       "      <td>1.0</td>\n",
       "    </tr>\n",
       "    <tr>\n",
       "      <th>2</th>\n",
       "      <td>3</td>\n",
       "      <td>110000</td>\n",
       "      <td>8.6</td>\n",
       "      <td>22.05</td>\n",
       "      <td>3</td>\n",
       "      <td>12.0</td>\n",
       "      <td>15.0</td>\n",
       "      <td>139.667375</td>\n",
       "      <td>35.675358</td>\n",
       "      <td>1.0</td>\n",
       "      <td>22.05</td>\n",
       "      <td>0.800000</td>\n",
       "      <td>3</td>\n",
       "      <td>4988.662132</td>\n",
       "      <td>324.0</td>\n",
       "      <td>NaN</td>\n",
       "      <td>NaN</td>\n",
       "    </tr>\n",
       "    <tr>\n",
       "      <th>3</th>\n",
       "      <td>4</td>\n",
       "      <td>150000</td>\n",
       "      <td>29.4</td>\n",
       "      <td>60.48</td>\n",
       "      <td>14</td>\n",
       "      <td>3.0</td>\n",
       "      <td>4.0</td>\n",
       "      <td>139.648495</td>\n",
       "      <td>35.700193</td>\n",
       "      <td>3.5</td>\n",
       "      <td>17.28</td>\n",
       "      <td>0.750000</td>\n",
       "      <td>3</td>\n",
       "      <td>2480.158730</td>\n",
       "      <td>253.0</td>\n",
       "      <td>NaN</td>\n",
       "      <td>NaN</td>\n",
       "    </tr>\n",
       "    <tr>\n",
       "      <th>4</th>\n",
       "      <td>5</td>\n",
       "      <td>74000</td>\n",
       "      <td>31.7</td>\n",
       "      <td>39.66</td>\n",
       "      <td>10</td>\n",
       "      <td>1.0</td>\n",
       "      <td>2.0</td>\n",
       "      <td>139.872315</td>\n",
       "      <td>35.766413</td>\n",
       "      <td>3.0</td>\n",
       "      <td>13.22</td>\n",
       "      <td>0.500000</td>\n",
       "      <td>7</td>\n",
       "      <td>1865.859808</td>\n",
       "      <td>111.0</td>\n",
       "      <td>NaN</td>\n",
       "      <td>NaN</td>\n",
       "    </tr>\n",
       "  </tbody>\n",
       "</table>\n",
       "</div>"
      ],
      "text/plain": [
       "   id      賃料   築年数   面積m2  間取りID    所在    階層          経度         緯度  部屋数  \\\n",
       "0   1   75000   9.9  20.01      3   1.0  12.0  139.727873  35.747759  1.0   \n",
       "1   2   76000  45.0  16.50      9   5.0  10.0  139.780485  35.662406  1.0   \n",
       "2   3  110000   8.6  22.05      3  12.0  15.0  139.667375  35.675358  1.0   \n",
       "3   4  150000  29.4  60.48     14   3.0   4.0  139.648495  35.700193  3.5   \n",
       "4   5   74000  31.7  39.66     10   1.0   2.0  139.872315  35.766413  3.0   \n",
       "\n",
       "   1部屋当たり面積m2       高さ率  建物構造ID        賃料/面積  平均坪単価（万円）  Unnamed: 4  flag  \n",
       "0       20.01  0.083333       3  3748.125937      180.0         NaN   NaN  \n",
       "1       16.50  0.500000      10  4606.060606      323.0         NaN   1.0  \n",
       "2       22.05  0.800000       3  4988.662132      324.0         NaN   NaN  \n",
       "3       17.28  0.750000       3  2480.158730      253.0         NaN   NaN  \n",
       "4       13.22  0.500000       7  1865.859808      111.0         NaN   NaN  "
      ]
     },
     "execution_count": 137,
     "metadata": {},
     "output_type": "execute_result"
    }
   ],
   "source": [
    "train_data_1.head()"
   ]
  },
  {
   "cell_type": "code",
   "execution_count": 138,
   "metadata": {},
   "outputs": [
    {
     "data": {
      "text/html": [
       "<div>\n",
       "<style scoped>\n",
       "    .dataframe tbody tr th:only-of-type {\n",
       "        vertical-align: middle;\n",
       "    }\n",
       "\n",
       "    .dataframe tbody tr th {\n",
       "        vertical-align: top;\n",
       "    }\n",
       "\n",
       "    .dataframe thead th {\n",
       "        text-align: right;\n",
       "    }\n",
       "</style>\n",
       "<table border=\"1\" class=\"dataframe\">\n",
       "  <thead>\n",
       "    <tr style=\"text-align: right;\">\n",
       "      <th></th>\n",
       "      <th>id</th>\n",
       "      <th>築年数</th>\n",
       "      <th>面積m2</th>\n",
       "      <th>間取りID</th>\n",
       "      <th>所在</th>\n",
       "      <th>階層</th>\n",
       "      <th>経度</th>\n",
       "      <th>緯度</th>\n",
       "      <th>部屋数</th>\n",
       "      <th>1部屋当たり面積m2</th>\n",
       "      <th>高さ率</th>\n",
       "      <th>建物構造ID</th>\n",
       "      <th>平均坪単価（万円）</th>\n",
       "      <th>Unnamed: 4</th>\n",
       "      <th>flag</th>\n",
       "    </tr>\n",
       "  </thead>\n",
       "  <tbody>\n",
       "    <tr>\n",
       "      <th>0</th>\n",
       "      <td>31471</td>\n",
       "      <td>49.0</td>\n",
       "      <td>50.22</td>\n",
       "      <td>14</td>\n",
       "      <td>8.0</td>\n",
       "      <td>8.0</td>\n",
       "      <td>139.652762</td>\n",
       "      <td>35.617708</td>\n",
       "      <td>3.5</td>\n",
       "      <td>14.348571</td>\n",
       "      <td>1.00</td>\n",
       "      <td>10</td>\n",
       "      <td>208.0</td>\n",
       "      <td>NaN</td>\n",
       "      <td>NaN</td>\n",
       "    </tr>\n",
       "    <tr>\n",
       "      <th>1</th>\n",
       "      <td>31472</td>\n",
       "      <td>0.2</td>\n",
       "      <td>20.88</td>\n",
       "      <td>9</td>\n",
       "      <td>3.0</td>\n",
       "      <td>4.0</td>\n",
       "      <td>139.672871</td>\n",
       "      <td>35.617709</td>\n",
       "      <td>1.0</td>\n",
       "      <td>20.880000</td>\n",
       "      <td>0.75</td>\n",
       "      <td>3</td>\n",
       "      <td>273.0</td>\n",
       "      <td>NaN</td>\n",
       "      <td>NaN</td>\n",
       "    </tr>\n",
       "    <tr>\n",
       "      <th>2</th>\n",
       "      <td>31473</td>\n",
       "      <td>23.4</td>\n",
       "      <td>26.93</td>\n",
       "      <td>3</td>\n",
       "      <td>1.0</td>\n",
       "      <td>4.0</td>\n",
       "      <td>139.709049</td>\n",
       "      <td>35.741996</td>\n",
       "      <td>1.0</td>\n",
       "      <td>26.930000</td>\n",
       "      <td>0.25</td>\n",
       "      <td>10</td>\n",
       "      <td>186.0</td>\n",
       "      <td>NaN</td>\n",
       "      <td>NaN</td>\n",
       "    </tr>\n",
       "    <tr>\n",
       "      <th>3</th>\n",
       "      <td>31474</td>\n",
       "      <td>36.2</td>\n",
       "      <td>23.57</td>\n",
       "      <td>3</td>\n",
       "      <td>1.0</td>\n",
       "      <td>2.0</td>\n",
       "      <td>139.658270</td>\n",
       "      <td>35.673602</td>\n",
       "      <td>1.0</td>\n",
       "      <td>23.570000</td>\n",
       "      <td>0.50</td>\n",
       "      <td>7</td>\n",
       "      <td>184.0</td>\n",
       "      <td>NaN</td>\n",
       "      <td>NaN</td>\n",
       "    </tr>\n",
       "    <tr>\n",
       "      <th>5</th>\n",
       "      <td>31476</td>\n",
       "      <td>25.6</td>\n",
       "      <td>21.45</td>\n",
       "      <td>9</td>\n",
       "      <td>1.0</td>\n",
       "      <td>2.0</td>\n",
       "      <td>139.686023</td>\n",
       "      <td>35.691395</td>\n",
       "      <td>1.0</td>\n",
       "      <td>21.450000</td>\n",
       "      <td>0.50</td>\n",
       "      <td>7</td>\n",
       "      <td>294.0</td>\n",
       "      <td>NaN</td>\n",
       "      <td>NaN</td>\n",
       "    </tr>\n",
       "  </tbody>\n",
       "</table>\n",
       "</div>"
      ],
      "text/plain": [
       "      id   築年数   面積m2  間取りID   所在   階層          経度         緯度  部屋数  \\\n",
       "0  31471  49.0  50.22     14  8.0  8.0  139.652762  35.617708  3.5   \n",
       "1  31472   0.2  20.88      9  3.0  4.0  139.672871  35.617709  1.0   \n",
       "2  31473  23.4  26.93      3  1.0  4.0  139.709049  35.741996  1.0   \n",
       "3  31474  36.2  23.57      3  1.0  2.0  139.658270  35.673602  1.0   \n",
       "5  31476  25.6  21.45      9  1.0  2.0  139.686023  35.691395  1.0   \n",
       "\n",
       "   1部屋当たり面積m2   高さ率  建物構造ID  平均坪単価（万円）  Unnamed: 4  flag  \n",
       "0   14.348571  1.00      10      208.0         NaN   NaN  \n",
       "1   20.880000  0.75       3      273.0         NaN   NaN  \n",
       "2   26.930000  0.25      10      186.0         NaN   NaN  \n",
       "3   23.570000  0.50       7      184.0         NaN   NaN  \n",
       "5   21.450000  0.50       7      294.0         NaN   NaN  "
      ]
     },
     "execution_count": 138,
     "metadata": {},
     "output_type": "execute_result"
    }
   ],
   "source": [
    "test_data_1.head()"
   ]
  },
  {
   "cell_type": "markdown",
   "metadata": {},
   "source": [
    "## 4.学習 "
   ]
  },
  {
   "cell_type": "code",
   "execution_count": 139,
   "metadata": {},
   "outputs": [],
   "source": [
    "# IDとflagの削除\n",
    "train_data_1_no_ID = train_data_1.drop([\"id\", \"flag\"], axis=1)\n",
    "test_data_1_no_ID = test_data_1.drop([\"id\", \"flag\"], axis=1)"
   ]
  },
  {
   "cell_type": "code",
   "execution_count": 140,
   "metadata": {},
   "outputs": [],
   "source": [
    "# 特徴データと目的変数の設定\n",
    "train_x = train_data_1_no_ID.drop([\"賃料\", \"賃料/面積\"], axis=1)\n",
    "train_y = train_data_1_no_ID[\"賃料/面積\"]\n",
    "\n",
    "test_x = test_data_1_no_ID"
   ]
  },
  {
   "cell_type": "markdown",
   "metadata": {},
   "source": [
    "## 5. 検証"
   ]
  },
  {
   "cell_type": "code",
   "execution_count": 141,
   "metadata": {
    "collapsed": true,
    "jupyter": {
     "outputs_hidden": true
    }
   },
   "outputs": [
    {
     "name": "stdout",
     "output_type": "stream",
     "text": [
      "[22:47:53] WARNING: C:/Users/Administrator/workspace/xgboost-win64_release_1.4.0/src/learner.cc:573: \n",
      "Parameters: { \"sileng\" } might not be used.\n",
      "\n",
      "  This may not be accurate due to some parameters are only used in language bindings but\n",
      "  passed down to XGBoost core.  Or some parameters are not used but slip through this\n",
      "  verification. Please open an issue if you find above cases.\n",
      "\n",
      "\n",
      "[0]\ttrain-rmse:2640.36523\teval-rmse:2611.47949\n",
      "[1]\ttrain-rmse:1896.71301\teval-rmse:1863.72803\n",
      "[2]\ttrain-rmse:1389.13074\teval-rmse:1348.64636\n",
      "[3]\ttrain-rmse:1046.02063\teval-rmse:997.99597\n",
      "[4]\ttrain-rmse:817.08539\teval-rmse:768.11401\n",
      "[5]\ttrain-rmse:673.70801\teval-rmse:621.92511\n",
      "[6]\ttrain-rmse:584.24029\teval-rmse:530.89502\n",
      "[7]\ttrain-rmse:534.60059\teval-rmse:477.87518\n",
      "[8]\ttrain-rmse:495.94836\teval-rmse:444.45807\n",
      "[9]\ttrain-rmse:476.63791\teval-rmse:426.53046\n",
      "[10]\ttrain-rmse:464.63992\teval-rmse:415.60703\n",
      "[11]\ttrain-rmse:455.88382\teval-rmse:407.79843\n",
      "[12]\ttrain-rmse:449.20676\teval-rmse:402.31564\n",
      "[13]\ttrain-rmse:445.02896\teval-rmse:398.71457\n",
      "[14]\ttrain-rmse:437.31482\teval-rmse:397.98645\n",
      "[15]\ttrain-rmse:434.39514\teval-rmse:395.44968\n",
      "[16]\ttrain-rmse:429.05106\teval-rmse:393.41202\n",
      "[17]\ttrain-rmse:426.10168\teval-rmse:390.52100\n",
      "[18]\ttrain-rmse:423.69086\teval-rmse:389.50775\n",
      "[19]\ttrain-rmse:420.07645\teval-rmse:388.58408\n",
      "[20]\ttrain-rmse:416.60971\teval-rmse:385.06711\n",
      "[21]\ttrain-rmse:414.59247\teval-rmse:383.11948\n",
      "[22]\ttrain-rmse:412.66830\teval-rmse:382.09781\n",
      "[23]\ttrain-rmse:409.94333\teval-rmse:380.89301\n",
      "[24]\ttrain-rmse:407.91086\teval-rmse:378.93631\n",
      "[25]\ttrain-rmse:405.52167\teval-rmse:378.28805\n",
      "[26]\ttrain-rmse:403.85113\teval-rmse:376.77792\n",
      "[27]\ttrain-rmse:403.10144\teval-rmse:376.31930\n",
      "[28]\ttrain-rmse:400.15503\teval-rmse:374.50140\n",
      "[29]\ttrain-rmse:397.92246\teval-rmse:372.29273\n",
      "[30]\ttrain-rmse:396.81641\teval-rmse:371.18304\n",
      "[31]\ttrain-rmse:395.58844\teval-rmse:370.74439\n",
      "[32]\ttrain-rmse:394.83344\teval-rmse:370.15646\n",
      "[33]\ttrain-rmse:393.57123\teval-rmse:369.05154\n",
      "[34]\ttrain-rmse:393.32986\teval-rmse:369.05188\n",
      "[35]\ttrain-rmse:392.51932\teval-rmse:368.49716\n",
      "[36]\ttrain-rmse:391.49667\teval-rmse:368.28796\n",
      "[37]\ttrain-rmse:389.88663\teval-rmse:367.39203\n",
      "[38]\ttrain-rmse:388.83402\teval-rmse:366.32617\n",
      "[39]\ttrain-rmse:387.42426\teval-rmse:365.46365\n",
      "[40]\ttrain-rmse:386.00015\teval-rmse:364.34872\n",
      "[41]\ttrain-rmse:384.52655\teval-rmse:363.46289\n",
      "[42]\ttrain-rmse:384.31952\teval-rmse:363.62705\n",
      "[43]\ttrain-rmse:383.49445\teval-rmse:362.90237\n",
      "[44]\ttrain-rmse:382.31354\teval-rmse:362.67554\n",
      "[45]\ttrain-rmse:381.64972\teval-rmse:361.89032\n",
      "[46]\ttrain-rmse:380.59100\teval-rmse:361.12195\n",
      "[47]\ttrain-rmse:379.13449\teval-rmse:360.88687\n",
      "[48]\ttrain-rmse:377.53094\teval-rmse:361.06430\n",
      "[49]\ttrain-rmse:376.80130\teval-rmse:360.63922\n",
      "[22:47:56] WARNING: C:/Users/Administrator/workspace/xgboost-win64_release_1.4.0/src/learner.cc:573: \n",
      "Parameters: { \"sileng\" } might not be used.\n",
      "\n",
      "  This may not be accurate due to some parameters are only used in language bindings but\n",
      "  passed down to XGBoost core.  Or some parameters are not used but slip through this\n",
      "  verification. Please open an issue if you find above cases.\n",
      "\n",
      "\n",
      "[0]\ttrain-rmse:2617.54248\teval-rmse:2689.30225\n",
      "[1]\ttrain-rmse:1868.88000\teval-rmse:1966.62927\n",
      "[2]\ttrain-rmse:1351.88135\teval-rmse:1485.61389\n",
      "[3]\ttrain-rmse:1000.14917\teval-rmse:1170.80200\n",
      "[4]\ttrain-rmse:766.88611\teval-rmse:979.01160\n",
      "[5]\ttrain-rmse:614.79791\teval-rmse:864.60461\n",
      "[6]\ttrain-rmse:515.96100\teval-rmse:799.89294\n",
      "[7]\ttrain-rmse:457.08093\teval-rmse:764.41540\n",
      "[8]\ttrain-rmse:421.18576\teval-rmse:741.47870\n",
      "[9]\ttrain-rmse:399.74170\teval-rmse:729.86566\n",
      "[10]\ttrain-rmse:385.71823\teval-rmse:720.50867\n",
      "[11]\ttrain-rmse:377.73038\teval-rmse:716.60962\n",
      "[12]\ttrain-rmse:370.02884\teval-rmse:713.28986\n",
      "[13]\ttrain-rmse:364.14566\teval-rmse:710.83057\n",
      "[14]\ttrain-rmse:359.31168\teval-rmse:708.83661\n",
      "[15]\ttrain-rmse:354.38953\teval-rmse:707.78302\n",
      "[16]\ttrain-rmse:349.50446\teval-rmse:706.34296\n",
      "[17]\ttrain-rmse:346.30725\teval-rmse:705.36591\n",
      "[18]\ttrain-rmse:343.18677\teval-rmse:704.11108\n",
      "[19]\ttrain-rmse:338.46960\teval-rmse:702.62537\n",
      "[20]\ttrain-rmse:336.77554\teval-rmse:701.91052\n",
      "[21]\ttrain-rmse:334.59515\teval-rmse:701.06006\n",
      "[22]\ttrain-rmse:332.70316\teval-rmse:700.35346\n",
      "[23]\ttrain-rmse:330.01334\teval-rmse:699.80841\n",
      "[24]\ttrain-rmse:328.86218\teval-rmse:699.51355\n",
      "[25]\ttrain-rmse:327.38550\teval-rmse:698.91370\n",
      "[26]\ttrain-rmse:324.69116\teval-rmse:697.69275\n",
      "[27]\ttrain-rmse:322.04791\teval-rmse:696.78796\n",
      "[28]\ttrain-rmse:319.41943\teval-rmse:696.16870\n",
      "[29]\ttrain-rmse:316.00592\teval-rmse:694.84192\n",
      "[30]\ttrain-rmse:314.68616\teval-rmse:694.61200\n",
      "[31]\ttrain-rmse:312.81992\teval-rmse:694.00617\n",
      "[32]\ttrain-rmse:312.23489\teval-rmse:693.87060\n",
      "[33]\ttrain-rmse:309.64511\teval-rmse:693.04767\n",
      "[34]\ttrain-rmse:306.15781\teval-rmse:691.94751\n",
      "[35]\ttrain-rmse:305.82635\teval-rmse:692.00354\n",
      "[36]\ttrain-rmse:303.38754\teval-rmse:691.09601\n",
      "[37]\ttrain-rmse:301.67361\teval-rmse:690.56262\n",
      "[38]\ttrain-rmse:299.25149\teval-rmse:690.12152\n",
      "[39]\ttrain-rmse:298.68817\teval-rmse:689.94550\n",
      "[40]\ttrain-rmse:297.66782\teval-rmse:689.63806\n",
      "[41]\ttrain-rmse:296.66257\teval-rmse:689.41461\n",
      "[42]\ttrain-rmse:294.72510\teval-rmse:689.16083\n",
      "[43]\ttrain-rmse:293.10904\teval-rmse:688.73065\n",
      "[44]\ttrain-rmse:291.97049\teval-rmse:688.51471\n",
      "[45]\ttrain-rmse:290.39545\teval-rmse:688.21606\n",
      "[46]\ttrain-rmse:290.09323\teval-rmse:688.06128\n",
      "[47]\ttrain-rmse:289.17764\teval-rmse:687.81952\n",
      "[48]\ttrain-rmse:286.57126\teval-rmse:687.50256\n",
      "[49]\ttrain-rmse:285.61230\teval-rmse:687.30469\n",
      "[22:48:00] WARNING: C:/Users/Administrator/workspace/xgboost-win64_release_1.4.0/src/learner.cc:573: \n",
      "Parameters: { \"sileng\" } might not be used.\n",
      "\n",
      "  This may not be accurate due to some parameters are only used in language bindings but\n",
      "  passed down to XGBoost core.  Or some parameters are not used but slip through this\n",
      "  verification. Please open an issue if you find above cases.\n",
      "\n",
      "\n",
      "[0]\ttrain-rmse:2641.99023\teval-rmse:2612.32544\n",
      "[1]\ttrain-rmse:1900.96069\teval-rmse:1866.40491\n",
      "[2]\ttrain-rmse:1393.04053\teval-rmse:1352.04102\n",
      "[3]\ttrain-rmse:1051.45679\teval-rmse:1005.69623\n",
      "[4]\ttrain-rmse:831.32739\teval-rmse:776.90698\n",
      "[5]\ttrain-rmse:679.84711\teval-rmse:629.91363\n",
      "[6]\ttrain-rmse:593.02734\teval-rmse:540.23206\n",
      "[7]\ttrain-rmse:540.81653\teval-rmse:486.31015\n",
      "[8]\ttrain-rmse:510.68369\teval-rmse:454.79309\n",
      "[9]\ttrain-rmse:483.16971\teval-rmse:435.83154\n",
      "[10]\ttrain-rmse:466.55292\teval-rmse:425.53217\n",
      "[11]\ttrain-rmse:457.68842\teval-rmse:417.42639\n",
      "[12]\ttrain-rmse:451.13516\teval-rmse:413.57663\n",
      "[13]\ttrain-rmse:447.83319\teval-rmse:411.24341\n",
      "[14]\ttrain-rmse:441.46994\teval-rmse:405.61203\n",
      "[15]\ttrain-rmse:437.72839\teval-rmse:402.74832\n",
      "[16]\ttrain-rmse:435.30096\teval-rmse:400.33423\n",
      "[17]\ttrain-rmse:429.61597\teval-rmse:398.67688\n",
      "[18]\ttrain-rmse:424.77063\teval-rmse:397.83554\n",
      "[19]\ttrain-rmse:422.23630\teval-rmse:395.29211\n",
      "[20]\ttrain-rmse:417.71478\teval-rmse:392.37192\n",
      "[21]\ttrain-rmse:416.39908\teval-rmse:391.44013\n",
      "[22]\ttrain-rmse:414.62775\teval-rmse:390.08997\n",
      "[23]\ttrain-rmse:410.94367\teval-rmse:387.80725\n",
      "[24]\ttrain-rmse:409.21155\teval-rmse:386.74048\n",
      "[25]\ttrain-rmse:408.48334\teval-rmse:386.62427\n",
      "[26]\ttrain-rmse:405.62607\teval-rmse:384.80499\n",
      "[27]\ttrain-rmse:405.10843\teval-rmse:384.45071\n",
      "[28]\ttrain-rmse:403.70029\teval-rmse:384.00226\n",
      "[29]\ttrain-rmse:402.82803\teval-rmse:383.50632\n",
      "[30]\ttrain-rmse:400.87396\teval-rmse:382.08917\n",
      "[31]\ttrain-rmse:397.77792\teval-rmse:378.61285\n",
      "[32]\ttrain-rmse:397.20108\teval-rmse:378.44629\n",
      "[33]\ttrain-rmse:396.15158\teval-rmse:378.01581\n",
      "[34]\ttrain-rmse:394.50571\teval-rmse:376.76883\n",
      "[35]\ttrain-rmse:392.58127\teval-rmse:374.78754\n",
      "[36]\ttrain-rmse:391.52246\teval-rmse:375.01697\n",
      "[37]\ttrain-rmse:389.86121\teval-rmse:374.31930\n",
      "[38]\ttrain-rmse:388.15649\teval-rmse:372.90070\n",
      "[39]\ttrain-rmse:387.38669\teval-rmse:372.76279\n",
      "[40]\ttrain-rmse:386.61218\teval-rmse:371.97348\n",
      "[41]\ttrain-rmse:386.07422\teval-rmse:371.89319\n",
      "[42]\ttrain-rmse:385.05750\teval-rmse:371.87018\n",
      "[43]\ttrain-rmse:383.78201\teval-rmse:371.15216\n",
      "[44]\ttrain-rmse:382.27484\teval-rmse:370.05039\n",
      "[45]\ttrain-rmse:380.79312\teval-rmse:369.72421\n",
      "[46]\ttrain-rmse:380.33658\teval-rmse:368.75027\n",
      "[47]\ttrain-rmse:378.94992\teval-rmse:368.22321\n",
      "[48]\ttrain-rmse:378.08957\teval-rmse:367.73465\n",
      "[49]\ttrain-rmse:377.27908\teval-rmse:367.52066\n",
      "[22:48:03] WARNING: C:/Users/Administrator/workspace/xgboost-win64_release_1.4.0/src/learner.cc:573: \n",
      "Parameters: { \"sileng\" } might not be used.\n",
      "\n",
      "  This may not be accurate due to some parameters are only used in language bindings but\n",
      "  passed down to XGBoost core.  Or some parameters are not used but slip through this\n",
      "  verification. Please open an issue if you find above cases.\n",
      "\n",
      "\n",
      "[0]\ttrain-rmse:2637.87158\teval-rmse:2631.13501\n",
      "[1]\ttrain-rmse:1895.74206\teval-rmse:1893.62585\n",
      "[2]\ttrain-rmse:1386.86755\teval-rmse:1385.74939\n",
      "[3]\ttrain-rmse:1034.84509\teval-rmse:1052.22925\n",
      "[4]\ttrain-rmse:810.26160\teval-rmse:830.93988\n",
      "[5]\ttrain-rmse:651.72131\teval-rmse:709.24823\n",
      "[6]\ttrain-rmse:548.31043\teval-rmse:648.70062\n",
      "[7]\ttrain-rmse:482.24075\teval-rmse:623.91278\n",
      "[8]\ttrain-rmse:439.56171\teval-rmse:620.03272\n",
      "[9]\ttrain-rmse:411.21567\teval-rmse:627.43878\n",
      "[10]\ttrain-rmse:399.19241\teval-rmse:619.78662\n",
      "[11]\ttrain-rmse:386.34686\teval-rmse:627.30591\n",
      "[12]\ttrain-rmse:376.36575\teval-rmse:642.70819\n",
      "[13]\ttrain-rmse:367.51779\teval-rmse:637.64673\n",
      "[14]\ttrain-rmse:358.92810\teval-rmse:652.17633\n",
      "[15]\ttrain-rmse:353.75989\teval-rmse:658.20154\n",
      "[16]\ttrain-rmse:351.00577\teval-rmse:657.30157\n",
      "[17]\ttrain-rmse:346.40656\teval-rmse:654.73499\n",
      "[18]\ttrain-rmse:343.94571\teval-rmse:655.43366\n",
      "[19]\ttrain-rmse:341.27976\teval-rmse:654.49176\n",
      "[20]\ttrain-rmse:339.66922\teval-rmse:653.84503\n",
      "[21]\ttrain-rmse:337.13892\teval-rmse:652.75787\n",
      "[22]\ttrain-rmse:335.58520\teval-rmse:652.39239\n",
      "[23]\ttrain-rmse:334.54190\teval-rmse:651.71710\n",
      "[24]\ttrain-rmse:332.10336\teval-rmse:650.26178\n",
      "[25]\ttrain-rmse:330.57483\teval-rmse:649.62787\n",
      "[26]\ttrain-rmse:328.74908\teval-rmse:648.22345\n",
      "[27]\ttrain-rmse:327.98852\teval-rmse:647.91949\n",
      "[28]\ttrain-rmse:326.83758\teval-rmse:646.44641\n",
      "[29]\ttrain-rmse:323.45691\teval-rmse:645.71393\n",
      "[30]\ttrain-rmse:320.34116\teval-rmse:644.93689\n",
      "[31]\ttrain-rmse:318.89008\teval-rmse:644.61847\n",
      "[32]\ttrain-rmse:314.70322\teval-rmse:658.10461\n",
      "[33]\ttrain-rmse:312.90692\teval-rmse:657.32611\n",
      "[34]\ttrain-rmse:311.53525\teval-rmse:656.85339\n",
      "[35]\ttrain-rmse:310.92142\teval-rmse:656.58368\n",
      "[36]\ttrain-rmse:310.05835\teval-rmse:656.33142\n",
      "[37]\ttrain-rmse:309.56976\teval-rmse:656.15070\n",
      "[38]\ttrain-rmse:307.36377\teval-rmse:655.77527\n",
      "[39]\ttrain-rmse:306.50214\teval-rmse:655.40381\n",
      "[40]\ttrain-rmse:306.10251\teval-rmse:655.36652\n",
      "[41]\ttrain-rmse:304.81195\teval-rmse:655.14185\n",
      "[42]\ttrain-rmse:303.61255\teval-rmse:655.00324\n",
      "[43]\ttrain-rmse:302.44492\teval-rmse:654.64740\n",
      "[44]\ttrain-rmse:301.48904\teval-rmse:654.41052\n",
      "[45]\ttrain-rmse:300.34055\teval-rmse:654.24902\n",
      "[46]\ttrain-rmse:299.37582\teval-rmse:653.74158\n",
      "[47]\ttrain-rmse:296.34445\teval-rmse:665.07696\n",
      "[48]\ttrain-rmse:294.48257\teval-rmse:664.71387\n",
      "[49]\ttrain-rmse:293.30066\teval-rmse:664.41321\n"
     ]
    }
   ],
   "source": [
    "import xgboost as xgb\n",
    "from xgboost import XGBClassifier\n",
    "from sklearn.metrics import log_loss, accuracy_score\n",
    "from sklearn.model_selection import KFold\n",
    "\n",
    "scores = []\n",
    "# GBDT用のハイパーパラメータ\n",
    "params = {\"objective\": \"reg:squarederror\", \"sileng\":1, \"random_state\":71, \"eval_metric\":\"rmse\"}\n",
    "num_round = 50\n",
    "\n",
    "# クロスバリデーション\n",
    "kf = KFold(n_splits=4, shuffle=True, random_state=71)\n",
    "for tr_idx, va_idx, in kf.split(train_x):\n",
    "    tr_x, va_x = train_x.iloc[tr_idx], train_x.iloc[va_idx]\n",
    "    tr_y, va_y = train_y.iloc[tr_idx], train_y.iloc[va_idx]\n",
    "    \n",
    "    # GBDTで学習実行\n",
    "    dtrain = xgb.DMatrix(tr_x, label=tr_y) # enable_categorical=True\n",
    "    dvalid = xgb.DMatrix(va_x, label=va_y)\n",
    "    dtest = xgb.DMatrix(test_x)\n",
    "    \n",
    "    watchlist = [(dtrain, \"train\"), (dvalid, \"eval\")]\n",
    "    model = xgb.train(params, dtrain, num_round, evals=watchlist)"
   ]
  },
  {
   "cell_type": "markdown",
   "metadata": {},
   "source": [
    "## 5. 検証"
   ]
  },
  {
   "cell_type": "code",
   "execution_count": 142,
   "metadata": {},
   "outputs": [
    {
     "data": {
      "image/png": "[encoded data removed]",
      "text/plain": [
       "<Figure size 432x288 with 1 Axes>"
      ]
     },
     "metadata": {
      "needs_background": "light"
     },
     "output_type": "display_data"
    }
   ],
   "source": [
    "# 特徴量の予測結果への貢献度(Fスコア)を可視化\n",
    "import matplotlib.pyplot as plt\n",
    "import matplotlib\n",
    "import numpy as np\n",
    "font = {'family' : 'MS Gothic'} # matplotlibのデフォルトフォントをTakaoGothicに設定\n",
    "plt.rc('font', **font)\n",
    "xgb.plot_importance(model, importance_type = \"gain\")\n",
    "plt.show()"
   ]
  },
  {
   "cell_type": "markdown",
   "metadata": {},
   "source": [
    "## 6. 予測"
   ]
  },
  {
   "cell_type": "code",
   "execution_count": 143,
   "metadata": {},
   "outputs": [],
   "source": [
    "# テストデータでの予測\n",
    "pred = model.predict(dtest)"
   ]
  },
  {
   "cell_type": "code",
   "execution_count": 144,
   "metadata": {},
   "outputs": [
    {
     "data": {
      "text/plain": [
       "array([2672.995 , 5201.314 , 2921.6577, ..., 4509.5156, 3776.8904,\n",
       "       3745.415 ], dtype=float32)"
      ]
     },
     "execution_count": 144,
     "metadata": {},
     "output_type": "execute_result"
    }
   ],
   "source": [
    "pred"
   ]
  },
  {
   "cell_type": "code",
   "execution_count": 145,
   "metadata": {},
   "outputs": [
    {
     "data": {
      "text/plain": [
       "24812"
      ]
     },
     "execution_count": 145,
     "metadata": {},
     "output_type": "execute_result"
    }
   ],
   "source": [
    "len(pred)"
   ]
  },
  {
   "cell_type": "code",
   "execution_count": 146,
   "metadata": {},
   "outputs": [
    {
     "data": {
      "text/plain": [
       "24812"
      ]
     },
     "execution_count": 146,
     "metadata": {},
     "output_type": "execute_result"
    }
   ],
   "source": [
    "len(test_data_1)"
   ]
  },
  {
   "cell_type": "markdown",
   "metadata": {},
   "source": [
    "## 7. データ出力"
   ]
  },
  {
   "cell_type": "code",
   "execution_count": 147,
   "metadata": {},
   "outputs": [],
   "source": [
    "# 予測結果の結合\n",
    "test_data_1[\"賃料/面積\"] = pred"
   ]
  },
  {
   "cell_type": "code",
   "execution_count": 148,
   "metadata": {},
   "outputs": [],
   "source": [
    "# 予測結果から賃料を算出し、int型に変換\n",
    "test_data_1[\"賃料\"] = (test_data_1[\"面積m2\"] * test_data_1[\"賃料/面積\"]).astype(int)"
   ]
  },
  {
   "cell_type": "code",
   "execution_count": 149,
   "metadata": {},
   "outputs": [],
   "source": [
    "result = test_data_1[[\"id\", \"賃料\"]]"
   ]
  },
  {
   "cell_type": "code",
   "execution_count": 150,
   "metadata": {},
   "outputs": [
    {
     "data": {
      "text/html": [
       "<div>\n",
       "<style scoped>\n",
       "    .dataframe tbody tr th:only-of-type {\n",
       "        vertical-align: middle;\n",
       "    }\n",
       "\n",
       "    .dataframe tbody tr th {\n",
       "        vertical-align: top;\n",
       "    }\n",
       "\n",
       "    .dataframe thead th {\n",
       "        text-align: right;\n",
       "    }\n",
       "</style>\n",
       "<table border=\"1\" class=\"dataframe\">\n",
       "  <thead>\n",
       "    <tr style=\"text-align: right;\">\n",
       "      <th></th>\n",
       "      <th>id</th>\n",
       "      <th>賃料</th>\n",
       "    </tr>\n",
       "  </thead>\n",
       "  <tbody>\n",
       "    <tr>\n",
       "      <th>0</th>\n",
       "      <td>31471</td>\n",
       "      <td>134237</td>\n",
       "    </tr>\n",
       "    <tr>\n",
       "      <th>1</th>\n",
       "      <td>31472</td>\n",
       "      <td>108603</td>\n",
       "    </tr>\n",
       "    <tr>\n",
       "      <th>2</th>\n",
       "      <td>31473</td>\n",
       "      <td>78680</td>\n",
       "    </tr>\n",
       "    <tr>\n",
       "      <th>3</th>\n",
       "      <td>31474</td>\n",
       "      <td>61776</td>\n",
       "    </tr>\n",
       "    <tr>\n",
       "      <th>5</th>\n",
       "      <td>31476</td>\n",
       "      <td>69287</td>\n",
       "    </tr>\n",
       "    <tr>\n",
       "      <th>...</th>\n",
       "      <td>...</td>\n",
       "      <td>...</td>\n",
       "    </tr>\n",
       "    <tr>\n",
       "      <th>31255</th>\n",
       "      <td>62726</td>\n",
       "      <td>103082</td>\n",
       "    </tr>\n",
       "    <tr>\n",
       "      <th>31257</th>\n",
       "      <td>62728</td>\n",
       "      <td>102536</td>\n",
       "    </tr>\n",
       "    <tr>\n",
       "      <th>31258</th>\n",
       "      <td>62729</td>\n",
       "      <td>102411</td>\n",
       "    </tr>\n",
       "    <tr>\n",
       "      <th>31259</th>\n",
       "      <td>62730</td>\n",
       "      <td>172830</td>\n",
       "    </tr>\n",
       "    <tr>\n",
       "      <th>31261</th>\n",
       "      <td>62732</td>\n",
       "      <td>79327</td>\n",
       "    </tr>\n",
       "  </tbody>\n",
       "</table>\n",
       "<p>24812 rows × 2 columns</p>\n",
       "</div>"
      ],
      "text/plain": [
       "          id      賃料\n",
       "0      31471  134237\n",
       "1      31472  108603\n",
       "2      31473   78680\n",
       "3      31474   61776\n",
       "5      31476   69287\n",
       "...      ...     ...\n",
       "31255  62726  103082\n",
       "31257  62728  102536\n",
       "31258  62729  102411\n",
       "31259  62730  172830\n",
       "31261  62732   79327\n",
       "\n",
       "[24812 rows x 2 columns]"
      ]
     },
     "execution_count": 150,
     "metadata": {},
     "output_type": "execute_result"
    }
   ],
   "source": [
    "result"
   ]
  },
  {
   "cell_type": "code",
   "execution_count": 151,
   "metadata": {},
   "outputs": [
    {
     "data": {
      "text/plain": [
       "24812"
      ]
     },
     "execution_count": 151,
     "metadata": {},
     "output_type": "execute_result"
    }
   ],
   "source": [
    "len(result)"
   ]
  },
  {
   "cell_type": "code",
   "execution_count": 152,
   "metadata": {},
   "outputs": [
    {
     "data": {
      "text/plain": [
       "31262"
      ]
     },
     "execution_count": 152,
     "metadata": {},
     "output_type": "execute_result"
    }
   ],
   "source": [
    "# 除外していた重複idの賃料を戻す\n",
    "test_duplicate_rentvalue = pd.read_excel(\"test_duplicate_rentvalue.xlsx\")\n",
    "result = pd.concat([result, test_duplicate_rentvalue])\n",
    "result = result.sort_values(\"id\")\n",
    "len(result)"
   ]
  },
  {
   "cell_type": "code",
   "execution_count": 153,
   "metadata": {},
   "outputs": [
    {
     "data": {
      "text/html": [
       "<div>\n",
       "<style scoped>\n",
       "    .dataframe tbody tr th:only-of-type {\n",
       "        vertical-align: middle;\n",
       "    }\n",
       "\n",
       "    .dataframe tbody tr th {\n",
       "        vertical-align: top;\n",
       "    }\n",
       "\n",
       "    .dataframe thead th {\n",
       "        text-align: right;\n",
       "    }\n",
       "</style>\n",
       "<table border=\"1\" class=\"dataframe\">\n",
       "  <thead>\n",
       "    <tr style=\"text-align: right;\">\n",
       "      <th></th>\n",
       "      <th>id</th>\n",
       "      <th>賃料</th>\n",
       "    </tr>\n",
       "  </thead>\n",
       "  <tbody>\n",
       "    <tr>\n",
       "      <th>0</th>\n",
       "      <td>31471</td>\n",
       "      <td>134237</td>\n",
       "    </tr>\n",
       "    <tr>\n",
       "      <th>1</th>\n",
       "      <td>31472</td>\n",
       "      <td>108603</td>\n",
       "    </tr>\n",
       "    <tr>\n",
       "      <th>2</th>\n",
       "      <td>31473</td>\n",
       "      <td>78680</td>\n",
       "    </tr>\n",
       "    <tr>\n",
       "      <th>3</th>\n",
       "      <td>31474</td>\n",
       "      <td>61776</td>\n",
       "    </tr>\n",
       "    <tr>\n",
       "      <th>0</th>\n",
       "      <td>31475</td>\n",
       "      <td>90000</td>\n",
       "    </tr>\n",
       "    <tr>\n",
       "      <th>...</th>\n",
       "      <td>...</td>\n",
       "      <td>...</td>\n",
       "    </tr>\n",
       "    <tr>\n",
       "      <th>31257</th>\n",
       "      <td>62728</td>\n",
       "      <td>102536</td>\n",
       "    </tr>\n",
       "    <tr>\n",
       "      <th>31258</th>\n",
       "      <td>62729</td>\n",
       "      <td>102411</td>\n",
       "    </tr>\n",
       "    <tr>\n",
       "      <th>31259</th>\n",
       "      <td>62730</td>\n",
       "      <td>172830</td>\n",
       "    </tr>\n",
       "    <tr>\n",
       "      <th>6449</th>\n",
       "      <td>62731</td>\n",
       "      <td>280000</td>\n",
       "    </tr>\n",
       "    <tr>\n",
       "      <th>31261</th>\n",
       "      <td>62732</td>\n",
       "      <td>79327</td>\n",
       "    </tr>\n",
       "  </tbody>\n",
       "</table>\n",
       "<p>31262 rows × 2 columns</p>\n",
       "</div>"
      ],
      "text/plain": [
       "          id      賃料\n",
       "0      31471  134237\n",
       "1      31472  108603\n",
       "2      31473   78680\n",
       "3      31474   61776\n",
       "0      31475   90000\n",
       "...      ...     ...\n",
       "31257  62728  102536\n",
       "31258  62729  102411\n",
       "31259  62730  172830\n",
       "6449   62731  280000\n",
       "31261  62732   79327\n",
       "\n",
       "[31262 rows x 2 columns]"
      ]
     },
     "execution_count": 153,
     "metadata": {},
     "output_type": "execute_result"
    }
   ],
   "source": [
    "result"
   ]
  },
  {
   "cell_type": "code",
   "execution_count": 154,
   "metadata": {},
   "outputs": [],
   "source": [
    "result.to_csv(\"result.csv\", header=False, index=False)"
   ]
  },
  {
   "cell_type": "code",
   "execution_count": null,
   "metadata": {},
   "outputs": [],
   "source": []
  }
 ],
 "metadata": {
  "kernelspec": {
   "display_name": "Python 3",
   "language": "python",
   "name": "python3"
  },
  "language_info": {
   "codemirror_mode": {
    "name": "ipython",
    "version": 3
   },
   "file_extension": ".py",
   "mimetype": "text/x-python",
   "name": "python",
   "nbconvert_exporter": "python",
   "pygments_lexer": "ipython3",
   "version": "3.7.3"
  }
 },
 "nbformat": 4,
 "nbformat_minor": 4
}
