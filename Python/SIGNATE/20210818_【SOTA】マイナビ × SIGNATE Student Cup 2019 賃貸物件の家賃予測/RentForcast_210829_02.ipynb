{
 "cells": [
  {
   "cell_type": "markdown",
   "metadata": {},
   "source": [
    "# [【SOTA】マイナビ × SIGNATE Student Cup 2019: 賃貸物件の家賃予測](https://signate.jp/competitions/264)"
   ]
  },
  {
   "cell_type": "markdown",
   "metadata": {},
   "source": [
    "## 1. データ読み込み"
   ]
  },
  {
   "cell_type": "code",
   "execution_count": 68,
   "metadata": {},
   "outputs": [],
   "source": [
    "import pandas as pd\n",
    "import numpy as np\n",
    "import pathlib\n",
    "import os\n",
    "\n",
    "# 学習データ、テストデータの読み込み\n",
    "train_path = pathlib.Path(\"./DATA/train.csv\")\n",
    "test_path = pathlib.Path(\"./DATA/test.csv\")\n",
    "\n",
    "train_data = pd.read_csv(train_path)\n",
    "test_data = pd.read_csv(test_path)"
   ]
  },
  {
   "cell_type": "code",
   "execution_count": 69,
   "metadata": {},
   "outputs": [
    {
     "data": {
      "text/html": [
       "<div>\n",
       "<style scoped>\n",
       "    .dataframe tbody tr th:only-of-type {\n",
       "        vertical-align: middle;\n",
       "    }\n",
       "\n",
       "    .dataframe tbody tr th {\n",
       "        vertical-align: top;\n",
       "    }\n",
       "\n",
       "    .dataframe thead th {\n",
       "        text-align: right;\n",
       "    }\n",
       "</style>\n",
       "<table border=\"1\" class=\"dataframe\">\n",
       "  <thead>\n",
       "    <tr style=\"text-align: right;\">\n",
       "      <th></th>\n",
       "      <th>id</th>\n",
       "      <th>所在地</th>\n",
       "      <th>アクセス</th>\n",
       "      <th>間取り</th>\n",
       "      <th>築年数</th>\n",
       "      <th>方角</th>\n",
       "      <th>面積</th>\n",
       "      <th>所在階</th>\n",
       "      <th>バス・トイレ</th>\n",
       "      <th>キッチン</th>\n",
       "      <th>放送・通信</th>\n",
       "      <th>室内設備</th>\n",
       "      <th>駐車場</th>\n",
       "      <th>周辺環境</th>\n",
       "      <th>建物構造</th>\n",
       "      <th>契約期間</th>\n",
       "    </tr>\n",
       "  </thead>\n",
       "  <tbody>\n",
       "    <tr>\n",
       "      <th>0</th>\n",
       "      <td>31471</td>\n",
       "      <td>東京都世田谷区深沢５丁目1-27</td>\n",
       "      <td>東急大井町線\\t等々力駅\\t徒歩15分\\t\\t東急田園都市線\\t桜新町駅\\t徒歩24分\\t\\...</td>\n",
       "      <td>2LDK</td>\n",
       "      <td>49年0ヶ月</td>\n",
       "      <td>南</td>\n",
       "      <td>50.22m2</td>\n",
       "      <td>8階／8階建</td>\n",
       "      <td>専用バス／\\t専用トイレ／\\tバス・トイレ別／\\tシャワー／\\t追焚機能／\\t温水洗浄便座／...</td>\n",
       "      <td>ガスコンロ／\\tコンロ3口／\\tシステムキッチン\\t／\\t給湯／\\tL字キッチン</td>\n",
       "      <td>インターネット対応</td>\n",
       "      <td>エアコン付\\tシューズボックス／\\tバルコニー／\\tフローリング／\\tエレベーター\\t公営水...</td>\n",
       "      <td>駐輪場\\t空有\\t駐車場\\t無\\tバイク置き場\\t無</td>\n",
       "      <td>【コンビニ】 74m\\t【スーパー】 215m\\t【病院】 313m\\t【小学校】 219m...</td>\n",
       "      <td>鉄骨造</td>\n",
       "      <td>NaN</td>\n",
       "    </tr>\n",
       "    <tr>\n",
       "      <th>1</th>\n",
       "      <td>31472</td>\n",
       "      <td>東京都目黒区八雲１丁目11-8</td>\n",
       "      <td>東急東横線\\t都立大学駅\\t徒歩6分\\t\\t東急東横線\\t自由が丘駅\\t徒歩17分\\t\\t東...</td>\n",
       "      <td>1R</td>\n",
       "      <td>0年2ヶ月</td>\n",
       "      <td>南東</td>\n",
       "      <td>20.88m2</td>\n",
       "      <td>3階／4階建</td>\n",
       "      <td>専用バス／\\t専用トイレ／\\tバス・トイレ別／\\tシャワー／\\t浴室乾燥機\\t／\\t温水洗浄...</td>\n",
       "      <td>ガスコンロ／\\tコンロ2口／\\tシステムキッチン\\t／\\t給湯</td>\n",
       "      <td>インターネット対応／\\tCSアンテナ／\\tBSアンテナ／\\tインターネット使用料無料</td>\n",
       "      <td>エアコン付\\tシューズボックス／\\tフローリング／\\t室内洗濯機置場\\t公営水道／\\t下水／...</td>\n",
       "      <td>駐車場\\t近隣\\t34,000円(税込)\\t距離200m\\t駐輪場\\t無\\tバイク置き場\\t無</td>\n",
       "      <td>【スーパー】 128m\\t【スーパー】 313m\\t【コンビニ】 374m\\t【コンビニ】 ...</td>\n",
       "      <td>RC（鉄筋コンクリート）</td>\n",
       "      <td>2年間</td>\n",
       "    </tr>\n",
       "    <tr>\n",
       "      <th>2</th>\n",
       "      <td>31473</td>\n",
       "      <td>東京都豊島区池袋本町２丁目22-2</td>\n",
       "      <td>東武東上線\\t北池袋駅\\t徒歩10分\\t\\t埼京線\\t板橋駅\\t徒歩16分\\t\\t山手線\\t...</td>\n",
       "      <td>1K</td>\n",
       "      <td>23年4ヶ月</td>\n",
       "      <td>南東</td>\n",
       "      <td>26.93m2</td>\n",
       "      <td>1階／4階建</td>\n",
       "      <td>専用バス／\\t専用トイレ／\\tバス・トイレ別／\\tシャワー／\\t温水洗浄便座</td>\n",
       "      <td>ガスコンロ／\\t給湯</td>\n",
       "      <td>インターネット対応／\\t光ファイバー／\\tCATV</td>\n",
       "      <td>エアコン付\\tシューズボックス／\\tバルコニー／\\tフローリング／\\t2面採光／\\t室内洗濯...</td>\n",
       "      <td>駐車場\\t空有\\t5,000円(税込)\\t(敷金あり\\t1ヶ月)\\t駐輪場\\t空有\\tバイク...</td>\n",
       "      <td>【スーパー】 529m\\t【スーパー】 810m\\t【コンビニ】 316m\\t【コンビニ】 ...</td>\n",
       "      <td>鉄骨造</td>\n",
       "      <td>2年間</td>\n",
       "    </tr>\n",
       "    <tr>\n",
       "      <th>3</th>\n",
       "      <td>31474</td>\n",
       "      <td>東京都杉並区和泉１丁目</td>\n",
       "      <td>丸ノ内線(中野坂上－方南町)\\t方南町駅\\t徒歩10分\\t\\t京王線\\t代田橋駅\\t徒歩8分...</td>\n",
       "      <td>1K</td>\n",
       "      <td>36年2ヶ月</td>\n",
       "      <td>南東</td>\n",
       "      <td>23.57m2</td>\n",
       "      <td>1階／2階建</td>\n",
       "      <td>シャワー</td>\n",
       "      <td>ガスコンロ／\\t給湯</td>\n",
       "      <td>NaN</td>\n",
       "      <td>エアコン付\\tシューズボックス／\\t2面採光／\\t室外洗濯機置場\\t公営水道／\\t下水／\\t...</td>\n",
       "      <td>駐輪場\\t空有\\t0円</td>\n",
       "      <td>【スーパー】 286m\\t【スーパー】 702m\\t【コンビニ】 489m\\t【コンビニ】 ...</td>\n",
       "      <td>木造</td>\n",
       "      <td>2年間</td>\n",
       "    </tr>\n",
       "    <tr>\n",
       "      <th>4</th>\n",
       "      <td>31475</td>\n",
       "      <td>東京都杉並区堀ノ内２丁目</td>\n",
       "      <td>丸ノ内線(中野坂上－方南町)\\t方南町駅\\t徒歩12分\\t\\t丸ノ内線(池袋－荻窪)\\t新高...</td>\n",
       "      <td>2LDK</td>\n",
       "      <td>45年4ヶ月</td>\n",
       "      <td>南</td>\n",
       "      <td>50m2</td>\n",
       "      <td>4階／4階建</td>\n",
       "      <td>専用バス／\\t専用トイレ／\\tバス・トイレ別</td>\n",
       "      <td>コンロ設置可（口数不明）／\\t給湯</td>\n",
       "      <td>インターネット対応</td>\n",
       "      <td>冷房／\\tエアコン付\\tシューズボックス／\\tバルコニー／\\tフローリング／\\t室内洗濯機置...</td>\n",
       "      <td>駐車場\\t近隣\\t22,600円\\t距離177m</td>\n",
       "      <td>【コンビニ】 312m\\t【コンビニ】 436m\\t【スーパー】 902m\\t【コンビニ】 ...</td>\n",
       "      <td>RC（鉄筋コンクリート）</td>\n",
       "      <td>2年間</td>\n",
       "    </tr>\n",
       "  </tbody>\n",
       "</table>\n",
       "</div>"
      ],
      "text/plain": [
       "      id                所在地  \\\n",
       "0  31471   東京都世田谷区深沢５丁目1-27   \n",
       "1  31472    東京都目黒区八雲１丁目11-8   \n",
       "2  31473  東京都豊島区池袋本町２丁目22-2   \n",
       "3  31474        東京都杉並区和泉１丁目   \n",
       "4  31475       東京都杉並区堀ノ内２丁目   \n",
       "\n",
       "                                                アクセス   間取り     築年数  方角  \\\n",
       "0  東急大井町線\\t等々力駅\\t徒歩15分\\t\\t東急田園都市線\\t桜新町駅\\t徒歩24分\\t\\...  2LDK  49年0ヶ月   南   \n",
       "1  東急東横線\\t都立大学駅\\t徒歩6分\\t\\t東急東横線\\t自由が丘駅\\t徒歩17分\\t\\t東...    1R   0年2ヶ月  南東   \n",
       "2  東武東上線\\t北池袋駅\\t徒歩10分\\t\\t埼京線\\t板橋駅\\t徒歩16分\\t\\t山手線\\t...    1K  23年4ヶ月  南東   \n",
       "3  丸ノ内線(中野坂上－方南町)\\t方南町駅\\t徒歩10分\\t\\t京王線\\t代田橋駅\\t徒歩8分...    1K  36年2ヶ月  南東   \n",
       "4  丸ノ内線(中野坂上－方南町)\\t方南町駅\\t徒歩12分\\t\\t丸ノ内線(池袋－荻窪)\\t新高...  2LDK  45年4ヶ月   南   \n",
       "\n",
       "        面積     所在階                                             バス・トイレ  \\\n",
       "0  50.22m2  8階／8階建  専用バス／\\t専用トイレ／\\tバス・トイレ別／\\tシャワー／\\t追焚機能／\\t温水洗浄便座／...   \n",
       "1  20.88m2  3階／4階建  専用バス／\\t専用トイレ／\\tバス・トイレ別／\\tシャワー／\\t浴室乾燥機\\t／\\t温水洗浄...   \n",
       "2  26.93m2  1階／4階建             専用バス／\\t専用トイレ／\\tバス・トイレ別／\\tシャワー／\\t温水洗浄便座   \n",
       "3  23.57m2  1階／2階建                                               シャワー   \n",
       "4     50m2  4階／4階建                             専用バス／\\t専用トイレ／\\tバス・トイレ別   \n",
       "\n",
       "                                       キッチン  \\\n",
       "0  ガスコンロ／\\tコンロ3口／\\tシステムキッチン\\t／\\t給湯／\\tL字キッチン   \n",
       "1           ガスコンロ／\\tコンロ2口／\\tシステムキッチン\\t／\\t給湯   \n",
       "2                                ガスコンロ／\\t給湯   \n",
       "3                                ガスコンロ／\\t給湯   \n",
       "4                         コンロ設置可（口数不明）／\\t給湯   \n",
       "\n",
       "                                        放送・通信  \\\n",
       "0                                   インターネット対応   \n",
       "1  インターネット対応／\\tCSアンテナ／\\tBSアンテナ／\\tインターネット使用料無料   \n",
       "2                   インターネット対応／\\t光ファイバー／\\tCATV   \n",
       "3                                         NaN   \n",
       "4                                   インターネット対応   \n",
       "\n",
       "                                                室内設備  \\\n",
       "0  エアコン付\\tシューズボックス／\\tバルコニー／\\tフローリング／\\tエレベーター\\t公営水...   \n",
       "1  エアコン付\\tシューズボックス／\\tフローリング／\\t室内洗濯機置場\\t公営水道／\\t下水／...   \n",
       "2  エアコン付\\tシューズボックス／\\tバルコニー／\\tフローリング／\\t2面採光／\\t室内洗濯...   \n",
       "3  エアコン付\\tシューズボックス／\\t2面採光／\\t室外洗濯機置場\\t公営水道／\\t下水／\\t...   \n",
       "4  冷房／\\tエアコン付\\tシューズボックス／\\tバルコニー／\\tフローリング／\\t室内洗濯機置...   \n",
       "\n",
       "                                                 駐車場  \\\n",
       "0                         駐輪場\\t空有\\t駐車場\\t無\\tバイク置き場\\t無   \n",
       "1    駐車場\\t近隣\\t34,000円(税込)\\t距離200m\\t駐輪場\\t無\\tバイク置き場\\t無   \n",
       "2  駐車場\\t空有\\t5,000円(税込)\\t(敷金あり\\t1ヶ月)\\t駐輪場\\t空有\\tバイク...   \n",
       "3                                        駐輪場\\t空有\\t0円   \n",
       "4                           駐車場\\t近隣\\t22,600円\\t距離177m   \n",
       "\n",
       "                                                周辺環境          建物構造 契約期間  \n",
       "0  【コンビニ】 74m\\t【スーパー】 215m\\t【病院】 313m\\t【小学校】 219m...           鉄骨造  NaN  \n",
       "1  【スーパー】 128m\\t【スーパー】 313m\\t【コンビニ】 374m\\t【コンビニ】 ...  RC（鉄筋コンクリート）  2年間  \n",
       "2  【スーパー】 529m\\t【スーパー】 810m\\t【コンビニ】 316m\\t【コンビニ】 ...           鉄骨造  2年間  \n",
       "3  【スーパー】 286m\\t【スーパー】 702m\\t【コンビニ】 489m\\t【コンビニ】 ...            木造  2年間  \n",
       "4  【コンビニ】 312m\\t【コンビニ】 436m\\t【スーパー】 902m\\t【コンビニ】 ...  RC（鉄筋コンクリート）  2年間  "
      ]
     },
     "execution_count": 69,
     "metadata": {},
     "output_type": "execute_result"
    }
   ],
   "source": [
    "test_data.head()"
   ]
  },
  {
   "cell_type": "markdown",
   "metadata": {},
   "source": [
    "## 2. 前処理"
   ]
  },
  {
   "cell_type": "markdown",
   "metadata": {},
   "source": [
    "### 2.1. データ選択"
   ]
  },
  {
   "cell_type": "code",
   "execution_count": 70,
   "metadata": {},
   "outputs": [],
   "source": [
    "# 簡単な前処理\n",
    "train_data_1 = train_data[[\"id\", \"賃料\", \"間取り\", \"築年数\", \"面積\", \"所在階\"]]\n",
    "test_data_1 = test_data[[\"id\", \"間取り\", \"築年数\", \"面積\", \"所在階\"]]"
   ]
  },
  {
   "cell_type": "markdown",
   "metadata": {},
   "source": [
    "### 2.2. 間取りの数値化"
   ]
  },
  {
   "cell_type": "code",
   "execution_count": 71,
   "metadata": {},
   "outputs": [
    {
     "name": "stderr",
     "output_type": "stream",
     "text": [
      "<ipython-input-71-95a8caebc059>:7: SettingWithCopyWarning: \n",
      "A value is trying to be set on a copy of a slice from a DataFrame.\n",
      "Try using .loc[row_indexer,col_indexer] = value instead\n",
      "\n",
      "See the caveats in the documentation: https://pandas.pydata.org/pandas-docs/stable/user_guide/indexing.html#returning-a-view-versus-a-copy\n",
      "  train_data_1[\"間取りID\"] = le.transform(train_data_1[\"間取り\"])\n",
      "<ipython-input-71-95a8caebc059>:8: SettingWithCopyWarning: \n",
      "A value is trying to be set on a copy of a slice from a DataFrame.\n",
      "Try using .loc[row_indexer,col_indexer] = value instead\n",
      "\n",
      "See the caveats in the documentation: https://pandas.pydata.org/pandas-docs/stable/user_guide/indexing.html#returning-a-view-versus-a-copy\n",
      "  test_data_1[\"間取りID\"] = le.transform(test_data_1[\"間取り\"])\n"
     ]
    }
   ],
   "source": [
    "# 間取りにlabel encodingを適用\n",
    "from sklearn.preprocessing import LabelEncoder\n",
    "\n",
    "le = LabelEncoder()\n",
    "le.fit(pd.concat([train_data_1[\"間取り\"],test_data_1[\"間取り\"]]))\n",
    "\n",
    "train_data_1[\"間取りID\"] = le.transform(train_data_1[\"間取り\"])\n",
    "test_data_1[\"間取りID\"] = le.transform(test_data_1[\"間取り\"])"
   ]
  },
  {
   "cell_type": "markdown",
   "metadata": {},
   "source": [
    "### 2.3. 面積の数値化"
   ]
  },
  {
   "cell_type": "code",
   "execution_count": 72,
   "metadata": {},
   "outputs": [],
   "source": [
    "# 面積のカラムタイトルを面積[m2]に置換\n",
    "train_data_1 = train_data_1.rename(columns={\"面積\": \"面積m2\"})\n",
    "test_data_1 = test_data_1.rename(columns={\"面積\": \"面積m2\"})"
   ]
  },
  {
   "cell_type": "code",
   "execution_count": 73,
   "metadata": {},
   "outputs": [],
   "source": [
    "# カラムタイトル面積[m2]の要素からm2を削除\n",
    "train_data_1['面積m2'] = train_data_1['面積m2'].str.replace('m2', '').astype(float)\n",
    "test_data_1['面積m2'] = test_data_1['面積m2'].str.replace('m2', '').astype(float)"
   ]
  },
  {
   "cell_type": "markdown",
   "metadata": {},
   "source": [
    "### 2.4. 所在階の数値化"
   ]
  },
  {
   "cell_type": "code",
   "execution_count": 74,
   "metadata": {},
   "outputs": [],
   "source": [
    "# 所在階の中身を\"／\"で2つの列に分割\n",
    "train_data_1 = pd.concat([train_data_1, train_data_1['所在階'].str.split('／', expand=True)], axis=1)\n",
    "test_data_1 = pd.concat([test_data_1, test_data_1['所在階'].str.split('／', expand=True)], axis=1)"
   ]
  },
  {
   "cell_type": "code",
   "execution_count": 75,
   "metadata": {},
   "outputs": [],
   "source": [
    "# 分割した所在階のカラム名変更　0:所在、1:階層\n",
    "train_data_1 = train_data_1.rename(columns={0:\"所在\", 1:\"階層\"})\n",
    "test_data_1 = test_data_1.rename(columns={0:\"所在\", 1:\"階層\"})"
   ]
  },
  {
   "cell_type": "code",
   "execution_count": 76,
   "metadata": {},
   "outputs": [],
   "source": [
    "# 所在と階層の要素を整形\n",
    "train_data_1['所在'] = train_data_1['所在'].str.replace('階', '')\n",
    "train_data_1['所在'] = train_data_1['所在'].str.replace('建', '')\n",
    "train_data_1['所在'] = train_data_1['所在'].str.replace('地下', '-')\n",
    "train_data_1['所在'] = train_data_1['所在'].str.replace('\\（.*\\）', '', regex=True)\n",
    "train_data_1['階層'] = train_data_1['階層'].str.replace('階建', '')\n",
    "train_data_1['階層'] = train_data_1['階層'].str.replace('\\（.*\\）', '', regex=True)\n",
    "train_data_1['所在'] = train_data_1['所在'].replace('', np.nan)\n",
    "\n",
    "test_data_1['所在'] = test_data_1['所在'].str.replace('階', '')\n",
    "test_data_1['所在'] = test_data_1['所在'].str.replace('建', '')\n",
    "test_data_1['所在'] = test_data_1['所在'].str.replace('地下', '-')\n",
    "test_data_1['所在'] = test_data_1['所在'].str.replace('\\（.*\\）', '', regex=True)\n",
    "test_data_1['階層'] = test_data_1['階層'].str.replace('階建', '')\n",
    "test_data_1['階層'] = test_data_1['階層'].str.replace('\\（.*\\）', '', regex=True)\n",
    "test_data_1['所在'] = test_data_1['所在'].replace('', np.nan)"
   ]
  },
  {
   "cell_type": "code",
   "execution_count": 77,
   "metadata": {},
   "outputs": [],
   "source": [
    "# \"階層\"がNoneの箇所を\"所在\"の値で埋める\n",
    "train_data_1['階層'].fillna(train_data_1['所在'], inplace=True)\n",
    "test_data_1['階層'].fillna(test_data_1['所在'], inplace=True)"
   ]
  },
  {
   "cell_type": "code",
   "execution_count": 78,
   "metadata": {},
   "outputs": [],
   "source": [
    "# 所在と階層の要素をfloat型に変換する\n",
    "train_data_1['所在'] = train_data_1['所在'].astype(float)\n",
    "train_data_1['階層'] = train_data_1['階層'].astype(float)\n",
    "\n",
    "test_data_1['所在'] = test_data_1['所在'].astype(float)\n",
    "test_data_1['階層'] = test_data_1['階層'].astype(float)"
   ]
  },
  {
   "cell_type": "code",
   "execution_count": 79,
   "metadata": {},
   "outputs": [],
   "source": [
    "# 所在階のカラムを削除\n",
    "train_data_1 = train_data_1.drop('所在階', axis=1)\n",
    "test_data_1 = test_data_1.drop('所在階', axis=1)"
   ]
  },
  {
   "cell_type": "code",
   "execution_count": 80,
   "metadata": {},
   "outputs": [],
   "source": [
    "# 所在のNaNを埋める\n",
    "train_data_1.loc[train_data_1[\"所在\"].isnull(), \"所在\"] = train_data_1[\"階層\"]\n",
    "test_data_1.loc[test_data_1[\"所在\"].isnull(), \"所在\"] = test_data_1[\"階層\"]"
   ]
  },
  {
   "cell_type": "code",
   "execution_count": 81,
   "metadata": {},
   "outputs": [
    {
     "name": "stdout",
     "output_type": "stream",
     "text": [
      "id       44448.676471\n",
      "面積m2        92.323824\n",
      "間取りID       21.000000\n",
      "所在           6.181818\n",
      "階層           9.878788\n",
      "dtype: float64\n"
     ]
    }
   ],
   "source": [
    "# 所在も階層も空欄のデータは間取りと面積の近いデータで埋める\n",
    "print(test_data_1[(test_data_1[\"間取りID\"] == 21) & (test_data_1[\"面積m2\"] > 90) & (test_data_1[\"面積m2\"] < 95)].mean())\n",
    "test_data_1.loc[test_data_1[\"id\"]==40675, \"所在\"] = float(6)\n",
    "test_data_1.loc[test_data_1[\"id\"]==40675, \"階層\"] = float(9)"
   ]
  },
  {
   "cell_type": "markdown",
   "metadata": {},
   "source": [
    "### 2.5. 築年数の数値化"
   ]
  },
  {
   "cell_type": "code",
   "execution_count": 82,
   "metadata": {},
   "outputs": [],
   "source": [
    "# 新築の場合は全て0にする\n",
    "train_data_1.loc[train_data_1[\"築年数\"]==\"新築\", \"築年数\"] = float(0)\n",
    "test_data_1.loc[test_data_1[\"築年数\"]==\"新築\", \"築年数\"] = float(0)"
   ]
  },
  {
   "cell_type": "code",
   "execution_count": 83,
   "metadata": {},
   "outputs": [],
   "source": [
    "# 築年数を数値に変換する\n",
    "train_data_1 = pd.concat([train_data_1, train_data_1['築年数'].str.split('年', expand=True)], axis=1)\n",
    "test_data_1 = pd.concat([test_data_1, test_data_1['築年数'].str.split('年', expand=True)], axis=1)"
   ]
  },
  {
   "cell_type": "code",
   "execution_count": 84,
   "metadata": {},
   "outputs": [],
   "source": [
    "# ヶ月を消す\n",
    "train_data_1[1] = train_data_1[1].str.replace('ヶ月', '')\n",
    "test_data_1[1] = test_data_1[1].str.replace('ヶ月', '')"
   ]
  },
  {
   "cell_type": "code",
   "execution_count": 85,
   "metadata": {},
   "outputs": [],
   "source": [
    "# 築年数をfloat変換\n",
    "train_data_1[\"築年数\"] = train_data_1[0].astype(float) + (train_data_1[1].astype(float) / float(10))\n",
    "test_data_1[\"築年数\"] = test_data_1[0].astype(float) + (test_data_1[1].astype(float) / float(10))"
   ]
  },
  {
   "cell_type": "code",
   "execution_count": 86,
   "metadata": {},
   "outputs": [
    {
     "data": {
      "text/html": [
       "<div>\n",
       "<style scoped>\n",
       "    .dataframe tbody tr th:only-of-type {\n",
       "        vertical-align: middle;\n",
       "    }\n",
       "\n",
       "    .dataframe tbody tr th {\n",
       "        vertical-align: top;\n",
       "    }\n",
       "\n",
       "    .dataframe thead th {\n",
       "        text-align: right;\n",
       "    }\n",
       "</style>\n",
       "<table border=\"1\" class=\"dataframe\">\n",
       "  <thead>\n",
       "    <tr style=\"text-align: right;\">\n",
       "      <th></th>\n",
       "      <th>id</th>\n",
       "      <th>間取り</th>\n",
       "      <th>築年数</th>\n",
       "      <th>面積m2</th>\n",
       "      <th>間取りID</th>\n",
       "      <th>所在</th>\n",
       "      <th>階層</th>\n",
       "      <th>0</th>\n",
       "      <th>1</th>\n",
       "    </tr>\n",
       "  </thead>\n",
       "  <tbody>\n",
       "    <tr>\n",
       "      <th>0</th>\n",
       "      <td>31471</td>\n",
       "      <td>2LDK</td>\n",
       "      <td>49.0</td>\n",
       "      <td>50.22</td>\n",
       "      <td>14</td>\n",
       "      <td>8.0</td>\n",
       "      <td>8.0</td>\n",
       "      <td>49</td>\n",
       "      <td>0</td>\n",
       "    </tr>\n",
       "    <tr>\n",
       "      <th>1</th>\n",
       "      <td>31472</td>\n",
       "      <td>1R</td>\n",
       "      <td>0.2</td>\n",
       "      <td>20.88</td>\n",
       "      <td>9</td>\n",
       "      <td>3.0</td>\n",
       "      <td>4.0</td>\n",
       "      <td>0</td>\n",
       "      <td>2</td>\n",
       "    </tr>\n",
       "    <tr>\n",
       "      <th>2</th>\n",
       "      <td>31473</td>\n",
       "      <td>1K</td>\n",
       "      <td>23.4</td>\n",
       "      <td>26.93</td>\n",
       "      <td>3</td>\n",
       "      <td>1.0</td>\n",
       "      <td>4.0</td>\n",
       "      <td>23</td>\n",
       "      <td>4</td>\n",
       "    </tr>\n",
       "    <tr>\n",
       "      <th>3</th>\n",
       "      <td>31474</td>\n",
       "      <td>1K</td>\n",
       "      <td>36.2</td>\n",
       "      <td>23.57</td>\n",
       "      <td>3</td>\n",
       "      <td>1.0</td>\n",
       "      <td>2.0</td>\n",
       "      <td>36</td>\n",
       "      <td>2</td>\n",
       "    </tr>\n",
       "    <tr>\n",
       "      <th>4</th>\n",
       "      <td>31475</td>\n",
       "      <td>2LDK</td>\n",
       "      <td>45.4</td>\n",
       "      <td>50.00</td>\n",
       "      <td>14</td>\n",
       "      <td>4.0</td>\n",
       "      <td>4.0</td>\n",
       "      <td>45</td>\n",
       "      <td>4</td>\n",
       "    </tr>\n",
       "  </tbody>\n",
       "</table>\n",
       "</div>"
      ],
      "text/plain": [
       "      id   間取り   築年数   面積m2  間取りID   所在   階層   0  1\n",
       "0  31471  2LDK  49.0  50.22     14  8.0  8.0  49  0\n",
       "1  31472    1R   0.2  20.88      9  3.0  4.0   0  2\n",
       "2  31473    1K  23.4  26.93      3  1.0  4.0  23  4\n",
       "3  31474    1K  36.2  23.57      3  1.0  2.0  36  2\n",
       "4  31475  2LDK  45.4  50.00     14  4.0  4.0  45  4"
      ]
     },
     "execution_count": 86,
     "metadata": {},
     "output_type": "execute_result"
    }
   ],
   "source": [
    "test_data_1.head()"
   ]
  },
  {
   "cell_type": "code",
   "execution_count": 87,
   "metadata": {},
   "outputs": [
    {
     "name": "stdout",
     "output_type": "stream",
     "text": [
      "          id       間取り  築年数   面積m2  間取りID   所在    階層    0    1\n",
      "77     31548  1K+S(納戸)  NaN  23.80      4  2.0   3.0  NaN  NaN\n",
      "108    31579        1K  NaN  26.44      3  7.0  13.0  NaN  NaN\n",
      "112    31583      1LDK  NaN  41.65      5  3.0  10.0  NaN  NaN\n",
      "156    31627        1R  NaN  20.56      9  3.0  12.0  NaN  NaN\n",
      "162    31633        1K  NaN  25.34      3  1.0   8.0  NaN  NaN\n",
      "...      ...       ...  ...    ...    ...  ...   ...  ...  ...\n",
      "31141  62612      2LDK  NaN  60.81     14  2.0   2.0  NaN  NaN\n",
      "31176  62647      1LDK  NaN  40.06      5  3.0  10.0  NaN  NaN\n",
      "31181  62652      1LDK  NaN  40.26      5  2.0   3.0  NaN  NaN\n",
      "31182  62653      2LDK  NaN  54.75     14  1.0   3.0  NaN  NaN\n",
      "31212  62683      1LDK  NaN  40.79      5  2.0   3.0  NaN  NaN\n",
      "\n",
      "[850 rows x 9 columns]\n"
     ]
    }
   ],
   "source": [
    "print(test_data_1[test_data_1[\"築年数\"].isnull()])"
   ]
  },
  {
   "cell_type": "code",
   "execution_count": 88,
   "metadata": {},
   "outputs": [],
   "source": [
    "# 0と1の列を消す\n",
    "train_data_1 = train_data_1.drop(0, axis=1)\n",
    "train_data_1 = train_data_1.drop(1, axis=1)\n",
    "\n",
    "test_data_1 = test_data_1.drop(0, axis=1)\n",
    "test_data_1 = test_data_1.drop(1, axis=1)"
   ]
  },
  {
   "cell_type": "markdown",
   "metadata": {},
   "source": [
    "### 2.6. 緯度経度情報の追加"
   ]
  },
  {
   "cell_type": "markdown",
   "metadata": {},
   "source": [
    "#### [このサイト](https://ktgis.net/gcode/geocoding.html)を利用する"
   ]
  },
  {
   "cell_type": "code",
   "execution_count": 89,
   "metadata": {},
   "outputs": [],
   "source": [
    "# IDと住所をファイル出力\n",
    "train_coordinate = train_data[[\"id\", \"所在地\"]]\n",
    "test_coordinate = test_data[[\"id\", \"所在地\"]]\n",
    "\n",
    "train_coordinate.to_csv(\"train_coordinate.csv\", header=False, index=False)\n",
    "test_coordinate.to_csv(\"test_coordinate.csv\", header=False, index=False)"
   ]
  },
  {
   "cell_type": "code",
   "execution_count": 90,
   "metadata": {},
   "outputs": [],
   "source": [
    "# 緯度、経度情報の読み込み(id, 所在地, 経度, 緯度)\n",
    "train_coordinate_addvalue = pd.read_excel(\"train_coordinate_addvalue.xlsx\")\n",
    "test_coordinate_addvalue = pd.read_excel(\"test_coordinate_addvalue.xlsx\")"
   ]
  },
  {
   "cell_type": "code",
   "execution_count": 91,
   "metadata": {},
   "outputs": [],
   "source": [
    "train_data_1 = pd.merge(train_data_1, train_coordinate_addvalue[[\"id\", \"経度\", \"緯度\"]], on='id')\n",
    "test_data_1 = pd.merge(test_data_1, test_coordinate_addvalue[[\"id\", \"経度\", \"緯度\"]], on='id')"
   ]
  },
  {
   "cell_type": "markdown",
   "metadata": {},
   "source": [
    "### 2.7. 部屋数の追加"
   ]
  },
  {
   "cell_type": "code",
   "execution_count": 92,
   "metadata": {},
   "outputs": [],
   "source": [
    "# 部屋数のマージ\n",
    "number_of_rooms = pd.read_excel(\"number_of_rooms.xlsx\")\n",
    "train_data_1 = pd.merge(train_data_1, number_of_rooms[[\"間取り\", \"部屋数\"]], on='間取り')\n",
    "test_data_1 = pd.merge(test_data_1, number_of_rooms[[\"間取り\", \"部屋数\"]], on='間取り')"
   ]
  },
  {
   "cell_type": "code",
   "execution_count": 96,
   "metadata": {},
   "outputs": [],
   "source": [
    "# 間取りのカラムを削除\n",
    "train_data_1 = train_data_1.drop('間取り', axis=1)\n",
    "test_data_1 = test_data_1.drop('間取り', axis=1)"
   ]
  },
  {
   "cell_type": "markdown",
   "metadata": {},
   "source": [
    "### 2.8. 1部屋当たりの面積追加"
   ]
  },
  {
   "cell_type": "code",
   "execution_count": 98,
   "metadata": {},
   "outputs": [],
   "source": [
    "# 面積と部屋数から1部屋当たりの面積を算出\n",
    "train_data_1[\"1部屋当たり面積m2\"] = (train_data_1[\"面積m2\"] / train_data_1[\"部屋数\"]).astype(float)\n",
    "test_data_1[\"1部屋当たり面積m2\"] = (test_data_1[\"面積m2\"] / test_data_1[\"部屋数\"]).astype(float)"
   ]
  },
  {
   "cell_type": "markdown",
   "metadata": {},
   "source": [
    "## 3. データチェック"
   ]
  },
  {
   "cell_type": "code",
   "execution_count": 100,
   "metadata": {},
   "outputs": [
    {
     "data": {
      "text/plain": [
       "id              0\n",
       "賃料              0\n",
       "築年数           889\n",
       "面積m2            0\n",
       "間取りID           0\n",
       "所在              0\n",
       "階層              0\n",
       "経度              0\n",
       "緯度              0\n",
       "部屋数             0\n",
       "1部屋当たり面積m2      0\n",
       "dtype: int64"
      ]
     },
     "execution_count": 100,
     "metadata": {},
     "output_type": "execute_result"
    }
   ],
   "source": [
    "train_data_1.isnull().sum()"
   ]
  },
  {
   "cell_type": "code",
   "execution_count": 101,
   "metadata": {},
   "outputs": [
    {
     "data": {
      "text/plain": [
       "id              0\n",
       "築年数           850\n",
       "面積m2            0\n",
       "間取りID           0\n",
       "所在              0\n",
       "階層              0\n",
       "経度              0\n",
       "緯度              0\n",
       "部屋数             0\n",
       "1部屋当たり面積m2      0\n",
       "dtype: int64"
      ]
     },
     "execution_count": 101,
     "metadata": {},
     "output_type": "execute_result"
    }
   ],
   "source": [
    "test_data_1.isnull().sum()"
   ]
  },
  {
   "cell_type": "markdown",
   "metadata": {},
   "source": [
    "## 4.学習 "
   ]
  },
  {
   "cell_type": "code",
   "execution_count": 102,
   "metadata": {},
   "outputs": [],
   "source": [
    "# IDの削除\n",
    "train_data_1_no_ID = train_data_1.drop([\"id\"], axis=1)\n",
    "test_data_1_no_ID = test_data_1.drop([\"id\"], axis=1)"
   ]
  },
  {
   "cell_type": "code",
   "execution_count": 103,
   "metadata": {},
   "outputs": [],
   "source": [
    "# 特徴データと目的変数の設定\n",
    "train_x = train_data_1_no_ID.drop([\"賃料\"], axis=1)\n",
    "train_y = train_data_1_no_ID[\"賃料\"]\n",
    "\n",
    "test_x = test_data_1_no_ID"
   ]
  },
  {
   "cell_type": "code",
   "execution_count": 104,
   "metadata": {
    "collapsed": true,
    "jupyter": {
     "outputs_hidden": true
    }
   },
   "outputs": [
    {
     "name": "stdout",
     "output_type": "stream",
     "text": [
      "[14:21:32] WARNING: ..\\src\\learner.cc:541: \n",
      "Parameters: { sileng } might not be used.\n",
      "\n",
      "  This may not be accurate due to some parameters are only used in language bindings but\n",
      "  passed down to XGBoost core.  Or some parameters are not used but slip through this\n",
      "  verification. Please open an issue if you find above cases.\n",
      "\n",
      "\n",
      "[0]\ttrain-rmse:101044.27344\teval-rmse:99843.65625\n",
      "[1]\ttrain-rmse:74200.32812\teval-rmse:73757.32031\n",
      "[2]\ttrain-rmse:55877.59766\teval-rmse:55609.32031\n",
      "[3]\ttrain-rmse:43411.12109\teval-rmse:43223.26953\n",
      "[4]\ttrain-rmse:35092.37891\teval-rmse:34889.37109\n",
      "[5]\ttrain-rmse:29351.32422\teval-rmse:29597.19922\n",
      "[6]\ttrain-rmse:25613.95898\teval-rmse:25947.96875\n",
      "[7]\ttrain-rmse:23046.01172\teval-rmse:23889.46094\n",
      "[8]\ttrain-rmse:21135.83203\teval-rmse:22286.41406\n",
      "[9]\ttrain-rmse:19626.54688\teval-rmse:21654.47461\n",
      "[10]\ttrain-rmse:18652.21680\teval-rmse:20815.37695\n",
      "[11]\ttrain-rmse:18044.40820\teval-rmse:20529.11719\n",
      "[12]\ttrain-rmse:17566.97266\teval-rmse:20270.22852\n",
      "[13]\ttrain-rmse:16782.49609\teval-rmse:20400.20898\n",
      "[14]\ttrain-rmse:16419.91406\teval-rmse:20191.91992\n",
      "[15]\ttrain-rmse:15971.25000\teval-rmse:19901.94531\n",
      "[16]\ttrain-rmse:15743.82617\teval-rmse:19839.87891\n",
      "[17]\ttrain-rmse:15539.04492\teval-rmse:19723.40234\n",
      "[18]\ttrain-rmse:15278.87305\teval-rmse:19580.83984\n",
      "[19]\ttrain-rmse:15128.49902\teval-rmse:19388.91016\n",
      "[20]\ttrain-rmse:15026.56641\teval-rmse:19377.00000\n",
      "[21]\ttrain-rmse:14861.58691\teval-rmse:19353.69531\n",
      "[22]\ttrain-rmse:14709.68164\teval-rmse:19305.34180\n",
      "[23]\ttrain-rmse:14473.75879\teval-rmse:19330.99219\n",
      "[24]\ttrain-rmse:14284.29394\teval-rmse:19228.81641\n",
      "[25]\ttrain-rmse:14200.67481\teval-rmse:19200.85156\n",
      "[26]\ttrain-rmse:14025.20312\teval-rmse:19084.69336\n",
      "[27]\ttrain-rmse:13879.43262\teval-rmse:19015.66602\n",
      "[28]\ttrain-rmse:13765.51856\teval-rmse:18933.26172\n",
      "[29]\ttrain-rmse:13739.50977\teval-rmse:18919.66406\n",
      "[30]\ttrain-rmse:13624.81152\teval-rmse:18867.08203\n",
      "[31]\ttrain-rmse:13492.12305\teval-rmse:18817.71680\n",
      "[32]\ttrain-rmse:13156.94531\teval-rmse:19050.79297\n",
      "[33]\ttrain-rmse:13101.35840\teval-rmse:19018.81250\n",
      "[34]\ttrain-rmse:12870.58008\teval-rmse:19320.95312\n",
      "[35]\ttrain-rmse:12821.58301\teval-rmse:19359.97852\n",
      "[36]\ttrain-rmse:12655.28418\teval-rmse:19291.52148\n",
      "[37]\ttrain-rmse:12593.93359\teval-rmse:19251.51758\n",
      "[38]\ttrain-rmse:12549.90039\teval-rmse:19267.45117\n",
      "[39]\ttrain-rmse:12516.69434\teval-rmse:19263.86523\n",
      "[40]\ttrain-rmse:12380.85156\teval-rmse:19344.84180\n",
      "[41]\ttrain-rmse:12300.86816\teval-rmse:19332.86914\n",
      "[42]\ttrain-rmse:12194.33789\teval-rmse:19292.04297\n",
      "[43]\ttrain-rmse:12107.04004\teval-rmse:19231.57812\n",
      "[44]\ttrain-rmse:12071.17383\teval-rmse:19221.82031\n",
      "[45]\ttrain-rmse:12024.95312\teval-rmse:19194.70508\n",
      "[46]\ttrain-rmse:11975.30762\teval-rmse:19182.09570\n",
      "[47]\ttrain-rmse:11912.55469\teval-rmse:19161.30469\n",
      "[48]\ttrain-rmse:11846.50000\teval-rmse:19146.14844\n",
      "[49]\ttrain-rmse:11817.50195\teval-rmse:19136.68164\n",
      "[14:21:33] WARNING: ..\\src\\learner.cc:541: \n",
      "Parameters: { sileng } might not be used.\n",
      "\n",
      "  This may not be accurate due to some parameters are only used in language bindings but\n",
      "  passed down to XGBoost core.  Or some parameters are not used but slip through this\n",
      "  verification. Please open an issue if you find above cases.\n",
      "\n",
      "\n",
      "[0]\ttrain-rmse:100435.25781\teval-rmse:102403.29688\n",
      "[1]\ttrain-rmse:73560.47656\teval-rmse:75816.82031\n",
      "[2]\ttrain-rmse:55167.79688\teval-rmse:58249.10156\n",
      "[3]\ttrain-rmse:42576.80078\teval-rmse:46395.96484\n",
      "[4]\ttrain-rmse:34206.44531\teval-rmse:38604.87500\n",
      "[5]\ttrain-rmse:28633.82617\teval-rmse:33597.49609\n",
      "[6]\ttrain-rmse:24871.59570\teval-rmse:30344.48242\n",
      "[7]\ttrain-rmse:22388.42969\teval-rmse:28301.96680\n",
      "[8]\ttrain-rmse:20722.99609\teval-rmse:26721.66211\n",
      "[9]\ttrain-rmse:19578.02344\teval-rmse:25912.34766\n",
      "[10]\ttrain-rmse:18396.45117\teval-rmse:25226.48242\n",
      "[11]\ttrain-rmse:17826.63086\teval-rmse:24785.87891\n",
      "[12]\ttrain-rmse:17437.12109\teval-rmse:24539.88281\n",
      "[13]\ttrain-rmse:16929.13477\teval-rmse:24256.33984\n",
      "[14]\ttrain-rmse:16525.60547\teval-rmse:24052.88867\n",
      "[15]\ttrain-rmse:16347.80273\teval-rmse:23943.50391\n",
      "[16]\ttrain-rmse:15871.54981\teval-rmse:23497.61914\n",
      "[17]\ttrain-rmse:15622.78809\teval-rmse:23187.47461\n",
      "[18]\ttrain-rmse:15448.52637\teval-rmse:22937.95703\n",
      "[19]\ttrain-rmse:15214.25879\teval-rmse:22746.21680\n",
      "[20]\ttrain-rmse:15037.74316\teval-rmse:22567.38867\n",
      "[21]\ttrain-rmse:14877.97559\teval-rmse:22438.83789\n",
      "[22]\ttrain-rmse:14708.17090\teval-rmse:22445.14453\n",
      "[23]\ttrain-rmse:14521.84766\teval-rmse:22268.89062\n",
      "[24]\ttrain-rmse:14466.26172\teval-rmse:22247.44141\n",
      "[25]\ttrain-rmse:14356.27637\teval-rmse:22178.09570\n",
      "[26]\ttrain-rmse:14243.19727\teval-rmse:22033.00586\n",
      "[27]\ttrain-rmse:14090.61328\teval-rmse:22159.66406\n",
      "[28]\ttrain-rmse:13966.85644\teval-rmse:22097.29297\n",
      "[29]\ttrain-rmse:13875.66309\teval-rmse:22237.73047\n",
      "[30]\ttrain-rmse:13852.72656\teval-rmse:22203.44922\n",
      "[31]\ttrain-rmse:13827.85352\teval-rmse:22185.74805\n",
      "[32]\ttrain-rmse:13728.20996\teval-rmse:22118.67773\n",
      "[33]\ttrain-rmse:13630.97754\teval-rmse:22100.28906\n",
      "[34]\ttrain-rmse:13440.37012\teval-rmse:22037.97852\n",
      "[35]\ttrain-rmse:13421.65430\teval-rmse:22016.17578\n",
      "[36]\ttrain-rmse:13314.10840\teval-rmse:21960.54688\n",
      "[37]\ttrain-rmse:13291.59570\teval-rmse:21946.14453\n",
      "[38]\ttrain-rmse:13156.08398\teval-rmse:21894.14648\n",
      "[39]\ttrain-rmse:13103.53027\teval-rmse:21936.74023\n",
      "[40]\ttrain-rmse:13044.15137\teval-rmse:21903.53711\n",
      "[41]\ttrain-rmse:13023.77246\teval-rmse:21897.98047\n",
      "[42]\ttrain-rmse:12825.20606\teval-rmse:21976.54297\n",
      "[43]\ttrain-rmse:12773.66602\teval-rmse:21964.67383\n",
      "[44]\ttrain-rmse:12687.16699\teval-rmse:21870.07227\n",
      "[45]\ttrain-rmse:12617.98047\teval-rmse:21818.04102\n",
      "[46]\ttrain-rmse:12535.97949\teval-rmse:21811.58789\n",
      "[47]\ttrain-rmse:12517.70410\teval-rmse:21801.14844\n",
      "[48]\ttrain-rmse:12492.17773\teval-rmse:21779.13477\n",
      "[49]\ttrain-rmse:12479.54004\teval-rmse:21771.69727\n",
      "[14:21:33] WARNING: ..\\src\\learner.cc:541: \n",
      "Parameters: { sileng } might not be used.\n",
      "\n",
      "  This may not be accurate due to some parameters are only used in language bindings but\n",
      "  passed down to XGBoost core.  Or some parameters are not used but slip through this\n",
      "  verification. Please open an issue if you find above cases.\n",
      "\n",
      "\n",
      "[0]\ttrain-rmse:99698.35938\teval-rmse:104429.80469\n",
      "[1]\ttrain-rmse:72782.79688\teval-rmse:78261.69531\n",
      "[2]\ttrain-rmse:54241.20312\teval-rmse:60982.92969\n",
      "[3]\ttrain-rmse:41567.43750\teval-rmse:49450.27734\n",
      "[4]\ttrain-rmse:32948.74609\teval-rmse:42209.19141\n",
      "[5]\ttrain-rmse:27220.27344\teval-rmse:37699.94141\n",
      "[6]\ttrain-rmse:23458.80664\teval-rmse:34568.28516\n",
      "[7]\ttrain-rmse:20988.28516\teval-rmse:32603.37500\n",
      "[8]\ttrain-rmse:19236.22656\teval-rmse:31449.91211\n",
      "[9]\ttrain-rmse:17925.89844\teval-rmse:30541.35156\n",
      "[10]\ttrain-rmse:17076.95117\teval-rmse:29913.04688\n",
      "[11]\ttrain-rmse:16438.47852\teval-rmse:29480.80859\n",
      "[12]\ttrain-rmse:15778.29004\teval-rmse:29064.58594\n",
      "[13]\ttrain-rmse:15410.94434\teval-rmse:28824.25195\n",
      "[14]\ttrain-rmse:15077.46582\teval-rmse:28611.09180\n",
      "[15]\ttrain-rmse:14818.91016\teval-rmse:28407.95117\n",
      "[16]\ttrain-rmse:14570.40625\teval-rmse:28291.37500\n",
      "[17]\ttrain-rmse:14098.83887\teval-rmse:27953.19922\n",
      "[18]\ttrain-rmse:13874.22656\teval-rmse:27746.80664\n",
      "[19]\ttrain-rmse:13650.72363\teval-rmse:27672.69531\n",
      "[20]\ttrain-rmse:13533.86133\teval-rmse:27765.94922\n",
      "[21]\ttrain-rmse:13381.06934\teval-rmse:27677.26367\n",
      "[22]\ttrain-rmse:13238.86914\teval-rmse:27612.35742\n",
      "[23]\ttrain-rmse:13180.83398\teval-rmse:27571.94922\n",
      "[24]\ttrain-rmse:13034.36523\teval-rmse:27530.71680\n",
      "[25]\ttrain-rmse:12917.68848\teval-rmse:27425.64258\n",
      "[26]\ttrain-rmse:12847.52637\teval-rmse:27381.57422\n",
      "[27]\ttrain-rmse:12691.48340\teval-rmse:27302.42773\n",
      "[28]\ttrain-rmse:12568.82519\teval-rmse:27270.32227\n",
      "[29]\ttrain-rmse:12468.12695\teval-rmse:27249.76367\n",
      "[30]\ttrain-rmse:12401.05469\teval-rmse:27232.61133\n",
      "[31]\ttrain-rmse:12263.14941\teval-rmse:27179.46094\n",
      "[32]\ttrain-rmse:12219.17871\teval-rmse:27162.19922\n",
      "[33]\ttrain-rmse:12088.31934\teval-rmse:27141.43750\n",
      "[34]\ttrain-rmse:11971.78613\teval-rmse:27099.30469\n",
      "[35]\ttrain-rmse:11929.25391\teval-rmse:27085.17383\n",
      "[36]\ttrain-rmse:11840.99219\teval-rmse:27035.26758\n",
      "[37]\ttrain-rmse:11792.56055\teval-rmse:27013.11914\n",
      "[38]\ttrain-rmse:11673.68945\teval-rmse:26915.40430\n",
      "[39]\ttrain-rmse:11600.16992\teval-rmse:26957.15625\n",
      "[40]\ttrain-rmse:11537.32519\teval-rmse:26945.59180\n",
      "[41]\ttrain-rmse:11519.63574\teval-rmse:26940.87891\n",
      "[42]\ttrain-rmse:11510.61035\teval-rmse:26968.04688\n",
      "[43]\ttrain-rmse:11476.55664\teval-rmse:26947.09766\n",
      "[44]\ttrain-rmse:11346.87305\teval-rmse:26856.19336\n",
      "[45]\ttrain-rmse:11311.06738\teval-rmse:26846.08789\n",
      "[46]\ttrain-rmse:11265.80664\teval-rmse:26831.30078\n",
      "[47]\ttrain-rmse:11213.50977\teval-rmse:26832.25586\n",
      "[48]\ttrain-rmse:11189.68555\teval-rmse:26832.46484\n",
      "[49]\ttrain-rmse:11130.33203\teval-rmse:26818.56836\n",
      "[14:21:34] WARNING: ..\\src\\learner.cc:541: \n",
      "Parameters: { sileng } might not be used.\n",
      "\n",
      "  This may not be accurate due to some parameters are only used in language bindings but\n",
      "  passed down to XGBoost core.  Or some parameters are not used but slip through this\n",
      "  verification. Please open an issue if you find above cases.\n",
      "\n",
      "\n",
      "[0]\ttrain-rmse:101631.34375\teval-rmse:98529.35938\n",
      "[1]\ttrain-rmse:74718.37500\teval-rmse:72222.25000\n",
      "[2]\ttrain-rmse:56138.73828\teval-rmse:54395.42188\n",
      "[3]\ttrain-rmse:43454.39453\teval-rmse:42623.57031\n",
      "[4]\ttrain-rmse:35129.97656\teval-rmse:35270.41016\n",
      "[5]\ttrain-rmse:29664.79297\teval-rmse:30713.51367\n",
      "[6]\ttrain-rmse:25791.97656\teval-rmse:27560.00391\n",
      "[7]\ttrain-rmse:23222.93945\teval-rmse:25753.50586\n",
      "[8]\ttrain-rmse:21391.91602\teval-rmse:24570.87500\n",
      "[9]\ttrain-rmse:20041.02734\teval-rmse:23826.69336\n",
      "[10]\ttrain-rmse:18987.01367\teval-rmse:23530.99609\n",
      "[11]\ttrain-rmse:18261.51758\teval-rmse:23074.50391\n",
      "[12]\ttrain-rmse:17843.54883\teval-rmse:22712.96484\n",
      "[13]\ttrain-rmse:17259.83398\teval-rmse:22622.40430\n",
      "[14]\ttrain-rmse:17010.87305\teval-rmse:22582.95703\n",
      "[15]\ttrain-rmse:16802.57031\teval-rmse:22545.50195\n",
      "[16]\ttrain-rmse:16614.78711\teval-rmse:22490.00781\n",
      "[17]\ttrain-rmse:16315.99609\teval-rmse:22227.32617\n",
      "[18]\ttrain-rmse:16173.73731\teval-rmse:22129.90234\n",
      "[19]\ttrain-rmse:15983.40332\teval-rmse:22227.74414\n",
      "[20]\ttrain-rmse:15737.77832\teval-rmse:22123.02344\n",
      "[21]\ttrain-rmse:15590.99805\teval-rmse:22024.27148\n",
      "[22]\ttrain-rmse:15441.97852\teval-rmse:22014.17188\n",
      "[23]\ttrain-rmse:15383.78809\teval-rmse:22013.65820\n",
      "[24]\ttrain-rmse:15325.65527\teval-rmse:21982.48828\n",
      "[25]\ttrain-rmse:15187.07129\teval-rmse:21864.16211\n",
      "[26]\ttrain-rmse:15116.56250\teval-rmse:21836.17188\n",
      "[27]\ttrain-rmse:15084.61914\teval-rmse:21812.04297\n",
      "[28]\ttrain-rmse:14909.36035\teval-rmse:21734.78320\n",
      "[29]\ttrain-rmse:14826.49512\teval-rmse:21682.84766\n",
      "[30]\ttrain-rmse:14530.87305\teval-rmse:21713.34375\n",
      "[31]\ttrain-rmse:14420.33887\teval-rmse:21643.69336\n",
      "[32]\ttrain-rmse:14282.03223\teval-rmse:21507.82812\n",
      "[33]\ttrain-rmse:14106.41992\teval-rmse:21435.19336\n",
      "[34]\ttrain-rmse:14052.66504\teval-rmse:21381.50195\n",
      "[35]\ttrain-rmse:13982.63184\teval-rmse:21376.43945\n",
      "[36]\ttrain-rmse:13883.57715\teval-rmse:21320.56250\n",
      "[37]\ttrain-rmse:13798.50977\teval-rmse:21269.08008\n",
      "[38]\ttrain-rmse:13758.67188\teval-rmse:21263.07617\n",
      "[39]\ttrain-rmse:13681.22656\teval-rmse:21208.33008\n",
      "[40]\ttrain-rmse:13661.26758\teval-rmse:21194.45508\n",
      "[41]\ttrain-rmse:13620.52051\teval-rmse:21177.93945\n",
      "[42]\ttrain-rmse:13602.53320\teval-rmse:21170.92773\n",
      "[43]\ttrain-rmse:13492.01367\teval-rmse:21167.42773\n",
      "[44]\ttrain-rmse:13453.34473\teval-rmse:21153.35156\n",
      "[45]\ttrain-rmse:13271.22559\teval-rmse:21134.79492\n",
      "[46]\ttrain-rmse:13234.75684\teval-rmse:21119.43164\n",
      "[47]\ttrain-rmse:13102.70898\teval-rmse:21007.64648\n",
      "[48]\ttrain-rmse:13031.37598\teval-rmse:20976.53320\n",
      "[49]\ttrain-rmse:12935.69238\teval-rmse:20841.44727\n"
     ]
    }
   ],
   "source": [
    "import xgboost as xgb\n",
    "from xgboost import XGBClassifier\n",
    "from sklearn.metrics import log_loss, accuracy_score\n",
    "from sklearn.model_selection import KFold\n",
    "\n",
    "scores = []\n",
    "# GBDT用のハイパーパラメータ\n",
    "params = {\"objective\": \"reg:squarederror\", \"sileng\":1, \"random_state\":71}\n",
    "num_round = 50\n",
    "\n",
    "# クロスバリデーション\n",
    "kf = KFold(n_splits=4, shuffle=True, random_state=71)\n",
    "for tr_idx, va_idx, in kf.split(train_x):\n",
    "    tr_x, va_x = train_x.iloc[tr_idx], train_x.iloc[va_idx]\n",
    "    tr_y, va_y = train_y.iloc[tr_idx], train_y.iloc[va_idx]\n",
    "    \n",
    "    # GBDTで学習実行\n",
    "    dtrain = xgb.DMatrix(tr_x, label=tr_y) # enable_categorical=True\n",
    "    dvalid = xgb.DMatrix(va_x, label=va_y)\n",
    "    dtest = xgb.DMatrix(test_x)\n",
    "    \n",
    "    watchlist = [(dtrain, \"train\"), (dvalid, \"eval\")]\n",
    "    model = xgb.train(params, dtrain, num_round, evals=watchlist)"
   ]
  },
  {
   "cell_type": "markdown",
   "metadata": {},
   "source": [
    "## 5. 予測"
   ]
  },
  {
   "cell_type": "code",
   "execution_count": 105,
   "metadata": {},
   "outputs": [],
   "source": [
    "# テストデータでの予測\n",
    "pred = model.predict(dtest)"
   ]
  },
  {
   "cell_type": "code",
   "execution_count": 106,
   "metadata": {},
   "outputs": [
    {
     "data": {
      "text/plain": [
       "array([132601.72 , 119610.94 , 145300.03 , ...,  43674.57 , 113845.414,\n",
       "        93600.96 ], dtype=float32)"
      ]
     },
     "execution_count": 106,
     "metadata": {},
     "output_type": "execute_result"
    }
   ],
   "source": [
    "pred"
   ]
  },
  {
   "cell_type": "code",
   "execution_count": 107,
   "metadata": {},
   "outputs": [
    {
     "data": {
      "text/plain": [
       "31262"
      ]
     },
     "execution_count": 107,
     "metadata": {},
     "output_type": "execute_result"
    }
   ],
   "source": [
    "len(pred)"
   ]
  },
  {
   "cell_type": "code",
   "execution_count": 108,
   "metadata": {},
   "outputs": [
    {
     "data": {
      "text/plain": [
       "31262"
      ]
     },
     "execution_count": 108,
     "metadata": {},
     "output_type": "execute_result"
    }
   ],
   "source": [
    "len(test_data_1)"
   ]
  },
  {
   "cell_type": "markdown",
   "metadata": {},
   "source": [
    "## 6. データ出力"
   ]
  },
  {
   "cell_type": "code",
   "execution_count": 109,
   "metadata": {},
   "outputs": [],
   "source": [
    "# 予測結果の結合\n",
    "test_data[\"予測結果\"] = pred"
   ]
  },
  {
   "cell_type": "code",
   "execution_count": 110,
   "metadata": {},
   "outputs": [],
   "source": [
    "# 予測結果をint型に変換\n",
    "test_data[\"予測結果\"] = test_data[\"予測結果\"].astype(int)"
   ]
  },
  {
   "cell_type": "code",
   "execution_count": 111,
   "metadata": {},
   "outputs": [],
   "source": [
    "result = test_data[[\"id\", \"予測結果\"]]"
   ]
  },
  {
   "cell_type": "code",
   "execution_count": 112,
   "metadata": {},
   "outputs": [
    {
     "data": {
      "text/html": [
       "<div>\n",
       "<style scoped>\n",
       "    .dataframe tbody tr th:only-of-type {\n",
       "        vertical-align: middle;\n",
       "    }\n",
       "\n",
       "    .dataframe tbody tr th {\n",
       "        vertical-align: top;\n",
       "    }\n",
       "\n",
       "    .dataframe thead th {\n",
       "        text-align: right;\n",
       "    }\n",
       "</style>\n",
       "<table border=\"1\" class=\"dataframe\">\n",
       "  <thead>\n",
       "    <tr style=\"text-align: right;\">\n",
       "      <th></th>\n",
       "      <th>id</th>\n",
       "      <th>予測結果</th>\n",
       "    </tr>\n",
       "  </thead>\n",
       "  <tbody>\n",
       "    <tr>\n",
       "      <th>0</th>\n",
       "      <td>31471</td>\n",
       "      <td>132601</td>\n",
       "    </tr>\n",
       "    <tr>\n",
       "      <th>1</th>\n",
       "      <td>31472</td>\n",
       "      <td>119610</td>\n",
       "    </tr>\n",
       "    <tr>\n",
       "      <th>2</th>\n",
       "      <td>31473</td>\n",
       "      <td>145300</td>\n",
       "    </tr>\n",
       "    <tr>\n",
       "      <th>3</th>\n",
       "      <td>31474</td>\n",
       "      <td>282929</td>\n",
       "    </tr>\n",
       "    <tr>\n",
       "      <th>4</th>\n",
       "      <td>31475</td>\n",
       "      <td>122894</td>\n",
       "    </tr>\n",
       "    <tr>\n",
       "      <th>...</th>\n",
       "      <td>...</td>\n",
       "      <td>...</td>\n",
       "    </tr>\n",
       "    <tr>\n",
       "      <th>31257</th>\n",
       "      <td>62728</td>\n",
       "      <td>273605</td>\n",
       "    </tr>\n",
       "    <tr>\n",
       "      <th>31258</th>\n",
       "      <td>62729</td>\n",
       "      <td>146768</td>\n",
       "    </tr>\n",
       "    <tr>\n",
       "      <th>31259</th>\n",
       "      <td>62730</td>\n",
       "      <td>43674</td>\n",
       "    </tr>\n",
       "    <tr>\n",
       "      <th>31260</th>\n",
       "      <td>62731</td>\n",
       "      <td>113845</td>\n",
       "    </tr>\n",
       "    <tr>\n",
       "      <th>31261</th>\n",
       "      <td>62732</td>\n",
       "      <td>93600</td>\n",
       "    </tr>\n",
       "  </tbody>\n",
       "</table>\n",
       "<p>31262 rows × 2 columns</p>\n",
       "</div>"
      ],
      "text/plain": [
       "          id    予測結果\n",
       "0      31471  132601\n",
       "1      31472  119610\n",
       "2      31473  145300\n",
       "3      31474  282929\n",
       "4      31475  122894\n",
       "...      ...     ...\n",
       "31257  62728  273605\n",
       "31258  62729  146768\n",
       "31259  62730   43674\n",
       "31260  62731  113845\n",
       "31261  62732   93600\n",
       "\n",
       "[31262 rows x 2 columns]"
      ]
     },
     "execution_count": 112,
     "metadata": {},
     "output_type": "execute_result"
    }
   ],
   "source": [
    "result"
   ]
  },
  {
   "cell_type": "code",
   "execution_count": 113,
   "metadata": {},
   "outputs": [],
   "source": [
    "result.to_csv(\"result.csv\", header=False, index=False)"
   ]
  },
  {
   "cell_type": "code",
   "execution_count": null,
   "metadata": {},
   "outputs": [],
   "source": []
  }
 ],
 "metadata": {
  "kernelspec": {
   "display_name": "Python 3",
   "language": "python",
   "name": "python3"
  },
  "language_info": {
   "codemirror_mode": {
    "name": "ipython",
    "version": 3
   },
   "file_extension": ".py",
   "mimetype": "text/x-python",
   "name": "python",
   "nbconvert_exporter": "python",
   "pygments_lexer": "ipython3",
   "version": "3.8.5"
  }
 },
 "nbformat": 4,
 "nbformat_minor": 4
}
