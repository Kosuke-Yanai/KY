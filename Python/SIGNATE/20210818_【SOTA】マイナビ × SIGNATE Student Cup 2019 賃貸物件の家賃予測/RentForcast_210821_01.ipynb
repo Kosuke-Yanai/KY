{
 "cells": [
  {
   "cell_type": "markdown",
   "metadata": {},
   "source": [
    "# [【SOTA】マイナビ × SIGNATE Student Cup 2019: 賃貸物件の家賃予測](https://signate.jp/competitions/264)"
   ]
  },
  {
   "cell_type": "markdown",
   "metadata": {},
   "source": [
    "## データ読み込み"
   ]
  },
  {
   "cell_type": "code",
   "execution_count": 431,
   "metadata": {},
   "outputs": [],
   "source": [
    "import pandas as pd\n",
    "import numpy as np\n",
    "import pathlib\n",
    "import os\n",
    "\n",
    "# 学習データ、テストデータの読み込み\n",
    "train_path = pathlib.Path(\"./DATA/train.csv\")\n",
    "test_path = pathlib.Path(\"./DATA/test.csv\")\n",
    "\n",
    "train_data = pd.read_csv(train_path)\n",
    "test_data = pd.read_csv(test_path)"
   ]
  },
  {
   "cell_type": "code",
   "execution_count": 472,
   "metadata": {},
   "outputs": [
    {
     "data": {
      "text/html": [
       "<div>\n",
       "<style scoped>\n",
       "    .dataframe tbody tr th:only-of-type {\n",
       "        vertical-align: middle;\n",
       "    }\n",
       "\n",
       "    .dataframe tbody tr th {\n",
       "        vertical-align: top;\n",
       "    }\n",
       "\n",
       "    .dataframe thead th {\n",
       "        text-align: right;\n",
       "    }\n",
       "</style>\n",
       "<table border=\"1\" class=\"dataframe\">\n",
       "  <thead>\n",
       "    <tr style=\"text-align: right;\">\n",
       "      <th></th>\n",
       "      <th>id</th>\n",
       "      <th>所在地</th>\n",
       "      <th>アクセス</th>\n",
       "      <th>間取り</th>\n",
       "      <th>築年数</th>\n",
       "      <th>方角</th>\n",
       "      <th>面積</th>\n",
       "      <th>所在階</th>\n",
       "      <th>バス・トイレ</th>\n",
       "      <th>キッチン</th>\n",
       "      <th>放送・通信</th>\n",
       "      <th>室内設備</th>\n",
       "      <th>駐車場</th>\n",
       "      <th>周辺環境</th>\n",
       "      <th>建物構造</th>\n",
       "      <th>契約期間</th>\n",
       "      <th>予測結果</th>\n",
       "    </tr>\n",
       "  </thead>\n",
       "  <tbody>\n",
       "    <tr>\n",
       "      <th>0</th>\n",
       "      <td>31471</td>\n",
       "      <td>東京都世田谷区深沢５丁目1-27</td>\n",
       "      <td>東急大井町線\\t等々力駅\\t徒歩15分\\t\\t東急田園都市線\\t桜新町駅\\t徒歩24分\\t\\...</td>\n",
       "      <td>2LDK</td>\n",
       "      <td>49年0ヶ月</td>\n",
       "      <td>南</td>\n",
       "      <td>50.22m2</td>\n",
       "      <td>8階／8階建</td>\n",
       "      <td>専用バス／\\t専用トイレ／\\tバス・トイレ別／\\tシャワー／\\t追焚機能／\\t温水洗浄便座／...</td>\n",
       "      <td>ガスコンロ／\\tコンロ3口／\\tシステムキッチン\\t／\\t給湯／\\tL字キッチン</td>\n",
       "      <td>インターネット対応</td>\n",
       "      <td>エアコン付\\tシューズボックス／\\tバルコニー／\\tフローリング／\\tエレベーター\\t公営水...</td>\n",
       "      <td>駐輪場\\t空有\\t駐車場\\t無\\tバイク置き場\\t無</td>\n",
       "      <td>【コンビニ】 74m\\t【スーパー】 215m\\t【病院】 313m\\t【小学校】 219m...</td>\n",
       "      <td>鉄骨造</td>\n",
       "      <td>NaN</td>\n",
       "      <td>158098</td>\n",
       "    </tr>\n",
       "    <tr>\n",
       "      <th>1</th>\n",
       "      <td>31472</td>\n",
       "      <td>東京都目黒区八雲１丁目11-8</td>\n",
       "      <td>東急東横線\\t都立大学駅\\t徒歩6分\\t\\t東急東横線\\t自由が丘駅\\t徒歩17分\\t\\t東...</td>\n",
       "      <td>1R</td>\n",
       "      <td>0年2ヶ月</td>\n",
       "      <td>南東</td>\n",
       "      <td>20.88m2</td>\n",
       "      <td>3階／4階建</td>\n",
       "      <td>専用バス／\\t専用トイレ／\\tバス・トイレ別／\\tシャワー／\\t浴室乾燥機\\t／\\t温水洗浄...</td>\n",
       "      <td>ガスコンロ／\\tコンロ2口／\\tシステムキッチン\\t／\\t給湯</td>\n",
       "      <td>インターネット対応／\\tCSアンテナ／\\tBSアンテナ／\\tインターネット使用料無料</td>\n",
       "      <td>エアコン付\\tシューズボックス／\\tフローリング／\\t室内洗濯機置場\\t公営水道／\\t下水／...</td>\n",
       "      <td>駐車場\\t近隣\\t34,000円(税込)\\t距離200m\\t駐輪場\\t無\\tバイク置き場\\t無</td>\n",
       "      <td>【スーパー】 128m\\t【スーパー】 313m\\t【コンビニ】 374m\\t【コンビニ】 ...</td>\n",
       "      <td>RC（鉄筋コンクリート）</td>\n",
       "      <td>2年間</td>\n",
       "      <td>80236</td>\n",
       "    </tr>\n",
       "    <tr>\n",
       "      <th>2</th>\n",
       "      <td>31473</td>\n",
       "      <td>東京都豊島区池袋本町２丁目22-2</td>\n",
       "      <td>東武東上線\\t北池袋駅\\t徒歩10分\\t\\t埼京線\\t板橋駅\\t徒歩16分\\t\\t山手線\\t...</td>\n",
       "      <td>1K</td>\n",
       "      <td>23年4ヶ月</td>\n",
       "      <td>南東</td>\n",
       "      <td>26.93m2</td>\n",
       "      <td>1階／4階建</td>\n",
       "      <td>専用バス／\\t専用トイレ／\\tバス・トイレ別／\\tシャワー／\\t温水洗浄便座</td>\n",
       "      <td>ガスコンロ／\\t給湯</td>\n",
       "      <td>インターネット対応／\\t光ファイバー／\\tCATV</td>\n",
       "      <td>エアコン付\\tシューズボックス／\\tバルコニー／\\tフローリング／\\t2面採光／\\t室内洗濯...</td>\n",
       "      <td>駐車場\\t空有\\t5,000円(税込)\\t(敷金あり\\t1ヶ月)\\t駐輪場\\t空有\\tバイク...</td>\n",
       "      <td>【スーパー】 529m\\t【スーパー】 810m\\t【コンビニ】 316m\\t【コンビニ】 ...</td>\n",
       "      <td>鉄骨造</td>\n",
       "      <td>2年間</td>\n",
       "      <td>94671</td>\n",
       "    </tr>\n",
       "    <tr>\n",
       "      <th>3</th>\n",
       "      <td>31474</td>\n",
       "      <td>東京都杉並区和泉１丁目</td>\n",
       "      <td>丸ノ内線(中野坂上－方南町)\\t方南町駅\\t徒歩10分\\t\\t京王線\\t代田橋駅\\t徒歩8分...</td>\n",
       "      <td>1K</td>\n",
       "      <td>36年2ヶ月</td>\n",
       "      <td>南東</td>\n",
       "      <td>23.57m2</td>\n",
       "      <td>1階／2階建</td>\n",
       "      <td>シャワー</td>\n",
       "      <td>ガスコンロ／\\t給湯</td>\n",
       "      <td>NaN</td>\n",
       "      <td>エアコン付\\tシューズボックス／\\t2面採光／\\t室外洗濯機置場\\t公営水道／\\t下水／\\t...</td>\n",
       "      <td>駐輪場\\t空有\\t0円</td>\n",
       "      <td>【スーパー】 286m\\t【スーパー】 702m\\t【コンビニ】 489m\\t【コンビニ】 ...</td>\n",
       "      <td>木造</td>\n",
       "      <td>2年間</td>\n",
       "      <td>69022</td>\n",
       "    </tr>\n",
       "    <tr>\n",
       "      <th>4</th>\n",
       "      <td>31475</td>\n",
       "      <td>東京都杉並区堀ノ内２丁目</td>\n",
       "      <td>丸ノ内線(中野坂上－方南町)\\t方南町駅\\t徒歩12分\\t\\t丸ノ内線(池袋－荻窪)\\t新高...</td>\n",
       "      <td>2LDK</td>\n",
       "      <td>45年4ヶ月</td>\n",
       "      <td>南</td>\n",
       "      <td>50m2</td>\n",
       "      <td>4階／4階建</td>\n",
       "      <td>専用バス／\\t専用トイレ／\\tバス・トイレ別</td>\n",
       "      <td>コンロ設置可（口数不明）／\\t給湯</td>\n",
       "      <td>インターネット対応</td>\n",
       "      <td>冷房／\\tエアコン付\\tシューズボックス／\\tバルコニー／\\tフローリング／\\t室内洗濯機置...</td>\n",
       "      <td>駐車場\\t近隣\\t22,600円\\t距離177m</td>\n",
       "      <td>【コンビニ】 312m\\t【コンビニ】 436m\\t【スーパー】 902m\\t【コンビニ】 ...</td>\n",
       "      <td>RC（鉄筋コンクリート）</td>\n",
       "      <td>2年間</td>\n",
       "      <td>133378</td>\n",
       "    </tr>\n",
       "  </tbody>\n",
       "</table>\n",
       "</div>"
      ],
      "text/plain": [
       "      id                所在地  \\\n",
       "0  31471   東京都世田谷区深沢５丁目1-27   \n",
       "1  31472    東京都目黒区八雲１丁目11-8   \n",
       "2  31473  東京都豊島区池袋本町２丁目22-2   \n",
       "3  31474        東京都杉並区和泉１丁目   \n",
       "4  31475       東京都杉並区堀ノ内２丁目   \n",
       "\n",
       "                                                アクセス   間取り     築年数  方角  \\\n",
       "0  東急大井町線\\t等々力駅\\t徒歩15分\\t\\t東急田園都市線\\t桜新町駅\\t徒歩24分\\t\\...  2LDK  49年0ヶ月   南   \n",
       "1  東急東横線\\t都立大学駅\\t徒歩6分\\t\\t東急東横線\\t自由が丘駅\\t徒歩17分\\t\\t東...    1R   0年2ヶ月  南東   \n",
       "2  東武東上線\\t北池袋駅\\t徒歩10分\\t\\t埼京線\\t板橋駅\\t徒歩16分\\t\\t山手線\\t...    1K  23年4ヶ月  南東   \n",
       "3  丸ノ内線(中野坂上－方南町)\\t方南町駅\\t徒歩10分\\t\\t京王線\\t代田橋駅\\t徒歩8分...    1K  36年2ヶ月  南東   \n",
       "4  丸ノ内線(中野坂上－方南町)\\t方南町駅\\t徒歩12分\\t\\t丸ノ内線(池袋－荻窪)\\t新高...  2LDK  45年4ヶ月   南   \n",
       "\n",
       "        面積     所在階                                             バス・トイレ  \\\n",
       "0  50.22m2  8階／8階建  専用バス／\\t専用トイレ／\\tバス・トイレ別／\\tシャワー／\\t追焚機能／\\t温水洗浄便座／...   \n",
       "1  20.88m2  3階／4階建  専用バス／\\t専用トイレ／\\tバス・トイレ別／\\tシャワー／\\t浴室乾燥機\\t／\\t温水洗浄...   \n",
       "2  26.93m2  1階／4階建             専用バス／\\t専用トイレ／\\tバス・トイレ別／\\tシャワー／\\t温水洗浄便座   \n",
       "3  23.57m2  1階／2階建                                               シャワー   \n",
       "4     50m2  4階／4階建                             専用バス／\\t専用トイレ／\\tバス・トイレ別   \n",
       "\n",
       "                                       キッチン  \\\n",
       "0  ガスコンロ／\\tコンロ3口／\\tシステムキッチン\\t／\\t給湯／\\tL字キッチン   \n",
       "1           ガスコンロ／\\tコンロ2口／\\tシステムキッチン\\t／\\t給湯   \n",
       "2                                ガスコンロ／\\t給湯   \n",
       "3                                ガスコンロ／\\t給湯   \n",
       "4                         コンロ設置可（口数不明）／\\t給湯   \n",
       "\n",
       "                                        放送・通信  \\\n",
       "0                                   インターネット対応   \n",
       "1  インターネット対応／\\tCSアンテナ／\\tBSアンテナ／\\tインターネット使用料無料   \n",
       "2                   インターネット対応／\\t光ファイバー／\\tCATV   \n",
       "3                                         NaN   \n",
       "4                                   インターネット対応   \n",
       "\n",
       "                                                室内設備  \\\n",
       "0  エアコン付\\tシューズボックス／\\tバルコニー／\\tフローリング／\\tエレベーター\\t公営水...   \n",
       "1  エアコン付\\tシューズボックス／\\tフローリング／\\t室内洗濯機置場\\t公営水道／\\t下水／...   \n",
       "2  エアコン付\\tシューズボックス／\\tバルコニー／\\tフローリング／\\t2面採光／\\t室内洗濯...   \n",
       "3  エアコン付\\tシューズボックス／\\t2面採光／\\t室外洗濯機置場\\t公営水道／\\t下水／\\t...   \n",
       "4  冷房／\\tエアコン付\\tシューズボックス／\\tバルコニー／\\tフローリング／\\t室内洗濯機置...   \n",
       "\n",
       "                                                 駐車場  \\\n",
       "0                         駐輪場\\t空有\\t駐車場\\t無\\tバイク置き場\\t無   \n",
       "1    駐車場\\t近隣\\t34,000円(税込)\\t距離200m\\t駐輪場\\t無\\tバイク置き場\\t無   \n",
       "2  駐車場\\t空有\\t5,000円(税込)\\t(敷金あり\\t1ヶ月)\\t駐輪場\\t空有\\tバイク...   \n",
       "3                                        駐輪場\\t空有\\t0円   \n",
       "4                           駐車場\\t近隣\\t22,600円\\t距離177m   \n",
       "\n",
       "                                                周辺環境          建物構造 契約期間  \\\n",
       "0  【コンビニ】 74m\\t【スーパー】 215m\\t【病院】 313m\\t【小学校】 219m...           鉄骨造  NaN   \n",
       "1  【スーパー】 128m\\t【スーパー】 313m\\t【コンビニ】 374m\\t【コンビニ】 ...  RC（鉄筋コンクリート）  2年間   \n",
       "2  【スーパー】 529m\\t【スーパー】 810m\\t【コンビニ】 316m\\t【コンビニ】 ...           鉄骨造  2年間   \n",
       "3  【スーパー】 286m\\t【スーパー】 702m\\t【コンビニ】 489m\\t【コンビニ】 ...            木造  2年間   \n",
       "4  【コンビニ】 312m\\t【コンビニ】 436m\\t【スーパー】 902m\\t【コンビニ】 ...  RC（鉄筋コンクリート）  2年間   \n",
       "\n",
       "     予測結果  \n",
       "0  158098  \n",
       "1   80236  \n",
       "2   94671  \n",
       "3   69022  \n",
       "4  133378  "
      ]
     },
     "execution_count": 472,
     "metadata": {},
     "output_type": "execute_result"
    }
   ],
   "source": [
    "test_data.head()"
   ]
  },
  {
   "cell_type": "markdown",
   "metadata": {},
   "source": [
    "## 前処理"
   ]
  },
  {
   "cell_type": "code",
   "execution_count": 433,
   "metadata": {},
   "outputs": [],
   "source": [
    "# 簡単な前処理\n",
    "train_data_1 = train_data[[\"id\", \"賃料\", \"間取り\", \"面積\", \"所在階\"]]\n",
    "test_data_1 = test_data[[\"id\", \"間取り\", \"面積\", \"所在階\"]]"
   ]
  },
  {
   "cell_type": "code",
   "execution_count": 434,
   "metadata": {
    "collapsed": true,
    "jupyter": {
     "outputs_hidden": true
    }
   },
   "outputs": [
    {
     "name": "stderr",
     "output_type": "stream",
     "text": [
      "<ipython-input-434-95a8caebc059>:7: SettingWithCopyWarning: \n",
      "A value is trying to be set on a copy of a slice from a DataFrame.\n",
      "Try using .loc[row_indexer,col_indexer] = value instead\n",
      "\n",
      "See the caveats in the documentation: https://pandas.pydata.org/pandas-docs/stable/user_guide/indexing.html#returning-a-view-versus-a-copy\n",
      "  train_data_1[\"間取りID\"] = le.transform(train_data_1[\"間取り\"])\n",
      "<ipython-input-434-95a8caebc059>:8: SettingWithCopyWarning: \n",
      "A value is trying to be set on a copy of a slice from a DataFrame.\n",
      "Try using .loc[row_indexer,col_indexer] = value instead\n",
      "\n",
      "See the caveats in the documentation: https://pandas.pydata.org/pandas-docs/stable/user_guide/indexing.html#returning-a-view-versus-a-copy\n",
      "  test_data_1[\"間取りID\"] = le.transform(test_data_1[\"間取り\"])\n"
     ]
    }
   ],
   "source": [
    "# 間取りにlabel encodingを適用\n",
    "from sklearn.preprocessing import LabelEncoder\n",
    "\n",
    "le = LabelEncoder()\n",
    "le.fit(pd.concat([train_data_1[\"間取り\"],test_data_1[\"間取り\"]]))\n",
    "\n",
    "train_data_1[\"間取りID\"] = le.transform(train_data_1[\"間取り\"])\n",
    "test_data_1[\"間取りID\"] = le.transform(test_data_1[\"間取り\"])"
   ]
  },
  {
   "cell_type": "code",
   "execution_count": 435,
   "metadata": {},
   "outputs": [],
   "source": [
    "# 面積のカラムタイトルを面積[m2]に置換\n",
    "train_data_1 = train_data_1.rename(columns={\"面積\": \"面積m2\"})\n",
    "test_data_1 = test_data_1.rename(columns={\"面積\": \"面積m2\"})"
   ]
  },
  {
   "cell_type": "code",
   "execution_count": 436,
   "metadata": {},
   "outputs": [],
   "source": [
    "# カラムタイトル面積[m2]の要素からm2を削除\n",
    "train_data_1['面積m2'] = train_data_1['面積m2'].str.replace('m2', '').astype(float)\n",
    "test_data_1['面積m2'] = test_data_1['面積m2'].str.replace('m2', '').astype(float)"
   ]
  },
  {
   "cell_type": "code",
   "execution_count": 437,
   "metadata": {},
   "outputs": [],
   "source": [
    "# 所在階の中身を\"／\"で2つの列に分割\n",
    "train_data_1 = pd.concat([train_data_1, train_data_1['所在階'].str.split('／', expand=True)], axis=1)\n",
    "test_data_1 = pd.concat([test_data_1, test_data_1['所在階'].str.split('／', expand=True)], axis=1)"
   ]
  },
  {
   "cell_type": "code",
   "execution_count": 438,
   "metadata": {},
   "outputs": [],
   "source": [
    "# 分割した所在階のカラム名変更　0:所在、1:階層\n",
    "train_data_1 = train_data_1.rename(columns={0:\"所在\", 1:\"階層\"})\n",
    "test_data_1 = test_data_1.rename(columns={0:\"所在\", 1:\"階層\"})"
   ]
  },
  {
   "cell_type": "code",
   "execution_count": 439,
   "metadata": {},
   "outputs": [],
   "source": [
    "# 所在と階層の要素を整形\n",
    "train_data_1['所在'] = train_data_1['所在'].str.replace('階', '')\n",
    "train_data_1['所在'] = train_data_1['所在'].str.replace('建', '')\n",
    "train_data_1['所在'] = train_data_1['所在'].str.replace('地下', '-')\n",
    "train_data_1['所在'] = train_data_1['所在'].str.replace('\\（.*\\）', '', regex=True)\n",
    "train_data_1['階層'] = train_data_1['階層'].str.replace('階建', '')\n",
    "train_data_1['階層'] = train_data_1['階層'].str.replace('\\（.*\\）', '', regex=True)\n",
    "train_data_1['所在'] = train_data_1['所在'].replace('', np.nan)\n",
    "\n",
    "test_data_1['所在'] = test_data_1['所在'].str.replace('階', '')\n",
    "test_data_1['所在'] = test_data_1['所在'].str.replace('建', '')\n",
    "test_data_1['所在'] = test_data_1['所在'].str.replace('地下', '-')\n",
    "test_data_1['所在'] = test_data_1['所在'].str.replace('\\（.*\\）', '', regex=True)\n",
    "test_data_1['階層'] = test_data_1['階層'].str.replace('階建', '')\n",
    "test_data_1['階層'] = test_data_1['階層'].str.replace('\\（.*\\）', '', regex=True)\n",
    "test_data_1['所在'] = test_data_1['所在'].replace('', np.nan)"
   ]
  },
  {
   "cell_type": "code",
   "execution_count": 440,
   "metadata": {},
   "outputs": [],
   "source": [
    "# \"階層\"がNoneの箇所を\"所在\"の値で埋める\n",
    "train_data_1['階層'].fillna(train_data_1['所在'], inplace=True)\n",
    "test_data_1['階層'].fillna(test_data_1['所在'], inplace=True)"
   ]
  },
  {
   "cell_type": "code",
   "execution_count": 441,
   "metadata": {},
   "outputs": [],
   "source": [
    "# 所在と階層の要素をfloat型に変換する\n",
    "train_data_1['所在'] = train_data_1['所在'].astype(float)\n",
    "train_data_1['階層'] = train_data_1['階層'].astype(float)\n",
    "\n",
    "test_data_1['所在'] = test_data_1['所在'].astype(float)\n",
    "test_data_1['階層'] = test_data_1['階層'].astype(float)"
   ]
  },
  {
   "cell_type": "code",
   "execution_count": 442,
   "metadata": {},
   "outputs": [],
   "source": [
    "# 間取りと所在階のカラムを削除\n",
    "train_data_1 = train_data_1.drop('間取り', axis=1)\n",
    "train_data_1 = train_data_1.drop('所在階', axis=1)\n",
    "\n",
    "test_data_1 = test_data_1.drop('間取り', axis=1)\n",
    "test_data_1 = test_data_1.drop('所在階', axis=1)"
   ]
  },
  {
   "cell_type": "code",
   "execution_count": 443,
   "metadata": {},
   "outputs": [],
   "source": [
    "# IDの削除\n",
    "train_data_1_no_ID = train_data_1.drop([\"id\"], axis=1)\n",
    "test_data_1_no_ID = test_data_1.drop([\"id\"], axis=1)"
   ]
  },
  {
   "cell_type": "markdown",
   "metadata": {},
   "source": [
    "## データチェック"
   ]
  },
  {
   "cell_type": "code",
   "execution_count": 444,
   "metadata": {},
   "outputs": [
    {
     "data": {
      "text/html": [
       "<div>\n",
       "<style scoped>\n",
       "    .dataframe tbody tr th:only-of-type {\n",
       "        vertical-align: middle;\n",
       "    }\n",
       "\n",
       "    .dataframe tbody tr th {\n",
       "        vertical-align: top;\n",
       "    }\n",
       "\n",
       "    .dataframe thead th {\n",
       "        text-align: right;\n",
       "    }\n",
       "</style>\n",
       "<table border=\"1\" class=\"dataframe\">\n",
       "  <thead>\n",
       "    <tr style=\"text-align: right;\">\n",
       "      <th></th>\n",
       "      <th>id</th>\n",
       "      <th>賃料</th>\n",
       "      <th>面積m2</th>\n",
       "      <th>間取りID</th>\n",
       "      <th>所在</th>\n",
       "      <th>階層</th>\n",
       "    </tr>\n",
       "  </thead>\n",
       "  <tbody>\n",
       "    <tr>\n",
       "      <th>0</th>\n",
       "      <td>1</td>\n",
       "      <td>75000</td>\n",
       "      <td>20.01</td>\n",
       "      <td>3</td>\n",
       "      <td>1.0</td>\n",
       "      <td>12.0</td>\n",
       "    </tr>\n",
       "    <tr>\n",
       "      <th>1</th>\n",
       "      <td>2</td>\n",
       "      <td>76000</td>\n",
       "      <td>16.50</td>\n",
       "      <td>9</td>\n",
       "      <td>5.0</td>\n",
       "      <td>10.0</td>\n",
       "    </tr>\n",
       "    <tr>\n",
       "      <th>2</th>\n",
       "      <td>3</td>\n",
       "      <td>110000</td>\n",
       "      <td>22.05</td>\n",
       "      <td>3</td>\n",
       "      <td>12.0</td>\n",
       "      <td>15.0</td>\n",
       "    </tr>\n",
       "    <tr>\n",
       "      <th>3</th>\n",
       "      <td>4</td>\n",
       "      <td>150000</td>\n",
       "      <td>60.48</td>\n",
       "      <td>14</td>\n",
       "      <td>3.0</td>\n",
       "      <td>4.0</td>\n",
       "    </tr>\n",
       "    <tr>\n",
       "      <th>4</th>\n",
       "      <td>5</td>\n",
       "      <td>74000</td>\n",
       "      <td>39.66</td>\n",
       "      <td>10</td>\n",
       "      <td>1.0</td>\n",
       "      <td>2.0</td>\n",
       "    </tr>\n",
       "  </tbody>\n",
       "</table>\n",
       "</div>"
      ],
      "text/plain": [
       "   id      賃料   面積m2  間取りID    所在    階層\n",
       "0   1   75000  20.01      3   1.0  12.0\n",
       "1   2   76000  16.50      9   5.0  10.0\n",
       "2   3  110000  22.05      3  12.0  15.0\n",
       "3   4  150000  60.48     14   3.0   4.0\n",
       "4   5   74000  39.66     10   1.0   2.0"
      ]
     },
     "execution_count": 444,
     "metadata": {},
     "output_type": "execute_result"
    }
   ],
   "source": [
    "train_data_1.head()"
   ]
  },
  {
   "cell_type": "code",
   "execution_count": 445,
   "metadata": {},
   "outputs": [
    {
     "data": {
      "text/html": [
       "<div>\n",
       "<style scoped>\n",
       "    .dataframe tbody tr th:only-of-type {\n",
       "        vertical-align: middle;\n",
       "    }\n",
       "\n",
       "    .dataframe tbody tr th {\n",
       "        vertical-align: top;\n",
       "    }\n",
       "\n",
       "    .dataframe thead th {\n",
       "        text-align: right;\n",
       "    }\n",
       "</style>\n",
       "<table border=\"1\" class=\"dataframe\">\n",
       "  <thead>\n",
       "    <tr style=\"text-align: right;\">\n",
       "      <th></th>\n",
       "      <th>id</th>\n",
       "      <th>面積m2</th>\n",
       "      <th>間取りID</th>\n",
       "      <th>所在</th>\n",
       "      <th>階層</th>\n",
       "    </tr>\n",
       "  </thead>\n",
       "  <tbody>\n",
       "    <tr>\n",
       "      <th>0</th>\n",
       "      <td>31471</td>\n",
       "      <td>50.22</td>\n",
       "      <td>14</td>\n",
       "      <td>8.0</td>\n",
       "      <td>8.0</td>\n",
       "    </tr>\n",
       "    <tr>\n",
       "      <th>1</th>\n",
       "      <td>31472</td>\n",
       "      <td>20.88</td>\n",
       "      <td>9</td>\n",
       "      <td>3.0</td>\n",
       "      <td>4.0</td>\n",
       "    </tr>\n",
       "    <tr>\n",
       "      <th>2</th>\n",
       "      <td>31473</td>\n",
       "      <td>26.93</td>\n",
       "      <td>3</td>\n",
       "      <td>1.0</td>\n",
       "      <td>4.0</td>\n",
       "    </tr>\n",
       "    <tr>\n",
       "      <th>3</th>\n",
       "      <td>31474</td>\n",
       "      <td>23.57</td>\n",
       "      <td>3</td>\n",
       "      <td>1.0</td>\n",
       "      <td>2.0</td>\n",
       "    </tr>\n",
       "    <tr>\n",
       "      <th>4</th>\n",
       "      <td>31475</td>\n",
       "      <td>50.00</td>\n",
       "      <td>14</td>\n",
       "      <td>4.0</td>\n",
       "      <td>4.0</td>\n",
       "    </tr>\n",
       "  </tbody>\n",
       "</table>\n",
       "</div>"
      ],
      "text/plain": [
       "      id   面積m2  間取りID   所在   階層\n",
       "0  31471  50.22     14  8.0  8.0\n",
       "1  31472  20.88      9  3.0  4.0\n",
       "2  31473  26.93      3  1.0  4.0\n",
       "3  31474  23.57      3  1.0  2.0\n",
       "4  31475  50.00     14  4.0  4.0"
      ]
     },
     "execution_count": 445,
     "metadata": {},
     "output_type": "execute_result"
    }
   ],
   "source": [
    "test_data_1.head()"
   ]
  },
  {
   "cell_type": "code",
   "execution_count": 446,
   "metadata": {},
   "outputs": [
    {
     "data": {
      "text/plain": [
       "id         0\n",
       "賃料         0\n",
       "面積m2       0\n",
       "間取りID      0\n",
       "所在       120\n",
       "階層         0\n",
       "dtype: int64"
      ]
     },
     "execution_count": 446,
     "metadata": {},
     "output_type": "execute_result"
    }
   ],
   "source": [
    "train_data_1.isnull().sum()"
   ]
  },
  {
   "cell_type": "code",
   "execution_count": 447,
   "metadata": {},
   "outputs": [
    {
     "data": {
      "text/plain": [
       "id         0\n",
       "面積m2       0\n",
       "間取りID      0\n",
       "所在       114\n",
       "階層         1\n",
       "dtype: int64"
      ]
     },
     "execution_count": 447,
     "metadata": {},
     "output_type": "execute_result"
    }
   ],
   "source": [
    "test_data_1.isnull().sum()"
   ]
  },
  {
   "cell_type": "markdown",
   "metadata": {},
   "source": [
    "## 学習 "
   ]
  },
  {
   "cell_type": "code",
   "execution_count": 448,
   "metadata": {},
   "outputs": [],
   "source": [
    "# 特徴データと目的変数の設定\n",
    "train_x = train_data_1_no_ID.drop([\"賃料\"], axis=1)\n",
    "train_y = train_data_1_no_ID[\"賃料\"]\n",
    "\n",
    "test_x = test_data_1_no_ID"
   ]
  },
  {
   "cell_type": "code",
   "execution_count": 449,
   "metadata": {
    "collapsed": true,
    "jupyter": {
     "outputs_hidden": true
    }
   },
   "outputs": [
    {
     "name": "stdout",
     "output_type": "stream",
     "text": [
      "[16:36:29] WARNING: ..\\src\\learner.cc:541: \n",
      "Parameters: { sileng } might not be used.\n",
      "\n",
      "  This may not be accurate due to some parameters are only used in language bindings but\n",
      "  passed down to XGBoost core.  Or some parameters are not used but slip through this\n",
      "  verification. Please open an issue if you find above cases.\n",
      "\n",
      "\n",
      "[0]\ttrain-rmse:101464.46875\teval-rmse:101134.56250\n",
      "[1]\ttrain-rmse:75651.82812\teval-rmse:75958.37500\n",
      "[2]\ttrain-rmse:58470.76172\teval-rmse:59684.37109\n",
      "[3]\ttrain-rmse:47378.18750\teval-rmse:49406.23438\n",
      "[4]\ttrain-rmse:40417.51172\teval-rmse:43100.24219\n",
      "[5]\ttrain-rmse:36214.20703\teval-rmse:39222.83203\n",
      "[6]\ttrain-rmse:33776.40234\teval-rmse:37142.20703\n",
      "[7]\ttrain-rmse:32268.12891\teval-rmse:35887.89844\n",
      "[8]\ttrain-rmse:31364.70312\teval-rmse:35211.92578\n",
      "[9]\ttrain-rmse:30845.23633\teval-rmse:34737.82812\n",
      "[10]\ttrain-rmse:30480.51367\teval-rmse:34433.15625\n",
      "[11]\ttrain-rmse:30155.82617\teval-rmse:34314.83594\n",
      "[12]\ttrain-rmse:29985.79883\teval-rmse:34239.74609\n",
      "[13]\ttrain-rmse:29750.81055\teval-rmse:34161.15234\n",
      "[14]\ttrain-rmse:29467.80273\teval-rmse:34103.34766\n",
      "[15]\ttrain-rmse:29282.43555\teval-rmse:34081.10547\n",
      "[16]\ttrain-rmse:29190.32812\teval-rmse:34003.87109\n",
      "[17]\ttrain-rmse:29125.80664\teval-rmse:34045.04297\n",
      "[18]\ttrain-rmse:29083.34180\teval-rmse:34068.55469\n",
      "[19]\ttrain-rmse:28978.09570\teval-rmse:33995.49219\n",
      "[20]\ttrain-rmse:28755.68750\teval-rmse:33931.64453\n",
      "[21]\ttrain-rmse:28583.88281\teval-rmse:33812.14453\n",
      "[22]\ttrain-rmse:28419.75391\teval-rmse:33739.45703\n",
      "[23]\ttrain-rmse:28247.14648\teval-rmse:33688.75391\n",
      "[24]\ttrain-rmse:28010.95703\teval-rmse:33646.71484\n",
      "[25]\ttrain-rmse:27913.34180\teval-rmse:33654.96875\n",
      "[26]\ttrain-rmse:27873.22656\teval-rmse:33680.21094\n",
      "[27]\ttrain-rmse:27759.86328\teval-rmse:33671.89453\n",
      "[28]\ttrain-rmse:27676.05469\teval-rmse:33567.08984\n",
      "[29]\ttrain-rmse:27564.52539\teval-rmse:33517.43359\n",
      "[30]\ttrain-rmse:27468.35938\teval-rmse:33488.77734\n",
      "[31]\ttrain-rmse:27449.09766\teval-rmse:33508.65234\n",
      "[32]\ttrain-rmse:27380.53711\teval-rmse:33464.34375\n",
      "[33]\ttrain-rmse:27213.81836\teval-rmse:33389.07812\n",
      "[34]\ttrain-rmse:27099.74609\teval-rmse:33354.57031\n",
      "[35]\ttrain-rmse:27068.75586\teval-rmse:33345.50391\n",
      "[36]\ttrain-rmse:26998.12109\teval-rmse:33324.73828\n",
      "[37]\ttrain-rmse:26982.71680\teval-rmse:33350.65625\n",
      "[38]\ttrain-rmse:26818.05273\teval-rmse:33332.60156\n",
      "[39]\ttrain-rmse:26748.80078\teval-rmse:33326.77734\n",
      "[40]\ttrain-rmse:26651.02930\teval-rmse:33306.73047\n",
      "[41]\ttrain-rmse:26563.21484\teval-rmse:33293.47266\n",
      "[42]\ttrain-rmse:26361.24023\teval-rmse:33217.90625\n",
      "[43]\ttrain-rmse:26280.55469\teval-rmse:33186.77344\n",
      "[44]\ttrain-rmse:26249.97266\teval-rmse:33183.43359\n",
      "[45]\ttrain-rmse:26177.51562\teval-rmse:33157.44922\n",
      "[46]\ttrain-rmse:26051.12109\teval-rmse:33135.93750\n",
      "[47]\ttrain-rmse:25990.61914\teval-rmse:33132.14844\n",
      "[48]\ttrain-rmse:25968.03711\teval-rmse:33090.00391\n",
      "[49]\ttrain-rmse:25826.92383\teval-rmse:33085.83203\n",
      "[16:36:30] WARNING: ..\\src\\learner.cc:541: \n",
      "Parameters: { sileng } might not be used.\n",
      "\n",
      "  This may not be accurate due to some parameters are only used in language bindings but\n",
      "  passed down to XGBoost core.  Or some parameters are not used but slip through this\n",
      "  verification. Please open an issue if you find above cases.\n",
      "\n",
      "\n",
      "[0]\ttrain-rmse:101449.46094\teval-rmse:101217.79688\n",
      "[1]\ttrain-rmse:75561.09375\teval-rmse:75098.10938\n",
      "[2]\ttrain-rmse:58338.92969\teval-rmse:58726.99219\n",
      "[3]\ttrain-rmse:47210.64453\teval-rmse:49164.56641\n",
      "[4]\ttrain-rmse:40077.05859\teval-rmse:43866.71875\n",
      "[5]\ttrain-rmse:35907.98438\teval-rmse:41013.14844\n",
      "[6]\ttrain-rmse:33443.55078\teval-rmse:39684.77344\n",
      "[7]\ttrain-rmse:31865.06836\teval-rmse:38781.31641\n",
      "[8]\ttrain-rmse:30865.57617\teval-rmse:38503.01562\n",
      "[9]\ttrain-rmse:30292.64062\teval-rmse:38661.68750\n",
      "[10]\ttrain-rmse:29793.10156\teval-rmse:38859.35938\n",
      "[11]\ttrain-rmse:29464.33789\teval-rmse:39105.79688\n",
      "[12]\ttrain-rmse:29154.55273\teval-rmse:39381.50781\n",
      "[13]\ttrain-rmse:28986.50977\teval-rmse:39609.73438\n",
      "[14]\ttrain-rmse:28805.29102\teval-rmse:39495.50391\n",
      "[15]\ttrain-rmse:28672.33984\teval-rmse:39558.98047\n",
      "[16]\ttrain-rmse:28513.40820\teval-rmse:39496.58594\n",
      "[17]\ttrain-rmse:28400.17969\teval-rmse:39505.43359\n",
      "[18]\ttrain-rmse:28271.33398\teval-rmse:39813.64453\n",
      "[19]\ttrain-rmse:28099.42188\teval-rmse:39931.09766\n",
      "[20]\ttrain-rmse:28028.18164\teval-rmse:39856.13672\n",
      "[21]\ttrain-rmse:27962.61719\teval-rmse:39881.91016\n",
      "[22]\ttrain-rmse:27809.38281\teval-rmse:39820.00781\n",
      "[23]\ttrain-rmse:27681.74609\teval-rmse:39764.88281\n",
      "[24]\ttrain-rmse:27510.78711\teval-rmse:39732.92578\n",
      "[25]\ttrain-rmse:27408.56641\teval-rmse:39750.21094\n",
      "[26]\ttrain-rmse:27199.75781\teval-rmse:39697.69141\n",
      "[27]\ttrain-rmse:27132.41211\teval-rmse:39729.26562\n",
      "[28]\ttrain-rmse:27026.74023\teval-rmse:39559.57031\n",
      "[29]\ttrain-rmse:26965.26562\teval-rmse:39533.90625\n",
      "[30]\ttrain-rmse:26875.11719\teval-rmse:39525.17188\n",
      "[31]\ttrain-rmse:26816.65820\teval-rmse:39525.98828\n",
      "[32]\ttrain-rmse:26655.06836\teval-rmse:39479.48828\n",
      "[33]\ttrain-rmse:26550.26367\teval-rmse:39353.87109\n",
      "[34]\ttrain-rmse:26437.73438\teval-rmse:39378.03906\n",
      "[35]\ttrain-rmse:26326.86328\teval-rmse:39366.60547\n",
      "[36]\ttrain-rmse:26278.64258\teval-rmse:39391.73828\n",
      "[37]\ttrain-rmse:26155.73828\teval-rmse:39400.42969\n",
      "[38]\ttrain-rmse:26049.75391\teval-rmse:39373.51172\n",
      "[39]\ttrain-rmse:26027.32422\teval-rmse:39426.16406\n",
      "[40]\ttrain-rmse:25996.19727\teval-rmse:39459.36719\n",
      "[41]\ttrain-rmse:25894.50391\teval-rmse:39459.47656\n",
      "[42]\ttrain-rmse:25770.71289\teval-rmse:39385.88672\n",
      "[43]\ttrain-rmse:25587.05664\teval-rmse:39400.78516\n",
      "[44]\ttrain-rmse:25572.61719\teval-rmse:39448.08984\n",
      "[45]\ttrain-rmse:25519.65820\teval-rmse:39459.70703\n",
      "[46]\ttrain-rmse:25410.79492\teval-rmse:39450.49609\n",
      "[47]\ttrain-rmse:25339.72656\teval-rmse:39448.36328\n",
      "[48]\ttrain-rmse:25289.38477\teval-rmse:39571.51562\n",
      "[49]\ttrain-rmse:25218.58008\teval-rmse:39633.65234\n",
      "[16:36:30] WARNING: ..\\src\\learner.cc:541: \n",
      "Parameters: { sileng } might not be used.\n",
      "\n",
      "  This may not be accurate due to some parameters are only used in language bindings but\n",
      "  passed down to XGBoost core.  Or some parameters are not used but slip through this\n",
      "  verification. Please open an issue if you find above cases.\n",
      "\n",
      "\n",
      "[0]\ttrain-rmse:100974.46875\teval-rmse:103827.35938\n",
      "[1]\ttrain-rmse:75292.51562\teval-rmse:79047.57031\n",
      "[2]\ttrain-rmse:58317.77344\teval-rmse:63094.87891\n",
      "[3]\ttrain-rmse:47234.39844\teval-rmse:52895.39453\n",
      "[4]\ttrain-rmse:40467.66016\teval-rmse:47123.33984\n",
      "[5]\ttrain-rmse:36339.94531\teval-rmse:44064.54297\n",
      "[6]\ttrain-rmse:33831.92578\teval-rmse:42413.62500\n",
      "[7]\ttrain-rmse:32352.72461\teval-rmse:41732.82031\n",
      "[8]\ttrain-rmse:31445.22070\teval-rmse:41675.83203\n",
      "[9]\ttrain-rmse:30906.75781\teval-rmse:41904.22266\n",
      "[10]\ttrain-rmse:30554.89453\teval-rmse:42166.00781\n",
      "[11]\ttrain-rmse:30160.43945\teval-rmse:42526.85938\n",
      "[12]\ttrain-rmse:29749.45703\teval-rmse:42787.71094\n",
      "[13]\ttrain-rmse:29349.90625\teval-rmse:43009.98047\n",
      "[14]\ttrain-rmse:29212.74023\teval-rmse:42984.94922\n",
      "[15]\ttrain-rmse:29014.58008\teval-rmse:43007.38672\n",
      "[16]\ttrain-rmse:28788.60352\teval-rmse:42893.45703\n",
      "[17]\ttrain-rmse:28615.57227\teval-rmse:43055.73438\n",
      "[18]\ttrain-rmse:28518.82812\teval-rmse:43186.47656\n",
      "[19]\ttrain-rmse:28399.10352\teval-rmse:43164.47656\n",
      "[20]\ttrain-rmse:28141.32812\teval-rmse:43116.63672\n",
      "[21]\ttrain-rmse:27989.35742\teval-rmse:43091.57812\n",
      "[22]\ttrain-rmse:27811.11328\teval-rmse:42991.79688\n",
      "[23]\ttrain-rmse:27755.00391\teval-rmse:43088.21094\n",
      "[24]\ttrain-rmse:27627.09375\teval-rmse:43160.40234\n",
      "[25]\ttrain-rmse:27497.14453\teval-rmse:43092.62891\n",
      "[26]\ttrain-rmse:27353.06445\teval-rmse:43042.03125\n",
      "[27]\ttrain-rmse:27246.77930\teval-rmse:43006.56641\n",
      "[28]\ttrain-rmse:27092.03711\teval-rmse:42959.85156\n",
      "[29]\ttrain-rmse:26843.50781\teval-rmse:42916.32812\n",
      "[30]\ttrain-rmse:26822.71484\teval-rmse:42874.60156\n",
      "[31]\ttrain-rmse:26692.39648\teval-rmse:42831.17188\n",
      "[32]\ttrain-rmse:26634.97070\teval-rmse:42797.07812\n",
      "[33]\ttrain-rmse:26570.92188\teval-rmse:42810.78906\n",
      "[34]\ttrain-rmse:26452.46289\teval-rmse:42756.14453\n",
      "[35]\ttrain-rmse:26314.54688\teval-rmse:42710.31641\n",
      "[36]\ttrain-rmse:26296.65625\teval-rmse:42727.57031\n",
      "[37]\ttrain-rmse:26119.43555\teval-rmse:42746.45703\n",
      "[38]\ttrain-rmse:26083.58398\teval-rmse:42721.46094\n",
      "[39]\ttrain-rmse:26059.89258\teval-rmse:42757.28125\n",
      "[40]\ttrain-rmse:25895.65430\teval-rmse:42701.07031\n",
      "[41]\ttrain-rmse:25738.45898\teval-rmse:42594.75391\n",
      "[42]\ttrain-rmse:25640.64453\teval-rmse:42560.31250\n",
      "[43]\ttrain-rmse:25615.54688\teval-rmse:42544.52344\n",
      "[44]\ttrain-rmse:25602.87891\teval-rmse:42524.41406\n",
      "[45]\ttrain-rmse:25553.09961\teval-rmse:42490.55078\n",
      "[46]\ttrain-rmse:25439.00000\teval-rmse:42444.12891\n",
      "[47]\ttrain-rmse:25379.29688\teval-rmse:42451.89062\n",
      "[48]\ttrain-rmse:25275.19531\teval-rmse:42392.66016\n",
      "[49]\ttrain-rmse:25262.68945\teval-rmse:42422.88672\n",
      "[16:36:30] WARNING: ..\\src\\learner.cc:541: \n",
      "Parameters: { sileng } might not be used.\n",
      "\n",
      "  This may not be accurate due to some parameters are only used in language bindings but\n",
      "  passed down to XGBoost core.  Or some parameters are not used but slip through this\n",
      "  verification. Please open an issue if you find above cases.\n",
      "\n",
      "\n",
      "[0]\ttrain-rmse:101617.46875\teval-rmse:101168.31250\n",
      "[1]\ttrain-rmse:75712.71875\teval-rmse:76471.45312\n",
      "[2]\ttrain-rmse:58586.48047\teval-rmse:60406.96875\n",
      "[3]\ttrain-rmse:47588.07422\teval-rmse:50280.07422\n",
      "[4]\ttrain-rmse:40852.83984\teval-rmse:44132.38672\n",
      "[5]\ttrain-rmse:36799.68750\teval-rmse:40793.98047\n",
      "[6]\ttrain-rmse:34305.30078\teval-rmse:38933.85938\n",
      "[7]\ttrain-rmse:32804.64844\teval-rmse:38042.04688\n",
      "[8]\ttrain-rmse:31848.97656\teval-rmse:37060.21484\n",
      "[9]\ttrain-rmse:30947.16797\teval-rmse:36595.70703\n",
      "[10]\ttrain-rmse:30483.35547\teval-rmse:36292.86328\n",
      "[11]\ttrain-rmse:30230.04688\teval-rmse:36222.01172\n",
      "[12]\ttrain-rmse:30025.24219\teval-rmse:36144.27344\n",
      "[13]\ttrain-rmse:29832.99414\teval-rmse:36081.32422\n",
      "[14]\ttrain-rmse:29483.14453\teval-rmse:35862.34375\n",
      "[15]\ttrain-rmse:29413.59375\teval-rmse:35870.25391\n",
      "[16]\ttrain-rmse:29092.97461\teval-rmse:35628.32422\n",
      "[17]\ttrain-rmse:28887.45508\teval-rmse:35553.10156\n",
      "[18]\ttrain-rmse:28843.27734\teval-rmse:35542.17578\n",
      "[19]\ttrain-rmse:28769.56055\teval-rmse:35501.27344\n",
      "[20]\ttrain-rmse:28351.99805\teval-rmse:35661.42188\n",
      "[21]\ttrain-rmse:28254.08398\teval-rmse:35645.47266\n",
      "[22]\ttrain-rmse:28198.99414\teval-rmse:35626.05078\n",
      "[23]\ttrain-rmse:28019.91016\teval-rmse:35537.16016\n",
      "[24]\ttrain-rmse:27844.93555\teval-rmse:35512.05469\n",
      "[25]\ttrain-rmse:27717.04297\teval-rmse:35520.25781\n",
      "[26]\ttrain-rmse:27542.98828\teval-rmse:35471.75781\n",
      "[27]\ttrain-rmse:27487.67383\teval-rmse:35439.64844\n",
      "[28]\ttrain-rmse:27344.33008\teval-rmse:35530.72656\n",
      "[29]\ttrain-rmse:27147.34766\teval-rmse:35549.94141\n",
      "[30]\ttrain-rmse:27064.13086\teval-rmse:35531.78125\n",
      "[31]\ttrain-rmse:26903.30469\teval-rmse:35611.72656\n",
      "[32]\ttrain-rmse:26800.65820\teval-rmse:35590.65625\n",
      "[33]\ttrain-rmse:26674.99609\teval-rmse:35510.90625\n",
      "[34]\ttrain-rmse:26604.96289\teval-rmse:35459.03125\n",
      "[35]\ttrain-rmse:26430.53711\teval-rmse:35495.25781\n",
      "[36]\ttrain-rmse:26409.24219\teval-rmse:35489.03906\n",
      "[37]\ttrain-rmse:26374.10547\teval-rmse:35485.16406\n",
      "[38]\ttrain-rmse:26265.84570\teval-rmse:35444.88281\n",
      "[39]\ttrain-rmse:26160.70898\teval-rmse:35447.98828\n",
      "[40]\ttrain-rmse:26065.19531\teval-rmse:35428.71484\n",
      "[41]\ttrain-rmse:26021.25000\teval-rmse:35425.75781\n",
      "[42]\ttrain-rmse:25944.94922\teval-rmse:35395.64453\n",
      "[43]\ttrain-rmse:25738.83789\teval-rmse:35520.71094\n",
      "[44]\ttrain-rmse:25700.04883\teval-rmse:35499.19141\n",
      "[45]\ttrain-rmse:25629.47266\teval-rmse:35548.11328\n",
      "[46]\ttrain-rmse:25473.43555\teval-rmse:35431.12891\n",
      "[47]\ttrain-rmse:25354.35156\teval-rmse:35429.94531\n",
      "[48]\ttrain-rmse:25291.14648\teval-rmse:35422.94922\n",
      "[49]\ttrain-rmse:25273.44141\teval-rmse:35500.66406\n"
     ]
    }
   ],
   "source": [
    "import xgboost as xgb\n",
    "from xgboost import XGBClassifier\n",
    "from sklearn.metrics import log_loss, accuracy_score\n",
    "from sklearn.model_selection import KFold\n",
    "\n",
    "scores = []\n",
    "# GBDT用のハイパーパラメータ\n",
    "params = {\"objective\": \"reg:squarederror\", \"sileng\":1, \"random_state\":71}\n",
    "num_round = 50\n",
    "\n",
    "# クロスバリデーション\n",
    "kf = KFold(n_splits=4, shuffle=True, random_state=71)\n",
    "for tr_idx, va_idx, in kf.split(train_x):\n",
    "    tr_x, va_x = train_x.iloc[tr_idx], train_x.iloc[va_idx]\n",
    "    tr_y, va_y = train_y.iloc[tr_idx], train_y.iloc[va_idx]\n",
    "    \n",
    "    # GBDTで学習実行\n",
    "    dtrain = xgb.DMatrix(tr_x, label=tr_y) # enable_categorical=True\n",
    "    dvalid = xgb.DMatrix(va_x, label=va_y)\n",
    "    dtest = xgb.DMatrix(test_x)\n",
    "    \n",
    "    watchlist = [(dtrain, \"train\"), (dvalid, \"eval\")]\n",
    "    model = xgb.train(params, dtrain, num_round, evals=watchlist)"
   ]
  },
  {
   "cell_type": "markdown",
   "metadata": {},
   "source": [
    "## 予測"
   ]
  },
  {
   "cell_type": "code",
   "execution_count": 450,
   "metadata": {},
   "outputs": [],
   "source": [
    "# テストデータでの予測\n",
    "pred = model.predict(dtest)"
   ]
  },
  {
   "cell_type": "code",
   "execution_count": 451,
   "metadata": {},
   "outputs": [
    {
     "data": {
      "text/plain": [
       "array([158098.73 ,  80236.01 ,  94671.695, ..., 176716.45 , 262251.72 ,\n",
       "        84474.33 ], dtype=float32)"
      ]
     },
     "execution_count": 451,
     "metadata": {},
     "output_type": "execute_result"
    }
   ],
   "source": [
    "pred"
   ]
  },
  {
   "cell_type": "code",
   "execution_count": 452,
   "metadata": {},
   "outputs": [
    {
     "data": {
      "text/plain": [
       "31262"
      ]
     },
     "execution_count": 452,
     "metadata": {},
     "output_type": "execute_result"
    }
   ],
   "source": [
    "len(pred)"
   ]
  },
  {
   "cell_type": "code",
   "execution_count": 453,
   "metadata": {},
   "outputs": [
    {
     "data": {
      "text/plain": [
       "31262"
      ]
     },
     "execution_count": 453,
     "metadata": {},
     "output_type": "execute_result"
    }
   ],
   "source": [
    "len(test_data_1)"
   ]
  },
  {
   "cell_type": "markdown",
   "metadata": {},
   "source": [
    "## データ出力"
   ]
  },
  {
   "cell_type": "code",
   "execution_count": 458,
   "metadata": {},
   "outputs": [],
   "source": [
    "# 予測結果の結合\n",
    "test_data[\"予測結果\"] = pred"
   ]
  },
  {
   "cell_type": "code",
   "execution_count": 461,
   "metadata": {},
   "outputs": [],
   "source": [
    "# 予測結果をint型に変換\n",
    "test_data[\"予測結果\"] = test_data[\"予測結果\"].astype(int)"
   ]
  },
  {
   "cell_type": "code",
   "execution_count": 463,
   "metadata": {},
   "outputs": [],
   "source": [
    "result = test_data[[\"id\", \"予測結果\"]]"
   ]
  },
  {
   "cell_type": "code",
   "execution_count": 464,
   "metadata": {},
   "outputs": [
    {
     "data": {
      "text/html": [
       "<div>\n",
       "<style scoped>\n",
       "    .dataframe tbody tr th:only-of-type {\n",
       "        vertical-align: middle;\n",
       "    }\n",
       "\n",
       "    .dataframe tbody tr th {\n",
       "        vertical-align: top;\n",
       "    }\n",
       "\n",
       "    .dataframe thead th {\n",
       "        text-align: right;\n",
       "    }\n",
       "</style>\n",
       "<table border=\"1\" class=\"dataframe\">\n",
       "  <thead>\n",
       "    <tr style=\"text-align: right;\">\n",
       "      <th></th>\n",
       "      <th>id</th>\n",
       "      <th>予測結果</th>\n",
       "    </tr>\n",
       "  </thead>\n",
       "  <tbody>\n",
       "    <tr>\n",
       "      <th>0</th>\n",
       "      <td>31471</td>\n",
       "      <td>158098</td>\n",
       "    </tr>\n",
       "    <tr>\n",
       "      <th>1</th>\n",
       "      <td>31472</td>\n",
       "      <td>80236</td>\n",
       "    </tr>\n",
       "    <tr>\n",
       "      <th>2</th>\n",
       "      <td>31473</td>\n",
       "      <td>94671</td>\n",
       "    </tr>\n",
       "    <tr>\n",
       "      <th>3</th>\n",
       "      <td>31474</td>\n",
       "      <td>69022</td>\n",
       "    </tr>\n",
       "    <tr>\n",
       "      <th>4</th>\n",
       "      <td>31475</td>\n",
       "      <td>133378</td>\n",
       "    </tr>\n",
       "    <tr>\n",
       "      <th>...</th>\n",
       "      <td>...</td>\n",
       "      <td>...</td>\n",
       "    </tr>\n",
       "    <tr>\n",
       "      <th>31257</th>\n",
       "      <td>62728</td>\n",
       "      <td>103650</td>\n",
       "    </tr>\n",
       "    <tr>\n",
       "      <th>31258</th>\n",
       "      <td>62729</td>\n",
       "      <td>103275</td>\n",
       "    </tr>\n",
       "    <tr>\n",
       "      <th>31259</th>\n",
       "      <td>62730</td>\n",
       "      <td>176716</td>\n",
       "    </tr>\n",
       "    <tr>\n",
       "      <th>31260</th>\n",
       "      <td>62731</td>\n",
       "      <td>262251</td>\n",
       "    </tr>\n",
       "    <tr>\n",
       "      <th>31261</th>\n",
       "      <td>62732</td>\n",
       "      <td>84474</td>\n",
       "    </tr>\n",
       "  </tbody>\n",
       "</table>\n",
       "<p>31262 rows × 2 columns</p>\n",
       "</div>"
      ],
      "text/plain": [
       "          id    予測結果\n",
       "0      31471  158098\n",
       "1      31472   80236\n",
       "2      31473   94671\n",
       "3      31474   69022\n",
       "4      31475  133378\n",
       "...      ...     ...\n",
       "31257  62728  103650\n",
       "31258  62729  103275\n",
       "31259  62730  176716\n",
       "31260  62731  262251\n",
       "31261  62732   84474\n",
       "\n",
       "[31262 rows x 2 columns]"
      ]
     },
     "execution_count": 464,
     "metadata": {},
     "output_type": "execute_result"
    }
   ],
   "source": [
    "result"
   ]
  },
  {
   "cell_type": "code",
   "execution_count": 470,
   "metadata": {},
   "outputs": [],
   "source": [
    "result.to_csv(\"result.csv\", header=False, index=False)"
   ]
  },
  {
   "cell_type": "code",
   "execution_count": null,
   "metadata": {},
   "outputs": [],
   "source": []
  }
 ],
 "metadata": {
  "kernelspec": {
   "display_name": "Python 3",
   "language": "python",
   "name": "python3"
  },
  "language_info": {
   "codemirror_mode": {
    "name": "ipython",
    "version": 3
   },
   "file_extension": ".py",
   "mimetype": "text/x-python",
   "name": "python",
   "nbconvert_exporter": "python",
   "pygments_lexer": "ipython3",
   "version": "3.8.5"
  }
 },
 "nbformat": 4,
 "nbformat_minor": 4
}
