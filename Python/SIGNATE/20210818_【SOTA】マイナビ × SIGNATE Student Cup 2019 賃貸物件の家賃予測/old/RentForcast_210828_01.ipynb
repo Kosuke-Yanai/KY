{
 "cells": [
  {
   "cell_type": "markdown",
   "metadata": {},
   "source": [
    "# [【SOTA】マイナビ × SIGNATE Student Cup 2019: 賃貸物件の家賃予測](https://signate.jp/competitions/264)"
   ]
  },
  {
   "cell_type": "markdown",
   "metadata": {},
   "source": [
    "## データ読み込み"
   ]
  },
  {
   "cell_type": "code",
   "execution_count": 34,
   "metadata": {},
   "outputs": [],
   "source": [
    "import pandas as pd\n",
    "import numpy as np\n",
    "import pathlib\n",
    "import os\n",
    "\n",
    "# 学習データ、テストデータの読み込み\n",
    "train_path = pathlib.Path(\"./DATA/train.csv\")\n",
    "test_path = pathlib.Path(\"./DATA/test.csv\")\n",
    "\n",
    "train_data = pd.read_csv(train_path)\n",
    "test_data = pd.read_csv(test_path)"
   ]
  },
  {
   "cell_type": "code",
   "execution_count": 472,
   "metadata": {},
   "outputs": [
    {
     "data": {
      "text/html": [
       "<div>\n",
       "<style scoped>\n",
       "    .dataframe tbody tr th:only-of-type {\n",
       "        vertical-align: middle;\n",
       "    }\n",
       "\n",
       "    .dataframe tbody tr th {\n",
       "        vertical-align: top;\n",
       "    }\n",
       "\n",
       "    .dataframe thead th {\n",
       "        text-align: right;\n",
       "    }\n",
       "</style>\n",
       "<table border=\"1\" class=\"dataframe\">\n",
       "  <thead>\n",
       "    <tr style=\"text-align: right;\">\n",
       "      <th></th>\n",
       "      <th>id</th>\n",
       "      <th>所在地</th>\n",
       "      <th>アクセス</th>\n",
       "      <th>間取り</th>\n",
       "      <th>築年数</th>\n",
       "      <th>方角</th>\n",
       "      <th>面積</th>\n",
       "      <th>所在階</th>\n",
       "      <th>バス・トイレ</th>\n",
       "      <th>キッチン</th>\n",
       "      <th>放送・通信</th>\n",
       "      <th>室内設備</th>\n",
       "      <th>駐車場</th>\n",
       "      <th>周辺環境</th>\n",
       "      <th>建物構造</th>\n",
       "      <th>契約期間</th>\n",
       "      <th>予測結果</th>\n",
       "    </tr>\n",
       "  </thead>\n",
       "  <tbody>\n",
       "    <tr>\n",
       "      <th>0</th>\n",
       "      <td>31471</td>\n",
       "      <td>東京都世田谷区深沢５丁目1-27</td>\n",
       "      <td>東急大井町線\\t等々力駅\\t徒歩15分\\t\\t東急田園都市線\\t桜新町駅\\t徒歩24分\\t\\...</td>\n",
       "      <td>2LDK</td>\n",
       "      <td>49年0ヶ月</td>\n",
       "      <td>南</td>\n",
       "      <td>50.22m2</td>\n",
       "      <td>8階／8階建</td>\n",
       "      <td>専用バス／\\t専用トイレ／\\tバス・トイレ別／\\tシャワー／\\t追焚機能／\\t温水洗浄便座／...</td>\n",
       "      <td>ガスコンロ／\\tコンロ3口／\\tシステムキッチン\\t／\\t給湯／\\tL字キッチン</td>\n",
       "      <td>インターネット対応</td>\n",
       "      <td>エアコン付\\tシューズボックス／\\tバルコニー／\\tフローリング／\\tエレベーター\\t公営水...</td>\n",
       "      <td>駐輪場\\t空有\\t駐車場\\t無\\tバイク置き場\\t無</td>\n",
       "      <td>【コンビニ】 74m\\t【スーパー】 215m\\t【病院】 313m\\t【小学校】 219m...</td>\n",
       "      <td>鉄骨造</td>\n",
       "      <td>NaN</td>\n",
       "      <td>158098</td>\n",
       "    </tr>\n",
       "    <tr>\n",
       "      <th>1</th>\n",
       "      <td>31472</td>\n",
       "      <td>東京都目黒区八雲１丁目11-8</td>\n",
       "      <td>東急東横線\\t都立大学駅\\t徒歩6分\\t\\t東急東横線\\t自由が丘駅\\t徒歩17分\\t\\t東...</td>\n",
       "      <td>1R</td>\n",
       "      <td>0年2ヶ月</td>\n",
       "      <td>南東</td>\n",
       "      <td>20.88m2</td>\n",
       "      <td>3階／4階建</td>\n",
       "      <td>専用バス／\\t専用トイレ／\\tバス・トイレ別／\\tシャワー／\\t浴室乾燥機\\t／\\t温水洗浄...</td>\n",
       "      <td>ガスコンロ／\\tコンロ2口／\\tシステムキッチン\\t／\\t給湯</td>\n",
       "      <td>インターネット対応／\\tCSアンテナ／\\tBSアンテナ／\\tインターネット使用料無料</td>\n",
       "      <td>エアコン付\\tシューズボックス／\\tフローリング／\\t室内洗濯機置場\\t公営水道／\\t下水／...</td>\n",
       "      <td>駐車場\\t近隣\\t34,000円(税込)\\t距離200m\\t駐輪場\\t無\\tバイク置き場\\t無</td>\n",
       "      <td>【スーパー】 128m\\t【スーパー】 313m\\t【コンビニ】 374m\\t【コンビニ】 ...</td>\n",
       "      <td>RC（鉄筋コンクリート）</td>\n",
       "      <td>2年間</td>\n",
       "      <td>80236</td>\n",
       "    </tr>\n",
       "    <tr>\n",
       "      <th>2</th>\n",
       "      <td>31473</td>\n",
       "      <td>東京都豊島区池袋本町２丁目22-2</td>\n",
       "      <td>東武東上線\\t北池袋駅\\t徒歩10分\\t\\t埼京線\\t板橋駅\\t徒歩16分\\t\\t山手線\\t...</td>\n",
       "      <td>1K</td>\n",
       "      <td>23年4ヶ月</td>\n",
       "      <td>南東</td>\n",
       "      <td>26.93m2</td>\n",
       "      <td>1階／4階建</td>\n",
       "      <td>専用バス／\\t専用トイレ／\\tバス・トイレ別／\\tシャワー／\\t温水洗浄便座</td>\n",
       "      <td>ガスコンロ／\\t給湯</td>\n",
       "      <td>インターネット対応／\\t光ファイバー／\\tCATV</td>\n",
       "      <td>エアコン付\\tシューズボックス／\\tバルコニー／\\tフローリング／\\t2面採光／\\t室内洗濯...</td>\n",
       "      <td>駐車場\\t空有\\t5,000円(税込)\\t(敷金あり\\t1ヶ月)\\t駐輪場\\t空有\\tバイク...</td>\n",
       "      <td>【スーパー】 529m\\t【スーパー】 810m\\t【コンビニ】 316m\\t【コンビニ】 ...</td>\n",
       "      <td>鉄骨造</td>\n",
       "      <td>2年間</td>\n",
       "      <td>94671</td>\n",
       "    </tr>\n",
       "    <tr>\n",
       "      <th>3</th>\n",
       "      <td>31474</td>\n",
       "      <td>東京都杉並区和泉１丁目</td>\n",
       "      <td>丸ノ内線(中野坂上－方南町)\\t方南町駅\\t徒歩10分\\t\\t京王線\\t代田橋駅\\t徒歩8分...</td>\n",
       "      <td>1K</td>\n",
       "      <td>36年2ヶ月</td>\n",
       "      <td>南東</td>\n",
       "      <td>23.57m2</td>\n",
       "      <td>1階／2階建</td>\n",
       "      <td>シャワー</td>\n",
       "      <td>ガスコンロ／\\t給湯</td>\n",
       "      <td>NaN</td>\n",
       "      <td>エアコン付\\tシューズボックス／\\t2面採光／\\t室外洗濯機置場\\t公営水道／\\t下水／\\t...</td>\n",
       "      <td>駐輪場\\t空有\\t0円</td>\n",
       "      <td>【スーパー】 286m\\t【スーパー】 702m\\t【コンビニ】 489m\\t【コンビニ】 ...</td>\n",
       "      <td>木造</td>\n",
       "      <td>2年間</td>\n",
       "      <td>69022</td>\n",
       "    </tr>\n",
       "    <tr>\n",
       "      <th>4</th>\n",
       "      <td>31475</td>\n",
       "      <td>東京都杉並区堀ノ内２丁目</td>\n",
       "      <td>丸ノ内線(中野坂上－方南町)\\t方南町駅\\t徒歩12分\\t\\t丸ノ内線(池袋－荻窪)\\t新高...</td>\n",
       "      <td>2LDK</td>\n",
       "      <td>45年4ヶ月</td>\n",
       "      <td>南</td>\n",
       "      <td>50m2</td>\n",
       "      <td>4階／4階建</td>\n",
       "      <td>専用バス／\\t専用トイレ／\\tバス・トイレ別</td>\n",
       "      <td>コンロ設置可（口数不明）／\\t給湯</td>\n",
       "      <td>インターネット対応</td>\n",
       "      <td>冷房／\\tエアコン付\\tシューズボックス／\\tバルコニー／\\tフローリング／\\t室内洗濯機置...</td>\n",
       "      <td>駐車場\\t近隣\\t22,600円\\t距離177m</td>\n",
       "      <td>【コンビニ】 312m\\t【コンビニ】 436m\\t【スーパー】 902m\\t【コンビニ】 ...</td>\n",
       "      <td>RC（鉄筋コンクリート）</td>\n",
       "      <td>2年間</td>\n",
       "      <td>133378</td>\n",
       "    </tr>\n",
       "  </tbody>\n",
       "</table>\n",
       "</div>"
      ],
      "text/plain": [
       "      id                所在地  \\\n",
       "0  31471   東京都世田谷区深沢５丁目1-27   \n",
       "1  31472    東京都目黒区八雲１丁目11-8   \n",
       "2  31473  東京都豊島区池袋本町２丁目22-2   \n",
       "3  31474        東京都杉並区和泉１丁目   \n",
       "4  31475       東京都杉並区堀ノ内２丁目   \n",
       "\n",
       "                                                アクセス   間取り     築年数  方角  \\\n",
       "0  東急大井町線\\t等々力駅\\t徒歩15分\\t\\t東急田園都市線\\t桜新町駅\\t徒歩24分\\t\\...  2LDK  49年0ヶ月   南   \n",
       "1  東急東横線\\t都立大学駅\\t徒歩6分\\t\\t東急東横線\\t自由が丘駅\\t徒歩17分\\t\\t東...    1R   0年2ヶ月  南東   \n",
       "2  東武東上線\\t北池袋駅\\t徒歩10分\\t\\t埼京線\\t板橋駅\\t徒歩16分\\t\\t山手線\\t...    1K  23年4ヶ月  南東   \n",
       "3  丸ノ内線(中野坂上－方南町)\\t方南町駅\\t徒歩10分\\t\\t京王線\\t代田橋駅\\t徒歩8分...    1K  36年2ヶ月  南東   \n",
       "4  丸ノ内線(中野坂上－方南町)\\t方南町駅\\t徒歩12分\\t\\t丸ノ内線(池袋－荻窪)\\t新高...  2LDK  45年4ヶ月   南   \n",
       "\n",
       "        面積     所在階                                             バス・トイレ  \\\n",
       "0  50.22m2  8階／8階建  専用バス／\\t専用トイレ／\\tバス・トイレ別／\\tシャワー／\\t追焚機能／\\t温水洗浄便座／...   \n",
       "1  20.88m2  3階／4階建  専用バス／\\t専用トイレ／\\tバス・トイレ別／\\tシャワー／\\t浴室乾燥機\\t／\\t温水洗浄...   \n",
       "2  26.93m2  1階／4階建             専用バス／\\t専用トイレ／\\tバス・トイレ別／\\tシャワー／\\t温水洗浄便座   \n",
       "3  23.57m2  1階／2階建                                               シャワー   \n",
       "4     50m2  4階／4階建                             専用バス／\\t専用トイレ／\\tバス・トイレ別   \n",
       "\n",
       "                                       キッチン  \\\n",
       "0  ガスコンロ／\\tコンロ3口／\\tシステムキッチン\\t／\\t給湯／\\tL字キッチン   \n",
       "1           ガスコンロ／\\tコンロ2口／\\tシステムキッチン\\t／\\t給湯   \n",
       "2                                ガスコンロ／\\t給湯   \n",
       "3                                ガスコンロ／\\t給湯   \n",
       "4                         コンロ設置可（口数不明）／\\t給湯   \n",
       "\n",
       "                                        放送・通信  \\\n",
       "0                                   インターネット対応   \n",
       "1  インターネット対応／\\tCSアンテナ／\\tBSアンテナ／\\tインターネット使用料無料   \n",
       "2                   インターネット対応／\\t光ファイバー／\\tCATV   \n",
       "3                                         NaN   \n",
       "4                                   インターネット対応   \n",
       "\n",
       "                                                室内設備  \\\n",
       "0  エアコン付\\tシューズボックス／\\tバルコニー／\\tフローリング／\\tエレベーター\\t公営水...   \n",
       "1  エアコン付\\tシューズボックス／\\tフローリング／\\t室内洗濯機置場\\t公営水道／\\t下水／...   \n",
       "2  エアコン付\\tシューズボックス／\\tバルコニー／\\tフローリング／\\t2面採光／\\t室内洗濯...   \n",
       "3  エアコン付\\tシューズボックス／\\t2面採光／\\t室外洗濯機置場\\t公営水道／\\t下水／\\t...   \n",
       "4  冷房／\\tエアコン付\\tシューズボックス／\\tバルコニー／\\tフローリング／\\t室内洗濯機置...   \n",
       "\n",
       "                                                 駐車場  \\\n",
       "0                         駐輪場\\t空有\\t駐車場\\t無\\tバイク置き場\\t無   \n",
       "1    駐車場\\t近隣\\t34,000円(税込)\\t距離200m\\t駐輪場\\t無\\tバイク置き場\\t無   \n",
       "2  駐車場\\t空有\\t5,000円(税込)\\t(敷金あり\\t1ヶ月)\\t駐輪場\\t空有\\tバイク...   \n",
       "3                                        駐輪場\\t空有\\t0円   \n",
       "4                           駐車場\\t近隣\\t22,600円\\t距離177m   \n",
       "\n",
       "                                                周辺環境          建物構造 契約期間  \\\n",
       "0  【コンビニ】 74m\\t【スーパー】 215m\\t【病院】 313m\\t【小学校】 219m...           鉄骨造  NaN   \n",
       "1  【スーパー】 128m\\t【スーパー】 313m\\t【コンビニ】 374m\\t【コンビニ】 ...  RC（鉄筋コンクリート）  2年間   \n",
       "2  【スーパー】 529m\\t【スーパー】 810m\\t【コンビニ】 316m\\t【コンビニ】 ...           鉄骨造  2年間   \n",
       "3  【スーパー】 286m\\t【スーパー】 702m\\t【コンビニ】 489m\\t【コンビニ】 ...            木造  2年間   \n",
       "4  【コンビニ】 312m\\t【コンビニ】 436m\\t【スーパー】 902m\\t【コンビニ】 ...  RC（鉄筋コンクリート）  2年間   \n",
       "\n",
       "     予測結果  \n",
       "0  158098  \n",
       "1   80236  \n",
       "2   94671  \n",
       "3   69022  \n",
       "4  133378  "
      ]
     },
     "execution_count": 472,
     "metadata": {},
     "output_type": "execute_result"
    }
   ],
   "source": [
    "test_data.head()"
   ]
  },
  {
   "cell_type": "markdown",
   "metadata": {},
   "source": [
    "## 前処理1"
   ]
  },
  {
   "cell_type": "code",
   "execution_count": 35,
   "metadata": {},
   "outputs": [],
   "source": [
    "# 簡単な前処理\n",
    "train_data_1 = train_data[[\"id\", \"賃料\", \"間取り\", \"面積\", \"所在階\"]]\n",
    "test_data_1 = test_data[[\"id\", \"間取り\", \"面積\", \"所在階\"]]"
   ]
  },
  {
   "cell_type": "code",
   "execution_count": 36,
   "metadata": {
    "collapsed": true,
    "jupyter": {
     "outputs_hidden": true
    }
   },
   "outputs": [
    {
     "name": "stderr",
     "output_type": "stream",
     "text": [
      "<ipython-input-36-95a8caebc059>:7: SettingWithCopyWarning: \n",
      "A value is trying to be set on a copy of a slice from a DataFrame.\n",
      "Try using .loc[row_indexer,col_indexer] = value instead\n",
      "\n",
      "See the caveats in the documentation: https://pandas.pydata.org/pandas-docs/stable/user_guide/indexing.html#returning-a-view-versus-a-copy\n",
      "  train_data_1[\"間取りID\"] = le.transform(train_data_1[\"間取り\"])\n",
      "<ipython-input-36-95a8caebc059>:8: SettingWithCopyWarning: \n",
      "A value is trying to be set on a copy of a slice from a DataFrame.\n",
      "Try using .loc[row_indexer,col_indexer] = value instead\n",
      "\n",
      "See the caveats in the documentation: https://pandas.pydata.org/pandas-docs/stable/user_guide/indexing.html#returning-a-view-versus-a-copy\n",
      "  test_data_1[\"間取りID\"] = le.transform(test_data_1[\"間取り\"])\n"
     ]
    }
   ],
   "source": [
    "# 間取りにlabel encodingを適用\n",
    "from sklearn.preprocessing import LabelEncoder\n",
    "\n",
    "le = LabelEncoder()\n",
    "le.fit(pd.concat([train_data_1[\"間取り\"],test_data_1[\"間取り\"]]))\n",
    "\n",
    "train_data_1[\"間取りID\"] = le.transform(train_data_1[\"間取り\"])\n",
    "test_data_1[\"間取りID\"] = le.transform(test_data_1[\"間取り\"])"
   ]
  },
  {
   "cell_type": "code",
   "execution_count": 37,
   "metadata": {},
   "outputs": [],
   "source": [
    "# 面積のカラムタイトルを面積[m2]に置換\n",
    "train_data_1 = train_data_1.rename(columns={\"面積\": \"面積m2\"})\n",
    "test_data_1 = test_data_1.rename(columns={\"面積\": \"面積m2\"})"
   ]
  },
  {
   "cell_type": "code",
   "execution_count": 38,
   "metadata": {},
   "outputs": [],
   "source": [
    "# カラムタイトル面積[m2]の要素からm2を削除\n",
    "train_data_1['面積m2'] = train_data_1['面積m2'].str.replace('m2', '').astype(float)\n",
    "test_data_1['面積m2'] = test_data_1['面積m2'].str.replace('m2', '').astype(float)"
   ]
  },
  {
   "cell_type": "code",
   "execution_count": 39,
   "metadata": {},
   "outputs": [],
   "source": [
    "# 所在階の中身を\"／\"で2つの列に分割\n",
    "train_data_1 = pd.concat([train_data_1, train_data_1['所在階'].str.split('／', expand=True)], axis=1)\n",
    "test_data_1 = pd.concat([test_data_1, test_data_1['所在階'].str.split('／', expand=True)], axis=1)"
   ]
  },
  {
   "cell_type": "code",
   "execution_count": 40,
   "metadata": {},
   "outputs": [],
   "source": [
    "# 分割した所在階のカラム名変更　0:所在、1:階層\n",
    "train_data_1 = train_data_1.rename(columns={0:\"所在\", 1:\"階層\"})\n",
    "test_data_1 = test_data_1.rename(columns={0:\"所在\", 1:\"階層\"})"
   ]
  },
  {
   "cell_type": "code",
   "execution_count": 41,
   "metadata": {},
   "outputs": [],
   "source": [
    "# 所在と階層の要素を整形\n",
    "train_data_1['所在'] = train_data_1['所在'].str.replace('階', '')\n",
    "train_data_1['所在'] = train_data_1['所在'].str.replace('建', '')\n",
    "train_data_1['所在'] = train_data_1['所在'].str.replace('地下', '-')\n",
    "train_data_1['所在'] = train_data_1['所在'].str.replace('\\（.*\\）', '', regex=True)\n",
    "train_data_1['階層'] = train_data_1['階層'].str.replace('階建', '')\n",
    "train_data_1['階層'] = train_data_1['階層'].str.replace('\\（.*\\）', '', regex=True)\n",
    "train_data_1['所在'] = train_data_1['所在'].replace('', np.nan)\n",
    "\n",
    "test_data_1['所在'] = test_data_1['所在'].str.replace('階', '')\n",
    "test_data_1['所在'] = test_data_1['所在'].str.replace('建', '')\n",
    "test_data_1['所在'] = test_data_1['所在'].str.replace('地下', '-')\n",
    "test_data_1['所在'] = test_data_1['所在'].str.replace('\\（.*\\）', '', regex=True)\n",
    "test_data_1['階層'] = test_data_1['階層'].str.replace('階建', '')\n",
    "test_data_1['階層'] = test_data_1['階層'].str.replace('\\（.*\\）', '', regex=True)\n",
    "test_data_1['所在'] = test_data_1['所在'].replace('', np.nan)"
   ]
  },
  {
   "cell_type": "code",
   "execution_count": 42,
   "metadata": {},
   "outputs": [],
   "source": [
    "# \"階層\"がNoneの箇所を\"所在\"の値で埋める\n",
    "train_data_1['階層'].fillna(train_data_1['所在'], inplace=True)\n",
    "test_data_1['階層'].fillna(test_data_1['所在'], inplace=True)"
   ]
  },
  {
   "cell_type": "code",
   "execution_count": 43,
   "metadata": {},
   "outputs": [],
   "source": [
    "# 所在と階層の要素をfloat型に変換する\n",
    "train_data_1['所在'] = train_data_1['所在'].astype(float)\n",
    "train_data_1['階層'] = train_data_1['階層'].astype(float)\n",
    "\n",
    "test_data_1['所在'] = test_data_1['所在'].astype(float)\n",
    "test_data_1['階層'] = test_data_1['階層'].astype(float)"
   ]
  },
  {
   "cell_type": "code",
   "execution_count": 44,
   "metadata": {},
   "outputs": [],
   "source": [
    "# 間取りと所在階のカラムを削除\n",
    "train_data_1 = train_data_1.drop('間取り', axis=1)\n",
    "train_data_1 = train_data_1.drop('所在階', axis=1)\n",
    "\n",
    "test_data_1 = test_data_1.drop('間取り', axis=1)\n",
    "test_data_1 = test_data_1.drop('所在階', axis=1)"
   ]
  },
  {
   "cell_type": "code",
   "execution_count": 45,
   "metadata": {},
   "outputs": [],
   "source": [
    "# IDの削除\n",
    "train_data_1_no_ID = train_data_1.drop([\"id\"], axis=1)\n",
    "test_data_1_no_ID = test_data_1.drop([\"id\"], axis=1)"
   ]
  },
  {
   "cell_type": "markdown",
   "metadata": {},
   "source": [
    "## データチェック1"
   ]
  },
  {
   "cell_type": "code",
   "execution_count": 46,
   "metadata": {},
   "outputs": [
    {
     "data": {
      "text/html": [
       "<div>\n",
       "<style scoped>\n",
       "    .dataframe tbody tr th:only-of-type {\n",
       "        vertical-align: middle;\n",
       "    }\n",
       "\n",
       "    .dataframe tbody tr th {\n",
       "        vertical-align: top;\n",
       "    }\n",
       "\n",
       "    .dataframe thead th {\n",
       "        text-align: right;\n",
       "    }\n",
       "</style>\n",
       "<table border=\"1\" class=\"dataframe\">\n",
       "  <thead>\n",
       "    <tr style=\"text-align: right;\">\n",
       "      <th></th>\n",
       "      <th>id</th>\n",
       "      <th>賃料</th>\n",
       "      <th>面積m2</th>\n",
       "      <th>間取りID</th>\n",
       "      <th>所在</th>\n",
       "      <th>階層</th>\n",
       "    </tr>\n",
       "  </thead>\n",
       "  <tbody>\n",
       "    <tr>\n",
       "      <th>0</th>\n",
       "      <td>1</td>\n",
       "      <td>75000</td>\n",
       "      <td>20.01</td>\n",
       "      <td>3</td>\n",
       "      <td>1.0</td>\n",
       "      <td>12.0</td>\n",
       "    </tr>\n",
       "    <tr>\n",
       "      <th>1</th>\n",
       "      <td>2</td>\n",
       "      <td>76000</td>\n",
       "      <td>16.50</td>\n",
       "      <td>9</td>\n",
       "      <td>5.0</td>\n",
       "      <td>10.0</td>\n",
       "    </tr>\n",
       "    <tr>\n",
       "      <th>2</th>\n",
       "      <td>3</td>\n",
       "      <td>110000</td>\n",
       "      <td>22.05</td>\n",
       "      <td>3</td>\n",
       "      <td>12.0</td>\n",
       "      <td>15.0</td>\n",
       "    </tr>\n",
       "    <tr>\n",
       "      <th>3</th>\n",
       "      <td>4</td>\n",
       "      <td>150000</td>\n",
       "      <td>60.48</td>\n",
       "      <td>14</td>\n",
       "      <td>3.0</td>\n",
       "      <td>4.0</td>\n",
       "    </tr>\n",
       "    <tr>\n",
       "      <th>4</th>\n",
       "      <td>5</td>\n",
       "      <td>74000</td>\n",
       "      <td>39.66</td>\n",
       "      <td>10</td>\n",
       "      <td>1.0</td>\n",
       "      <td>2.0</td>\n",
       "    </tr>\n",
       "  </tbody>\n",
       "</table>\n",
       "</div>"
      ],
      "text/plain": [
       "   id      賃料   面積m2  間取りID    所在    階層\n",
       "0   1   75000  20.01      3   1.0  12.0\n",
       "1   2   76000  16.50      9   5.0  10.0\n",
       "2   3  110000  22.05      3  12.0  15.0\n",
       "3   4  150000  60.48     14   3.0   4.0\n",
       "4   5   74000  39.66     10   1.0   2.0"
      ]
     },
     "execution_count": 46,
     "metadata": {},
     "output_type": "execute_result"
    }
   ],
   "source": [
    "train_data_1.head()"
   ]
  },
  {
   "cell_type": "code",
   "execution_count": 47,
   "metadata": {},
   "outputs": [
    {
     "data": {
      "text/html": [
       "<div>\n",
       "<style scoped>\n",
       "    .dataframe tbody tr th:only-of-type {\n",
       "        vertical-align: middle;\n",
       "    }\n",
       "\n",
       "    .dataframe tbody tr th {\n",
       "        vertical-align: top;\n",
       "    }\n",
       "\n",
       "    .dataframe thead th {\n",
       "        text-align: right;\n",
       "    }\n",
       "</style>\n",
       "<table border=\"1\" class=\"dataframe\">\n",
       "  <thead>\n",
       "    <tr style=\"text-align: right;\">\n",
       "      <th></th>\n",
       "      <th>id</th>\n",
       "      <th>面積m2</th>\n",
       "      <th>間取りID</th>\n",
       "      <th>所在</th>\n",
       "      <th>階層</th>\n",
       "    </tr>\n",
       "  </thead>\n",
       "  <tbody>\n",
       "    <tr>\n",
       "      <th>0</th>\n",
       "      <td>31471</td>\n",
       "      <td>50.22</td>\n",
       "      <td>14</td>\n",
       "      <td>8.0</td>\n",
       "      <td>8.0</td>\n",
       "    </tr>\n",
       "    <tr>\n",
       "      <th>1</th>\n",
       "      <td>31472</td>\n",
       "      <td>20.88</td>\n",
       "      <td>9</td>\n",
       "      <td>3.0</td>\n",
       "      <td>4.0</td>\n",
       "    </tr>\n",
       "    <tr>\n",
       "      <th>2</th>\n",
       "      <td>31473</td>\n",
       "      <td>26.93</td>\n",
       "      <td>3</td>\n",
       "      <td>1.0</td>\n",
       "      <td>4.0</td>\n",
       "    </tr>\n",
       "    <tr>\n",
       "      <th>3</th>\n",
       "      <td>31474</td>\n",
       "      <td>23.57</td>\n",
       "      <td>3</td>\n",
       "      <td>1.0</td>\n",
       "      <td>2.0</td>\n",
       "    </tr>\n",
       "    <tr>\n",
       "      <th>4</th>\n",
       "      <td>31475</td>\n",
       "      <td>50.00</td>\n",
       "      <td>14</td>\n",
       "      <td>4.0</td>\n",
       "      <td>4.0</td>\n",
       "    </tr>\n",
       "  </tbody>\n",
       "</table>\n",
       "</div>"
      ],
      "text/plain": [
       "      id   面積m2  間取りID   所在   階層\n",
       "0  31471  50.22     14  8.0  8.0\n",
       "1  31472  20.88      9  3.0  4.0\n",
       "2  31473  26.93      3  1.0  4.0\n",
       "3  31474  23.57      3  1.0  2.0\n",
       "4  31475  50.00     14  4.0  4.0"
      ]
     },
     "execution_count": 47,
     "metadata": {},
     "output_type": "execute_result"
    }
   ],
   "source": [
    "test_data_1.head()"
   ]
  },
  {
   "cell_type": "code",
   "execution_count": 48,
   "metadata": {},
   "outputs": [
    {
     "data": {
      "text/plain": [
       "id         0\n",
       "賃料         0\n",
       "面積m2       0\n",
       "間取りID      0\n",
       "所在       120\n",
       "階層         0\n",
       "dtype: int64"
      ]
     },
     "execution_count": 48,
     "metadata": {},
     "output_type": "execute_result"
    }
   ],
   "source": [
    "train_data_1.isnull().sum()"
   ]
  },
  {
   "cell_type": "code",
   "execution_count": 49,
   "metadata": {},
   "outputs": [
    {
     "data": {
      "text/plain": [
       "id         0\n",
       "面積m2       0\n",
       "間取りID      0\n",
       "所在       114\n",
       "階層         1\n",
       "dtype: int64"
      ]
     },
     "execution_count": 49,
     "metadata": {},
     "output_type": "execute_result"
    }
   ],
   "source": [
    "test_data_1.isnull().sum()"
   ]
  },
  {
   "cell_type": "markdown",
   "metadata": {},
   "source": [
    "## 前処理2"
   ]
  },
  {
   "cell_type": "markdown",
   "metadata": {},
   "source": [
    "### 訓練データ"
   ]
  },
  {
   "cell_type": "code",
   "execution_count": 30,
   "metadata": {},
   "outputs": [
    {
     "name": "stdout",
     "output_type": "stream",
     "text": [
      "          id      賃料    面積m2  間取りID  所在    階層\n",
      "99       100  150500   68.83     14 NaN   3.0\n",
      "122      123   58000   18.98      9 NaN   8.0\n",
      "583      584  145000   60.72     17 NaN  12.0\n",
      "671      672  900000  231.52     31 NaN   3.0\n",
      "814      815  145000   71.36     21 NaN   2.0\n",
      "...      ...     ...     ...    ...  ..   ...\n",
      "29667  29668  127000   35.03      5 NaN   3.0\n",
      "29800  29801   92000   50.94      6 NaN   2.0\n",
      "30306  30307  153000   50.92     14 NaN   5.0\n",
      "30435  30436  163000   55.58      5 NaN  16.0\n",
      "30838  30839   66000   16.50      9 NaN   5.0\n",
      "\n",
      "[120 rows x 6 columns]\n"
     ]
    }
   ],
   "source": [
    "# 埋める前の確認\n",
    "print(train_data_1[train_data_1[\"所在\"].isnull()])"
   ]
  },
  {
   "cell_type": "code",
   "execution_count": 53,
   "metadata": {},
   "outputs": [],
   "source": [
    "# 所在のNaNを埋める\n",
    "train_data_2 = train_data_1\n",
    "train_data_2.loc[train_data_2[\"所在\"].isnull(), \"所在\"] = train_data_2[\"階層\"]"
   ]
  },
  {
   "cell_type": "code",
   "execution_count": 62,
   "metadata": {},
   "outputs": [
    {
     "name": "stdout",
     "output_type": "stream",
     "text": [
      "        所在   階層\n",
      "30838  5.0  5.0\n"
     ]
    }
   ],
   "source": [
    "# 埋めた後の確認\n",
    "print(train_data_2[train_data_2[\"id\"]==30839][[\"所在\", \"階層\"]])"
   ]
  },
  {
   "cell_type": "code",
   "execution_count": 85,
   "metadata": {},
   "outputs": [],
   "source": [
    "# IDの削除\n",
    "train_data_2_no_ID = train_data_2.drop([\"id\"], axis=1)"
   ]
  },
  {
   "cell_type": "markdown",
   "metadata": {},
   "source": [
    "### テストデータ"
   ]
  },
  {
   "cell_type": "code",
   "execution_count": 65,
   "metadata": {},
   "outputs": [
    {
     "name": "stdout",
     "output_type": "stream",
     "text": [
      "         id   面積m2  間取りID  所在  階層\n",
      "9204  40675  94.91     21 NaN NaN\n",
      "          id   面積m2  間取りID  所在   階層\n",
      "125    31596  68.28     21 NaN  2.0\n",
      "229    31700  34.18      1 NaN  3.0\n",
      "262    31733  60.06     10 NaN  7.0\n",
      "835    32306  47.30      5 NaN  7.0\n",
      "1076   32547  54.63     10 NaN  3.0\n",
      "...      ...    ...    ...  ..  ...\n",
      "30529  62000  40.73      5 NaN  3.0\n",
      "30781  62252  58.51     14 NaN  2.0\n",
      "30826  62297  46.26     19 NaN  2.0\n",
      "31073  62544  16.01      9 NaN  3.0\n",
      "31184  62655  16.62      3 NaN  2.0\n",
      "\n",
      "[114 rows x 5 columns]\n"
     ]
    }
   ],
   "source": [
    "# 埋める前の確認\n",
    "print(test_data_1[test_data_1[\"階層\"].isnull()])\n",
    "print(test_data_1[test_data_1[\"所在\"].isnull()])"
   ]
  },
  {
   "cell_type": "code",
   "execution_count": 66,
   "metadata": {},
   "outputs": [],
   "source": [
    "# 所在のNaNを埋める\n",
    "test_data_2 = test_data_1\n",
    "test_data_2.loc[test_data_2[\"所在\"].isnull(), \"所在\"] = test_data_2[\"階層\"]"
   ]
  },
  {
   "cell_type": "code",
   "execution_count": 68,
   "metadata": {},
   "outputs": [
    {
     "name": "stdout",
     "output_type": "stream",
     "text": [
      "         id   面積m2  間取りID  所在  階層\n",
      "9204  40675  94.91     21 NaN NaN\n"
     ]
    }
   ],
   "source": [
    "print(test_data_2[test_data_2[\"所在\"].isnull()])"
   ]
  },
  {
   "cell_type": "code",
   "execution_count": 78,
   "metadata": {},
   "outputs": [
    {
     "name": "stdout",
     "output_type": "stream",
     "text": [
      "id       44448.676471\n",
      "面積m2        92.323824\n",
      "間取りID       21.000000\n",
      "所在           6.181818\n",
      "階層           9.878788\n",
      "dtype: float64\n"
     ]
    }
   ],
   "source": [
    "# 所在も階層も空欄のデータは間取りと面積の近いデータで埋める\n",
    "print(test_data_1[(test_data_1[\"間取りID\"] == 21) & (test_data_1[\"面積m2\"] > 90) & (test_data_1[\"面積m2\"] < 95)].mean())"
   ]
  },
  {
   "cell_type": "code",
   "execution_count": 79,
   "metadata": {},
   "outputs": [],
   "source": [
    "test_data_2.loc[test_data_2[\"id\"]==40675, \"所在\"] = float(6)\n",
    "test_data_2.loc[test_data_2[\"id\"]==40675, \"階層\"] = float(9)"
   ]
  },
  {
   "cell_type": "code",
   "execution_count": 82,
   "metadata": {},
   "outputs": [
    {
     "name": "stdout",
     "output_type": "stream",
     "text": [
      "       所在   階層\n",
      "9204  6.0  9.0\n"
     ]
    }
   ],
   "source": [
    "# 埋めた後の確認\n",
    "print(test_data_2[test_data_2[\"id\"]==40675][[\"所在\", \"階層\"]])"
   ]
  },
  {
   "cell_type": "code",
   "execution_count": 86,
   "metadata": {},
   "outputs": [],
   "source": [
    "# IDの削除\n",
    "test_data_2_no_ID = test_data_2.drop([\"id\"], axis=1)"
   ]
  },
  {
   "cell_type": "markdown",
   "metadata": {},
   "source": [
    "## データチェック2"
   ]
  },
  {
   "cell_type": "code",
   "execution_count": 87,
   "metadata": {},
   "outputs": [
    {
     "data": {
      "text/plain": [
       "id       0\n",
       "賃料       0\n",
       "面積m2     0\n",
       "間取りID    0\n",
       "所在       0\n",
       "階層       0\n",
       "dtype: int64"
      ]
     },
     "execution_count": 87,
     "metadata": {},
     "output_type": "execute_result"
    }
   ],
   "source": [
    "train_data_2.isnull().sum()"
   ]
  },
  {
   "cell_type": "code",
   "execution_count": 88,
   "metadata": {},
   "outputs": [
    {
     "data": {
      "text/plain": [
       "id       0\n",
       "面積m2     0\n",
       "間取りID    0\n",
       "所在       0\n",
       "階層       0\n",
       "dtype: int64"
      ]
     },
     "execution_count": 88,
     "metadata": {},
     "output_type": "execute_result"
    }
   ],
   "source": [
    "test_data_2.isnull().sum()"
   ]
  },
  {
   "cell_type": "markdown",
   "metadata": {},
   "source": [
    "## 学習 "
   ]
  },
  {
   "cell_type": "code",
   "execution_count": 89,
   "metadata": {},
   "outputs": [],
   "source": [
    "# 特徴データと目的変数の設定\n",
    "train_x = train_data_2_no_ID.drop([\"賃料\"], axis=1)\n",
    "train_y = train_data_2_no_ID[\"賃料\"]\n",
    "\n",
    "test_x = test_data_2_no_ID"
   ]
  },
  {
   "cell_type": "code",
   "execution_count": 90,
   "metadata": {
    "collapsed": true,
    "jupyter": {
     "outputs_hidden": true
    }
   },
   "outputs": [
    {
     "name": "stdout",
     "output_type": "stream",
     "text": [
      "[21:22:25] WARNING: ..\\src\\learner.cc:541: \n",
      "Parameters: { sileng } might not be used.\n",
      "\n",
      "  This may not be accurate due to some parameters are only used in language bindings but\n",
      "  passed down to XGBoost core.  Or some parameters are not used but slip through this\n",
      "  verification. Please open an issue if you find above cases.\n",
      "\n",
      "\n",
      "[0]\ttrain-rmse:101465.04688\teval-rmse:101138.06250\n",
      "[1]\ttrain-rmse:75652.92969\teval-rmse:75961.78125\n",
      "[2]\ttrain-rmse:58471.25781\teval-rmse:59686.94141\n",
      "[3]\ttrain-rmse:47379.08984\teval-rmse:49409.09766\n",
      "[4]\ttrain-rmse:40410.04688\teval-rmse:43076.93750\n",
      "[5]\ttrain-rmse:36206.45703\teval-rmse:39191.50000\n",
      "[6]\ttrain-rmse:33817.42578\teval-rmse:37214.18750\n",
      "[7]\ttrain-rmse:32345.94336\teval-rmse:35972.23047\n",
      "[8]\ttrain-rmse:31395.93359\teval-rmse:35343.58594\n",
      "[9]\ttrain-rmse:30863.94336\teval-rmse:34922.28906\n",
      "[10]\ttrain-rmse:30505.58203\teval-rmse:34721.75781\n",
      "[11]\ttrain-rmse:30226.54883\teval-rmse:34567.12891\n",
      "[12]\ttrain-rmse:29897.07031\teval-rmse:34501.45312\n",
      "[13]\ttrain-rmse:29747.70117\teval-rmse:34434.43359\n",
      "[14]\ttrain-rmse:29604.34180\teval-rmse:34234.95703\n",
      "[15]\ttrain-rmse:29372.18359\teval-rmse:34239.64453\n",
      "[16]\ttrain-rmse:29286.81055\teval-rmse:34152.32422\n",
      "[17]\ttrain-rmse:29091.04883\teval-rmse:34092.78125\n",
      "[18]\ttrain-rmse:28896.29883\teval-rmse:34184.26562\n",
      "[19]\ttrain-rmse:28755.24805\teval-rmse:34224.42188\n",
      "[20]\ttrain-rmse:28635.85156\teval-rmse:34204.60156\n",
      "[21]\ttrain-rmse:28549.42578\teval-rmse:34201.53516\n",
      "[22]\ttrain-rmse:28391.05078\teval-rmse:34143.29297\n",
      "[23]\ttrain-rmse:28127.51172\teval-rmse:34139.09766\n",
      "[24]\ttrain-rmse:28048.52344\teval-rmse:34168.55078\n",
      "[25]\ttrain-rmse:28017.28125\teval-rmse:34160.56250\n",
      "[26]\ttrain-rmse:27991.45898\teval-rmse:34173.76172\n",
      "[27]\ttrain-rmse:27878.41406\teval-rmse:34106.10547\n",
      "[28]\ttrain-rmse:27772.25000\teval-rmse:34074.98047\n",
      "[29]\ttrain-rmse:27594.83594\teval-rmse:34079.72656\n",
      "[30]\ttrain-rmse:27554.36523\teval-rmse:34055.39844\n",
      "[31]\ttrain-rmse:27537.31055\teval-rmse:34087.72656\n",
      "[32]\ttrain-rmse:27330.84961\teval-rmse:34041.16406\n",
      "[33]\ttrain-rmse:27183.68164\teval-rmse:34011.26953\n",
      "[34]\ttrain-rmse:27139.27539\teval-rmse:34033.35547\n",
      "[35]\ttrain-rmse:27127.59961\teval-rmse:34074.03516\n",
      "[36]\ttrain-rmse:26998.03320\teval-rmse:34103.98047\n",
      "[37]\ttrain-rmse:26827.55664\teval-rmse:34079.63672\n",
      "[38]\ttrain-rmse:26774.44531\teval-rmse:34105.69531\n",
      "[39]\ttrain-rmse:26699.19727\teval-rmse:34102.25391\n",
      "[40]\ttrain-rmse:26658.92578\teval-rmse:34126.16406\n",
      "[41]\ttrain-rmse:26537.70312\teval-rmse:34096.39453\n",
      "[42]\ttrain-rmse:26437.20508\teval-rmse:34065.12500\n",
      "[43]\ttrain-rmse:26424.97070\teval-rmse:34063.13672\n",
      "[44]\ttrain-rmse:26336.40039\teval-rmse:34031.10547\n",
      "[45]\ttrain-rmse:26237.67383\teval-rmse:33988.91016\n",
      "[46]\ttrain-rmse:26102.03711\teval-rmse:34032.01562\n",
      "[47]\ttrain-rmse:26045.88672\teval-rmse:34092.50781\n",
      "[48]\ttrain-rmse:25943.99609\teval-rmse:34031.67578\n",
      "[49]\ttrain-rmse:25904.51562\teval-rmse:34010.16406\n",
      "[21:22:25] WARNING: ..\\src\\learner.cc:541: \n",
      "Parameters: { sileng } might not be used.\n",
      "\n",
      "  This may not be accurate due to some parameters are only used in language bindings but\n",
      "  passed down to XGBoost core.  Or some parameters are not used but slip through this\n",
      "  verification. Please open an issue if you find above cases.\n",
      "\n",
      "\n",
      "[0]\ttrain-rmse:101451.81250\teval-rmse:101222.66406\n",
      "[1]\ttrain-rmse:75560.00781\teval-rmse:75093.44531\n",
      "[2]\ttrain-rmse:58325.03516\teval-rmse:58704.18750\n",
      "[3]\ttrain-rmse:47181.08203\teval-rmse:49256.81250\n",
      "[4]\ttrain-rmse:40144.39062\teval-rmse:43590.88672\n",
      "[5]\ttrain-rmse:35935.44141\teval-rmse:40765.63281\n",
      "[6]\ttrain-rmse:33487.29688\teval-rmse:39238.69531\n",
      "[7]\ttrain-rmse:31864.29102\teval-rmse:38389.90234\n",
      "[8]\ttrain-rmse:30760.80664\teval-rmse:38112.64844\n",
      "[9]\ttrain-rmse:30227.75977\teval-rmse:38018.21875\n",
      "[10]\ttrain-rmse:29750.01758\teval-rmse:37858.51172\n",
      "[11]\ttrain-rmse:29392.32617\teval-rmse:37483.96484\n",
      "[12]\ttrain-rmse:29062.42383\teval-rmse:37518.13281\n",
      "[13]\ttrain-rmse:28796.27734\teval-rmse:37417.76953\n",
      "[14]\ttrain-rmse:28635.81250\teval-rmse:37426.91016\n",
      "[15]\ttrain-rmse:28438.99609\teval-rmse:37354.03906\n",
      "[16]\ttrain-rmse:28235.66406\teval-rmse:37270.90625\n",
      "[17]\ttrain-rmse:28056.62891\teval-rmse:37348.61328\n",
      "[18]\ttrain-rmse:27958.72070\teval-rmse:37382.58594\n",
      "[19]\ttrain-rmse:27891.25000\teval-rmse:37443.01172\n",
      "[20]\ttrain-rmse:27586.12695\teval-rmse:37455.82422\n",
      "[21]\ttrain-rmse:27434.94727\teval-rmse:37400.36719\n",
      "[22]\ttrain-rmse:27292.76562\teval-rmse:37192.99219\n",
      "[23]\ttrain-rmse:27139.21875\teval-rmse:37144.81641\n",
      "[24]\ttrain-rmse:27012.18750\teval-rmse:37168.24609\n",
      "[25]\ttrain-rmse:26953.48438\teval-rmse:37204.63672\n",
      "[26]\ttrain-rmse:26926.88672\teval-rmse:37196.86719\n",
      "[27]\ttrain-rmse:26807.22852\teval-rmse:37160.76562\n",
      "[28]\ttrain-rmse:26711.55664\teval-rmse:37144.17188\n",
      "[29]\ttrain-rmse:26618.11133\teval-rmse:37118.24609\n",
      "[30]\ttrain-rmse:26587.14453\teval-rmse:37089.60156\n",
      "[31]\ttrain-rmse:26486.49805\teval-rmse:37058.26953\n",
      "[32]\ttrain-rmse:26433.81055\teval-rmse:37071.52344\n",
      "[33]\ttrain-rmse:26366.25781\teval-rmse:37083.58203\n",
      "[34]\ttrain-rmse:26270.73633\teval-rmse:37002.47266\n",
      "[35]\ttrain-rmse:26140.03320\teval-rmse:36949.37109\n",
      "[36]\ttrain-rmse:26054.03320\teval-rmse:36931.15625\n",
      "[37]\ttrain-rmse:25999.52148\teval-rmse:36923.35938\n",
      "[38]\ttrain-rmse:25833.61328\teval-rmse:36865.62891\n",
      "[39]\ttrain-rmse:25798.39258\teval-rmse:36864.75000\n",
      "[40]\ttrain-rmse:25733.09570\teval-rmse:36766.88281\n",
      "[41]\ttrain-rmse:25671.13672\teval-rmse:36765.98047\n",
      "[42]\ttrain-rmse:25645.17188\teval-rmse:36786.67188\n",
      "[43]\ttrain-rmse:25558.16406\teval-rmse:36796.39844\n",
      "[44]\ttrain-rmse:25463.26758\teval-rmse:36762.14062\n",
      "[45]\ttrain-rmse:25345.76172\teval-rmse:36710.59375\n",
      "[46]\ttrain-rmse:25266.95898\teval-rmse:36649.98828\n",
      "[47]\ttrain-rmse:25208.84375\teval-rmse:36629.81641\n",
      "[48]\ttrain-rmse:25156.26367\teval-rmse:36658.61719\n",
      "[49]\ttrain-rmse:25130.23047\teval-rmse:36666.60156\n",
      "[21:22:25] WARNING: ..\\src\\learner.cc:541: \n",
      "Parameters: { sileng } might not be used.\n",
      "\n",
      "  This may not be accurate due to some parameters are only used in language bindings but\n",
      "  passed down to XGBoost core.  Or some parameters are not used but slip through this\n",
      "  verification. Please open an issue if you find above cases.\n",
      "\n",
      "\n",
      "[0]\ttrain-rmse:100974.46875\teval-rmse:103827.35938\n",
      "[1]\ttrain-rmse:75293.29688\teval-rmse:79050.57812\n",
      "[2]\ttrain-rmse:58300.36719\teval-rmse:63145.52344\n",
      "[3]\ttrain-rmse:47209.94531\teval-rmse:52804.39062\n",
      "[4]\ttrain-rmse:40440.35156\teval-rmse:46740.90234\n",
      "[5]\ttrain-rmse:36312.96094\teval-rmse:43700.14453\n",
      "[6]\ttrain-rmse:33590.03516\teval-rmse:42016.65234\n",
      "[7]\ttrain-rmse:32077.76758\teval-rmse:40792.93750\n",
      "[8]\ttrain-rmse:31051.03906\teval-rmse:40624.16406\n",
      "[9]\ttrain-rmse:30248.05273\teval-rmse:40285.24219\n",
      "[10]\ttrain-rmse:29801.29688\teval-rmse:40124.80859\n",
      "[11]\ttrain-rmse:29422.21484\teval-rmse:40008.32812\n",
      "[12]\ttrain-rmse:29188.98047\teval-rmse:40146.14062\n",
      "[13]\ttrain-rmse:28947.69141\teval-rmse:40257.64844\n",
      "[14]\ttrain-rmse:28727.86719\teval-rmse:40231.23047\n",
      "[15]\ttrain-rmse:28615.25195\teval-rmse:40298.38281\n",
      "[16]\ttrain-rmse:28502.16016\teval-rmse:40387.15234\n",
      "[17]\ttrain-rmse:28221.03320\teval-rmse:40327.85547\n",
      "[18]\ttrain-rmse:28035.90234\teval-rmse:40234.19141\n",
      "[19]\ttrain-rmse:27981.65234\teval-rmse:40298.05859\n",
      "[20]\ttrain-rmse:27857.21680\teval-rmse:40165.52734\n",
      "[21]\ttrain-rmse:27736.99414\teval-rmse:40210.17188\n",
      "[22]\ttrain-rmse:27722.63086\teval-rmse:40260.43750\n",
      "[23]\ttrain-rmse:27591.32812\teval-rmse:40237.75000\n",
      "[24]\ttrain-rmse:27385.31641\teval-rmse:40217.57422\n",
      "[25]\ttrain-rmse:27255.48242\teval-rmse:40154.57812\n",
      "[26]\ttrain-rmse:27103.37891\teval-rmse:40178.57812\n",
      "[27]\ttrain-rmse:27045.96680\teval-rmse:40249.33984\n",
      "[28]\ttrain-rmse:26926.63477\teval-rmse:40217.41016\n",
      "[29]\ttrain-rmse:26864.04492\teval-rmse:40264.28516\n",
      "[30]\ttrain-rmse:26743.44336\teval-rmse:40206.57812\n",
      "[31]\ttrain-rmse:26616.93359\teval-rmse:40187.11328\n",
      "[32]\ttrain-rmse:26510.74414\teval-rmse:40117.92188\n",
      "[33]\ttrain-rmse:26402.32812\teval-rmse:40084.80469\n",
      "[34]\ttrain-rmse:26230.60742\teval-rmse:40095.76562\n",
      "[35]\ttrain-rmse:26185.55469\teval-rmse:40058.80859\n",
      "[36]\ttrain-rmse:26108.34375\teval-rmse:40066.41797\n",
      "[37]\ttrain-rmse:25981.75781\teval-rmse:40045.14453\n",
      "[38]\ttrain-rmse:25970.20312\teval-rmse:40039.63281\n",
      "[39]\ttrain-rmse:25858.20508\teval-rmse:40003.30859\n",
      "[40]\ttrain-rmse:25788.05664\teval-rmse:39979.88281\n",
      "[41]\ttrain-rmse:25760.02148\teval-rmse:39957.23438\n",
      "[42]\ttrain-rmse:25660.59180\teval-rmse:39959.61719\n",
      "[43]\ttrain-rmse:25572.28125\teval-rmse:39976.42969\n",
      "[44]\ttrain-rmse:25490.10742\teval-rmse:39941.12891\n",
      "[45]\ttrain-rmse:25427.03125\teval-rmse:39949.30469\n",
      "[46]\ttrain-rmse:25338.96680\teval-rmse:39931.18750\n",
      "[47]\ttrain-rmse:25218.62500\teval-rmse:39893.25000\n",
      "[48]\ttrain-rmse:25170.50586\teval-rmse:39857.96484\n",
      "[49]\ttrain-rmse:25010.86914\teval-rmse:39829.23047\n",
      "[21:22:26] WARNING: ..\\src\\learner.cc:541: \n",
      "Parameters: { sileng } might not be used.\n",
      "\n",
      "  This may not be accurate due to some parameters are only used in language bindings but\n",
      "  passed down to XGBoost core.  Or some parameters are not used but slip through this\n",
      "  verification. Please open an issue if you find above cases.\n",
      "\n",
      "\n",
      "[0]\ttrain-rmse:101617.46875\teval-rmse:101168.31250\n",
      "[1]\ttrain-rmse:75712.80469\teval-rmse:76471.53125\n",
      "[2]\ttrain-rmse:58587.07422\teval-rmse:60407.15625\n",
      "[3]\ttrain-rmse:47592.07031\teval-rmse:50337.37891\n",
      "[4]\ttrain-rmse:40853.30078\teval-rmse:44195.32422\n",
      "[5]\ttrain-rmse:36792.83203\teval-rmse:40826.28906\n",
      "[6]\ttrain-rmse:34274.37500\teval-rmse:38693.15625\n",
      "[7]\ttrain-rmse:32778.49609\teval-rmse:37775.07812\n",
      "[8]\ttrain-rmse:31679.13672\teval-rmse:36758.07031\n",
      "[9]\ttrain-rmse:30831.89062\teval-rmse:36333.33594\n",
      "[10]\ttrain-rmse:30337.47070\teval-rmse:36065.57031\n",
      "[11]\ttrain-rmse:29861.15234\teval-rmse:35832.38672\n",
      "[12]\ttrain-rmse:29664.83984\teval-rmse:35646.39844\n",
      "[13]\ttrain-rmse:29525.12695\teval-rmse:35639.56641\n",
      "[14]\ttrain-rmse:29321.95117\teval-rmse:35549.05859\n",
      "[15]\ttrain-rmse:29191.33398\teval-rmse:35428.26953\n",
      "[16]\ttrain-rmse:29092.53516\teval-rmse:35418.61719\n",
      "[17]\ttrain-rmse:29019.40039\teval-rmse:35360.67578\n",
      "[18]\ttrain-rmse:28921.52734\teval-rmse:35305.45312\n",
      "[19]\ttrain-rmse:28755.90625\teval-rmse:35308.46875\n",
      "[20]\ttrain-rmse:28572.18945\teval-rmse:35303.69141\n",
      "[21]\ttrain-rmse:28517.16797\teval-rmse:35313.36719\n",
      "[22]\ttrain-rmse:28247.49805\teval-rmse:35220.80469\n",
      "[23]\ttrain-rmse:28144.76953\teval-rmse:35156.43750\n",
      "[24]\ttrain-rmse:28062.47656\teval-rmse:35138.23828\n",
      "[25]\ttrain-rmse:27888.11914\teval-rmse:35087.88672\n",
      "[26]\ttrain-rmse:27663.86328\teval-rmse:34908.05469\n",
      "[27]\ttrain-rmse:27542.37305\teval-rmse:34878.86719\n",
      "[28]\ttrain-rmse:27468.26953\teval-rmse:34836.12891\n",
      "[29]\ttrain-rmse:27316.51953\teval-rmse:34797.82812\n",
      "[30]\ttrain-rmse:27169.85547\teval-rmse:34685.48828\n",
      "[31]\ttrain-rmse:26964.16016\teval-rmse:34721.92188\n",
      "[32]\ttrain-rmse:26847.34180\teval-rmse:34660.93750\n",
      "[33]\ttrain-rmse:26783.88867\teval-rmse:34618.45703\n",
      "[34]\ttrain-rmse:26736.44531\teval-rmse:34595.13672\n",
      "[35]\ttrain-rmse:26693.24805\teval-rmse:34568.77344\n",
      "[36]\ttrain-rmse:26634.61523\teval-rmse:34565.76953\n",
      "[37]\ttrain-rmse:26592.06641\teval-rmse:34589.48438\n",
      "[38]\ttrain-rmse:26452.47461\teval-rmse:34576.41406\n",
      "[39]\ttrain-rmse:26400.51953\teval-rmse:34584.19531\n",
      "[40]\ttrain-rmse:26279.43164\teval-rmse:34569.23438\n",
      "[41]\ttrain-rmse:26084.40430\teval-rmse:34617.00000\n",
      "[42]\ttrain-rmse:26002.47656\teval-rmse:34613.28906\n",
      "[43]\ttrain-rmse:25952.42969\teval-rmse:34609.44531\n",
      "[44]\ttrain-rmse:25898.93164\teval-rmse:34606.71094\n",
      "[45]\ttrain-rmse:25784.91992\teval-rmse:34569.21484\n",
      "[46]\ttrain-rmse:25775.33398\teval-rmse:34577.41016\n",
      "[47]\ttrain-rmse:25732.51758\teval-rmse:34570.02344\n",
      "[48]\ttrain-rmse:25686.02148\teval-rmse:34555.94531\n",
      "[49]\ttrain-rmse:25572.65039\teval-rmse:34512.70703\n"
     ]
    }
   ],
   "source": [
    "import xgboost as xgb\n",
    "from xgboost import XGBClassifier\n",
    "from sklearn.metrics import log_loss, accuracy_score\n",
    "from sklearn.model_selection import KFold\n",
    "\n",
    "scores = []\n",
    "# GBDT用のハイパーパラメータ\n",
    "params = {\"objective\": \"reg:squarederror\", \"sileng\":1, \"random_state\":71}\n",
    "num_round = 50\n",
    "\n",
    "# クロスバリデーション\n",
    "kf = KFold(n_splits=4, shuffle=True, random_state=71)\n",
    "for tr_idx, va_idx, in kf.split(train_x):\n",
    "    tr_x, va_x = train_x.iloc[tr_idx], train_x.iloc[va_idx]\n",
    "    tr_y, va_y = train_y.iloc[tr_idx], train_y.iloc[va_idx]\n",
    "    \n",
    "    # GBDTで学習実行\n",
    "    dtrain = xgb.DMatrix(tr_x, label=tr_y) # enable_categorical=True\n",
    "    dvalid = xgb.DMatrix(va_x, label=va_y)\n",
    "    dtest = xgb.DMatrix(test_x)\n",
    "    \n",
    "    watchlist = [(dtrain, \"train\"), (dvalid, \"eval\")]\n",
    "    model = xgb.train(params, dtrain, num_round, evals=watchlist)"
   ]
  },
  {
   "cell_type": "markdown",
   "metadata": {},
   "source": [
    "## 予測"
   ]
  },
  {
   "cell_type": "code",
   "execution_count": 92,
   "metadata": {},
   "outputs": [],
   "source": [
    "# テストデータでの予測\n",
    "pred = model.predict(dtest)"
   ]
  },
  {
   "cell_type": "code",
   "execution_count": 93,
   "metadata": {},
   "outputs": [
    {
     "data": {
      "text/plain": [
       "array([159249.5  ,  79441.29 ,  95082.625, ..., 176337.58 , 250241.25 ,\n",
       "        85037.41 ], dtype=float32)"
      ]
     },
     "execution_count": 93,
     "metadata": {},
     "output_type": "execute_result"
    }
   ],
   "source": [
    "pred"
   ]
  },
  {
   "cell_type": "code",
   "execution_count": 94,
   "metadata": {},
   "outputs": [
    {
     "data": {
      "text/plain": [
       "31262"
      ]
     },
     "execution_count": 94,
     "metadata": {},
     "output_type": "execute_result"
    }
   ],
   "source": [
    "len(pred)"
   ]
  },
  {
   "cell_type": "code",
   "execution_count": 95,
   "metadata": {},
   "outputs": [
    {
     "data": {
      "text/plain": [
       "31262"
      ]
     },
     "execution_count": 95,
     "metadata": {},
     "output_type": "execute_result"
    }
   ],
   "source": [
    "len(test_data_1)"
   ]
  },
  {
   "cell_type": "markdown",
   "metadata": {},
   "source": [
    "## データ出力"
   ]
  },
  {
   "cell_type": "code",
   "execution_count": 96,
   "metadata": {},
   "outputs": [],
   "source": [
    "# 予測結果の結合\n",
    "test_data[\"予測結果\"] = pred"
   ]
  },
  {
   "cell_type": "code",
   "execution_count": 97,
   "metadata": {},
   "outputs": [],
   "source": [
    "# 予測結果をint型に変換\n",
    "test_data[\"予測結果\"] = test_data[\"予測結果\"].astype(int)"
   ]
  },
  {
   "cell_type": "code",
   "execution_count": 98,
   "metadata": {},
   "outputs": [],
   "source": [
    "result = test_data[[\"id\", \"予測結果\"]]"
   ]
  },
  {
   "cell_type": "code",
   "execution_count": 99,
   "metadata": {},
   "outputs": [
    {
     "data": {
      "text/html": [
       "<div>\n",
       "<style scoped>\n",
       "    .dataframe tbody tr th:only-of-type {\n",
       "        vertical-align: middle;\n",
       "    }\n",
       "\n",
       "    .dataframe tbody tr th {\n",
       "        vertical-align: top;\n",
       "    }\n",
       "\n",
       "    .dataframe thead th {\n",
       "        text-align: right;\n",
       "    }\n",
       "</style>\n",
       "<table border=\"1\" class=\"dataframe\">\n",
       "  <thead>\n",
       "    <tr style=\"text-align: right;\">\n",
       "      <th></th>\n",
       "      <th>id</th>\n",
       "      <th>予測結果</th>\n",
       "    </tr>\n",
       "  </thead>\n",
       "  <tbody>\n",
       "    <tr>\n",
       "      <th>0</th>\n",
       "      <td>31471</td>\n",
       "      <td>159249</td>\n",
       "    </tr>\n",
       "    <tr>\n",
       "      <th>1</th>\n",
       "      <td>31472</td>\n",
       "      <td>79441</td>\n",
       "    </tr>\n",
       "    <tr>\n",
       "      <th>2</th>\n",
       "      <td>31473</td>\n",
       "      <td>95082</td>\n",
       "    </tr>\n",
       "    <tr>\n",
       "      <th>3</th>\n",
       "      <td>31474</td>\n",
       "      <td>68753</td>\n",
       "    </tr>\n",
       "    <tr>\n",
       "      <th>4</th>\n",
       "      <td>31475</td>\n",
       "      <td>139176</td>\n",
       "    </tr>\n",
       "    <tr>\n",
       "      <th>...</th>\n",
       "      <td>...</td>\n",
       "      <td>...</td>\n",
       "    </tr>\n",
       "    <tr>\n",
       "      <th>31257</th>\n",
       "      <td>62728</td>\n",
       "      <td>102943</td>\n",
       "    </tr>\n",
       "    <tr>\n",
       "      <th>31258</th>\n",
       "      <td>62729</td>\n",
       "      <td>106165</td>\n",
       "    </tr>\n",
       "    <tr>\n",
       "      <th>31259</th>\n",
       "      <td>62730</td>\n",
       "      <td>176337</td>\n",
       "    </tr>\n",
       "    <tr>\n",
       "      <th>31260</th>\n",
       "      <td>62731</td>\n",
       "      <td>250241</td>\n",
       "    </tr>\n",
       "    <tr>\n",
       "      <th>31261</th>\n",
       "      <td>62732</td>\n",
       "      <td>85037</td>\n",
       "    </tr>\n",
       "  </tbody>\n",
       "</table>\n",
       "<p>31262 rows × 2 columns</p>\n",
       "</div>"
      ],
      "text/plain": [
       "          id    予測結果\n",
       "0      31471  159249\n",
       "1      31472   79441\n",
       "2      31473   95082\n",
       "3      31474   68753\n",
       "4      31475  139176\n",
       "...      ...     ...\n",
       "31257  62728  102943\n",
       "31258  62729  106165\n",
       "31259  62730  176337\n",
       "31260  62731  250241\n",
       "31261  62732   85037\n",
       "\n",
       "[31262 rows x 2 columns]"
      ]
     },
     "execution_count": 99,
     "metadata": {},
     "output_type": "execute_result"
    }
   ],
   "source": [
    "result"
   ]
  },
  {
   "cell_type": "code",
   "execution_count": 100,
   "metadata": {},
   "outputs": [],
   "source": [
    "result.to_csv(\"result.csv\", header=False, index=False)"
   ]
  },
  {
   "cell_type": "code",
   "execution_count": null,
   "metadata": {},
   "outputs": [],
   "source": []
  }
 ],
 "metadata": {
  "kernelspec": {
   "display_name": "Python 3",
   "language": "python",
   "name": "python3"
  },
  "language_info": {
   "codemirror_mode": {
    "name": "ipython",
    "version": 3
   },
   "file_extension": ".py",
   "mimetype": "text/x-python",
   "name": "python",
   "nbconvert_exporter": "python",
   "pygments_lexer": "ipython3",
   "version": "3.8.5"
  }
 },
 "nbformat": 4,
 "nbformat_minor": 4
}
