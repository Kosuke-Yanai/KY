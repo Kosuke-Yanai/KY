{
 "cells": [
  {
   "cell_type": "markdown",
   "metadata": {},
   "source": [
    "# [【SOTA】マイナビ × SIGNATE Student Cup 2019: 賃貸物件の家賃予測](https://signate.jp/competitions/264)"
   ]
  },
  {
   "cell_type": "markdown",
   "metadata": {},
   "source": [
    "## 1. データ準備"
   ]
  },
  {
   "cell_type": "markdown",
   "metadata": {},
   "source": [
    "### 1.1. データ読込"
   ]
  },
  {
   "cell_type": "code",
   "execution_count": 200,
   "metadata": {},
   "outputs": [],
   "source": [
    "import pandas as pd\n",
    "import numpy as np\n",
    "import pathlib\n",
    "import os\n",
    "\n",
    "# 学習データ、テストデータの読み込み\n",
    "train_path = pathlib.Path(\"./DATA/train.csv\")\n",
    "test_path = pathlib.Path(\"./DATA/test.csv\")\n",
    "\n",
    "train_data = pd.read_csv(train_path)\n",
    "test_data = pd.read_csv(test_path)"
   ]
  },
  {
   "cell_type": "code",
   "execution_count": 201,
   "metadata": {},
   "outputs": [
    {
     "data": {
      "text/html": [
       "<div>\n",
       "<style scoped>\n",
       "    .dataframe tbody tr th:only-of-type {\n",
       "        vertical-align: middle;\n",
       "    }\n",
       "\n",
       "    .dataframe tbody tr th {\n",
       "        vertical-align: top;\n",
       "    }\n",
       "\n",
       "    .dataframe thead th {\n",
       "        text-align: right;\n",
       "    }\n",
       "</style>\n",
       "<table border=\"1\" class=\"dataframe\">\n",
       "  <thead>\n",
       "    <tr style=\"text-align: right;\">\n",
       "      <th></th>\n",
       "      <th>id</th>\n",
       "      <th>賃料</th>\n",
       "      <th>所在地</th>\n",
       "      <th>アクセス</th>\n",
       "      <th>間取り</th>\n",
       "      <th>築年数</th>\n",
       "      <th>方角</th>\n",
       "      <th>面積</th>\n",
       "      <th>所在階</th>\n",
       "      <th>バス・トイレ</th>\n",
       "      <th>キッチン</th>\n",
       "      <th>放送・通信</th>\n",
       "      <th>室内設備</th>\n",
       "      <th>駐車場</th>\n",
       "      <th>周辺環境</th>\n",
       "      <th>建物構造</th>\n",
       "      <th>契約期間</th>\n",
       "    </tr>\n",
       "  </thead>\n",
       "  <tbody>\n",
       "    <tr>\n",
       "      <th>0</th>\n",
       "      <td>1</td>\n",
       "      <td>75000</td>\n",
       "      <td>東京都北区滝野川３丁目</td>\n",
       "      <td>都営三田線\\t西巣鴨駅\\t徒歩4分\\t\\t埼京線\\t板橋駅\\t徒歩14分\\t\\t都電荒川線\\...</td>\n",
       "      <td>1K</td>\n",
       "      <td>9年9ヶ月</td>\n",
       "      <td>南東</td>\n",
       "      <td>20.01m2</td>\n",
       "      <td>1階／12階建</td>\n",
       "      <td>専用バス／\\t専用トイレ／\\tバス・トイレ別／\\tシャワー／\\t浴室乾燥機\\t／\\t温水洗浄便座</td>\n",
       "      <td>ガスコンロ／\\tコンロ2口／\\tシステムキッチン\\t／\\t給湯</td>\n",
       "      <td>インターネット対応／\\tCATV／\\tCSアンテナ／\\tBSアンテナ</td>\n",
       "      <td>エアコン付\\tシューズボックス／\\tバルコニー／\\tフローリング／\\t室内洗濯機置場／\\t敷...</td>\n",
       "      <td>駐輪場\\t空有</td>\n",
       "      <td>【小学校】 495m\\t【大学】 461m\\t【小学校】 962m\\t【公園】 1103m\\...</td>\n",
       "      <td>RC（鉄筋コンクリート）</td>\n",
       "      <td>2年間</td>\n",
       "    </tr>\n",
       "    <tr>\n",
       "      <th>1</th>\n",
       "      <td>2</td>\n",
       "      <td>76000</td>\n",
       "      <td>東京都中央区月島３丁目</td>\n",
       "      <td>都営大江戸線\\t勝どき駅\\t徒歩5分\\t\\t有楽町線\\t月島駅\\t徒歩9分\\t\\t日比谷線\\...</td>\n",
       "      <td>1R</td>\n",
       "      <td>44年10ヶ月</td>\n",
       "      <td>NaN</td>\n",
       "      <td>16.5m2</td>\n",
       "      <td>5階／10階建</td>\n",
       "      <td>専用トイレ／\\tシャワー／\\t温水洗浄便座</td>\n",
       "      <td>ガスコンロ／\\tシステムキッチン\\t／\\t給湯</td>\n",
       "      <td>インターネット対応</td>\n",
       "      <td>エアコン付\\tシューズボックス／\\tバルコニー／\\tフローリング／\\t室内洗濯機置場／\\t敷...</td>\n",
       "      <td>駐輪場\\t空有\\t駐車場\\t無\\tバイク置き場\\t無</td>\n",
       "      <td>【スーパー】 1283m</td>\n",
       "      <td>鉄骨造</td>\n",
       "      <td>2年間</td>\n",
       "    </tr>\n",
       "    <tr>\n",
       "      <th>2</th>\n",
       "      <td>3</td>\n",
       "      <td>110000</td>\n",
       "      <td>東京都渋谷区笹塚２丁目</td>\n",
       "      <td>京王線\\t笹塚駅\\t徒歩6分\\t\\t京王線\\t代田橋駅\\t徒歩7分\\t\\t京王線\\t明大前駅...</td>\n",
       "      <td>1K</td>\n",
       "      <td>8年6ヶ月</td>\n",
       "      <td>南</td>\n",
       "      <td>22.05m2</td>\n",
       "      <td>12階／15階建</td>\n",
       "      <td>専用バス／\\t専用トイレ／\\tバス・トイレ別／\\tシャワー／\\t浴室乾燥機\\t／\\t温水洗浄...</td>\n",
       "      <td>ガスコンロ／\\tコンロ2口／\\tシステムキッチン\\t／\\t給湯</td>\n",
       "      <td>インターネット対応／\\t光ファイバー／\\tCSアンテナ／\\tBSアンテナ</td>\n",
       "      <td>エアコン付\\tウォークインクローゼット\\tシューズボックス／\\tバルコニー／\\tフローリング...</td>\n",
       "      <td>駐輪場\\t空有\\tバイク置き場\\t空有\\t駐車場\\t近隣\\t30,000円(税込)\\t距離100m</td>\n",
       "      <td>【スーパー】 89m\\t【コンビニ】 184m\\t【コンビニ】 392m\\t【スーパー】 492m</td>\n",
       "      <td>RC（鉄筋コンクリート）</td>\n",
       "      <td>2年間</td>\n",
       "    </tr>\n",
       "    <tr>\n",
       "      <th>3</th>\n",
       "      <td>4</td>\n",
       "      <td>150000</td>\n",
       "      <td>東京都杉並区高円寺南２丁目23-2</td>\n",
       "      <td>総武線・中央線（各停）\\t高円寺駅\\t徒歩9分\\t\\t丸ノ内線(池袋－荻窪)\\t新高円寺駅\\...</td>\n",
       "      <td>2LDK</td>\n",
       "      <td>29年4ヶ月</td>\n",
       "      <td>南</td>\n",
       "      <td>60.48m2</td>\n",
       "      <td>3階／4階建</td>\n",
       "      <td>専用バス／\\t専用トイレ／\\tバス・トイレ別／\\tシャワー／\\t温水洗浄便座／\\t洗面台独立</td>\n",
       "      <td>ガスコンロ／\\t給湯</td>\n",
       "      <td>インターネット対応／\\t光ファイバー</td>\n",
       "      <td>エアコン付\\tシューズボックス／\\tバルコニー／\\t2面採光／\\t室内洗濯機置場／\\tエレベ...</td>\n",
       "      <td>駐車場\\t無\\t駐輪場\\t無\\tバイク置き場\\t無</td>\n",
       "      <td>【スーパー】 225m\\t【スーパー】 448m\\t【スーパー】 619m\\t【スーパー】 ...</td>\n",
       "      <td>RC（鉄筋コンクリート）</td>\n",
       "      <td>2年間\\t※この物件は\\t定期借家\\tです。</td>\n",
       "    </tr>\n",
       "    <tr>\n",
       "      <th>4</th>\n",
       "      <td>5</td>\n",
       "      <td>74000</td>\n",
       "      <td>東京都葛飾区金町３丁目7-2</td>\n",
       "      <td>京成金町線\\t京成金町駅\\t徒歩5分\\t\\t常磐線\\t金町(東京都)駅\\t徒歩7分\\t\\t京...</td>\n",
       "      <td>2DK</td>\n",
       "      <td>31年7ヶ月</td>\n",
       "      <td>南</td>\n",
       "      <td>39.66m2</td>\n",
       "      <td>1階／2階建</td>\n",
       "      <td>専用バス／\\t専用トイレ／\\tバス・トイレ別／\\tシャワー／\\t追焚機能</td>\n",
       "      <td>給湯／\\t独立キッチン</td>\n",
       "      <td>NaN</td>\n",
       "      <td>バルコニー／\\tフローリング／\\t室内洗濯機置場\\t公営水道／\\t下水</td>\n",
       "      <td>駐車場\\t近隣\\t17,000円(税込)\\t距離300m\\t駐輪場\\t無\\tバイク置き場\\t無</td>\n",
       "      <td>【スーパー】 193m\\t【スーパー】 298m\\t【スーパー】 660m\\t【スーパー】 ...</td>\n",
       "      <td>木造</td>\n",
       "      <td>2年間</td>\n",
       "    </tr>\n",
       "  </tbody>\n",
       "</table>\n",
       "</div>"
      ],
      "text/plain": [
       "   id      賃料                所在地  \\\n",
       "0   1   75000        東京都北区滝野川３丁目   \n",
       "1   2   76000        東京都中央区月島３丁目   \n",
       "2   3  110000        東京都渋谷区笹塚２丁目   \n",
       "3   4  150000  東京都杉並区高円寺南２丁目23-2   \n",
       "4   5   74000     東京都葛飾区金町３丁目7-2   \n",
       "\n",
       "                                                アクセス   間取り      築年数   方角  \\\n",
       "0  都営三田線\\t西巣鴨駅\\t徒歩4分\\t\\t埼京線\\t板橋駅\\t徒歩14分\\t\\t都電荒川線\\...    1K    9年9ヶ月   南東   \n",
       "1  都営大江戸線\\t勝どき駅\\t徒歩5分\\t\\t有楽町線\\t月島駅\\t徒歩9分\\t\\t日比谷線\\...    1R  44年10ヶ月  NaN   \n",
       "2  京王線\\t笹塚駅\\t徒歩6分\\t\\t京王線\\t代田橋駅\\t徒歩7分\\t\\t京王線\\t明大前駅...    1K    8年6ヶ月    南   \n",
       "3  総武線・中央線（各停）\\t高円寺駅\\t徒歩9分\\t\\t丸ノ内線(池袋－荻窪)\\t新高円寺駅\\...  2LDK   29年4ヶ月    南   \n",
       "4  京成金町線\\t京成金町駅\\t徒歩5分\\t\\t常磐線\\t金町(東京都)駅\\t徒歩7分\\t\\t京...   2DK   31年7ヶ月    南   \n",
       "\n",
       "        面積       所在階                                             バス・トイレ  \\\n",
       "0  20.01m2   1階／12階建   専用バス／\\t専用トイレ／\\tバス・トイレ別／\\tシャワー／\\t浴室乾燥機\\t／\\t温水洗浄便座   \n",
       "1   16.5m2   5階／10階建                              専用トイレ／\\tシャワー／\\t温水洗浄便座   \n",
       "2  22.05m2  12階／15階建  専用バス／\\t専用トイレ／\\tバス・トイレ別／\\tシャワー／\\t浴室乾燥機\\t／\\t温水洗浄...   \n",
       "3  60.48m2    3階／4階建     専用バス／\\t専用トイレ／\\tバス・トイレ別／\\tシャワー／\\t温水洗浄便座／\\t洗面台独立   \n",
       "4  39.66m2    1階／2階建               専用バス／\\t専用トイレ／\\tバス・トイレ別／\\tシャワー／\\t追焚機能   \n",
       "\n",
       "                              キッチン                                 放送・通信  \\\n",
       "0  ガスコンロ／\\tコンロ2口／\\tシステムキッチン\\t／\\t給湯    インターネット対応／\\tCATV／\\tCSアンテナ／\\tBSアンテナ   \n",
       "1          ガスコンロ／\\tシステムキッチン\\t／\\t給湯                             インターネット対応   \n",
       "2  ガスコンロ／\\tコンロ2口／\\tシステムキッチン\\t／\\t給湯  インターネット対応／\\t光ファイバー／\\tCSアンテナ／\\tBSアンテナ   \n",
       "3                       ガスコンロ／\\t給湯                    インターネット対応／\\t光ファイバー   \n",
       "4                      給湯／\\t独立キッチン                                   NaN   \n",
       "\n",
       "                                                室内設備  \\\n",
       "0  エアコン付\\tシューズボックス／\\tバルコニー／\\tフローリング／\\t室内洗濯機置場／\\t敷...   \n",
       "1  エアコン付\\tシューズボックス／\\tバルコニー／\\tフローリング／\\t室内洗濯機置場／\\t敷...   \n",
       "2  エアコン付\\tウォークインクローゼット\\tシューズボックス／\\tバルコニー／\\tフローリング...   \n",
       "3  エアコン付\\tシューズボックス／\\tバルコニー／\\t2面採光／\\t室内洗濯機置場／\\tエレベ...   \n",
       "4                バルコニー／\\tフローリング／\\t室内洗濯機置場\\t公営水道／\\t下水   \n",
       "\n",
       "                                                 駐車場  \\\n",
       "0                                            駐輪場\\t空有   \n",
       "1                         駐輪場\\t空有\\t駐車場\\t無\\tバイク置き場\\t無   \n",
       "2  駐輪場\\t空有\\tバイク置き場\\t空有\\t駐車場\\t近隣\\t30,000円(税込)\\t距離100m   \n",
       "3                          駐車場\\t無\\t駐輪場\\t無\\tバイク置き場\\t無   \n",
       "4    駐車場\\t近隣\\t17,000円(税込)\\t距離300m\\t駐輪場\\t無\\tバイク置き場\\t無   \n",
       "\n",
       "                                                周辺環境          建物構造  \\\n",
       "0  【小学校】 495m\\t【大学】 461m\\t【小学校】 962m\\t【公園】 1103m\\...  RC（鉄筋コンクリート）   \n",
       "1                                       【スーパー】 1283m           鉄骨造   \n",
       "2  【スーパー】 89m\\t【コンビニ】 184m\\t【コンビニ】 392m\\t【スーパー】 492m  RC（鉄筋コンクリート）   \n",
       "3  【スーパー】 225m\\t【スーパー】 448m\\t【スーパー】 619m\\t【スーパー】 ...  RC（鉄筋コンクリート）   \n",
       "4  【スーパー】 193m\\t【スーパー】 298m\\t【スーパー】 660m\\t【スーパー】 ...            木造   \n",
       "\n",
       "                     契約期間  \n",
       "0                     2年間  \n",
       "1                     2年間  \n",
       "2                     2年間  \n",
       "3  2年間\\t※この物件は\\t定期借家\\tです。  \n",
       "4                     2年間  "
      ]
     },
     "execution_count": 201,
     "metadata": {},
     "output_type": "execute_result"
    }
   ],
   "source": [
    "train_data.head()"
   ]
  },
  {
   "cell_type": "markdown",
   "metadata": {},
   "source": [
    "## 2. 前処理"
   ]
  },
  {
   "cell_type": "markdown",
   "metadata": {},
   "source": [
    "### 2.1. データ選択"
   ]
  },
  {
   "cell_type": "code",
   "execution_count": 202,
   "metadata": {},
   "outputs": [],
   "source": [
    "train_data_1 = train_data[[\"id\", \"所在地\", \"賃料\", \"間取り\", \"築年数\",\"方角\", \"面積\", \"所在階\", \"建物構造\"]]\n",
    "test_data_1 = test_data[[\"id\", \"所在地\", \"間取り\", \"築年数\",\"方角\",  \"面積\", \"所在階\", \"建物構造\"]]"
   ]
  },
  {
   "cell_type": "markdown",
   "metadata": {},
   "source": [
    "### 2.2. 間取りの数値化"
   ]
  },
  {
   "cell_type": "code",
   "execution_count": 203,
   "metadata": {},
   "outputs": [],
   "source": [
    "# 16m2で11R扱いの物件を1Rに修正する\n",
    "# test_data.loc[test_data[\"間取り\"]==\"11R\"]\n",
    "test_data_1 = test_data_1.replace(\"11R\", \"1R\")"
   ]
  },
  {
   "cell_type": "code",
   "execution_count": 204,
   "metadata": {},
   "outputs": [
    {
     "name": "stderr",
     "output_type": "stream",
     "text": [
      "C:\\ProgramData\\Anaconda3\\lib\\site-packages\\ipykernel_launcher.py:7: SettingWithCopyWarning: \n",
      "A value is trying to be set on a copy of a slice from a DataFrame.\n",
      "Try using .loc[row_indexer,col_indexer] = value instead\n",
      "\n",
      "See the caveats in the documentation: https://pandas.pydata.org/pandas-docs/stable/user_guide/indexing.html#returning-a-view-versus-a-copy\n",
      "  import sys\n"
     ]
    }
   ],
   "source": [
    "# 間取りにlabel encodingを適用\n",
    "from sklearn.preprocessing import LabelEncoder\n",
    "\n",
    "le = LabelEncoder()\n",
    "le.fit(pd.concat([train_data_1[\"間取り\"],test_data_1[\"間取り\"]]))\n",
    "\n",
    "train_data_1[\"間取りID\"] = le.transform(train_data_1[\"間取り\"])\n",
    "test_data_1[\"間取りID\"] = le.transform(test_data_1[\"間取り\"])"
   ]
  },
  {
   "cell_type": "markdown",
   "metadata": {},
   "source": [
    "### 2.3. 面積の数値化"
   ]
  },
  {
   "cell_type": "code",
   "execution_count": 205,
   "metadata": {},
   "outputs": [],
   "source": [
    "# 面積のカラムタイトルを面積[m2]に置換\n",
    "train_data_1 = train_data_1.rename(columns={\"面積\": \"面積m2\"})\n",
    "test_data_1 = test_data_1.rename(columns={\"面積\": \"面積m2\"})"
   ]
  },
  {
   "cell_type": "code",
   "execution_count": 206,
   "metadata": {},
   "outputs": [],
   "source": [
    "# カラムタイトル面積[m2]の要素からm2を削除\n",
    "train_data_1['面積m2'] = train_data_1['面積m2'].str.replace('m2', '').astype(float)\n",
    "test_data_1['面積m2'] = test_data_1['面積m2'].str.replace('m2', '').astype(float)"
   ]
  },
  {
   "cell_type": "markdown",
   "metadata": {},
   "source": [
    "### 2.4. 所在階の数値化"
   ]
  },
  {
   "cell_type": "code",
   "execution_count": 207,
   "metadata": {},
   "outputs": [],
   "source": [
    "# 所在階が総階数よりも大きい場合、値を入れ替える\n",
    "train_data_1 = train_data_1.replace(\"2階／1階建\", \"1階／2階建\")\n",
    "train_data_1 = train_data_1.replace(\"4階／2階建\", \"2階／4階建\")\n",
    "train_data_1 = train_data_1.replace(\"7階／2階建\", \"2階／7階建\")\n",
    "train_data_1 = train_data_1.replace(\"10階／8階建\", \"8階／10階建\")\n",
    "\n",
    "test_data_1 = test_data_1.replace(\"2階／1階建\", \"1階／2階建\")\n",
    "test_data_1 = test_data_1.replace(\"3階／2階建\", \"2階／3階建\")\n",
    "test_data_1 = test_data_1.replace(\"4階／1階建\", \"1階／4階建\")\n",
    "test_data_1 = test_data_1.replace(\"4階／2階建\", \"2階／4階建\")\n",
    "test_data_1 = test_data_1.replace(\"4階／3階建（地下1階）\", \"3階／4階建（地下1階）\")\n",
    "test_data_1 = test_data_1.replace(\"8階／6階建\", \"6階／8階建\")\n",
    "test_data_1 = test_data_1.replace(\"13階／4階建（地下1階）\", \"4階／13階建（地下1階）\")\n",
    "test_data_1 = test_data_1.replace(\"21階／3階建\", \"3階／21階建\")\n",
    "test_data_1 = test_data_1.replace(\"44階／4階建\", \"4階／44階建\")"
   ]
  },
  {
   "cell_type": "code",
   "execution_count": 208,
   "metadata": {},
   "outputs": [],
   "source": [
    "# 所在階の中身を\"／\"で2つの列に分割\n",
    "train_data_1 = pd.concat([train_data_1, train_data_1['所在階'].str.split('／', expand=True)], axis=1)\n",
    "test_data_1 = pd.concat([test_data_1, test_data_1['所在階'].str.split('／', expand=True)], axis=1)"
   ]
  },
  {
   "cell_type": "code",
   "execution_count": 209,
   "metadata": {},
   "outputs": [],
   "source": [
    "# 分割した所在階のカラム名変更　0:所在、1:階層\n",
    "train_data_1 = train_data_1.rename(columns={0:\"所在\", 1:\"階層\"})\n",
    "test_data_1 = test_data_1.rename(columns={0:\"所在\", 1:\"階層\"})"
   ]
  },
  {
   "cell_type": "code",
   "execution_count": 210,
   "metadata": {},
   "outputs": [],
   "source": [
    "# 所在と階層の要素を整形\n",
    "train_data_1['所在'] = train_data_1['所在'].str.replace('階', '')\n",
    "train_data_1['所在'] = train_data_1['所在'].str.replace('建', '')\n",
    "train_data_1['所在'] = train_data_1['所在'].str.replace('地下', '-')\n",
    "train_data_1['所在'] = train_data_1['所在'].str.replace('\\（.*\\）', '', regex=True)\n",
    "train_data_1['階層'] = train_data_1['階層'].str.replace('階建', '')\n",
    "train_data_1['階層'] = train_data_1['階層'].str.replace('\\（.*\\）', '', regex=True)\n",
    "train_data_1['所在'] = train_data_1['所在'].replace('', np.nan)\n",
    "\n",
    "test_data_1['所在'] = test_data_1['所在'].str.replace('階', '')\n",
    "test_data_1['所在'] = test_data_1['所在'].str.replace('建', '')\n",
    "test_data_1['所在'] = test_data_1['所在'].str.replace('地下', '-')\n",
    "test_data_1['所在'] = test_data_1['所在'].str.replace('\\（.*\\）', '', regex=True)\n",
    "test_data_1['階層'] = test_data_1['階層'].str.replace('階建', '')\n",
    "test_data_1['階層'] = test_data_1['階層'].str.replace('\\（.*\\）', '', regex=True)\n",
    "test_data_1['所在'] = test_data_1['所在'].replace('', np.nan)"
   ]
  },
  {
   "cell_type": "code",
   "execution_count": 211,
   "metadata": {},
   "outputs": [],
   "source": [
    "# # \"階層\"がNoneの箇所を\"所在\"の値で埋める\n",
    "# train_data_1['階層'].fillna(train_data_1['所在'], inplace=True)\n",
    "# test_data_1['階層'].fillna(test_data_1['所在'], inplace=True)"
   ]
  },
  {
   "cell_type": "code",
   "execution_count": 212,
   "metadata": {},
   "outputs": [],
   "source": [
    "# 所在と階層の要素をfloat型に変換する\n",
    "train_data_1['所在'] = train_data_1['所在'].astype(float)\n",
    "train_data_1['階層'] = train_data_1['階層'].astype(float)\n",
    "\n",
    "test_data_1['所在'] = test_data_1['所在'].astype(float)\n",
    "test_data_1['階層'] = test_data_1['階層'].astype(float)"
   ]
  },
  {
   "cell_type": "code",
   "execution_count": 213,
   "metadata": {},
   "outputs": [],
   "source": [
    "# 所在階のカラムを削除\n",
    "train_data_1 = train_data_1.drop('所在階', axis=1)\n",
    "test_data_1 = test_data_1.drop('所在階', axis=1)"
   ]
  },
  {
   "cell_type": "code",
   "execution_count": 214,
   "metadata": {},
   "outputs": [],
   "source": [
    "# # 所在のNaNを埋める\n",
    "# train_data_1.loc[train_data_1[\"所在\"].isnull(), \"所在\"] = train_data_1[\"階層\"]\n",
    "# test_data_1.loc[test_data_1[\"所在\"].isnull(), \"所在\"] = test_data_1[\"階層\"]"
   ]
  },
  {
   "cell_type": "code",
   "execution_count": 215,
   "metadata": {},
   "outputs": [],
   "source": [
    "# # 所在も階層も空欄のデータは間取りと面積の近いデータで埋める\n",
    "# print(test_data_1[(test_data_1[\"間取りID\"] == 21) & (test_data_1[\"面積m2\"] > 90) & (test_data_1[\"面積m2\"] < 95)].mean())\n",
    "# test_data_1.loc[test_data_1[\"id\"]==40675, \"所在\"] = float(6)\n",
    "# test_data_1.loc[test_data_1[\"id\"]==40675, \"階層\"] = float(9)"
   ]
  },
  {
   "cell_type": "markdown",
   "metadata": {},
   "source": [
    "### 2.5. 築年数の数値化"
   ]
  },
  {
   "cell_type": "code",
   "execution_count": 216,
   "metadata": {},
   "outputs": [],
   "source": [
    "# 新築の場合は全て0にする\n",
    "train_data_1.loc[train_data_1[\"築年数\"]==\"新築\", \"築年数\"] = float(0)\n",
    "test_data_1.loc[test_data_1[\"築年数\"]==\"新築\", \"築年数\"] = float(0)"
   ]
  },
  {
   "cell_type": "code",
   "execution_count": 217,
   "metadata": {},
   "outputs": [],
   "source": [
    "# 築年数を数値に変換する\n",
    "train_data_1 = pd.concat([train_data_1, train_data_1['築年数'].str.split('年', expand=True)], axis=1)\n",
    "test_data_1 = pd.concat([test_data_1, test_data_1['築年数'].str.split('年', expand=True)], axis=1)"
   ]
  },
  {
   "cell_type": "code",
   "execution_count": 218,
   "metadata": {},
   "outputs": [],
   "source": [
    "# ヶ月を消す\n",
    "train_data_1[1] = train_data_1[1].str.replace('ヶ月', '')\n",
    "test_data_1[1] = test_data_1[1].str.replace('ヶ月', '')"
   ]
  },
  {
   "cell_type": "code",
   "execution_count": 219,
   "metadata": {},
   "outputs": [],
   "source": [
    "# 築年数をfloat変換\n",
    "train_data_1[\"築年数\"] = train_data_1[0].astype(float) + (train_data_1[1].astype(float) / float(12))\n",
    "test_data_1[\"築年数\"] = test_data_1[0].astype(float) + (test_data_1[1].astype(float) / float(12))"
   ]
  },
  {
   "cell_type": "code",
   "execution_count": 220,
   "metadata": {},
   "outputs": [
    {
     "data": {
      "text/html": [
       "<div>\n",
       "<style scoped>\n",
       "    .dataframe tbody tr th:only-of-type {\n",
       "        vertical-align: middle;\n",
       "    }\n",
       "\n",
       "    .dataframe tbody tr th {\n",
       "        vertical-align: top;\n",
       "    }\n",
       "\n",
       "    .dataframe thead th {\n",
       "        text-align: right;\n",
       "    }\n",
       "</style>\n",
       "<table border=\"1\" class=\"dataframe\">\n",
       "  <thead>\n",
       "    <tr style=\"text-align: right;\">\n",
       "      <th></th>\n",
       "      <th>id</th>\n",
       "      <th>所在地</th>\n",
       "      <th>間取り</th>\n",
       "      <th>築年数</th>\n",
       "      <th>方角</th>\n",
       "      <th>面積m2</th>\n",
       "      <th>建物構造</th>\n",
       "      <th>間取りID</th>\n",
       "      <th>所在</th>\n",
       "      <th>階層</th>\n",
       "      <th>0</th>\n",
       "      <th>1</th>\n",
       "    </tr>\n",
       "  </thead>\n",
       "  <tbody>\n",
       "    <tr>\n",
       "      <th>0</th>\n",
       "      <td>31471</td>\n",
       "      <td>東京都世田谷区深沢５丁目1-27</td>\n",
       "      <td>2LDK</td>\n",
       "      <td>49.000000</td>\n",
       "      <td>南</td>\n",
       "      <td>50.22</td>\n",
       "      <td>鉄骨造</td>\n",
       "      <td>13</td>\n",
       "      <td>8.0</td>\n",
       "      <td>8.0</td>\n",
       "      <td>49</td>\n",
       "      <td>0</td>\n",
       "    </tr>\n",
       "    <tr>\n",
       "      <th>1</th>\n",
       "      <td>31472</td>\n",
       "      <td>東京都目黒区八雲１丁目11-8</td>\n",
       "      <td>1R</td>\n",
       "      <td>0.166667</td>\n",
       "      <td>南東</td>\n",
       "      <td>20.88</td>\n",
       "      <td>RC（鉄筋コンクリート）</td>\n",
       "      <td>8</td>\n",
       "      <td>3.0</td>\n",
       "      <td>4.0</td>\n",
       "      <td>0</td>\n",
       "      <td>2</td>\n",
       "    </tr>\n",
       "    <tr>\n",
       "      <th>2</th>\n",
       "      <td>31473</td>\n",
       "      <td>東京都豊島区池袋本町２丁目22-2</td>\n",
       "      <td>1K</td>\n",
       "      <td>23.333333</td>\n",
       "      <td>南東</td>\n",
       "      <td>26.93</td>\n",
       "      <td>鉄骨造</td>\n",
       "      <td>2</td>\n",
       "      <td>1.0</td>\n",
       "      <td>4.0</td>\n",
       "      <td>23</td>\n",
       "      <td>4</td>\n",
       "    </tr>\n",
       "    <tr>\n",
       "      <th>3</th>\n",
       "      <td>31474</td>\n",
       "      <td>東京都杉並区和泉１丁目</td>\n",
       "      <td>1K</td>\n",
       "      <td>36.166667</td>\n",
       "      <td>南東</td>\n",
       "      <td>23.57</td>\n",
       "      <td>木造</td>\n",
       "      <td>2</td>\n",
       "      <td>1.0</td>\n",
       "      <td>2.0</td>\n",
       "      <td>36</td>\n",
       "      <td>2</td>\n",
       "    </tr>\n",
       "    <tr>\n",
       "      <th>4</th>\n",
       "      <td>31475</td>\n",
       "      <td>東京都杉並区堀ノ内２丁目</td>\n",
       "      <td>2LDK</td>\n",
       "      <td>45.333333</td>\n",
       "      <td>南</td>\n",
       "      <td>50.00</td>\n",
       "      <td>RC（鉄筋コンクリート）</td>\n",
       "      <td>13</td>\n",
       "      <td>4.0</td>\n",
       "      <td>4.0</td>\n",
       "      <td>45</td>\n",
       "      <td>4</td>\n",
       "    </tr>\n",
       "  </tbody>\n",
       "</table>\n",
       "</div>"
      ],
      "text/plain": [
       "      id                所在地   間取り        築年数  方角   面積m2          建物構造  間取りID  \\\n",
       "0  31471   東京都世田谷区深沢５丁目1-27  2LDK  49.000000   南  50.22           鉄骨造     13   \n",
       "1  31472    東京都目黒区八雲１丁目11-8    1R   0.166667  南東  20.88  RC（鉄筋コンクリート）      8   \n",
       "2  31473  東京都豊島区池袋本町２丁目22-2    1K  23.333333  南東  26.93           鉄骨造      2   \n",
       "3  31474        東京都杉並区和泉１丁目    1K  36.166667  南東  23.57            木造      2   \n",
       "4  31475       東京都杉並区堀ノ内２丁目  2LDK  45.333333   南  50.00  RC（鉄筋コンクリート）     13   \n",
       "\n",
       "    所在   階層   0  1  \n",
       "0  8.0  8.0  49  0  \n",
       "1  3.0  4.0   0  2  \n",
       "2  1.0  4.0  23  4  \n",
       "3  1.0  2.0  36  2  \n",
       "4  4.0  4.0  45  4  "
      ]
     },
     "execution_count": 220,
     "metadata": {},
     "output_type": "execute_result"
    }
   ],
   "source": [
    "test_data_1.head()"
   ]
  },
  {
   "cell_type": "code",
   "execution_count": 221,
   "metadata": {},
   "outputs": [
    {
     "name": "stdout",
     "output_type": "stream",
     "text": [
      "          id               所在地       間取り  築年数  方角   面積m2          建物構造  間取りID  \\\n",
      "77     31548      東京都大田区東矢口２丁目  1K+S(納戸)  NaN   南  23.80           鉄骨造      3   \n",
      "108    31579  東京都世田谷区上馬２丁目26-8        1K  NaN  南西  26.44  RC（鉄筋コンクリート）      2   \n",
      "112    31583       東京都台東区台東２丁目      1LDK  NaN   北  41.65           鉄骨造      4   \n",
      "156    31627  東京都品川区南大井４丁目20-5        1R  NaN  南東  20.56  RC（鉄筋コンクリート）      8   \n",
      "162    31633     東京都江東区扇橋２丁目23        1K  NaN   西  25.34  RC（鉄筋コンクリート）      2   \n",
      "...      ...               ...       ...  ...  ..    ...           ...    ...   \n",
      "31141  62612  東京都世田谷区桜丘４丁目15-9      2LDK  NaN  南西  60.81            木造     13   \n",
      "31176  62647   東京都江戸川区中葛西８丁目22      1LDK  NaN   東  40.06  RC（鉄筋コンクリート）      4   \n",
      "31181  62652       東京都新宿区原町３丁目      1LDK  NaN  南東  40.26           鉄骨造      4   \n",
      "31182  62653       東京都新宿区原町３丁目      2LDK  NaN  南西  54.75           鉄骨造     13   \n",
      "31212  62683       東京都新宿区原町３丁目      1LDK  NaN  北西  40.79           鉄骨造      4   \n",
      "\n",
      "        所在    階層    0    1  \n",
      "77     2.0   3.0  NaN  NaN  \n",
      "108    7.0  13.0  NaN  NaN  \n",
      "112    3.0  10.0  NaN  NaN  \n",
      "156    3.0  12.0  NaN  NaN  \n",
      "162    1.0   8.0  NaN  NaN  \n",
      "...    ...   ...  ...  ...  \n",
      "31141  2.0   2.0  NaN  NaN  \n",
      "31176  3.0  10.0  NaN  NaN  \n",
      "31181  2.0   3.0  NaN  NaN  \n",
      "31182  1.0   3.0  NaN  NaN  \n",
      "31212  2.0   3.0  NaN  NaN  \n",
      "\n",
      "[850 rows x 12 columns]\n"
     ]
    }
   ],
   "source": [
    "print(test_data_1[test_data_1[\"築年数\"].isnull()])"
   ]
  },
  {
   "cell_type": "code",
   "execution_count": 222,
   "metadata": {},
   "outputs": [],
   "source": [
    "# 0と1の列を消す\n",
    "train_data_1 = train_data_1.drop(0, axis=1)\n",
    "train_data_1 = train_data_1.drop(1, axis=1)\n",
    "\n",
    "test_data_1 = test_data_1.drop(0, axis=1)\n",
    "test_data_1 = test_data_1.drop(1, axis=1)"
   ]
  },
  {
   "cell_type": "markdown",
   "metadata": {},
   "source": [
    "### 2.6. 緯度経度情報の追加"
   ]
  },
  {
   "cell_type": "markdown",
   "metadata": {},
   "source": [
    "#### [このサイト](https://ktgis.net/gcode/geocoding.html)を利用する"
   ]
  },
  {
   "cell_type": "code",
   "execution_count": 223,
   "metadata": {},
   "outputs": [],
   "source": [
    "# IDと住所をファイル出力\n",
    "train_coordinate = train_data[[\"id\", \"所在地\"]]\n",
    "test_coordinate = test_data[[\"id\", \"所在地\"]]\n",
    "\n",
    "train_coordinate.to_csv(\"train_coordinate.csv\", header=False, index=False)\n",
    "test_coordinate.to_csv(\"test_coordinate.csv\", header=False, index=False)"
   ]
  },
  {
   "cell_type": "code",
   "execution_count": 224,
   "metadata": {},
   "outputs": [],
   "source": [
    "# 緯度、経度情報の読み込み(id, 所在地, 経度, 緯度)\n",
    "train_coordinate_addvalue = pd.read_excel(\"train_coordinate_addvalue.xlsx\")\n",
    "test_coordinate_addvalue = pd.read_excel(\"test_coordinate_addvalue.xlsx\")"
   ]
  },
  {
   "cell_type": "code",
   "execution_count": 225,
   "metadata": {},
   "outputs": [],
   "source": [
    "train_data_1 = pd.merge(train_data_1, train_coordinate_addvalue[[\"id\", \"経度\", \"緯度\"]], on='id')\n",
    "test_data_1 = pd.merge(test_data_1, test_coordinate_addvalue[[\"id\", \"経度\", \"緯度\"]], on='id')"
   ]
  },
  {
   "cell_type": "markdown",
   "metadata": {},
   "source": [
    "### 2.7. 部屋数の追加"
   ]
  },
  {
   "cell_type": "code",
   "execution_count": 226,
   "metadata": {},
   "outputs": [],
   "source": [
    "# 部屋数のマージ\n",
    "number_of_rooms = pd.read_excel(\"number_of_rooms.xlsx\")\n",
    "train_data_1 = pd.merge(train_data_1, number_of_rooms[[\"間取り\", \"部屋数\"]], on='間取り')\n",
    "test_data_1 = pd.merge(test_data_1, number_of_rooms[[\"間取り\", \"部屋数\"]], on='間取り')"
   ]
  },
  {
   "cell_type": "code",
   "execution_count": 227,
   "metadata": {},
   "outputs": [],
   "source": [
    "# インデックスの振り直し\n",
    "train_data_1 = train_data_1.sort_values(\"id\")\n",
    "train_data_1 = train_data_1.reset_index(drop=True)\n",
    "\n",
    "test_data_1 = test_data_1.sort_values(\"id\")\n",
    "test_data_1 = test_data_1.reset_index(drop=True)"
   ]
  },
  {
   "cell_type": "markdown",
   "metadata": {},
   "source": [
    "### 2.8. 1部屋当たりの面積追加"
   ]
  },
  {
   "cell_type": "code",
   "execution_count": 228,
   "metadata": {},
   "outputs": [],
   "source": [
    "# 面積と部屋数から1部屋当たりの面積を算出\n",
    "train_data_1[\"1部屋当たり面積m2\"] = (train_data_1[\"面積m2\"] / train_data_1[\"部屋数\"]).astype(float)\n",
    "test_data_1[\"1部屋当たり面積m2\"] = (test_data_1[\"面積m2\"] / test_data_1[\"部屋数\"]).astype(float)"
   ]
  },
  {
   "cell_type": "code",
   "execution_count": 229,
   "metadata": {},
   "outputs": [],
   "source": [
    "# 間取りと間取りIDは削除する\n",
    "train_data_1 = train_data_1.drop('間取り', axis=1)\n",
    "test_data_1 = test_data_1.drop('間取り', axis=1)\n",
    "\n",
    "# train_data_1 = train_data_1.drop('間取りID', axis=1)\n",
    "# test_data_1 = test_data_1.drop('間取りID', axis=1)"
   ]
  },
  {
   "cell_type": "markdown",
   "metadata": {},
   "source": [
    "#### 2.9. 建物の高さ率を追加(高さ率=所在/階層)"
   ]
  },
  {
   "cell_type": "code",
   "execution_count": 230,
   "metadata": {},
   "outputs": [],
   "source": [
    "# 高さ率の算出\n",
    "train_data_1[\"高さ率\"] = (train_data_1[\"所在\"] / train_data_1[\"階層\"]).astype(float)\n",
    "test_data_1[\"高さ率\"] = (test_data_1[\"所在\"] / test_data_1[\"階層\"]).astype(float)"
   ]
  },
  {
   "cell_type": "markdown",
   "metadata": {},
   "source": [
    "### 2.10. 建物構造の数値化"
   ]
  },
  {
   "cell_type": "code",
   "execution_count": 231,
   "metadata": {},
   "outputs": [
    {
     "data": {
      "text/plain": [
       "RC（鉄筋コンクリート）                   17505\n",
       "木造                              5512\n",
       "鉄骨造                             3726\n",
       "SRC（鉄骨鉄筋コンクリート）                 2429\n",
       "軽量鉄骨                            1812\n",
       "ALC（軽量気泡コンクリート）                  297\n",
       "その他                              136\n",
       "PC（プレキャスト・コンクリート（鉄筋コンクリート））       46\n",
       "HPC（プレキャスト・コンクリート（重量鉄骨））           4\n",
       "ブロック                               3\n",
       "Name: 建物構造, dtype: int64"
      ]
     },
     "execution_count": 231,
     "metadata": {},
     "output_type": "execute_result"
    }
   ],
   "source": [
    "train_data_1[\"建物構造\"].value_counts()"
   ]
  },
  {
   "cell_type": "code",
   "execution_count": 232,
   "metadata": {},
   "outputs": [],
   "source": [
    "# 建物構造にlabel encodingを適用\n",
    "from sklearn.preprocessing import LabelEncoder\n",
    "\n",
    "le = LabelEncoder()\n",
    "le.fit(pd.concat([train_data_1[\"建物構造\"],test_data_1[\"建物構造\"]]))\n",
    "\n",
    "train_data_1[\"建物構造ID\"] = le.transform(train_data_1[\"建物構造\"])\n",
    "test_data_1[\"建物構造ID\"] = le.transform(test_data_1[\"建物構造\"])"
   ]
  },
  {
   "cell_type": "code",
   "execution_count": 233,
   "metadata": {},
   "outputs": [
    {
     "data": {
      "text/html": [
       "<div>\n",
       "<style scoped>\n",
       "    .dataframe tbody tr th:only-of-type {\n",
       "        vertical-align: middle;\n",
       "    }\n",
       "\n",
       "    .dataframe tbody tr th {\n",
       "        vertical-align: top;\n",
       "    }\n",
       "\n",
       "    .dataframe thead th {\n",
       "        text-align: right;\n",
       "    }\n",
       "</style>\n",
       "<table border=\"1\" class=\"dataframe\">\n",
       "  <thead>\n",
       "    <tr style=\"text-align: right;\">\n",
       "      <th></th>\n",
       "      <th>id</th>\n",
       "      <th>所在地</th>\n",
       "      <th>築年数</th>\n",
       "      <th>方角</th>\n",
       "      <th>面積m2</th>\n",
       "      <th>建物構造</th>\n",
       "      <th>間取りID</th>\n",
       "      <th>所在</th>\n",
       "      <th>階層</th>\n",
       "      <th>経度</th>\n",
       "      <th>緯度</th>\n",
       "      <th>部屋数</th>\n",
       "      <th>1部屋当たり面積m2</th>\n",
       "      <th>高さ率</th>\n",
       "      <th>建物構造ID</th>\n",
       "    </tr>\n",
       "  </thead>\n",
       "  <tbody>\n",
       "    <tr>\n",
       "      <th>0</th>\n",
       "      <td>31471</td>\n",
       "      <td>東京都世田谷区深沢５丁目1-27</td>\n",
       "      <td>49.000000</td>\n",
       "      <td>南</td>\n",
       "      <td>50.22</td>\n",
       "      <td>鉄骨造</td>\n",
       "      <td>13</td>\n",
       "      <td>8.0</td>\n",
       "      <td>8.0</td>\n",
       "      <td>139.652762</td>\n",
       "      <td>35.617708</td>\n",
       "      <td>3.5</td>\n",
       "      <td>14.348571</td>\n",
       "      <td>1.00</td>\n",
       "      <td>10</td>\n",
       "    </tr>\n",
       "    <tr>\n",
       "      <th>1</th>\n",
       "      <td>31472</td>\n",
       "      <td>東京都目黒区八雲１丁目11-8</td>\n",
       "      <td>0.166667</td>\n",
       "      <td>南東</td>\n",
       "      <td>20.88</td>\n",
       "      <td>RC（鉄筋コンクリート）</td>\n",
       "      <td>8</td>\n",
       "      <td>3.0</td>\n",
       "      <td>4.0</td>\n",
       "      <td>139.672871</td>\n",
       "      <td>35.617709</td>\n",
       "      <td>1.0</td>\n",
       "      <td>20.880000</td>\n",
       "      <td>0.75</td>\n",
       "      <td>3</td>\n",
       "    </tr>\n",
       "    <tr>\n",
       "      <th>2</th>\n",
       "      <td>31473</td>\n",
       "      <td>東京都豊島区池袋本町２丁目22-2</td>\n",
       "      <td>23.333333</td>\n",
       "      <td>南東</td>\n",
       "      <td>26.93</td>\n",
       "      <td>鉄骨造</td>\n",
       "      <td>2</td>\n",
       "      <td>1.0</td>\n",
       "      <td>4.0</td>\n",
       "      <td>139.709049</td>\n",
       "      <td>35.741996</td>\n",
       "      <td>1.0</td>\n",
       "      <td>26.930000</td>\n",
       "      <td>0.25</td>\n",
       "      <td>10</td>\n",
       "    </tr>\n",
       "    <tr>\n",
       "      <th>3</th>\n",
       "      <td>31474</td>\n",
       "      <td>東京都杉並区和泉１丁目</td>\n",
       "      <td>36.166667</td>\n",
       "      <td>南東</td>\n",
       "      <td>23.57</td>\n",
       "      <td>木造</td>\n",
       "      <td>2</td>\n",
       "      <td>1.0</td>\n",
       "      <td>2.0</td>\n",
       "      <td>139.658270</td>\n",
       "      <td>35.673602</td>\n",
       "      <td>1.0</td>\n",
       "      <td>23.570000</td>\n",
       "      <td>0.50</td>\n",
       "      <td>7</td>\n",
       "    </tr>\n",
       "    <tr>\n",
       "      <th>4</th>\n",
       "      <td>31475</td>\n",
       "      <td>東京都杉並区堀ノ内２丁目</td>\n",
       "      <td>45.333333</td>\n",
       "      <td>南</td>\n",
       "      <td>50.00</td>\n",
       "      <td>RC（鉄筋コンクリート）</td>\n",
       "      <td>13</td>\n",
       "      <td>4.0</td>\n",
       "      <td>4.0</td>\n",
       "      <td>139.650468</td>\n",
       "      <td>35.689411</td>\n",
       "      <td>3.5</td>\n",
       "      <td>14.285714</td>\n",
       "      <td>1.00</td>\n",
       "      <td>3</td>\n",
       "    </tr>\n",
       "  </tbody>\n",
       "</table>\n",
       "</div>"
      ],
      "text/plain": [
       "      id                所在地        築年数  方角   面積m2          建物構造  間取りID   所在  \\\n",
       "0  31471   東京都世田谷区深沢５丁目1-27  49.000000   南  50.22           鉄骨造     13  8.0   \n",
       "1  31472    東京都目黒区八雲１丁目11-8   0.166667  南東  20.88  RC（鉄筋コンクリート）      8  3.0   \n",
       "2  31473  東京都豊島区池袋本町２丁目22-2  23.333333  南東  26.93           鉄骨造      2  1.0   \n",
       "3  31474        東京都杉並区和泉１丁目  36.166667  南東  23.57            木造      2  1.0   \n",
       "4  31475       東京都杉並区堀ノ内２丁目  45.333333   南  50.00  RC（鉄筋コンクリート）     13  4.0   \n",
       "\n",
       "    階層          経度         緯度  部屋数  1部屋当たり面積m2   高さ率  建物構造ID  \n",
       "0  8.0  139.652762  35.617708  3.5   14.348571  1.00      10  \n",
       "1  4.0  139.672871  35.617709  1.0   20.880000  0.75       3  \n",
       "2  4.0  139.709049  35.741996  1.0   26.930000  0.25      10  \n",
       "3  2.0  139.658270  35.673602  1.0   23.570000  0.50       7  \n",
       "4  4.0  139.650468  35.689411  3.5   14.285714  1.00       3  "
      ]
     },
     "execution_count": 233,
     "metadata": {},
     "output_type": "execute_result"
    }
   ],
   "source": [
    "test_data_1.head()"
   ]
  },
  {
   "cell_type": "code",
   "execution_count": 234,
   "metadata": {},
   "outputs": [],
   "source": [
    "# 不要になった建物構造カラムを削除する\n",
    "train_data_1 = train_data_1.drop('建物構造', axis=1)\n",
    "test_data_1 = test_data_1.drop('建物構造', axis=1)"
   ]
  },
  {
   "cell_type": "markdown",
   "metadata": {},
   "source": [
    "### 2.11. 新規カラムに「賃料/面積」を追加"
   ]
  },
  {
   "cell_type": "code",
   "execution_count": 235,
   "metadata": {},
   "outputs": [],
   "source": [
    "train_data_1[\"賃料/面積\"] = train_data_1[\"賃料\"] / train_data_1[\"面積m2\"]"
   ]
  },
  {
   "cell_type": "code",
   "execution_count": 236,
   "metadata": {},
   "outputs": [
    {
     "data": {
      "text/html": [
       "<div>\n",
       "<style scoped>\n",
       "    .dataframe tbody tr th:only-of-type {\n",
       "        vertical-align: middle;\n",
       "    }\n",
       "\n",
       "    .dataframe tbody tr th {\n",
       "        vertical-align: top;\n",
       "    }\n",
       "\n",
       "    .dataframe thead th {\n",
       "        text-align: right;\n",
       "    }\n",
       "</style>\n",
       "<table border=\"1\" class=\"dataframe\">\n",
       "  <thead>\n",
       "    <tr style=\"text-align: right;\">\n",
       "      <th></th>\n",
       "      <th>id</th>\n",
       "      <th>所在地</th>\n",
       "      <th>賃料</th>\n",
       "      <th>築年数</th>\n",
       "      <th>方角</th>\n",
       "      <th>面積m2</th>\n",
       "      <th>間取りID</th>\n",
       "      <th>所在</th>\n",
       "      <th>階層</th>\n",
       "      <th>経度</th>\n",
       "      <th>緯度</th>\n",
       "      <th>部屋数</th>\n",
       "      <th>1部屋当たり面積m2</th>\n",
       "      <th>高さ率</th>\n",
       "      <th>建物構造ID</th>\n",
       "      <th>賃料/面積</th>\n",
       "    </tr>\n",
       "  </thead>\n",
       "  <tbody>\n",
       "    <tr>\n",
       "      <th>0</th>\n",
       "      <td>1</td>\n",
       "      <td>東京都北区滝野川３丁目</td>\n",
       "      <td>75000</td>\n",
       "      <td>9.750000</td>\n",
       "      <td>南東</td>\n",
       "      <td>20.01</td>\n",
       "      <td>2</td>\n",
       "      <td>1.0</td>\n",
       "      <td>12.0</td>\n",
       "      <td>139.727873</td>\n",
       "      <td>35.747759</td>\n",
       "      <td>1.0</td>\n",
       "      <td>20.01</td>\n",
       "      <td>0.083333</td>\n",
       "      <td>3</td>\n",
       "      <td>3748.125937</td>\n",
       "    </tr>\n",
       "    <tr>\n",
       "      <th>1</th>\n",
       "      <td>2</td>\n",
       "      <td>東京都中央区月島３丁目</td>\n",
       "      <td>76000</td>\n",
       "      <td>44.833333</td>\n",
       "      <td>NaN</td>\n",
       "      <td>16.50</td>\n",
       "      <td>8</td>\n",
       "      <td>5.0</td>\n",
       "      <td>10.0</td>\n",
       "      <td>139.780485</td>\n",
       "      <td>35.662406</td>\n",
       "      <td>1.0</td>\n",
       "      <td>16.50</td>\n",
       "      <td>0.500000</td>\n",
       "      <td>10</td>\n",
       "      <td>4606.060606</td>\n",
       "    </tr>\n",
       "    <tr>\n",
       "      <th>2</th>\n",
       "      <td>3</td>\n",
       "      <td>東京都渋谷区笹塚２丁目</td>\n",
       "      <td>110000</td>\n",
       "      <td>8.500000</td>\n",
       "      <td>南</td>\n",
       "      <td>22.05</td>\n",
       "      <td>2</td>\n",
       "      <td>12.0</td>\n",
       "      <td>15.0</td>\n",
       "      <td>139.667375</td>\n",
       "      <td>35.675358</td>\n",
       "      <td>1.0</td>\n",
       "      <td>22.05</td>\n",
       "      <td>0.800000</td>\n",
       "      <td>3</td>\n",
       "      <td>4988.662132</td>\n",
       "    </tr>\n",
       "    <tr>\n",
       "      <th>3</th>\n",
       "      <td>4</td>\n",
       "      <td>東京都杉並区高円寺南２丁目23-2</td>\n",
       "      <td>150000</td>\n",
       "      <td>29.333333</td>\n",
       "      <td>南</td>\n",
       "      <td>60.48</td>\n",
       "      <td>13</td>\n",
       "      <td>3.0</td>\n",
       "      <td>4.0</td>\n",
       "      <td>139.648495</td>\n",
       "      <td>35.700193</td>\n",
       "      <td>3.5</td>\n",
       "      <td>17.28</td>\n",
       "      <td>0.750000</td>\n",
       "      <td>3</td>\n",
       "      <td>2480.158730</td>\n",
       "    </tr>\n",
       "    <tr>\n",
       "      <th>4</th>\n",
       "      <td>5</td>\n",
       "      <td>東京都葛飾区金町３丁目7-2</td>\n",
       "      <td>74000</td>\n",
       "      <td>31.583333</td>\n",
       "      <td>南</td>\n",
       "      <td>39.66</td>\n",
       "      <td>9</td>\n",
       "      <td>1.0</td>\n",
       "      <td>2.0</td>\n",
       "      <td>139.872315</td>\n",
       "      <td>35.766413</td>\n",
       "      <td>3.0</td>\n",
       "      <td>13.22</td>\n",
       "      <td>0.500000</td>\n",
       "      <td>7</td>\n",
       "      <td>1865.859808</td>\n",
       "    </tr>\n",
       "  </tbody>\n",
       "</table>\n",
       "</div>"
      ],
      "text/plain": [
       "   id                所在地      賃料        築年数   方角   面積m2  間取りID    所在    階層  \\\n",
       "0   1        東京都北区滝野川３丁目   75000   9.750000   南東  20.01      2   1.0  12.0   \n",
       "1   2        東京都中央区月島３丁目   76000  44.833333  NaN  16.50      8   5.0  10.0   \n",
       "2   3        東京都渋谷区笹塚２丁目  110000   8.500000    南  22.05      2  12.0  15.0   \n",
       "3   4  東京都杉並区高円寺南２丁目23-2  150000  29.333333    南  60.48     13   3.0   4.0   \n",
       "4   5     東京都葛飾区金町３丁目7-2   74000  31.583333    南  39.66      9   1.0   2.0   \n",
       "\n",
       "           経度         緯度  部屋数  1部屋当たり面積m2       高さ率  建物構造ID        賃料/面積  \n",
       "0  139.727873  35.747759  1.0       20.01  0.083333       3  3748.125937  \n",
       "1  139.780485  35.662406  1.0       16.50  0.500000      10  4606.060606  \n",
       "2  139.667375  35.675358  1.0       22.05  0.800000       3  4988.662132  \n",
       "3  139.648495  35.700193  3.5       17.28  0.750000       3  2480.158730  \n",
       "4  139.872315  35.766413  3.0       13.22  0.500000       7  1865.859808  "
      ]
     },
     "execution_count": 236,
     "metadata": {},
     "output_type": "execute_result"
    }
   ],
   "source": [
    "train_data_1.head()"
   ]
  },
  {
   "cell_type": "markdown",
   "metadata": {},
   "source": [
    "### 2.12. 東京23区の地域ごとに、住宅地の平均地価情報を追加"
   ]
  },
  {
   "cell_type": "code",
   "execution_count": 237,
   "metadata": {},
   "outputs": [],
   "source": [
    "# 区の情報の確認(23区だけだった)\n",
    "# sample = train_data[\"所在地\"].str.extract(\"東京都(.+区)\", expand=True)\n",
    "# sample.value_counts()"
   ]
  },
  {
   "cell_type": "code",
   "execution_count": 238,
   "metadata": {},
   "outputs": [
    {
     "name": "stdout",
     "output_type": "stream",
     "text": [
      "31470\n",
      "31262\n"
     ]
    }
   ],
   "source": [
    "print(len(train_data_1))\n",
    "print(len(test_data_1))"
   ]
  },
  {
   "cell_type": "code",
   "execution_count": 239,
   "metadata": {},
   "outputs": [],
   "source": [
    "# 訓練データとテストデータに、エリア情報を追加\n",
    "train_data_1[\"エリア\"] = \"\"\n",
    "test_data_1[\"エリア\"] = \"\"\n",
    "train_data_1[\"エリア\"] = train_data_1[\"所在地\"].str.extract(\"東京都((.+区.+?)[０-９]|(.+区.+?)[0-9]|(.+区.+))\", expand=True)\n",
    "test_data_1[\"エリア\"] = test_data_1[\"所在地\"].str.extract(\"東京都((.+区.+?)[０-９]|(.+区.+?)[0-9]|(.+区.+))\", expand=True)"
   ]
  },
  {
   "cell_type": "code",
   "execution_count": 240,
   "metadata": {},
   "outputs": [
    {
     "name": "stdout",
     "output_type": "stream",
     "text": [
      "31470\n",
      "31262\n"
     ]
    }
   ],
   "source": [
    "print(len(train_data_1))\n",
    "print(len(test_data_1))"
   ]
  },
  {
   "cell_type": "code",
   "execution_count": 241,
   "metadata": {},
   "outputs": [],
   "source": [
    "# 一部エリア情報に数値が残ってしまうので、消す\n",
    "train_data_1[\"エリア\"] = train_data_1[\"エリア\"].str.replace(\"[０-９]|[0-9]\", \"\")\n",
    "train_data_1[\"エリア\"] = train_data_1[\"エリア\"].str.replace(\"一丁目\", \"\")\n",
    "train_data_1[\"エリア\"] = train_data_1[\"エリア\"].str.replace(\"-\", \"\")\n",
    "\n",
    "test_data_1[\"エリア\"] = test_data_1[\"エリア\"].str.replace(\"[０-９]|[0-9]\", \"\")\n",
    "test_data_1[\"エリア\"] = test_data_1[\"エリア\"].str.replace(\"一丁目\", \"\")\n",
    "test_data_1[\"エリア\"] = test_data_1[\"エリア\"].str.replace(\"二丁目\", \"\")\n",
    "test_data_1[\"エリア\"] = test_data_1[\"エリア\"].str.replace(\"四丁目\", \"\")"
   ]
  },
  {
   "cell_type": "code",
   "execution_count": 242,
   "metadata": {},
   "outputs": [
    {
     "name": "stdout",
     "output_type": "stream",
     "text": [
      "31470\n",
      "31262\n"
     ]
    }
   ],
   "source": [
    "print(len(train_data_1))\n",
    "print(len(test_data_1))"
   ]
  },
  {
   "cell_type": "code",
   "execution_count": 243,
   "metadata": {},
   "outputs": [],
   "source": [
    "# 坪単価情報の読込～結合\n",
    "wards_value = pd.read_excel(\"23区_地域毎_坪単価.xlsx\")\n",
    "train_data_1 = pd.merge(train_data_1, wards_value, on=\"エリア\", how=\"left\")\n",
    "test_data_1 = pd.merge(test_data_1, wards_value, on=\"エリア\", how=\"left\")\n",
    "train_data_1 = train_data_1.sort_values(\"id\")\n",
    "test_data_1 = test_data_1.sort_values(\"id\")"
   ]
  },
  {
   "cell_type": "code",
   "execution_count": 244,
   "metadata": {},
   "outputs": [],
   "source": [
    "# 地価の抜けデータを平均値で補間\n",
    "# 江東区\n",
    "train_data_1.loc[train_data_1[\"id\"]==2767, \"平均坪単価（万円）\"] = 206.6\n",
    "train_data_1.loc[train_data_1[\"id\"]==7559, \"平均坪単価（万円）\"] = 206.6\n",
    "# 港区\n",
    "train_data_1.loc[train_data_1[\"id\"]==17654, \"平均坪単価（万円）\"] = 1321.4"
   ]
  },
  {
   "cell_type": "code",
   "execution_count": 245,
   "metadata": {},
   "outputs": [
    {
     "name": "stdout",
     "output_type": "stream",
     "text": [
      "31470\n",
      "31262\n"
     ]
    }
   ],
   "source": [
    "print(len(train_data_1))\n",
    "print(len(test_data_1))"
   ]
  },
  {
   "cell_type": "code",
   "execution_count": 246,
   "metadata": {},
   "outputs": [
    {
     "name": "stdout",
     "output_type": "stream",
     "text": [
      "Empty DataFrame\n",
      "Columns: [id, 所在地, 賃料, 築年数, 方角, 面積m2, 間取りID, 所在, 階層, 経度, 緯度, 部屋数, 1部屋当たり面積m2, 高さ率, 建物構造ID, 賃料/面積, エリア, 区, 地名, 平均坪単価（万円）]\n",
      "Index: []\n",
      "Empty DataFrame\n",
      "Columns: [id, 所在地, 築年数, 方角, 面積m2, 間取りID, 所在, 階層, 経度, 緯度, 部屋数, 1部屋当たり面積m2, 高さ率, 建物構造ID, エリア, 区, 地名, 平均坪単価（万円）]\n",
      "Index: []\n"
     ]
    }
   ],
   "source": [
    "print(train_data_1[train_data_1[\"平均坪単価（万円）\"].isnull()])\n",
    "print(test_data_1[test_data_1[\"平均坪単価（万円）\"].isnull()])"
   ]
  },
  {
   "cell_type": "code",
   "execution_count": 247,
   "metadata": {},
   "outputs": [],
   "source": [
    "# 不要なカラムを削除する\n",
    "# train_data_1 = train_data_1.drop([\"所在地\", \"エリア\", \"区\", \"地名\"], axis=1)\n",
    "# test_data_1 = test_data_1.drop([\"所在地\", \"エリア\", \"区\", \"地名\"], axis=1)\n",
    "train_data_1 = train_data_1.drop([\"エリア\", \"地名\"], axis=1)\n",
    "test_data_1 = test_data_1.drop([\"エリア\", \"地名\"], axis=1)"
   ]
  },
  {
   "cell_type": "code",
   "execution_count": 248,
   "metadata": {},
   "outputs": [
    {
     "data": {
      "text/html": [
       "<div>\n",
       "<style scoped>\n",
       "    .dataframe tbody tr th:only-of-type {\n",
       "        vertical-align: middle;\n",
       "    }\n",
       "\n",
       "    .dataframe tbody tr th {\n",
       "        vertical-align: top;\n",
       "    }\n",
       "\n",
       "    .dataframe thead th {\n",
       "        text-align: right;\n",
       "    }\n",
       "</style>\n",
       "<table border=\"1\" class=\"dataframe\">\n",
       "  <thead>\n",
       "    <tr style=\"text-align: right;\">\n",
       "      <th></th>\n",
       "      <th>id</th>\n",
       "      <th>所在地</th>\n",
       "      <th>賃料</th>\n",
       "      <th>築年数</th>\n",
       "      <th>方角</th>\n",
       "      <th>面積m2</th>\n",
       "      <th>間取りID</th>\n",
       "      <th>所在</th>\n",
       "      <th>階層</th>\n",
       "      <th>経度</th>\n",
       "      <th>緯度</th>\n",
       "      <th>部屋数</th>\n",
       "      <th>1部屋当たり面積m2</th>\n",
       "      <th>高さ率</th>\n",
       "      <th>建物構造ID</th>\n",
       "      <th>賃料/面積</th>\n",
       "      <th>区</th>\n",
       "      <th>平均坪単価（万円）</th>\n",
       "    </tr>\n",
       "  </thead>\n",
       "  <tbody>\n",
       "    <tr>\n",
       "      <th>0</th>\n",
       "      <td>1</td>\n",
       "      <td>東京都北区滝野川３丁目</td>\n",
       "      <td>75000</td>\n",
       "      <td>9.750000</td>\n",
       "      <td>南東</td>\n",
       "      <td>20.01</td>\n",
       "      <td>2</td>\n",
       "      <td>1.0</td>\n",
       "      <td>12.0</td>\n",
       "      <td>139.727873</td>\n",
       "      <td>35.747759</td>\n",
       "      <td>1.0</td>\n",
       "      <td>20.01</td>\n",
       "      <td>0.083333</td>\n",
       "      <td>3</td>\n",
       "      <td>3748.125937</td>\n",
       "      <td>北区</td>\n",
       "      <td>180.0</td>\n",
       "    </tr>\n",
       "    <tr>\n",
       "      <th>1</th>\n",
       "      <td>2</td>\n",
       "      <td>東京都中央区月島３丁目</td>\n",
       "      <td>76000</td>\n",
       "      <td>44.833333</td>\n",
       "      <td>NaN</td>\n",
       "      <td>16.50</td>\n",
       "      <td>8</td>\n",
       "      <td>5.0</td>\n",
       "      <td>10.0</td>\n",
       "      <td>139.780485</td>\n",
       "      <td>35.662406</td>\n",
       "      <td>1.0</td>\n",
       "      <td>16.50</td>\n",
       "      <td>0.500000</td>\n",
       "      <td>10</td>\n",
       "      <td>4606.060606</td>\n",
       "      <td>中央区</td>\n",
       "      <td>323.0</td>\n",
       "    </tr>\n",
       "    <tr>\n",
       "      <th>2</th>\n",
       "      <td>3</td>\n",
       "      <td>東京都渋谷区笹塚２丁目</td>\n",
       "      <td>110000</td>\n",
       "      <td>8.500000</td>\n",
       "      <td>南</td>\n",
       "      <td>22.05</td>\n",
       "      <td>2</td>\n",
       "      <td>12.0</td>\n",
       "      <td>15.0</td>\n",
       "      <td>139.667375</td>\n",
       "      <td>35.675358</td>\n",
       "      <td>1.0</td>\n",
       "      <td>22.05</td>\n",
       "      <td>0.800000</td>\n",
       "      <td>3</td>\n",
       "      <td>4988.662132</td>\n",
       "      <td>渋谷区</td>\n",
       "      <td>324.0</td>\n",
       "    </tr>\n",
       "    <tr>\n",
       "      <th>3</th>\n",
       "      <td>4</td>\n",
       "      <td>東京都杉並区高円寺南２丁目23-2</td>\n",
       "      <td>150000</td>\n",
       "      <td>29.333333</td>\n",
       "      <td>南</td>\n",
       "      <td>60.48</td>\n",
       "      <td>13</td>\n",
       "      <td>3.0</td>\n",
       "      <td>4.0</td>\n",
       "      <td>139.648495</td>\n",
       "      <td>35.700193</td>\n",
       "      <td>3.5</td>\n",
       "      <td>17.28</td>\n",
       "      <td>0.750000</td>\n",
       "      <td>3</td>\n",
       "      <td>2480.158730</td>\n",
       "      <td>杉並区</td>\n",
       "      <td>253.0</td>\n",
       "    </tr>\n",
       "    <tr>\n",
       "      <th>4</th>\n",
       "      <td>5</td>\n",
       "      <td>東京都葛飾区金町３丁目7-2</td>\n",
       "      <td>74000</td>\n",
       "      <td>31.583333</td>\n",
       "      <td>南</td>\n",
       "      <td>39.66</td>\n",
       "      <td>9</td>\n",
       "      <td>1.0</td>\n",
       "      <td>2.0</td>\n",
       "      <td>139.872315</td>\n",
       "      <td>35.766413</td>\n",
       "      <td>3.0</td>\n",
       "      <td>13.22</td>\n",
       "      <td>0.500000</td>\n",
       "      <td>7</td>\n",
       "      <td>1865.859808</td>\n",
       "      <td>葛飾区</td>\n",
       "      <td>111.0</td>\n",
       "    </tr>\n",
       "  </tbody>\n",
       "</table>\n",
       "</div>"
      ],
      "text/plain": [
       "   id                所在地      賃料        築年数   方角   面積m2  間取りID    所在    階層  \\\n",
       "0   1        東京都北区滝野川３丁目   75000   9.750000   南東  20.01      2   1.0  12.0   \n",
       "1   2        東京都中央区月島３丁目   76000  44.833333  NaN  16.50      8   5.0  10.0   \n",
       "2   3        東京都渋谷区笹塚２丁目  110000   8.500000    南  22.05      2  12.0  15.0   \n",
       "3   4  東京都杉並区高円寺南２丁目23-2  150000  29.333333    南  60.48     13   3.0   4.0   \n",
       "4   5     東京都葛飾区金町３丁目7-2   74000  31.583333    南  39.66      9   1.0   2.0   \n",
       "\n",
       "           経度         緯度  部屋数  1部屋当たり面積m2       高さ率  建物構造ID        賃料/面積    区  \\\n",
       "0  139.727873  35.747759  1.0       20.01  0.083333       3  3748.125937   北区   \n",
       "1  139.780485  35.662406  1.0       16.50  0.500000      10  4606.060606  中央区   \n",
       "2  139.667375  35.675358  1.0       22.05  0.800000       3  4988.662132  渋谷区   \n",
       "3  139.648495  35.700193  3.5       17.28  0.750000       3  2480.158730  杉並区   \n",
       "4  139.872315  35.766413  3.0       13.22  0.500000       7  1865.859808  葛飾区   \n",
       "\n",
       "   平均坪単価（万円）  \n",
       "0      180.0  \n",
       "1      323.0  \n",
       "2      324.0  \n",
       "3      253.0  \n",
       "4      111.0  "
      ]
     },
     "execution_count": 248,
     "metadata": {},
     "output_type": "execute_result"
    }
   ],
   "source": [
    "train_data_1.head()"
   ]
  },
  {
   "cell_type": "markdown",
   "metadata": {},
   "source": [
    "### 2.13. 最寄り駅までの徒歩分数を追加"
   ]
  },
  {
   "cell_type": "code",
   "execution_count": 249,
   "metadata": {},
   "outputs": [],
   "source": [
    "# 精度悪化の要因になるため無効化\n",
    "# train_data_1[\"アクセス\"] = (train_data[\"アクセス\"].str.extract(\"徒歩(.+?)\", expand=True)).astype(float)\n",
    "# test_data_1[\"アクセス\"] = (test_data[\"アクセス\"].str.extract(\"徒歩(.+?)\", expand=True)).astype(float)"
   ]
  },
  {
   "cell_type": "markdown",
   "metadata": {},
   "source": [
    "### 2.14. 方角の数値化"
   ]
  },
  {
   "cell_type": "code",
   "execution_count": 250,
   "metadata": {},
   "outputs": [],
   "source": [
    "train_data_1[\"方角\"].fillna(\"missing\", inplace=True)\n",
    "test_data_1[\"方角\"].fillna(\"missing\", inplace=True)"
   ]
  },
  {
   "cell_type": "code",
   "execution_count": 251,
   "metadata": {},
   "outputs": [],
   "source": [
    "# 方角にlabel encodingを適用\n",
    "from sklearn.preprocessing import LabelEncoder\n",
    "\n",
    "le = LabelEncoder()\n",
    "le.fit(pd.concat([train_data_1[\"方角\"],test_data_1[\"方角\"]]))\n",
    "\n",
    "train_data_1[\"方角ID\"] = le.transform(train_data_1[\"方角\"])\n",
    "test_data_1[\"方角ID\"] = le.transform(test_data_1[\"方角\"])"
   ]
  },
  {
   "cell_type": "code",
   "execution_count": 252,
   "metadata": {},
   "outputs": [],
   "source": [
    "# 方角のカラムを削除\n",
    "train_data_1 = train_data_1.drop(\"方角\", axis=1)\n",
    "test_data_1 = test_data_1.drop(\"方角\", axis=1)"
   ]
  },
  {
   "cell_type": "markdown",
   "metadata": {},
   "source": [
    "### 2.15. 23区毎の人口、区面積、年収情報の追加"
   ]
  },
  {
   "cell_type": "code",
   "execution_count": 253,
   "metadata": {},
   "outputs": [],
   "source": [
    "# 今後のために、一旦\"区\"以下の地域データを出力する\n",
    "train_data_1[\"地域\"] = \"\"\n",
    "test_data_1[\"地域\"] = \"\"\n",
    "train_data_1[\"地域\"] = train_data_1[\"所在地\"].str.extract(\"東京都.+区((.+?)[０-９]|(.+?)[0-9]|(.+))\", expand=True)\n",
    "test_data_1[\"地域\"] = test_data_1[\"所在地\"].str.extract(\"東京都.+区((.+?)[０-９]|(.+?)[0-9]|(.+))\", expand=True)\n",
    "# test[\"地域\"] = test[\"所在地\"].str.extract(\"東京都.+区((.+?)丁目|(.*)(?!丁目))\", expand=True) # \"丁目\"基準で抜き出すパターン"
   ]
  },
  {
   "cell_type": "code",
   "execution_count": 254,
   "metadata": {},
   "outputs": [],
   "source": [
    "# 区と地域を結合する\n",
    "train_data_1[\"区+地域\"] = train_data_1[\"区\"].str.cat(train_data_1[\"地域\"])\n",
    "test_data_1[\"区+地域\"] = test_data_1[\"区\"].str.cat(test_data_1[\"地域\"])"
   ]
  },
  {
   "cell_type": "code",
   "execution_count": 255,
   "metadata": {},
   "outputs": [],
   "source": [
    "# 数字を消す　※番地までは細かすぎる。また表記のあり/なしの差が大きすぎるため。\n",
    "train_data_1[\"区+地域\"] = train_data_1[\"区+地域\"].str.replace(\"[0-9]|[０-９]\", \"\")\n",
    "test_data_1[\"区+地域\"] = test_data_1[\"区+地域\"].str.replace(\"[0-9]|[０-９]\", \"\")"
   ]
  },
  {
   "cell_type": "code",
   "execution_count": 256,
   "metadata": {},
   "outputs": [
    {
     "name": "stderr",
     "output_type": "stream",
     "text": [
      "C:\\Users\\emma_\\AppData\\Roaming\\Python\\Python37\\site-packages\\pandas\\core\\indexing.py:671: SettingWithCopyWarning: \n",
      "A value is trying to be set on a copy of a slice from a DataFrame\n",
      "\n",
      "See the caveats in the documentation: https://pandas.pydata.org/pandas-docs/stable/user_guide/indexing.html#returning-a-view-versus-a-copy\n",
      "  self._setitem_with_indexer(indexer, value)\n"
     ]
    }
   ],
   "source": [
    "# 同音異語の置換(ﾉ、ヶ、ｹ、ツ)\n",
    "train_data_1[\"区+地域\"] = train_data_1[\"区+地域\"].str.replace(\"ﾉ\", \"ノ\")\n",
    "train_data_1[\"区+地域\"] = train_data_1[\"区+地域\"].str.replace(\"ヶ\", \"ケ\")\n",
    "train_data_1[\"区+地域\"] = train_data_1[\"区+地域\"].str.replace(\"ｹ\", \"ケ\")\n",
    "train_data_1[\"区+地域\"] = train_data_1[\"区+地域\"].str.replace(\"ﾂ\", \"ツ\")\n",
    "# 間違った住所や旧字体の訂正\n",
    "train_data_1[\"区+地域\"] = train_data_1[\"区+地域\"].str.replace(\"新宿区四谷本塩町\", \"新宿区本塩町\")\n",
    "train_data_1[\"区+地域\"] = train_data_1[\"区+地域\"].str.replace(\"千代田区神田猿楽町\", \"千代田区猿楽町\")\n",
    "train_data_1[\"区+地域\"] = train_data_1[\"区+地域\"].str.replace(\"新宿区四谷三栄町\", \"新宿区三栄町\")\n",
    "train_data_1[\"区+地域\"] = train_data_1[\"区+地域\"].str.replace(\"千代田区神田三崎町\", \"千代田区三崎町\")\n",
    "\n",
    "train_data_1[\"区+地域\"] = train_data_1[\"区+地域\"].str.replace(\"蠣殻町\", \"蛎殻町\")\n",
    "train_data_1[\"区+地域\"] = train_data_1[\"区+地域\"].str.replace(\"渋谷区松濤\", \"渋谷区松涛\")\n",
    "train_data_1[\"区+地域\"] = train_data_1[\"区+地域\"].str.replace(\"渋谷区鶯谷町\", \"渋谷区鴬谷町\")\n",
    "\n",
    "train_data_1[\"区+地域\"] = train_data_1[\"区+地域\"].str.replace(\"一丁目\", \"\")\n",
    "train_data_1[\"区+地域\"] = train_data_1[\"区+地域\"].str.replace(\"二丁目\", \"\")\n",
    "train_data_1[\"区+地域\"] = train_data_1[\"区+地域\"].str.replace(\"三丁目\", \"\")\n",
    "train_data_1[\"区+地域\"] = train_data_1[\"区+地域\"].str.replace(\"四丁目\", \"\")\n",
    "\n",
    "# 同音異語の置換(ﾉ、ヶ、ｹ、ツ)\n",
    "test_data_1[\"区+地域\"] = test_data_1[\"区+地域\"].str.replace(\"ﾉ\", \"ノ\")\n",
    "test_data_1[\"区+地域\"] = test_data_1[\"区+地域\"].str.replace(\"ヶ\", \"ケ\")\n",
    "test_data_1[\"区+地域\"] = test_data_1[\"区+地域\"].str.replace(\"ｹ\", \"ケ\")\n",
    "test_data_1[\"区+地域\"] = test_data_1[\"区+地域\"].str.replace(\"ﾂ\", \"ツ\")\n",
    "# 間違った住所や旧字体の訂正\n",
    "test_data_1[\"区+地域\"] = test_data_1[\"区+地域\"].str.replace(\"新宿区四谷本塩町\", \"新宿区本塩町\")\n",
    "test_data_1[\"区+地域\"] = test_data_1[\"区+地域\"].str.replace(\"千代田区神田猿楽町\", \"千代田区猿楽町\")\n",
    "test_data_1[\"区+地域\"] = test_data_1[\"区+地域\"].str.replace(\"新宿区四谷三栄町\", \"新宿区三栄町\")\n",
    "test_data_1[\"区+地域\"] = test_data_1[\"区+地域\"].str.replace(\"千代田区神田三崎町\", \"千代田区三崎町\")\n",
    "\n",
    "test_data_1[\"区+地域\"] = test_data_1[\"区+地域\"].str.replace(\"蠣殻町\", \"蛎殻町\")\n",
    "test_data_1[\"区+地域\"] = test_data_1[\"区+地域\"].str.replace(\"渋谷区松濤\", \"渋谷区松涛\")\n",
    "test_data_1[\"区+地域\"] = test_data_1[\"区+地域\"].str.replace(\"渋谷区鶯谷町\", \"渋谷区鴬谷町\")\n",
    "\n",
    "test_data_1[\"区+地域\"] = test_data_1[\"区+地域\"].str.replace(\"一丁目\", \"\")\n",
    "test_data_1[\"区+地域\"] = test_data_1[\"区+地域\"].str.replace(\"二丁目\", \"\")\n",
    "test_data_1[\"区+地域\"] = test_data_1[\"区+地域\"].str.replace(\"三丁目\", \"\")\n",
    "test_data_1[\"区+地域\"] = test_data_1[\"区+地域\"].str.replace(\"四丁目\", \"\")\n",
    "\n",
    "# 区までしか所在地に記載されていない物件の対処(train_dataのみ)\n",
    "train_data_1[\"区+地域\"].loc[train_data_1[\"id\"]==2767] = \"江東区\"\n",
    "train_data_1[\"区+地域\"].loc[train_data_1[\"id\"]==7559] = \"江東区\"\n",
    "train_data_1[\"区+地域\"].loc[train_data_1[\"id\"]==17654] = \"港区\"\n",
    "\n",
    "train_data_1[\"区\"].loc[train_data_1[\"id\"]==2767] = \"江東区\"\n",
    "train_data_1[\"区\"].loc[train_data_1[\"id\"]==7559] = \"江東区\"\n",
    "train_data_1[\"区\"].loc[train_data_1[\"id\"]==17654] = \"港区\""
   ]
  },
  {
   "cell_type": "code",
   "execution_count": 257,
   "metadata": {},
   "outputs": [],
   "source": [
    "# 人口、面積、年収データを読み込み、整形\n",
    "population = pd.read_excel(\"./23区別国勢調査結果/人口と面積/23区.xls\")\n",
    "annual_income = pd.read_excel(\"./23区別国勢調査結果/年収/23区年収.xls\")\n",
    "\n",
    "# 不要なカラムを消す\n",
    "population = population.drop([\"区\", \"地域\"], axis=1)"
   ]
  },
  {
   "cell_type": "code",
   "execution_count": 258,
   "metadata": {},
   "outputs": [],
   "source": [
    "# データの結合\n",
    "train_data_1 = pd.merge(train_data_1, population, on=\"区+地域\", how=\"left\")\n",
    "train_data_1 = pd.merge(train_data_1, annual_income, on=\"区\", how=\"left\")\n",
    "\n",
    "test_data_1 = pd.merge(test_data_1, population, on=\"区+地域\", how=\"left\")\n",
    "test_data_1 = pd.merge(test_data_1, annual_income, on=\"区\", how=\"left\")"
   ]
  },
  {
   "cell_type": "code",
   "execution_count": 259,
   "metadata": {},
   "outputs": [],
   "source": [
    "# 結合後、不要なカラムを消す\n",
    "train_data_1 = train_data_1.drop([\"所在地\", \"区\", \"地域\", \"区+地域\"], axis=1)\n",
    "test_data_1 = test_data_1.drop([\"所在地\", \"区\", \"地域\", \"区+地域\"], axis=1)"
   ]
  },
  {
   "cell_type": "code",
   "execution_count": 260,
   "metadata": {},
   "outputs": [],
   "source": [
    "# 結合したカラムの要素をfloat型に変換する ( 人口総数, 面積, 人口密度, 0～14歳, 15～64歳, 65歳以上, うち75歳以上, 外国人)\n",
    "train_data_1[\"人口総数\"] = train_data_1[\"人口総数\"].astype(float)\n",
    "train_data_1[\"人口密度\"] = train_data_1[\"人口密度\"].astype(float)\n",
    "train_data_1[\"区面積\"] = train_data_1[\"区面積\"].astype(float)\n",
    "train_data_1[\"0～14歳\"] = train_data_1[\"0～14歳\"].astype(float)\n",
    "train_data_1[\"15～64歳\"] = train_data_1[\"15～64歳\"].astype(float)\n",
    "train_data_1[\"65歳以上\"] = train_data_1[\"65歳以上\"].astype(float)\n",
    "train_data_1[\"うち75歳以上\"] = train_data_1[\"うち75歳以上\"].astype(float)\n",
    "train_data_1[\"外国人\"] = train_data_1[\"外国人\"].astype(float)\n",
    "\n",
    "test_data_1[\"人口総数\"] = test_data_1[\"人口総数\"].astype(float)\n",
    "test_data_1[\"人口密度\"] = test_data_1[\"人口密度\"].astype(float)\n",
    "test_data_1[\"区面積\"] = test_data_1[\"区面積\"].astype(float)\n",
    "test_data_1[\"0～14歳\"] = test_data_1[\"0～14歳\"].astype(float)\n",
    "test_data_1[\"15～64歳\"] = test_data_1[\"15～64歳\"].astype(float)\n",
    "test_data_1[\"65歳以上\"] = test_data_1[\"65歳以上\"].astype(float)\n",
    "test_data_1[\"うち75歳以上\"] = test_data_1[\"うち75歳以上\"].astype(float)\n",
    "test_data_1[\"外国人\"] = test_data_1[\"外国人\"].astype(float)"
   ]
  },
  {
   "cell_type": "code",
   "execution_count": 261,
   "metadata": {},
   "outputs": [],
   "source": [
    "# ★スコアが2000近く悪化したので、人口総数と区面積、密度、年収以外は削る\n",
    "train_data_1 = train_data_1.drop([\"0～14歳\", \"15～64歳\", \"65歳以上\", \"うち75歳以上\", \"外国人\"], axis=1)\n",
    "test_data_1 = test_data_1.drop([\"0～14歳\", \"15～64歳\", \"65歳以上\", \"うち75歳以上\", \"外国人\"], axis=1)"
   ]
  },
  {
   "cell_type": "markdown",
   "metadata": {},
   "source": [
    "### 2.16. 重複物件の抽出・削除"
   ]
  },
  {
   "cell_type": "code",
   "execution_count": 262,
   "metadata": {},
   "outputs": [],
   "source": [
    "# 重複確認用のデータ出力\n",
    "# train_duplicate = pd.concat([train_data[[\"id\", \"賃料\", \"所在地\"]], train_data_1[[\"間取りID\", \"面積m2\", \"所在\", \"階層\"]]], axis=1)\n",
    "# test_duplicate = pd.concat([test_data[[\"id\", \"所在地\"]], test_data_1[[\"間取りID\", \"面積m2\", \"所在\", \"階層\"]]], axis=1)"
   ]
  },
  {
   "cell_type": "code",
   "execution_count": 263,
   "metadata": {},
   "outputs": [],
   "source": [
    "# 結果の出力\n",
    "# train_duplicate.to_excel(\"train_duplicate.xlsx\", header=True, index=False)\n",
    "# test_duplicate.to_excel(\"test_duplicate.xlsx\", header=True, index=False)"
   ]
  },
  {
   "cell_type": "code",
   "execution_count": 264,
   "metadata": {},
   "outputs": [],
   "source": [
    "# 重複対象のデータ読み込み\n",
    "train_duplicate_flag = pd.read_excel(\"train_duplicate_flag.xlsx\")\n",
    "test_duplicate_flag = pd.read_excel(\"test_duplicate_flag.xlsx\")"
   ]
  },
  {
   "cell_type": "code",
   "execution_count": 265,
   "metadata": {},
   "outputs": [
    {
     "name": "stdout",
     "output_type": "stream",
     "text": [
      "Train: 31470 - 31470 = 0\n",
      "Test: 31262 - 31262 = 0\n"
     ]
    }
   ],
   "source": [
    "# データ数のチェック\n",
    "print(\"Train:\", len(train_data_1), \"-\", len(train_duplicate_flag), \"=\", len(train_data_1)-len(train_duplicate_flag))\n",
    "print(\"Test:\", len(test_data_1), \"-\", len(test_duplicate_flag), \"=\", len(test_data_1)-len(test_duplicate_flag))"
   ]
  },
  {
   "cell_type": "code",
   "execution_count": 266,
   "metadata": {},
   "outputs": [],
   "source": [
    "# 重複フラグを結合\n",
    "train_data_1 = pd.merge(train_data_1, train_duplicate_flag, on=\"id\")\n",
    "train_data_1 = train_data_1.rename(columns={\"賃料_x\":\"賃料\"})\n",
    "train_data_1 = train_data_1.drop('賃料_y', axis=1)\n",
    "\n",
    "test_data_1 = pd.merge(test_data_1, test_duplicate_flag, on=\"id\")"
   ]
  },
  {
   "cell_type": "code",
   "execution_count": 267,
   "metadata": {},
   "outputs": [
    {
     "name": "stdout",
     "output_type": "stream",
     "text": [
      "【削除前】 train: 31470 ,  test: 31262\n",
      "【削除後】 train: 31470 ,  test: 24812\n"
     ]
    }
   ],
   "source": [
    "# testデータからのみ、flag=1.0の列を削除\n",
    "print(\"【削除前】\", \"train:\", len(train_data_1), \", \", \"test:\", len(test_data_1))\n",
    "#train_data_1 = train_data_1.loc[train_data_1[\"flag\"] != 1.0]\n",
    "test_data_1 = test_data_1.loc[test_data_1[\"flag\"] != 1.0]\n",
    "print(\"【削除後】\", \"train:\", len(train_data_1), \", \", \"test:\", len(test_data_1))"
   ]
  },
  {
   "cell_type": "markdown",
   "metadata": {},
   "source": [
    "### 2.17. データクレンジング"
   ]
  },
  {
   "cell_type": "code",
   "execution_count": 268,
   "metadata": {},
   "outputs": [
    {
     "data": {
      "text/html": [
       "<div>\n",
       "<style scoped>\n",
       "    .dataframe tbody tr th:only-of-type {\n",
       "        vertical-align: middle;\n",
       "    }\n",
       "\n",
       "    .dataframe tbody tr th {\n",
       "        vertical-align: top;\n",
       "    }\n",
       "\n",
       "    .dataframe thead th {\n",
       "        text-align: right;\n",
       "    }\n",
       "</style>\n",
       "<table border=\"1\" class=\"dataframe\">\n",
       "  <thead>\n",
       "    <tr style=\"text-align: right;\">\n",
       "      <th></th>\n",
       "      <th>id</th>\n",
       "      <th>賃料</th>\n",
       "      <th>築年数</th>\n",
       "      <th>面積m2</th>\n",
       "      <th>間取りID</th>\n",
       "      <th>所在</th>\n",
       "      <th>階層</th>\n",
       "      <th>経度</th>\n",
       "      <th>緯度</th>\n",
       "      <th>部屋数</th>\n",
       "      <th>...</th>\n",
       "      <th>高さ率</th>\n",
       "      <th>建物構造ID</th>\n",
       "      <th>賃料/面積</th>\n",
       "      <th>平均坪単価（万円）</th>\n",
       "      <th>方角ID</th>\n",
       "      <th>人口総数</th>\n",
       "      <th>区面積</th>\n",
       "      <th>人口密度</th>\n",
       "      <th>平均所得（年収、円）</th>\n",
       "      <th>flag</th>\n",
       "    </tr>\n",
       "  </thead>\n",
       "  <tbody>\n",
       "    <tr>\n",
       "      <th>0</th>\n",
       "      <td>1</td>\n",
       "      <td>75000</td>\n",
       "      <td>9.750000</td>\n",
       "      <td>20.01</td>\n",
       "      <td>2</td>\n",
       "      <td>1.0</td>\n",
       "      <td>12.0</td>\n",
       "      <td>139.727873</td>\n",
       "      <td>35.747759</td>\n",
       "      <td>1.0</td>\n",
       "      <td>...</td>\n",
       "      <td>0.083333</td>\n",
       "      <td>3</td>\n",
       "      <td>3748.125937</td>\n",
       "      <td>180.0</td>\n",
       "      <td>5</td>\n",
       "      <td>34285.0</td>\n",
       "      <td>1.42</td>\n",
       "      <td>24144.4</td>\n",
       "      <td>3776410</td>\n",
       "      <td>NaN</td>\n",
       "    </tr>\n",
       "    <tr>\n",
       "      <th>1</th>\n",
       "      <td>2</td>\n",
       "      <td>76000</td>\n",
       "      <td>44.833333</td>\n",
       "      <td>16.50</td>\n",
       "      <td>8</td>\n",
       "      <td>5.0</td>\n",
       "      <td>10.0</td>\n",
       "      <td>139.780485</td>\n",
       "      <td>35.662406</td>\n",
       "      <td>1.0</td>\n",
       "      <td>...</td>\n",
       "      <td>0.500000</td>\n",
       "      <td>10</td>\n",
       "      <td>4606.060606</td>\n",
       "      <td>323.0</td>\n",
       "      <td>0</td>\n",
       "      <td>14890.0</td>\n",
       "      <td>0.52</td>\n",
       "      <td>28634.6</td>\n",
       "      <td>6843638</td>\n",
       "      <td>1.0</td>\n",
       "    </tr>\n",
       "    <tr>\n",
       "      <th>2</th>\n",
       "      <td>3</td>\n",
       "      <td>110000</td>\n",
       "      <td>8.500000</td>\n",
       "      <td>22.05</td>\n",
       "      <td>2</td>\n",
       "      <td>12.0</td>\n",
       "      <td>15.0</td>\n",
       "      <td>139.667375</td>\n",
       "      <td>35.675358</td>\n",
       "      <td>1.0</td>\n",
       "      <td>...</td>\n",
       "      <td>0.800000</td>\n",
       "      <td>3</td>\n",
       "      <td>4988.662132</td>\n",
       "      <td>324.0</td>\n",
       "      <td>4</td>\n",
       "      <td>16531.0</td>\n",
       "      <td>0.63</td>\n",
       "      <td>26239.7</td>\n",
       "      <td>8855483</td>\n",
       "      <td>NaN</td>\n",
       "    </tr>\n",
       "    <tr>\n",
       "      <th>3</th>\n",
       "      <td>4</td>\n",
       "      <td>150000</td>\n",
       "      <td>29.333333</td>\n",
       "      <td>60.48</td>\n",
       "      <td>13</td>\n",
       "      <td>3.0</td>\n",
       "      <td>4.0</td>\n",
       "      <td>139.648495</td>\n",
       "      <td>35.700193</td>\n",
       "      <td>3.5</td>\n",
       "      <td>...</td>\n",
       "      <td>0.750000</td>\n",
       "      <td>3</td>\n",
       "      <td>2480.158730</td>\n",
       "      <td>253.0</td>\n",
       "      <td>4</td>\n",
       "      <td>32316.0</td>\n",
       "      <td>1.29</td>\n",
       "      <td>25051.2</td>\n",
       "      <td>4695873</td>\n",
       "      <td>NaN</td>\n",
       "    </tr>\n",
       "    <tr>\n",
       "      <th>4</th>\n",
       "      <td>5</td>\n",
       "      <td>74000</td>\n",
       "      <td>31.583333</td>\n",
       "      <td>39.66</td>\n",
       "      <td>9</td>\n",
       "      <td>1.0</td>\n",
       "      <td>2.0</td>\n",
       "      <td>139.872315</td>\n",
       "      <td>35.766413</td>\n",
       "      <td>3.0</td>\n",
       "      <td>...</td>\n",
       "      <td>0.500000</td>\n",
       "      <td>7</td>\n",
       "      <td>1865.859808</td>\n",
       "      <td>111.0</td>\n",
       "      <td>4</td>\n",
       "      <td>17147.0</td>\n",
       "      <td>1.07</td>\n",
       "      <td>16025.2</td>\n",
       "      <td>3533351</td>\n",
       "      <td>NaN</td>\n",
       "    </tr>\n",
       "  </tbody>\n",
       "</table>\n",
       "<p>5 rows × 21 columns</p>\n",
       "</div>"
      ],
      "text/plain": [
       "   id      賃料        築年数   面積m2  間取りID    所在    階層          経度         緯度  \\\n",
       "0   1   75000   9.750000  20.01      2   1.0  12.0  139.727873  35.747759   \n",
       "1   2   76000  44.833333  16.50      8   5.0  10.0  139.780485  35.662406   \n",
       "2   3  110000   8.500000  22.05      2  12.0  15.0  139.667375  35.675358   \n",
       "3   4  150000  29.333333  60.48     13   3.0   4.0  139.648495  35.700193   \n",
       "4   5   74000  31.583333  39.66      9   1.0   2.0  139.872315  35.766413   \n",
       "\n",
       "   部屋数  ...       高さ率  建物構造ID        賃料/面積  平均坪単価（万円）  方角ID     人口総数   区面積  \\\n",
       "0  1.0  ...  0.083333       3  3748.125937      180.0     5  34285.0  1.42   \n",
       "1  1.0  ...  0.500000      10  4606.060606      323.0     0  14890.0  0.52   \n",
       "2  1.0  ...  0.800000       3  4988.662132      324.0     4  16531.0  0.63   \n",
       "3  3.5  ...  0.750000       3  2480.158730      253.0     4  32316.0  1.29   \n",
       "4  3.0  ...  0.500000       7  1865.859808      111.0     4  17147.0  1.07   \n",
       "\n",
       "      人口密度  平均所得（年収、円）  flag  \n",
       "0  24144.4     3776410   NaN  \n",
       "1  28634.6     6843638   1.0  \n",
       "2  26239.7     8855483   NaN  \n",
       "3  25051.2     4695873   NaN  \n",
       "4  16025.2     3533351   NaN  \n",
       "\n",
       "[5 rows x 21 columns]"
      ]
     },
     "execution_count": 268,
     "metadata": {},
     "output_type": "execute_result"
    }
   ],
   "source": [
    "train_data_1.head()"
   ]
  },
  {
   "cell_type": "code",
   "execution_count": 269,
   "metadata": {},
   "outputs": [
    {
     "data": {
      "image/png": "[encoded data removed]",
      "text/plain": [
       "<Figure size 432x288 with 1 Axes>"
      ]
     },
     "metadata": {
      "needs_background": "light"
     },
     "output_type": "display_data"
    }
   ],
   "source": [
    "# ハズレ値の確認\n",
    "import matplotlib.pyplot as plt\n",
    "import numpy as np\n",
    "font = {'family' : 'Meiryo'} # matplotlibのデフォルトフォントをTakaoGothicに設定\n",
    "plt.rc('font', **font)\n",
    "plt.scatter(train_data_1[\"賃料\"], train_data_1[\"面積m2\"], alpha = 0.5)\n",
    "plt.title(\"訓練データの分布\")\n",
    "plt.xlabel('賃料')\n",
    "plt.ylabel('面積m2')\n",
    "plt.show()"
   ]
  },
  {
   "cell_type": "code",
   "execution_count": 270,
   "metadata": {},
   "outputs": [
    {
     "data": {
      "image/png": "[encoded data removed]",
      "text/plain": [
       "<Figure size 432x288 with 1 Axes>"
      ]
     },
     "metadata": {
      "needs_background": "light"
     },
     "output_type": "display_data"
    }
   ],
   "source": [
    "font = {'family' : 'Meiryo'} # matplotlibのデフォルトフォントをTakaoGothicに設定\n",
    "plt.rc('font', **font)\n",
    "plt.scatter(train_data_1[\"賃料/面積\"], train_data_1[\"面積m2\"], alpha = 0.5)\n",
    "plt.title(\"訓練データの分布\")\n",
    "plt.xlabel('賃料/面積')\n",
    "plt.ylabel('面積m2')\n",
    "plt.show()"
   ]
  },
  {
   "cell_type": "code",
   "execution_count": 271,
   "metadata": {},
   "outputs": [
    {
     "data": {
      "text/html": [
       "<div>\n",
       "<style scoped>\n",
       "    .dataframe tbody tr th:only-of-type {\n",
       "        vertical-align: middle;\n",
       "    }\n",
       "\n",
       "    .dataframe tbody tr th {\n",
       "        vertical-align: top;\n",
       "    }\n",
       "\n",
       "    .dataframe thead th {\n",
       "        text-align: right;\n",
       "    }\n",
       "</style>\n",
       "<table border=\"1\" class=\"dataframe\">\n",
       "  <thead>\n",
       "    <tr style=\"text-align: right;\">\n",
       "      <th></th>\n",
       "      <th>id</th>\n",
       "      <th>賃料</th>\n",
       "      <th>築年数</th>\n",
       "      <th>面積m2</th>\n",
       "      <th>間取りID</th>\n",
       "      <th>所在</th>\n",
       "      <th>階層</th>\n",
       "      <th>経度</th>\n",
       "      <th>緯度</th>\n",
       "      <th>部屋数</th>\n",
       "      <th>...</th>\n",
       "      <th>高さ率</th>\n",
       "      <th>建物構造ID</th>\n",
       "      <th>賃料/面積</th>\n",
       "      <th>平均坪単価（万円）</th>\n",
       "      <th>方角ID</th>\n",
       "      <th>人口総数</th>\n",
       "      <th>区面積</th>\n",
       "      <th>人口密度</th>\n",
       "      <th>平均所得（年収、円）</th>\n",
       "      <th>flag</th>\n",
       "    </tr>\n",
       "  </thead>\n",
       "  <tbody>\n",
       "    <tr>\n",
       "      <th>5775</th>\n",
       "      <td>5776</td>\n",
       "      <td>1203500</td>\n",
       "      <td>12.416667</td>\n",
       "      <td>20.53</td>\n",
       "      <td>2</td>\n",
       "      <td>10.0</td>\n",
       "      <td>15.0</td>\n",
       "      <td>139.756843</td>\n",
       "      <td>35.664231</td>\n",
       "      <td>1.0</td>\n",
       "      <td>...</td>\n",
       "      <td>0.666667</td>\n",
       "      <td>3</td>\n",
       "      <td>58621.529469</td>\n",
       "      <td>867.0</td>\n",
       "      <td>3</td>\n",
       "      <td>2583.0</td>\n",
       "      <td>0.47</td>\n",
       "      <td>5495.7</td>\n",
       "      <td>11631584</td>\n",
       "      <td>1.0</td>\n",
       "    </tr>\n",
       "    <tr>\n",
       "      <th>7491</th>\n",
       "      <td>7492</td>\n",
       "      <td>184000</td>\n",
       "      <td>0.166667</td>\n",
       "      <td>5.83</td>\n",
       "      <td>13</td>\n",
       "      <td>8.0</td>\n",
       "      <td>11.0</td>\n",
       "      <td>139.683483</td>\n",
       "      <td>35.728822</td>\n",
       "      <td>3.5</td>\n",
       "      <td>...</td>\n",
       "      <td>0.727273</td>\n",
       "      <td>3</td>\n",
       "      <td>31560.891938</td>\n",
       "      <td>191.0</td>\n",
       "      <td>4</td>\n",
       "      <td>20312.0</td>\n",
       "      <td>0.82</td>\n",
       "      <td>24770.7</td>\n",
       "      <td>4604990</td>\n",
       "      <td>NaN</td>\n",
       "    </tr>\n",
       "  </tbody>\n",
       "</table>\n",
       "<p>2 rows × 21 columns</p>\n",
       "</div>"
      ],
      "text/plain": [
       "        id       賃料        築年数   面積m2  間取りID    所在    階層          経度  \\\n",
       "5775  5776  1203500  12.416667  20.53      2  10.0  15.0  139.756843   \n",
       "7491  7492   184000   0.166667   5.83     13   8.0  11.0  139.683483   \n",
       "\n",
       "             緯度  部屋数  ...       高さ率  建物構造ID         賃料/面積  平均坪単価（万円）  方角ID  \\\n",
       "5775  35.664231  1.0  ...  0.666667       3  58621.529469      867.0     3   \n",
       "7491  35.728822  3.5  ...  0.727273       3  31560.891938      191.0     4   \n",
       "\n",
       "         人口総数   区面積     人口密度  平均所得（年収、円）  flag  \n",
       "5775   2583.0  0.47   5495.7    11631584   1.0  \n",
       "7491  20312.0  0.82  24770.7     4604990   NaN  \n",
       "\n",
       "[2 rows x 21 columns]"
      ]
     },
     "execution_count": 271,
     "metadata": {},
     "output_type": "execute_result"
    }
   ],
   "source": [
    "train_data_1.loc[train_data_1[\"賃料/面積\"]>30000]"
   ]
  },
  {
   "cell_type": "code",
   "execution_count": 272,
   "metadata": {},
   "outputs": [
    {
     "name": "stdout",
     "output_type": "stream",
     "text": [
      "除去前: 31470\n",
      "除去後: 31464\n"
     ]
    }
   ],
   "source": [
    "# ハズレ値の除去\n",
    "print(\"除去前:\",len(train_data_1))\n",
    "train_data_1 = train_data_1.drop(5093, axis=0)\n",
    "train_data_1 = train_data_1.drop(20643, axis=0)\n",
    "train_data_1 = train_data_1.drop(30539, axis=0)\n",
    "\n",
    "train_data_1 = train_data_1.drop(5775, axis=0)\n",
    "\n",
    "train_data_1 = train_data_1.drop(20926, axis=0)\n",
    "\n",
    "train_data_1 = train_data_1.drop(7491, axis=0)\n",
    "print(\"除去後:\",len(train_data_1))"
   ]
  },
  {
   "cell_type": "code",
   "execution_count": 273,
   "metadata": {},
   "outputs": [
    {
     "data": {
      "image/png": "[encoded data removed]",
      "text/plain": [
       "<Figure size 432x288 with 1 Axes>"
      ]
     },
     "metadata": {
      "needs_background": "light"
     },
     "output_type": "display_data"
    }
   ],
   "source": [
    "font = {'family' : 'Meiryo'} # matplotlibのデフォルトフォントをTakaoGothicに設定\n",
    "plt.rc('font', **font)\n",
    "plt.scatter(train_data_1[\"賃料\"], train_data_1[\"面積m2\"], alpha = 0.5)\n",
    "plt.title(\"訓練データの分布\")\n",
    "plt.xlabel('賃料')\n",
    "plt.ylabel('面積m2')\n",
    "plt.show()"
   ]
  },
  {
   "cell_type": "markdown",
   "metadata": {},
   "source": [
    "## 3. データチェック"
   ]
  },
  {
   "cell_type": "code",
   "execution_count": 274,
   "metadata": {},
   "outputs": [
    {
     "data": {
      "text/plain": [
       "id                0\n",
       "賃料                0\n",
       "築年数             889\n",
       "面積m2              0\n",
       "間取りID             0\n",
       "所在              120\n",
       "階層              594\n",
       "経度                0\n",
       "緯度                0\n",
       "部屋数               0\n",
       "1部屋当たり面積m2        0\n",
       "高さ率             714\n",
       "建物構造ID            0\n",
       "賃料/面積             0\n",
       "平均坪単価（万円）         0\n",
       "方角ID              0\n",
       "人口総数              5\n",
       "区面積               3\n",
       "人口密度            221\n",
       "平均所得（年収、円）        0\n",
       "flag          25971\n",
       "dtype: int64"
      ]
     },
     "execution_count": 274,
     "metadata": {},
     "output_type": "execute_result"
    }
   ],
   "source": [
    "train_data_1.isnull().sum()"
   ]
  },
  {
   "cell_type": "code",
   "execution_count": 275,
   "metadata": {},
   "outputs": [
    {
     "data": {
      "text/plain": [
       "id                0\n",
       "築年数             675\n",
       "面積m2              0\n",
       "間取りID             0\n",
       "所在              102\n",
       "階層              476\n",
       "経度                0\n",
       "緯度                0\n",
       "部屋数               0\n",
       "1部屋当たり面積m2        0\n",
       "高さ率             577\n",
       "建物構造ID            0\n",
       "平均坪単価（万円）         0\n",
       "方角ID              0\n",
       "人口総数              2\n",
       "区面積               0\n",
       "人口密度            179\n",
       "平均所得（年収、円）        0\n",
       "flag          24812\n",
       "dtype: int64"
      ]
     },
     "execution_count": 275,
     "metadata": {},
     "output_type": "execute_result"
    }
   ],
   "source": [
    "test_data_1.isnull().sum()"
   ]
  },
  {
   "cell_type": "code",
   "execution_count": 276,
   "metadata": {},
   "outputs": [
    {
     "data": {
      "text/plain": [
       "31464"
      ]
     },
     "execution_count": 276,
     "metadata": {},
     "output_type": "execute_result"
    }
   ],
   "source": [
    "len(train_data_1)"
   ]
  },
  {
   "cell_type": "code",
   "execution_count": 277,
   "metadata": {},
   "outputs": [
    {
     "data": {
      "text/plain": [
       "31470"
      ]
     },
     "execution_count": 277,
     "metadata": {},
     "output_type": "execute_result"
    }
   ],
   "source": [
    "len(train_data)"
   ]
  },
  {
   "cell_type": "code",
   "execution_count": 278,
   "metadata": {},
   "outputs": [
    {
     "data": {
      "text/plain": [
       "24812"
      ]
     },
     "execution_count": 278,
     "metadata": {},
     "output_type": "execute_result"
    }
   ],
   "source": [
    "len(test_data_1)"
   ]
  },
  {
   "cell_type": "code",
   "execution_count": 279,
   "metadata": {},
   "outputs": [
    {
     "data": {
      "text/plain": [
       "31262"
      ]
     },
     "execution_count": 279,
     "metadata": {},
     "output_type": "execute_result"
    }
   ],
   "source": [
    "len(test_data)"
   ]
  },
  {
   "cell_type": "code",
   "execution_count": 280,
   "metadata": {},
   "outputs": [
    {
     "data": {
      "text/html": [
       "<div>\n",
       "<style scoped>\n",
       "    .dataframe tbody tr th:only-of-type {\n",
       "        vertical-align: middle;\n",
       "    }\n",
       "\n",
       "    .dataframe tbody tr th {\n",
       "        vertical-align: top;\n",
       "    }\n",
       "\n",
       "    .dataframe thead th {\n",
       "        text-align: right;\n",
       "    }\n",
       "</style>\n",
       "<table border=\"1\" class=\"dataframe\">\n",
       "  <thead>\n",
       "    <tr style=\"text-align: right;\">\n",
       "      <th></th>\n",
       "      <th>id</th>\n",
       "      <th>賃料</th>\n",
       "      <th>築年数</th>\n",
       "      <th>面積m2</th>\n",
       "      <th>間取りID</th>\n",
       "      <th>所在</th>\n",
       "      <th>階層</th>\n",
       "      <th>経度</th>\n",
       "      <th>緯度</th>\n",
       "      <th>部屋数</th>\n",
       "      <th>...</th>\n",
       "      <th>高さ率</th>\n",
       "      <th>建物構造ID</th>\n",
       "      <th>賃料/面積</th>\n",
       "      <th>平均坪単価（万円）</th>\n",
       "      <th>方角ID</th>\n",
       "      <th>人口総数</th>\n",
       "      <th>区面積</th>\n",
       "      <th>人口密度</th>\n",
       "      <th>平均所得（年収、円）</th>\n",
       "      <th>flag</th>\n",
       "    </tr>\n",
       "  </thead>\n",
       "  <tbody>\n",
       "    <tr>\n",
       "      <th>0</th>\n",
       "      <td>1</td>\n",
       "      <td>75000</td>\n",
       "      <td>9.750000</td>\n",
       "      <td>20.01</td>\n",
       "      <td>2</td>\n",
       "      <td>1.0</td>\n",
       "      <td>12.0</td>\n",
       "      <td>139.727873</td>\n",
       "      <td>35.747759</td>\n",
       "      <td>1.0</td>\n",
       "      <td>...</td>\n",
       "      <td>0.083333</td>\n",
       "      <td>3</td>\n",
       "      <td>3748.125937</td>\n",
       "      <td>180.0</td>\n",
       "      <td>5</td>\n",
       "      <td>34285.0</td>\n",
       "      <td>1.42</td>\n",
       "      <td>24144.4</td>\n",
       "      <td>3776410</td>\n",
       "      <td>NaN</td>\n",
       "    </tr>\n",
       "    <tr>\n",
       "      <th>1</th>\n",
       "      <td>2</td>\n",
       "      <td>76000</td>\n",
       "      <td>44.833333</td>\n",
       "      <td>16.50</td>\n",
       "      <td>8</td>\n",
       "      <td>5.0</td>\n",
       "      <td>10.0</td>\n",
       "      <td>139.780485</td>\n",
       "      <td>35.662406</td>\n",
       "      <td>1.0</td>\n",
       "      <td>...</td>\n",
       "      <td>0.500000</td>\n",
       "      <td>10</td>\n",
       "      <td>4606.060606</td>\n",
       "      <td>323.0</td>\n",
       "      <td>0</td>\n",
       "      <td>14890.0</td>\n",
       "      <td>0.52</td>\n",
       "      <td>28634.6</td>\n",
       "      <td>6843638</td>\n",
       "      <td>1.0</td>\n",
       "    </tr>\n",
       "    <tr>\n",
       "      <th>2</th>\n",
       "      <td>3</td>\n",
       "      <td>110000</td>\n",
       "      <td>8.500000</td>\n",
       "      <td>22.05</td>\n",
       "      <td>2</td>\n",
       "      <td>12.0</td>\n",
       "      <td>15.0</td>\n",
       "      <td>139.667375</td>\n",
       "      <td>35.675358</td>\n",
       "      <td>1.0</td>\n",
       "      <td>...</td>\n",
       "      <td>0.800000</td>\n",
       "      <td>3</td>\n",
       "      <td>4988.662132</td>\n",
       "      <td>324.0</td>\n",
       "      <td>4</td>\n",
       "      <td>16531.0</td>\n",
       "      <td>0.63</td>\n",
       "      <td>26239.7</td>\n",
       "      <td>8855483</td>\n",
       "      <td>NaN</td>\n",
       "    </tr>\n",
       "    <tr>\n",
       "      <th>3</th>\n",
       "      <td>4</td>\n",
       "      <td>150000</td>\n",
       "      <td>29.333333</td>\n",
       "      <td>60.48</td>\n",
       "      <td>13</td>\n",
       "      <td>3.0</td>\n",
       "      <td>4.0</td>\n",
       "      <td>139.648495</td>\n",
       "      <td>35.700193</td>\n",
       "      <td>3.5</td>\n",
       "      <td>...</td>\n",
       "      <td>0.750000</td>\n",
       "      <td>3</td>\n",
       "      <td>2480.158730</td>\n",
       "      <td>253.0</td>\n",
       "      <td>4</td>\n",
       "      <td>32316.0</td>\n",
       "      <td>1.29</td>\n",
       "      <td>25051.2</td>\n",
       "      <td>4695873</td>\n",
       "      <td>NaN</td>\n",
       "    </tr>\n",
       "    <tr>\n",
       "      <th>4</th>\n",
       "      <td>5</td>\n",
       "      <td>74000</td>\n",
       "      <td>31.583333</td>\n",
       "      <td>39.66</td>\n",
       "      <td>9</td>\n",
       "      <td>1.0</td>\n",
       "      <td>2.0</td>\n",
       "      <td>139.872315</td>\n",
       "      <td>35.766413</td>\n",
       "      <td>3.0</td>\n",
       "      <td>...</td>\n",
       "      <td>0.500000</td>\n",
       "      <td>7</td>\n",
       "      <td>1865.859808</td>\n",
       "      <td>111.0</td>\n",
       "      <td>4</td>\n",
       "      <td>17147.0</td>\n",
       "      <td>1.07</td>\n",
       "      <td>16025.2</td>\n",
       "      <td>3533351</td>\n",
       "      <td>NaN</td>\n",
       "    </tr>\n",
       "  </tbody>\n",
       "</table>\n",
       "<p>5 rows × 21 columns</p>\n",
       "</div>"
      ],
      "text/plain": [
       "   id      賃料        築年数   面積m2  間取りID    所在    階層          経度         緯度  \\\n",
       "0   1   75000   9.750000  20.01      2   1.0  12.0  139.727873  35.747759   \n",
       "1   2   76000  44.833333  16.50      8   5.0  10.0  139.780485  35.662406   \n",
       "2   3  110000   8.500000  22.05      2  12.0  15.0  139.667375  35.675358   \n",
       "3   4  150000  29.333333  60.48     13   3.0   4.0  139.648495  35.700193   \n",
       "4   5   74000  31.583333  39.66      9   1.0   2.0  139.872315  35.766413   \n",
       "\n",
       "   部屋数  ...       高さ率  建物構造ID        賃料/面積  平均坪単価（万円）  方角ID     人口総数   区面積  \\\n",
       "0  1.0  ...  0.083333       3  3748.125937      180.0     5  34285.0  1.42   \n",
       "1  1.0  ...  0.500000      10  4606.060606      323.0     0  14890.0  0.52   \n",
       "2  1.0  ...  0.800000       3  4988.662132      324.0     4  16531.0  0.63   \n",
       "3  3.5  ...  0.750000       3  2480.158730      253.0     4  32316.0  1.29   \n",
       "4  3.0  ...  0.500000       7  1865.859808      111.0     4  17147.0  1.07   \n",
       "\n",
       "      人口密度  平均所得（年収、円）  flag  \n",
       "0  24144.4     3776410   NaN  \n",
       "1  28634.6     6843638   1.0  \n",
       "2  26239.7     8855483   NaN  \n",
       "3  25051.2     4695873   NaN  \n",
       "4  16025.2     3533351   NaN  \n",
       "\n",
       "[5 rows x 21 columns]"
      ]
     },
     "execution_count": 280,
     "metadata": {},
     "output_type": "execute_result"
    }
   ],
   "source": [
    "train_data_1.head()"
   ]
  },
  {
   "cell_type": "code",
   "execution_count": 281,
   "metadata": {},
   "outputs": [
    {
     "data": {
      "text/html": [
       "<div>\n",
       "<style scoped>\n",
       "    .dataframe tbody tr th:only-of-type {\n",
       "        vertical-align: middle;\n",
       "    }\n",
       "\n",
       "    .dataframe tbody tr th {\n",
       "        vertical-align: top;\n",
       "    }\n",
       "\n",
       "    .dataframe thead th {\n",
       "        text-align: right;\n",
       "    }\n",
       "</style>\n",
       "<table border=\"1\" class=\"dataframe\">\n",
       "  <thead>\n",
       "    <tr style=\"text-align: right;\">\n",
       "      <th></th>\n",
       "      <th>id</th>\n",
       "      <th>築年数</th>\n",
       "      <th>面積m2</th>\n",
       "      <th>間取りID</th>\n",
       "      <th>所在</th>\n",
       "      <th>階層</th>\n",
       "      <th>経度</th>\n",
       "      <th>緯度</th>\n",
       "      <th>部屋数</th>\n",
       "      <th>1部屋当たり面積m2</th>\n",
       "      <th>高さ率</th>\n",
       "      <th>建物構造ID</th>\n",
       "      <th>平均坪単価（万円）</th>\n",
       "      <th>方角ID</th>\n",
       "      <th>人口総数</th>\n",
       "      <th>区面積</th>\n",
       "      <th>人口密度</th>\n",
       "      <th>平均所得（年収、円）</th>\n",
       "      <th>flag</th>\n",
       "    </tr>\n",
       "  </thead>\n",
       "  <tbody>\n",
       "    <tr>\n",
       "      <th>0</th>\n",
       "      <td>31471</td>\n",
       "      <td>49.000000</td>\n",
       "      <td>50.22</td>\n",
       "      <td>13</td>\n",
       "      <td>8.0</td>\n",
       "      <td>8.0</td>\n",
       "      <td>139.652762</td>\n",
       "      <td>35.617708</td>\n",
       "      <td>3.5</td>\n",
       "      <td>14.348571</td>\n",
       "      <td>1.00</td>\n",
       "      <td>10</td>\n",
       "      <td>208.0</td>\n",
       "      <td>4</td>\n",
       "      <td>24079.0</td>\n",
       "      <td>1.70</td>\n",
       "      <td>14164.1</td>\n",
       "      <td>5653167</td>\n",
       "      <td>NaN</td>\n",
       "    </tr>\n",
       "    <tr>\n",
       "      <th>1</th>\n",
       "      <td>31472</td>\n",
       "      <td>0.166667</td>\n",
       "      <td>20.88</td>\n",
       "      <td>8</td>\n",
       "      <td>3.0</td>\n",
       "      <td>4.0</td>\n",
       "      <td>139.672871</td>\n",
       "      <td>35.617709</td>\n",
       "      <td>1.0</td>\n",
       "      <td>20.880000</td>\n",
       "      <td>0.75</td>\n",
       "      <td>3</td>\n",
       "      <td>273.0</td>\n",
       "      <td>5</td>\n",
       "      <td>14934.0</td>\n",
       "      <td>0.94</td>\n",
       "      <td>15887.2</td>\n",
       "      <td>6361652</td>\n",
       "      <td>NaN</td>\n",
       "    </tr>\n",
       "    <tr>\n",
       "      <th>2</th>\n",
       "      <td>31473</td>\n",
       "      <td>23.333333</td>\n",
       "      <td>26.93</td>\n",
       "      <td>2</td>\n",
       "      <td>1.0</td>\n",
       "      <td>4.0</td>\n",
       "      <td>139.709049</td>\n",
       "      <td>35.741996</td>\n",
       "      <td>1.0</td>\n",
       "      <td>26.930000</td>\n",
       "      <td>0.25</td>\n",
       "      <td>10</td>\n",
       "      <td>186.0</td>\n",
       "      <td>5</td>\n",
       "      <td>18808.0</td>\n",
       "      <td>0.63</td>\n",
       "      <td>29854.0</td>\n",
       "      <td>4604990</td>\n",
       "      <td>NaN</td>\n",
       "    </tr>\n",
       "    <tr>\n",
       "      <th>3</th>\n",
       "      <td>31474</td>\n",
       "      <td>36.166667</td>\n",
       "      <td>23.57</td>\n",
       "      <td>2</td>\n",
       "      <td>1.0</td>\n",
       "      <td>2.0</td>\n",
       "      <td>139.658270</td>\n",
       "      <td>35.673602</td>\n",
       "      <td>1.0</td>\n",
       "      <td>23.570000</td>\n",
       "      <td>0.50</td>\n",
       "      <td>7</td>\n",
       "      <td>184.0</td>\n",
       "      <td>5</td>\n",
       "      <td>27682.0</td>\n",
       "      <td>1.55</td>\n",
       "      <td>17859.4</td>\n",
       "      <td>4695873</td>\n",
       "      <td>NaN</td>\n",
       "    </tr>\n",
       "    <tr>\n",
       "      <th>5</th>\n",
       "      <td>31476</td>\n",
       "      <td>25.500000</td>\n",
       "      <td>21.45</td>\n",
       "      <td>8</td>\n",
       "      <td>1.0</td>\n",
       "      <td>2.0</td>\n",
       "      <td>139.686023</td>\n",
       "      <td>35.691395</td>\n",
       "      <td>1.0</td>\n",
       "      <td>21.450000</td>\n",
       "      <td>0.50</td>\n",
       "      <td>7</td>\n",
       "      <td>294.0</td>\n",
       "      <td>8</td>\n",
       "      <td>20781.0</td>\n",
       "      <td>1.73</td>\n",
       "      <td>12012.1</td>\n",
       "      <td>5555123</td>\n",
       "      <td>NaN</td>\n",
       "    </tr>\n",
       "  </tbody>\n",
       "</table>\n",
       "</div>"
      ],
      "text/plain": [
       "      id        築年数   面積m2  間取りID   所在   階層          経度         緯度  部屋数  \\\n",
       "0  31471  49.000000  50.22     13  8.0  8.0  139.652762  35.617708  3.5   \n",
       "1  31472   0.166667  20.88      8  3.0  4.0  139.672871  35.617709  1.0   \n",
       "2  31473  23.333333  26.93      2  1.0  4.0  139.709049  35.741996  1.0   \n",
       "3  31474  36.166667  23.57      2  1.0  2.0  139.658270  35.673602  1.0   \n",
       "5  31476  25.500000  21.45      8  1.0  2.0  139.686023  35.691395  1.0   \n",
       "\n",
       "   1部屋当たり面積m2   高さ率  建物構造ID  平均坪単価（万円）  方角ID     人口総数   区面積     人口密度  \\\n",
       "0   14.348571  1.00      10      208.0     4  24079.0  1.70  14164.1   \n",
       "1   20.880000  0.75       3      273.0     5  14934.0  0.94  15887.2   \n",
       "2   26.930000  0.25      10      186.0     5  18808.0  0.63  29854.0   \n",
       "3   23.570000  0.50       7      184.0     5  27682.0  1.55  17859.4   \n",
       "5   21.450000  0.50       7      294.0     8  20781.0  1.73  12012.1   \n",
       "\n",
       "   平均所得（年収、円）  flag  \n",
       "0     5653167   NaN  \n",
       "1     6361652   NaN  \n",
       "2     4604990   NaN  \n",
       "3     4695873   NaN  \n",
       "5     5555123   NaN  "
      ]
     },
     "execution_count": 281,
     "metadata": {},
     "output_type": "execute_result"
    }
   ],
   "source": [
    "test_data_1.head()"
   ]
  },
  {
   "cell_type": "markdown",
   "metadata": {},
   "source": [
    "## 4.学習 "
   ]
  },
  {
   "cell_type": "code",
   "execution_count": 282,
   "metadata": {},
   "outputs": [],
   "source": [
    "# IDとflagの削除\n",
    "train_data_1_no_ID = train_data_1.drop([\"id\", \"flag\"], axis=1)\n",
    "test_data_1_no_ID = test_data_1.drop([\"id\", \"flag\"], axis=1)"
   ]
  },
  {
   "cell_type": "code",
   "execution_count": 283,
   "metadata": {},
   "outputs": [],
   "source": [
    "# 特徴データと目的変数の設定\n",
    "train_x = train_data_1_no_ID.drop([\"賃料\", \"賃料/面積\"], axis=1)\n",
    "train_y = train_data_1_no_ID[\"賃料/面積\"]\n",
    "\n",
    "test_x = test_data_1_no_ID"
   ]
  },
  {
   "cell_type": "code",
   "execution_count": 284,
   "metadata": {
    "collapsed": true,
    "jupyter": {
     "outputs_hidden": true
    }
   },
   "outputs": [
    {
     "name": "stdout",
     "output_type": "stream",
     "text": [
      "[23:45:13] WARNING: C:/Users/Administrator/workspace/xgboost-win64_release_1.4.0/src/learner.cc:573: \n",
      "Parameters: { \"sileng\" } might not be used.\n",
      "\n",
      "  This may not be accurate due to some parameters are only used in language bindings but\n",
      "  passed down to XGBoost core.  Or some parameters are not used but slip through this\n",
      "  verification. Please open an issue if you find above cases.\n",
      "\n",
      "\n",
      "[0]\ttrain-rmse:2614.42822\teval-rmse:2600.12183\n",
      "[1]\ttrain-rmse:1865.50977\teval-rmse:1857.34180\n",
      "[2]\ttrain-rmse:1346.99695\teval-rmse:1344.78186\n",
      "[3]\ttrain-rmse:994.10346\teval-rmse:996.58374\n",
      "[4]\ttrain-rmse:756.73193\teval-rmse:764.71393\n",
      "[5]\ttrain-rmse:603.26410\teval-rmse:615.33423\n",
      "[6]\ttrain-rmse:505.63946\teval-rmse:523.49670\n",
      "[7]\ttrain-rmse:444.38950\teval-rmse:466.30322\n",
      "[8]\ttrain-rmse:406.29880\teval-rmse:431.75177\n",
      "[9]\ttrain-rmse:383.63049\teval-rmse:411.99753\n",
      "[10]\ttrain-rmse:370.65186\teval-rmse:400.77792\n",
      "[11]\ttrain-rmse:360.19003\teval-rmse:392.90051\n",
      "[12]\ttrain-rmse:352.62030\teval-rmse:387.25467\n",
      "[13]\ttrain-rmse:346.39410\teval-rmse:382.93497\n",
      "[14]\ttrain-rmse:343.27704\teval-rmse:380.76236\n",
      "[15]\ttrain-rmse:340.30374\teval-rmse:378.69632\n",
      "[16]\ttrain-rmse:336.45828\teval-rmse:375.85886\n",
      "[17]\ttrain-rmse:331.87552\teval-rmse:372.05142\n",
      "[18]\ttrain-rmse:329.59705\teval-rmse:371.03949\n",
      "[19]\ttrain-rmse:326.66193\teval-rmse:369.12955\n",
      "[20]\ttrain-rmse:322.90469\teval-rmse:366.36426\n",
      "[21]\ttrain-rmse:320.91412\teval-rmse:364.90894\n",
      "[22]\ttrain-rmse:316.54239\teval-rmse:361.92859\n",
      "[23]\ttrain-rmse:314.14285\teval-rmse:360.63275\n",
      "[24]\ttrain-rmse:311.04837\teval-rmse:358.61801\n",
      "[25]\ttrain-rmse:308.90750\teval-rmse:356.97836\n",
      "[26]\ttrain-rmse:308.21094\teval-rmse:356.43329\n",
      "[27]\ttrain-rmse:306.29996\teval-rmse:355.51373\n",
      "[28]\ttrain-rmse:304.77664\teval-rmse:354.36325\n",
      "[29]\ttrain-rmse:303.23874\teval-rmse:353.56152\n",
      "[30]\ttrain-rmse:301.64078\teval-rmse:352.61792\n",
      "[31]\ttrain-rmse:299.47217\teval-rmse:351.85327\n",
      "[32]\ttrain-rmse:298.95938\teval-rmse:351.59927\n",
      "[33]\ttrain-rmse:297.00964\teval-rmse:350.46750\n",
      "[34]\ttrain-rmse:296.59067\teval-rmse:350.39185\n",
      "[35]\ttrain-rmse:294.26605\teval-rmse:349.09457\n",
      "[36]\ttrain-rmse:292.66052\teval-rmse:348.88803\n",
      "[37]\ttrain-rmse:289.76794\teval-rmse:347.43143\n",
      "[38]\ttrain-rmse:287.64670\teval-rmse:346.47894\n",
      "[39]\ttrain-rmse:286.58575\teval-rmse:345.73224\n",
      "[40]\ttrain-rmse:286.07913\teval-rmse:345.75119\n",
      "[41]\ttrain-rmse:285.75009\teval-rmse:345.65002\n",
      "[42]\ttrain-rmse:285.10233\teval-rmse:345.41687\n",
      "[43]\ttrain-rmse:283.57217\teval-rmse:344.82941\n",
      "[44]\ttrain-rmse:282.49795\teval-rmse:344.22498\n",
      "[45]\ttrain-rmse:281.64087\teval-rmse:344.05698\n",
      "[46]\ttrain-rmse:280.43112\teval-rmse:343.49664\n",
      "[47]\ttrain-rmse:279.02475\teval-rmse:342.73254\n",
      "[48]\ttrain-rmse:277.48535\teval-rmse:342.23651\n",
      "[49]\ttrain-rmse:276.70282\teval-rmse:342.18802\n",
      "[23:45:16] WARNING: C:/Users/Administrator/workspace/xgboost-win64_release_1.4.0/src/learner.cc:573: \n",
      "Parameters: { \"sileng\" } might not be used.\n",
      "\n",
      "  This may not be accurate due to some parameters are only used in language bindings but\n",
      "  passed down to XGBoost core.  Or some parameters are not used but slip through this\n",
      "  verification. Please open an issue if you find above cases.\n",
      "\n",
      "\n",
      "[0]\ttrain-rmse:2604.14941\teval-rmse:2629.07007\n",
      "[1]\ttrain-rmse:1858.18396\teval-rmse:1878.33069\n",
      "[2]\ttrain-rmse:1341.14197\teval-rmse:1361.48413\n",
      "[3]\ttrain-rmse:988.98407\teval-rmse:1010.47504\n",
      "[4]\ttrain-rmse:754.29871\teval-rmse:778.32111\n",
      "[5]\ttrain-rmse:599.90723\teval-rmse:626.45758\n",
      "[6]\ttrain-rmse:502.94678\teval-rmse:532.26550\n",
      "[7]\ttrain-rmse:441.51254\teval-rmse:473.21265\n",
      "[8]\ttrain-rmse:403.68527\teval-rmse:437.74728\n",
      "[9]\ttrain-rmse:382.45938\teval-rmse:417.83972\n",
      "[10]\ttrain-rmse:368.43518\teval-rmse:406.35437\n",
      "[11]\ttrain-rmse:357.61676\teval-rmse:397.98050\n",
      "[12]\ttrain-rmse:350.82352\teval-rmse:392.94473\n",
      "[13]\ttrain-rmse:344.11496\teval-rmse:388.70837\n",
      "[14]\ttrain-rmse:340.42966\teval-rmse:384.83041\n",
      "[15]\ttrain-rmse:336.09973\teval-rmse:381.97858\n",
      "[16]\ttrain-rmse:331.70413\teval-rmse:379.05521\n",
      "[17]\ttrain-rmse:328.41659\teval-rmse:377.34021\n",
      "[18]\ttrain-rmse:325.70383\teval-rmse:375.20822\n",
      "[19]\ttrain-rmse:323.91727\teval-rmse:374.37851\n",
      "[20]\ttrain-rmse:321.36896\teval-rmse:372.55087\n",
      "[21]\ttrain-rmse:319.18338\teval-rmse:371.68838\n",
      "[22]\ttrain-rmse:316.63580\teval-rmse:369.77615\n",
      "[23]\ttrain-rmse:314.28705\teval-rmse:367.79575\n",
      "[24]\ttrain-rmse:312.64914\teval-rmse:366.55710\n",
      "[25]\ttrain-rmse:309.00180\teval-rmse:363.29779\n",
      "[26]\ttrain-rmse:306.83173\teval-rmse:361.85791\n",
      "[27]\ttrain-rmse:305.30786\teval-rmse:360.78412\n",
      "[28]\ttrain-rmse:303.14993\teval-rmse:359.22711\n",
      "[29]\ttrain-rmse:302.33679\teval-rmse:358.84515\n",
      "[30]\ttrain-rmse:300.50687\teval-rmse:357.69397\n",
      "[31]\ttrain-rmse:298.34818\teval-rmse:356.79932\n",
      "[32]\ttrain-rmse:297.12064\teval-rmse:356.17545\n",
      "[33]\ttrain-rmse:294.96948\teval-rmse:354.68701\n",
      "[34]\ttrain-rmse:293.51782\teval-rmse:354.23196\n",
      "[35]\ttrain-rmse:291.95145\teval-rmse:353.27957\n",
      "[36]\ttrain-rmse:290.88889\teval-rmse:352.77054\n",
      "[37]\ttrain-rmse:288.94363\teval-rmse:351.74817\n",
      "[38]\ttrain-rmse:288.34064\teval-rmse:351.43176\n",
      "[39]\ttrain-rmse:288.00916\teval-rmse:351.43588\n",
      "[40]\ttrain-rmse:285.97946\teval-rmse:350.42602\n",
      "[41]\ttrain-rmse:284.19369\teval-rmse:349.62167\n",
      "[42]\ttrain-rmse:282.12518\teval-rmse:348.20010\n",
      "[43]\ttrain-rmse:281.79550\teval-rmse:348.04849\n",
      "[44]\ttrain-rmse:280.51324\teval-rmse:346.86493\n",
      "[45]\ttrain-rmse:279.11633\teval-rmse:346.19339\n",
      "[46]\ttrain-rmse:278.67166\teval-rmse:345.91159\n",
      "[47]\ttrain-rmse:277.76090\teval-rmse:345.14911\n",
      "[48]\ttrain-rmse:277.20139\teval-rmse:344.81787\n",
      "[49]\ttrain-rmse:276.09061\teval-rmse:344.67026\n",
      "[23:45:19] WARNING: C:/Users/Administrator/workspace/xgboost-win64_release_1.4.0/src/learner.cc:573: \n",
      "Parameters: { \"sileng\" } might not be used.\n",
      "\n",
      "  This may not be accurate due to some parameters are only used in language bindings but\n",
      "  passed down to XGBoost core.  Or some parameters are not used but slip through this\n",
      "  verification. Please open an issue if you find above cases.\n",
      "\n",
      "\n",
      "[0]\ttrain-rmse:2611.10571\teval-rmse:2605.88355\n",
      "[1]\ttrain-rmse:1863.56287\teval-rmse:1857.85022\n",
      "[2]\ttrain-rmse:1346.47693\teval-rmse:1340.20740\n",
      "[3]\ttrain-rmse:993.83856\teval-rmse:989.68396\n",
      "[4]\ttrain-rmse:758.41528\teval-rmse:756.49835\n",
      "[5]\ttrain-rmse:603.53278\teval-rmse:604.73956\n",
      "[6]\ttrain-rmse:505.77817\teval-rmse:511.98914\n",
      "[7]\ttrain-rmse:445.90533\teval-rmse:456.49878\n",
      "[8]\ttrain-rmse:407.59912\teval-rmse:423.90076\n",
      "[9]\ttrain-rmse:384.85831\teval-rmse:405.47568\n",
      "[10]\ttrain-rmse:368.79660\teval-rmse:392.24359\n",
      "[11]\ttrain-rmse:359.76446\teval-rmse:385.94009\n",
      "[12]\ttrain-rmse:352.18790\teval-rmse:381.28589\n",
      "[13]\ttrain-rmse:346.76569\teval-rmse:378.45218\n",
      "[14]\ttrain-rmse:341.37872\teval-rmse:375.33444\n",
      "[15]\ttrain-rmse:336.24683\teval-rmse:372.03421\n",
      "[16]\ttrain-rmse:332.91473\teval-rmse:369.85934\n",
      "[17]\ttrain-rmse:330.27698\teval-rmse:368.96265\n",
      "[18]\ttrain-rmse:328.25034\teval-rmse:368.31943\n",
      "[19]\ttrain-rmse:325.78449\teval-rmse:367.27862\n",
      "[20]\ttrain-rmse:322.20639\teval-rmse:365.43021\n",
      "[21]\ttrain-rmse:319.56219\teval-rmse:363.49683\n",
      "[22]\ttrain-rmse:318.29065\teval-rmse:362.83893\n",
      "[23]\ttrain-rmse:316.23023\teval-rmse:361.83936\n",
      "[24]\ttrain-rmse:314.95233\teval-rmse:360.84363\n",
      "[25]\ttrain-rmse:312.35718\teval-rmse:359.24918\n",
      "[26]\ttrain-rmse:309.98343\teval-rmse:358.28903\n",
      "[27]\ttrain-rmse:308.54746\teval-rmse:357.25662\n",
      "[28]\ttrain-rmse:306.28696\teval-rmse:356.89502\n",
      "[29]\ttrain-rmse:305.16223\teval-rmse:356.14459\n",
      "[30]\ttrain-rmse:303.86887\teval-rmse:355.08328\n",
      "[31]\ttrain-rmse:301.08890\teval-rmse:353.73575\n",
      "[32]\ttrain-rmse:299.39111\teval-rmse:352.92053\n",
      "[33]\ttrain-rmse:295.74268\teval-rmse:350.60873\n",
      "[34]\ttrain-rmse:294.09354\teval-rmse:350.28644\n",
      "[35]\ttrain-rmse:293.59344\teval-rmse:350.02094\n",
      "[36]\ttrain-rmse:292.15961\teval-rmse:349.37241\n",
      "[37]\ttrain-rmse:290.33575\teval-rmse:348.23496\n",
      "[38]\ttrain-rmse:289.80414\teval-rmse:347.68353\n",
      "[39]\ttrain-rmse:288.72208\teval-rmse:347.59302\n",
      "[40]\ttrain-rmse:288.48850\teval-rmse:347.57727\n",
      "[41]\ttrain-rmse:287.37390\teval-rmse:347.33319\n",
      "[42]\ttrain-rmse:286.82217\teval-rmse:347.37079\n",
      "[43]\ttrain-rmse:285.62552\teval-rmse:346.70807\n",
      "[44]\ttrain-rmse:284.43662\teval-rmse:346.04401\n",
      "[45]\ttrain-rmse:282.39252\teval-rmse:344.85138\n",
      "[46]\ttrain-rmse:281.53906\teval-rmse:344.60025\n",
      "[47]\ttrain-rmse:280.50324\teval-rmse:344.57608\n",
      "[48]\ttrain-rmse:280.26401\teval-rmse:344.54831\n",
      "[49]\ttrain-rmse:279.47147\teval-rmse:344.18289\n",
      "[23:45:22] WARNING: C:/Users/Administrator/workspace/xgboost-win64_release_1.4.0/src/learner.cc:573: \n",
      "Parameters: { \"sileng\" } might not be used.\n",
      "\n",
      "  This may not be accurate due to some parameters are only used in language bindings but\n",
      "  passed down to XGBoost core.  Or some parameters are not used but slip through this\n",
      "  verification. Please open an issue if you find above cases.\n",
      "\n",
      "\n",
      "[0]\ttrain-rmse:2611.29688\teval-rmse:2609.46997\n",
      "[1]\ttrain-rmse:1863.26514\teval-rmse:1864.57080\n",
      "[2]\ttrain-rmse:1345.89319\teval-rmse:1349.10205\n",
      "[3]\ttrain-rmse:992.66199\teval-rmse:998.14276\n",
      "[4]\ttrain-rmse:756.47876\teval-rmse:766.72467\n",
      "[5]\ttrain-rmse:602.06140\teval-rmse:615.20032\n",
      "[6]\ttrain-rmse:504.66104\teval-rmse:522.47846\n",
      "[7]\ttrain-rmse:443.52234\teval-rmse:464.58231\n",
      "[8]\ttrain-rmse:405.01251\teval-rmse:429.89346\n",
      "[9]\ttrain-rmse:384.65933\teval-rmse:411.99356\n",
      "[10]\ttrain-rmse:368.91678\teval-rmse:397.37338\n",
      "[11]\ttrain-rmse:359.29718\teval-rmse:389.32669\n",
      "[12]\ttrain-rmse:350.49042\teval-rmse:381.81650\n",
      "[13]\ttrain-rmse:344.87997\teval-rmse:378.30664\n",
      "[14]\ttrain-rmse:340.57053\teval-rmse:375.44080\n",
      "[15]\ttrain-rmse:336.53143\teval-rmse:372.78015\n",
      "[16]\ttrain-rmse:333.10168\teval-rmse:371.04254\n",
      "[17]\ttrain-rmse:331.00574\teval-rmse:369.48526\n",
      "[18]\ttrain-rmse:329.70517\teval-rmse:368.82877\n",
      "[19]\ttrain-rmse:325.71362\teval-rmse:365.55405\n",
      "[20]\ttrain-rmse:322.18912\teval-rmse:364.11319\n",
      "[21]\ttrain-rmse:319.70352\teval-rmse:362.32233\n",
      "[22]\ttrain-rmse:317.54334\teval-rmse:360.98572\n",
      "[23]\ttrain-rmse:314.62042\teval-rmse:358.94470\n",
      "[24]\ttrain-rmse:312.23950\teval-rmse:356.50491\n",
      "[25]\ttrain-rmse:310.05472\teval-rmse:355.65549\n",
      "[26]\ttrain-rmse:306.61410\teval-rmse:353.26977\n",
      "[27]\ttrain-rmse:305.47644\teval-rmse:352.71509\n",
      "[28]\ttrain-rmse:304.66232\teval-rmse:352.28485\n",
      "[29]\ttrain-rmse:302.42816\teval-rmse:351.30527\n",
      "[30]\ttrain-rmse:300.79031\teval-rmse:350.86096\n",
      "[31]\ttrain-rmse:300.03259\teval-rmse:350.62927\n",
      "[32]\ttrain-rmse:298.53583\teval-rmse:350.02930\n",
      "[33]\ttrain-rmse:297.32361\teval-rmse:349.16644\n",
      "[34]\ttrain-rmse:295.99881\teval-rmse:348.27707\n",
      "[35]\ttrain-rmse:294.41168\teval-rmse:347.33231\n",
      "[36]\ttrain-rmse:293.25467\teval-rmse:346.60593\n",
      "[37]\ttrain-rmse:292.06311\teval-rmse:345.02884\n",
      "[38]\ttrain-rmse:290.77035\teval-rmse:344.29016\n",
      "[39]\ttrain-rmse:288.98697\teval-rmse:343.05948\n",
      "[40]\ttrain-rmse:287.59622\teval-rmse:342.47861\n",
      "[41]\ttrain-rmse:286.11502\teval-rmse:341.66669\n",
      "[42]\ttrain-rmse:284.58832\teval-rmse:341.29089\n",
      "[43]\ttrain-rmse:284.27029\teval-rmse:341.17419\n",
      "[44]\ttrain-rmse:283.55212\teval-rmse:340.95404\n",
      "[45]\ttrain-rmse:281.56717\teval-rmse:339.51987\n",
      "[46]\ttrain-rmse:281.00919\teval-rmse:339.58331\n",
      "[47]\ttrain-rmse:280.36206\teval-rmse:339.46655\n",
      "[48]\ttrain-rmse:278.85315\teval-rmse:338.51950\n",
      "[49]\ttrain-rmse:277.53674\teval-rmse:337.60565\n"
     ]
    }
   ],
   "source": [
    "import xgboost as xgb\n",
    "from xgboost import XGBClassifier\n",
    "from sklearn.metrics import log_loss, accuracy_score\n",
    "from sklearn.model_selection import KFold\n",
    "\n",
    "scores = []\n",
    "# GBDT用のハイパーパラメータ\n",
    "params = {\"objective\": \"reg:squarederror\", \"sileng\":1, \"random_state\":71, \"eval_metric\":\"rmse\"}\n",
    "num_round = 50\n",
    "\n",
    "# クロスバリデーション\n",
    "kf = KFold(n_splits=4, shuffle=True, random_state=71)\n",
    "for tr_idx, va_idx, in kf.split(train_x):\n",
    "    tr_x, va_x = train_x.iloc[tr_idx], train_x.iloc[va_idx]\n",
    "    tr_y, va_y = train_y.iloc[tr_idx], train_y.iloc[va_idx]\n",
    "    \n",
    "    # GBDTで学習実行\n",
    "    dtrain = xgb.DMatrix(tr_x, tr_y) # enable_categorical=True\n",
    "    dvalid = xgb.DMatrix(va_x, va_y)\n",
    "    dtest = xgb.DMatrix(test_x)\n",
    "    \n",
    "    watchlist = [(dtrain, \"train\"), (dvalid, \"eval\")]\n",
    "    model = xgb.train(params, dtrain, num_round, evals=watchlist)"
   ]
  },
  {
   "cell_type": "markdown",
   "metadata": {},
   "source": [
    "## 5. 検証"
   ]
  },
  {
   "cell_type": "code",
   "execution_count": 285,
   "metadata": {},
   "outputs": [
    {
     "name": "stderr",
     "output_type": "stream",
     "text": [
      "C:\\ProgramData\\Anaconda3\\lib\\site-packages\\xgboost\\core.py:104: UserWarning: ntree_limit is deprecated, use `iteration_range` or model slicing instead.\n",
      "  UserWarning\n"
     ]
    },
    {
     "data": {
      "image/png": "[encoded data removed]",
      "text/plain": [
       "<Figure size 432x288 with 1 Axes>"
      ]
     },
     "metadata": {
      "needs_background": "light"
     },
     "output_type": "display_data"
    }
   ],
   "source": [
    "# 訓練データの予測結果の可視化\n",
    "import matplotlib.pyplot as plt\n",
    "import numpy as np\n",
    "pred = model.predict(xgb.DMatrix(va_x), ntree_limit = model.best_ntree_limit)\n",
    "plt.scatter(va_y, pred, alpha = 0.5)\n",
    "plt.plot(np.linspace(0, 30000, 30000), np.linspace(0, 30000, 30000), \"red\")\n",
    "plt.show()"
   ]
  },
  {
   "cell_type": "code",
   "execution_count": 286,
   "metadata": {},
   "outputs": [
    {
     "name": "stdout",
     "output_type": "stream",
     "text": [
      "337.60564809520525\n"
     ]
    }
   ],
   "source": [
    "# 訓練データのRMSEの出力\n",
    "from sklearn.metrics import mean_squared_error\n",
    "mse = mean_squared_error(va_y, pred)\n",
    "rmse = np.sqrt(mse)\n",
    "print(rmse)"
   ]
  },
  {
   "cell_type": "code",
   "execution_count": 1,
   "metadata": {},
   "outputs": [
    {
     "ename": "NameError",
     "evalue": "name 'plt' is not defined",
     "output_type": "error",
     "traceback": [
      "\u001b[1;31m---------------------------------------------------------------------------\u001b[0m",
      "\u001b[1;31mNameError\u001b[0m                                 Traceback (most recent call last)",
      "\u001b[1;32m<ipython-input-1-7458c55e5a4a>\u001b[0m in \u001b[0;36m<module>\u001b[1;34m\u001b[0m\n\u001b[0;32m      1\u001b[0m \u001b[1;31m# 特徴量の予測結果への貢献度(Fスコア)を可視化\u001b[0m\u001b[1;33m\u001b[0m\u001b[1;33m\u001b[0m\u001b[1;33m\u001b[0m\u001b[0m\n\u001b[0;32m      2\u001b[0m \u001b[0mfont\u001b[0m \u001b[1;33m=\u001b[0m \u001b[1;33m{\u001b[0m\u001b[1;34m'family'\u001b[0m \u001b[1;33m:\u001b[0m \u001b[1;34m'MS Gothic'\u001b[0m\u001b[1;33m}\u001b[0m \u001b[1;31m# matplotlibのデフォルトフォントをTakaoGothicに設定\u001b[0m\u001b[1;33m\u001b[0m\u001b[1;33m\u001b[0m\u001b[0m\n\u001b[1;32m----> 3\u001b[1;33m \u001b[0mplt\u001b[0m\u001b[1;33m.\u001b[0m\u001b[0mrc\u001b[0m\u001b[1;33m(\u001b[0m\u001b[1;34m'font'\u001b[0m\u001b[1;33m,\u001b[0m \u001b[1;33m**\u001b[0m\u001b[0mfont\u001b[0m\u001b[1;33m)\u001b[0m\u001b[1;33m\u001b[0m\u001b[1;33m\u001b[0m\u001b[0m\n\u001b[0m\u001b[0;32m      4\u001b[0m \u001b[0mxgb\u001b[0m\u001b[1;33m.\u001b[0m\u001b[0mplot_importance\u001b[0m\u001b[1;33m(\u001b[0m\u001b[0mmodel\u001b[0m\u001b[1;33m,\u001b[0m \u001b[0mimportance_type\u001b[0m \u001b[1;33m=\u001b[0m \u001b[1;34m\"gain\"\u001b[0m\u001b[1;33m)\u001b[0m\u001b[1;33m\u001b[0m\u001b[1;33m\u001b[0m\u001b[0m\n\u001b[0;32m      5\u001b[0m \u001b[0mplt\u001b[0m\u001b[1;33m.\u001b[0m\u001b[0mshow\u001b[0m\u001b[1;33m(\u001b[0m\u001b[1;33m)\u001b[0m\u001b[1;33m\u001b[0m\u001b[1;33m\u001b[0m\u001b[0m\n",
      "\u001b[1;31mNameError\u001b[0m: name 'plt' is not defined"
     ]
    }
   ],
   "source": [
    "# 特徴量の予測結果への貢献度(Fスコア)を可視化\n",
    "font = {'family' : 'Meiryo'} # matplotlibのデフォルトフォントをTakaoGothicに設定\n",
    "plt.rc('font', **font)\n",
    "xgb.plot_importance(model, importance_type = \"gain\")\n",
    "plt.show()"
   ]
  },
  {
   "cell_type": "markdown",
   "metadata": {},
   "source": [
    "## 6. 予測"
   ]
  },
  {
   "cell_type": "code",
   "execution_count": 288,
   "metadata": {},
   "outputs": [
    {
     "name": "stderr",
     "output_type": "stream",
     "text": [
      "C:\\ProgramData\\Anaconda3\\lib\\site-packages\\xgboost\\core.py:104: UserWarning: ntree_limit is deprecated, use `iteration_range` or model slicing instead.\n",
      "  UserWarning\n"
     ]
    }
   ],
   "source": [
    "# テストデータでの予測\n",
    "pred = model.predict(dtest, ntree_limit = model.best_ntree_limit)"
   ]
  },
  {
   "cell_type": "code",
   "execution_count": 289,
   "metadata": {},
   "outputs": [
    {
     "data": {
      "text/plain": [
       "array([2502.8154, 5525.3833, 2945.966 , ..., 4449.176 , 3917.3552,\n",
       "       3833.1104], dtype=float32)"
      ]
     },
     "execution_count": 289,
     "metadata": {},
     "output_type": "execute_result"
    }
   ],
   "source": [
    "pred"
   ]
  },
  {
   "cell_type": "code",
   "execution_count": 290,
   "metadata": {},
   "outputs": [
    {
     "data": {
      "text/plain": [
       "24812"
      ]
     },
     "execution_count": 290,
     "metadata": {},
     "output_type": "execute_result"
    }
   ],
   "source": [
    "len(pred)"
   ]
  },
  {
   "cell_type": "code",
   "execution_count": 291,
   "metadata": {},
   "outputs": [
    {
     "data": {
      "text/plain": [
       "24812"
      ]
     },
     "execution_count": 291,
     "metadata": {},
     "output_type": "execute_result"
    }
   ],
   "source": [
    "len(test_data_1)"
   ]
  },
  {
   "cell_type": "markdown",
   "metadata": {},
   "source": [
    "## 7. データ出力"
   ]
  },
  {
   "cell_type": "code",
   "execution_count": 292,
   "metadata": {},
   "outputs": [],
   "source": [
    "# 予測結果の結合\n",
    "test_data_1[\"賃料/面積\"] = pred"
   ]
  },
  {
   "cell_type": "code",
   "execution_count": 293,
   "metadata": {},
   "outputs": [],
   "source": [
    "# 予測結果から賃料を算出し、int型に変換\n",
    "test_data_1[\"賃料\"] = (test_data_1[\"面積m2\"] * test_data_1[\"賃料/面積\"]).astype(int)"
   ]
  },
  {
   "cell_type": "code",
   "execution_count": 294,
   "metadata": {},
   "outputs": [],
   "source": [
    "result = test_data_1[[\"id\", \"賃料\"]]"
   ]
  },
  {
   "cell_type": "code",
   "execution_count": 295,
   "metadata": {},
   "outputs": [
    {
     "data": {
      "text/html": [
       "<div>\n",
       "<style scoped>\n",
       "    .dataframe tbody tr th:only-of-type {\n",
       "        vertical-align: middle;\n",
       "    }\n",
       "\n",
       "    .dataframe tbody tr th {\n",
       "        vertical-align: top;\n",
       "    }\n",
       "\n",
       "    .dataframe thead th {\n",
       "        text-align: right;\n",
       "    }\n",
       "</style>\n",
       "<table border=\"1\" class=\"dataframe\">\n",
       "  <thead>\n",
       "    <tr style=\"text-align: right;\">\n",
       "      <th></th>\n",
       "      <th>id</th>\n",
       "      <th>賃料</th>\n",
       "    </tr>\n",
       "  </thead>\n",
       "  <tbody>\n",
       "    <tr>\n",
       "      <th>0</th>\n",
       "      <td>31471</td>\n",
       "      <td>125691</td>\n",
       "    </tr>\n",
       "    <tr>\n",
       "      <th>1</th>\n",
       "      <td>31472</td>\n",
       "      <td>115370</td>\n",
       "    </tr>\n",
       "    <tr>\n",
       "      <th>2</th>\n",
       "      <td>31473</td>\n",
       "      <td>79334</td>\n",
       "    </tr>\n",
       "    <tr>\n",
       "      <th>3</th>\n",
       "      <td>31474</td>\n",
       "      <td>63686</td>\n",
       "    </tr>\n",
       "    <tr>\n",
       "      <th>5</th>\n",
       "      <td>31476</td>\n",
       "      <td>68948</td>\n",
       "    </tr>\n",
       "    <tr>\n",
       "      <th>...</th>\n",
       "      <td>...</td>\n",
       "      <td>...</td>\n",
       "    </tr>\n",
       "    <tr>\n",
       "      <th>31255</th>\n",
       "      <td>62726</td>\n",
       "      <td>107802</td>\n",
       "    </tr>\n",
       "    <tr>\n",
       "      <th>31257</th>\n",
       "      <td>62728</td>\n",
       "      <td>105637</td>\n",
       "    </tr>\n",
       "    <tr>\n",
       "      <th>31258</th>\n",
       "      <td>62729</td>\n",
       "      <td>101040</td>\n",
       "    </tr>\n",
       "    <tr>\n",
       "      <th>31259</th>\n",
       "      <td>62730</td>\n",
       "      <td>179258</td>\n",
       "    </tr>\n",
       "    <tr>\n",
       "      <th>31261</th>\n",
       "      <td>62732</td>\n",
       "      <td>81185</td>\n",
       "    </tr>\n",
       "  </tbody>\n",
       "</table>\n",
       "<p>24812 rows × 2 columns</p>\n",
       "</div>"
      ],
      "text/plain": [
       "          id      賃料\n",
       "0      31471  125691\n",
       "1      31472  115370\n",
       "2      31473   79334\n",
       "3      31474   63686\n",
       "5      31476   68948\n",
       "...      ...     ...\n",
       "31255  62726  107802\n",
       "31257  62728  105637\n",
       "31258  62729  101040\n",
       "31259  62730  179258\n",
       "31261  62732   81185\n",
       "\n",
       "[24812 rows x 2 columns]"
      ]
     },
     "execution_count": 295,
     "metadata": {},
     "output_type": "execute_result"
    }
   ],
   "source": [
    "result"
   ]
  },
  {
   "cell_type": "code",
   "execution_count": 296,
   "metadata": {},
   "outputs": [
    {
     "data": {
      "text/plain": [
       "24812"
      ]
     },
     "execution_count": 296,
     "metadata": {},
     "output_type": "execute_result"
    }
   ],
   "source": [
    "len(result)"
   ]
  },
  {
   "cell_type": "code",
   "execution_count": 297,
   "metadata": {},
   "outputs": [
    {
     "data": {
      "text/plain": [
       "31262"
      ]
     },
     "execution_count": 297,
     "metadata": {},
     "output_type": "execute_result"
    }
   ],
   "source": [
    "# 除外していた重複idの賃料を戻す\n",
    "test_duplicate_rentvalue = pd.read_excel(\"test_duplicate_rentvalue.xlsx\")\n",
    "result = pd.concat([result, test_duplicate_rentvalue])\n",
    "result = result.sort_values(\"id\")\n",
    "len(result)"
   ]
  },
  {
   "cell_type": "code",
   "execution_count": 298,
   "metadata": {},
   "outputs": [
    {
     "data": {
      "text/html": [
       "<div>\n",
       "<style scoped>\n",
       "    .dataframe tbody tr th:only-of-type {\n",
       "        vertical-align: middle;\n",
       "    }\n",
       "\n",
       "    .dataframe tbody tr th {\n",
       "        vertical-align: top;\n",
       "    }\n",
       "\n",
       "    .dataframe thead th {\n",
       "        text-align: right;\n",
       "    }\n",
       "</style>\n",
       "<table border=\"1\" class=\"dataframe\">\n",
       "  <thead>\n",
       "    <tr style=\"text-align: right;\">\n",
       "      <th></th>\n",
       "      <th>id</th>\n",
       "      <th>賃料</th>\n",
       "    </tr>\n",
       "  </thead>\n",
       "  <tbody>\n",
       "    <tr>\n",
       "      <th>0</th>\n",
       "      <td>31471</td>\n",
       "      <td>125691</td>\n",
       "    </tr>\n",
       "    <tr>\n",
       "      <th>1</th>\n",
       "      <td>31472</td>\n",
       "      <td>115370</td>\n",
       "    </tr>\n",
       "    <tr>\n",
       "      <th>2</th>\n",
       "      <td>31473</td>\n",
       "      <td>79334</td>\n",
       "    </tr>\n",
       "    <tr>\n",
       "      <th>3</th>\n",
       "      <td>31474</td>\n",
       "      <td>63686</td>\n",
       "    </tr>\n",
       "    <tr>\n",
       "      <th>0</th>\n",
       "      <td>31475</td>\n",
       "      <td>90000</td>\n",
       "    </tr>\n",
       "    <tr>\n",
       "      <th>...</th>\n",
       "      <td>...</td>\n",
       "      <td>...</td>\n",
       "    </tr>\n",
       "    <tr>\n",
       "      <th>31257</th>\n",
       "      <td>62728</td>\n",
       "      <td>105637</td>\n",
       "    </tr>\n",
       "    <tr>\n",
       "      <th>31258</th>\n",
       "      <td>62729</td>\n",
       "      <td>101040</td>\n",
       "    </tr>\n",
       "    <tr>\n",
       "      <th>31259</th>\n",
       "      <td>62730</td>\n",
       "      <td>179258</td>\n",
       "    </tr>\n",
       "    <tr>\n",
       "      <th>6449</th>\n",
       "      <td>62731</td>\n",
       "      <td>280000</td>\n",
       "    </tr>\n",
       "    <tr>\n",
       "      <th>31261</th>\n",
       "      <td>62732</td>\n",
       "      <td>81185</td>\n",
       "    </tr>\n",
       "  </tbody>\n",
       "</table>\n",
       "<p>31262 rows × 2 columns</p>\n",
       "</div>"
      ],
      "text/plain": [
       "          id      賃料\n",
       "0      31471  125691\n",
       "1      31472  115370\n",
       "2      31473   79334\n",
       "3      31474   63686\n",
       "0      31475   90000\n",
       "...      ...     ...\n",
       "31257  62728  105637\n",
       "31258  62729  101040\n",
       "31259  62730  179258\n",
       "6449   62731  280000\n",
       "31261  62732   81185\n",
       "\n",
       "[31262 rows x 2 columns]"
      ]
     },
     "execution_count": 298,
     "metadata": {},
     "output_type": "execute_result"
    }
   ],
   "source": [
    "result"
   ]
  },
  {
   "cell_type": "code",
   "execution_count": 299,
   "metadata": {},
   "outputs": [],
   "source": [
    "result.to_csv(\"result.csv\", header=False, index=False)"
   ]
  },
  {
   "cell_type": "code",
   "execution_count": null,
   "metadata": {},
   "outputs": [],
   "source": []
  }
 ],
 "metadata": {
  "kernelspec": {
   "display_name": "Python 3",
   "language": "python",
   "name": "python3"
  },
  "language_info": {
   "codemirror_mode": {
    "name": "ipython",
    "version": 3
   },
   "file_extension": ".py",
   "mimetype": "text/x-python",
   "name": "python",
   "nbconvert_exporter": "python",
   "pygments_lexer": "ipython3",
   "version": "3.7.3"
  }
 },
 "nbformat": 4,
 "nbformat_minor": 4
}
