{
 "cells": [
  {
   "cell_type": "markdown",
   "metadata": {},
   "source": [
    "# [【SOTA】マイナビ × SIGNATE Student Cup 2019: 賃貸物件の家賃予測](https://signate.jp/competitions/264)"
   ]
  },
  {
   "cell_type": "markdown",
   "metadata": {},
   "source": [
    "## 1. データ読み込み"
   ]
  },
  {
   "cell_type": "code",
   "execution_count": 1,
   "metadata": {},
   "outputs": [],
   "source": [
    "import pandas as pd\n",
    "import numpy as np\n",
    "import pathlib\n",
    "import os\n",
    "\n",
    "# 学習データ、テストデータの読み込み\n",
    "train_path = pathlib.Path(\"./DATA/train.csv\")\n",
    "test_path = pathlib.Path(\"./DATA/test.csv\")\n",
    "\n",
    "train_data = pd.read_csv(train_path)\n",
    "test_data = pd.read_csv(test_path)"
   ]
  },
  {
   "cell_type": "code",
   "execution_count": 2,
   "metadata": {},
   "outputs": [
    {
     "data": {
      "text/html": [
       "<div>\n",
       "<style scoped>\n",
       "    .dataframe tbody tr th:only-of-type {\n",
       "        vertical-align: middle;\n",
       "    }\n",
       "\n",
       "    .dataframe tbody tr th {\n",
       "        vertical-align: top;\n",
       "    }\n",
       "\n",
       "    .dataframe thead th {\n",
       "        text-align: right;\n",
       "    }\n",
       "</style>\n",
       "<table border=\"1\" class=\"dataframe\">\n",
       "  <thead>\n",
       "    <tr style=\"text-align: right;\">\n",
       "      <th></th>\n",
       "      <th>id</th>\n",
       "      <th>所在地</th>\n",
       "      <th>アクセス</th>\n",
       "      <th>間取り</th>\n",
       "      <th>築年数</th>\n",
       "      <th>方角</th>\n",
       "      <th>面積</th>\n",
       "      <th>所在階</th>\n",
       "      <th>バス・トイレ</th>\n",
       "      <th>キッチン</th>\n",
       "      <th>放送・通信</th>\n",
       "      <th>室内設備</th>\n",
       "      <th>駐車場</th>\n",
       "      <th>周辺環境</th>\n",
       "      <th>建物構造</th>\n",
       "      <th>契約期間</th>\n",
       "    </tr>\n",
       "  </thead>\n",
       "  <tbody>\n",
       "    <tr>\n",
       "      <th>0</th>\n",
       "      <td>31471</td>\n",
       "      <td>東京都世田谷区深沢５丁目1-27</td>\n",
       "      <td>東急大井町線\\t等々力駅\\t徒歩15分\\t\\t東急田園都市線\\t桜新町駅\\t徒歩24分\\t\\...</td>\n",
       "      <td>2LDK</td>\n",
       "      <td>49年0ヶ月</td>\n",
       "      <td>南</td>\n",
       "      <td>50.22m2</td>\n",
       "      <td>8階／8階建</td>\n",
       "      <td>専用バス／\\t専用トイレ／\\tバス・トイレ別／\\tシャワー／\\t追焚機能／\\t温水洗浄便座／...</td>\n",
       "      <td>ガスコンロ／\\tコンロ3口／\\tシステムキッチン\\t／\\t給湯／\\tL字キッチン</td>\n",
       "      <td>インターネット対応</td>\n",
       "      <td>エアコン付\\tシューズボックス／\\tバルコニー／\\tフローリング／\\tエレベーター\\t公営水...</td>\n",
       "      <td>駐輪場\\t空有\\t駐車場\\t無\\tバイク置き場\\t無</td>\n",
       "      <td>【コンビニ】 74m\\t【スーパー】 215m\\t【病院】 313m\\t【小学校】 219m...</td>\n",
       "      <td>鉄骨造</td>\n",
       "      <td>NaN</td>\n",
       "    </tr>\n",
       "    <tr>\n",
       "      <th>1</th>\n",
       "      <td>31472</td>\n",
       "      <td>東京都目黒区八雲１丁目11-8</td>\n",
       "      <td>東急東横線\\t都立大学駅\\t徒歩6分\\t\\t東急東横線\\t自由が丘駅\\t徒歩17分\\t\\t東...</td>\n",
       "      <td>1R</td>\n",
       "      <td>0年2ヶ月</td>\n",
       "      <td>南東</td>\n",
       "      <td>20.88m2</td>\n",
       "      <td>3階／4階建</td>\n",
       "      <td>専用バス／\\t専用トイレ／\\tバス・トイレ別／\\tシャワー／\\t浴室乾燥機\\t／\\t温水洗浄...</td>\n",
       "      <td>ガスコンロ／\\tコンロ2口／\\tシステムキッチン\\t／\\t給湯</td>\n",
       "      <td>インターネット対応／\\tCSアンテナ／\\tBSアンテナ／\\tインターネット使用料無料</td>\n",
       "      <td>エアコン付\\tシューズボックス／\\tフローリング／\\t室内洗濯機置場\\t公営水道／\\t下水／...</td>\n",
       "      <td>駐車場\\t近隣\\t34,000円(税込)\\t距離200m\\t駐輪場\\t無\\tバイク置き場\\t無</td>\n",
       "      <td>【スーパー】 128m\\t【スーパー】 313m\\t【コンビニ】 374m\\t【コンビニ】 ...</td>\n",
       "      <td>RC（鉄筋コンクリート）</td>\n",
       "      <td>2年間</td>\n",
       "    </tr>\n",
       "    <tr>\n",
       "      <th>2</th>\n",
       "      <td>31473</td>\n",
       "      <td>東京都豊島区池袋本町２丁目22-2</td>\n",
       "      <td>東武東上線\\t北池袋駅\\t徒歩10分\\t\\t埼京線\\t板橋駅\\t徒歩16分\\t\\t山手線\\t...</td>\n",
       "      <td>1K</td>\n",
       "      <td>23年4ヶ月</td>\n",
       "      <td>南東</td>\n",
       "      <td>26.93m2</td>\n",
       "      <td>1階／4階建</td>\n",
       "      <td>専用バス／\\t専用トイレ／\\tバス・トイレ別／\\tシャワー／\\t温水洗浄便座</td>\n",
       "      <td>ガスコンロ／\\t給湯</td>\n",
       "      <td>インターネット対応／\\t光ファイバー／\\tCATV</td>\n",
       "      <td>エアコン付\\tシューズボックス／\\tバルコニー／\\tフローリング／\\t2面採光／\\t室内洗濯...</td>\n",
       "      <td>駐車場\\t空有\\t5,000円(税込)\\t(敷金あり\\t1ヶ月)\\t駐輪場\\t空有\\tバイク...</td>\n",
       "      <td>【スーパー】 529m\\t【スーパー】 810m\\t【コンビニ】 316m\\t【コンビニ】 ...</td>\n",
       "      <td>鉄骨造</td>\n",
       "      <td>2年間</td>\n",
       "    </tr>\n",
       "    <tr>\n",
       "      <th>3</th>\n",
       "      <td>31474</td>\n",
       "      <td>東京都杉並区和泉１丁目</td>\n",
       "      <td>丸ノ内線(中野坂上－方南町)\\t方南町駅\\t徒歩10分\\t\\t京王線\\t代田橋駅\\t徒歩8分...</td>\n",
       "      <td>1K</td>\n",
       "      <td>36年2ヶ月</td>\n",
       "      <td>南東</td>\n",
       "      <td>23.57m2</td>\n",
       "      <td>1階／2階建</td>\n",
       "      <td>シャワー</td>\n",
       "      <td>ガスコンロ／\\t給湯</td>\n",
       "      <td>NaN</td>\n",
       "      <td>エアコン付\\tシューズボックス／\\t2面採光／\\t室外洗濯機置場\\t公営水道／\\t下水／\\t...</td>\n",
       "      <td>駐輪場\\t空有\\t0円</td>\n",
       "      <td>【スーパー】 286m\\t【スーパー】 702m\\t【コンビニ】 489m\\t【コンビニ】 ...</td>\n",
       "      <td>木造</td>\n",
       "      <td>2年間</td>\n",
       "    </tr>\n",
       "    <tr>\n",
       "      <th>4</th>\n",
       "      <td>31475</td>\n",
       "      <td>東京都杉並区堀ノ内２丁目</td>\n",
       "      <td>丸ノ内線(中野坂上－方南町)\\t方南町駅\\t徒歩12分\\t\\t丸ノ内線(池袋－荻窪)\\t新高...</td>\n",
       "      <td>2LDK</td>\n",
       "      <td>45年4ヶ月</td>\n",
       "      <td>南</td>\n",
       "      <td>50m2</td>\n",
       "      <td>4階／4階建</td>\n",
       "      <td>専用バス／\\t専用トイレ／\\tバス・トイレ別</td>\n",
       "      <td>コンロ設置可（口数不明）／\\t給湯</td>\n",
       "      <td>インターネット対応</td>\n",
       "      <td>冷房／\\tエアコン付\\tシューズボックス／\\tバルコニー／\\tフローリング／\\t室内洗濯機置...</td>\n",
       "      <td>駐車場\\t近隣\\t22,600円\\t距離177m</td>\n",
       "      <td>【コンビニ】 312m\\t【コンビニ】 436m\\t【スーパー】 902m\\t【コンビニ】 ...</td>\n",
       "      <td>RC（鉄筋コンクリート）</td>\n",
       "      <td>2年間</td>\n",
       "    </tr>\n",
       "  </tbody>\n",
       "</table>\n",
       "</div>"
      ],
      "text/plain": [
       "      id                所在地  \\\n",
       "0  31471   東京都世田谷区深沢５丁目1-27   \n",
       "1  31472    東京都目黒区八雲１丁目11-8   \n",
       "2  31473  東京都豊島区池袋本町２丁目22-2   \n",
       "3  31474        東京都杉並区和泉１丁目   \n",
       "4  31475       東京都杉並区堀ノ内２丁目   \n",
       "\n",
       "                                                アクセス   間取り     築年数  方角  \\\n",
       "0  東急大井町線\\t等々力駅\\t徒歩15分\\t\\t東急田園都市線\\t桜新町駅\\t徒歩24分\\t\\...  2LDK  49年0ヶ月   南   \n",
       "1  東急東横線\\t都立大学駅\\t徒歩6分\\t\\t東急東横線\\t自由が丘駅\\t徒歩17分\\t\\t東...    1R   0年2ヶ月  南東   \n",
       "2  東武東上線\\t北池袋駅\\t徒歩10分\\t\\t埼京線\\t板橋駅\\t徒歩16分\\t\\t山手線\\t...    1K  23年4ヶ月  南東   \n",
       "3  丸ノ内線(中野坂上－方南町)\\t方南町駅\\t徒歩10分\\t\\t京王線\\t代田橋駅\\t徒歩8分...    1K  36年2ヶ月  南東   \n",
       "4  丸ノ内線(中野坂上－方南町)\\t方南町駅\\t徒歩12分\\t\\t丸ノ内線(池袋－荻窪)\\t新高...  2LDK  45年4ヶ月   南   \n",
       "\n",
       "        面積     所在階                                             バス・トイレ  \\\n",
       "0  50.22m2  8階／8階建  専用バス／\\t専用トイレ／\\tバス・トイレ別／\\tシャワー／\\t追焚機能／\\t温水洗浄便座／...   \n",
       "1  20.88m2  3階／4階建  専用バス／\\t専用トイレ／\\tバス・トイレ別／\\tシャワー／\\t浴室乾燥機\\t／\\t温水洗浄...   \n",
       "2  26.93m2  1階／4階建             専用バス／\\t専用トイレ／\\tバス・トイレ別／\\tシャワー／\\t温水洗浄便座   \n",
       "3  23.57m2  1階／2階建                                               シャワー   \n",
       "4     50m2  4階／4階建                             専用バス／\\t専用トイレ／\\tバス・トイレ別   \n",
       "\n",
       "                                       キッチン  \\\n",
       "0  ガスコンロ／\\tコンロ3口／\\tシステムキッチン\\t／\\t給湯／\\tL字キッチン   \n",
       "1           ガスコンロ／\\tコンロ2口／\\tシステムキッチン\\t／\\t給湯   \n",
       "2                                ガスコンロ／\\t給湯   \n",
       "3                                ガスコンロ／\\t給湯   \n",
       "4                         コンロ設置可（口数不明）／\\t給湯   \n",
       "\n",
       "                                        放送・通信  \\\n",
       "0                                   インターネット対応   \n",
       "1  インターネット対応／\\tCSアンテナ／\\tBSアンテナ／\\tインターネット使用料無料   \n",
       "2                   インターネット対応／\\t光ファイバー／\\tCATV   \n",
       "3                                         NaN   \n",
       "4                                   インターネット対応   \n",
       "\n",
       "                                                室内設備  \\\n",
       "0  エアコン付\\tシューズボックス／\\tバルコニー／\\tフローリング／\\tエレベーター\\t公営水...   \n",
       "1  エアコン付\\tシューズボックス／\\tフローリング／\\t室内洗濯機置場\\t公営水道／\\t下水／...   \n",
       "2  エアコン付\\tシューズボックス／\\tバルコニー／\\tフローリング／\\t2面採光／\\t室内洗濯...   \n",
       "3  エアコン付\\tシューズボックス／\\t2面採光／\\t室外洗濯機置場\\t公営水道／\\t下水／\\t...   \n",
       "4  冷房／\\tエアコン付\\tシューズボックス／\\tバルコニー／\\tフローリング／\\t室内洗濯機置...   \n",
       "\n",
       "                                                 駐車場  \\\n",
       "0                         駐輪場\\t空有\\t駐車場\\t無\\tバイク置き場\\t無   \n",
       "1    駐車場\\t近隣\\t34,000円(税込)\\t距離200m\\t駐輪場\\t無\\tバイク置き場\\t無   \n",
       "2  駐車場\\t空有\\t5,000円(税込)\\t(敷金あり\\t1ヶ月)\\t駐輪場\\t空有\\tバイク...   \n",
       "3                                        駐輪場\\t空有\\t0円   \n",
       "4                           駐車場\\t近隣\\t22,600円\\t距離177m   \n",
       "\n",
       "                                                周辺環境          建物構造 契約期間  \n",
       "0  【コンビニ】 74m\\t【スーパー】 215m\\t【病院】 313m\\t【小学校】 219m...           鉄骨造  NaN  \n",
       "1  【スーパー】 128m\\t【スーパー】 313m\\t【コンビニ】 374m\\t【コンビニ】 ...  RC（鉄筋コンクリート）  2年間  \n",
       "2  【スーパー】 529m\\t【スーパー】 810m\\t【コンビニ】 316m\\t【コンビニ】 ...           鉄骨造  2年間  \n",
       "3  【スーパー】 286m\\t【スーパー】 702m\\t【コンビニ】 489m\\t【コンビニ】 ...            木造  2年間  \n",
       "4  【コンビニ】 312m\\t【コンビニ】 436m\\t【スーパー】 902m\\t【コンビニ】 ...  RC（鉄筋コンクリート）  2年間  "
      ]
     },
     "execution_count": 2,
     "metadata": {},
     "output_type": "execute_result"
    }
   ],
   "source": [
    "test_data.head()"
   ]
  },
  {
   "cell_type": "markdown",
   "metadata": {},
   "source": [
    "## 2. 前処理"
   ]
  },
  {
   "cell_type": "markdown",
   "metadata": {},
   "source": [
    "### 2.1. データ選択"
   ]
  },
  {
   "cell_type": "code",
   "execution_count": 3,
   "metadata": {},
   "outputs": [],
   "source": [
    "# 簡単な前処理\n",
    "train_data_1 = train_data[[\"id\", \"賃料\", \"間取り\", \"築年数\", \"面積\", \"所在階\"]]\n",
    "test_data_1 = test_data[[\"id\", \"間取り\", \"築年数\", \"面積\", \"所在階\"]]"
   ]
  },
  {
   "cell_type": "markdown",
   "metadata": {},
   "source": [
    "### 2.2. 間取りの数値化"
   ]
  },
  {
   "cell_type": "code",
   "execution_count": 4,
   "metadata": {
    "collapsed": true,
    "jupyter": {
     "outputs_hidden": true
    }
   },
   "outputs": [
    {
     "name": "stderr",
     "output_type": "stream",
     "text": [
      "<ipython-input-4-95a8caebc059>:7: SettingWithCopyWarning: \n",
      "A value is trying to be set on a copy of a slice from a DataFrame.\n",
      "Try using .loc[row_indexer,col_indexer] = value instead\n",
      "\n",
      "See the caveats in the documentation: https://pandas.pydata.org/pandas-docs/stable/user_guide/indexing.html#returning-a-view-versus-a-copy\n",
      "  train_data_1[\"間取りID\"] = le.transform(train_data_1[\"間取り\"])\n",
      "<ipython-input-4-95a8caebc059>:8: SettingWithCopyWarning: \n",
      "A value is trying to be set on a copy of a slice from a DataFrame.\n",
      "Try using .loc[row_indexer,col_indexer] = value instead\n",
      "\n",
      "See the caveats in the documentation: https://pandas.pydata.org/pandas-docs/stable/user_guide/indexing.html#returning-a-view-versus-a-copy\n",
      "  test_data_1[\"間取りID\"] = le.transform(test_data_1[\"間取り\"])\n"
     ]
    }
   ],
   "source": [
    "# 間取りにlabel encodingを適用\n",
    "from sklearn.preprocessing import LabelEncoder\n",
    "\n",
    "le = LabelEncoder()\n",
    "le.fit(pd.concat([train_data_1[\"間取り\"],test_data_1[\"間取り\"]]))\n",
    "\n",
    "train_data_1[\"間取りID\"] = le.transform(train_data_1[\"間取り\"])\n",
    "test_data_1[\"間取りID\"] = le.transform(test_data_1[\"間取り\"])"
   ]
  },
  {
   "cell_type": "markdown",
   "metadata": {},
   "source": [
    "### 2.3. 面積の数値化"
   ]
  },
  {
   "cell_type": "code",
   "execution_count": 5,
   "metadata": {},
   "outputs": [],
   "source": [
    "# 面積のカラムタイトルを面積[m2]に置換\n",
    "train_data_1 = train_data_1.rename(columns={\"面積\": \"面積m2\"})\n",
    "test_data_1 = test_data_1.rename(columns={\"面積\": \"面積m2\"})"
   ]
  },
  {
   "cell_type": "code",
   "execution_count": 6,
   "metadata": {},
   "outputs": [],
   "source": [
    "# カラムタイトル面積[m2]の要素からm2を削除\n",
    "train_data_1['面積m2'] = train_data_1['面積m2'].str.replace('m2', '').astype(float)\n",
    "test_data_1['面積m2'] = test_data_1['面積m2'].str.replace('m2', '').astype(float)"
   ]
  },
  {
   "cell_type": "markdown",
   "metadata": {},
   "source": [
    "### 2.4. 所在階の数値化"
   ]
  },
  {
   "cell_type": "code",
   "execution_count": 7,
   "metadata": {},
   "outputs": [],
   "source": [
    "# 所在階の中身を\"／\"で2つの列に分割\n",
    "train_data_1 = pd.concat([train_data_1, train_data_1['所在階'].str.split('／', expand=True)], axis=1)\n",
    "test_data_1 = pd.concat([test_data_1, test_data_1['所在階'].str.split('／', expand=True)], axis=1)"
   ]
  },
  {
   "cell_type": "code",
   "execution_count": 8,
   "metadata": {},
   "outputs": [],
   "source": [
    "# 分割した所在階のカラム名変更　0:所在、1:階層\n",
    "train_data_1 = train_data_1.rename(columns={0:\"所在\", 1:\"階層\"})\n",
    "test_data_1 = test_data_1.rename(columns={0:\"所在\", 1:\"階層\"})"
   ]
  },
  {
   "cell_type": "code",
   "execution_count": 9,
   "metadata": {},
   "outputs": [],
   "source": [
    "# 所在と階層の要素を整形\n",
    "train_data_1['所在'] = train_data_1['所在'].str.replace('階', '')\n",
    "train_data_1['所在'] = train_data_1['所在'].str.replace('建', '')\n",
    "train_data_1['所在'] = train_data_1['所在'].str.replace('地下', '-')\n",
    "train_data_1['所在'] = train_data_1['所在'].str.replace('\\（.*\\）', '', regex=True)\n",
    "train_data_1['階層'] = train_data_1['階層'].str.replace('階建', '')\n",
    "train_data_1['階層'] = train_data_1['階層'].str.replace('\\（.*\\）', '', regex=True)\n",
    "train_data_1['所在'] = train_data_1['所在'].replace('', np.nan)\n",
    "\n",
    "test_data_1['所在'] = test_data_1['所在'].str.replace('階', '')\n",
    "test_data_1['所在'] = test_data_1['所在'].str.replace('建', '')\n",
    "test_data_1['所在'] = test_data_1['所在'].str.replace('地下', '-')\n",
    "test_data_1['所在'] = test_data_1['所在'].str.replace('\\（.*\\）', '', regex=True)\n",
    "test_data_1['階層'] = test_data_1['階層'].str.replace('階建', '')\n",
    "test_data_1['階層'] = test_data_1['階層'].str.replace('\\（.*\\）', '', regex=True)\n",
    "test_data_1['所在'] = test_data_1['所在'].replace('', np.nan)"
   ]
  },
  {
   "cell_type": "code",
   "execution_count": 10,
   "metadata": {},
   "outputs": [],
   "source": [
    "# \"階層\"がNoneの箇所を\"所在\"の値で埋める\n",
    "train_data_1['階層'].fillna(train_data_1['所在'], inplace=True)\n",
    "test_data_1['階層'].fillna(test_data_1['所在'], inplace=True)"
   ]
  },
  {
   "cell_type": "code",
   "execution_count": 11,
   "metadata": {},
   "outputs": [],
   "source": [
    "# 所在と階層の要素をfloat型に変換する\n",
    "train_data_1['所在'] = train_data_1['所在'].astype(float)\n",
    "train_data_1['階層'] = train_data_1['階層'].astype(float)\n",
    "\n",
    "test_data_1['所在'] = test_data_1['所在'].astype(float)\n",
    "test_data_1['階層'] = test_data_1['階層'].astype(float)"
   ]
  },
  {
   "cell_type": "code",
   "execution_count": 12,
   "metadata": {},
   "outputs": [],
   "source": [
    "# 間取りと所在階のカラムを削除\n",
    "train_data_1 = train_data_1.drop('間取り', axis=1)\n",
    "train_data_1 = train_data_1.drop('所在階', axis=1)\n",
    "\n",
    "test_data_1 = test_data_1.drop('間取り', axis=1)\n",
    "test_data_1 = test_data_1.drop('所在階', axis=1)"
   ]
  },
  {
   "cell_type": "markdown",
   "metadata": {},
   "source": [
    "### 2.5. 築年数の数値化"
   ]
  },
  {
   "cell_type": "code",
   "execution_count": 13,
   "metadata": {},
   "outputs": [],
   "source": [
    "# 新築の場合は全て0にする\n",
    "train_data_1.loc[train_data_1[\"築年数\"]==\"新築\", \"築年数\"] = float(0)\n",
    "test_data_1.loc[test_data_1[\"築年数\"]==\"新築\", \"築年数\"] = float(0)"
   ]
  },
  {
   "cell_type": "code",
   "execution_count": 14,
   "metadata": {},
   "outputs": [],
   "source": [
    "# 築年数を数値に変換する\n",
    "train_data_1 = pd.concat([train_data_1, train_data_1['築年数'].str.split('年', expand=True)], axis=1)\n",
    "test_data_1 = pd.concat([test_data_1, test_data_1['築年数'].str.split('年', expand=True)], axis=1)"
   ]
  },
  {
   "cell_type": "code",
   "execution_count": 15,
   "metadata": {},
   "outputs": [],
   "source": [
    "# ヶ月を消す\n",
    "train_data_1[1] = train_data_1[1].str.replace('ヶ月', '')\n",
    "test_data_1[1] = test_data_1[1].str.replace('ヶ月', '')"
   ]
  },
  {
   "cell_type": "code",
   "execution_count": 16,
   "metadata": {},
   "outputs": [],
   "source": [
    "test = train_data_1"
   ]
  },
  {
   "cell_type": "code",
   "execution_count": 17,
   "metadata": {},
   "outputs": [],
   "source": [
    "# 築年数をfloat変換\n",
    "train_data_1[\"築年数\"] = train_data_1[0].astype(float) + (train_data_1[1].astype(float) / float(10))\n",
    "test_data_1[\"築年数\"] = test_data_1[0].astype(float) + (test_data_1[1].astype(float) / float(10))"
   ]
  },
  {
   "cell_type": "code",
   "execution_count": 18,
   "metadata": {},
   "outputs": [
    {
     "data": {
      "text/html": [
       "<div>\n",
       "<style scoped>\n",
       "    .dataframe tbody tr th:only-of-type {\n",
       "        vertical-align: middle;\n",
       "    }\n",
       "\n",
       "    .dataframe tbody tr th {\n",
       "        vertical-align: top;\n",
       "    }\n",
       "\n",
       "    .dataframe thead th {\n",
       "        text-align: right;\n",
       "    }\n",
       "</style>\n",
       "<table border=\"1\" class=\"dataframe\">\n",
       "  <thead>\n",
       "    <tr style=\"text-align: right;\">\n",
       "      <th></th>\n",
       "      <th>id</th>\n",
       "      <th>築年数</th>\n",
       "      <th>面積m2</th>\n",
       "      <th>間取りID</th>\n",
       "      <th>所在</th>\n",
       "      <th>階層</th>\n",
       "      <th>0</th>\n",
       "      <th>1</th>\n",
       "    </tr>\n",
       "  </thead>\n",
       "  <tbody>\n",
       "    <tr>\n",
       "      <th>0</th>\n",
       "      <td>31471</td>\n",
       "      <td>49.0</td>\n",
       "      <td>50.22</td>\n",
       "      <td>14</td>\n",
       "      <td>8.0</td>\n",
       "      <td>8.0</td>\n",
       "      <td>49</td>\n",
       "      <td>0</td>\n",
       "    </tr>\n",
       "    <tr>\n",
       "      <th>1</th>\n",
       "      <td>31472</td>\n",
       "      <td>0.2</td>\n",
       "      <td>20.88</td>\n",
       "      <td>9</td>\n",
       "      <td>3.0</td>\n",
       "      <td>4.0</td>\n",
       "      <td>0</td>\n",
       "      <td>2</td>\n",
       "    </tr>\n",
       "    <tr>\n",
       "      <th>2</th>\n",
       "      <td>31473</td>\n",
       "      <td>23.4</td>\n",
       "      <td>26.93</td>\n",
       "      <td>3</td>\n",
       "      <td>1.0</td>\n",
       "      <td>4.0</td>\n",
       "      <td>23</td>\n",
       "      <td>4</td>\n",
       "    </tr>\n",
       "    <tr>\n",
       "      <th>3</th>\n",
       "      <td>31474</td>\n",
       "      <td>36.2</td>\n",
       "      <td>23.57</td>\n",
       "      <td>3</td>\n",
       "      <td>1.0</td>\n",
       "      <td>2.0</td>\n",
       "      <td>36</td>\n",
       "      <td>2</td>\n",
       "    </tr>\n",
       "    <tr>\n",
       "      <th>4</th>\n",
       "      <td>31475</td>\n",
       "      <td>45.4</td>\n",
       "      <td>50.00</td>\n",
       "      <td>14</td>\n",
       "      <td>4.0</td>\n",
       "      <td>4.0</td>\n",
       "      <td>45</td>\n",
       "      <td>4</td>\n",
       "    </tr>\n",
       "  </tbody>\n",
       "</table>\n",
       "</div>"
      ],
      "text/plain": [
       "      id   築年数   面積m2  間取りID   所在   階層   0  1\n",
       "0  31471  49.0  50.22     14  8.0  8.0  49  0\n",
       "1  31472   0.2  20.88      9  3.0  4.0   0  2\n",
       "2  31473  23.4  26.93      3  1.0  4.0  23  4\n",
       "3  31474  36.2  23.57      3  1.0  2.0  36  2\n",
       "4  31475  45.4  50.00     14  4.0  4.0  45  4"
      ]
     },
     "execution_count": 18,
     "metadata": {},
     "output_type": "execute_result"
    }
   ],
   "source": [
    "test_data_1.head()"
   ]
  },
  {
   "cell_type": "code",
   "execution_count": 19,
   "metadata": {},
   "outputs": [
    {
     "name": "stdout",
     "output_type": "stream",
     "text": [
      "          id  築年数   面積m2  間取りID   所在    階層    0    1\n",
      "77     31548  NaN  23.80      4  2.0   3.0  NaN  NaN\n",
      "108    31579  NaN  26.44      3  7.0  13.0  NaN  NaN\n",
      "112    31583  NaN  41.65      5  3.0  10.0  NaN  NaN\n",
      "156    31627  NaN  20.56      9  3.0  12.0  NaN  NaN\n",
      "162    31633  NaN  25.34      3  1.0   8.0  NaN  NaN\n",
      "...      ...  ...    ...    ...  ...   ...  ...  ...\n",
      "31141  62612  NaN  60.81     14  2.0   2.0  NaN  NaN\n",
      "31176  62647  NaN  40.06      5  3.0  10.0  NaN  NaN\n",
      "31181  62652  NaN  40.26      5  2.0   3.0  NaN  NaN\n",
      "31182  62653  NaN  54.75     14  1.0   3.0  NaN  NaN\n",
      "31212  62683  NaN  40.79      5  2.0   3.0  NaN  NaN\n",
      "\n",
      "[850 rows x 8 columns]\n"
     ]
    }
   ],
   "source": [
    "print(test_data_1[test_data_1[\"築年数\"].isnull()])"
   ]
  },
  {
   "cell_type": "code",
   "execution_count": 20,
   "metadata": {},
   "outputs": [],
   "source": [
    "# 0と1の列を消す\n",
    "train_data_1 = train_data_1.drop(0, axis=1)\n",
    "train_data_1 = train_data_1.drop(1, axis=1)\n",
    "\n",
    "test_data_1 = test_data_1.drop(0, axis=1)\n",
    "test_data_1 = test_data_1.drop(1, axis=1)"
   ]
  },
  {
   "cell_type": "markdown",
   "metadata": {},
   "source": [
    "### 2.6. 緯度経度情報の追加"
   ]
  },
  {
   "cell_type": "markdown",
   "metadata": {},
   "source": [
    "#### [このサイト](https://ktgis.net/gcode/geocoding.html)を利用する"
   ]
  },
  {
   "cell_type": "code",
   "execution_count": 23,
   "metadata": {},
   "outputs": [],
   "source": [
    "# IDと住所をファイル出力\n",
    "train_coordinate = train_data[[\"id\", \"所在地\"]]\n",
    "test_coordinate = test_data[[\"id\", \"所在地\"]]\n",
    "\n",
    "train_coordinate.to_csv(\"train_coordinate.csv\", header=False, index=False)\n",
    "test_coordinate.to_csv(\"test_coordinate.csv\", header=False, index=False)"
   ]
  },
  {
   "cell_type": "code",
   "execution_count": 26,
   "metadata": {},
   "outputs": [],
   "source": [
    "# 緯度、経度情報の読み込み(id, 所在地, 経度, 緯度)\n",
    "train_coordinate_addvalue = pd.read_excel(\"train_coordinate_addvalue.xlsx\")\n",
    "test_coordinate_addvalue = pd.read_excel(\"test_coordinate_addvalue.xlsx\")"
   ]
  },
  {
   "cell_type": "code",
   "execution_count": 37,
   "metadata": {},
   "outputs": [],
   "source": [
    "train_data_1 = pd.merge(train_data_1, train_coordinate_addvalue[[\"id\", \"経度\", \"緯度\"]], on='id')\n",
    "test_data_1 = pd.merge(test_data_1, test_coordinate_addvalue[[\"id\", \"経度\", \"緯度\"]], on='id')"
   ]
  },
  {
   "cell_type": "code",
   "execution_count": null,
   "metadata": {},
   "outputs": [],
   "source": []
  },
  {
   "cell_type": "markdown",
   "metadata": {},
   "source": [
    "### 2.9. 抜けデータ埋め"
   ]
  },
  {
   "cell_type": "markdown",
   "metadata": {},
   "source": [
    "#### 2.9.1. 訓練データ"
   ]
  },
  {
   "cell_type": "code",
   "execution_count": 72,
   "metadata": {},
   "outputs": [
    {
     "name": "stdout",
     "output_type": "stream",
     "text": [
      "          id      賃料   築年数    面積m2  間取りID  所在    階層\n",
      "99       100  150500   5.5   68.83     14 NaN   3.0\n",
      "122      123   58000  30.5   18.98      9 NaN   8.0\n",
      "583      584  145000  26.5   60.72     17 NaN  12.0\n",
      "671      672  900000  14.7  231.52     31 NaN   3.0\n",
      "814      815  145000  30.0   71.36     21 NaN   2.0\n",
      "...      ...     ...   ...     ...    ...  ..   ...\n",
      "29667  29668  127000   1.0   35.03      5 NaN   3.0\n",
      "29800  29801   92000   8.2   50.94      6 NaN   2.0\n",
      "30306  30307  153000  13.8   50.92     14 NaN   5.0\n",
      "30435  30436  163000   9.0   55.58      5 NaN  16.0\n",
      "30838  30839   66000  33.6   16.50      9 NaN   5.0\n",
      "\n",
      "[120 rows x 7 columns]\n"
     ]
    }
   ],
   "source": [
    "# 埋める前の確認\n",
    "print(train_data_1[train_data_1[\"所在\"].isnull()])"
   ]
  },
  {
   "cell_type": "code",
   "execution_count": 40,
   "metadata": {},
   "outputs": [],
   "source": [
    "# 所在のNaNを埋める\n",
    "train_data_2 = train_data_1\n",
    "train_data_2.loc[train_data_2[\"所在\"].isnull(), \"所在\"] = train_data_2[\"階層\"]"
   ]
  },
  {
   "cell_type": "code",
   "execution_count": 41,
   "metadata": {},
   "outputs": [
    {
     "name": "stdout",
     "output_type": "stream",
     "text": [
      "        所在   階層\n",
      "30838  5.0  5.0\n"
     ]
    }
   ],
   "source": [
    "# 埋めた後の確認\n",
    "print(train_data_2[train_data_2[\"id\"]==30839][[\"所在\", \"階層\"]])"
   ]
  },
  {
   "cell_type": "code",
   "execution_count": 42,
   "metadata": {},
   "outputs": [],
   "source": [
    "# IDの削除\n",
    "train_data_2_no_ID = train_data_2.drop([\"id\"], axis=1)"
   ]
  },
  {
   "cell_type": "markdown",
   "metadata": {},
   "source": [
    "#### 2.9.2 テストデータ"
   ]
  },
  {
   "cell_type": "code",
   "execution_count": 43,
   "metadata": {},
   "outputs": [
    {
     "name": "stdout",
     "output_type": "stream",
     "text": [
      "         id  築年数   面積m2  間取りID  所在  階層          経度         緯度\n",
      "9204  40675  0.4  94.91     21 NaN NaN  139.863153  35.678151\n",
      "          id   築年数   面積m2  間取りID  所在   階層          経度         緯度\n",
      "125    31596  21.1  68.28     21 NaN  2.0  139.868494  35.670888\n",
      "229    31700   5.6  34.18      1 NaN  3.0  139.715706  35.786101\n",
      "262    31733  28.5  60.06     10 NaN  7.0  139.732523  35.585312\n",
      "835    32306  50.4  47.30      5 NaN  7.0  139.671689  35.593437\n",
      "1076   32547   9.4  54.63     10 NaN  3.0  139.662825  35.604655\n",
      "...      ...   ...    ...    ...  ..  ...         ...        ...\n",
      "30529  62000   0.6  40.73      5 NaN  3.0  139.706895  35.725186\n",
      "30781  62252  13.1  58.51     14 NaN  2.0  139.840012  35.777770\n",
      "30826  62297  27.7  46.26     19 NaN  2.0  139.644890  35.694480\n",
      "31073  62544  24.0  16.01      9 NaN  3.0  139.726812  35.596163\n",
      "31184  62655  30.8  16.62      3 NaN  2.0  139.669061  35.672492\n",
      "\n",
      "[114 rows x 8 columns]\n"
     ]
    }
   ],
   "source": [
    "# 埋める前の確認\n",
    "print(test_data_1[test_data_1[\"階層\"].isnull()])\n",
    "print(test_data_1[test_data_1[\"所在\"].isnull()])"
   ]
  },
  {
   "cell_type": "code",
   "execution_count": 44,
   "metadata": {},
   "outputs": [],
   "source": [
    "# 所在のNaNを埋める\n",
    "test_data_2 = test_data_1\n",
    "test_data_2.loc[test_data_2[\"所在\"].isnull(), \"所在\"] = test_data_2[\"階層\"]"
   ]
  },
  {
   "cell_type": "code",
   "execution_count": 45,
   "metadata": {},
   "outputs": [
    {
     "name": "stdout",
     "output_type": "stream",
     "text": [
      "         id  築年数   面積m2  間取りID  所在  階層          経度         緯度\n",
      "9204  40675  0.4  94.91     21 NaN NaN  139.863153  35.678151\n"
     ]
    }
   ],
   "source": [
    "print(test_data_2[test_data_2[\"所在\"].isnull()])"
   ]
  },
  {
   "cell_type": "code",
   "execution_count": 46,
   "metadata": {},
   "outputs": [
    {
     "name": "stdout",
     "output_type": "stream",
     "text": [
      "id       44448.676471\n",
      "築年数         12.135294\n",
      "面積m2        92.323824\n",
      "間取りID       21.000000\n",
      "所在           6.181818\n",
      "階層           9.878788\n",
      "経度         139.688155\n",
      "緯度          35.648116\n",
      "dtype: float64\n"
     ]
    }
   ],
   "source": [
    "# 所在も階層も空欄のデータは間取りと面積の近いデータで埋める\n",
    "print(test_data_1[(test_data_1[\"間取りID\"] == 21) & (test_data_1[\"面積m2\"] > 90) & (test_data_1[\"面積m2\"] < 95)].mean())"
   ]
  },
  {
   "cell_type": "code",
   "execution_count": 47,
   "metadata": {},
   "outputs": [],
   "source": [
    "test_data_2.loc[test_data_2[\"id\"]==40675, \"所在\"] = float(6)\n",
    "test_data_2.loc[test_data_2[\"id\"]==40675, \"階層\"] = float(9)"
   ]
  },
  {
   "cell_type": "code",
   "execution_count": 48,
   "metadata": {},
   "outputs": [
    {
     "name": "stdout",
     "output_type": "stream",
     "text": [
      "       所在   階層\n",
      "9204  6.0  9.0\n"
     ]
    }
   ],
   "source": [
    "# 埋めた後の確認\n",
    "print(test_data_2[test_data_2[\"id\"]==40675][[\"所在\", \"階層\"]])"
   ]
  },
  {
   "cell_type": "code",
   "execution_count": 49,
   "metadata": {},
   "outputs": [],
   "source": [
    "# IDの削除\n",
    "test_data_2_no_ID = test_data_2.drop([\"id\"], axis=1)"
   ]
  },
  {
   "cell_type": "markdown",
   "metadata": {},
   "source": [
    "## 3. データチェック"
   ]
  },
  {
   "cell_type": "code",
   "execution_count": 50,
   "metadata": {},
   "outputs": [
    {
     "data": {
      "text/plain": [
       "id         0\n",
       "賃料         0\n",
       "築年数      889\n",
       "面積m2       0\n",
       "間取りID      0\n",
       "所在         0\n",
       "階層         0\n",
       "経度         0\n",
       "緯度         0\n",
       "dtype: int64"
      ]
     },
     "execution_count": 50,
     "metadata": {},
     "output_type": "execute_result"
    }
   ],
   "source": [
    "train_data_2.isnull().sum()"
   ]
  },
  {
   "cell_type": "code",
   "execution_count": 51,
   "metadata": {},
   "outputs": [
    {
     "data": {
      "text/plain": [
       "id         0\n",
       "築年数      850\n",
       "面積m2       0\n",
       "間取りID      0\n",
       "所在         0\n",
       "階層         0\n",
       "経度         0\n",
       "緯度         0\n",
       "dtype: int64"
      ]
     },
     "execution_count": 51,
     "metadata": {},
     "output_type": "execute_result"
    }
   ],
   "source": [
    "test_data_2.isnull().sum()"
   ]
  },
  {
   "cell_type": "markdown",
   "metadata": {},
   "source": [
    "## 4.学習 "
   ]
  },
  {
   "cell_type": "code",
   "execution_count": 52,
   "metadata": {},
   "outputs": [],
   "source": [
    "# 特徴データと目的変数の設定\n",
    "train_x = train_data_2_no_ID.drop([\"賃料\"], axis=1)\n",
    "train_y = train_data_2_no_ID[\"賃料\"]\n",
    "\n",
    "test_x = test_data_2_no_ID"
   ]
  },
  {
   "cell_type": "code",
   "execution_count": 53,
   "metadata": {
    "collapsed": true,
    "jupyter": {
     "outputs_hidden": true
    }
   },
   "outputs": [
    {
     "name": "stdout",
     "output_type": "stream",
     "text": [
      "[13:16:31] WARNING: ..\\src\\learner.cc:541: \n",
      "Parameters: { sileng } might not be used.\n",
      "\n",
      "  This may not be accurate due to some parameters are only used in language bindings but\n",
      "  passed down to XGBoost core.  Or some parameters are not used but slip through this\n",
      "  verification. Please open an issue if you find above cases.\n",
      "\n",
      "\n",
      "[0]\ttrain-rmse:100929.29688\teval-rmse:100182.97656\n",
      "[1]\ttrain-rmse:74362.07812\teval-rmse:74307.71094\n",
      "[2]\ttrain-rmse:55818.26562\teval-rmse:56370.15234\n",
      "[3]\ttrain-rmse:43119.12500\teval-rmse:44573.56641\n",
      "[4]\ttrain-rmse:34827.26172\teval-rmse:36985.21875\n",
      "[5]\ttrain-rmse:28968.36523\teval-rmse:32014.30664\n",
      "[6]\ttrain-rmse:25189.25781\teval-rmse:28775.18555\n",
      "[7]\ttrain-rmse:22541.05078\teval-rmse:27085.38477\n",
      "[8]\ttrain-rmse:20683.40234\teval-rmse:25608.48242\n",
      "[9]\ttrain-rmse:19574.52344\teval-rmse:24922.63867\n",
      "[10]\ttrain-rmse:18599.51367\teval-rmse:24208.59961\n",
      "[11]\ttrain-rmse:17903.63672\teval-rmse:23818.01172\n",
      "[12]\ttrain-rmse:17383.13867\teval-rmse:23601.36523\n",
      "[13]\ttrain-rmse:16860.13281\teval-rmse:23337.70508\n",
      "[14]\ttrain-rmse:16572.00977\teval-rmse:23164.17188\n",
      "[15]\ttrain-rmse:16311.12988\teval-rmse:22998.64844\n",
      "[16]\ttrain-rmse:15940.25586\teval-rmse:22852.25000\n",
      "[17]\ttrain-rmse:15779.05273\teval-rmse:22761.42578\n",
      "[18]\ttrain-rmse:15555.86621\teval-rmse:22691.78516\n",
      "[19]\ttrain-rmse:15214.24707\teval-rmse:22461.32812\n",
      "[20]\ttrain-rmse:14994.76465\teval-rmse:22428.34766\n",
      "[21]\ttrain-rmse:14850.46582\teval-rmse:22342.31445\n",
      "[22]\ttrain-rmse:14681.89258\teval-rmse:22246.47070\n",
      "[23]\ttrain-rmse:14511.44238\teval-rmse:22138.01562\n",
      "[24]\ttrain-rmse:14425.30566\teval-rmse:22053.56641\n",
      "[25]\ttrain-rmse:14373.01856\teval-rmse:22025.64844\n",
      "[26]\ttrain-rmse:14293.52832\teval-rmse:22003.06250\n",
      "[27]\ttrain-rmse:14239.46289\teval-rmse:21919.06836\n",
      "[28]\ttrain-rmse:14067.16602\teval-rmse:21802.05078\n",
      "[29]\ttrain-rmse:13993.93555\teval-rmse:21785.67188\n",
      "[30]\ttrain-rmse:13839.88769\teval-rmse:21685.14844\n",
      "[31]\ttrain-rmse:13689.91699\teval-rmse:21621.56836\n",
      "[32]\ttrain-rmse:13552.30957\teval-rmse:21560.71094\n",
      "[33]\ttrain-rmse:13475.13086\teval-rmse:21527.20703\n",
      "[34]\ttrain-rmse:13363.36426\teval-rmse:21500.00781\n",
      "[35]\ttrain-rmse:13289.06250\teval-rmse:21463.53711\n",
      "[36]\ttrain-rmse:13220.09570\teval-rmse:21428.67578\n",
      "[37]\ttrain-rmse:13125.14941\teval-rmse:21358.92773\n",
      "[38]\ttrain-rmse:13089.44336\teval-rmse:21339.61133\n",
      "[39]\ttrain-rmse:13029.15820\teval-rmse:21339.44922\n",
      "[40]\ttrain-rmse:12979.92188\teval-rmse:21377.53906\n",
      "[41]\ttrain-rmse:12958.39941\teval-rmse:21364.20898\n",
      "[42]\ttrain-rmse:12896.81543\teval-rmse:21354.94531\n",
      "[43]\ttrain-rmse:12794.85254\teval-rmse:21309.03125\n",
      "[44]\ttrain-rmse:12776.14356\teval-rmse:21299.60156\n",
      "[45]\ttrain-rmse:12726.39062\teval-rmse:21278.96680\n",
      "[46]\ttrain-rmse:12707.00586\teval-rmse:21303.52148\n",
      "[47]\ttrain-rmse:12674.23438\teval-rmse:21293.44336\n",
      "[48]\ttrain-rmse:12656.85938\teval-rmse:21286.88086\n",
      "[49]\ttrain-rmse:12587.98047\teval-rmse:21251.19727\n",
      "[13:16:32] WARNING: ..\\src\\learner.cc:541: \n",
      "Parameters: { sileng } might not be used.\n",
      "\n",
      "  This may not be accurate due to some parameters are only used in language bindings but\n",
      "  passed down to XGBoost core.  Or some parameters are not used but slip through this\n",
      "  verification. Please open an issue if you find above cases.\n",
      "\n",
      "\n",
      "[0]\ttrain-rmse:100756.19531\teval-rmse:100762.95312\n",
      "[1]\ttrain-rmse:73844.91406\teval-rmse:74451.95312\n",
      "[2]\ttrain-rmse:55142.30469\teval-rmse:56296.72656\n",
      "[3]\ttrain-rmse:42343.73828\teval-rmse:44815.12109\n",
      "[4]\ttrain-rmse:33862.76562\teval-rmse:37683.21094\n",
      "[5]\ttrain-rmse:28095.90820\teval-rmse:33060.30078\n",
      "[6]\ttrain-rmse:24274.44336\teval-rmse:30355.42773\n",
      "[7]\ttrain-rmse:21617.81250\teval-rmse:28494.32617\n",
      "[8]\ttrain-rmse:19903.30469\teval-rmse:27795.41406\n",
      "[9]\ttrain-rmse:18593.26562\teval-rmse:27118.55859\n",
      "[10]\ttrain-rmse:17460.02539\teval-rmse:26530.95117\n",
      "[11]\ttrain-rmse:16651.56445\teval-rmse:26150.73828\n",
      "[12]\ttrain-rmse:16187.58789\teval-rmse:25923.05469\n",
      "[13]\ttrain-rmse:15875.64453\teval-rmse:25884.16992\n",
      "[14]\ttrain-rmse:15672.30371\teval-rmse:25795.01562\n",
      "[15]\ttrain-rmse:15433.74023\teval-rmse:25726.15234\n",
      "[16]\ttrain-rmse:15075.90137\teval-rmse:25541.82617\n",
      "[17]\ttrain-rmse:14823.58398\teval-rmse:25509.90820\n",
      "[18]\ttrain-rmse:14594.40918\teval-rmse:25419.45703\n",
      "[19]\ttrain-rmse:14456.36231\teval-rmse:25350.83789\n",
      "[20]\ttrain-rmse:14287.55273\teval-rmse:25324.68164\n",
      "[21]\ttrain-rmse:13985.20801\teval-rmse:25218.53125\n",
      "[22]\ttrain-rmse:13822.22461\teval-rmse:25303.41211\n",
      "[23]\ttrain-rmse:13721.29394\teval-rmse:25292.85938\n",
      "[24]\ttrain-rmse:13597.05469\teval-rmse:25247.52148\n",
      "[25]\ttrain-rmse:13513.00391\teval-rmse:25249.76953\n",
      "[26]\ttrain-rmse:13330.54688\teval-rmse:25196.34961\n",
      "[27]\ttrain-rmse:13177.68945\teval-rmse:25149.77734\n",
      "[28]\ttrain-rmse:13087.57715\teval-rmse:25140.83203\n",
      "[29]\ttrain-rmse:13031.52441\teval-rmse:25104.89062\n",
      "[30]\ttrain-rmse:12913.43359\teval-rmse:25093.39258\n",
      "[31]\ttrain-rmse:12818.06055\teval-rmse:25072.74609\n",
      "[32]\ttrain-rmse:12770.83008\teval-rmse:25056.09766\n",
      "[33]\ttrain-rmse:12719.78320\teval-rmse:25074.77539\n",
      "[34]\ttrain-rmse:12650.59277\teval-rmse:25138.29492\n",
      "[35]\ttrain-rmse:12572.39746\teval-rmse:25117.50586\n",
      "[36]\ttrain-rmse:12429.71777\teval-rmse:25066.19141\n",
      "[37]\ttrain-rmse:12326.54394\teval-rmse:25052.85352\n",
      "[38]\ttrain-rmse:12272.23828\teval-rmse:25049.08984\n",
      "[39]\ttrain-rmse:12176.02441\teval-rmse:24981.57617\n",
      "[40]\ttrain-rmse:12053.14844\teval-rmse:24955.67383\n",
      "[41]\ttrain-rmse:11974.63086\teval-rmse:24918.76758\n",
      "[42]\ttrain-rmse:11864.13184\teval-rmse:24897.46875\n",
      "[43]\ttrain-rmse:11711.67773\teval-rmse:24850.90039\n",
      "[44]\ttrain-rmse:11635.89062\teval-rmse:24837.56055\n",
      "[45]\ttrain-rmse:11608.85840\teval-rmse:24813.61133\n",
      "[46]\ttrain-rmse:11599.85449\teval-rmse:24814.97070\n",
      "[47]\ttrain-rmse:11527.59570\teval-rmse:24801.97461\n",
      "[48]\ttrain-rmse:11444.89941\teval-rmse:24765.69922\n",
      "[49]\ttrain-rmse:11395.25195\teval-rmse:24729.41211\n",
      "[13:16:32] WARNING: ..\\src\\learner.cc:541: \n",
      "Parameters: { sileng } might not be used.\n",
      "\n",
      "  This may not be accurate due to some parameters are only used in language bindings but\n",
      "  passed down to XGBoost core.  Or some parameters are not used but slip through this\n",
      "  verification. Please open an issue if you find above cases.\n",
      "\n",
      "\n",
      "[0]\ttrain-rmse:100382.93750\teval-rmse:103001.41406\n",
      "[1]\ttrain-rmse:73729.17969\teval-rmse:77357.91406\n",
      "[2]\ttrain-rmse:55438.98047\teval-rmse:59613.67578\n",
      "[3]\ttrain-rmse:43053.99609\teval-rmse:48352.29297\n",
      "[4]\ttrain-rmse:34661.80469\teval-rmse:40934.87500\n",
      "[5]\ttrain-rmse:29272.97852\teval-rmse:36279.78516\n",
      "[6]\ttrain-rmse:25618.91016\teval-rmse:33045.00000\n",
      "[7]\ttrain-rmse:22896.64453\teval-rmse:30594.13477\n",
      "[8]\ttrain-rmse:21095.60156\teval-rmse:28904.20898\n",
      "[9]\ttrain-rmse:19919.95117\teval-rmse:27759.30469\n",
      "[10]\ttrain-rmse:18853.95898\teval-rmse:26646.31836\n",
      "[11]\ttrain-rmse:18090.53516\teval-rmse:26047.31250\n",
      "[12]\ttrain-rmse:17579.63281\teval-rmse:25709.76758\n",
      "[13]\ttrain-rmse:17177.08203\teval-rmse:25286.09180\n",
      "[14]\ttrain-rmse:16836.70117\teval-rmse:25009.63086\n",
      "[15]\ttrain-rmse:16667.38477\teval-rmse:24878.57031\n",
      "[16]\ttrain-rmse:16428.59570\teval-rmse:24689.25977\n",
      "[17]\ttrain-rmse:16070.27148\teval-rmse:24511.41406\n",
      "[18]\ttrain-rmse:15815.21973\teval-rmse:24250.84961\n",
      "[19]\ttrain-rmse:15687.63769\teval-rmse:24206.07617\n",
      "[20]\ttrain-rmse:15459.73438\teval-rmse:24123.07227\n",
      "[21]\ttrain-rmse:15272.89160\teval-rmse:23952.40430\n",
      "[22]\ttrain-rmse:15120.26269\teval-rmse:23816.27539\n",
      "[23]\ttrain-rmse:15001.13477\teval-rmse:23753.18359\n",
      "[24]\ttrain-rmse:14868.83887\teval-rmse:23663.76953\n",
      "[25]\ttrain-rmse:14798.11523\teval-rmse:23642.95312\n",
      "[26]\ttrain-rmse:14664.41797\teval-rmse:23573.55859\n",
      "[27]\ttrain-rmse:14580.04102\teval-rmse:23509.45117\n",
      "[28]\ttrain-rmse:14437.57617\teval-rmse:23403.17773\n",
      "[29]\ttrain-rmse:14370.05859\teval-rmse:23343.95703\n",
      "[30]\ttrain-rmse:14169.47559\teval-rmse:23230.29102\n",
      "[31]\ttrain-rmse:14073.09180\teval-rmse:23161.32617\n",
      "[32]\ttrain-rmse:13960.79492\teval-rmse:23172.05859\n",
      "[33]\ttrain-rmse:13835.86816\teval-rmse:23165.54688\n",
      "[34]\ttrain-rmse:13792.00195\teval-rmse:23192.97266\n",
      "[35]\ttrain-rmse:13706.30371\teval-rmse:23131.94922\n",
      "[36]\ttrain-rmse:13601.99609\teval-rmse:23089.01172\n",
      "[37]\ttrain-rmse:13529.28711\teval-rmse:23066.86328\n",
      "[38]\ttrain-rmse:13455.70117\teval-rmse:23038.45898\n",
      "[39]\ttrain-rmse:13423.29004\teval-rmse:23025.18750\n",
      "[40]\ttrain-rmse:13309.88477\teval-rmse:22976.26562\n",
      "[41]\ttrain-rmse:13138.82519\teval-rmse:22935.41797\n",
      "[42]\ttrain-rmse:13083.29199\teval-rmse:22912.93359\n",
      "[43]\ttrain-rmse:12998.99121\teval-rmse:22878.34375\n",
      "[44]\ttrain-rmse:12978.20312\teval-rmse:22904.77539\n",
      "[45]\ttrain-rmse:12882.06348\teval-rmse:22872.07227\n",
      "[46]\ttrain-rmse:12826.21484\teval-rmse:22856.40625\n",
      "[47]\ttrain-rmse:12805.77637\teval-rmse:22841.39453\n",
      "[48]\ttrain-rmse:12633.70898\teval-rmse:22790.73828\n",
      "[49]\ttrain-rmse:12589.29590\teval-rmse:22798.80273\n",
      "[13:16:32] WARNING: ..\\src\\learner.cc:541: \n",
      "Parameters: { sileng } might not be used.\n",
      "\n",
      "  This may not be accurate due to some parameters are only used in language bindings but\n",
      "  passed down to XGBoost core.  Or some parameters are not used but slip through this\n",
      "  verification. Please open an issue if you find above cases.\n",
      "\n",
      "\n",
      "[0]\ttrain-rmse:100836.70312\teval-rmse:100836.66406\n",
      "[1]\ttrain-rmse:73954.59375\teval-rmse:74665.64844\n",
      "[2]\ttrain-rmse:55419.64062\teval-rmse:56921.85156\n",
      "[3]\ttrain-rmse:42662.77344\teval-rmse:44953.13281\n",
      "[4]\ttrain-rmse:34212.78125\teval-rmse:37130.94922\n",
      "[5]\ttrain-rmse:28610.85742\teval-rmse:31992.14258\n",
      "[6]\ttrain-rmse:24881.60547\teval-rmse:28504.52930\n",
      "[7]\ttrain-rmse:22481.07227\teval-rmse:26187.48438\n",
      "[8]\ttrain-rmse:20794.49219\teval-rmse:24679.78516\n",
      "[9]\ttrain-rmse:19384.59375\teval-rmse:23787.12891\n",
      "[10]\ttrain-rmse:18239.18164\teval-rmse:22875.85156\n",
      "[11]\ttrain-rmse:17420.16016\teval-rmse:22610.97461\n",
      "[12]\ttrain-rmse:16878.03516\teval-rmse:22149.32812\n",
      "[13]\ttrain-rmse:16463.24023\teval-rmse:21863.28125\n",
      "[14]\ttrain-rmse:16135.48926\teval-rmse:21472.64844\n",
      "[15]\ttrain-rmse:15882.92285\teval-rmse:21260.51758\n",
      "[16]\ttrain-rmse:15662.79102\teval-rmse:21169.10156\n",
      "[17]\ttrain-rmse:15462.76172\teval-rmse:21042.15039\n",
      "[18]\ttrain-rmse:15310.53223\teval-rmse:20960.75195\n",
      "[19]\ttrain-rmse:15176.30371\teval-rmse:20899.60156\n",
      "[20]\ttrain-rmse:15013.19922\teval-rmse:20822.45312\n",
      "[21]\ttrain-rmse:14704.81543\teval-rmse:20538.19531\n",
      "[22]\ttrain-rmse:14488.63477\teval-rmse:20478.73828\n",
      "[23]\ttrain-rmse:14266.27051\teval-rmse:20313.33984\n",
      "[24]\ttrain-rmse:14151.80762\teval-rmse:20264.25586\n",
      "[25]\ttrain-rmse:13751.41406\teval-rmse:20408.41797\n",
      "[26]\ttrain-rmse:13675.87793\teval-rmse:20365.58789\n",
      "[27]\ttrain-rmse:13587.06348\teval-rmse:20334.32227\n",
      "[28]\ttrain-rmse:13477.05664\teval-rmse:20300.23047\n",
      "[29]\ttrain-rmse:13390.21387\teval-rmse:20224.95898\n",
      "[30]\ttrain-rmse:13352.05859\teval-rmse:20205.89844\n",
      "[31]\ttrain-rmse:13248.88184\teval-rmse:20145.28906\n",
      "[32]\ttrain-rmse:13163.96875\teval-rmse:20083.48633\n",
      "[33]\ttrain-rmse:13007.12012\teval-rmse:20072.84375\n",
      "[34]\ttrain-rmse:12864.24414\teval-rmse:20057.24609\n",
      "[35]\ttrain-rmse:12723.39746\teval-rmse:19996.04883\n",
      "[36]\ttrain-rmse:12669.12207\teval-rmse:19973.14844\n",
      "[37]\ttrain-rmse:12495.07129\teval-rmse:20035.21484\n",
      "[38]\ttrain-rmse:12391.17578\teval-rmse:19865.78320\n",
      "[39]\ttrain-rmse:12323.36426\teval-rmse:19846.44922\n",
      "[40]\ttrain-rmse:12271.06738\teval-rmse:19850.53906\n",
      "[41]\ttrain-rmse:12255.81445\teval-rmse:19843.00000\n",
      "[42]\ttrain-rmse:12175.72363\teval-rmse:19853.98633\n",
      "[43]\ttrain-rmse:12154.40723\teval-rmse:19812.23633\n",
      "[44]\ttrain-rmse:12091.91797\teval-rmse:19789.44141\n",
      "[45]\ttrain-rmse:12033.05469\teval-rmse:19774.50391\n",
      "[46]\ttrain-rmse:11963.87695\teval-rmse:19753.81445\n",
      "[47]\ttrain-rmse:11955.93945\teval-rmse:19751.60742\n",
      "[48]\ttrain-rmse:11933.44141\teval-rmse:19748.58789\n",
      "[49]\ttrain-rmse:11846.12402\teval-rmse:19708.47461\n"
     ]
    }
   ],
   "source": [
    "import xgboost as xgb\n",
    "from xgboost import XGBClassifier\n",
    "from sklearn.metrics import log_loss, accuracy_score\n",
    "from sklearn.model_selection import KFold\n",
    "\n",
    "scores = []\n",
    "# GBDT用のハイパーパラメータ\n",
    "params = {\"objective\": \"reg:squarederror\", \"sileng\":1, \"random_state\":71}\n",
    "num_round = 50\n",
    "\n",
    "# クロスバリデーション\n",
    "kf = KFold(n_splits=4, shuffle=True, random_state=71)\n",
    "for tr_idx, va_idx, in kf.split(train_x):\n",
    "    tr_x, va_x = train_x.iloc[tr_idx], train_x.iloc[va_idx]\n",
    "    tr_y, va_y = train_y.iloc[tr_idx], train_y.iloc[va_idx]\n",
    "    \n",
    "    # GBDTで学習実行\n",
    "    dtrain = xgb.DMatrix(tr_x, label=tr_y) # enable_categorical=True\n",
    "    dvalid = xgb.DMatrix(va_x, label=va_y)\n",
    "    dtest = xgb.DMatrix(test_x)\n",
    "    \n",
    "    watchlist = [(dtrain, \"train\"), (dvalid, \"eval\")]\n",
    "    model = xgb.train(params, dtrain, num_round, evals=watchlist)"
   ]
  },
  {
   "cell_type": "markdown",
   "metadata": {},
   "source": [
    "## 5. 予測"
   ]
  },
  {
   "cell_type": "code",
   "execution_count": 54,
   "metadata": {},
   "outputs": [],
   "source": [
    "# テストデータでの予測\n",
    "pred = model.predict(dtest)"
   ]
  },
  {
   "cell_type": "code",
   "execution_count": 55,
   "metadata": {},
   "outputs": [
    {
     "data": {
      "text/plain": [
       "array([130693.875, 110754.09 ,  81477.01 , ..., 172617.5  , 263910.9  ,\n",
       "        80764.1  ], dtype=float32)"
      ]
     },
     "execution_count": 55,
     "metadata": {},
     "output_type": "execute_result"
    }
   ],
   "source": [
    "pred"
   ]
  },
  {
   "cell_type": "code",
   "execution_count": 56,
   "metadata": {},
   "outputs": [
    {
     "data": {
      "text/plain": [
       "31262"
      ]
     },
     "execution_count": 56,
     "metadata": {},
     "output_type": "execute_result"
    }
   ],
   "source": [
    "len(pred)"
   ]
  },
  {
   "cell_type": "code",
   "execution_count": 57,
   "metadata": {},
   "outputs": [
    {
     "data": {
      "text/plain": [
       "31262"
      ]
     },
     "execution_count": 57,
     "metadata": {},
     "output_type": "execute_result"
    }
   ],
   "source": [
    "len(test_data_1)"
   ]
  },
  {
   "cell_type": "markdown",
   "metadata": {},
   "source": [
    "## 6. データ出力"
   ]
  },
  {
   "cell_type": "code",
   "execution_count": 58,
   "metadata": {},
   "outputs": [],
   "source": [
    "# 予測結果の結合\n",
    "test_data[\"予測結果\"] = pred"
   ]
  },
  {
   "cell_type": "code",
   "execution_count": 59,
   "metadata": {},
   "outputs": [],
   "source": [
    "# 予測結果をint型に変換\n",
    "test_data[\"予測結果\"] = test_data[\"予測結果\"].astype(int)"
   ]
  },
  {
   "cell_type": "code",
   "execution_count": 60,
   "metadata": {},
   "outputs": [],
   "source": [
    "result = test_data[[\"id\", \"予測結果\"]]"
   ]
  },
  {
   "cell_type": "code",
   "execution_count": 94,
   "metadata": {},
   "outputs": [
    {
     "data": {
      "text/html": [
       "<div>\n",
       "<style scoped>\n",
       "    .dataframe tbody tr th:only-of-type {\n",
       "        vertical-align: middle;\n",
       "    }\n",
       "\n",
       "    .dataframe tbody tr th {\n",
       "        vertical-align: top;\n",
       "    }\n",
       "\n",
       "    .dataframe thead th {\n",
       "        text-align: right;\n",
       "    }\n",
       "</style>\n",
       "<table border=\"1\" class=\"dataframe\">\n",
       "  <thead>\n",
       "    <tr style=\"text-align: right;\">\n",
       "      <th></th>\n",
       "      <th>id</th>\n",
       "      <th>予測結果</th>\n",
       "    </tr>\n",
       "  </thead>\n",
       "  <tbody>\n",
       "    <tr>\n",
       "      <th>0</th>\n",
       "      <td>31471</td>\n",
       "      <td>130153</td>\n",
       "    </tr>\n",
       "    <tr>\n",
       "      <th>1</th>\n",
       "      <td>31472</td>\n",
       "      <td>103998</td>\n",
       "    </tr>\n",
       "    <tr>\n",
       "      <th>2</th>\n",
       "      <td>31473</td>\n",
       "      <td>83846</td>\n",
       "    </tr>\n",
       "    <tr>\n",
       "      <th>3</th>\n",
       "      <td>31474</td>\n",
       "      <td>61178</td>\n",
       "    </tr>\n",
       "    <tr>\n",
       "      <th>4</th>\n",
       "      <td>31475</td>\n",
       "      <td>110826</td>\n",
       "    </tr>\n",
       "    <tr>\n",
       "      <th>...</th>\n",
       "      <td>...</td>\n",
       "      <td>...</td>\n",
       "    </tr>\n",
       "    <tr>\n",
       "      <th>31257</th>\n",
       "      <td>62728</td>\n",
       "      <td>103584</td>\n",
       "    </tr>\n",
       "    <tr>\n",
       "      <th>31258</th>\n",
       "      <td>62729</td>\n",
       "      <td>101055</td>\n",
       "    </tr>\n",
       "    <tr>\n",
       "      <th>31259</th>\n",
       "      <td>62730</td>\n",
       "      <td>176603</td>\n",
       "    </tr>\n",
       "    <tr>\n",
       "      <th>31260</th>\n",
       "      <td>62731</td>\n",
       "      <td>264875</td>\n",
       "    </tr>\n",
       "    <tr>\n",
       "      <th>31261</th>\n",
       "      <td>62732</td>\n",
       "      <td>83261</td>\n",
       "    </tr>\n",
       "  </tbody>\n",
       "</table>\n",
       "<p>31262 rows × 2 columns</p>\n",
       "</div>"
      ],
      "text/plain": [
       "          id    予測結果\n",
       "0      31471  130153\n",
       "1      31472  103998\n",
       "2      31473   83846\n",
       "3      31474   61178\n",
       "4      31475  110826\n",
       "...      ...     ...\n",
       "31257  62728  103584\n",
       "31258  62729  101055\n",
       "31259  62730  176603\n",
       "31260  62731  264875\n",
       "31261  62732   83261\n",
       "\n",
       "[31262 rows x 2 columns]"
      ]
     },
     "execution_count": 94,
     "metadata": {},
     "output_type": "execute_result"
    }
   ],
   "source": [
    "result"
   ]
  },
  {
   "cell_type": "code",
   "execution_count": 61,
   "metadata": {},
   "outputs": [],
   "source": [
    "result.to_csv(\"result.csv\", header=False, index=False)"
   ]
  },
  {
   "cell_type": "code",
   "execution_count": null,
   "metadata": {},
   "outputs": [],
   "source": []
  }
 ],
 "metadata": {
  "kernelspec": {
   "display_name": "Python 3",
   "language": "python",
   "name": "python3"
  },
  "language_info": {
   "codemirror_mode": {
    "name": "ipython",
    "version": 3
   },
   "file_extension": ".py",
   "mimetype": "text/x-python",
   "name": "python",
   "nbconvert_exporter": "python",
   "pygments_lexer": "ipython3",
   "version": "3.8.5"
  }
 },
 "nbformat": 4,
 "nbformat_minor": 4
}
