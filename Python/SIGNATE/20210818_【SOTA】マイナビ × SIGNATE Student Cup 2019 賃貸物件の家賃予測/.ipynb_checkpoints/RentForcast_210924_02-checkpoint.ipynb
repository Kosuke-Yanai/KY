{
 "cells": [
  {
   "cell_type": "markdown",
   "metadata": {},
   "source": [
    "# [【SOTA】マイナビ × SIGNATE Student Cup 2019: 賃貸物件の家賃予測](https://signate.jp/competitions/264)"
   ]
  },
  {
   "cell_type": "markdown",
   "metadata": {},
   "source": [
    "## 1. データ読み込み"
   ]
  },
  {
   "cell_type": "code",
   "execution_count": 432,
   "metadata": {},
   "outputs": [],
   "source": [
    "import pandas as pd\n",
    "import numpy as np\n",
    "import pathlib\n",
    "import os\n",
    "\n",
    "# 学習データ、テストデータの読み込み\n",
    "train_path = pathlib.Path(\"./DATA/train.csv\")\n",
    "test_path = pathlib.Path(\"./DATA/test.csv\")\n",
    "\n",
    "train_data = pd.read_csv(train_path)\n",
    "test_data = pd.read_csv(test_path)"
   ]
  },
  {
   "cell_type": "code",
   "execution_count": 433,
   "metadata": {},
   "outputs": [
    {
     "data": {
      "text/html": [
       "<div>\n",
       "<style scoped>\n",
       "    .dataframe tbody tr th:only-of-type {\n",
       "        vertical-align: middle;\n",
       "    }\n",
       "\n",
       "    .dataframe tbody tr th {\n",
       "        vertical-align: top;\n",
       "    }\n",
       "\n",
       "    .dataframe thead th {\n",
       "        text-align: right;\n",
       "    }\n",
       "</style>\n",
       "<table border=\"1\" class=\"dataframe\">\n",
       "  <thead>\n",
       "    <tr style=\"text-align: right;\">\n",
       "      <th></th>\n",
       "      <th>id</th>\n",
       "      <th>所在地</th>\n",
       "      <th>アクセス</th>\n",
       "      <th>間取り</th>\n",
       "      <th>築年数</th>\n",
       "      <th>方角</th>\n",
       "      <th>面積</th>\n",
       "      <th>所在階</th>\n",
       "      <th>バス・トイレ</th>\n",
       "      <th>キッチン</th>\n",
       "      <th>放送・通信</th>\n",
       "      <th>室内設備</th>\n",
       "      <th>駐車場</th>\n",
       "      <th>周辺環境</th>\n",
       "      <th>建物構造</th>\n",
       "      <th>契約期間</th>\n",
       "    </tr>\n",
       "  </thead>\n",
       "  <tbody>\n",
       "    <tr>\n",
       "      <th>0</th>\n",
       "      <td>31471</td>\n",
       "      <td>東京都世田谷区深沢５丁目1-27</td>\n",
       "      <td>東急大井町線\\t等々力駅\\t徒歩15分\\t\\t東急田園都市線\\t桜新町駅\\t徒歩24分\\t\\...</td>\n",
       "      <td>2LDK</td>\n",
       "      <td>49年0ヶ月</td>\n",
       "      <td>南</td>\n",
       "      <td>50.22m2</td>\n",
       "      <td>8階／8階建</td>\n",
       "      <td>専用バス／\\t専用トイレ／\\tバス・トイレ別／\\tシャワー／\\t追焚機能／\\t温水洗浄便座／...</td>\n",
       "      <td>ガスコンロ／\\tコンロ3口／\\tシステムキッチン\\t／\\t給湯／\\tL字キッチン</td>\n",
       "      <td>インターネット対応</td>\n",
       "      <td>エアコン付\\tシューズボックス／\\tバルコニー／\\tフローリング／\\tエレベーター\\t公営水...</td>\n",
       "      <td>駐輪場\\t空有\\t駐車場\\t無\\tバイク置き場\\t無</td>\n",
       "      <td>【コンビニ】 74m\\t【スーパー】 215m\\t【病院】 313m\\t【小学校】 219m...</td>\n",
       "      <td>鉄骨造</td>\n",
       "      <td>NaN</td>\n",
       "    </tr>\n",
       "    <tr>\n",
       "      <th>1</th>\n",
       "      <td>31472</td>\n",
       "      <td>東京都目黒区八雲１丁目11-8</td>\n",
       "      <td>東急東横線\\t都立大学駅\\t徒歩6分\\t\\t東急東横線\\t自由が丘駅\\t徒歩17分\\t\\t東...</td>\n",
       "      <td>1R</td>\n",
       "      <td>0年2ヶ月</td>\n",
       "      <td>南東</td>\n",
       "      <td>20.88m2</td>\n",
       "      <td>3階／4階建</td>\n",
       "      <td>専用バス／\\t専用トイレ／\\tバス・トイレ別／\\tシャワー／\\t浴室乾燥機\\t／\\t温水洗浄...</td>\n",
       "      <td>ガスコンロ／\\tコンロ2口／\\tシステムキッチン\\t／\\t給湯</td>\n",
       "      <td>インターネット対応／\\tCSアンテナ／\\tBSアンテナ／\\tインターネット使用料無料</td>\n",
       "      <td>エアコン付\\tシューズボックス／\\tフローリング／\\t室内洗濯機置場\\t公営水道／\\t下水／...</td>\n",
       "      <td>駐車場\\t近隣\\t34,000円(税込)\\t距離200m\\t駐輪場\\t無\\tバイク置き場\\t無</td>\n",
       "      <td>【スーパー】 128m\\t【スーパー】 313m\\t【コンビニ】 374m\\t【コンビニ】 ...</td>\n",
       "      <td>RC（鉄筋コンクリート）</td>\n",
       "      <td>2年間</td>\n",
       "    </tr>\n",
       "    <tr>\n",
       "      <th>2</th>\n",
       "      <td>31473</td>\n",
       "      <td>東京都豊島区池袋本町２丁目22-2</td>\n",
       "      <td>東武東上線\\t北池袋駅\\t徒歩10分\\t\\t埼京線\\t板橋駅\\t徒歩16分\\t\\t山手線\\t...</td>\n",
       "      <td>1K</td>\n",
       "      <td>23年4ヶ月</td>\n",
       "      <td>南東</td>\n",
       "      <td>26.93m2</td>\n",
       "      <td>1階／4階建</td>\n",
       "      <td>専用バス／\\t専用トイレ／\\tバス・トイレ別／\\tシャワー／\\t温水洗浄便座</td>\n",
       "      <td>ガスコンロ／\\t給湯</td>\n",
       "      <td>インターネット対応／\\t光ファイバー／\\tCATV</td>\n",
       "      <td>エアコン付\\tシューズボックス／\\tバルコニー／\\tフローリング／\\t2面採光／\\t室内洗濯...</td>\n",
       "      <td>駐車場\\t空有\\t5,000円(税込)\\t(敷金あり\\t1ヶ月)\\t駐輪場\\t空有\\tバイク...</td>\n",
       "      <td>【スーパー】 529m\\t【スーパー】 810m\\t【コンビニ】 316m\\t【コンビニ】 ...</td>\n",
       "      <td>鉄骨造</td>\n",
       "      <td>2年間</td>\n",
       "    </tr>\n",
       "    <tr>\n",
       "      <th>3</th>\n",
       "      <td>31474</td>\n",
       "      <td>東京都杉並区和泉１丁目</td>\n",
       "      <td>丸ノ内線(中野坂上－方南町)\\t方南町駅\\t徒歩10分\\t\\t京王線\\t代田橋駅\\t徒歩8分...</td>\n",
       "      <td>1K</td>\n",
       "      <td>36年2ヶ月</td>\n",
       "      <td>南東</td>\n",
       "      <td>23.57m2</td>\n",
       "      <td>1階／2階建</td>\n",
       "      <td>シャワー</td>\n",
       "      <td>ガスコンロ／\\t給湯</td>\n",
       "      <td>NaN</td>\n",
       "      <td>エアコン付\\tシューズボックス／\\t2面採光／\\t室外洗濯機置場\\t公営水道／\\t下水／\\t...</td>\n",
       "      <td>駐輪場\\t空有\\t0円</td>\n",
       "      <td>【スーパー】 286m\\t【スーパー】 702m\\t【コンビニ】 489m\\t【コンビニ】 ...</td>\n",
       "      <td>木造</td>\n",
       "      <td>2年間</td>\n",
       "    </tr>\n",
       "    <tr>\n",
       "      <th>4</th>\n",
       "      <td>31475</td>\n",
       "      <td>東京都杉並区堀ノ内２丁目</td>\n",
       "      <td>丸ノ内線(中野坂上－方南町)\\t方南町駅\\t徒歩12分\\t\\t丸ノ内線(池袋－荻窪)\\t新高...</td>\n",
       "      <td>2LDK</td>\n",
       "      <td>45年4ヶ月</td>\n",
       "      <td>南</td>\n",
       "      <td>50m2</td>\n",
       "      <td>4階／4階建</td>\n",
       "      <td>専用バス／\\t専用トイレ／\\tバス・トイレ別</td>\n",
       "      <td>コンロ設置可（口数不明）／\\t給湯</td>\n",
       "      <td>インターネット対応</td>\n",
       "      <td>冷房／\\tエアコン付\\tシューズボックス／\\tバルコニー／\\tフローリング／\\t室内洗濯機置...</td>\n",
       "      <td>駐車場\\t近隣\\t22,600円\\t距離177m</td>\n",
       "      <td>【コンビニ】 312m\\t【コンビニ】 436m\\t【スーパー】 902m\\t【コンビニ】 ...</td>\n",
       "      <td>RC（鉄筋コンクリート）</td>\n",
       "      <td>2年間</td>\n",
       "    </tr>\n",
       "  </tbody>\n",
       "</table>\n",
       "</div>"
      ],
      "text/plain": [
       "      id                所在地  \\\n",
       "0  31471   東京都世田谷区深沢５丁目1-27   \n",
       "1  31472    東京都目黒区八雲１丁目11-8   \n",
       "2  31473  東京都豊島区池袋本町２丁目22-2   \n",
       "3  31474        東京都杉並区和泉１丁目   \n",
       "4  31475       東京都杉並区堀ノ内２丁目   \n",
       "\n",
       "                                                アクセス   間取り     築年数  方角  \\\n",
       "0  東急大井町線\\t等々力駅\\t徒歩15分\\t\\t東急田園都市線\\t桜新町駅\\t徒歩24分\\t\\...  2LDK  49年0ヶ月   南   \n",
       "1  東急東横線\\t都立大学駅\\t徒歩6分\\t\\t東急東横線\\t自由が丘駅\\t徒歩17分\\t\\t東...    1R   0年2ヶ月  南東   \n",
       "2  東武東上線\\t北池袋駅\\t徒歩10分\\t\\t埼京線\\t板橋駅\\t徒歩16分\\t\\t山手線\\t...    1K  23年4ヶ月  南東   \n",
       "3  丸ノ内線(中野坂上－方南町)\\t方南町駅\\t徒歩10分\\t\\t京王線\\t代田橋駅\\t徒歩8分...    1K  36年2ヶ月  南東   \n",
       "4  丸ノ内線(中野坂上－方南町)\\t方南町駅\\t徒歩12分\\t\\t丸ノ内線(池袋－荻窪)\\t新高...  2LDK  45年4ヶ月   南   \n",
       "\n",
       "        面積     所在階                                             バス・トイレ  \\\n",
       "0  50.22m2  8階／8階建  専用バス／\\t専用トイレ／\\tバス・トイレ別／\\tシャワー／\\t追焚機能／\\t温水洗浄便座／...   \n",
       "1  20.88m2  3階／4階建  専用バス／\\t専用トイレ／\\tバス・トイレ別／\\tシャワー／\\t浴室乾燥機\\t／\\t温水洗浄...   \n",
       "2  26.93m2  1階／4階建             専用バス／\\t専用トイレ／\\tバス・トイレ別／\\tシャワー／\\t温水洗浄便座   \n",
       "3  23.57m2  1階／2階建                                               シャワー   \n",
       "4     50m2  4階／4階建                             専用バス／\\t専用トイレ／\\tバス・トイレ別   \n",
       "\n",
       "                                       キッチン  \\\n",
       "0  ガスコンロ／\\tコンロ3口／\\tシステムキッチン\\t／\\t給湯／\\tL字キッチン   \n",
       "1           ガスコンロ／\\tコンロ2口／\\tシステムキッチン\\t／\\t給湯   \n",
       "2                                ガスコンロ／\\t給湯   \n",
       "3                                ガスコンロ／\\t給湯   \n",
       "4                         コンロ設置可（口数不明）／\\t給湯   \n",
       "\n",
       "                                        放送・通信  \\\n",
       "0                                   インターネット対応   \n",
       "1  インターネット対応／\\tCSアンテナ／\\tBSアンテナ／\\tインターネット使用料無料   \n",
       "2                   インターネット対応／\\t光ファイバー／\\tCATV   \n",
       "3                                         NaN   \n",
       "4                                   インターネット対応   \n",
       "\n",
       "                                                室内設備  \\\n",
       "0  エアコン付\\tシューズボックス／\\tバルコニー／\\tフローリング／\\tエレベーター\\t公営水...   \n",
       "1  エアコン付\\tシューズボックス／\\tフローリング／\\t室内洗濯機置場\\t公営水道／\\t下水／...   \n",
       "2  エアコン付\\tシューズボックス／\\tバルコニー／\\tフローリング／\\t2面採光／\\t室内洗濯...   \n",
       "3  エアコン付\\tシューズボックス／\\t2面採光／\\t室外洗濯機置場\\t公営水道／\\t下水／\\t...   \n",
       "4  冷房／\\tエアコン付\\tシューズボックス／\\tバルコニー／\\tフローリング／\\t室内洗濯機置...   \n",
       "\n",
       "                                                 駐車場  \\\n",
       "0                         駐輪場\\t空有\\t駐車場\\t無\\tバイク置き場\\t無   \n",
       "1    駐車場\\t近隣\\t34,000円(税込)\\t距離200m\\t駐輪場\\t無\\tバイク置き場\\t無   \n",
       "2  駐車場\\t空有\\t5,000円(税込)\\t(敷金あり\\t1ヶ月)\\t駐輪場\\t空有\\tバイク...   \n",
       "3                                        駐輪場\\t空有\\t0円   \n",
       "4                           駐車場\\t近隣\\t22,600円\\t距離177m   \n",
       "\n",
       "                                                周辺環境          建物構造 契約期間  \n",
       "0  【コンビニ】 74m\\t【スーパー】 215m\\t【病院】 313m\\t【小学校】 219m...           鉄骨造  NaN  \n",
       "1  【スーパー】 128m\\t【スーパー】 313m\\t【コンビニ】 374m\\t【コンビニ】 ...  RC（鉄筋コンクリート）  2年間  \n",
       "2  【スーパー】 529m\\t【スーパー】 810m\\t【コンビニ】 316m\\t【コンビニ】 ...           鉄骨造  2年間  \n",
       "3  【スーパー】 286m\\t【スーパー】 702m\\t【コンビニ】 489m\\t【コンビニ】 ...            木造  2年間  \n",
       "4  【コンビニ】 312m\\t【コンビニ】 436m\\t【スーパー】 902m\\t【コンビニ】 ...  RC（鉄筋コンクリート）  2年間  "
      ]
     },
     "execution_count": 433,
     "metadata": {},
     "output_type": "execute_result"
    }
   ],
   "source": [
    "test_data.head()"
   ]
  },
  {
   "cell_type": "markdown",
   "metadata": {},
   "source": [
    "## 2. 前処理"
   ]
  },
  {
   "cell_type": "markdown",
   "metadata": {},
   "source": [
    "### 2.1. データ選択"
   ]
  },
  {
   "cell_type": "code",
   "execution_count": 434,
   "metadata": {},
   "outputs": [],
   "source": [
    "train_data_1 = train_data[[\"id\", \"所在地\", \"賃料\", \"間取り\", \"築年数\", \"面積\", \"所在階\", \"建物構造\"]]\n",
    "test_data_1 = test_data[[\"id\", \"所在地\", \"間取り\", \"築年数\", \"面積\", \"所在階\", \"建物構造\"]]"
   ]
  },
  {
   "cell_type": "markdown",
   "metadata": {},
   "source": [
    "### 2.2. 間取りの数値化"
   ]
  },
  {
   "cell_type": "code",
   "execution_count": 435,
   "metadata": {},
   "outputs": [
    {
     "name": "stderr",
     "output_type": "stream",
     "text": [
      "C:\\ProgramData\\Anaconda3\\lib\\site-packages\\ipykernel_launcher.py:7: SettingWithCopyWarning: \n",
      "A value is trying to be set on a copy of a slice from a DataFrame.\n",
      "Try using .loc[row_indexer,col_indexer] = value instead\n",
      "\n",
      "See the caveats in the documentation: https://pandas.pydata.org/pandas-docs/stable/user_guide/indexing.html#returning-a-view-versus-a-copy\n",
      "  import sys\n",
      "C:\\ProgramData\\Anaconda3\\lib\\site-packages\\ipykernel_launcher.py:8: SettingWithCopyWarning: \n",
      "A value is trying to be set on a copy of a slice from a DataFrame.\n",
      "Try using .loc[row_indexer,col_indexer] = value instead\n",
      "\n",
      "See the caveats in the documentation: https://pandas.pydata.org/pandas-docs/stable/user_guide/indexing.html#returning-a-view-versus-a-copy\n",
      "  \n"
     ]
    }
   ],
   "source": [
    "# 間取りにlabel encodingを適用\n",
    "from sklearn.preprocessing import LabelEncoder\n",
    "\n",
    "le = LabelEncoder()\n",
    "le.fit(pd.concat([train_data_1[\"間取り\"],test_data_1[\"間取り\"]]))\n",
    "\n",
    "train_data_1[\"間取りID\"] = le.transform(train_data_1[\"間取り\"])\n",
    "test_data_1[\"間取りID\"] = le.transform(test_data_1[\"間取り\"])"
   ]
  },
  {
   "cell_type": "markdown",
   "metadata": {},
   "source": [
    "### 2.3. 面積の数値化"
   ]
  },
  {
   "cell_type": "code",
   "execution_count": 436,
   "metadata": {},
   "outputs": [],
   "source": [
    "# 面積のカラムタイトルを面積[m2]に置換\n",
    "train_data_1 = train_data_1.rename(columns={\"面積\": \"面積m2\"})\n",
    "test_data_1 = test_data_1.rename(columns={\"面積\": \"面積m2\"})"
   ]
  },
  {
   "cell_type": "code",
   "execution_count": 437,
   "metadata": {},
   "outputs": [],
   "source": [
    "# カラムタイトル面積[m2]の要素からm2を削除\n",
    "train_data_1['面積m2'] = train_data_1['面積m2'].str.replace('m2', '').astype(float)\n",
    "test_data_1['面積m2'] = test_data_1['面積m2'].str.replace('m2', '').astype(float)"
   ]
  },
  {
   "cell_type": "markdown",
   "metadata": {},
   "source": [
    "### 2.4. 所在階の数値化"
   ]
  },
  {
   "cell_type": "code",
   "execution_count": 438,
   "metadata": {},
   "outputs": [],
   "source": [
    "# 所在階の中身を\"／\"で2つの列に分割\n",
    "train_data_1 = pd.concat([train_data_1, train_data_1['所在階'].str.split('／', expand=True)], axis=1)\n",
    "test_data_1 = pd.concat([test_data_1, test_data_1['所在階'].str.split('／', expand=True)], axis=1)"
   ]
  },
  {
   "cell_type": "code",
   "execution_count": 439,
   "metadata": {},
   "outputs": [],
   "source": [
    "# 分割した所在階のカラム名変更　0:所在、1:階層\n",
    "train_data_1 = train_data_1.rename(columns={0:\"所在\", 1:\"階層\"})\n",
    "test_data_1 = test_data_1.rename(columns={0:\"所在\", 1:\"階層\"})"
   ]
  },
  {
   "cell_type": "code",
   "execution_count": 440,
   "metadata": {},
   "outputs": [],
   "source": [
    "# 所在と階層の要素を整形\n",
    "train_data_1['所在'] = train_data_1['所在'].str.replace('階', '')\n",
    "train_data_1['所在'] = train_data_1['所在'].str.replace('建', '')\n",
    "train_data_1['所在'] = train_data_1['所在'].str.replace('地下', '-')\n",
    "train_data_1['所在'] = train_data_1['所在'].str.replace('\\（.*\\）', '', regex=True)\n",
    "train_data_1['階層'] = train_data_1['階層'].str.replace('階建', '')\n",
    "train_data_1['階層'] = train_data_1['階層'].str.replace('\\（.*\\）', '', regex=True)\n",
    "train_data_1['所在'] = train_data_1['所在'].replace('', np.nan)\n",
    "\n",
    "test_data_1['所在'] = test_data_1['所在'].str.replace('階', '')\n",
    "test_data_1['所在'] = test_data_1['所在'].str.replace('建', '')\n",
    "test_data_1['所在'] = test_data_1['所在'].str.replace('地下', '-')\n",
    "test_data_1['所在'] = test_data_1['所在'].str.replace('\\（.*\\）', '', regex=True)\n",
    "test_data_1['階層'] = test_data_1['階層'].str.replace('階建', '')\n",
    "test_data_1['階層'] = test_data_1['階層'].str.replace('\\（.*\\）', '', regex=True)\n",
    "test_data_1['所在'] = test_data_1['所在'].replace('', np.nan)"
   ]
  },
  {
   "cell_type": "code",
   "execution_count": 441,
   "metadata": {},
   "outputs": [],
   "source": [
    "# # \"階層\"がNoneの箇所を\"所在\"の値で埋める\n",
    "# train_data_1['階層'].fillna(train_data_1['所在'], inplace=True)\n",
    "# test_data_1['階層'].fillna(test_data_1['所在'], inplace=True)"
   ]
  },
  {
   "cell_type": "code",
   "execution_count": 442,
   "metadata": {},
   "outputs": [],
   "source": [
    "# 所在と階層の要素をfloat型に変換する\n",
    "train_data_1['所在'] = train_data_1['所在'].astype(float)\n",
    "train_data_1['階層'] = train_data_1['階層'].astype(float)\n",
    "\n",
    "test_data_1['所在'] = test_data_1['所在'].astype(float)\n",
    "test_data_1['階層'] = test_data_1['階層'].astype(float)"
   ]
  },
  {
   "cell_type": "code",
   "execution_count": 443,
   "metadata": {},
   "outputs": [],
   "source": [
    "# 所在階のカラムを削除\n",
    "train_data_1 = train_data_1.drop('所在階', axis=1)\n",
    "test_data_1 = test_data_1.drop('所在階', axis=1)"
   ]
  },
  {
   "cell_type": "code",
   "execution_count": 444,
   "metadata": {},
   "outputs": [],
   "source": [
    "# # 所在のNaNを埋める\n",
    "# train_data_1.loc[train_data_1[\"所在\"].isnull(), \"所在\"] = train_data_1[\"階層\"]\n",
    "# test_data_1.loc[test_data_1[\"所在\"].isnull(), \"所在\"] = test_data_1[\"階層\"]"
   ]
  },
  {
   "cell_type": "code",
   "execution_count": 445,
   "metadata": {},
   "outputs": [],
   "source": [
    "# # 所在も階層も空欄のデータは間取りと面積の近いデータで埋める\n",
    "# print(test_data_1[(test_data_1[\"間取りID\"] == 21) & (test_data_1[\"面積m2\"] > 90) & (test_data_1[\"面積m2\"] < 95)].mean())\n",
    "# test_data_1.loc[test_data_1[\"id\"]==40675, \"所在\"] = float(6)\n",
    "# test_data_1.loc[test_data_1[\"id\"]==40675, \"階層\"] = float(9)"
   ]
  },
  {
   "cell_type": "markdown",
   "metadata": {},
   "source": [
    "### 2.5. 築年数の数値化"
   ]
  },
  {
   "cell_type": "code",
   "execution_count": 446,
   "metadata": {},
   "outputs": [],
   "source": [
    "# 新築の場合は全て0にする\n",
    "train_data_1.loc[train_data_1[\"築年数\"]==\"新築\", \"築年数\"] = float(0)\n",
    "test_data_1.loc[test_data_1[\"築年数\"]==\"新築\", \"築年数\"] = float(0)"
   ]
  },
  {
   "cell_type": "code",
   "execution_count": 447,
   "metadata": {},
   "outputs": [],
   "source": [
    "# 築年数を数値に変換する\n",
    "train_data_1 = pd.concat([train_data_1, train_data_1['築年数'].str.split('年', expand=True)], axis=1)\n",
    "test_data_1 = pd.concat([test_data_1, test_data_1['築年数'].str.split('年', expand=True)], axis=1)"
   ]
  },
  {
   "cell_type": "code",
   "execution_count": 448,
   "metadata": {},
   "outputs": [],
   "source": [
    "# ヶ月を消す\n",
    "train_data_1[1] = train_data_1[1].str.replace('ヶ月', '')\n",
    "test_data_1[1] = test_data_1[1].str.replace('ヶ月', '')"
   ]
  },
  {
   "cell_type": "code",
   "execution_count": 449,
   "metadata": {},
   "outputs": [],
   "source": [
    "# 築年数をfloat変換\n",
    "train_data_1[\"築年数\"] = train_data_1[0].astype(float) + (train_data_1[1].astype(float) / float(10))\n",
    "test_data_1[\"築年数\"] = test_data_1[0].astype(float) + (test_data_1[1].astype(float) / float(10))"
   ]
  },
  {
   "cell_type": "code",
   "execution_count": 450,
   "metadata": {},
   "outputs": [
    {
     "data": {
      "text/html": [
       "<div>\n",
       "<style scoped>\n",
       "    .dataframe tbody tr th:only-of-type {\n",
       "        vertical-align: middle;\n",
       "    }\n",
       "\n",
       "    .dataframe tbody tr th {\n",
       "        vertical-align: top;\n",
       "    }\n",
       "\n",
       "    .dataframe thead th {\n",
       "        text-align: right;\n",
       "    }\n",
       "</style>\n",
       "<table border=\"1\" class=\"dataframe\">\n",
       "  <thead>\n",
       "    <tr style=\"text-align: right;\">\n",
       "      <th></th>\n",
       "      <th>id</th>\n",
       "      <th>所在地</th>\n",
       "      <th>間取り</th>\n",
       "      <th>築年数</th>\n",
       "      <th>面積m2</th>\n",
       "      <th>建物構造</th>\n",
       "      <th>間取りID</th>\n",
       "      <th>所在</th>\n",
       "      <th>階層</th>\n",
       "      <th>0</th>\n",
       "      <th>1</th>\n",
       "    </tr>\n",
       "  </thead>\n",
       "  <tbody>\n",
       "    <tr>\n",
       "      <th>0</th>\n",
       "      <td>31471</td>\n",
       "      <td>東京都世田谷区深沢５丁目1-27</td>\n",
       "      <td>2LDK</td>\n",
       "      <td>49.0</td>\n",
       "      <td>50.22</td>\n",
       "      <td>鉄骨造</td>\n",
       "      <td>14</td>\n",
       "      <td>8.0</td>\n",
       "      <td>8.0</td>\n",
       "      <td>49</td>\n",
       "      <td>0</td>\n",
       "    </tr>\n",
       "    <tr>\n",
       "      <th>1</th>\n",
       "      <td>31472</td>\n",
       "      <td>東京都目黒区八雲１丁目11-8</td>\n",
       "      <td>1R</td>\n",
       "      <td>0.2</td>\n",
       "      <td>20.88</td>\n",
       "      <td>RC（鉄筋コンクリート）</td>\n",
       "      <td>9</td>\n",
       "      <td>3.0</td>\n",
       "      <td>4.0</td>\n",
       "      <td>0</td>\n",
       "      <td>2</td>\n",
       "    </tr>\n",
       "    <tr>\n",
       "      <th>2</th>\n",
       "      <td>31473</td>\n",
       "      <td>東京都豊島区池袋本町２丁目22-2</td>\n",
       "      <td>1K</td>\n",
       "      <td>23.4</td>\n",
       "      <td>26.93</td>\n",
       "      <td>鉄骨造</td>\n",
       "      <td>3</td>\n",
       "      <td>1.0</td>\n",
       "      <td>4.0</td>\n",
       "      <td>23</td>\n",
       "      <td>4</td>\n",
       "    </tr>\n",
       "    <tr>\n",
       "      <th>3</th>\n",
       "      <td>31474</td>\n",
       "      <td>東京都杉並区和泉１丁目</td>\n",
       "      <td>1K</td>\n",
       "      <td>36.2</td>\n",
       "      <td>23.57</td>\n",
       "      <td>木造</td>\n",
       "      <td>3</td>\n",
       "      <td>1.0</td>\n",
       "      <td>2.0</td>\n",
       "      <td>36</td>\n",
       "      <td>2</td>\n",
       "    </tr>\n",
       "    <tr>\n",
       "      <th>4</th>\n",
       "      <td>31475</td>\n",
       "      <td>東京都杉並区堀ノ内２丁目</td>\n",
       "      <td>2LDK</td>\n",
       "      <td>45.4</td>\n",
       "      <td>50.00</td>\n",
       "      <td>RC（鉄筋コンクリート）</td>\n",
       "      <td>14</td>\n",
       "      <td>4.0</td>\n",
       "      <td>4.0</td>\n",
       "      <td>45</td>\n",
       "      <td>4</td>\n",
       "    </tr>\n",
       "  </tbody>\n",
       "</table>\n",
       "</div>"
      ],
      "text/plain": [
       "      id                所在地   間取り   築年数   面積m2          建物構造  間取りID   所在   階層  \\\n",
       "0  31471   東京都世田谷区深沢５丁目1-27  2LDK  49.0  50.22           鉄骨造     14  8.0  8.0   \n",
       "1  31472    東京都目黒区八雲１丁目11-8    1R   0.2  20.88  RC（鉄筋コンクリート）      9  3.0  4.0   \n",
       "2  31473  東京都豊島区池袋本町２丁目22-2    1K  23.4  26.93           鉄骨造      3  1.0  4.0   \n",
       "3  31474        東京都杉並区和泉１丁目    1K  36.2  23.57            木造      3  1.0  2.0   \n",
       "4  31475       東京都杉並区堀ノ内２丁目  2LDK  45.4  50.00  RC（鉄筋コンクリート）     14  4.0  4.0   \n",
       "\n",
       "    0  1  \n",
       "0  49  0  \n",
       "1   0  2  \n",
       "2  23  4  \n",
       "3  36  2  \n",
       "4  45  4  "
      ]
     },
     "execution_count": 450,
     "metadata": {},
     "output_type": "execute_result"
    }
   ],
   "source": [
    "test_data_1.head()"
   ]
  },
  {
   "cell_type": "code",
   "execution_count": 451,
   "metadata": {},
   "outputs": [
    {
     "name": "stdout",
     "output_type": "stream",
     "text": [
      "          id               所在地       間取り  築年数   面積m2          建物構造  間取りID  \\\n",
      "77     31548      東京都大田区東矢口２丁目  1K+S(納戸)  NaN  23.80           鉄骨造      4   \n",
      "108    31579  東京都世田谷区上馬２丁目26-8        1K  NaN  26.44  RC（鉄筋コンクリート）      3   \n",
      "112    31583       東京都台東区台東２丁目      1LDK  NaN  41.65           鉄骨造      5   \n",
      "156    31627  東京都品川区南大井４丁目20-5        1R  NaN  20.56  RC（鉄筋コンクリート）      9   \n",
      "162    31633     東京都江東区扇橋２丁目23        1K  NaN  25.34  RC（鉄筋コンクリート）      3   \n",
      "...      ...               ...       ...  ...    ...           ...    ...   \n",
      "31141  62612  東京都世田谷区桜丘４丁目15-9      2LDK  NaN  60.81            木造     14   \n",
      "31176  62647   東京都江戸川区中葛西８丁目22      1LDK  NaN  40.06  RC（鉄筋コンクリート）      5   \n",
      "31181  62652       東京都新宿区原町３丁目      1LDK  NaN  40.26           鉄骨造      5   \n",
      "31182  62653       東京都新宿区原町３丁目      2LDK  NaN  54.75           鉄骨造     14   \n",
      "31212  62683       東京都新宿区原町３丁目      1LDK  NaN  40.79           鉄骨造      5   \n",
      "\n",
      "        所在    階層    0    1  \n",
      "77     2.0   3.0  NaN  NaN  \n",
      "108    7.0  13.0  NaN  NaN  \n",
      "112    3.0  10.0  NaN  NaN  \n",
      "156    3.0  12.0  NaN  NaN  \n",
      "162    1.0   8.0  NaN  NaN  \n",
      "...    ...   ...  ...  ...  \n",
      "31141  2.0   2.0  NaN  NaN  \n",
      "31176  3.0  10.0  NaN  NaN  \n",
      "31181  2.0   3.0  NaN  NaN  \n",
      "31182  1.0   3.0  NaN  NaN  \n",
      "31212  2.0   3.0  NaN  NaN  \n",
      "\n",
      "[850 rows x 11 columns]\n"
     ]
    }
   ],
   "source": [
    "print(test_data_1[test_data_1[\"築年数\"].isnull()])"
   ]
  },
  {
   "cell_type": "code",
   "execution_count": 452,
   "metadata": {},
   "outputs": [],
   "source": [
    "# 0と1の列を消す\n",
    "train_data_1 = train_data_1.drop(0, axis=1)\n",
    "train_data_1 = train_data_1.drop(1, axis=1)\n",
    "\n",
    "test_data_1 = test_data_1.drop(0, axis=1)\n",
    "test_data_1 = test_data_1.drop(1, axis=1)"
   ]
  },
  {
   "cell_type": "markdown",
   "metadata": {},
   "source": [
    "### 2.6. 緯度経度情報の追加"
   ]
  },
  {
   "cell_type": "markdown",
   "metadata": {},
   "source": [
    "#### [このサイト](https://ktgis.net/gcode/geocoding.html)を利用する"
   ]
  },
  {
   "cell_type": "code",
   "execution_count": 453,
   "metadata": {},
   "outputs": [],
   "source": [
    "# IDと住所をファイル出力\n",
    "train_coordinate = train_data[[\"id\", \"所在地\"]]\n",
    "test_coordinate = test_data[[\"id\", \"所在地\"]]\n",
    "\n",
    "train_coordinate.to_csv(\"train_coordinate.csv\", header=False, index=False)\n",
    "test_coordinate.to_csv(\"test_coordinate.csv\", header=False, index=False)"
   ]
  },
  {
   "cell_type": "code",
   "execution_count": 454,
   "metadata": {},
   "outputs": [],
   "source": [
    "# 緯度、経度情報の読み込み(id, 所在地, 経度, 緯度)\n",
    "train_coordinate_addvalue = pd.read_excel(\"train_coordinate_addvalue.xlsx\")\n",
    "test_coordinate_addvalue = pd.read_excel(\"test_coordinate_addvalue.xlsx\")"
   ]
  },
  {
   "cell_type": "code",
   "execution_count": 455,
   "metadata": {},
   "outputs": [],
   "source": [
    "train_data_1 = pd.merge(train_data_1, train_coordinate_addvalue[[\"id\", \"経度\", \"緯度\"]], on='id')\n",
    "test_data_1 = pd.merge(test_data_1, test_coordinate_addvalue[[\"id\", \"経度\", \"緯度\"]], on='id')"
   ]
  },
  {
   "cell_type": "markdown",
   "metadata": {},
   "source": [
    "### 2.7. 部屋数の追加"
   ]
  },
  {
   "cell_type": "code",
   "execution_count": 456,
   "metadata": {},
   "outputs": [],
   "source": [
    "# 部屋数のマージ\n",
    "number_of_rooms = pd.read_excel(\"number_of_rooms.xlsx\")\n",
    "train_data_1 = pd.merge(train_data_1, number_of_rooms[[\"間取り\", \"部屋数\"]], on='間取り')\n",
    "test_data_1 = pd.merge(test_data_1, number_of_rooms[[\"間取り\", \"部屋数\"]], on='間取り')"
   ]
  },
  {
   "cell_type": "code",
   "execution_count": 457,
   "metadata": {},
   "outputs": [],
   "source": [
    "# インデックスの振り直し\n",
    "train_data_1 = train_data_1.sort_values(\"id\")\n",
    "train_data_1 = train_data_1.reset_index(drop=True)\n",
    "\n",
    "test_data_1 = test_data_1.sort_values(\"id\")\n",
    "test_data_1 = test_data_1.reset_index(drop=True)"
   ]
  },
  {
   "cell_type": "markdown",
   "metadata": {},
   "source": [
    "### 2.8. 1部屋当たりの面積追加"
   ]
  },
  {
   "cell_type": "code",
   "execution_count": 458,
   "metadata": {},
   "outputs": [],
   "source": [
    "# 面積と部屋数から1部屋当たりの面積を算出\n",
    "train_data_1[\"1部屋当たり面積m2\"] = (train_data_1[\"面積m2\"] / train_data_1[\"部屋数\"]).astype(float)\n",
    "test_data_1[\"1部屋当たり面積m2\"] = (test_data_1[\"面積m2\"] / test_data_1[\"部屋数\"]).astype(float)"
   ]
  },
  {
   "cell_type": "code",
   "execution_count": 459,
   "metadata": {},
   "outputs": [],
   "source": [
    "# 間取りと間取りIDは削除する\n",
    "train_data_1 = train_data_1.drop('間取り', axis=1)\n",
    "test_data_1 = test_data_1.drop('間取り', axis=1)\n",
    "\n",
    "# train_data_1 = train_data_1.drop('間取りID', axis=1)\n",
    "# test_data_1 = test_data_1.drop('間取りID', axis=1)"
   ]
  },
  {
   "cell_type": "markdown",
   "metadata": {},
   "source": [
    "#### 2.9. 建物の高さ率を追加(高さ率=所在/階層)"
   ]
  },
  {
   "cell_type": "code",
   "execution_count": 460,
   "metadata": {},
   "outputs": [],
   "source": [
    "# 高さ率の算出\n",
    "train_data_1[\"高さ率\"] = (train_data_1[\"所在\"] / train_data_1[\"階層\"]).astype(float)\n",
    "test_data_1[\"高さ率\"] = (test_data_1[\"所在\"] / test_data_1[\"階層\"]).astype(float)"
   ]
  },
  {
   "cell_type": "markdown",
   "metadata": {},
   "source": [
    "### 2.10. 建物構造の数値化"
   ]
  },
  {
   "cell_type": "code",
   "execution_count": 461,
   "metadata": {},
   "outputs": [
    {
     "data": {
      "text/plain": [
       "RC（鉄筋コンクリート）                   17505\n",
       "木造                              5512\n",
       "鉄骨造                             3726\n",
       "SRC（鉄骨鉄筋コンクリート）                 2429\n",
       "軽量鉄骨                            1812\n",
       "ALC（軽量気泡コンクリート）                  297\n",
       "その他                              136\n",
       "PC（プレキャスト・コンクリート（鉄筋コンクリート））       46\n",
       "HPC（プレキャスト・コンクリート（重量鉄骨））           4\n",
       "ブロック                               3\n",
       "Name: 建物構造, dtype: int64"
      ]
     },
     "execution_count": 461,
     "metadata": {},
     "output_type": "execute_result"
    }
   ],
   "source": [
    "train_data_1[\"建物構造\"].value_counts()"
   ]
  },
  {
   "cell_type": "code",
   "execution_count": 462,
   "metadata": {},
   "outputs": [],
   "source": [
    "# 建物構造にlabel encodingを適用\n",
    "from sklearn.preprocessing import LabelEncoder\n",
    "\n",
    "le = LabelEncoder()\n",
    "le.fit(pd.concat([train_data_1[\"建物構造\"],test_data_1[\"建物構造\"]]))\n",
    "\n",
    "train_data_1[\"建物構造ID\"] = le.transform(train_data_1[\"建物構造\"])\n",
    "test_data_1[\"建物構造ID\"] = le.transform(test_data_1[\"建物構造\"])"
   ]
  },
  {
   "cell_type": "code",
   "execution_count": 463,
   "metadata": {},
   "outputs": [],
   "source": [
    "# 不要になった建物構造カラムを削除する\n",
    "train_data_1 = train_data_1.drop('建物構造', axis=1)\n",
    "test_data_1 = test_data_1.drop('建物構造', axis=1)"
   ]
  },
  {
   "cell_type": "markdown",
   "metadata": {},
   "source": [
    "### 2.11. 新規カラムに「賃料/面積」を追加"
   ]
  },
  {
   "cell_type": "code",
   "execution_count": 464,
   "metadata": {},
   "outputs": [],
   "source": [
    "train_data_1[\"賃料/面積\"] = train_data_1[\"賃料\"] / train_data_1[\"面積m2\"]"
   ]
  },
  {
   "cell_type": "markdown",
   "metadata": {},
   "source": [
    "### 2.12. 東京23区の地域ごとに、住宅地の平均地価情報を追加"
   ]
  },
  {
   "cell_type": "code",
   "execution_count": 465,
   "metadata": {},
   "outputs": [],
   "source": [
    "# 区の情報の確認(23区だけだった)\n",
    "# sample = train_data[\"所在地\"].str.extract(\"東京都(.+区)\", expand=True)\n",
    "# sample.value_counts()"
   ]
  },
  {
   "cell_type": "code",
   "execution_count": 466,
   "metadata": {},
   "outputs": [
    {
     "name": "stdout",
     "output_type": "stream",
     "text": [
      "31470\n",
      "31262\n"
     ]
    }
   ],
   "source": [
    "print(len(train_data_1))\n",
    "print(len(test_data_1))"
   ]
  },
  {
   "cell_type": "code",
   "execution_count": 467,
   "metadata": {},
   "outputs": [],
   "source": [
    "# 訓練データとテストデータに、エリア情報を追加\n",
    "train_data_1[\"エリア\"] = \"\"\n",
    "test_data_1[\"エリア\"] = \"\"\n",
    "train_data_1[\"エリア\"] = train_data_1[\"所在地\"].str.extract(\"東京都((.+区.+?)[０-９]|(.+区.+?)[0-9]|(.+区.+))\", expand=True)\n",
    "test_data_1[\"エリア\"] = test_data_1[\"所在地\"].str.extract(\"東京都((.+区.+?)[０-９]|(.+区.+?)[0-9]|(.+区.+))\", expand=True)"
   ]
  },
  {
   "cell_type": "code",
   "execution_count": 468,
   "metadata": {},
   "outputs": [
    {
     "name": "stdout",
     "output_type": "stream",
     "text": [
      "31470\n",
      "31262\n"
     ]
    }
   ],
   "source": [
    "print(len(train_data_1))\n",
    "print(len(test_data_1))"
   ]
  },
  {
   "cell_type": "code",
   "execution_count": 469,
   "metadata": {},
   "outputs": [
    {
     "name": "stderr",
     "output_type": "stream",
     "text": [
      "C:\\ProgramData\\Anaconda3\\lib\\site-packages\\ipykernel_launcher.py:2: FutureWarning: The default value of regex will change from True to False in a future version.\n",
      "  \n",
      "C:\\ProgramData\\Anaconda3\\lib\\site-packages\\ipykernel_launcher.py:6: FutureWarning: The default value of regex will change from True to False in a future version.\n",
      "  \n"
     ]
    }
   ],
   "source": [
    "# 一部エリア情報に数値が残ってしまうので、消す\n",
    "train_data_1[\"エリア\"] = train_data_1[\"エリア\"].str.replace(\"[０-９]|[0-9]\", \"\")\n",
    "train_data_1[\"エリア\"] = train_data_1[\"エリア\"].str.replace(\"一丁目\", \"\")\n",
    "train_data_1[\"エリア\"] = train_data_1[\"エリア\"].str.replace(\"-\", \"\")\n",
    "\n",
    "test_data_1[\"エリア\"] = test_data_1[\"エリア\"].str.replace(\"[０-９]|[0-9]\", \"\")\n",
    "test_data_1[\"エリア\"] = test_data_1[\"エリア\"].str.replace(\"一丁目\", \"\")\n",
    "test_data_1[\"エリア\"] = test_data_1[\"エリア\"].str.replace(\"二丁目\", \"\")\n",
    "test_data_1[\"エリア\"] = test_data_1[\"エリア\"].str.replace(\"四丁目\", \"\")"
   ]
  },
  {
   "cell_type": "code",
   "execution_count": 470,
   "metadata": {},
   "outputs": [
    {
     "name": "stdout",
     "output_type": "stream",
     "text": [
      "31470\n",
      "31262\n"
     ]
    }
   ],
   "source": [
    "print(len(train_data_1))\n",
    "print(len(test_data_1))"
   ]
  },
  {
   "cell_type": "code",
   "execution_count": 471,
   "metadata": {},
   "outputs": [],
   "source": [
    "# 坪単価情報の読込～結合\n",
    "wards_value = pd.read_excel(\"23区_地域毎_坪単価.xlsx\")\n",
    "train_data_1 = pd.merge(train_data_1, wards_value, on=\"エリア\", how=\"left\")\n",
    "test_data_1 = pd.merge(test_data_1, wards_value, on=\"エリア\", how=\"left\")\n",
    "train_data_1 = train_data_1.sort_values(\"id\")\n",
    "test_data_1 = test_data_1.sort_values(\"id\")\n",
    "\n",
    "train_data_1 = train_data_1.drop(\"Unnamed: 4\", axis=1)\n",
    "test_data_1 = test_data_1.drop(\"Unnamed: 4\", axis=1)"
   ]
  },
  {
   "cell_type": "code",
   "execution_count": 472,
   "metadata": {},
   "outputs": [],
   "source": [
    "# 地価の抜けデータを平均値で補間\n",
    "# 江東区\n",
    "train_data_1.loc[train_data_1[\"id\"]==2767, \"区\"] = \"江東区\"\n",
    "train_data_1.loc[train_data_1[\"id\"]==7559, \"区\"] = \"江東区\"\n",
    "train_data_1.loc[train_data_1[\"id\"]==2767, \"平均坪単価（万円）\"] = 206.6\n",
    "train_data_1.loc[train_data_1[\"id\"]==7559, \"平均坪単価（万円）\"] = 206.6\n",
    "# 港区\n",
    "train_data_1.loc[train_data_1[\"id\"]==17654, \"区\"] = \"港区\"\n",
    "train_data_1.loc[train_data_1[\"id\"]==17654, \"平均坪単価（万円）\"] = 1321.4"
   ]
  },
  {
   "cell_type": "code",
   "execution_count": 473,
   "metadata": {},
   "outputs": [
    {
     "name": "stdout",
     "output_type": "stream",
     "text": [
      "31470\n",
      "31262\n"
     ]
    }
   ],
   "source": [
    "print(len(train_data_1))\n",
    "print(len(test_data_1))"
   ]
  },
  {
   "cell_type": "code",
   "execution_count": 474,
   "metadata": {},
   "outputs": [
    {
     "name": "stdout",
     "output_type": "stream",
     "text": [
      "Empty DataFrame\n",
      "Columns: [id, 所在地, 賃料, 築年数, 面積m2, 間取りID, 所在, 階層, 経度, 緯度, 部屋数, 1部屋当たり面積m2, 高さ率, 建物構造ID, 賃料/面積, エリア, 区, 地名, 平均坪単価（万円）]\n",
      "Index: []\n",
      "Empty DataFrame\n",
      "Columns: [id, 所在地, 築年数, 面積m2, 間取りID, 所在, 階層, 経度, 緯度, 部屋数, 1部屋当たり面積m2, 高さ率, 建物構造ID, エリア, 区, 地名, 平均坪単価（万円）]\n",
      "Index: []\n"
     ]
    }
   ],
   "source": [
    "print(train_data_1[train_data_1[\"平均坪単価（万円）\"].isnull()])\n",
    "print(test_data_1[test_data_1[\"平均坪単価（万円）\"].isnull()])"
   ]
  },
  {
   "cell_type": "markdown",
   "metadata": {},
   "source": [
    "### 2.13. 区IDの追加"
   ]
  },
  {
   "cell_type": "code",
   "execution_count": 475,
   "metadata": {},
   "outputs": [],
   "source": [
    "# 区にlabel encodingを適用\n",
    "from sklearn.preprocessing import LabelEncoder\n",
    "\n",
    "le = LabelEncoder()\n",
    "le.fit(pd.concat([train_data_1[\"区\"],test_data_1[\"区\"]]))\n",
    "\n",
    "train_data_1[\"区ID\"] = le.transform(train_data_1[\"区\"])\n",
    "test_data_1[\"区ID\"] = le.transform(test_data_1[\"区\"])"
   ]
  },
  {
   "cell_type": "code",
   "execution_count": 476,
   "metadata": {},
   "outputs": [],
   "source": [
    "# 不要なカラムを削除する\n",
    "train_data_1 = train_data_1.drop([\"所在地\", \"エリア\", \"区\", \"地名\"], axis=1)\n",
    "test_data_1 = test_data_1.drop([\"所在地\", \"エリア\", \"区\", \"地名\"], axis=1)"
   ]
  },
  {
   "cell_type": "markdown",
   "metadata": {},
   "source": [
    "### 2.14. 六本木駅からの距離情報を追加"
   ]
  },
  {
   "cell_type": "code",
   "execution_count": 477,
   "metadata": {},
   "outputs": [],
   "source": [
    "# 六本木駅からの距離を追加\n",
    "# 六本木駅 緯度: 35.662725 経度: 139.731217\n",
    "from geopy import Point\n",
    "from geopy.distance import geodesic\n",
    "from geopy.distance import distance\n",
    "\n",
    "train_data_1[\"Roppongi_longtitude\"] = 139.731217\n",
    "train_data_1[\"Roppongi_latitude\"] = 35.662725\n",
    "train_data_1['point'] = train_data_1.apply(lambda row: Point(latitude=row['緯度'], longitude=row['経度']), axis=1)\n",
    "train_data_1['point_next'] = train_data_1.apply(lambda row: Point(latitude=row['Roppongi_latitude'], longitude=row['Roppongi_longtitude']), axis=1)\n",
    "\n",
    "test_data_1[\"Roppongi_longtitude\"] = 139.731217\n",
    "test_data_1[\"Roppongi_latitude\"] = 35.662725\n",
    "test_data_1['point'] = test_data_1.apply(lambda row: Point(latitude=row['緯度'], longitude=row['経度']), axis=1)\n",
    "test_data_1['point_next'] = test_data_1.apply(lambda row: Point(latitude=row['Roppongi_latitude'], longitude=row['Roppongi_longtitude']), axis=1)\n",
    "\n",
    "train_data_1['distance_km'] = train_data_1.apply(lambda row: distance(row['point'], row['point_next']).km if row['point_next'] is not None else float('nan'), axis=1)\n",
    "test_data_1['distance_km'] = test_data_1.apply(lambda row: distance(row['point'], row['point_next']).km if row['point_next'] is not None else float('nan'), axis=1)"
   ]
  },
  {
   "cell_type": "code",
   "execution_count": 478,
   "metadata": {},
   "outputs": [],
   "source": [
    "# 不要なカラムを削除する\n",
    "train_data_1 = train_data_1.drop([\"Roppongi_longtitude\", \"Roppongi_latitude\", \"point\", \"point_next\"], axis=1)\n",
    "test_data_1 = test_data_1.drop([\"Roppongi_longtitude\", \"Roppongi_latitude\", \"point\", \"point_next\"], axis=1)"
   ]
  },
  {
   "cell_type": "code",
   "execution_count": 479,
   "metadata": {},
   "outputs": [
    {
     "name": "stdout",
     "output_type": "stream",
     "text": [
      "0 0\n"
     ]
    }
   ],
   "source": [
    "print(train_data_1[\"distance_km\"].isnull().sum(), test_data_1[\"distance_km\"].isnull().sum())"
   ]
  },
  {
   "cell_type": "markdown",
   "metadata": {},
   "source": [
    "### 2.15. 重複物件の抽出・削除"
   ]
  },
  {
   "cell_type": "code",
   "execution_count": 480,
   "metadata": {},
   "outputs": [],
   "source": [
    "# 重複確認用のデータ出力\n",
    "# train_duplicate = pd.concat([train_data[[\"id\", \"賃料\", \"所在地\"]], train_data_1[[\"間取りID\", \"面積m2\", \"所在\", \"階層\"]]], axis=1)\n",
    "# test_duplicate = pd.concat([test_data[[\"id\", \"所在地\"]], test_data_1[[\"間取りID\", \"面積m2\", \"所在\", \"階層\"]]], axis=1)"
   ]
  },
  {
   "cell_type": "code",
   "execution_count": 481,
   "metadata": {},
   "outputs": [],
   "source": [
    "# 結果の出力\n",
    "# train_duplicate.to_excel(\"train_duplicate.xlsx\", header=True, index=False)\n",
    "# test_duplicate.to_excel(\"test_duplicate.xlsx\", header=True, index=False)"
   ]
  },
  {
   "cell_type": "code",
   "execution_count": 482,
   "metadata": {},
   "outputs": [],
   "source": [
    "# 重複対象のデータ読み込み\n",
    "train_duplicate_flag = pd.read_excel(\"train_duplicate_flag.xlsx\")\n",
    "test_duplicate_flag = pd.read_excel(\"test_duplicate_flag.xlsx\")"
   ]
  },
  {
   "cell_type": "code",
   "execution_count": 483,
   "metadata": {},
   "outputs": [
    {
     "name": "stdout",
     "output_type": "stream",
     "text": [
      "Train: 31470 - 31470 = 0\n",
      "Test: 31262 - 31262 = 0\n"
     ]
    }
   ],
   "source": [
    "# データ数のチェック\n",
    "print(\"Train:\", len(train_data_1), \"-\", len(train_duplicate_flag), \"=\", len(train_data_1)-len(train_duplicate_flag))\n",
    "print(\"Test:\", len(test_data_1), \"-\", len(test_duplicate_flag), \"=\", len(test_data_1)-len(test_duplicate_flag))"
   ]
  },
  {
   "cell_type": "code",
   "execution_count": 484,
   "metadata": {},
   "outputs": [],
   "source": [
    "# 重複フラグを結合\n",
    "train_data_1 = pd.merge(train_data_1, train_duplicate_flag, on=\"id\")\n",
    "train_data_1 = train_data_1.rename(columns={\"賃料_x\":\"賃料\"})\n",
    "train_data_1 = train_data_1.drop('賃料_y', axis=1)\n",
    "\n",
    "test_data_1 = pd.merge(test_data_1, test_duplicate_flag, on=\"id\")"
   ]
  },
  {
   "cell_type": "code",
   "execution_count": 485,
   "metadata": {},
   "outputs": [
    {
     "name": "stdout",
     "output_type": "stream",
     "text": [
      "【削除前】 train: 31470 ,  test: 31262\n",
      "【削除後】 train: 31470 ,  test: 24812\n"
     ]
    }
   ],
   "source": [
    "# testデータからのみ、flag=1.0の列を削除\n",
    "print(\"【削除前】\", \"train:\", len(train_data_1), \", \", \"test:\", len(test_data_1))\n",
    "#train_data_1 = train_data_1.loc[train_data_1[\"flag\"] != 1.0]\n",
    "test_data_1 = test_data_1.loc[test_data_1[\"flag\"] != 1.0]\n",
    "print(\"【削除後】\", \"train:\", len(train_data_1), \", \", \"test:\", len(test_data_1))"
   ]
  },
  {
   "cell_type": "markdown",
   "metadata": {},
   "source": [
    "## 3. データチェック"
   ]
  },
  {
   "cell_type": "code",
   "execution_count": 486,
   "metadata": {},
   "outputs": [
    {
     "data": {
      "text/plain": [
       "id                 0\n",
       "賃料                 0\n",
       "築年数              889\n",
       "面積m2               0\n",
       "間取りID              0\n",
       "所在               120\n",
       "階層               594\n",
       "経度                 0\n",
       "緯度                 0\n",
       "部屋数                0\n",
       "1部屋当たり面積m2         0\n",
       "高さ率              714\n",
       "建物構造ID             0\n",
       "賃料/面積              0\n",
       "平均坪単価（万円）          0\n",
       "区ID                0\n",
       "distance_km        0\n",
       "flag           25975\n",
       "dtype: int64"
      ]
     },
     "execution_count": 486,
     "metadata": {},
     "output_type": "execute_result"
    }
   ],
   "source": [
    "train_data_1.isnull().sum()"
   ]
  },
  {
   "cell_type": "code",
   "execution_count": 487,
   "metadata": {},
   "outputs": [
    {
     "data": {
      "text/plain": [
       "id                 0\n",
       "築年数              675\n",
       "面積m2               0\n",
       "間取りID              0\n",
       "所在               102\n",
       "階層               476\n",
       "経度                 0\n",
       "緯度                 0\n",
       "部屋数                0\n",
       "1部屋当たり面積m2         0\n",
       "高さ率              577\n",
       "建物構造ID             0\n",
       "平均坪単価（万円）          0\n",
       "区ID                0\n",
       "distance_km        0\n",
       "flag           24812\n",
       "dtype: int64"
      ]
     },
     "execution_count": 487,
     "metadata": {},
     "output_type": "execute_result"
    }
   ],
   "source": [
    "test_data_1.isnull().sum()"
   ]
  },
  {
   "cell_type": "code",
   "execution_count": 488,
   "metadata": {},
   "outputs": [
    {
     "data": {
      "text/plain": [
       "31470"
      ]
     },
     "execution_count": 488,
     "metadata": {},
     "output_type": "execute_result"
    }
   ],
   "source": [
    "len(train_data_1)"
   ]
  },
  {
   "cell_type": "code",
   "execution_count": 489,
   "metadata": {},
   "outputs": [
    {
     "data": {
      "text/plain": [
       "31470"
      ]
     },
     "execution_count": 489,
     "metadata": {},
     "output_type": "execute_result"
    }
   ],
   "source": [
    "len(train_data)"
   ]
  },
  {
   "cell_type": "code",
   "execution_count": 490,
   "metadata": {},
   "outputs": [
    {
     "data": {
      "text/plain": [
       "24812"
      ]
     },
     "execution_count": 490,
     "metadata": {},
     "output_type": "execute_result"
    }
   ],
   "source": [
    "len(test_data_1)"
   ]
  },
  {
   "cell_type": "code",
   "execution_count": 491,
   "metadata": {},
   "outputs": [
    {
     "data": {
      "text/plain": [
       "31262"
      ]
     },
     "execution_count": 491,
     "metadata": {},
     "output_type": "execute_result"
    }
   ],
   "source": [
    "len(test_data)"
   ]
  },
  {
   "cell_type": "code",
   "execution_count": 492,
   "metadata": {},
   "outputs": [
    {
     "data": {
      "text/html": [
       "<div>\n",
       "<style scoped>\n",
       "    .dataframe tbody tr th:only-of-type {\n",
       "        vertical-align: middle;\n",
       "    }\n",
       "\n",
       "    .dataframe tbody tr th {\n",
       "        vertical-align: top;\n",
       "    }\n",
       "\n",
       "    .dataframe thead th {\n",
       "        text-align: right;\n",
       "    }\n",
       "</style>\n",
       "<table border=\"1\" class=\"dataframe\">\n",
       "  <thead>\n",
       "    <tr style=\"text-align: right;\">\n",
       "      <th></th>\n",
       "      <th>id</th>\n",
       "      <th>賃料</th>\n",
       "      <th>築年数</th>\n",
       "      <th>面積m2</th>\n",
       "      <th>間取りID</th>\n",
       "      <th>所在</th>\n",
       "      <th>階層</th>\n",
       "      <th>経度</th>\n",
       "      <th>緯度</th>\n",
       "      <th>部屋数</th>\n",
       "      <th>1部屋当たり面積m2</th>\n",
       "      <th>高さ率</th>\n",
       "      <th>建物構造ID</th>\n",
       "      <th>賃料/面積</th>\n",
       "      <th>平均坪単価（万円）</th>\n",
       "      <th>区ID</th>\n",
       "      <th>distance_km</th>\n",
       "      <th>flag</th>\n",
       "    </tr>\n",
       "  </thead>\n",
       "  <tbody>\n",
       "    <tr>\n",
       "      <th>0</th>\n",
       "      <td>1</td>\n",
       "      <td>75000</td>\n",
       "      <td>9.9</td>\n",
       "      <td>20.01</td>\n",
       "      <td>3</td>\n",
       "      <td>1.0</td>\n",
       "      <td>12.0</td>\n",
       "      <td>139.727873</td>\n",
       "      <td>35.747759</td>\n",
       "      <td>1.0</td>\n",
       "      <td>20.01</td>\n",
       "      <td>0.083333</td>\n",
       "      <td>3</td>\n",
       "      <td>3748.125937</td>\n",
       "      <td>180.0</td>\n",
       "      <td>3</td>\n",
       "      <td>9.439676</td>\n",
       "      <td>NaN</td>\n",
       "    </tr>\n",
       "    <tr>\n",
       "      <th>1</th>\n",
       "      <td>2</td>\n",
       "      <td>76000</td>\n",
       "      <td>45.0</td>\n",
       "      <td>16.50</td>\n",
       "      <td>9</td>\n",
       "      <td>5.0</td>\n",
       "      <td>10.0</td>\n",
       "      <td>139.780485</td>\n",
       "      <td>35.662406</td>\n",
       "      <td>1.0</td>\n",
       "      <td>16.50</td>\n",
       "      <td>0.500000</td>\n",
       "      <td>10</td>\n",
       "      <td>4606.060606</td>\n",
       "      <td>323.0</td>\n",
       "      <td>1</td>\n",
       "      <td>4.461172</td>\n",
       "      <td>1.0</td>\n",
       "    </tr>\n",
       "    <tr>\n",
       "      <th>2</th>\n",
       "      <td>3</td>\n",
       "      <td>110000</td>\n",
       "      <td>8.6</td>\n",
       "      <td>22.05</td>\n",
       "      <td>3</td>\n",
       "      <td>12.0</td>\n",
       "      <td>15.0</td>\n",
       "      <td>139.667375</td>\n",
       "      <td>35.675358</td>\n",
       "      <td>1.0</td>\n",
       "      <td>22.05</td>\n",
       "      <td>0.800000</td>\n",
       "      <td>3</td>\n",
       "      <td>4988.662132</td>\n",
       "      <td>324.0</td>\n",
       "      <td>15</td>\n",
       "      <td>5.947706</td>\n",
       "      <td>NaN</td>\n",
       "    </tr>\n",
       "    <tr>\n",
       "      <th>3</th>\n",
       "      <td>4</td>\n",
       "      <td>150000</td>\n",
       "      <td>29.4</td>\n",
       "      <td>60.48</td>\n",
       "      <td>14</td>\n",
       "      <td>3.0</td>\n",
       "      <td>4.0</td>\n",
       "      <td>139.648495</td>\n",
       "      <td>35.700193</td>\n",
       "      <td>3.5</td>\n",
       "      <td>17.28</td>\n",
       "      <td>0.750000</td>\n",
       "      <td>3</td>\n",
       "      <td>2480.158730</td>\n",
       "      <td>253.0</td>\n",
       "      <td>11</td>\n",
       "      <td>8.564949</td>\n",
       "      <td>NaN</td>\n",
       "    </tr>\n",
       "    <tr>\n",
       "      <th>4</th>\n",
       "      <td>5</td>\n",
       "      <td>74000</td>\n",
       "      <td>31.7</td>\n",
       "      <td>39.66</td>\n",
       "      <td>10</td>\n",
       "      <td>1.0</td>\n",
       "      <td>2.0</td>\n",
       "      <td>139.872315</td>\n",
       "      <td>35.766413</td>\n",
       "      <td>3.0</td>\n",
       "      <td>13.22</td>\n",
       "      <td>0.500000</td>\n",
       "      <td>7</td>\n",
       "      <td>1865.859808</td>\n",
       "      <td>111.0</td>\n",
       "      <td>20</td>\n",
       "      <td>17.186233</td>\n",
       "      <td>NaN</td>\n",
       "    </tr>\n",
       "  </tbody>\n",
       "</table>\n",
       "</div>"
      ],
      "text/plain": [
       "   id      賃料   築年数   面積m2  間取りID    所在    階層          経度         緯度  部屋数  \\\n",
       "0   1   75000   9.9  20.01      3   1.0  12.0  139.727873  35.747759  1.0   \n",
       "1   2   76000  45.0  16.50      9   5.0  10.0  139.780485  35.662406  1.0   \n",
       "2   3  110000   8.6  22.05      3  12.0  15.0  139.667375  35.675358  1.0   \n",
       "3   4  150000  29.4  60.48     14   3.0   4.0  139.648495  35.700193  3.5   \n",
       "4   5   74000  31.7  39.66     10   1.0   2.0  139.872315  35.766413  3.0   \n",
       "\n",
       "   1部屋当たり面積m2       高さ率  建物構造ID        賃料/面積  平均坪単価（万円）  区ID  distance_km  \\\n",
       "0       20.01  0.083333       3  3748.125937      180.0    3     9.439676   \n",
       "1       16.50  0.500000      10  4606.060606      323.0    1     4.461172   \n",
       "2       22.05  0.800000       3  4988.662132      324.0   15     5.947706   \n",
       "3       17.28  0.750000       3  2480.158730      253.0   11     8.564949   \n",
       "4       13.22  0.500000       7  1865.859808      111.0   20    17.186233   \n",
       "\n",
       "   flag  \n",
       "0   NaN  \n",
       "1   1.0  \n",
       "2   NaN  \n",
       "3   NaN  \n",
       "4   NaN  "
      ]
     },
     "execution_count": 492,
     "metadata": {},
     "output_type": "execute_result"
    }
   ],
   "source": [
    "train_data_1.head()"
   ]
  },
  {
   "cell_type": "code",
   "execution_count": 493,
   "metadata": {},
   "outputs": [
    {
     "data": {
      "text/html": [
       "<div>\n",
       "<style scoped>\n",
       "    .dataframe tbody tr th:only-of-type {\n",
       "        vertical-align: middle;\n",
       "    }\n",
       "\n",
       "    .dataframe tbody tr th {\n",
       "        vertical-align: top;\n",
       "    }\n",
       "\n",
       "    .dataframe thead th {\n",
       "        text-align: right;\n",
       "    }\n",
       "</style>\n",
       "<table border=\"1\" class=\"dataframe\">\n",
       "  <thead>\n",
       "    <tr style=\"text-align: right;\">\n",
       "      <th></th>\n",
       "      <th>id</th>\n",
       "      <th>築年数</th>\n",
       "      <th>面積m2</th>\n",
       "      <th>間取りID</th>\n",
       "      <th>所在</th>\n",
       "      <th>階層</th>\n",
       "      <th>経度</th>\n",
       "      <th>緯度</th>\n",
       "      <th>部屋数</th>\n",
       "      <th>1部屋当たり面積m2</th>\n",
       "      <th>高さ率</th>\n",
       "      <th>建物構造ID</th>\n",
       "      <th>平均坪単価（万円）</th>\n",
       "      <th>区ID</th>\n",
       "      <th>distance_km</th>\n",
       "      <th>flag</th>\n",
       "    </tr>\n",
       "  </thead>\n",
       "  <tbody>\n",
       "    <tr>\n",
       "      <th>0</th>\n",
       "      <td>31471</td>\n",
       "      <td>49.0</td>\n",
       "      <td>50.22</td>\n",
       "      <td>14</td>\n",
       "      <td>8.0</td>\n",
       "      <td>8.0</td>\n",
       "      <td>139.652762</td>\n",
       "      <td>35.617708</td>\n",
       "      <td>3.5</td>\n",
       "      <td>14.348571</td>\n",
       "      <td>1.00</td>\n",
       "      <td>10</td>\n",
       "      <td>208.0</td>\n",
       "      <td>0</td>\n",
       "      <td>8.685596</td>\n",
       "      <td>NaN</td>\n",
       "    </tr>\n",
       "    <tr>\n",
       "      <th>1</th>\n",
       "      <td>31472</td>\n",
       "      <td>0.2</td>\n",
       "      <td>20.88</td>\n",
       "      <td>9</td>\n",
       "      <td>3.0</td>\n",
       "      <td>4.0</td>\n",
       "      <td>139.672871</td>\n",
       "      <td>35.617709</td>\n",
       "      <td>1.0</td>\n",
       "      <td>20.880000</td>\n",
       "      <td>0.75</td>\n",
       "      <td>3</td>\n",
       "      <td>273.0</td>\n",
       "      <td>17</td>\n",
       "      <td>7.271319</td>\n",
       "      <td>NaN</td>\n",
       "    </tr>\n",
       "    <tr>\n",
       "      <th>2</th>\n",
       "      <td>31473</td>\n",
       "      <td>23.4</td>\n",
       "      <td>26.93</td>\n",
       "      <td>3</td>\n",
       "      <td>1.0</td>\n",
       "      <td>4.0</td>\n",
       "      <td>139.709049</td>\n",
       "      <td>35.741996</td>\n",
       "      <td>1.0</td>\n",
       "      <td>26.930000</td>\n",
       "      <td>0.25</td>\n",
       "      <td>10</td>\n",
       "      <td>186.0</td>\n",
       "      <td>21</td>\n",
       "      <td>9.021304</td>\n",
       "      <td>NaN</td>\n",
       "    </tr>\n",
       "    <tr>\n",
       "      <th>3</th>\n",
       "      <td>31474</td>\n",
       "      <td>36.2</td>\n",
       "      <td>23.57</td>\n",
       "      <td>3</td>\n",
       "      <td>1.0</td>\n",
       "      <td>2.0</td>\n",
       "      <td>139.658270</td>\n",
       "      <td>35.673602</td>\n",
       "      <td>1.0</td>\n",
       "      <td>23.570000</td>\n",
       "      <td>0.50</td>\n",
       "      <td>7</td>\n",
       "      <td>184.0</td>\n",
       "      <td>11</td>\n",
       "      <td>6.713969</td>\n",
       "      <td>NaN</td>\n",
       "    </tr>\n",
       "    <tr>\n",
       "      <th>5</th>\n",
       "      <td>31476</td>\n",
       "      <td>25.6</td>\n",
       "      <td>21.45</td>\n",
       "      <td>9</td>\n",
       "      <td>1.0</td>\n",
       "      <td>2.0</td>\n",
       "      <td>139.686023</td>\n",
       "      <td>35.691395</td>\n",
       "      <td>1.0</td>\n",
       "      <td>21.450000</td>\n",
       "      <td>0.50</td>\n",
       "      <td>7</td>\n",
       "      <td>294.0</td>\n",
       "      <td>10</td>\n",
       "      <td>5.182520</td>\n",
       "      <td>NaN</td>\n",
       "    </tr>\n",
       "  </tbody>\n",
       "</table>\n",
       "</div>"
      ],
      "text/plain": [
       "      id   築年数   面積m2  間取りID   所在   階層          経度         緯度  部屋数  \\\n",
       "0  31471  49.0  50.22     14  8.0  8.0  139.652762  35.617708  3.5   \n",
       "1  31472   0.2  20.88      9  3.0  4.0  139.672871  35.617709  1.0   \n",
       "2  31473  23.4  26.93      3  1.0  4.0  139.709049  35.741996  1.0   \n",
       "3  31474  36.2  23.57      3  1.0  2.0  139.658270  35.673602  1.0   \n",
       "5  31476  25.6  21.45      9  1.0  2.0  139.686023  35.691395  1.0   \n",
       "\n",
       "   1部屋当たり面積m2   高さ率  建物構造ID  平均坪単価（万円）  区ID  distance_km  flag  \n",
       "0   14.348571  1.00      10      208.0    0     8.685596   NaN  \n",
       "1   20.880000  0.75       3      273.0   17     7.271319   NaN  \n",
       "2   26.930000  0.25      10      186.0   21     9.021304   NaN  \n",
       "3   23.570000  0.50       7      184.0   11     6.713969   NaN  \n",
       "5   21.450000  0.50       7      294.0   10     5.182520   NaN  "
      ]
     },
     "execution_count": 493,
     "metadata": {},
     "output_type": "execute_result"
    }
   ],
   "source": [
    "test_data_1.head()"
   ]
  },
  {
   "cell_type": "code",
   "execution_count": 494,
   "metadata": {},
   "outputs": [],
   "source": [
    "# IDとflagの削除\n",
    "train_data_1_no_ID = train_data_1.drop([\"id\", \"flag\"], axis=1)\n",
    "test_data_1_no_ID = test_data_1.drop([\"id\", \"flag\"], axis=1)"
   ]
  },
  {
   "cell_type": "code",
   "execution_count": 495,
   "metadata": {},
   "outputs": [],
   "source": [
    "# 特徴データと目的変数の設定\n",
    "train_x = train_data_1_no_ID.drop([\"賃料\", \"賃料/面積\"], axis=1)\n",
    "train_y = train_data_1_no_ID[\"賃料/面積\"]\n",
    "\n",
    "test_x = test_data_1_no_ID"
   ]
  },
  {
   "cell_type": "markdown",
   "metadata": {},
   "source": [
    "## 4.学習 "
   ]
  },
  {
   "cell_type": "code",
   "execution_count": 496,
   "metadata": {
    "collapsed": true,
    "jupyter": {
     "outputs_hidden": true
    }
   },
   "outputs": [
    {
     "name": "stdout",
     "output_type": "stream",
     "text": [
      "[23:41:29] WARNING: C:/Users/Administrator/workspace/xgboost-win64_release_1.4.0/src/learner.cc:573: \n",
      "Parameters: { \"sileng\" } might not be used.\n",
      "\n",
      "  This may not be accurate due to some parameters are only used in language bindings but\n",
      "  passed down to XGBoost core.  Or some parameters are not used but slip through this\n",
      "  verification. Please open an issue if you find above cases.\n",
      "\n",
      "\n",
      "[0]\ttrain-rmse:2639.57227\teval-rmse:2610.39941\n",
      "[1]\ttrain-rmse:1895.31445\teval-rmse:1861.52795\n",
      "[2]\ttrain-rmse:1382.35840\teval-rmse:1347.70459\n",
      "[3]\ttrain-rmse:1037.24768\teval-rmse:999.06934\n",
      "[4]\ttrain-rmse:808.08087\teval-rmse:771.53571\n",
      "[5]\ttrain-rmse:663.88580\teval-rmse:624.73035\n",
      "[6]\ttrain-rmse:574.11206\teval-rmse:536.16003\n",
      "[7]\ttrain-rmse:521.14410\teval-rmse:487.03903\n",
      "[8]\ttrain-rmse:489.27206\teval-rmse:457.21469\n",
      "[9]\ttrain-rmse:469.69250\teval-rmse:440.11261\n",
      "[10]\ttrain-rmse:456.86505\teval-rmse:429.72983\n",
      "[11]\ttrain-rmse:447.02258\teval-rmse:423.61774\n",
      "[12]\ttrain-rmse:438.16788\teval-rmse:424.08896\n",
      "[13]\ttrain-rmse:431.81610\teval-rmse:419.30402\n",
      "[14]\ttrain-rmse:428.49786\teval-rmse:420.44247\n",
      "[15]\ttrain-rmse:426.30991\teval-rmse:419.13773\n",
      "[16]\ttrain-rmse:421.62875\teval-rmse:415.91928\n",
      "[17]\ttrain-rmse:418.16815\teval-rmse:414.02603\n",
      "[18]\ttrain-rmse:415.22482\teval-rmse:412.01526\n",
      "[19]\ttrain-rmse:414.17276\teval-rmse:411.80102\n",
      "[20]\ttrain-rmse:411.59436\teval-rmse:409.88672\n",
      "[21]\ttrain-rmse:410.49445\teval-rmse:409.11295\n",
      "[22]\ttrain-rmse:409.57871\teval-rmse:408.26080\n",
      "[23]\ttrain-rmse:408.44211\teval-rmse:408.14136\n",
      "[24]\ttrain-rmse:407.01492\teval-rmse:406.93204\n",
      "[25]\ttrain-rmse:403.75519\teval-rmse:403.94101\n",
      "[26]\ttrain-rmse:401.66385\teval-rmse:402.59766\n",
      "[27]\ttrain-rmse:399.02490\teval-rmse:400.84180\n",
      "[28]\ttrain-rmse:398.46414\teval-rmse:400.45322\n",
      "[29]\ttrain-rmse:397.76428\teval-rmse:400.19778\n",
      "[30]\ttrain-rmse:395.98810\teval-rmse:399.43881\n",
      "[31]\ttrain-rmse:393.72635\teval-rmse:398.15762\n",
      "[32]\ttrain-rmse:391.94693\teval-rmse:396.47406\n",
      "[33]\ttrain-rmse:388.70694\teval-rmse:393.88995\n",
      "[34]\ttrain-rmse:388.06494\teval-rmse:393.97449\n",
      "[35]\ttrain-rmse:386.95523\teval-rmse:393.07504\n",
      "[36]\ttrain-rmse:385.86566\teval-rmse:392.31131\n",
      "[37]\ttrain-rmse:384.21777\teval-rmse:391.00128\n",
      "[38]\ttrain-rmse:382.18787\teval-rmse:388.87387\n",
      "[39]\ttrain-rmse:380.48370\teval-rmse:388.20483\n",
      "[40]\ttrain-rmse:380.28763\teval-rmse:388.15002\n",
      "[41]\ttrain-rmse:379.28952\teval-rmse:387.61862\n",
      "[42]\ttrain-rmse:378.89075\teval-rmse:387.37210\n",
      "[43]\ttrain-rmse:377.89331\teval-rmse:387.36575\n",
      "[44]\ttrain-rmse:376.90576\teval-rmse:386.92111\n",
      "[45]\ttrain-rmse:375.39807\teval-rmse:386.05670\n",
      "[46]\ttrain-rmse:374.90790\teval-rmse:385.92010\n",
      "[47]\ttrain-rmse:373.53546\teval-rmse:384.75223\n",
      "[48]\ttrain-rmse:372.82333\teval-rmse:384.34003\n",
      "[49]\ttrain-rmse:371.82297\teval-rmse:383.49802\n",
      "[23:41:33] WARNING: C:/Users/Administrator/workspace/xgboost-win64_release_1.4.0/src/learner.cc:573: \n",
      "Parameters: { \"sileng\" } might not be used.\n",
      "\n",
      "  This may not be accurate due to some parameters are only used in language bindings but\n",
      "  passed down to XGBoost core.  Or some parameters are not used but slip through this\n",
      "  verification. Please open an issue if you find above cases.\n",
      "\n",
      "\n",
      "[0]\ttrain-rmse:2616.18823\teval-rmse:2689.02979\n",
      "[1]\ttrain-rmse:1865.79761\teval-rmse:1963.59045\n",
      "[2]\ttrain-rmse:1348.33533\teval-rmse:1480.23694\n",
      "[3]\ttrain-rmse:995.52747\teval-rmse:1168.24280\n",
      "[4]\ttrain-rmse:757.99658\teval-rmse:971.45886\n",
      "[5]\ttrain-rmse:602.68799\teval-rmse:856.67651\n",
      "[6]\ttrain-rmse:506.04910\teval-rmse:791.45734\n",
      "[7]\ttrain-rmse:445.44446\teval-rmse:755.37225\n",
      "[8]\ttrain-rmse:409.26709\teval-rmse:735.03186\n",
      "[9]\ttrain-rmse:384.77481\teval-rmse:723.24316\n",
      "[10]\ttrain-rmse:370.53128\teval-rmse:715.96051\n",
      "[11]\ttrain-rmse:361.87665\teval-rmse:712.87097\n",
      "[12]\ttrain-rmse:354.15314\teval-rmse:709.21765\n",
      "[13]\ttrain-rmse:348.52789\teval-rmse:707.20251\n",
      "[14]\ttrain-rmse:344.21426\teval-rmse:705.53851\n",
      "[15]\ttrain-rmse:341.02008\teval-rmse:703.56128\n",
      "[16]\ttrain-rmse:336.82626\teval-rmse:702.58478\n",
      "[17]\ttrain-rmse:335.22833\teval-rmse:702.29236\n",
      "[18]\ttrain-rmse:333.02341\teval-rmse:701.73956\n",
      "[19]\ttrain-rmse:330.89230\teval-rmse:701.32184\n",
      "[20]\ttrain-rmse:329.25973\teval-rmse:700.95142\n",
      "[21]\ttrain-rmse:326.83768\teval-rmse:699.88068\n",
      "[22]\ttrain-rmse:325.36237\teval-rmse:699.38898\n",
      "[23]\ttrain-rmse:321.65762\teval-rmse:697.38361\n",
      "[24]\ttrain-rmse:319.77692\teval-rmse:696.29980\n",
      "[25]\ttrain-rmse:316.15759\teval-rmse:695.03699\n",
      "[26]\ttrain-rmse:314.63419\teval-rmse:694.50195\n",
      "[27]\ttrain-rmse:312.73355\teval-rmse:693.74066\n",
      "[28]\ttrain-rmse:310.92670\teval-rmse:693.18726\n",
      "[29]\ttrain-rmse:310.54990\teval-rmse:693.14032\n",
      "[30]\ttrain-rmse:307.83786\teval-rmse:691.06067\n",
      "[31]\ttrain-rmse:305.23611\teval-rmse:690.40894\n",
      "[32]\ttrain-rmse:304.02960\teval-rmse:690.25665\n",
      "[33]\ttrain-rmse:303.50772\teval-rmse:690.20721\n",
      "[34]\ttrain-rmse:302.30020\teval-rmse:689.73273\n",
      "[35]\ttrain-rmse:301.39832\teval-rmse:689.58240\n",
      "[36]\ttrain-rmse:298.91510\teval-rmse:688.81158\n",
      "[37]\ttrain-rmse:297.03577\teval-rmse:687.95483\n",
      "[38]\ttrain-rmse:296.63828\teval-rmse:687.99170\n",
      "[39]\ttrain-rmse:296.38205\teval-rmse:687.95013\n",
      "[40]\ttrain-rmse:294.96597\teval-rmse:687.46741\n",
      "[41]\ttrain-rmse:293.85877\teval-rmse:687.16766\n",
      "[42]\ttrain-rmse:291.49420\teval-rmse:686.70904\n",
      "[43]\ttrain-rmse:290.66418\teval-rmse:686.59888\n",
      "[44]\ttrain-rmse:289.70795\teval-rmse:686.36566\n",
      "[45]\ttrain-rmse:288.75095\teval-rmse:686.14105\n",
      "[46]\ttrain-rmse:287.86322\teval-rmse:684.99469\n",
      "[47]\ttrain-rmse:287.57376\teval-rmse:684.91394\n",
      "[48]\ttrain-rmse:285.86215\teval-rmse:684.65637\n",
      "[49]\ttrain-rmse:285.34415\teval-rmse:684.64105\n",
      "[23:41:37] WARNING: C:/Users/Administrator/workspace/xgboost-win64_release_1.4.0/src/learner.cc:573: \n",
      "Parameters: { \"sileng\" } might not be used.\n",
      "\n",
      "  This may not be accurate due to some parameters are only used in language bindings but\n",
      "  passed down to XGBoost core.  Or some parameters are not used but slip through this\n",
      "  verification. Please open an issue if you find above cases.\n",
      "\n",
      "\n",
      "[0]\ttrain-rmse:2639.31421\teval-rmse:2613.54565\n",
      "[1]\ttrain-rmse:1895.67688\teval-rmse:1867.54944\n",
      "[2]\ttrain-rmse:1384.60767\teval-rmse:1354.14246\n",
      "[3]\ttrain-rmse:1043.15210\teval-rmse:1006.83368\n",
      "[4]\ttrain-rmse:817.07013\teval-rmse:775.64185\n",
      "[5]\ttrain-rmse:675.35248\teval-rmse:628.56763\n",
      "[6]\ttrain-rmse:587.55420\teval-rmse:537.90570\n",
      "[7]\ttrain-rmse:534.32678\teval-rmse:482.89545\n",
      "[8]\ttrain-rmse:502.25116\teval-rmse:448.56415\n",
      "[9]\ttrain-rmse:475.32929\teval-rmse:427.60181\n",
      "[10]\ttrain-rmse:456.07733\teval-rmse:412.81525\n",
      "[11]\ttrain-rmse:448.49854\teval-rmse:406.11017\n",
      "[12]\ttrain-rmse:443.44827\teval-rmse:400.79019\n",
      "[13]\ttrain-rmse:439.07660\teval-rmse:396.78946\n",
      "[14]\ttrain-rmse:436.57260\teval-rmse:395.14938\n",
      "[15]\ttrain-rmse:433.12711\teval-rmse:392.36792\n",
      "[16]\ttrain-rmse:424.68826\teval-rmse:389.40692\n",
      "[17]\ttrain-rmse:421.10950\teval-rmse:387.00690\n",
      "[18]\ttrain-rmse:419.29721\teval-rmse:385.16937\n",
      "[19]\ttrain-rmse:417.57465\teval-rmse:383.85980\n",
      "[20]\ttrain-rmse:413.42712\teval-rmse:382.23947\n",
      "[21]\ttrain-rmse:412.67050\teval-rmse:381.57449\n",
      "[22]\ttrain-rmse:411.04562\teval-rmse:381.07336\n",
      "[23]\ttrain-rmse:407.57303\teval-rmse:378.15695\n",
      "[24]\ttrain-rmse:405.61777\teval-rmse:376.87729\n",
      "[25]\ttrain-rmse:402.07959\teval-rmse:375.20084\n",
      "[26]\ttrain-rmse:399.83051\teval-rmse:373.70975\n",
      "[27]\ttrain-rmse:398.18295\teval-rmse:372.50586\n",
      "[28]\ttrain-rmse:397.69076\teval-rmse:372.43539\n",
      "[29]\ttrain-rmse:396.12158\teval-rmse:371.14764\n",
      "[30]\ttrain-rmse:394.67831\teval-rmse:369.83423\n",
      "[31]\ttrain-rmse:393.34811\teval-rmse:368.99341\n",
      "[32]\ttrain-rmse:391.66586\teval-rmse:367.95456\n",
      "[33]\ttrain-rmse:390.23025\teval-rmse:366.70624\n",
      "[34]\ttrain-rmse:389.98816\teval-rmse:366.68469\n",
      "[35]\ttrain-rmse:388.67780\teval-rmse:365.70569\n",
      "[36]\ttrain-rmse:387.48724\teval-rmse:364.95105\n",
      "[37]\ttrain-rmse:384.91055\teval-rmse:364.01422\n",
      "[38]\ttrain-rmse:383.79810\teval-rmse:363.56479\n",
      "[39]\ttrain-rmse:381.98676\teval-rmse:361.93530\n",
      "[40]\ttrain-rmse:381.65680\teval-rmse:361.58389\n",
      "[41]\ttrain-rmse:379.42908\teval-rmse:360.38010\n",
      "[42]\ttrain-rmse:378.27387\teval-rmse:359.40189\n",
      "[43]\ttrain-rmse:377.22690\teval-rmse:358.75259\n",
      "[44]\ttrain-rmse:375.17667\teval-rmse:358.06513\n",
      "[45]\ttrain-rmse:374.49194\teval-rmse:357.77454\n",
      "[46]\ttrain-rmse:373.46384\teval-rmse:357.40774\n",
      "[47]\ttrain-rmse:372.52725\teval-rmse:356.95798\n",
      "[48]\ttrain-rmse:370.99576\teval-rmse:355.84210\n",
      "[49]\ttrain-rmse:370.81924\teval-rmse:355.45963\n",
      "[23:41:40] WARNING: C:/Users/Administrator/workspace/xgboost-win64_release_1.4.0/src/learner.cc:573: \n",
      "Parameters: { \"sileng\" } might not be used.\n",
      "\n",
      "  This may not be accurate due to some parameters are only used in language bindings but\n",
      "  passed down to XGBoost core.  Or some parameters are not used but slip through this\n",
      "  verification. Please open an issue if you find above cases.\n",
      "\n",
      "\n",
      "[0]\ttrain-rmse:2635.08862\teval-rmse:2632.33813\n",
      "[1]\ttrain-rmse:1890.58533\teval-rmse:1892.40552\n",
      "[2]\ttrain-rmse:1372.37061\teval-rmse:1390.58069\n",
      "[3]\ttrain-rmse:1018.69116\teval-rmse:1062.98376\n",
      "[4]\ttrain-rmse:781.66217\teval-rmse:862.63611\n",
      "[5]\ttrain-rmse:623.84106\teval-rmse:748.86859\n",
      "[6]\ttrain-rmse:524.23993\teval-rmse:694.37640\n",
      "[7]\ttrain-rmse:459.76941\teval-rmse:672.39984\n",
      "[8]\ttrain-rmse:423.98895\teval-rmse:652.78760\n",
      "[9]\ttrain-rmse:397.40253\teval-rmse:658.48120\n",
      "[10]\ttrain-rmse:382.92841\teval-rmse:650.12109\n",
      "[11]\ttrain-rmse:374.12714\teval-rmse:645.14807\n",
      "[12]\ttrain-rmse:364.55255\teval-rmse:659.26074\n",
      "[13]\ttrain-rmse:356.81436\teval-rmse:658.66565\n",
      "[14]\ttrain-rmse:350.01450\teval-rmse:671.30255\n",
      "[15]\ttrain-rmse:344.40778\teval-rmse:668.88379\n",
      "[16]\ttrain-rmse:342.17593\teval-rmse:667.58893\n",
      "[17]\ttrain-rmse:338.12988\teval-rmse:665.93018\n",
      "[18]\ttrain-rmse:335.66675\teval-rmse:664.83685\n",
      "[19]\ttrain-rmse:333.84952\teval-rmse:664.05621\n",
      "[20]\ttrain-rmse:332.13312\teval-rmse:663.50543\n",
      "[21]\ttrain-rmse:329.52655\teval-rmse:663.02850\n",
      "[22]\ttrain-rmse:328.83987\teval-rmse:662.71783\n",
      "[23]\ttrain-rmse:326.00754\teval-rmse:665.23083\n",
      "[24]\ttrain-rmse:324.41086\teval-rmse:664.72113\n",
      "[25]\ttrain-rmse:322.62064\teval-rmse:664.36664\n",
      "[26]\ttrain-rmse:322.04129\teval-rmse:664.16016\n",
      "[27]\ttrain-rmse:319.66354\teval-rmse:665.32520\n",
      "[28]\ttrain-rmse:318.60413\teval-rmse:664.99316\n",
      "[29]\ttrain-rmse:316.12753\teval-rmse:664.97540\n",
      "[30]\ttrain-rmse:315.06262\teval-rmse:664.78125\n",
      "[31]\ttrain-rmse:313.90811\teval-rmse:664.49676\n",
      "[32]\ttrain-rmse:313.15543\teval-rmse:664.12598\n",
      "[33]\ttrain-rmse:312.16547\teval-rmse:663.75147\n",
      "[34]\ttrain-rmse:308.36914\teval-rmse:675.64185\n",
      "[35]\ttrain-rmse:306.88885\teval-rmse:674.89813\n",
      "[36]\ttrain-rmse:306.38693\teval-rmse:674.76239\n",
      "[37]\ttrain-rmse:305.08490\teval-rmse:674.45514\n",
      "[38]\ttrain-rmse:301.58310\teval-rmse:684.49817\n",
      "[39]\ttrain-rmse:300.65774\teval-rmse:684.49445\n",
      "[40]\ttrain-rmse:300.40161\teval-rmse:684.49829\n",
      "[41]\ttrain-rmse:298.47379\teval-rmse:684.09912\n",
      "[42]\ttrain-rmse:297.87915\teval-rmse:683.82221\n",
      "[43]\ttrain-rmse:296.82901\teval-rmse:683.56384\n",
      "[44]\ttrain-rmse:294.69870\teval-rmse:682.97613\n",
      "[45]\ttrain-rmse:292.98236\teval-rmse:682.50085\n",
      "[46]\ttrain-rmse:291.82770\teval-rmse:682.06146\n",
      "[47]\ttrain-rmse:290.36984\teval-rmse:681.83032\n",
      "[48]\ttrain-rmse:289.77740\teval-rmse:681.84589\n",
      "[49]\ttrain-rmse:288.76209\teval-rmse:681.68042\n"
     ]
    }
   ],
   "source": [
    "import xgboost as xgb\n",
    "from xgboost import XGBClassifier\n",
    "from sklearn.metrics import log_loss, accuracy_score\n",
    "from sklearn.model_selection import KFold\n",
    "\n",
    "scores = []\n",
    "# GBDT用のハイパーパラメータ\n",
    "params = {\"objective\": \"reg:squarederror\", \"sileng\":1, \"random_state\":71, \"eval_metric\":\"rmse\"}\n",
    "num_round = 50\n",
    "\n",
    "# クロスバリデーション\n",
    "kf = KFold(n_splits=4, shuffle=True, random_state=71)\n",
    "for tr_idx, va_idx, in kf.split(train_x):\n",
    "    tr_x, va_x = train_x.iloc[tr_idx], train_x.iloc[va_idx]\n",
    "    tr_y, va_y = train_y.iloc[tr_idx], train_y.iloc[va_idx]\n",
    "    \n",
    "    # GBDTで学習実行\n",
    "    dtrain = xgb.DMatrix(tr_x, label=tr_y) # enable_categorical=True\n",
    "    dvalid = xgb.DMatrix(va_x, label=va_y)\n",
    "    dtest = xgb.DMatrix(test_x)\n",
    "    \n",
    "    watchlist = [(dtrain, \"train\"), (dvalid, \"eval\")]\n",
    "    model = xgb.train(params, dtrain, num_round, evals=watchlist)"
   ]
  },
  {
   "cell_type": "markdown",
   "metadata": {},
   "source": [
    "## 5. 検証"
   ]
  },
  {
   "cell_type": "code",
   "execution_count": 497,
   "metadata": {},
   "outputs": [
    {
     "data": {
      "image/png": "[encoded data removed]",
      "text/plain": [
       "<Figure size 432x288 with 1 Axes>"
      ]
     },
     "metadata": {
      "needs_background": "light"
     },
     "output_type": "display_data"
    }
   ],
   "source": [
    "# 特徴量の予測結果への貢献度(Fスコア)を可視化\n",
    "import matplotlib.pyplot as plt\n",
    "import matplotlib\n",
    "import numpy as np\n",
    "font = {'family' : 'Meiryo'} # matplotlibのデフォルトフォントをTakaoGothicに設定\n",
    "plt.rc('font', **font)\n",
    "xgb.plot_importance(model, importance_type = \"gain\")\n",
    "plt.show()"
   ]
  },
  {
   "cell_type": "markdown",
   "metadata": {},
   "source": [
    "## 6. 予測"
   ]
  },
  {
   "cell_type": "code",
   "execution_count": 498,
   "metadata": {},
   "outputs": [],
   "source": [
    "# テストデータでの予測\n",
    "pred = model.predict(dtest)"
   ]
  },
  {
   "cell_type": "code",
   "execution_count": 499,
   "metadata": {},
   "outputs": [
    {
     "data": {
      "text/plain": [
       "array([2275.4097, 5541.5093, 3045.8335, ..., 4502.8984, 3810.7258,\n",
       "       3693.7126], dtype=float32)"
      ]
     },
     "execution_count": 499,
     "metadata": {},
     "output_type": "execute_result"
    }
   ],
   "source": [
    "pred"
   ]
  },
  {
   "cell_type": "code",
   "execution_count": 500,
   "metadata": {},
   "outputs": [
    {
     "data": {
      "text/plain": [
       "24812"
      ]
     },
     "execution_count": 500,
     "metadata": {},
     "output_type": "execute_result"
    }
   ],
   "source": [
    "len(pred)"
   ]
  },
  {
   "cell_type": "code",
   "execution_count": 501,
   "metadata": {},
   "outputs": [
    {
     "data": {
      "text/plain": [
       "24812"
      ]
     },
     "execution_count": 501,
     "metadata": {},
     "output_type": "execute_result"
    }
   ],
   "source": [
    "len(test_data_1)"
   ]
  },
  {
   "cell_type": "markdown",
   "metadata": {},
   "source": [
    "## 7. データ出力"
   ]
  },
  {
   "cell_type": "code",
   "execution_count": 502,
   "metadata": {},
   "outputs": [],
   "source": [
    "# 予測結果の結合\n",
    "test_data_1[\"賃料/面積\"] = pred"
   ]
  },
  {
   "cell_type": "code",
   "execution_count": 503,
   "metadata": {},
   "outputs": [],
   "source": [
    "# 予測結果から賃料を算出し、int型に変換\n",
    "test_data_1[\"賃料\"] = (test_data_1[\"面積m2\"] * test_data_1[\"賃料/面積\"]).astype(int)"
   ]
  },
  {
   "cell_type": "code",
   "execution_count": 504,
   "metadata": {},
   "outputs": [],
   "source": [
    "result = test_data_1[[\"id\", \"賃料\"]]"
   ]
  },
  {
   "cell_type": "code",
   "execution_count": 505,
   "metadata": {},
   "outputs": [
    {
     "data": {
      "text/html": [
       "<div>\n",
       "<style scoped>\n",
       "    .dataframe tbody tr th:only-of-type {\n",
       "        vertical-align: middle;\n",
       "    }\n",
       "\n",
       "    .dataframe tbody tr th {\n",
       "        vertical-align: top;\n",
       "    }\n",
       "\n",
       "    .dataframe thead th {\n",
       "        text-align: right;\n",
       "    }\n",
       "</style>\n",
       "<table border=\"1\" class=\"dataframe\">\n",
       "  <thead>\n",
       "    <tr style=\"text-align: right;\">\n",
       "      <th></th>\n",
       "      <th>id</th>\n",
       "      <th>賃料</th>\n",
       "    </tr>\n",
       "  </thead>\n",
       "  <tbody>\n",
       "    <tr>\n",
       "      <th>0</th>\n",
       "      <td>31471</td>\n",
       "      <td>114271</td>\n",
       "    </tr>\n",
       "    <tr>\n",
       "      <th>1</th>\n",
       "      <td>31472</td>\n",
       "      <td>115706</td>\n",
       "    </tr>\n",
       "    <tr>\n",
       "      <th>2</th>\n",
       "      <td>31473</td>\n",
       "      <td>82024</td>\n",
       "    </tr>\n",
       "    <tr>\n",
       "      <th>3</th>\n",
       "      <td>31474</td>\n",
       "      <td>60944</td>\n",
       "    </tr>\n",
       "    <tr>\n",
       "      <th>5</th>\n",
       "      <td>31476</td>\n",
       "      <td>64006</td>\n",
       "    </tr>\n",
       "    <tr>\n",
       "      <th>...</th>\n",
       "      <td>...</td>\n",
       "      <td>...</td>\n",
       "    </tr>\n",
       "    <tr>\n",
       "      <th>31255</th>\n",
       "      <td>62726</td>\n",
       "      <td>95781</td>\n",
       "    </tr>\n",
       "    <tr>\n",
       "      <th>31257</th>\n",
       "      <td>62728</td>\n",
       "      <td>107239</td>\n",
       "    </tr>\n",
       "    <tr>\n",
       "      <th>31258</th>\n",
       "      <td>62729</td>\n",
       "      <td>102260</td>\n",
       "    </tr>\n",
       "    <tr>\n",
       "      <th>31259</th>\n",
       "      <td>62730</td>\n",
       "      <td>174378</td>\n",
       "    </tr>\n",
       "    <tr>\n",
       "      <th>31261</th>\n",
       "      <td>62732</td>\n",
       "      <td>78232</td>\n",
       "    </tr>\n",
       "  </tbody>\n",
       "</table>\n",
       "<p>24812 rows × 2 columns</p>\n",
       "</div>"
      ],
      "text/plain": [
       "          id      賃料\n",
       "0      31471  114271\n",
       "1      31472  115706\n",
       "2      31473   82024\n",
       "3      31474   60944\n",
       "5      31476   64006\n",
       "...      ...     ...\n",
       "31255  62726   95781\n",
       "31257  62728  107239\n",
       "31258  62729  102260\n",
       "31259  62730  174378\n",
       "31261  62732   78232\n",
       "\n",
       "[24812 rows x 2 columns]"
      ]
     },
     "execution_count": 505,
     "metadata": {},
     "output_type": "execute_result"
    }
   ],
   "source": [
    "result"
   ]
  },
  {
   "cell_type": "code",
   "execution_count": 506,
   "metadata": {},
   "outputs": [
    {
     "data": {
      "text/plain": [
       "24812"
      ]
     },
     "execution_count": 506,
     "metadata": {},
     "output_type": "execute_result"
    }
   ],
   "source": [
    "len(result)"
   ]
  },
  {
   "cell_type": "code",
   "execution_count": 507,
   "metadata": {},
   "outputs": [
    {
     "data": {
      "text/plain": [
       "31262"
      ]
     },
     "execution_count": 507,
     "metadata": {},
     "output_type": "execute_result"
    }
   ],
   "source": [
    "# 除外していた重複idの賃料を戻す\n",
    "test_duplicate_rentvalue = pd.read_excel(\"test_duplicate_rentvalue.xlsx\")\n",
    "result = pd.concat([result, test_duplicate_rentvalue])\n",
    "result = result.sort_values(\"id\")\n",
    "len(result)"
   ]
  },
  {
   "cell_type": "code",
   "execution_count": 508,
   "metadata": {},
   "outputs": [
    {
     "data": {
      "text/html": [
       "<div>\n",
       "<style scoped>\n",
       "    .dataframe tbody tr th:only-of-type {\n",
       "        vertical-align: middle;\n",
       "    }\n",
       "\n",
       "    .dataframe tbody tr th {\n",
       "        vertical-align: top;\n",
       "    }\n",
       "\n",
       "    .dataframe thead th {\n",
       "        text-align: right;\n",
       "    }\n",
       "</style>\n",
       "<table border=\"1\" class=\"dataframe\">\n",
       "  <thead>\n",
       "    <tr style=\"text-align: right;\">\n",
       "      <th></th>\n",
       "      <th>id</th>\n",
       "      <th>賃料</th>\n",
       "    </tr>\n",
       "  </thead>\n",
       "  <tbody>\n",
       "    <tr>\n",
       "      <th>0</th>\n",
       "      <td>31471</td>\n",
       "      <td>114271</td>\n",
       "    </tr>\n",
       "    <tr>\n",
       "      <th>1</th>\n",
       "      <td>31472</td>\n",
       "      <td>115706</td>\n",
       "    </tr>\n",
       "    <tr>\n",
       "      <th>2</th>\n",
       "      <td>31473</td>\n",
       "      <td>82024</td>\n",
       "    </tr>\n",
       "    <tr>\n",
       "      <th>3</th>\n",
       "      <td>31474</td>\n",
       "      <td>60944</td>\n",
       "    </tr>\n",
       "    <tr>\n",
       "      <th>0</th>\n",
       "      <td>31475</td>\n",
       "      <td>90000</td>\n",
       "    </tr>\n",
       "    <tr>\n",
       "      <th>...</th>\n",
       "      <td>...</td>\n",
       "      <td>...</td>\n",
       "    </tr>\n",
       "    <tr>\n",
       "      <th>31257</th>\n",
       "      <td>62728</td>\n",
       "      <td>107239</td>\n",
       "    </tr>\n",
       "    <tr>\n",
       "      <th>31258</th>\n",
       "      <td>62729</td>\n",
       "      <td>102260</td>\n",
       "    </tr>\n",
       "    <tr>\n",
       "      <th>31259</th>\n",
       "      <td>62730</td>\n",
       "      <td>174378</td>\n",
       "    </tr>\n",
       "    <tr>\n",
       "      <th>6449</th>\n",
       "      <td>62731</td>\n",
       "      <td>280000</td>\n",
       "    </tr>\n",
       "    <tr>\n",
       "      <th>31261</th>\n",
       "      <td>62732</td>\n",
       "      <td>78232</td>\n",
       "    </tr>\n",
       "  </tbody>\n",
       "</table>\n",
       "<p>31262 rows × 2 columns</p>\n",
       "</div>"
      ],
      "text/plain": [
       "          id      賃料\n",
       "0      31471  114271\n",
       "1      31472  115706\n",
       "2      31473   82024\n",
       "3      31474   60944\n",
       "0      31475   90000\n",
       "...      ...     ...\n",
       "31257  62728  107239\n",
       "31258  62729  102260\n",
       "31259  62730  174378\n",
       "6449   62731  280000\n",
       "31261  62732   78232\n",
       "\n",
       "[31262 rows x 2 columns]"
      ]
     },
     "execution_count": 508,
     "metadata": {},
     "output_type": "execute_result"
    }
   ],
   "source": [
    "result"
   ]
  },
  {
   "cell_type": "code",
   "execution_count": 509,
   "metadata": {},
   "outputs": [],
   "source": [
    "result.to_csv(\"result.csv\", header=False, index=False)"
   ]
  },
  {
   "cell_type": "code",
   "execution_count": null,
   "metadata": {},
   "outputs": [],
   "source": []
  }
 ],
 "metadata": {
  "kernelspec": {
   "display_name": "Python 3",
   "language": "python",
   "name": "python3"
  },
  "language_info": {
   "codemirror_mode": {
    "name": "ipython",
    "version": 3
   },
   "file_extension": ".py",
   "mimetype": "text/x-python",
   "name": "python",
   "nbconvert_exporter": "python",
   "pygments_lexer": "ipython3",
   "version": "3.7.3"
  }
 },
 "nbformat": 4,
 "nbformat_minor": 4
}
