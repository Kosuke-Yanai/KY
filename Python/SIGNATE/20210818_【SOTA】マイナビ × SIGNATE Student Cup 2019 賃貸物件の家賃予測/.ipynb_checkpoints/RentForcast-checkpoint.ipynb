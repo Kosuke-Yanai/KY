{
 "cells": [
  {
   "cell_type": "markdown",
   "metadata": {},
   "source": [
    "# [【SOTA】マイナビ × SIGNATE Student Cup 2019: 賃貸物件の家賃予測](https://signate.jp/competitions/264)"
   ]
  },
  {
   "cell_type": "markdown",
   "metadata": {},
   "source": [
    "## データ読み込み"
   ]
  },
  {
   "cell_type": "code",
   "execution_count": 414,
   "metadata": {},
   "outputs": [],
   "source": [
    "import pandas as pd\n",
    "import numpy as np\n",
    "import pathlib\n",
    "import os\n",
    "\n",
    "# 学習データ、テストデータの読み込み\n",
    "train_path = pathlib.Path(\"./DATA/train.csv\")\n",
    "test_path = pathlib.Path(\"./DATA/test.csv\")\n",
    "\n",
    "train_data = pd.read_csv(train_path)\n",
    "test_data = pd.read_csv(test_path)"
   ]
  },
  {
   "cell_type": "markdown",
   "metadata": {},
   "source": [
    "## 前処理"
   ]
  },
  {
   "cell_type": "code",
   "execution_count": 415,
   "metadata": {},
   "outputs": [],
   "source": [
    "# 簡単な前処理\n",
    "train_data_1 = train_data[[\"賃料\", \"間取り\", \"面積\", \"所在階\"]]\n",
    "test_data_1 = test_data[[\"間取り\", \"面積\", \"所在階\"]]"
   ]
  },
  {
   "cell_type": "code",
   "execution_count": 416,
   "metadata": {
    "collapsed": true,
    "jupyter": {
     "outputs_hidden": true
    }
   },
   "outputs": [
    {
     "name": "stderr",
     "output_type": "stream",
     "text": [
      "<ipython-input-416-95a8caebc059>:7: SettingWithCopyWarning: \n",
      "A value is trying to be set on a copy of a slice from a DataFrame.\n",
      "Try using .loc[row_indexer,col_indexer] = value instead\n",
      "\n",
      "See the caveats in the documentation: https://pandas.pydata.org/pandas-docs/stable/user_guide/indexing.html#returning-a-view-versus-a-copy\n",
      "  train_data_1[\"間取りID\"] = le.transform(train_data_1[\"間取り\"])\n",
      "<ipython-input-416-95a8caebc059>:8: SettingWithCopyWarning: \n",
      "A value is trying to be set on a copy of a slice from a DataFrame.\n",
      "Try using .loc[row_indexer,col_indexer] = value instead\n",
      "\n",
      "See the caveats in the documentation: https://pandas.pydata.org/pandas-docs/stable/user_guide/indexing.html#returning-a-view-versus-a-copy\n",
      "  test_data_1[\"間取りID\"] = le.transform(test_data_1[\"間取り\"])\n"
     ]
    }
   ],
   "source": [
    "# 間取りにlabel encodingを適用\n",
    "from sklearn.preprocessing import LabelEncoder\n",
    "\n",
    "le = LabelEncoder()\n",
    "le.fit(pd.concat([train_data_1[\"間取り\"],test_data_1[\"間取り\"]]))\n",
    "\n",
    "train_data_1[\"間取りID\"] = le.transform(train_data_1[\"間取り\"])\n",
    "test_data_1[\"間取りID\"] = le.transform(test_data_1[\"間取り\"])"
   ]
  },
  {
   "cell_type": "code",
   "execution_count": 420,
   "metadata": {},
   "outputs": [],
   "source": [
    "# 面積のカラムタイトルを面積[m2]に置換\n",
    "train_data_1 = train_data_1.rename(columns={\"面積\": \"面積m2\"})\n",
    "test_data_1 = test_data_1.rename(columns={\"面積\": \"面積m2\"})"
   ]
  },
  {
   "cell_type": "code",
   "execution_count": 421,
   "metadata": {},
   "outputs": [],
   "source": [
    "# カラムタイトル面積[m2]の要素からm2を削除\n",
    "train_data_1['面積m2'] = train_data_1['面積m2'].str.replace('m2', '').astype(float)\n",
    "test_data_1['面積m2'] = test_data_1['面積m2'].str.replace('m2', '').astype(float)"
   ]
  },
  {
   "cell_type": "code",
   "execution_count": 422,
   "metadata": {},
   "outputs": [],
   "source": [
    "# 所在階の中身を\"／\"で2つの列に分割\n",
    "train_data_1 = pd.concat([train_data_1, train_data_1['所在階'].str.split('／', expand=True)], axis=1)\n",
    "test_data_1 = pd.concat([test_data_1, test_data_1['所在階'].str.split('／', expand=True)], axis=1)"
   ]
  },
  {
   "cell_type": "code",
   "execution_count": 423,
   "metadata": {},
   "outputs": [],
   "source": [
    "# 分割した所在階のカラム名変更　0:所在、1:階層\n",
    "train_data_1 = train_data_1.rename(columns={0:\"所在\", 1:\"階層\"})\n",
    "test_data_1 = test_data_1.rename(columns={0:\"所在\", 1:\"階層\"})"
   ]
  },
  {
   "cell_type": "code",
   "execution_count": 424,
   "metadata": {},
   "outputs": [],
   "source": [
    "# 所在と階層の要素を整形\n",
    "train_data_1['所在'] = train_data_1['所在'].str.replace('階', '')\n",
    "train_data_1['所在'] = train_data_1['所在'].str.replace('建', '')\n",
    "train_data_1['所在'] = train_data_1['所在'].str.replace('地下', '-')\n",
    "train_data_1['所在'] = train_data_1['所在'].str.replace('\\（.*\\）', '', regex=True)\n",
    "train_data_1['階層'] = train_data_1['階層'].str.replace('階建', '')\n",
    "train_data_1['階層'] = train_data_1['階層'].str.replace('\\（.*\\）', '', regex=True)\n",
    "train_data_1['所在'] = train_data_1['所在'].replace('', np.nan)\n",
    "\n",
    "test_data_1['所在'] = test_data_1['所在'].str.replace('階', '')\n",
    "test_data_1['所在'] = test_data_1['所在'].str.replace('建', '')\n",
    "test_data_1['所在'] = test_data_1['所在'].str.replace('地下', '-')\n",
    "test_data_1['所在'] = test_data_1['所在'].str.replace('\\（.*\\）', '', regex=True)\n",
    "test_data_1['階層'] = test_data_1['階層'].str.replace('階建', '')\n",
    "test_data_1['階層'] = test_data_1['階層'].str.replace('\\（.*\\）', '', regex=True)\n",
    "test_data_1['所在'] = test_data_1['所在'].replace('', np.nan)"
   ]
  },
  {
   "cell_type": "code",
   "execution_count": 425,
   "metadata": {},
   "outputs": [],
   "source": [
    "# \"階層\"がNoneの箇所を\"所在\"の値で埋める\n",
    "train_data_1['階層'].fillna(train_data_1['所在'], inplace=True)\n",
    "test_data_1['階層'].fillna(test_data_1['所在'], inplace=True)"
   ]
  },
  {
   "cell_type": "code",
   "execution_count": 426,
   "metadata": {},
   "outputs": [],
   "source": [
    "# 所在と階層の要素をfloat型に変換する\n",
    "train_data_1['所在'] = train_data_1['所在'].astype(float)\n",
    "train_data_1['階層'] = train_data_1['階層'].astype(float)\n",
    "\n",
    "test_data_1['所在'] = test_data_1['所在'].astype(float)\n",
    "test_data_1['階層'] = test_data_1['階層'].astype(float)"
   ]
  },
  {
   "cell_type": "code",
   "execution_count": 358,
   "metadata": {},
   "outputs": [],
   "source": [
    "# 間取りと所在階のカラムを削除\n",
    "train_data_1 = train_data_1.drop('間取り', axis=1)\n",
    "train_data_1 = train_data_1.drop('所在階', axis=1)\n",
    "\n",
    "test_data_1 = test_data_1.drop('間取り', axis=1)\n",
    "test_data_1 = test_data_1.drop('所在階', axis=1)"
   ]
  },
  {
   "cell_type": "code",
   "execution_count": 348,
   "metadata": {},
   "outputs": [],
   "source": [
    "# IDの削除\n",
    "train_data_1 = train_data_1.drop([\"id\"], axis=1)\n",
    "test_data_1 = test_data_1.drop([\"id\"], axis=1)"
   ]
  },
  {
   "cell_type": "markdown",
   "metadata": {},
   "source": [
    "## データチェック"
   ]
  },
  {
   "cell_type": "code",
   "execution_count": 359,
   "metadata": {},
   "outputs": [
    {
     "data": {
      "text/html": [
       "<div>\n",
       "<style scoped>\n",
       "    .dataframe tbody tr th:only-of-type {\n",
       "        vertical-align: middle;\n",
       "    }\n",
       "\n",
       "    .dataframe tbody tr th {\n",
       "        vertical-align: top;\n",
       "    }\n",
       "\n",
       "    .dataframe thead th {\n",
       "        text-align: right;\n",
       "    }\n",
       "</style>\n",
       "<table border=\"1\" class=\"dataframe\">\n",
       "  <thead>\n",
       "    <tr style=\"text-align: right;\">\n",
       "      <th></th>\n",
       "      <th>賃料</th>\n",
       "      <th>面積m2</th>\n",
       "      <th>間取りID</th>\n",
       "      <th>所在</th>\n",
       "      <th>階層</th>\n",
       "    </tr>\n",
       "  </thead>\n",
       "  <tbody>\n",
       "    <tr>\n",
       "      <th>25610</th>\n",
       "      <td>57000</td>\n",
       "      <td>21.55</td>\n",
       "      <td>0</td>\n",
       "      <td>3.0</td>\n",
       "      <td>3.0</td>\n",
       "    </tr>\n",
       "    <tr>\n",
       "      <th>14608</th>\n",
       "      <td>105000</td>\n",
       "      <td>27.07</td>\n",
       "      <td>0</td>\n",
       "      <td>8.0</td>\n",
       "      <td>8.0</td>\n",
       "    </tr>\n",
       "    <tr>\n",
       "      <th>25796</th>\n",
       "      <td>132000</td>\n",
       "      <td>30.25</td>\n",
       "      <td>0</td>\n",
       "      <td>7.0</td>\n",
       "      <td>8.0</td>\n",
       "    </tr>\n",
       "    <tr>\n",
       "      <th>14615</th>\n",
       "      <td>106000</td>\n",
       "      <td>30.56</td>\n",
       "      <td>0</td>\n",
       "      <td>2.0</td>\n",
       "      <td>3.0</td>\n",
       "    </tr>\n",
       "    <tr>\n",
       "      <th>14618</th>\n",
       "      <td>82000</td>\n",
       "      <td>28.35</td>\n",
       "      <td>0</td>\n",
       "      <td>1.0</td>\n",
       "      <td>2.0</td>\n",
       "    </tr>\n",
       "  </tbody>\n",
       "</table>\n",
       "</div>"
      ],
      "text/plain": [
       "           賃料   面積m2  間取りID   所在   階層\n",
       "25610   57000  21.55      0  3.0  3.0\n",
       "14608  105000  27.07      0  8.0  8.0\n",
       "25796  132000  30.25      0  7.0  8.0\n",
       "14615  106000  30.56      0  2.0  3.0\n",
       "14618   82000  28.35      0  1.0  2.0"
      ]
     },
     "execution_count": 359,
     "metadata": {},
     "output_type": "execute_result"
    }
   ],
   "source": [
    "train_data_1.head()"
   ]
  },
  {
   "cell_type": "code",
   "execution_count": 360,
   "metadata": {},
   "outputs": [
    {
     "data": {
      "text/html": [
       "<div>\n",
       "<style scoped>\n",
       "    .dataframe tbody tr th:only-of-type {\n",
       "        vertical-align: middle;\n",
       "    }\n",
       "\n",
       "    .dataframe tbody tr th {\n",
       "        vertical-align: top;\n",
       "    }\n",
       "\n",
       "    .dataframe thead th {\n",
       "        text-align: right;\n",
       "    }\n",
       "</style>\n",
       "<table border=\"1\" class=\"dataframe\">\n",
       "  <thead>\n",
       "    <tr style=\"text-align: right;\">\n",
       "      <th></th>\n",
       "      <th>面積m2</th>\n",
       "      <th>間取りID</th>\n",
       "      <th>所在</th>\n",
       "      <th>階層</th>\n",
       "    </tr>\n",
       "  </thead>\n",
       "  <tbody>\n",
       "    <tr>\n",
       "      <th>8483</th>\n",
       "      <td>16.00</td>\n",
       "      <td>0</td>\n",
       "      <td>1.0</td>\n",
       "      <td>2.0</td>\n",
       "    </tr>\n",
       "    <tr>\n",
       "      <th>15630</th>\n",
       "      <td>30.00</td>\n",
       "      <td>1</td>\n",
       "      <td>2.0</td>\n",
       "      <td>4.0</td>\n",
       "    </tr>\n",
       "    <tr>\n",
       "      <th>14612</th>\n",
       "      <td>32.76</td>\n",
       "      <td>1</td>\n",
       "      <td>1.0</td>\n",
       "      <td>2.0</td>\n",
       "    </tr>\n",
       "    <tr>\n",
       "      <th>14620</th>\n",
       "      <td>37.00</td>\n",
       "      <td>1</td>\n",
       "      <td>3.0</td>\n",
       "      <td>5.0</td>\n",
       "    </tr>\n",
       "    <tr>\n",
       "      <th>7687</th>\n",
       "      <td>26.40</td>\n",
       "      <td>1</td>\n",
       "      <td>1.0</td>\n",
       "      <td>2.0</td>\n",
       "    </tr>\n",
       "  </tbody>\n",
       "</table>\n",
       "</div>"
      ],
      "text/plain": [
       "        面積m2  間取りID   所在   階層\n",
       "8483   16.00      0  1.0  2.0\n",
       "15630  30.00      1  2.0  4.0\n",
       "14612  32.76      1  1.0  2.0\n",
       "14620  37.00      1  3.0  5.0\n",
       "7687   26.40      1  1.0  2.0"
      ]
     },
     "execution_count": 360,
     "metadata": {},
     "output_type": "execute_result"
    }
   ],
   "source": [
    "test_data_1.head()"
   ]
  },
  {
   "cell_type": "code",
   "execution_count": 361,
   "metadata": {},
   "outputs": [
    {
     "data": {
      "text/plain": [
       "賃料         0\n",
       "面積m2       0\n",
       "間取りID      0\n",
       "所在       120\n",
       "階層         0\n",
       "dtype: int64"
      ]
     },
     "execution_count": 361,
     "metadata": {},
     "output_type": "execute_result"
    }
   ],
   "source": [
    "train_data_1.isnull().sum()"
   ]
  },
  {
   "cell_type": "code",
   "execution_count": 362,
   "metadata": {},
   "outputs": [
    {
     "data": {
      "text/plain": [
       "面積m2       0\n",
       "間取りID      0\n",
       "所在       114\n",
       "階層         1\n",
       "dtype: int64"
      ]
     },
     "execution_count": 362,
     "metadata": {},
     "output_type": "execute_result"
    }
   ],
   "source": [
    "test_data_1.isnull().sum()"
   ]
  },
  {
   "cell_type": "markdown",
   "metadata": {},
   "source": [
    "## 学習 "
   ]
  },
  {
   "cell_type": "code",
   "execution_count": 363,
   "metadata": {},
   "outputs": [],
   "source": [
    "# 特徴データと目的変数の設定\n",
    "train_x = train_data_1.drop([\"賃料\"], axis=1)\n",
    "train_y = train_data_1[\"賃料\"]\n",
    "\n",
    "test_x = test_data_1"
   ]
  },
  {
   "cell_type": "code",
   "execution_count": 369,
   "metadata": {
    "collapsed": true,
    "jupyter": {
     "outputs_hidden": true
    }
   },
   "outputs": [
    {
     "name": "stdout",
     "output_type": "stream",
     "text": [
      "[15:46:27] WARNING: ..\\src\\learner.cc:541: \n",
      "Parameters: { sileng } might not be used.\n",
      "\n",
      "  This may not be accurate due to some parameters are only used in language bindings but\n",
      "  passed down to XGBoost core.  Or some parameters are not used but slip through this\n",
      "  verification. Please open an issue if you find above cases.\n",
      "\n",
      "\n",
      "[0]\ttrain-rmse:100996.84375\teval-rmse:103354.17188\n",
      "[1]\ttrain-rmse:75106.01562\teval-rmse:78094.41406\n",
      "[2]\ttrain-rmse:57895.97266\teval-rmse:61953.96875\n",
      "[3]\ttrain-rmse:46770.66797\teval-rmse:52328.46094\n",
      "[4]\ttrain-rmse:39791.68750\teval-rmse:46571.00391\n",
      "[5]\ttrain-rmse:35645.27734\teval-rmse:43557.73438\n",
      "[6]\ttrain-rmse:33174.10156\teval-rmse:41923.05078\n",
      "[7]\ttrain-rmse:31730.70312\teval-rmse:41098.03125\n",
      "[8]\ttrain-rmse:30789.57031\teval-rmse:40809.83203\n",
      "[9]\ttrain-rmse:30266.14844\teval-rmse:40480.82812\n",
      "[10]\ttrain-rmse:29849.59180\teval-rmse:40566.10938\n",
      "[11]\ttrain-rmse:29292.45117\teval-rmse:40248.76562\n",
      "[12]\ttrain-rmse:28863.81445\teval-rmse:40229.19922\n",
      "[13]\ttrain-rmse:28525.56055\teval-rmse:40277.12891\n",
      "[14]\ttrain-rmse:28327.83594\teval-rmse:40113.27734\n",
      "[15]\ttrain-rmse:28215.73828\teval-rmse:40127.80469\n",
      "[16]\ttrain-rmse:28067.42773\teval-rmse:40127.61719\n",
      "[17]\ttrain-rmse:27922.42578\teval-rmse:40115.82031\n",
      "[18]\ttrain-rmse:27847.66602\teval-rmse:40093.83984\n",
      "[19]\ttrain-rmse:27711.15625\teval-rmse:40056.32812\n",
      "[20]\ttrain-rmse:27642.59375\teval-rmse:40185.48438\n",
      "[21]\ttrain-rmse:27415.08789\teval-rmse:40066.57812\n",
      "[22]\ttrain-rmse:27161.45117\teval-rmse:40021.78906\n",
      "[23]\ttrain-rmse:27117.05859\teval-rmse:40049.68750\n",
      "[24]\ttrain-rmse:26969.96094\teval-rmse:40024.42969\n",
      "[25]\ttrain-rmse:26865.17188\teval-rmse:39998.43359\n",
      "[26]\ttrain-rmse:26786.96680\teval-rmse:39973.60938\n",
      "[27]\ttrain-rmse:26750.70703\teval-rmse:40057.41016\n",
      "[28]\ttrain-rmse:26592.21875\teval-rmse:40043.98047\n",
      "[29]\ttrain-rmse:26451.41016\teval-rmse:40038.37109\n",
      "[30]\ttrain-rmse:26327.09961\teval-rmse:40046.45312\n",
      "[31]\ttrain-rmse:26258.19141\teval-rmse:40007.44922\n",
      "[32]\ttrain-rmse:26224.77930\teval-rmse:40029.86328\n",
      "[33]\ttrain-rmse:26202.47461\teval-rmse:40136.89844\n",
      "[34]\ttrain-rmse:26049.94531\teval-rmse:40226.73047\n",
      "[35]\ttrain-rmse:25972.75391\teval-rmse:40222.01562\n",
      "[36]\ttrain-rmse:25831.40234\teval-rmse:40209.27344\n",
      "[37]\ttrain-rmse:25676.18555\teval-rmse:40183.39844\n",
      "[38]\ttrain-rmse:25663.68164\teval-rmse:40189.00391\n",
      "[39]\ttrain-rmse:25617.45703\teval-rmse:40215.10156\n",
      "[40]\ttrain-rmse:25571.92188\teval-rmse:40199.18750\n",
      "[41]\ttrain-rmse:25497.29297\teval-rmse:40169.53516\n",
      "[42]\ttrain-rmse:25386.42969\teval-rmse:40122.69531\n",
      "[43]\ttrain-rmse:25348.78125\teval-rmse:40213.05469\n",
      "[44]\ttrain-rmse:25225.16797\teval-rmse:40173.27734\n",
      "[45]\ttrain-rmse:25186.26367\teval-rmse:40125.51172\n",
      "[46]\ttrain-rmse:25051.25586\teval-rmse:40083.09766\n",
      "[47]\ttrain-rmse:24941.63086\teval-rmse:40064.65625\n",
      "[48]\ttrain-rmse:24886.65625\teval-rmse:40054.21484\n",
      "[49]\ttrain-rmse:24833.84570\teval-rmse:40024.91406\n",
      "[15:46:27] WARNING: ..\\src\\learner.cc:541: \n",
      "Parameters: { sileng } might not be used.\n",
      "\n",
      "  This may not be accurate due to some parameters are only used in language bindings but\n",
      "  passed down to XGBoost core.  Or some parameters are not used but slip through this\n",
      "  verification. Please open an issue if you find above cases.\n",
      "\n",
      "\n",
      "[0]\ttrain-rmse:101615.77344\teval-rmse:101504.51562\n",
      "[1]\ttrain-rmse:75669.33594\teval-rmse:76266.44531\n",
      "[2]\ttrain-rmse:58466.73047\teval-rmse:59748.47656\n",
      "[3]\ttrain-rmse:47526.26172\teval-rmse:49394.47656\n",
      "[4]\ttrain-rmse:40672.16016\teval-rmse:43220.11719\n",
      "[5]\ttrain-rmse:36497.40234\teval-rmse:39842.92188\n",
      "[6]\ttrain-rmse:34075.24219\teval-rmse:37601.58594\n",
      "[7]\ttrain-rmse:32408.88281\teval-rmse:36570.87109\n",
      "[8]\ttrain-rmse:31415.75977\teval-rmse:35606.64844\n",
      "[9]\ttrain-rmse:30661.98242\teval-rmse:35331.87500\n",
      "[10]\ttrain-rmse:30094.18945\teval-rmse:34918.01953\n",
      "[11]\ttrain-rmse:29673.44141\teval-rmse:34832.27734\n",
      "[12]\ttrain-rmse:29330.50000\teval-rmse:34750.55078\n",
      "[13]\ttrain-rmse:29181.69531\teval-rmse:34685.56250\n",
      "[14]\ttrain-rmse:28950.62695\teval-rmse:34744.19141\n",
      "[15]\ttrain-rmse:28796.77930\teval-rmse:34768.90234\n",
      "[16]\ttrain-rmse:28673.91797\teval-rmse:34731.54688\n",
      "[17]\ttrain-rmse:28512.83008\teval-rmse:34602.67188\n",
      "[18]\ttrain-rmse:28400.87305\teval-rmse:34675.78125\n",
      "[19]\ttrain-rmse:28294.26367\teval-rmse:34790.65625\n",
      "[20]\ttrain-rmse:28184.52539\teval-rmse:34789.89844\n",
      "[21]\ttrain-rmse:27968.79883\teval-rmse:34638.63281\n",
      "[22]\ttrain-rmse:27898.58398\teval-rmse:34611.92578\n",
      "[23]\ttrain-rmse:27644.42969\teval-rmse:34432.22656\n",
      "[24]\ttrain-rmse:27514.70898\teval-rmse:34486.53125\n",
      "[25]\ttrain-rmse:27392.83594\teval-rmse:34456.07812\n",
      "[26]\ttrain-rmse:27239.46484\teval-rmse:34458.08594\n",
      "[27]\ttrain-rmse:26953.63281\teval-rmse:34618.60156\n",
      "[28]\ttrain-rmse:26829.87500\teval-rmse:34598.80469\n",
      "[29]\ttrain-rmse:26728.48828\teval-rmse:34596.51953\n",
      "[30]\ttrain-rmse:26620.51758\teval-rmse:34506.58984\n",
      "[31]\ttrain-rmse:26575.83203\teval-rmse:34529.21484\n",
      "[32]\ttrain-rmse:26451.82617\teval-rmse:34465.73438\n",
      "[33]\ttrain-rmse:26412.13281\teval-rmse:34499.81641\n",
      "[34]\ttrain-rmse:26359.42188\teval-rmse:34491.00781\n",
      "[35]\ttrain-rmse:26228.15430\teval-rmse:34467.58203\n",
      "[36]\ttrain-rmse:26109.70508\teval-rmse:34408.64062\n",
      "[37]\ttrain-rmse:26071.36328\teval-rmse:34436.59375\n",
      "[38]\ttrain-rmse:25934.40039\teval-rmse:34353.86328\n",
      "[39]\ttrain-rmse:25863.54688\teval-rmse:34329.30469\n",
      "[40]\ttrain-rmse:25726.50977\teval-rmse:34304.00781\n",
      "[41]\ttrain-rmse:25601.31055\teval-rmse:34240.59375\n",
      "[42]\ttrain-rmse:25579.92773\teval-rmse:34233.93359\n",
      "[43]\ttrain-rmse:25487.11328\teval-rmse:34192.81250\n",
      "[44]\ttrain-rmse:25393.62500\teval-rmse:34165.88281\n",
      "[45]\ttrain-rmse:25317.45703\teval-rmse:34160.58203\n",
      "[46]\ttrain-rmse:25264.21484\teval-rmse:34167.62109\n",
      "[47]\ttrain-rmse:25222.56641\teval-rmse:34178.68359\n",
      "[48]\ttrain-rmse:25139.70117\teval-rmse:34148.03125\n",
      "[49]\ttrain-rmse:24867.91992\teval-rmse:34268.18750\n",
      "[15:46:28] WARNING: ..\\src\\learner.cc:541: \n",
      "Parameters: { sileng } might not be used.\n",
      "\n",
      "  This may not be accurate due to some parameters are only used in language bindings but\n",
      "  passed down to XGBoost core.  Or some parameters are not used but slip through this\n",
      "  verification. Please open an issue if you find above cases.\n",
      "\n",
      "\n",
      "[0]\ttrain-rmse:101062.26562\teval-rmse:103099.59375\n",
      "[1]\ttrain-rmse:75311.35938\teval-rmse:78366.80469\n",
      "[2]\ttrain-rmse:58295.36719\teval-rmse:62279.40625\n",
      "[3]\ttrain-rmse:47235.27734\teval-rmse:52355.51953\n",
      "[4]\ttrain-rmse:40421.01172\teval-rmse:46724.88672\n",
      "[5]\ttrain-rmse:36222.58594\teval-rmse:43661.27344\n",
      "[6]\ttrain-rmse:33729.38281\teval-rmse:41355.59766\n",
      "[7]\ttrain-rmse:32264.46094\teval-rmse:40397.76953\n",
      "[8]\ttrain-rmse:31368.15820\teval-rmse:39997.43750\n",
      "[9]\ttrain-rmse:30871.42578\teval-rmse:39824.73438\n",
      "[10]\ttrain-rmse:30447.61719\teval-rmse:39654.15234\n",
      "[11]\ttrain-rmse:30227.35547\teval-rmse:39703.17188\n",
      "[12]\ttrain-rmse:29972.26758\teval-rmse:39688.09375\n",
      "[13]\ttrain-rmse:29704.38867\teval-rmse:39587.84766\n",
      "[14]\ttrain-rmse:29398.00000\teval-rmse:39656.35938\n",
      "[15]\ttrain-rmse:29090.99414\teval-rmse:39541.21875\n",
      "[16]\ttrain-rmse:28936.02539\teval-rmse:39773.51562\n",
      "[17]\ttrain-rmse:28721.25977\teval-rmse:39784.84766\n",
      "[18]\ttrain-rmse:28647.30273\teval-rmse:39752.20703\n",
      "[19]\ttrain-rmse:28430.57812\teval-rmse:39639.46484\n",
      "[20]\ttrain-rmse:28188.58398\teval-rmse:39567.79297\n",
      "[21]\ttrain-rmse:28033.94922\teval-rmse:39546.99609\n",
      "[22]\ttrain-rmse:27854.67383\teval-rmse:39538.26172\n",
      "[23]\ttrain-rmse:27743.19727\teval-rmse:39572.24219\n",
      "[24]\ttrain-rmse:27632.26953\teval-rmse:39519.87500\n",
      "[25]\ttrain-rmse:27556.80469\teval-rmse:39548.46875\n",
      "[26]\ttrain-rmse:27480.69922\teval-rmse:39688.79297\n",
      "[27]\ttrain-rmse:27419.79492\teval-rmse:39675.02344\n",
      "[28]\ttrain-rmse:27298.61523\teval-rmse:39688.92969\n",
      "[29]\ttrain-rmse:27229.97266\teval-rmse:39668.08984\n",
      "[30]\ttrain-rmse:27081.95508\teval-rmse:39634.00781\n",
      "[31]\ttrain-rmse:26915.90430\teval-rmse:39552.96875\n",
      "[32]\ttrain-rmse:26830.88281\teval-rmse:39523.10547\n",
      "[33]\ttrain-rmse:26719.54297\teval-rmse:39637.46484\n",
      "[34]\ttrain-rmse:26621.10742\teval-rmse:39605.26562\n",
      "[35]\ttrain-rmse:26501.26953\teval-rmse:39582.53516\n",
      "[36]\ttrain-rmse:26438.50000\teval-rmse:39642.66406\n",
      "[37]\ttrain-rmse:26288.40039\teval-rmse:39625.28125\n",
      "[38]\ttrain-rmse:26197.00000\teval-rmse:39587.07031\n",
      "[39]\ttrain-rmse:26071.23438\teval-rmse:39580.46875\n",
      "[40]\ttrain-rmse:25946.87305\teval-rmse:39543.60156\n",
      "[41]\ttrain-rmse:25871.09180\teval-rmse:39580.57031\n",
      "[42]\ttrain-rmse:25766.79688\teval-rmse:39558.39844\n",
      "[43]\ttrain-rmse:25722.38672\teval-rmse:39529.90625\n",
      "[44]\ttrain-rmse:25549.08594\teval-rmse:39541.27734\n",
      "[45]\ttrain-rmse:25479.58594\teval-rmse:39562.53516\n",
      "[46]\ttrain-rmse:25460.29297\teval-rmse:39574.49219\n",
      "[47]\ttrain-rmse:25446.17969\teval-rmse:39568.35156\n",
      "[48]\ttrain-rmse:25382.18750\teval-rmse:39559.23047\n",
      "[49]\ttrain-rmse:25313.55664\teval-rmse:39532.24219\n",
      "[15:46:28] WARNING: ..\\src\\learner.cc:541: \n",
      "Parameters: { sileng } might not be used.\n",
      "\n",
      "  This may not be accurate due to some parameters are only used in language bindings but\n",
      "  passed down to XGBoost core.  Or some parameters are not used but slip through this\n",
      "  verification. Please open an issue if you find above cases.\n",
      "\n",
      "\n",
      "[0]\ttrain-rmse:101987.35156\teval-rmse:99370.31250\n",
      "[1]\ttrain-rmse:76275.65625\teval-rmse:74008.63281\n",
      "[2]\ttrain-rmse:59375.02734\teval-rmse:57703.79688\n",
      "[3]\ttrain-rmse:48252.45703\teval-rmse:46744.99219\n",
      "[4]\ttrain-rmse:41355.38672\teval-rmse:40483.35938\n",
      "[5]\ttrain-rmse:36956.17969\teval-rmse:36925.50781\n",
      "[6]\ttrain-rmse:34233.01172\teval-rmse:34988.79297\n",
      "[7]\ttrain-rmse:32488.34570\teval-rmse:34213.67578\n",
      "[8]\ttrain-rmse:31296.90820\teval-rmse:34004.68750\n",
      "[9]\ttrain-rmse:30613.88281\teval-rmse:33954.86328\n",
      "[10]\ttrain-rmse:30117.93945\teval-rmse:33730.01953\n",
      "[11]\ttrain-rmse:29851.01758\teval-rmse:33704.53516\n",
      "[12]\ttrain-rmse:29672.62891\teval-rmse:33692.71875\n",
      "[13]\ttrain-rmse:29346.34180\teval-rmse:33582.41016\n",
      "[14]\ttrain-rmse:29044.37500\teval-rmse:33509.37891\n",
      "[15]\ttrain-rmse:28941.91797\teval-rmse:33507.91016\n",
      "[16]\ttrain-rmse:28774.03516\teval-rmse:33485.50000\n",
      "[17]\ttrain-rmse:28639.29297\teval-rmse:33565.12891\n",
      "[18]\ttrain-rmse:28587.63867\teval-rmse:33570.30859\n",
      "[19]\ttrain-rmse:28401.41406\teval-rmse:33523.39453\n",
      "[20]\ttrain-rmse:28128.32422\teval-rmse:33441.72656\n",
      "[21]\ttrain-rmse:28020.88867\teval-rmse:33464.56250\n",
      "[22]\ttrain-rmse:27960.15625\teval-rmse:33459.34766\n",
      "[23]\ttrain-rmse:27920.39062\teval-rmse:33536.05078\n",
      "[24]\ttrain-rmse:27753.23633\teval-rmse:33490.46094\n",
      "[25]\ttrain-rmse:27669.08984\teval-rmse:33522.27734\n",
      "[26]\ttrain-rmse:27567.93359\teval-rmse:33490.89453\n",
      "[27]\ttrain-rmse:27361.35352\teval-rmse:33462.21875\n",
      "[28]\ttrain-rmse:27276.98633\teval-rmse:33412.87109\n",
      "[29]\ttrain-rmse:27249.91406\teval-rmse:33432.58984\n",
      "[30]\ttrain-rmse:27177.75977\teval-rmse:33425.42188\n",
      "[31]\ttrain-rmse:27066.93555\teval-rmse:33355.29688\n",
      "[32]\ttrain-rmse:26983.76367\teval-rmse:33309.06641\n",
      "[33]\ttrain-rmse:26921.06055\teval-rmse:33262.16016\n",
      "[34]\ttrain-rmse:26810.23828\teval-rmse:33199.88281\n",
      "[35]\ttrain-rmse:26761.82031\teval-rmse:33203.90234\n",
      "[36]\ttrain-rmse:26584.09180\teval-rmse:33157.03125\n",
      "[37]\ttrain-rmse:26433.09180\teval-rmse:33067.73047\n",
      "[38]\ttrain-rmse:26347.37109\teval-rmse:33058.33984\n",
      "[39]\ttrain-rmse:26328.08203\teval-rmse:33077.86719\n",
      "[40]\ttrain-rmse:26210.68164\teval-rmse:33025.58984\n",
      "[41]\ttrain-rmse:26166.27539\teval-rmse:33027.22656\n",
      "[42]\ttrain-rmse:26016.76562\teval-rmse:32970.42969\n",
      "[43]\ttrain-rmse:25968.30664\teval-rmse:32927.72266\n",
      "[44]\ttrain-rmse:25896.24414\teval-rmse:32897.16016\n",
      "[45]\ttrain-rmse:25843.39062\teval-rmse:32889.56250\n",
      "[46]\ttrain-rmse:25803.63086\teval-rmse:32884.82812\n",
      "[47]\ttrain-rmse:25671.07617\teval-rmse:32871.35156\n",
      "[48]\ttrain-rmse:25533.00195\teval-rmse:32856.31250\n",
      "[49]\ttrain-rmse:25505.00586\teval-rmse:32897.64062\n"
     ]
    }
   ],
   "source": [
    "import xgboost as xgb\n",
    "from xgboost import XGBClassifier\n",
    "from sklearn.metrics import log_loss, accuracy_score\n",
    "from sklearn.model_selection import KFold\n",
    "\n",
    "scores = []\n",
    "# GBDT用のハイパーパラメータ\n",
    "params = {\"objective\": \"reg:squarederror\", \"sileng\":1, \"random_state\":71}\n",
    "num_round = 50\n",
    "\n",
    "# クロスバリデーション\n",
    "kf = KFold(n_splits=4, shuffle=True, random_state=71)\n",
    "for tr_idx, va_idx, in kf.split(train_x):\n",
    "    tr_x, va_x = train_x.iloc[tr_idx], train_x.iloc[va_idx]\n",
    "    tr_y, va_y = train_y.iloc[tr_idx], train_y.iloc[va_idx]\n",
    "    \n",
    "    # GBDTで学習実行\n",
    "    dtrain = xgb.DMatrix(tr_x, label=tr_y) # enable_categorical=True\n",
    "    dvalid = xgb.DMatrix(va_x, label=va_y)\n",
    "    dtest = xgb.DMatrix(test_x)\n",
    "    \n",
    "    watchlist = [(dtrain, \"train\"), (dvalid, \"eval\")]\n",
    "    model = xgb.train(params, dtrain, num_round, evals=watchlist)"
   ]
  },
  {
   "cell_type": "markdown",
   "metadata": {},
   "source": [
    "## 予測"
   ]
  },
  {
   "cell_type": "code",
   "execution_count": 370,
   "metadata": {},
   "outputs": [],
   "source": [
    "# テストデータでの予測\n",
    "pred = model.predict(dtest)"
   ]
  },
  {
   "cell_type": "code",
   "execution_count": 371,
   "metadata": {},
   "outputs": [
    {
     "data": {
      "text/plain": [
       "array([ 48252.207,  96530.12 ,  90922.13 , ..., 930514.2  ,  71540.484,\n",
       "       536156.2  ], dtype=float32)"
      ]
     },
     "execution_count": 371,
     "metadata": {},
     "output_type": "execute_result"
    }
   ],
   "source": [
    "pred"
   ]
  },
  {
   "cell_type": "code",
   "execution_count": 372,
   "metadata": {},
   "outputs": [
    {
     "data": {
      "text/plain": [
       "31262"
      ]
     },
     "execution_count": 372,
     "metadata": {},
     "output_type": "execute_result"
    }
   ],
   "source": [
    "len(pred)"
   ]
  },
  {
   "cell_type": "code",
   "execution_count": 373,
   "metadata": {},
   "outputs": [
    {
     "data": {
      "text/plain": [
       "31262"
      ]
     },
     "execution_count": 373,
     "metadata": {},
     "output_type": "execute_result"
    }
   ],
   "source": [
    "len(test_data_1)"
   ]
  },
  {
   "cell_type": "markdown",
   "metadata": {},
   "source": [
    "## データ出力"
   ]
  },
  {
   "cell_type": "code",
   "execution_count": null,
   "metadata": {},
   "outputs": [],
   "source": [
    "test_data = test_data.sort_values(\"間取り\")"
   ]
  },
  {
   "cell_type": "code",
   "execution_count": 376,
   "metadata": {},
   "outputs": [
    {
     "data": {
      "text/html": [
       "<div>\n",
       "<style scoped>\n",
       "    .dataframe tbody tr th:only-of-type {\n",
       "        vertical-align: middle;\n",
       "    }\n",
       "\n",
       "    .dataframe tbody tr th {\n",
       "        vertical-align: top;\n",
       "    }\n",
       "\n",
       "    .dataframe thead th {\n",
       "        text-align: right;\n",
       "    }\n",
       "</style>\n",
       "<table border=\"1\" class=\"dataframe\">\n",
       "  <thead>\n",
       "    <tr style=\"text-align: right;\">\n",
       "      <th></th>\n",
       "      <th>id</th>\n",
       "      <th>所在地</th>\n",
       "      <th>アクセス</th>\n",
       "      <th>間取り</th>\n",
       "      <th>築年数</th>\n",
       "      <th>方角</th>\n",
       "      <th>面積</th>\n",
       "      <th>所在階</th>\n",
       "      <th>バス・トイレ</th>\n",
       "      <th>キッチン</th>\n",
       "      <th>放送・通信</th>\n",
       "      <th>室内設備</th>\n",
       "      <th>駐車場</th>\n",
       "      <th>周辺環境</th>\n",
       "      <th>建物構造</th>\n",
       "      <th>契約期間</th>\n",
       "    </tr>\n",
       "  </thead>\n",
       "  <tbody>\n",
       "    <tr>\n",
       "      <th>0</th>\n",
       "      <td>31471</td>\n",
       "      <td>東京都世田谷区深沢５丁目1-27</td>\n",
       "      <td>東急大井町線\\t等々力駅\\t徒歩15分\\t\\t東急田園都市線\\t桜新町駅\\t徒歩24分\\t\\...</td>\n",
       "      <td>2LDK</td>\n",
       "      <td>49年0ヶ月</td>\n",
       "      <td>南</td>\n",
       "      <td>50.22m2</td>\n",
       "      <td>8階／8階建</td>\n",
       "      <td>専用バス／\\t専用トイレ／\\tバス・トイレ別／\\tシャワー／\\t追焚機能／\\t温水洗浄便座／...</td>\n",
       "      <td>ガスコンロ／\\tコンロ3口／\\tシステムキッチン\\t／\\t給湯／\\tL字キッチン</td>\n",
       "      <td>インターネット対応</td>\n",
       "      <td>エアコン付\\tシューズボックス／\\tバルコニー／\\tフローリング／\\tエレベーター\\t公営水...</td>\n",
       "      <td>駐輪場\\t空有\\t駐車場\\t無\\tバイク置き場\\t無</td>\n",
       "      <td>【コンビニ】 74m\\t【スーパー】 215m\\t【病院】 313m\\t【小学校】 219m...</td>\n",
       "      <td>鉄骨造</td>\n",
       "      <td>NaN</td>\n",
       "    </tr>\n",
       "    <tr>\n",
       "      <th>1</th>\n",
       "      <td>31472</td>\n",
       "      <td>東京都目黒区八雲１丁目11-8</td>\n",
       "      <td>東急東横線\\t都立大学駅\\t徒歩6分\\t\\t東急東横線\\t自由が丘駅\\t徒歩17分\\t\\t東...</td>\n",
       "      <td>1R</td>\n",
       "      <td>0年2ヶ月</td>\n",
       "      <td>南東</td>\n",
       "      <td>20.88m2</td>\n",
       "      <td>3階／4階建</td>\n",
       "      <td>専用バス／\\t専用トイレ／\\tバス・トイレ別／\\tシャワー／\\t浴室乾燥機\\t／\\t温水洗浄...</td>\n",
       "      <td>ガスコンロ／\\tコンロ2口／\\tシステムキッチン\\t／\\t給湯</td>\n",
       "      <td>インターネット対応／\\tCSアンテナ／\\tBSアンテナ／\\tインターネット使用料無料</td>\n",
       "      <td>エアコン付\\tシューズボックス／\\tフローリング／\\t室内洗濯機置場\\t公営水道／\\t下水／...</td>\n",
       "      <td>駐車場\\t近隣\\t34,000円(税込)\\t距離200m\\t駐輪場\\t無\\tバイク置き場\\t無</td>\n",
       "      <td>【スーパー】 128m\\t【スーパー】 313m\\t【コンビニ】 374m\\t【コンビニ】 ...</td>\n",
       "      <td>RC（鉄筋コンクリート）</td>\n",
       "      <td>2年間</td>\n",
       "    </tr>\n",
       "    <tr>\n",
       "      <th>2</th>\n",
       "      <td>31473</td>\n",
       "      <td>東京都豊島区池袋本町２丁目22-2</td>\n",
       "      <td>東武東上線\\t北池袋駅\\t徒歩10分\\t\\t埼京線\\t板橋駅\\t徒歩16分\\t\\t山手線\\t...</td>\n",
       "      <td>1K</td>\n",
       "      <td>23年4ヶ月</td>\n",
       "      <td>南東</td>\n",
       "      <td>26.93m2</td>\n",
       "      <td>1階／4階建</td>\n",
       "      <td>専用バス／\\t専用トイレ／\\tバス・トイレ別／\\tシャワー／\\t温水洗浄便座</td>\n",
       "      <td>ガスコンロ／\\t給湯</td>\n",
       "      <td>インターネット対応／\\t光ファイバー／\\tCATV</td>\n",
       "      <td>エアコン付\\tシューズボックス／\\tバルコニー／\\tフローリング／\\t2面採光／\\t室内洗濯...</td>\n",
       "      <td>駐車場\\t空有\\t5,000円(税込)\\t(敷金あり\\t1ヶ月)\\t駐輪場\\t空有\\tバイク...</td>\n",
       "      <td>【スーパー】 529m\\t【スーパー】 810m\\t【コンビニ】 316m\\t【コンビニ】 ...</td>\n",
       "      <td>鉄骨造</td>\n",
       "      <td>2年間</td>\n",
       "    </tr>\n",
       "    <tr>\n",
       "      <th>3</th>\n",
       "      <td>31474</td>\n",
       "      <td>東京都杉並区和泉１丁目</td>\n",
       "      <td>丸ノ内線(中野坂上－方南町)\\t方南町駅\\t徒歩10分\\t\\t京王線\\t代田橋駅\\t徒歩8分...</td>\n",
       "      <td>1K</td>\n",
       "      <td>36年2ヶ月</td>\n",
       "      <td>南東</td>\n",
       "      <td>23.57m2</td>\n",
       "      <td>1階／2階建</td>\n",
       "      <td>シャワー</td>\n",
       "      <td>ガスコンロ／\\t給湯</td>\n",
       "      <td>NaN</td>\n",
       "      <td>エアコン付\\tシューズボックス／\\t2面採光／\\t室外洗濯機置場\\t公営水道／\\t下水／\\t...</td>\n",
       "      <td>駐輪場\\t空有\\t0円</td>\n",
       "      <td>【スーパー】 286m\\t【スーパー】 702m\\t【コンビニ】 489m\\t【コンビニ】 ...</td>\n",
       "      <td>木造</td>\n",
       "      <td>2年間</td>\n",
       "    </tr>\n",
       "    <tr>\n",
       "      <th>4</th>\n",
       "      <td>31475</td>\n",
       "      <td>東京都杉並区堀ノ内２丁目</td>\n",
       "      <td>丸ノ内線(中野坂上－方南町)\\t方南町駅\\t徒歩12分\\t\\t丸ノ内線(池袋－荻窪)\\t新高...</td>\n",
       "      <td>2LDK</td>\n",
       "      <td>45年4ヶ月</td>\n",
       "      <td>南</td>\n",
       "      <td>50m2</td>\n",
       "      <td>4階／4階建</td>\n",
       "      <td>専用バス／\\t専用トイレ／\\tバス・トイレ別</td>\n",
       "      <td>コンロ設置可（口数不明）／\\t給湯</td>\n",
       "      <td>インターネット対応</td>\n",
       "      <td>冷房／\\tエアコン付\\tシューズボックス／\\tバルコニー／\\tフローリング／\\t室内洗濯機置...</td>\n",
       "      <td>駐車場\\t近隣\\t22,600円\\t距離177m</td>\n",
       "      <td>【コンビニ】 312m\\t【コンビニ】 436m\\t【スーパー】 902m\\t【コンビニ】 ...</td>\n",
       "      <td>RC（鉄筋コンクリート）</td>\n",
       "      <td>2年間</td>\n",
       "    </tr>\n",
       "  </tbody>\n",
       "</table>\n",
       "</div>"
      ],
      "text/plain": [
       "      id                所在地  \\\n",
       "0  31471   東京都世田谷区深沢５丁目1-27   \n",
       "1  31472    東京都目黒区八雲１丁目11-8   \n",
       "2  31473  東京都豊島区池袋本町２丁目22-2   \n",
       "3  31474        東京都杉並区和泉１丁目   \n",
       "4  31475       東京都杉並区堀ノ内２丁目   \n",
       "\n",
       "                                                アクセス   間取り     築年数  方角  \\\n",
       "0  東急大井町線\\t等々力駅\\t徒歩15分\\t\\t東急田園都市線\\t桜新町駅\\t徒歩24分\\t\\...  2LDK  49年0ヶ月   南   \n",
       "1  東急東横線\\t都立大学駅\\t徒歩6分\\t\\t東急東横線\\t自由が丘駅\\t徒歩17分\\t\\t東...    1R   0年2ヶ月  南東   \n",
       "2  東武東上線\\t北池袋駅\\t徒歩10分\\t\\t埼京線\\t板橋駅\\t徒歩16分\\t\\t山手線\\t...    1K  23年4ヶ月  南東   \n",
       "3  丸ノ内線(中野坂上－方南町)\\t方南町駅\\t徒歩10分\\t\\t京王線\\t代田橋駅\\t徒歩8分...    1K  36年2ヶ月  南東   \n",
       "4  丸ノ内線(中野坂上－方南町)\\t方南町駅\\t徒歩12分\\t\\t丸ノ内線(池袋－荻窪)\\t新高...  2LDK  45年4ヶ月   南   \n",
       "\n",
       "        面積     所在階                                             バス・トイレ  \\\n",
       "0  50.22m2  8階／8階建  専用バス／\\t専用トイレ／\\tバス・トイレ別／\\tシャワー／\\t追焚機能／\\t温水洗浄便座／...   \n",
       "1  20.88m2  3階／4階建  専用バス／\\t専用トイレ／\\tバス・トイレ別／\\tシャワー／\\t浴室乾燥機\\t／\\t温水洗浄...   \n",
       "2  26.93m2  1階／4階建             専用バス／\\t専用トイレ／\\tバス・トイレ別／\\tシャワー／\\t温水洗浄便座   \n",
       "3  23.57m2  1階／2階建                                               シャワー   \n",
       "4     50m2  4階／4階建                             専用バス／\\t専用トイレ／\\tバス・トイレ別   \n",
       "\n",
       "                                       キッチン  \\\n",
       "0  ガスコンロ／\\tコンロ3口／\\tシステムキッチン\\t／\\t給湯／\\tL字キッチン   \n",
       "1           ガスコンロ／\\tコンロ2口／\\tシステムキッチン\\t／\\t給湯   \n",
       "2                                ガスコンロ／\\t給湯   \n",
       "3                                ガスコンロ／\\t給湯   \n",
       "4                         コンロ設置可（口数不明）／\\t給湯   \n",
       "\n",
       "                                        放送・通信  \\\n",
       "0                                   インターネット対応   \n",
       "1  インターネット対応／\\tCSアンテナ／\\tBSアンテナ／\\tインターネット使用料無料   \n",
       "2                   インターネット対応／\\t光ファイバー／\\tCATV   \n",
       "3                                         NaN   \n",
       "4                                   インターネット対応   \n",
       "\n",
       "                                                室内設備  \\\n",
       "0  エアコン付\\tシューズボックス／\\tバルコニー／\\tフローリング／\\tエレベーター\\t公営水...   \n",
       "1  エアコン付\\tシューズボックス／\\tフローリング／\\t室内洗濯機置場\\t公営水道／\\t下水／...   \n",
       "2  エアコン付\\tシューズボックス／\\tバルコニー／\\tフローリング／\\t2面採光／\\t室内洗濯...   \n",
       "3  エアコン付\\tシューズボックス／\\t2面採光／\\t室外洗濯機置場\\t公営水道／\\t下水／\\t...   \n",
       "4  冷房／\\tエアコン付\\tシューズボックス／\\tバルコニー／\\tフローリング／\\t室内洗濯機置...   \n",
       "\n",
       "                                                 駐車場  \\\n",
       "0                         駐輪場\\t空有\\t駐車場\\t無\\tバイク置き場\\t無   \n",
       "1    駐車場\\t近隣\\t34,000円(税込)\\t距離200m\\t駐輪場\\t無\\tバイク置き場\\t無   \n",
       "2  駐車場\\t空有\\t5,000円(税込)\\t(敷金あり\\t1ヶ月)\\t駐輪場\\t空有\\tバイク...   \n",
       "3                                        駐輪場\\t空有\\t0円   \n",
       "4                           駐車場\\t近隣\\t22,600円\\t距離177m   \n",
       "\n",
       "                                                周辺環境          建物構造 契約期間  \n",
       "0  【コンビニ】 74m\\t【スーパー】 215m\\t【病院】 313m\\t【小学校】 219m...           鉄骨造  NaN  \n",
       "1  【スーパー】 128m\\t【スーパー】 313m\\t【コンビニ】 374m\\t【コンビニ】 ...  RC（鉄筋コンクリート）  2年間  \n",
       "2  【スーパー】 529m\\t【スーパー】 810m\\t【コンビニ】 316m\\t【コンビニ】 ...           鉄骨造  2年間  \n",
       "3  【スーパー】 286m\\t【スーパー】 702m\\t【コンビニ】 489m\\t【コンビニ】 ...            木造  2年間  \n",
       "4  【コンビニ】 312m\\t【コンビニ】 436m\\t【スーパー】 902m\\t【コンビニ】 ...  RC（鉄筋コンクリート）  2年間  "
      ]
     },
     "execution_count": 376,
     "metadata": {},
     "output_type": "execute_result"
    }
   ],
   "source": [
    "test_data.head()"
   ]
  },
  {
   "cell_type": "code",
   "execution_count": null,
   "metadata": {},
   "outputs": [],
   "source": []
  }
 ],
 "metadata": {
  "kernelspec": {
   "display_name": "Python 3",
   "language": "python",
   "name": "python3"
  },
  "language_info": {
   "codemirror_mode": {
    "name": "ipython",
    "version": 3
   },
   "file_extension": ".py",
   "mimetype": "text/x-python",
   "name": "python",
   "nbconvert_exporter": "python",
   "pygments_lexer": "ipython3",
   "version": "3.8.5"
  }
 },
 "nbformat": 4,
 "nbformat_minor": 4
}
