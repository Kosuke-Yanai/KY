{
 "cells": [
  {
   "cell_type": "markdown",
   "metadata": {},
   "source": [
    "## Q81: TwoSums"
   ]
  },
  {
   "cell_type": "markdown",
   "metadata": {},
   "source": [
    "```\n",
    "問題：整数配列とターゲットが渡された時、整数配列の内足したら答えがターゲットになる2つの数字を返しなさい。\n",
    "例: twosums([2, 7, 11, 15],9) ==> 2,7\n",
    "```"
   ]
  },
  {
   "cell_type": "code",
   "execution_count": 6,
   "metadata": {},
   "outputs": [
    {
     "data": {
      "text/plain": [
       "[(2, 5), (3, 4)]"
      ]
     },
     "execution_count": 6,
     "metadata": {},
     "output_type": "execute_result"
    }
   ],
   "source": [
    "import itertools\n",
    "\n",
    "def TwoSums(numbers, target):\n",
    "    answer = []\n",
    "    for i in itertools.combinations(numbers, 2):\n",
    "        if sum(i) == target:\n",
    "            answer.append(i)\n",
    "    return answer\n",
    "\n",
    "numbers = [1, 2, 3, 4, 5]\n",
    "target = 7\n",
    "TwoSums(numbers, target)"
   ]
  },
  {
   "cell_type": "markdown",
   "metadata": {},
   "source": [
    "## Q82: Reverse Integer"
   ]
  },
  {
   "cell_type": "markdown",
   "metadata": {},
   "source": [
    "```\n",
    "問題： 渡される整数を逆にして返せ\n",
    "```"
   ]
  },
  {
   "cell_type": "code",
   "execution_count": 22,
   "metadata": {},
   "outputs": [
    {
     "data": {
      "text/plain": [
       "51943"
      ]
     },
     "execution_count": 22,
     "metadata": {},
     "output_type": "execute_result"
    }
   ],
   "source": [
    "def ReverseInteger(integer):\n",
    "    return int(str(integer)[::-1])\n",
    "\n",
    "integer = 34915\n",
    "ReverseInteger(integer)"
   ]
  },
  {
   "cell_type": "markdown",
   "metadata": {},
   "source": [
    "## Q83:Roman to Int (ローマ字から整数へ)"
   ]
  },
  {
   "cell_type": "markdown",
   "metadata": {},
   "source": [
    "```\n",
    "問題：\n",
    "(0~4999)までのローマ字を数字に変換せよ。ちなみにローマ数字と整数は以下。\n",
    "\n",
    "let romanValues = [“M”, “CM”, “D”, “CD”, “C”, “XC”, “L”, “XL”, “X”, “IX”, “V”, “IV”, “I”]\n",
    "let arabicValues = [1000, 900, 500, 400, 100, 90, 50, 40, 10, 9, 5, 4, 1]\n",
    "```"
   ]
  },
  {
   "cell_type": "code",
   "execution_count": 65,
   "metadata": {},
   "outputs": [
    {
     "data": {
      "text/plain": [
       "'MMMMCMXCIX'"
      ]
     },
     "execution_count": 65,
     "metadata": {},
     "output_type": "execute_result"
    }
   ],
   "source": [
    "def RomanToInt(number):\n",
    "    answer = []\n",
    "    RomanNumDict = {1000:'M', 900:'CM', 500:'D', 400:'CD', 100:'C', 90:'XC', \\\n",
    "                    50:'L', 40:'XL', 10:'X',  9:'IX', 5:'V', 4:'IV', 1:'I'}\n",
    "    for key in RomanNumDict.keys():\n",
    "        quotient = number // key\n",
    "        number -= (quotient * key)\n",
    "        for i in range(int(quotient)):\n",
    "            answer.append(RomanNumDict[key])\n",
    "    return ''.join(answer)\n",
    "\n",
    "number = 4999\n",
    "RomanToInt(number)\n"
   ]
  },
  {
   "cell_type": "code",
   "execution_count": null,
   "metadata": {},
   "outputs": [],
   "source": []
  }
 ],
 "metadata": {
  "kernelspec": {
   "display_name": "Python 3",
   "language": "python",
   "name": "python3"
  },
  "language_info": {
   "codemirror_mode": {
    "name": "ipython",
    "version": 3
   },
   "file_extension": ".py",
   "mimetype": "text/x-python",
   "name": "python",
   "nbconvert_exporter": "python",
   "pygments_lexer": "ipython3",
   "version": "3.8.5"
  }
 },
 "nbformat": 4,
 "nbformat_minor": 4
}
