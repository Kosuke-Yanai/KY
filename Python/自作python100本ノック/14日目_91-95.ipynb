{
 "cells": [
  {
   "cell_type": "markdown",
   "metadata": {},
   "source": [
    "## Q91: １を何回書いたか"
   ]
  },
  {
   "cell_type": "markdown",
   "metadata": {},
   "source": [
    "```\n",
    "問題：\n",
    "高橋君は 1 以上 N 以下のすべての整数を10進表記で1回ずつ紙に書きました。\n",
    "この作業で、高橋君は 1 という数字を何個書いたでしょうか。\n",
    "```"
   ]
  },
  {
   "cell_type": "code",
   "execution_count": 28,
   "metadata": {},
   "outputs": [
    {
     "data": {
      "text/plain": [
       "7"
      ]
     },
     "execution_count": 28,
     "metadata": {},
     "output_type": "execute_result"
    }
   ],
   "source": [
    "def NumCounter(numbers, target):\n",
    "    count = 0\n",
    "    for number in numbers: \n",
    "        count += list(str(number)).count(target)\n",
    "    return count\n",
    "\n",
    "numbers = [1,2,3,4,5,6,7,8,9,10,11,111]\n",
    "target = '1'\n",
    "NumCounter(numbers, target)"
   ]
  },
  {
   "cell_type": "markdown",
   "metadata": {},
   "source": [
    "## Q92: リモコン"
   ]
  },
  {
   "cell_type": "markdown",
   "metadata": {},
   "source": [
    "```\n",
    "問題文：\n",
    "高橋君は、エアコンの設定温度を変更しようとしています。\n",
    "現在の設定温度は A 度ですが、これを B 度に設定したいと思っています。\n",
    "エアコンのリモコンは 1 回ボタンを押すことで、\n",
    "1 度設定温度を下げる、もしくは上げる\n",
    "5 度設定温度を下げる、もしくは上げる\n",
    "10 度設定温度を下げる、もしくは上げる\n",
    "の、6 種類の操作のいずれか 1 つを実行することが出来ます。\n",
    "高橋君が設定温度を A 度から B 度に変更するために押すボタンの最小回数を求めなさい。\n",
    "```"
   ]
  },
  {
   "cell_type": "code",
   "execution_count": 24,
   "metadata": {},
   "outputs": [
    {
     "data": {
      "text/plain": [
       "6"
      ]
     },
     "execution_count": 24,
     "metadata": {},
     "output_type": "execute_result"
    }
   ],
   "source": [
    "def RemoteController(tmp_a, tmp_b):\n",
    "    count = 0\n",
    "    target = abs(tmp_a - tmp_b)\n",
    "    while target != 0:\n",
    "        if target // 10 > 0:\n",
    "            count += target // 10\n",
    "            target += -(target // 10) * 10\n",
    "        elif target // 5 > 0:\n",
    "            count += target // 5\n",
    "            target += -(target // 5) * 5\n",
    "        else:\n",
    "            count += target\n",
    "            target = 0\n",
    "    return count\n",
    "\n",
    "RemoteController(20, 1)"
   ]
  },
  {
   "cell_type": "markdown",
   "metadata": {},
   "source": [
    "## Q93： 高橋くんと魔法の箱"
   ]
  },
  {
   "cell_type": "markdown",
   "metadata": {},
   "source": [
    "```\n",
    "問題：\n",
    "高橋くんは魔法の箱を持っています。\n",
    "\n",
    "この箱に整数を入れるとそれに対応した整数が出てきます。\n",
    "出てくる整数は入れた整数だけによって決まり、同じ整数を入れると毎回同じ結果が得られます。\n",
    "高橋くんは任意の整数 x について、x を入れた時と 2x を入れた時に出てくる整数が同じであることに気づきました。\n",
    "高橋くんが入れた整数が N 個与えられるので、最大で何種類の整数が出てくるか答えてください。\n",
    "```"
   ]
  },
  {
   "cell_type": "code",
   "execution_count": 47,
   "metadata": {},
   "outputs": [
    {
     "data": {
      "text/plain": [
       "3"
      ]
     },
     "execution_count": 47,
     "metadata": {},
     "output_type": "execute_result"
    }
   ],
   "source": [
    "def MagicBox(integers):\n",
    "    count = 0\n",
    "    for integer in integers:\n",
    "        if 2 * integer not in integers:\n",
    "            count += 1\n",
    "    return count\n",
    "\n",
    "integers = [1, 2, 3, 4, 5, 6, 8, 12]\n",
    "MagicBox(integers)"
   ]
  },
  {
   "cell_type": "code",
   "execution_count": 1,
   "metadata": {},
   "outputs": [
    {
     "name": "stdout",
     "output_type": "stream",
     "text": [
      "3\n"
     ]
    }
   ],
   "source": [
    "# 回答例。上とは逆の考え方。2倍でなくなるまでひたすら割る。\n",
    "# forにwhileを重ねていて、処理時間は掛かりそう。\n",
    "l = [1, 2, 3, 4, 5, 6, 8, 12]\n",
    "ans = set([])\n",
    "for i in l:\n",
    "    while i % 2 == 0:\n",
    "        i = i // 2\n",
    "\n",
    "    ans.add(i)\n",
    "\n",
    "print(len(ans))"
   ]
  },
  {
   "cell_type": "markdown",
   "metadata": {},
   "source": [
    "## Q94: 123引き算ゲーム"
   ]
  },
  {
   "cell_type": "markdown",
   "metadata": {},
   "source": [
    "```\n",
    "問題：\n",
    "最初に、数字 n が与えられます。\n",
    "1 , 2 , 3 の中から好きな数字を選び、与えられた数字に対し、\n",
    "引き算を行うという処理を行うことできます。\n",
    "この処理は 100 回まで行うことが可能であり、\n",
    "最終的に数字を 0 にすることが目標のゲームです。\n",
    "\n",
    "しかし、計算途中でなってはいけないNG数字が 3つ(リスト型で)与えられており、\n",
    "この数字に一時的にでもなってしまった瞬間、このゲームは失敗となります。\n",
    "NG数字が n と同じ場合も失敗となります。\n",
    "あなたは、このゲームが目標達成可能なゲームとなっているか調べたいです。\n",
    "目標達成可能な場合はYES、そうでない場合はNOと出力してください。\n",
    "```"
   ]
  },
  {
   "cell_type": "code",
   "execution_count": 19,
   "metadata": {},
   "outputs": [
    {
     "data": {
      "text/plain": [
       "'YES'"
      ]
     },
     "execution_count": 19,
     "metadata": {},
     "output_type": "execute_result"
    }
   ],
   "source": [
    "def SubtractionGameChecker(num, list_NG):\n",
    "    judge = 'YES'\n",
    "    count = 0\n",
    "    while num != 0:\n",
    "        count += 1\n",
    "        if num not in list_NG and count <= 100:            \n",
    "            if (num - 3) >= 0 and (num - 3) not in list_NG:\n",
    "                num -= 3\n",
    "            elif (num - 2) >= 0 and (num - 2) not in list_NG:\n",
    "                num -= 2\n",
    "            elif (num - 1) >= 0 and (num - 1) not in list_NG:\n",
    "                num -= 1\n",
    "        else:\n",
    "            judge = 'NG'\n",
    "            break\n",
    "    return judge\n",
    "\n",
    "list_NG = [1, 3, 5, 6, 9]\n",
    "SubtractionGameChecker(120, list_NG)"
   ]
  },
  {
   "cell_type": "code",
   "execution_count": null,
   "metadata": {},
   "outputs": [],
   "source": []
  }
 ],
 "metadata": {
  "kernelspec": {
   "display_name": "Python 3",
   "language": "python",
   "name": "python3"
  },
  "language_info": {
   "codemirror_mode": {
    "name": "ipython",
    "version": 3
   },
   "file_extension": ".py",
   "mimetype": "text/x-python",
   "name": "python",
   "nbconvert_exporter": "python",
   "pygments_lexer": "ipython3",
   "version": "3.8.5"
  }
 },
 "nbformat": 4,
 "nbformat_minor": 4
}
