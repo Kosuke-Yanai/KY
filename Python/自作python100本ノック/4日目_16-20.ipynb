{
 "cells": [
  {
   "cell_type": "markdown",
   "metadata": {},
   "source": [
    "## Q16: 標準ライブラリを使ってsin60°を求める"
   ]
  },
  {
   "cell_type": "code",
   "execution_count": 8,
   "metadata": {},
   "outputs": [
    {
     "name": "stdout",
     "output_type": "stream",
     "text": [
      "0.8660254037844386\n",
      "0.8660254037844386\n"
     ]
    }
   ],
   "source": [
    "from math import sin, pi\n",
    "print(sin(math.radians(60)))\n",
    "print(sin(pi/3))"
   ]
  },
  {
   "cell_type": "markdown",
   "metadata": {},
   "source": [
    "## Q17: 16進数ダンプ(逆バージョンも)"
   ]
  },
  {
   "cell_type": "markdown",
   "metadata": {},
   "source": [
    "```\n",
    "16進数ダンプとは、メモリーやファイルの内容などを16進数の形で目に見えるように\n",
    "書き出す（表示する）ことを言います。(通信用語の基礎知識より)\n",
    "今回は、その16進数ダンプと、その逆の作業をライブラリを用いて実行してください。\n",
    "```"
   ]
  },
  {
   "cell_type": "code",
   "execution_count": 12,
   "metadata": {},
   "outputs": [
    {
     "data": {
      "text/plain": [
       "b'48656c6c6f20576f726c64'"
      ]
     },
     "execution_count": 12,
     "metadata": {},
     "output_type": "execute_result"
    }
   ],
   "source": [
    "# 文字列を16進数へ\n",
    "import binascii\n",
    "binascii.hexlify(b'Hello World')"
   ]
  },
  {
   "cell_type": "code",
   "execution_count": 11,
   "metadata": {},
   "outputs": [
    {
     "data": {
      "text/plain": [
       "b'Hello World'"
      ]
     },
     "execution_count": 11,
     "metadata": {},
     "output_type": "execute_result"
    }
   ],
   "source": [
    "binascii.unhexlify(binascii.hexlify(b'Hello World'))"
   ]
  },
  {
   "cell_type": "markdown",
   "metadata": {},
   "source": [
    "## Q18: パスワードを自動生成する"
   ]
  },
  {
   "cell_type": "markdown",
   "metadata": {},
   "source": [
    "```\n",
    "問題：英字（大文字小文字含める）と数字を組み合わせた、8文字のパスワードを自動で生成せよ。\n",
    "```"
   ]
  },
  {
   "cell_type": "code",
   "execution_count": 6,
   "metadata": {},
   "outputs": [
    {
     "data": {
      "text/plain": [
       "'jbUec0'"
      ]
     },
     "execution_count": 6,
     "metadata": {},
     "output_type": "execute_result"
    }
   ],
   "source": [
    "import random\n",
    "import string\n",
    "\n",
    "def GetRandomStr(num):\n",
    "    dat = string.digits + string.ascii_lowercase + string.ascii_uppercase\n",
    "    return ''.join([random.choice(dat) for i in range(num)])\n",
    "\n",
    "GetRandomStr(6)"
   ]
  },
  {
   "cell_type": "markdown",
   "metadata": {},
   "source": [
    "## Q19: ランダムな数字のリストを生成せよ"
   ]
  },
  {
   "cell_type": "markdown",
   "metadata": {},
   "source": [
    "```\n",
    "問題：表示する数字の個数、数字の範囲（最小と最大）を指定し、その中でランダムな数字を生成\n",
    "```"
   ]
  },
  {
   "cell_type": "code",
   "execution_count": 35,
   "metadata": {},
   "outputs": [
    {
     "data": {
      "text/plain": [
       "'536886'"
      ]
     },
     "execution_count": 35,
     "metadata": {},
     "output_type": "execute_result"
    }
   ],
   "source": [
    "import random\n",
    "import string\n",
    "\n",
    "def GetRandomStr(num, min_num, max_num):\n",
    "    dat = [str(random.randint(min_num, max_num)) for i in range(num)]\n",
    "    return ''.join(dat)\n",
    "\n",
    "GetRandomStr(6, 3, 8)"
   ]
  },
  {
   "cell_type": "markdown",
   "metadata": {},
   "source": [
    "## 20: 簡単ポーカー"
   ]
  },
  {
   "cell_type": "markdown",
   "metadata": {},
   "source": [
    "```\n",
    "問題:\n",
    "5枚のカードが配られます。\n",
    "それぞれのカードには、1以上13以下のいずれかの整数が書かれています。\n",
    "カードに書かれている整数の組み合わせによって役が決まります。\n",
    "\n",
    "配られた5枚のカードが、以下のいずれの役に該当するかを調べてください。複数の役に該当する場合は、以下で先に記述した方の役に該当するものとします。\n",
    "\n",
    "条件:\n",
    "FULL HOUSE\n",
    "ある数をちょうど3つと、別の数をちょうど2つ含む。\n",
    "FOUR CARD\n",
    "ある数をちょうど４つ含む。\n",
    "THREE CARD\n",
    "ある数をちょうど3つ含む。\n",
    "TWO PAIR\n",
    "ある数をちょうど2つと、別の数をちょうど2つ含む。\n",
    "ONE PAIR\n",
    "ある数をちょうど2つ含む。\n",
    "```"
   ]
  },
  {
   "cell_type": "code",
   "execution_count": 161,
   "metadata": {},
   "outputs": [
    {
     "name": "stdout",
     "output_type": "stream",
     "text": [
      "['3', '8', '10', '11', '3']\n",
      "ONE PAIR!!\n"
     ]
    }
   ],
   "source": [
    "import random\n",
    "import string\n",
    "import collections\n",
    "\n",
    "def GetRandomStr(num, min_num, max_num):\n",
    "    dat = [str(random.randint(min_num, max_num)) for i in range(num)]\n",
    "    return dat\n",
    "\n",
    "def JudgePorkerRole(card):\n",
    "    pair_num = len(list(collections.Counter(card).values()))\n",
    "    max_pair_num =  max(list(collections.Counter(card).values()))\n",
    "    \n",
    "    if pair_num == 2 and max_pair_num == 3:\n",
    "        print(\"FULL HOUSE!!\")\n",
    "    elif pair_num == 2 and max_pair_num == 4:\n",
    "        print(\"FOUR CARD!!\")\n",
    "    elif pair_num == 3 and max_pair_num == 3:\n",
    "        print(\"THREE CARD!!\")\n",
    "    elif pair_num == 3 and max_pair_num == 2:\n",
    "        print(\"TWO PAIR!!\")\n",
    "    elif pair_num == 4 and max_pair_num == 2:\n",
    "        print(\"ONE PAIR!!\")\n",
    "    else:\n",
    "        print(\"HIGH CARD\")\n",
    "    \n",
    "card = GetRandomStr(5, 1, 13)\n",
    "print(card)\n",
    "JudgePorkerRole(card)"
   ]
  },
  {
   "cell_type": "code",
   "execution_count": null,
   "metadata": {},
   "outputs": [],
   "source": []
  }
 ],
 "metadata": {
  "kernelspec": {
   "display_name": "Python 3",
   "language": "python",
   "name": "python3"
  },
  "language_info": {
   "codemirror_mode": {
    "name": "ipython",
    "version": 3
   },
   "file_extension": ".py",
   "mimetype": "text/x-python",
   "name": "python",
   "nbconvert_exporter": "python",
   "pygments_lexer": "ipython3",
   "version": "3.8.5"
  }
 },
 "nbformat": 4,
 "nbformat_minor": 4
}
