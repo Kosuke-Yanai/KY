{
 "cells": [
  {
   "cell_type": "markdown",
   "metadata": {},
   "source": [
    "## Q31 :集合内包表記を使って、range(10)の奇数の集合を作れ"
   ]
  },
  {
   "cell_type": "code",
   "execution_count": 3,
   "metadata": {},
   "outputs": [
    {
     "data": {
      "text/plain": [
       "{1, 3, 5, 7, 9}"
      ]
     },
     "execution_count": 3,
     "metadata": {},
     "output_type": "execute_result"
    }
   ],
   "source": [
    "set_odd = {i for i in range(10) if i % 2 != 0}\n",
    "set_odd"
   ]
  },
  {
   "cell_type": "markdown",
   "metadata": {},
   "source": [
    "## Q32 :rage(10)の数値に対しては、\"Got\"と数値を返すジェネレータ関数を作れ。"
   ]
  },
  {
   "cell_type": "markdown",
   "metadata": {},
   "source": [
    "```\n",
    "条件：・ ジェネレータ内包表記を使うこと\n",
    "　　　・ for文を使って反復処理すること\n",
    "出力例：Got 0, Got 1, Got 2 ・・・・・\n",
    "```"
   ]
  },
  {
   "cell_type": "code",
   "execution_count": 20,
   "metadata": {},
   "outputs": [
    {
     "name": "stdout",
     "output_type": "stream",
     "text": [
      "Got 0\n",
      "Got 1\n",
      "Got 2\n",
      "Got 3\n",
      "Got 4\n",
      "Got 5\n",
      "Got 6\n",
      "Got 7\n",
      "Got 8\n",
      "Got 9\n"
     ]
    }
   ],
   "source": [
    "def generator(num):\n",
    "    g = (i for i in range(num))\n",
    "    \n",
    "    for j in g:\n",
    "        print(\"Got\", j)\n",
    "\n",
    "generator(10)"
   ]
  },
  {
   "cell_type": "code",
   "execution_count": 19,
   "metadata": {},
   "outputs": [
    {
     "name": "stdout",
     "output_type": "stream",
     "text": [
      "Got 0\n",
      "Got 1\n",
      "Got 2\n",
      "Got 3\n",
      "Got 4\n",
      "Got 5\n",
      "Got 6\n",
      "Got 7\n",
      "Got 8\n",
      "Got 9\n"
     ]
    }
   ],
   "source": [
    "# 解答例はよりシンプル。\n",
    "def generator(num):\n",
    "    for thing in (\"Got %s\" % number for number in range(num)):\n",
    "        print(thing)\n",
    "\n",
    "generator(10)"
   ]
  },
  {
   "cell_type": "markdown",
   "metadata": {},
   "source": [
    "## Q33 :range(10)から奇数を返すジェネレータ関数を定義し、for文を使って、返された3番目の値を見つけて表示せよ。"
   ]
  },
  {
   "cell_type": "code",
   "execution_count": 25,
   "metadata": {},
   "outputs": [
    {
     "name": "stdout",
     "output_type": "stream",
     "text": [
      "Got 5\n"
     ]
    }
   ],
   "source": [
    "def generator(num):\n",
    "    count = 0\n",
    "    for thing in (\"Got %s\" % number for number in range(num) if number % 2 != 0):\n",
    "        count += 1\n",
    "        if count == 3:\n",
    "            print(thing)\n",
    "\n",
    "generator(10)"
   ]
  },
  {
   "cell_type": "code",
   "execution_count": 27,
   "metadata": {},
   "outputs": [
    {
     "name": "stdout",
     "output_type": "stream",
     "text": [
      "5\n"
     ]
    }
   ],
   "source": [
    "# enumerate()を使用して、「インデックス番号、要素」の順に取得できる\n",
    "def get_odds():\n",
    "    for number in range(1, 10, 2):\n",
    "        yield number\n",
    "\n",
    "for count, number in enumerate(get_odds(), 1):\n",
    "    if count == 3:\n",
    "        print(number)\n",
    "        break"
   ]
  },
  {
   "cell_type": "markdown",
   "metadata": {},
   "source": [
    "## Q34 :デコレータの定義"
   ]
  },
  {
   "cell_type": "markdown",
   "metadata": {},
   "source": [
    "```\n",
    "問題：関数が呼び出された時に\"start\"、終了した時に\"end\"を表示するtestというデコレータを定義せよ\n",
    "```"
   ]
  },
  {
   "cell_type": "code",
   "execution_count": 28,
   "metadata": {},
   "outputs": [
    {
     "name": "stdout",
     "output_type": "stream",
     "text": [
      "--start--\n",
      "Hello Decorator\n",
      "--end--\n"
     ]
    }
   ],
   "source": [
    "# 説明 https://qiita.com/mtb_beta/items/d257519b018b8cd0cc2e#fn1\n",
    "def deco(func):\n",
    "    def wrapper(*args, **kwargs):\n",
    "        print('--start--')\n",
    "        func(*args, **kwargs)\n",
    "        print('--end--')\n",
    "    return wrapper\n",
    "\n",
    "@deco\n",
    "def test():\n",
    "    print('Hello Decorator')\n",
    "\n",
    "test()"
   ]
  },
  {
   "cell_type": "markdown",
   "metadata": {},
   "source": [
    "## Q35 :例外のキャッチ"
   ]
  },
  {
   "cell_type": "markdown",
   "metadata": {},
   "source": [
    "```\n",
    "問題：以下のコードには例外が含まれる。例外に対するエラー処理を2つ追加せよ。　\n",
    "```"
   ]
  },
  {
   "cell_type": "code",
   "execution_count": 38,
   "metadata": {},
   "outputs": [
    {
     "name": "stdin",
     "output_type": "stream",
     "text": [
      "Position [q to quit]?  0\n"
     ]
    },
    {
     "name": "stdout",
     "output_type": "stream",
     "text": [
      "1\n"
     ]
    },
    {
     "name": "stdin",
     "output_type": "stream",
     "text": [
      "Position [q to quit]?  1\n"
     ]
    },
    {
     "name": "stdout",
     "output_type": "stream",
     "text": [
      "2\n"
     ]
    },
    {
     "name": "stdin",
     "output_type": "stream",
     "text": [
      "Position [q to quit]?  2\n"
     ]
    },
    {
     "name": "stdout",
     "output_type": "stream",
     "text": [
      "3\n"
     ]
    },
    {
     "name": "stdin",
     "output_type": "stream",
     "text": [
      "Position [q to quit]?  3\n"
     ]
    },
    {
     "name": "stdout",
     "output_type": "stream",
     "text": [
      "Input range is 0 to 2.\n"
     ]
    },
    {
     "name": "stdin",
     "output_type": "stream",
     "text": [
      "Position [q to quit]?  4\n"
     ]
    },
    {
     "name": "stdout",
     "output_type": "stream",
     "text": [
      "Input range is 0 to 2.\n"
     ]
    },
    {
     "name": "stdin",
     "output_type": "stream",
     "text": [
      "Position [q to quit]?  q\n"
     ]
    }
   ],
   "source": [
    "short_list = [1,2,3]\n",
    "while True:\n",
    "    value = input(\"Position [q to quit]? \")\n",
    "    if value == \"q\":\n",
    "        break\n",
    "    elif int(value) < 0 or 2 < int(value):\n",
    "        print(\"Input range is 0 to 2.\")\n",
    "    else:\n",
    "        position = int(value)\n",
    "        print(short_list[position])"
   ]
  },
  {
   "cell_type": "code",
   "execution_count": 41,
   "metadata": {},
   "outputs": [
    {
     "name": "stdin",
     "output_type": "stream",
     "text": [
      "Position [q to quit]?  5\n"
     ]
    },
    {
     "name": "stdout",
     "output_type": "stream",
     "text": [
      "Bad index: 5 list index out of range\n"
     ]
    },
    {
     "name": "stdin",
     "output_type": "stream",
     "text": [
      "Position [q to quit]?  q\n"
     ]
    }
   ],
   "source": [
    "#exceptによる例外処理\n",
    "short_list = [1,2,3]\n",
    "while True:\n",
    "    value = input(\"Position [q to quit]? \")\n",
    "    if value == \"q\":\n",
    "        break\n",
    "    try:\n",
    "        position = int(value)\n",
    "        print(short_list[position])\n",
    "    except IndexError as err:\n",
    "        print(\"Bad index:\", position)\n",
    "    except Exception as other:\n",
    "        print(\"something else broke:\", other)"
   ]
  },
  {
   "cell_type": "code",
   "execution_count": null,
   "metadata": {},
   "outputs": [],
   "source": []
  }
 ],
 "metadata": {
  "kernelspec": {
   "display_name": "Python 3",
   "language": "python",
   "name": "python3"
  },
  "language_info": {
   "codemirror_mode": {
    "name": "ipython",
    "version": 3
   },
   "file_extension": ".py",
   "mimetype": "text/x-python",
   "name": "python",
   "nbconvert_exporter": "python",
   "pygments_lexer": "ipython3",
   "version": "3.8.5"
  }
 },
 "nbformat": 4,
 "nbformat_minor": 4
}
