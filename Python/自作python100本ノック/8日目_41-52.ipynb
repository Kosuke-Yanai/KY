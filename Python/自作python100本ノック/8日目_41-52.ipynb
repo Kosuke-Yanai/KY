{
 "cells": [
  {
   "cell_type": "markdown",
   "metadata": {},
   "source": [
    "## Q41: Laser、Claw、SmartPhoneクラスを定義せよ。"
   ]
  },
  {
   "cell_type": "markdown",
   "metadata": {},
   "source": [
    "```\n",
    "条件：\n",
    "3つのクラスは唯一のメソッドとしてdoes（）を持っている。\n",
    "does（）は、\"disintegrate\" （Laser）、 \"crush\"（Claw) \"shoot\" （gun）を返す。\n",
    "次に、これらのインスタンス（オブジェクト）をひとつずつ持つRobotクラスを定義する。\n",
    "　　　\n",
    "```"
   ]
  },
  {
   "cell_type": "code",
   "execution_count": 3,
   "metadata": {},
   "outputs": [
    {
     "name": "stdout",
     "output_type": "stream",
     "text": [
      "disintegrate\n",
      "crush\n",
      "shoot\n"
     ]
    }
   ],
   "source": [
    "class Laser():\n",
    "    def does(self):\n",
    "        return \"disintegrate\"\n",
    "\n",
    "class Claw():\n",
    "    def does(self):\n",
    "        return \"crush\"\n",
    "\n",
    "class Gun():\n",
    "    def does(self):\n",
    "        return \"shoot\"\n",
    "    \n",
    "class Robot():\n",
    "    laser = Laser()\n",
    "    claw = Claw()\n",
    "    gun = Gun()\n",
    "    \n",
    "    print(laser.does())\n",
    "    print(claw.does())\n",
    "    print(gun.does())\n",
    "\n",
    "robot = Robot()"
   ]
  },
  {
   "cell_type": "markdown",
   "metadata": {},
   "source": [
    "## Q42: secretというUnicode文字列を作り、\"\\U0001f4a9\"という値を代入して、表示せよ"
   ]
  },
  {
   "cell_type": "code",
   "execution_count": 6,
   "metadata": {},
   "outputs": [
    {
     "data": {
      "text/plain": [
       "'💩'"
      ]
     },
     "execution_count": 6,
     "metadata": {},
     "output_type": "execute_result"
    }
   ],
   "source": [
    "secret = \"\\U0001f4a9\"\n",
    "secret"
   ]
  },
  {
   "cell_type": "code",
   "execution_count": 7,
   "metadata": {},
   "outputs": [
    {
     "name": "stdout",
     "output_type": "stream",
     "text": [
      "PILE OF POO\n"
     ]
    }
   ],
   "source": [
    "import unicodedata\n",
    "print(unicodedata.name(secret))"
   ]
  },
  {
   "cell_type": "markdown",
   "metadata": {},
   "source": []
  },
  {
   "cell_type": "markdown",
   "metadata": {},
   "source": [
    "## Q43: UTF-8を使い（）、secretをpop_bytesというbytes変数にエンコードせよ。"
   ]
  },
  {
   "cell_type": "code",
   "execution_count": 10,
   "metadata": {},
   "outputs": [
    {
     "data": {
      "text/plain": [
       "b'\\xf0\\x9f\\x92\\xa9'"
      ]
     },
     "execution_count": 10,
     "metadata": {},
     "output_type": "execute_result"
    }
   ],
   "source": [
    "secret = \"\\U0001f4a9\"\n",
    "pop_bytes = secret.encode(encoding=\"utf-8\")\n",
    "pop_bytes"
   ]
  },
  {
   "cell_type": "markdown",
   "metadata": {},
   "source": [
    "## Q44: UTF-8を使って、pop_bytesをデコードし、pop_stringを表示せよ。"
   ]
  },
  {
   "cell_type": "code",
   "execution_count": 12,
   "metadata": {},
   "outputs": [
    {
     "data": {
      "text/plain": [
       "'💩'"
      ]
     },
     "execution_count": 12,
     "metadata": {},
     "output_type": "execute_result"
    }
   ],
   "source": [
    "secret = \"\\U0001f4a9\"\n",
    "pop_bytes = secret.encode(encoding=\"utf-8\")\n",
    "pop_string = pop_bytes.decode('utf-8')\n",
    "pop_string"
   ]
  },
  {
   "cell_type": "markdown",
   "metadata": {},
   "source": [
    "# 正規表現の基本"
   ]
  },
  {
   "cell_type": "markdown",
   "metadata": {},
   "source": [
    "```\n",
    "次の文について各問に答えよ\n",
    "sentence = \"Chicken Little\"\n",
    "```"
   ]
  },
  {
   "cell_type": "markdown",
   "metadata": {},
   "source": [
    "## Q45: ソースの先頭が、指定したパターンと一致しているか"
   ]
  },
  {
   "cell_type": "code",
   "execution_count": 13,
   "metadata": {},
   "outputs": [
    {
     "name": "stdout",
     "output_type": "stream",
     "text": [
      "True\n"
     ]
    }
   ],
   "source": [
    "sentence = \"Chicken Little\"\n",
    "print(sentence.startswith('Chi'))"
   ]
  },
  {
   "cell_type": "code",
   "execution_count": 23,
   "metadata": {},
   "outputs": [
    {
     "name": "stdout",
     "output_type": "stream",
     "text": [
      "Chi\n"
     ]
    }
   ],
   "source": [
    "# 正規表現を使うとこんな感じ\n",
    "import re\n",
    "sentence = \"Chicken Little\"\n",
    "\n",
    "#ソースの先頭が、指定したパターンと一致しているか\n",
    "print(re.match(\"Chi\", sentence).group())"
   ]
  },
  {
   "cell_type": "markdown",
   "metadata": {},
   "source": [
    "## Q46: ソース内に、指定したパターンと一致しているか"
   ]
  },
  {
   "cell_type": "code",
   "execution_count": 16,
   "metadata": {},
   "outputs": [
    {
     "name": "stdout",
     "output_type": "stream",
     "text": [
      "True\n"
     ]
    }
   ],
   "source": [
    "sentence = \"Chicken Little\"\n",
    "print('itt' in sentence)"
   ]
  },
  {
   "cell_type": "code",
   "execution_count": 21,
   "metadata": {},
   "outputs": [
    {
     "name": "stdout",
     "output_type": "stream",
     "text": [
      "itt\n"
     ]
    }
   ],
   "source": [
    "# 正規表現を使うパターン\n",
    "import re\n",
    "sentence = \"Chicken Little\"\n",
    "\n",
    "print(re.search(\"itt\", sentence).group())"
   ]
  },
  {
   "cell_type": "markdown",
   "metadata": {},
   "source": [
    "## Q47: 文字列の中に\"n\"を含む文字列が何個あるか"
   ]
  },
  {
   "cell_type": "code",
   "execution_count": 29,
   "metadata": {},
   "outputs": [
    {
     "name": "stdout",
     "output_type": "stream",
     "text": [
      "['i', 'i']\n",
      "2\n"
     ]
    }
   ],
   "source": [
    "import re\n",
    "sentence = \"Chicken Little\"\n",
    "\n",
    "result = re.findall('i', sentence)\n",
    "print(result)\n",
    "print(len(result))"
   ]
  },
  {
   "cell_type": "markdown",
   "metadata": {},
   "source": [
    "## Q48: \"n\"を”s”に置きかえよ"
   ]
  },
  {
   "cell_type": "code",
   "execution_count": 30,
   "metadata": {},
   "outputs": [
    {
     "name": "stdout",
     "output_type": "stream",
     "text": [
      "('Chickes Little', 1)\n"
     ]
    }
   ],
   "source": [
    "import re\n",
    "sentence = \"Chicken Little\"\n",
    "\n",
    "replacement = re.subn('n', 's', sentence)\n",
    "print(replacement)"
   ]
  },
  {
   "cell_type": "markdown",
   "metadata": {},
   "source": [
    "# 正規表現の活用"
   ]
  },
  {
   "cell_type": "code",
   "execution_count": 46,
   "metadata": {},
   "outputs": [],
   "source": [
    "# 以下の詩を元に各問に答えよ\n",
    "poetry = \"We have seen thee, queen of cheese, \\\n",
    "Lying quietly at your ease, \\\n",
    "Gently fanned by evening breeze, \\\n",
    "Thy fair form no flies dare seize. \\\n",
    "All gaily dressed soon you'll go \\\n",
    "To the great Provincial show, \\\n",
    "To be admired by many a beau \\\n",
    "In the city of Toronto. \\\n",
    "Cows numerous as a swarm of bees, \\\n",
    "Or as the leaves upon the trees, \\\n",
    "It did require to make thee please, \\\n",
    "And stand unrivalled, queen of cheese. \\\n",
    "May you not receive a scar as \\\n",
    "We have heard that Mr. Harris \\\n",
    "Intends to send you off as far as \\\n",
    "The great world's show at Paris. \\\n",
    "Of the youth beware of these, \\\n",
    "For some of them might rudely squeeze \\\n",
    "And bite your cheek, then songs or glees \\\n",
    "We could not sing, oh! queen of cheese. \\\n",
    "We'rt thou suspended from balloon, \\\n",
    "You'd cast a shade even at noon, \\\n",
    "Folks would think it was the moon \\\n",
    "About to fall and crush them soon.\""
   ]
  },
  {
   "cell_type": "code",
   "execution_count": 47,
   "metadata": {},
   "outputs": [
    {
     "data": {
      "text/plain": [
       "\"We have seen thee, queen of cheese, Lying quietly at your ease, Gently fanned by evening breeze, Thy fair form no flies dare seize. All gaily dressed soon you'll go To the great Provincial show, To be admired by many a beau In the city of Toronto. Cows numerous as a swarm of bees, Or as the leaves upon the trees, It did require to make thee please, And stand unrivalled, queen of cheese. May you not receive a scar as We have heard that Mr. Harris Intends to send you off as far as The great world's show at Paris. Of the youth beware of these, For some of them might rudely squeeze And bite your cheek, then songs or glees We could not sing, oh! queen of cheese. We'rt thou suspended from balloon, You'd cast a shade even at noon, Folks would think it was the moon About to fall and crush them soon.\""
      ]
     },
     "execution_count": 47,
     "metadata": {},
     "output_type": "execute_result"
    }
   ],
   "source": [
    "poetry"
   ]
  },
  {
   "cell_type": "markdown",
   "metadata": {},
   "source": [
    "## Q49:cから始まる全ての単語を表示"
   ]
  },
  {
   "cell_type": "code",
   "execution_count": 65,
   "metadata": {},
   "outputs": [
    {
     "name": "stdout",
     "output_type": "stream",
     "text": [
      "['cheese', 'city', 'cheese', 'cheek', 'could', 'cheese', 'cast', 'crush']\n"
     ]
    }
   ],
   "source": [
    "import re\n",
    "search = re.findall(r'\\bc\\w+', poetry)\n",
    "print(search)"
   ]
  },
  {
   "cell_type": "markdown",
   "metadata": {},
   "source": [
    "## Q50: cで始まる全ての4文字単語を表示"
   ]
  },
  {
   "cell_type": "code",
   "execution_count": 70,
   "metadata": {},
   "outputs": [
    {
     "name": "stdout",
     "output_type": "stream",
     "text": [
      "['city', 'cast']\n"
     ]
    }
   ],
   "source": [
    "import re\n",
    "search = re.findall(r'\\bc\\w{3}\\b', poetry)\n",
    "print(search)"
   ]
  },
  {
   "cell_type": "markdown",
   "metadata": {},
   "source": [
    "## Q51: rで終わる全ての単語を見つけよう。"
   ]
  },
  {
   "cell_type": "code",
   "execution_count": 72,
   "metadata": {},
   "outputs": [
    {
     "name": "stdout",
     "output_type": "stream",
     "text": [
      "['your', 'fair', 'Or', 'scar', 'Mr', 'far', 'For', 'your', 'or']\n"
     ]
    }
   ],
   "source": [
    "import re\n",
    "search = re.findall(r'\\w+r\\b', poetry)\n",
    "print(search)"
   ]
  },
  {
   "cell_type": "markdown",
   "metadata": {},
   "source": [
    "## Q52: 3個の連続した母音を含む全ての単語を見つけよう"
   ]
  },
  {
   "cell_type": "code",
   "execution_count": 79,
   "metadata": {},
   "outputs": [
    {
     "name": "stdout",
     "output_type": "stream",
     "text": [
      "['queen', 'quietly', 'beau', 'queen', 'squeeze', 'queen']\n"
     ]
    }
   ],
   "source": [
    "import re\n",
    "search = re.findall(r'\\w*[aeiou]{3}\\w*\\b', poetry)\n",
    "print(search)"
   ]
  },
  {
   "cell_type": "code",
   "execution_count": null,
   "metadata": {},
   "outputs": [],
   "source": []
  }
 ],
 "metadata": {
  "kernelspec": {
   "display_name": "Python 3",
   "language": "python",
   "name": "python3"
  },
  "language_info": {
   "codemirror_mode": {
    "name": "ipython",
    "version": 3
   },
   "file_extension": ".py",
   "mimetype": "text/x-python",
   "name": "python",
   "nbconvert_exporter": "python",
   "pygments_lexer": "ipython3",
   "version": "3.8.5"
  }
 },
 "nbformat": 4,
 "nbformat_minor": 4
}
