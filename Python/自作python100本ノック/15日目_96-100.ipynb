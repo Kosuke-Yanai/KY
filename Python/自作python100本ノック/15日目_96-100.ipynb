{
 "cells": [
  {
   "cell_type": "markdown",
   "metadata": {},
   "source": [
    "## Q96:完全数"
   ]
  },
  {
   "cell_type": "markdown",
   "metadata": {},
   "source": [
    "```\n",
    "問題：\n",
    "高橋君は完全なものが大好きです。\n",
    "\n",
    "自然数には、完全数というものがあります。 完全数というのは、自分以外の約数の総和が自分と等しくなる自然数のことです。 例えば 6 の場合 1+2+3=6となるので完全数です。 それに対して、自分以外の約数の総和が自分より小さくなる場合は不足数と言い、大きくなる場合は過剰数と言います。\n",
    "\n",
    "高橋君には今気になっている自然数があります。高橋君のために、それが完全数なのか不足数なのか過剰数なのか判定してください。\n",
    "```"
   ]
  },
  {
   "cell_type": "code",
   "execution_count": 9,
   "metadata": {},
   "outputs": [
    {
     "name": "stdout",
     "output_type": "stream",
     "text": [
      "過剰数です\n"
     ]
    }
   ],
   "source": [
    "def PerfectNumChecker(num):\n",
    "    count = 0\n",
    "    for i in range(1, num):\n",
    "        count += i if num % i == 0 else 0\n",
    "    if count == num:\n",
    "        print('完全数です')\n",
    "    elif count > num:\n",
    "        print('過剰数です')\n",
    "    else:\n",
    "        print('不足数です')\n",
    "\n",
    "PerfectNumChecker(12)"
   ]
  },
  {
   "cell_type": "markdown",
   "metadata": {},
   "source": [
    "## Q97:　ハミング距離"
   ]
  },
  {
   "cell_type": "markdown",
   "metadata": {},
   "source": [
    "```\n",
    "問題：\n",
    "２つの整数が与えられます。\n",
    "これらを２進法に直した時の「ハミング距離」を測りなさい。\n",
    "```"
   ]
  },
  {
   "cell_type": "code",
   "execution_count": 41,
   "metadata": {},
   "outputs": [
    {
     "data": {
      "text/plain": [
       "3"
      ]
     },
     "execution_count": 41,
     "metadata": {},
     "output_type": "execute_result"
    }
   ],
   "source": [
    "def HammingDistanceCounter(num1, num2):\n",
    "    count = 0\n",
    "    for i in bin(num1 ^ num2)[2:]:\n",
    "        if i == '1':\n",
    "            count += 1\n",
    "    return count\n",
    "\n",
    "num1 = 17\n",
    "num2 = 117\n",
    "HammingDistanceCounter(num1, num2)"
   ]
  },
  {
   "cell_type": "code",
   "execution_count": 44,
   "metadata": {},
   "outputs": [
    {
     "data": {
      "text/plain": [
       "3"
      ]
     },
     "execution_count": 44,
     "metadata": {},
     "output_type": "execute_result"
    }
   ],
   "source": [
    "# 回答例。count関数を使うとすぐできる。\n",
    "def hamming_distance(n, m):\n",
    "    return format(n ^ m, 'b').count('1')\n",
    "\n",
    "hamming_distance(17, 117)"
   ]
  },
  {
   "cell_type": "markdown",
   "metadata": {},
   "source": [
    "## Q98:Numbers Factory"
   ]
  },
  {
   "cell_type": "markdown",
   "metadata": {},
   "source": [
    "```\n",
    "問題：\n",
    "2桁の整数が与えられる。 その整数の約数を出力しなさい。\n",
    "条件： 約数は全て１桁であること。\n",
    "　　　答えが複数存在する場合は、約数の個数が１番少なくなる方を出力すること。\n",
    "   \n",
    "   Let's examine the example. N = 20. We can factorize this number as 2*10, but 10 is not a digit. Also we can factorize it as 4*5 or 2*2*5. The smallest number for 2*2*5 is 225, for 4*5 -- 45. So we select 45.\n",
    "```"
   ]
  },
  {
   "cell_type": "code",
   "execution_count": 37,
   "metadata": {},
   "outputs": [
    {
     "data": {
      "text/plain": [
       "258"
      ]
     },
     "execution_count": 37,
     "metadata": {},
     "output_type": "execute_result"
    }
   ],
   "source": [
    "def NumbersFactory(num):\n",
    "    tmp = []\n",
    "    for i in range(9,1,-1):\n",
    "        while not num % i:\n",
    "            num /= i\n",
    "            tmp.append(i)\n",
    "            if num == 1:\n",
    "                return int(''.join(map(str, sorted(tmp))))\n",
    "num = 80\n",
    "NumbersFactory(num)"
   ]
  },
  {
   "cell_type": "markdown",
   "metadata": {},
   "source": [
    "## Q99:Number Base"
   ]
  },
  {
   "cell_type": "markdown",
   "metadata": {},
   "source": [
    "```\n",
    "問題：\n",
    "ある進数（radix）で記された数字(str_number)が与えられます。\n",
    "この数字を10進法に直して表示しなさい。\n",
    "\n",
    "条件\n",
    "そもそも与えられた数字が、与えられた進法で表すことができないもの出会った場合は\"-1\"と表示\n",
    "\n",
    "例：\n",
    "convert_10(\"AF\", 16) == 175\n",
    "convert_10(\"101\", 2) == 5\n",
    "convert_10(\"Z\", 36) == 35\n",
    "convert_10(\"AB\", 10) == -1\n",
    "```"
   ]
  },
  {
   "cell_type": "code",
   "execution_count": 51,
   "metadata": {},
   "outputs": [
    {
     "name": "stdout",
     "output_type": "stream",
     "text": [
      "175\n",
      "5\n",
      "35\n",
      "-1\n"
     ]
    }
   ],
   "source": [
    "def ConvertNum(num, base):\n",
    "    try:\n",
    "        return int(num, base)\n",
    "    except ValueError:\n",
    "        return -1\n",
    "\n",
    "print(ConvertNum(\"AF\", 16))\n",
    "print(ConvertNum('101', 2))\n",
    "print(ConvertNum('Z', 36))\n",
    "print(ConvertNum('AB', 10))"
   ]
  },
  {
   "cell_type": "markdown",
   "metadata": {},
   "source": [
    "## Q100:Double Substring"
   ]
  },
  {
   "cell_type": "markdown",
   "metadata": {},
   "source": [
    "```\n",
    "問題：\n",
    "あるテキストが与えられます。\n",
    "そのテキストの内、ある文字列が２回登場した場合、その文字列の文字数を表示してください。\n",
    "\n",
    "例：\n",
    "double_substring('aaaa') ==> 2\n",
    "double_substring('abc') ==> 0\n",
    "double_substring('aghtfghkofgh') ==> 3 # fgh\n",
    "```"
   ]
  },
  {
   "cell_type": "code",
   "execution_count": 102,
   "metadata": {},
   "outputs": [
    {
     "data": {
      "text/plain": [
       "(3, 'fgh')"
      ]
     },
     "execution_count": 102,
     "metadata": {},
     "output_type": "execute_result"
    }
   ],
   "source": [
    "def DoubleSubstring(text):\n",
    "    count = 0\n",
    "    answer = []\n",
    "    for i in range(len(text)-1):\n",
    "        for j in range(i+1, len(text)+1):\n",
    "            if text.count(text[i:j]) == 2 and count < j - i:\n",
    "                count  = j - i\n",
    "                answer = text[i:j]\n",
    "    return count, answer\n",
    "\n",
    "DoubleSubstring('aghtfghkofgh')"
   ]
  },
  {
   "cell_type": "code",
   "execution_count": null,
   "metadata": {},
   "outputs": [],
   "source": []
  }
 ],
 "metadata": {
  "kernelspec": {
   "display_name": "Python 3",
   "language": "python",
   "name": "python3"
  },
  "language_info": {
   "codemirror_mode": {
    "name": "ipython",
    "version": 3
   },
   "file_extension": ".py",
   "mimetype": "text/x-python",
   "name": "python",
   "nbconvert_exporter": "python",
   "pygments_lexer": "ipython3",
   "version": "3.8.5"
  }
 },
 "nbformat": 4,
 "nbformat_minor": 4
}
