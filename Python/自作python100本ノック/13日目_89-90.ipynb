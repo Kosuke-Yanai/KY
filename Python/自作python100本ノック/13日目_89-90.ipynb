{
 "cells": [
  {
   "cell_type": "markdown",
   "metadata": {},
   "source": [
    "## Q89: 全て偶数だったらひたすら割るやつ"
   ]
  },
  {
   "cell_type": "markdown",
   "metadata": {},
   "source": [
    "```\n",
    "問題：\n",
    "渡辺君は，黒板に書かれている整数がすべて偶数であるとき，次の操作を行います。\n",
    "黒板に書かれている整数すべてを，2で割ったものに置き換える。\n",
    "渡辺君は最大で何回操作を行うことができるかを求めてください。\n",
    "\n",
    "条件：\n",
    "数字はリスト型で与えられる。\n",
    "\n",
    "例：\n",
    "　count_odd([16,12,24) ==> 2\n",
    "1 回操作を行うと (8, 6, 12) になります。\n",
    "2 回操作を行うと (4, 3, 6) になります。\n",
    "2 個目の 3 が奇数なため 3 回目の操作は行えません。\n",
    "```"
   ]
  },
  {
   "cell_type": "code",
   "execution_count": 22,
   "metadata": {},
   "outputs": [
    {
     "data": {
      "text/plain": [
       "([2, 2, 3], 2)"
      ]
     },
     "execution_count": 22,
     "metadata": {},
     "output_type": "execute_result"
    }
   ],
   "source": [
    "def calc_multiple(num):\n",
    "    return int(num / 2)\n",
    "    \n",
    "def DivisionCounter(numbers):\n",
    "    count = 0\n",
    "    while sum(numbers) % 2 == 0:\n",
    "        numbers = list(map(calc_multiple, numbers))\n",
    "        count += 1\n",
    "    return numbers, count\n",
    "\n",
    "numbers = [8, 8, 12]\n",
    "DivisionCounter(numbers)"
   ]
  },
  {
   "cell_type": "markdown",
   "metadata": {},
   "source": [
    "## Q90: 大きい数字からとるゲーム"
   ]
  },
  {
   "cell_type": "markdown",
   "metadata": {},
   "source": [
    "```\n",
    "問題：\n",
    "N 枚のカードがあり、0 〜 N までの整数が被らないように書かれています。\n",
    "Alice と Bob はこれらのカードを使ってゲームを行います。\n",
    "ゲームでは 2 人が交互に 1 枚ずつカードを取っていきます。\n",
    "Alice が先にカードを取ります。\n",
    "2 人がすべてのカードを取ったときゲームは終了し、\n",
    "取ったカードの数の合計がその人の得点になります。\n",
    "2 人とも自分の得点を最大化するように最適戦略をとったとき、\n",
    "Alice は Bob より何点多くの得点を獲得できるかを求めてください。\n",
    "```"
   ]
  },
  {
   "cell_type": "code",
   "execution_count": 78,
   "metadata": {},
   "outputs": [
    {
     "name": "stdout",
     "output_type": "stream",
     "text": [
      "[0, 1, 6, 3, 7, 3, 4, 7, 4, 10, 6]\n"
     ]
    },
    {
     "data": {
      "text/plain": [
       "({'Alice': 30, 'Bob': 21}, 9)"
      ]
     },
     "execution_count": 78,
     "metadata": {},
     "output_type": "execute_result"
    }
   ],
   "source": [
    "import random\n",
    "\n",
    "def SelectNum(cards):\n",
    "    total = {'Alice':0, 'Bob':0}\n",
    "    while len(cards) > 1:\n",
    "        total['Alice'] += cards.pop(cards.index(max(cards)))\n",
    "        total['Bob'] += cards.pop(cards.index(max(cards)))\n",
    "    if len(cards):\n",
    "        total['Alice'] += cards[0]\n",
    "    return total, total['Alice'] - total['Bob']\n",
    "\n",
    "cards = [random.randint(0, 10) for i in range(11)]\n",
    "print(cards)\n",
    "SelectNum(cards)"
   ]
  },
  {
   "cell_type": "code",
   "execution_count": null,
   "metadata": {},
   "outputs": [],
   "source": []
  }
 ],
 "metadata": {
  "kernelspec": {
   "display_name": "Python 3",
   "language": "python",
   "name": "python3"
  },
  "language_info": {
   "codemirror_mode": {
    "name": "ipython",
    "version": 3
   },
   "file_extension": ".py",
   "mimetype": "text/x-python",
   "name": "python",
   "nbconvert_exporter": "python",
   "pygments_lexer": "ipython3",
   "version": "3.7.3"
  }
 },
 "nbformat": 4,
 "nbformat_minor": 4
}
