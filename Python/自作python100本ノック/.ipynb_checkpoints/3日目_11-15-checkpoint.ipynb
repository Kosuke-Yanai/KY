{
 "cells": [
  {
   "cell_type": "markdown",
   "metadata": {},
   "source": [
    "## Q11: テキストファイル内の文字をアルファベット順に表示せよ。"
   ]
  },
  {
   "cell_type": "code",
   "execution_count": 42,
   "metadata": {},
   "outputs": [
    {
     "name": "stdout",
     "output_type": "stream",
     "text": [
      "['A', 'A', 'A', 'A', 'B', 'B', 'B', 'C', 'D', 'D', 'D', 'E', 'G', 'Z']\n"
     ]
    }
   ],
   "source": [
    "f = open('alphabet.txt', 'r').read().split()\n",
    "f.sort()\n",
    "print(f)"
   ]
  },
  {
   "cell_type": "markdown",
   "metadata": {},
   "source": [
    "## Q12: テキストファイル内で指定した文字がいくつ含まれているか数える"
   ]
  },
  {
   "cell_type": "markdown",
   "metadata": {},
   "source": [
    "```\n",
    "問題：テキストファイルの中に、調べたい文字がいくつ含まれているか自動で数えさせるプログラムを書きなさい。\n",
    "```"
   ]
  },
  {
   "cell_type": "code",
   "execution_count": 47,
   "metadata": {},
   "outputs": [
    {
     "data": {
      "text/plain": [
       "3"
      ]
     },
     "execution_count": 47,
     "metadata": {},
     "output_type": "execute_result"
    }
   ],
   "source": [
    "def str_count(file_name, target_word):\n",
    "    return file_name.count(target_word)\n",
    "    \n",
    "f = open('alphabet.txt', 'r').read()\n",
    "str_count(f, 'B')"
   ]
  },
  {
   "cell_type": "code",
   "execution_count": 48,
   "metadata": {},
   "outputs": [
    {
     "name": "stdout",
     "output_type": "stream",
     "text": [
      "4\n"
     ]
    }
   ],
   "source": [
    "# 1行で…\n",
    "print(open('alphabet.txt').read().count('A'))"
   ]
  },
  {
   "cell_type": "markdown",
   "metadata": {},
   "source": [
    "## Q13: 摂氏と華氏を自動変換"
   ]
  },
  {
   "cell_type": "markdown",
   "metadata": {},
   "source": [
    "```\n",
    "問題：摂氏（℃）を入力すると華氏（°F）に変換し表示し、\n",
    "　　　華氏を入力すると摂氏に変換表示してくれる関数を作成せよ。\n",
    "条件：摂氏の場合は\"26C\"のように入力し、華氏の場合は\"67F\"のように入力する。\n",
    "```"
   ]
  },
  {
   "cell_type": "code",
   "execution_count": 62,
   "metadata": {},
   "outputs": [
    {
     "name": "stdout",
     "output_type": "stream",
     "text": [
      "-15.0 C\n"
     ]
    }
   ],
   "source": [
    "# 計算式\n",
    "# (5°C×9÷5) + 32 ＝ 41°F\n",
    "# (5°F - 32) × 5 ÷ 9 = -15°C\n",
    "def temp_conv(temp):\n",
    "    if temp[-1:] == 'C':\n",
    "        print((int(temp[:-1])*9/5)+32, 'F')\n",
    "    else:\n",
    "        print((int(temp[:-1])-32)*5/9, 'C') \n",
    "\n",
    "temp_conv('5F')"
   ]
  }
 ],
 "metadata": {
  "kernelspec": {
   "display_name": "Python 3",
   "language": "python",
   "name": "python3"
  },
  "language_info": {
   "codemirror_mode": {
    "name": "ipython",
    "version": 3
   },
   "file_extension": ".py",
   "mimetype": "text/x-python",
   "name": "python",
   "nbconvert_exporter": "python",
   "pygments_lexer": "ipython3",
   "version": "3.8.5"
  }
 },
 "nbformat": 4,
 "nbformat_minor": 4
}
