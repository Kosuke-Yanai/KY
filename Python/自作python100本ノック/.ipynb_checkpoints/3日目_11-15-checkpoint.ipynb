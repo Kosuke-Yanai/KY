{
 "cells": [
  {
   "cell_type": "markdown",
   "metadata": {},
   "source": [
    "## Q11: テキストファイル内の文字をアルファベット順に表示せよ。"
   ]
  },
  {
   "cell_type": "code",
   "execution_count": 42,
   "metadata": {},
   "outputs": [
    {
     "name": "stdout",
     "output_type": "stream",
     "text": [
      "['A', 'A', 'A', 'A', 'B', 'B', 'B', 'C', 'D', 'D', 'D', 'E', 'G', 'Z']\n"
     ]
    }
   ],
   "source": [
    "f = open('alphabet.txt', 'r').read().split()\n",
    "f.sort()\n",
    "print(f)"
   ]
  },
  {
   "cell_type": "markdown",
   "metadata": {},
   "source": [
    "## Q12: テキストファイル内で指定した文字がいくつ含まれているか数える"
   ]
  },
  {
   "cell_type": "markdown",
   "metadata": {},
   "source": [
    "```\n",
    "問題：テキストファイルの中に、調べたい文字がいくつ含まれているか自動で数えさせるプログラムを書きなさい。\n",
    "```"
   ]
  },
  {
   "cell_type": "code",
   "execution_count": 47,
   "metadata": {},
   "outputs": [
    {
     "data": {
      "text/plain": [
       "3"
      ]
     },
     "execution_count": 47,
     "metadata": {},
     "output_type": "execute_result"
    }
   ],
   "source": [
    "def str_count(file_name, target_word):\n",
    "    return file_name.count(target_word)\n",
    "    \n",
    "f = open('alphabet.txt', 'r').read()\n",
    "str_count(f, 'B')"
   ]
  },
  {
   "cell_type": "code",
   "execution_count": 48,
   "metadata": {},
   "outputs": [
    {
     "name": "stdout",
     "output_type": "stream",
     "text": [
      "4\n"
     ]
    }
   ],
   "source": [
    "# 1行で…\n",
    "print(open('alphabet.txt').read().count('A'))"
   ]
  },
  {
   "cell_type": "markdown",
   "metadata": {},
   "source": [
    "## Q13: 摂氏と華氏を自動変換"
   ]
  },
  {
   "cell_type": "markdown",
   "metadata": {},
   "source": [
    "```\n",
    "問題：摂氏（℃）を入力すると華氏（°F）に変換し表示し、\n",
    "　　　華氏を入力すると摂氏に変換表示してくれる関数を作成せよ。\n",
    "条件：摂氏の場合は\"26C\"のように入力し、華氏の場合は\"67F\"のように入力する。\n",
    "```"
   ]
  },
  {
   "cell_type": "code",
   "execution_count": 62,
   "metadata": {},
   "outputs": [
    {
     "name": "stdout",
     "output_type": "stream",
     "text": [
      "-15.0 C\n"
     ]
    }
   ],
   "source": [
    "# 計算式\n",
    "# (5°C×9÷5) + 32 ＝ 41°F\n",
    "# (5°F - 32) × 5 ÷ 9 = -15°C\n",
    "def temp_conv(temp):\n",
    "    if temp[-1:] == 'C':\n",
    "        print((int(temp[:-1])*9/5)+32, 'F')\n",
    "    else:\n",
    "        print((int(temp[:-1])-32)*5/9, 'C') \n",
    "\n",
    "temp_conv('5F')"
   ]
  },
  {
   "cell_type": "markdown",
   "metadata": {},
   "source": [
    "## Q14入れ子のリストを平らにする"
   ]
  },
  {
   "cell_type": "markdown",
   "metadata": {},
   "source": [
    "```\n",
    "問題：[[1,2],3,4,5,[6,[7,[8,9]]]]のように入れ子になっているリストを、\n",
    "　　　[1, 2, 3, 4, 5, 6, 7, 8, 9]のように平らに入れ直したい。\n",
    "```"
   ]
  },
  {
   "cell_type": "code",
   "execution_count": 27,
   "metadata": {},
   "outputs": [
    {
     "name": "stdout",
     "output_type": "stream",
     "text": [
      "el: [1, 2]\n",
      "externd route\n",
      "el: 1\n",
      "append: [1]\n",
      "el: 2\n",
      "append: [1, 2]\n",
      "extend: [1, 2]\n",
      "el: 3\n",
      "append: [1, 2, 3]\n",
      "el: 4\n",
      "append: [1, 2, 3, 4]\n",
      "el: 5\n",
      "append: [1, 2, 3, 4, 5]\n",
      "el: [6, [7, [8, 9]]]\n",
      "externd route\n",
      "el: 6\n",
      "append: [6]\n",
      "el: [7, [8, 9]]\n",
      "externd route\n",
      "el: 7\n",
      "append: [7]\n",
      "el: [8, 9]\n",
      "externd route\n",
      "el: 8\n",
      "append: [8]\n",
      "el: 9\n",
      "append: [8, 9]\n",
      "extend: [7, 8, 9]\n",
      "extend: [6, 7, 8, 9]\n",
      "extend: [1, 2, 3, 4, 5, 6, 7, 8, 9]\n"
     ]
    },
    {
     "data": {
      "text/plain": [
       "[1, 2, 3, 4, 5, 6, 7, 8, 9]"
      ]
     },
     "execution_count": 27,
     "metadata": {},
     "output_type": "execute_result"
    }
   ],
   "source": [
    "def flatten(l):\n",
    "    r = []\n",
    "    for el in l:\n",
    "        print(\"el:\", el)\n",
    "        if type(el) is list:\n",
    "            print(\"externd route\")\n",
    "            r.extend(flatten(el))\n",
    "            print(\"extend:\", r)\n",
    "        else:\n",
    "            r.append(el)\n",
    "            print(\"append:\", r)\n",
    "    return r\n",
    "\n",
    "test_data = [[1,2],3,4,5,[6,[7,[8,9]]]]\n",
    "flatten(test_data)"
   ]
  },
  {
   "cell_type": "markdown",
   "metadata": {},
   "source": [
    "## Q15: 対話型残業代自動算出システム"
   ]
  },
  {
   "cell_type": "markdown",
   "metadata": {},
   "source": [
    "```\n",
    "問題：「現在の時刻」「定時」「1時間あたりの残業代」を対話式に入力すると、\n",
    "　　　　残業代が自動で表示されるシステムを作れ。\n",
    "条件：時刻の入力は”17:00”のように入力される。\n",
    "```"
   ]
  },
  {
   "cell_type": "code",
   "execution_count": 49,
   "metadata": {},
   "outputs": [
    {
     "name": "stdin",
     "output_type": "stream",
     "text": [
      "現在時刻を入力して下さい： 23:13\n",
      "定時時刻を入力して下さい； 17:30\n",
      "1H当たりの残業代を入力して下さい： 1000\n"
     ]
    },
    {
     "name": "stdout",
     "output_type": "stream",
     "text": [
      "あなたの残業代は5717円です。\n"
     ]
    }
   ],
   "source": [
    "def over_time_pay():\n",
    "    now_time = input(\"現在時刻を入力して下さい：\")\n",
    "    on_time = input(\"定時時刻を入力して下さい；\")\n",
    "    pay = input(\"1H当たりの残業代を入力して下さい：\")\n",
    "    \n",
    "    now_hour = float(now_time[0:2])\n",
    "    now_minit = float(now_time[3:5])\n",
    "    \n",
    "    on_hour = float(on_time[0:2])\n",
    "    on_minit = float(on_time[3:5])\n",
    "    \n",
    "    pay_hour = now_hour - on_hour\n",
    "    pay_minit = now_minit - on_minit\n",
    "    \n",
    "    payment = (pay_hour + (pay_minit / 60)) * float(pay)\n",
    "    \n",
    "    return payment\n",
    "\n",
    "print(\"あなたの残業代は{:.0f}円です。\".format(over_time_pay()))"
   ]
  },
  {
   "cell_type": "code",
   "execution_count": null,
   "metadata": {},
   "outputs": [],
   "source": []
  }
 ],
 "metadata": {
  "kernelspec": {
   "display_name": "Python 3",
   "language": "python",
   "name": "python3"
  },
  "language_info": {
   "codemirror_mode": {
    "name": "ipython",
    "version": 3
   },
   "file_extension": ".py",
   "mimetype": "text/x-python",
   "name": "python",
   "nbconvert_exporter": "python",
   "pygments_lexer": "ipython3",
   "version": "3.8.5"
  }
 },
 "nbformat": 4,
 "nbformat_minor": 4
}
