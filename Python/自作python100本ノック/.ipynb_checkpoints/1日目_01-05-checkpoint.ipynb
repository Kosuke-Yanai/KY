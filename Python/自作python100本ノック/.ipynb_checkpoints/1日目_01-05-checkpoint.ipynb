{
 "cells": [
  {
   "cell_type": "markdown",
   "metadata": {},
   "source": [
    "## Q1: 1から50までの和を計算して表示"
   ]
  },
  {
   "cell_type": "code",
   "execution_count": 5,
   "metadata": {},
   "outputs": [
    {
     "name": "stdout",
     "output_type": "stream",
     "text": [
      "1275\n"
     ]
    }
   ],
   "source": [
    "i = 0\n",
    "sum = 0\n",
    "while i < 50:\n",
    "    i += 1\n",
    "    sum += i\n",
    "print(sum)"
   ]
  },
  {
   "cell_type": "markdown",
   "metadata": {},
   "source": [
    "## Q2: 1000以下の素数を計算して表示せよ"
   ]
  },
  {
   "cell_type": "code",
   "execution_count": 6,
   "metadata": {},
   "outputs": [
    {
     "name": "stdout",
     "output_type": "stream",
     "text": [
      "[2, 3, 5, 7, 11, 13, 17, 19, 23, 29, 31, 37, 41, 43, 47, 53, 59, 61, 67, 71, 73, 79, 83, 89, 97, 101, 103, 107, 109, 113, 127, 131, 137, 139, 149, 151, 157, 163, 167, 173, 179, 181, 191, 193, 197, 199, 211, 223, 227, 229, 233, 239, 241, 251, 257, 263, 269, 271, 277, 281, 283, 293, 307, 311, 313, 317, 331, 337, 347, 349, 353, 359, 367, 373, 379, 383, 389, 397, 401, 409, 419, 421, 431, 433, 439, 443, 449, 457, 461, 463, 467, 479, 487, 491, 499, 503, 509, 521, 523, 541, 547, 557, 563, 569, 571, 577, 587, 593, 599, 601, 607, 613, 617, 619, 631, 641, 643, 647, 653, 659, 661, 673, 677, 683, 691, 701, 709, 719, 727, 733, 739, 743, 751, 757, 761, 769, 773, 787, 797, 809, 811, 821, 823, 827, 829, 839, 853, 857, 859, 863, 877, 881, 883, 887, 907, 911, 919, 929, 937, 941, 947, 953, 967, 971, 977, 983, 991, 997]\n"
     ]
    }
   ],
   "source": [
    "list = []\n",
    "\n",
    "for i in range(2, 1001):\n",
    "    for j in range(2, i):\n",
    "        if i % j == 0:\n",
    "            break\n",
    "    else:\n",
    "        list.append(i)\n",
    "print(list)"
   ]
  },
  {
   "cell_type": "markdown",
   "metadata": {},
   "source": [
    "## Q3: フィボナッチ数列（１０個目まで）を表示せよ"
   ]
  },
  {
   "cell_type": "code",
   "execution_count": 8,
   "metadata": {},
   "outputs": [
    {
     "name": "stdout",
     "output_type": "stream",
     "text": [
      "0\n",
      "1\n",
      "1\n",
      "2\n",
      "3\n",
      "5\n",
      "8\n",
      "13\n",
      "21\n",
      "34\n"
     ]
    }
   ],
   "source": [
    "# 0, 1, 1, 2, 3, 5, 8, 13, 21, 34, 55, 89, 144, 233, 377, 610\n",
    "a = 0\n",
    "b = 1\n",
    "for i in range(10):\n",
    "    print(a)\n",
    "    a, b = b, a+b "
   ]
  },
  {
   "cell_type": "markdown",
   "metadata": {},
   "source": [
    "## Q4: 2つの自然数の最小公倍数/最大公約数を表示せよ"
   ]
  },
  {
   "cell_type": "code",
   "execution_count": 22,
   "metadata": {},
   "outputs": [
    {
     "name": "stdout",
     "output_type": "stream",
     "text": [
      "大きい方: 88 , 小さい方: 68\n",
      "最小公倍数:  1496\n",
      "最大公約数:  4\n"
     ]
    }
   ],
   "source": [
    "def calc(num1, num2):\n",
    "    set_value = num1 if num1 > num2 else num2 # 大きい方\n",
    "    jud_value = num1 if num1 < num2 else num2 # 小さい方\n",
    "    print(\"大きい方:\", set_value, \", 小さい方:\", jud_value)\n",
    "    # 最小公倍数を求める\n",
    "    for i in range(1, 100):\n",
    "        if (set_value * i) % jud_value == 0:\n",
    "            min_koubai = set_value * i\n",
    "            break\n",
    "    # 最大公約数を求める\n",
    "    for i in range(1, set_value):\n",
    "        if set_value % i == 0 and jud_value % i == 0:\n",
    "            max_kouyaku = i\n",
    "    \n",
    "    print(\"最小公倍数: \", min_koubai)\n",
    "    print(\"最大公約数: \", max_kouyaku)\n",
    "calc(88,68)"
   ]
  },
  {
   "cell_type": "code",
   "execution_count": 27,
   "metadata": {},
   "outputs": [
    {
     "name": "stdout",
     "output_type": "stream",
     "text": [
      "68 88\n",
      "88 68\n",
      "68 20\n",
      "20 8\n",
      "8 4\n",
      "4\n",
      "1496.0\n"
     ]
    }
   ],
   "source": [
    "# 回答例はスマート\n",
    "#最大公約数\n",
    "def gcd(a,b):\n",
    "    if b == 0:\n",
    "        return a\n",
    "    else:\n",
    "        print(a, b)\n",
    "        return gcd(b,a%b)  #この方法で最大公約数が求められます。\n",
    "\n",
    "a = 68\n",
    "b = 88       \n",
    "xab = gcd(a,b)\n",
    "print(xab)\n",
    "\n",
    "#最小公倍数\n",
    "zab = a*b/xab  #この方法で最小公倍数が求められます。\n",
    "print(zab)"
   ]
  },
  {
   "cell_type": "markdown",
   "metadata": {},
   "source": [
    "## Q5: 0から100の内３の倍数と３のつく数字だけ表示せよ。"
   ]
  },
  {
   "cell_type": "code",
   "execution_count": 30,
   "metadata": {},
   "outputs": [
    {
     "name": "stdout",
     "output_type": "stream",
     "text": [
      "0\n",
      "3\n",
      "6\n",
      "9\n",
      "12\n",
      "13\n",
      "15\n",
      "18\n",
      "21\n",
      "23\n",
      "24\n",
      "27\n",
      "30\n",
      "31\n",
      "32\n",
      "33\n",
      "34\n",
      "35\n",
      "36\n",
      "37\n",
      "38\n",
      "39\n",
      "42\n",
      "43\n",
      "45\n",
      "48\n",
      "51\n",
      "53\n",
      "54\n",
      "57\n",
      "60\n",
      "63\n",
      "66\n",
      "69\n",
      "72\n",
      "73\n",
      "75\n",
      "78\n",
      "81\n",
      "83\n",
      "84\n",
      "87\n",
      "90\n",
      "93\n",
      "96\n",
      "99\n"
     ]
    }
   ],
   "source": [
    "for i in range(0, 101):\n",
    "    if i % 3 == 0 or \"3\" in str(i):\n",
    "        print(i)"
   ]
  },
  {
   "cell_type": "code",
   "execution_count": null,
   "metadata": {},
   "outputs": [],
   "source": []
  }
 ],
 "metadata": {
  "kernelspec": {
   "display_name": "Python 3",
   "language": "python",
   "name": "python3"
  },
  "language_info": {
   "codemirror_mode": {
    "name": "ipython",
    "version": 3
   },
   "file_extension": ".py",
   "mimetype": "text/x-python",
   "name": "python",
   "nbconvert_exporter": "python",
   "pygments_lexer": "ipython3",
   "version": "3.8.5"
  }
 },
 "nbformat": 4,
 "nbformat_minor": 4
}
