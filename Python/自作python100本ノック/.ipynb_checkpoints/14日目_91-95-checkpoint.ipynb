{
 "cells": [
  {
   "cell_type": "markdown",
   "metadata": {},
   "source": [
    "## Q91: １を何回書いたか"
   ]
  },
  {
   "cell_type": "markdown",
   "metadata": {},
   "source": [
    "```\n",
    "問題：\n",
    "高橋君は 1 以上 N 以下のすべての整数を10進表記で1回ずつ紙に書きました。\n",
    "この作業で、高橋君は 1 という数字を何個書いたでしょうか。\n",
    "```"
   ]
  },
  {
   "cell_type": "code",
   "execution_count": 28,
   "metadata": {},
   "outputs": [
    {
     "data": {
      "text/plain": [
       "7"
      ]
     },
     "execution_count": 28,
     "metadata": {},
     "output_type": "execute_result"
    }
   ],
   "source": [
    "def NumCounter(numbers, target):\n",
    "    count = 0\n",
    "    for number in numbers: \n",
    "        count += list(str(number)).count(target)\n",
    "    return count\n",
    "\n",
    "numbers = [1,2,3,4,5,6,7,8,9,10,11,111]\n",
    "target = '1'\n",
    "NumCounter(numbers, target)"
   ]
  },
  {
   "cell_type": "markdown",
   "metadata": {},
   "source": [
    "## Q92: リモコン"
   ]
  },
  {
   "cell_type": "markdown",
   "metadata": {},
   "source": [
    "```\n",
    "問題文：\n",
    "高橋君は、エアコンの設定温度を変更しようとしています。\n",
    "現在の設定温度は A 度ですが、これを B 度に設定したいと思っています。\n",
    "エアコンのリモコンは 1 回ボタンを押すことで、\n",
    "1 度設定温度を下げる、もしくは上げる\n",
    "5 度設定温度を下げる、もしくは上げる\n",
    "10 度設定温度を下げる、もしくは上げる\n",
    "の、6 種類の操作のいずれか 1 つを実行することが出来ます。\n",
    "高橋君が設定温度を A 度から B 度に変更するために押すボタンの最小回数を求めなさい。\n",
    "```"
   ]
  },
  {
   "cell_type": "code",
   "execution_count": 86,
   "metadata": {
    "collapsed": true,
    "jupyter": {
     "outputs_hidden": true
    }
   },
   "outputs": [
    {
     "ename": "KeyboardInterrupt",
     "evalue": "",
     "output_type": "error",
     "traceback": [
      "\u001b[1;31m---------------------------------------------------------------------------\u001b[0m",
      "\u001b[1;31mKeyboardInterrupt\u001b[0m                         Traceback (most recent call last)",
      "\u001b[1;32m<ipython-input-86-be3186edc509>\u001b[0m in \u001b[0;36m<module>\u001b[1;34m\u001b[0m\n\u001b[0;32m     14\u001b[0m     \u001b[1;32mreturn\u001b[0m \u001b[0mcount\u001b[0m\u001b[1;33m\u001b[0m\u001b[1;33m\u001b[0m\u001b[0m\n\u001b[0;32m     15\u001b[0m \u001b[1;33m\u001b[0m\u001b[0m\n\u001b[1;32m---> 16\u001b[1;33m \u001b[0mRemoteController\u001b[0m\u001b[1;33m(\u001b[0m\u001b[1;36m20\u001b[0m\u001b[1;33m,\u001b[0m \u001b[1;36m1\u001b[0m\u001b[1;33m)\u001b[0m\u001b[1;33m\u001b[0m\u001b[1;33m\u001b[0m\u001b[0m\n\u001b[0m",
      "\u001b[1;32m<ipython-input-86-be3186edc509>\u001b[0m in \u001b[0;36mRemoteController\u001b[1;34m(tmp_a, tmp_b)\u001b[0m\n\u001b[0;32m      3\u001b[0m     \u001b[1;32mwhile\u001b[0m \u001b[0mtmp_a\u001b[0m \u001b[1;33m!=\u001b[0m \u001b[0mtmp_b\u001b[0m\u001b[1;33m:\u001b[0m\u001b[1;33m\u001b[0m\u001b[1;33m\u001b[0m\u001b[0m\n\u001b[0;32m      4\u001b[0m         \u001b[0mtarget\u001b[0m \u001b[1;33m=\u001b[0m \u001b[0mtmp_a\u001b[0m \u001b[1;33m-\u001b[0m \u001b[0mtmp_b\u001b[0m\u001b[1;33m\u001b[0m\u001b[1;33m\u001b[0m\u001b[0m\n\u001b[1;32m----> 5\u001b[1;33m         \u001b[1;32mif\u001b[0m \u001b[0mtarget\u001b[0m \u001b[1;33m//\u001b[0m \u001b[1;36m10\u001b[0m \u001b[1;33m>\u001b[0m \u001b[1;36m0\u001b[0m\u001b[1;33m:\u001b[0m\u001b[1;33m\u001b[0m\u001b[1;33m\u001b[0m\u001b[0m\n\u001b[0m\u001b[0;32m      6\u001b[0m             \u001b[0mtmp_a\u001b[0m \u001b[1;33m+=\u001b[0m \u001b[1;33m-\u001b[0m\u001b[1;33m(\u001b[0m\u001b[0mtarget\u001b[0m \u001b[1;33m//\u001b[0m \u001b[1;36m10\u001b[0m\u001b[1;33m)\u001b[0m \u001b[1;33m*\u001b[0m \u001b[1;36m10\u001b[0m\u001b[1;33m\u001b[0m\u001b[1;33m\u001b[0m\u001b[0m\n\u001b[0;32m      7\u001b[0m             \u001b[0mcount\u001b[0m \u001b[1;33m+=\u001b[0m \u001b[0mtarget\u001b[0m \u001b[1;33m//\u001b[0m \u001b[1;36m10\u001b[0m\u001b[1;33m\u001b[0m\u001b[1;33m\u001b[0m\u001b[0m\n",
      "\u001b[1;31mKeyboardInterrupt\u001b[0m: "
     ]
    }
   ],
   "source": [
    "def RemoteController(tmp_a, tmp_b):\n",
    "    count = 0\n",
    "    diff = 0\n",
    "    while tmp_a != tmp_b:\n",
    "        target = tmp_a - tmp_b\n",
    "        if target // 10 > 0:\n",
    "            tmp_a += -(target // 10) * 10\n",
    "            count += target // 10\n",
    "        elif target // 5 > 0:\n",
    "            tmp_a += -(target // 5) * 5\n",
    "            count += target // 5\n",
    "        else:\n",
    "            tmp_a == tmp_b\n",
    "            count += target\n",
    "    return count\n",
    "\n",
    "RemoteController(20, 1)"
   ]
  },
  {
   "cell_type": "code",
   "execution_count": null,
   "metadata": {},
   "outputs": [],
   "source": [
    "def RemoteController(tmp_a, tmp_b):\n",
    "    count = 0\n",
    "    diff = 0\n",
    "    target = tmp_a - tmp_b\n",
    "    while target != 0:\n",
    "        if target // 10 > 0:\n",
    "            target += -(target // 10) * 10\n",
    "            count += target // 10\n",
    "        elif target // 5 > 0:\n",
    "            tmp_a += -(target // 5) * 5\n",
    "            count += target // 5\n",
    "        else:\n",
    "            tmp_a == tmp_b\n",
    "            count += target\n",
    "    return count\n",
    "\n",
    "RemoteController(20, 1)"
   ]
  },
  {
   "cell_type": "code",
   "execution_count": 68,
   "metadata": {},
   "outputs": [
    {
     "data": {
      "text/plain": [
       "-2.0"
      ]
     },
     "execution_count": 68,
     "metadata": {},
     "output_type": "execute_result"
    }
   ],
   "source": [
    "tmp = 0\n",
    "num = float(-15)\n",
    "num // 10"
   ]
  },
  {
   "cell_type": "code",
   "execution_count": 50,
   "metadata": {},
   "outputs": [
    {
     "data": {
      "text/plain": [
       "10"
      ]
     },
     "execution_count": 50,
     "metadata": {},
     "output_type": "execute_result"
    }
   ],
   "source": [
    "tmp"
   ]
  },
  {
   "cell_type": "code",
   "execution_count": null,
   "metadata": {},
   "outputs": [],
   "source": []
  }
 ],
 "metadata": {
  "kernelspec": {
   "display_name": "Python 3",
   "language": "python",
   "name": "python3"
  },
  "language_info": {
   "codemirror_mode": {
    "name": "ipython",
    "version": 3
   },
   "file_extension": ".py",
   "mimetype": "text/x-python",
   "name": "python",
   "nbconvert_exporter": "python",
   "pygments_lexer": "ipython3",
   "version": "3.8.5"
  }
 },
 "nbformat": 4,
 "nbformat_minor": 4
}
