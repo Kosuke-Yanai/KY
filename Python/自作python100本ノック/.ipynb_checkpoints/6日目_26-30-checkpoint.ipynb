{
 "cells": [
  {
   "cell_type": "markdown",
   "metadata": {},
   "source": [
    "## Q26: リスト問題"
   ]
  },
  {
   "cell_type": "markdown",
   "metadata": {},
   "source": [
    "```\n",
    "問題：\n",
    "１. \"mozzarella\",\"cinderella\",\"salmonella\"(「モッツァレラ」「シンデレラ」「サルモネラ菌」)\n",
    "の３つの文字列を要素としてthingsというリストを作成\n",
    "２. \"mozzarella\"の先頭文字を大文字にする\n",
    "３. \"cinderella\"を全て大文字にする\n",
    "４. \"salmonella\"を大文字にして、逆順にする。\n",
    "```"
   ]
  },
  {
   "cell_type": "code",
   "execution_count": 30,
   "metadata": {},
   "outputs": [
    {
     "name": "stdout",
     "output_type": "stream",
     "text": [
      "['Mozzarella', 'CINDERELLA', 'ALLENOMLAS']\n"
     ]
    }
   ],
   "source": [
    "def things(word_1st, word_2nd, word_3rd):\n",
    "    things = list([word_1st, word_2nd, word_3rd])\n",
    "    things[0] = things[0].capitalize()\n",
    "    things[1] =  things[1].upper()\n",
    "    things[2] = ''.join(list(reversed(things[2].upper())))\n",
    "    \n",
    "    print(things)\n",
    "\n",
    "things(\"mozzarella\",\"cinderella\",\"salmonella\")"
   ]
  },
  {
   "cell_type": "code",
   "execution_count": 35,
   "metadata": {},
   "outputs": [
    {
     "data": {
      "text/plain": [
       "'ALLENOMLAS'"
      ]
     },
     "execution_count": 35,
     "metadata": {},
     "output_type": "execute_result"
    }
   ],
   "source": [
    "# スライスを使った方が逆順は作りやすい\n",
    "things = list([\"mozzarella\",\"cinderella\",\"salmonella\"])\n",
    "things[2] = things[2].upper()[::-1]\n",
    "things[2]"
   ]
  },
  {
   "cell_type": "markdown",
   "metadata": {},
   "source": [
    "## Q27: 辞書問題"
   ]
  },
  {
   "cell_type": "markdown",
   "metadata": {},
   "source": [
    "```\n",
    "問題：\n",
    "1. e2fという英仏辞書を作り、それを表示\n",
    "この辞書にはdogはchien,catはchat,walrusはmourseという情報が入っている。\n",
    "2. 辞書e2fを使って、walrusという単語に対応するフランス語を表示\n",
    "3. e2fからf2eという仏英辞書を作成\n",
    "4. e2fから英単語だけを集合の形で表示せよ\n",
    "```"
   ]
  },
  {
   "cell_type": "code",
   "execution_count": 72,
   "metadata": {},
   "outputs": [
    {
     "name": "stdout",
     "output_type": "stream",
     "text": [
      "英仏辞書: {'dog': 'chien', 'cat': 'chat', 'walrus': 'mourse'}\n",
      "walrusという単語に対応するフランス語: mourse\n",
      "仏英辞書: {'chien': 'dog', 'chat': 'cat', 'mourse': 'walrus'}\n",
      "英単語一覧: {'cat', 'walrus', 'dog'}\n"
     ]
    }
   ],
   "source": [
    "dict_e2f = {\"dog\":\"chien\", \"cat\":\"chat\", \"walrus\":\"mourse\"}\n",
    "print(\"英仏辞書:\", dict_e2f)\n",
    "print(\"walrusという単語に対応するフランス語:\", dict_e2f[\"walrus\"])\n",
    "\n",
    "dict_f2e = {v: k for k, v in dict_e2f.items()}\n",
    "print(\"仏英辞書:\", dict_f2e)\n",
    "\n",
    "words_en = {v for v in dict_e2f.keys()}\n",
    "print(\"英単語一覧:\", words_en)"
   ]
  },
  {
   "cell_type": "code",
   "execution_count": 73,
   "metadata": {},
   "outputs": [
    {
     "data": {
      "text/plain": [
       "{'cat', 'dog', 'walrus'}"
      ]
     },
     "execution_count": 73,
     "metadata": {},
     "output_type": "execute_result"
    }
   ],
   "source": [
    "# setを使えば、よりシンプルにキーのみ集合で取り出せる\n",
    "set(dict_e2f.keys())"
   ]
  },
  {
   "cell_type": "code",
   "execution_count": 70,
   "metadata": {},
   "outputs": [
    {
     "name": "stdout",
     "output_type": "stream",
     "text": [
      "dog\n",
      "cat\n",
      "walrus\n"
     ]
    }
   ],
   "source": [
    "for v in dict_e2f.keys():\n",
    "    print(v)"
   ]
  },
  {
   "cell_type": "code",
   "execution_count": null,
   "metadata": {},
   "outputs": [],
   "source": []
  }
 ],
 "metadata": {
  "kernelspec": {
   "display_name": "Python 3",
   "language": "python",
   "name": "python3"
  },
  "language_info": {
   "codemirror_mode": {
    "name": "ipython",
    "version": 3
   },
   "file_extension": ".py",
   "mimetype": "text/x-python",
   "name": "python",
   "nbconvert_exporter": "python",
   "pygments_lexer": "ipython3",
   "version": "3.8.5"
  }
 },
 "nbformat": 4,
 "nbformat_minor": 4
}
