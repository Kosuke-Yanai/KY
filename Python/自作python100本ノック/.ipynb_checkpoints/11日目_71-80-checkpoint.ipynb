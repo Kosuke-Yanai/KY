{
 "cells": [
  {
   "cell_type": "markdown",
   "metadata": {},
   "source": [
    "## Q71: 連続した数かどうか"
   ]
  },
  {
   "cell_type": "markdown",
   "metadata": {},
   "source": [
    "```\n",
    "問題：1118 のような、3 つ以上の同じ数字が連続して並んだ 4 桁の整数を 良い整数 とします。 4 桁の整数 N が与えられるので、N が 良い整数 かどうかを答えてください。\n",
    "```"
   ]
  },
  {
   "cell_type": "code",
   "execution_count": 142,
   "metadata": {},
   "outputs": [
    {
     "name": "stdout",
     "output_type": "stream",
     "text": [
      "Number: 4761\n",
      "No, it isn't good nomber\n"
     ]
    }
   ],
   "source": [
    "import random\n",
    "\n",
    "def NumChekcer(num):\n",
    "    n = str(num)\n",
    "    print('Number:', num)\n",
    "    if n[0] == n[1] == n[2] or n[1] == n[2] == n[3]:\n",
    "        print(\"Yes, it is a good number\")\n",
    "    else:\n",
    "        print(\"No, it isn't good nomber\")\n",
    "    \n",
    "\n",
    "num = random.randrange(1000, 9999)\n",
    "NumChekcer(num)"
   ]
  },
  {
   "cell_type": "markdown",
   "metadata": {},
   "source": [
    "## Q72:　リュカ数"
   ]
  },
  {
   "cell_type": "markdown",
   "metadata": {},
   "source": [
    "```\n",
    "問題： 整数 N が与えられるので、N 番目のリュカ数を求めてください。 ただし、リュカ数は i 番目のリュカ数を Li とすると、 L0=2 L1=1 Li=Li−1+Li−2(i≧2) と定義される数とします。\n",
    "```"
   ]
  },
  {
   "cell_type": "code",
   "execution_count": 148,
   "metadata": {},
   "outputs": [
    {
     "data": {
      "text/plain": [
       "7"
      ]
     },
     "execution_count": 148,
     "metadata": {},
     "output_type": "execute_result"
    }
   ],
   "source": [
    "def LyucaNum(num):\n",
    "    if num == 0:\n",
    "        return 2\n",
    "    elif num == 1:\n",
    "        return 1\n",
    "    else:\n",
    "        L =  LyucaNum(num - 1) + LyucaNum(num - 2)\n",
    "        return L\n",
    "\n",
    "LyucaNum(4)"
   ]
  },
  {
   "cell_type": "markdown",
   "metadata": {},
   "source": [
    "## Q73: 途中式の自動作成"
   ]
  },
  {
   "cell_type": "markdown",
   "metadata": {},
   "source": [
    "```\n",
    "問題：\n",
    "4 つの 0 以上 9 以下の整数 A,B,C,D を順に受けとります。\n",
    "A op1 B op2 C op3 D = 7 となるように、op1,op2,op3 に + か - を入れて式を自動で作り表示しなさい。 なお、答えが存在しない場合は\"impossible\"と表示し、また答えが複数存在する場合は全て表示させなさい。\n",
    "```"
   ]
  },
  {
   "cell_type": "code",
   "execution_count": 161,
   "metadata": {},
   "outputs": [
    {
     "name": "stdout",
     "output_type": "stream",
     "text": [
      "A + B - C + D =  7\n",
      "A + B - C - D =  7\n",
      "A - B + C + D =  7\n",
      "A - B + C - D =  7\n"
     ]
    }
   ],
   "source": [
    "def AnswerSeven(A, B, C, D):\n",
    "    answer1 = 0\n",
    "    answer2 = 0\n",
    "    answer3 = 0\n",
    "    judge = 0\n",
    "    for i in range(0,2):\n",
    "        if i % 2 == 0:\n",
    "            answer1 = A + B\n",
    "            op1 = '+'\n",
    "        else:\n",
    "            answer1 = A - B\n",
    "            op1 = '-'\n",
    "        for j in range(0,2):\n",
    "            if j % 2 == 0:\n",
    "                answer2 = answer1 + C\n",
    "                op2 = '+'\n",
    "            else:\n",
    "                answer2 = answer1 - C\n",
    "                op2 = '-'\n",
    "            for k in range(0,2):\n",
    "                if k % 2 == 0:\n",
    "                    answer3 = answer2 + D\n",
    "                    op3 = '+'\n",
    "                else:\n",
    "                    answer3 = answer2 - D\n",
    "                    op3 = '-'\n",
    "                if answer3 == 7:\n",
    "                    judge = 1\n",
    "                    print('A', op1, 'B', op2, 'C', op3, 'D = ', answer3)\n",
    "    if judge == 0:\n",
    "        print('impossible')\n",
    "AnswerSeven(7, 1, 1, 0)"
   ]
  },
  {
   "cell_type": "code",
   "execution_count": 172,
   "metadata": {},
   "outputs": [
    {
     "name": "stdout",
     "output_type": "stream",
     "text": [
      "1+1+6-1=7\n",
      "1-1+6+1=7\n"
     ]
    }
   ],
   "source": [
    "# 回答例。'+-'の文字列を定義するとこがスマート(eval)\n",
    "def put_formula(n):\n",
    "    a,b,c,d = list(str(n))\n",
    "    sign = \"+-\"\n",
    "    aws_list = []\n",
    "    for i in range(2):  # 1つ目の記号\n",
    "        for j in range(2):  # 2つ目の記号\n",
    "            for k in range(2):  # 3つ目の記号\n",
    "                if eval(a+sign[i]+b+sign[j]+c+sign[k]+d) == 7:\n",
    "                    aws = (str(a+sign[i]+b+sign[j]+c+sign[k]+d)+\"=7\")\n",
    "                    aws_list.append(aws)\n",
    "                    print(aws)\n",
    "    if len(aws_list) == 0:\n",
    "        print(\"impossible\")\n",
    "\n",
    "put_formula(1161)"
   ]
  },
  {
   "cell_type": "code",
   "execution_count": null,
   "metadata": {},
   "outputs": [],
   "source": []
  }
 ],
 "metadata": {
  "kernelspec": {
   "display_name": "Python 3",
   "language": "python",
   "name": "python3"
  },
  "language_info": {
   "codemirror_mode": {
    "name": "ipython",
    "version": 3
   },
   "file_extension": ".py",
   "mimetype": "text/x-python",
   "name": "python",
   "nbconvert_exporter": "python",
   "pygments_lexer": "ipython3",
   "version": "3.8.5"
  }
 },
 "nbformat": 4,
 "nbformat_minor": 4
}
