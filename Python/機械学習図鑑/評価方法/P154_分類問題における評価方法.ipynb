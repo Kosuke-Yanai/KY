{
 "cells": [
  {
   "cell_type": "markdown",
   "metadata": {},
   "source": [
    "乳がんデータをロジスティック回帰モデルで機械学習させる。"
   ]
  },
  {
   "cell_type": "code",
   "execution_count": 13,
   "metadata": {},
   "outputs": [
    {
     "name": "stderr",
     "output_type": "stream",
     "text": [
      "C:\\ProgramData\\Anaconda3\\lib\\site-packages\\sklearn\\linear_model\\logistic.py:433: FutureWarning: Default solver will be changed to 'lbfgs' in 0.22. Specify a solver to silence this warning.\n",
      "  FutureWarning)\n"
     ]
    }
   ],
   "source": [
    "from sklearn.datasets import load_breast_cancer\n",
    "\n",
    "data = load_breast_cancer()\n",
    "X = data.data\n",
    "y = 1 - data.target\n",
    "X = X[:, :10]\n",
    "\n",
    "from sklearn.linear_model import LogisticRegression\n",
    "\n",
    "model_lor = LogisticRegression()\n",
    "model_lor.fit(X, y)\n",
    "y_pred = model_lor.predict(X)"
   ]
  },
  {
   "cell_type": "markdown",
   "metadata": {},
   "source": [
    "混同行列で結果を表形式にまとめる。"
   ]
  },
  {
   "cell_type": "code",
   "execution_count": 15,
   "metadata": {},
   "outputs": [
    {
     "name": "stdout",
     "output_type": "stream",
     "text": [
      "[[341  16]\n",
      " [ 36 176]]\n"
     ]
    }
   ],
   "source": [
    "from sklearn.metrics import confusion_matrix\n",
    "cm = confusion_matrix(y, y_pred)\n",
    "print(cm)"
   ]
  },
  {
   "cell_type": "code",
   "execution_count": 16,
   "metadata": {},
   "outputs": [
    {
     "data": {
      "text/plain": [
       "0.9086115992970123"
      ]
     },
     "execution_count": 16,
     "metadata": {},
     "output_type": "execute_result"
    }
   ],
   "source": [
    "#正解率\n",
    "from sklearn.metrics import accuracy_score\n",
    "accuracy_score(y, y_pred)"
   ]
  },
  {
   "cell_type": "code",
   "execution_count": 17,
   "metadata": {},
   "outputs": [
    {
     "data": {
      "text/plain": [
       "0.9166666666666666"
      ]
     },
     "execution_count": 17,
     "metadata": {},
     "output_type": "execute_result"
    }
   ],
   "source": [
    "#適合率\n",
    "from sklearn.metrics import precision_score\n",
    "precision_score(y, y_pred)"
   ]
  },
  {
   "cell_type": "code",
   "execution_count": 18,
   "metadata": {},
   "outputs": [
    {
     "data": {
      "text/plain": [
       "0.8301886792452831"
      ]
     },
     "execution_count": 18,
     "metadata": {},
     "output_type": "execute_result"
    }
   ],
   "source": [
    "#再現率\n",
    "from sklearn.metrics import recall_score\n",
    "recall_score(y, y_pred)"
   ]
  },
  {
   "cell_type": "code",
   "execution_count": 19,
   "metadata": {},
   "outputs": [
    {
     "data": {
      "text/plain": [
       "0.8712871287128713"
      ]
     },
     "execution_count": 19,
     "metadata": {},
     "output_type": "execute_result"
    }
   ],
   "source": [
    "#F値\n",
    "from sklearn.metrics import f1_score\n",
    "f1_score(y, y_pred)"
   ]
  },
  {
   "cell_type": "code",
   "execution_count": 22,
   "metadata": {},
   "outputs": [
    {
     "data": {
      "text/plain": [
       "array([[4.41813065e-03, 9.95581869e-01],\n",
       "       [4.87318127e-04, 9.99512682e-01],\n",
       "       [3.31064285e-04, 9.99668936e-01],\n",
       "       ...,\n",
       "       [2.62819357e-02, 9.73718064e-01],\n",
       "       [5.09374730e-06, 9.99994906e-01],\n",
       "       [9.74068776e-01, 2.59312244e-02]])"
      ]
     },
     "execution_count": 22,
     "metadata": {},
     "output_type": "execute_result"
    }
   ],
   "source": [
    "#予測確率\n",
    "model_lor.predict_proba(X)"
   ]
  },
  {
   "cell_type": "code",
   "execution_count": 23,
   "metadata": {},
   "outputs": [
    {
     "data": {
      "image/png": "[encoded data removed]",
      "text/plain": [
       "<Figure size 432x288 with 1 Axes>"
      ]
     },
     "metadata": {
      "needs_background": "light"
     },
     "output_type": "display_data"
    }
   ],
   "source": [
    "#予測確率の描画\n",
    "import matplotlib.pyplot as plt\n",
    "%matplotlib inline\n",
    "\n",
    "mproba = model_lor.predict_proba(X)\n",
    "\n",
    "plt.scatter(mproba[:, 0], mproba[:, 1], c = data.target)\n",
    "plt.show()"
   ]
  },
  {
   "cell_type": "code",
   "execution_count": 25,
   "metadata": {},
   "outputs": [
    {
     "name": "stdout",
     "output_type": "stream",
     "text": [
      "[[259  98]\n",
      " [  2 210]]\n"
     ]
    }
   ],
   "source": [
    "#悪性(判定値=1)となるしきい値を10%に変更\n",
    "import numpy as np\n",
    "y_pred2 = (model_lor.predict_proba(X)[:, 1]>0.1).astype(np.int)\n",
    "print(confusion_matrix(y, y_pred2))"
   ]
  },
  {
   "cell_type": "code",
   "execution_count": 45,
   "metadata": {},
   "outputs": [
    {
     "data": {
      "image/png": "[encoded data removed]",
      "text/plain": [
       "<Figure size 345.6x360 with 1 Axes>"
      ]
     },
     "metadata": {},
     "output_type": "display_data"
    }
   ],
   "source": [
    "#ROC曲線の可視化\n",
    "from sklearn.metrics import roc_curve\n",
    "probas = model_lor.predict_proba(X)\n",
    "fpr, tpr, thresholds = roc_curve(y, probas[:, 1])\n",
    "\n",
    "%matplotlib inline\n",
    "import matplotlib.pyplot as plt\n",
    "plt.style.use(\"fivethirtyeight\")\n",
    "\n",
    "fig, ax = plt.subplots()\n",
    "fig.set_size_inches(4.8, 5) #Figure が作成された後に Matplotlib の Figure サイズを変更\n",
    "\n",
    "ax.step(fpr, tpr, \"gray\") #境界線のグレーのラインを描画\n",
    "ax.fill_between(fpr, tpr, 0, color=\"skyblue\", alpha=0.5) #指定した領域を塗りつぶし\n",
    "ax.set_xlabel(\"False Positive Rate\")\n",
    "ax.set_ylabel(\"True Positive Rate\")\n",
    "ax.set_facecolor(\"xkcd:white\") #グラフ描画領域の背景色を指定\n",
    "plt.show()"
   ]
  },
  {
   "cell_type": "markdown",
   "metadata": {},
   "source": [
    "↑色付きの領域の面積がAUC(Area Under the Curve)を表し、  \n",
    "AUCが1に近づくほど、精度が高いことを表す。  "
   ]
  },
  {
   "cell_type": "code",
   "execution_count": 51,
   "metadata": {},
   "outputs": [
    {
     "data": {
      "text/plain": [
       "0.9767322023148882"
      ]
     },
     "execution_count": 51,
     "metadata": {},
     "output_type": "execute_result"
    }
   ],
   "source": [
    "from sklearn.metrics import roc_auc_score\n",
    "roc_auc_score(y, probas[:, 1])"
   ]
  },
  {
   "cell_type": "code",
   "execution_count": 57,
   "metadata": {},
   "outputs": [
    {
     "data": {
      "text/plain": [
       "array([0.        , 0.00471698, 0.64622642, 0.64622642, 0.68867925,\n",
       "       0.68867925, 0.69811321, 0.69811321, 0.75943396, 0.75943396,\n",
       "       0.76415094, 0.76415094, 0.76886792, 0.76886792, 0.79716981,\n",
       "       0.79716981, 0.80660377, 0.80660377, 0.81603774, 0.81603774,\n",
       "       0.8254717 , 0.8254717 , 0.84433962, 0.84433962, 0.8490566 ,\n",
       "       0.8490566 , 0.87264151, 0.87264151, 0.88679245, 0.88679245,\n",
       "       0.89622642, 0.89622642, 0.9009434 , 0.9009434 , 0.90566038,\n",
       "       0.90566038, 0.91037736, 0.91037736, 0.91509434, 0.91509434,\n",
       "       0.9245283 , 0.9245283 , 0.92924528, 0.92924528, 0.93396226,\n",
       "       0.93396226, 0.93867925, 0.93867925, 0.94339623, 0.94339623,\n",
       "       0.94811321, 0.94811321, 0.95754717, 0.95754717, 0.96226415,\n",
       "       0.96226415, 0.96698113, 0.96698113, 0.97169811, 0.97169811,\n",
       "       0.97641509, 0.97641509, 0.98113208, 0.98113208, 0.98584906,\n",
       "       0.98584906, 0.99056604, 0.99056604, 0.99528302, 0.99528302,\n",
       "       1.        , 1.        ])"
      ]
     },
     "execution_count": 57,
     "metadata": {},
     "output_type": "execute_result"
    }
   ],
   "source": [
    "tpr"
   ]
  },
  {
   "cell_type": "code",
   "execution_count": null,
   "metadata": {},
   "outputs": [],
   "source": []
  }
 ],
 "metadata": {
  "kernelspec": {
   "display_name": "Python 3",
   "language": "python",
   "name": "python3"
  },
  "language_info": {
   "codemirror_mode": {
    "name": "ipython",
    "version": 3
   },
   "file_extension": ".py",
   "mimetype": "text/x-python",
   "name": "python",
   "nbconvert_exporter": "python",
   "pygments_lexer": "ipython3",
   "version": "3.7.3"
  }
 },
 "nbformat": 4,
 "nbformat_minor": 2
}
