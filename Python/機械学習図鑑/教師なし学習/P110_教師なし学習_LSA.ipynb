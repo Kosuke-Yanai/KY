{
 "cells": [
  {
   "cell_type": "markdown",
   "metadata": {},
   "source": [
    "LSAサンプルコード  \n",
    "文章中に出現した単語の数から類似度を算出する。"
   ]
  },
  {
   "cell_type": "code",
   "execution_count": 4,
   "metadata": {},
   "outputs": [
    {
     "name": "stdout",
     "output_type": "stream",
     "text": [
      "[[0.         0.85065081]\n",
      " [0.         0.85065081]\n",
      " [0.         1.37638192]\n",
      " [0.         0.52573111]\n",
      " [1.41421356 0.        ]\n",
      " [0.70710678 0.        ]\n",
      " [1.41421356 0.        ]\n",
      " [0.70710678 0.        ]]\n",
      "[0.38596491 0.27999429]\n",
      "0.6659592065833291\n"
     ]
    }
   ],
   "source": [
    "from sklearn.decomposition import TruncatedSVD\n",
    "\n",
    "data = [[1,0,0,0],\n",
    "        [1,0,0,0],\n",
    "        [1,1,0,0],\n",
    "        [0,1,0,0],\n",
    "        [0,0,1,1],\n",
    "        [0,0,1,0],\n",
    "        [0,0,1,1],\n",
    "        [0,0,0,1]]\n",
    "\n",
    "n_components = 2\n",
    "model = TruncatedSVD(n_components=n_components)\n",
    "model.fit(data)\n",
    "\n",
    "print(model.transform(data)) #変換データ\n",
    "print(model.explained_variance_ratio_) #寄与率\n",
    "print(sum(model.explained_variance_ratio_)) #累積寄与率"
   ]
  },
  {
   "cell_type": "markdown",
   "metadata": {},
   "source": [
    "累積寄与率は67%で、2個の変数で元データの67%が説明できている。"
   ]
  },
  {
   "cell_type": "code",
   "execution_count": null,
   "metadata": {},
   "outputs": [],
   "source": []
  }
 ],
 "metadata": {
  "kernelspec": {
   "display_name": "Python 3",
   "language": "python",
   "name": "python3"
  },
  "language_info": {
   "codemirror_mode": {
    "name": "ipython",
    "version": 3
   },
   "file_extension": ".py",
   "mimetype": "text/x-python",
   "name": "python",
   "nbconvert_exporter": "python",
   "pygments_lexer": "ipython3",
   "version": "3.7.3"
  }
 },
 "nbformat": 4,
 "nbformat_minor": 2
}
