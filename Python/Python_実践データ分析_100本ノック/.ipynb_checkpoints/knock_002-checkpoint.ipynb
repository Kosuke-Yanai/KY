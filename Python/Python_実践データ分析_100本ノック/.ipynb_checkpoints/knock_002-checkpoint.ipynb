{
 "cells": [
  {
   "cell_type": "code",
   "execution_count": 5,
   "metadata": {},
   "outputs": [
    {
     "name": "stdout",
     "output_type": "stream",
     "text": [
      "5000\n",
      "1786\n",
      "6786\n"
     ]
    }
   ],
   "source": [
    "import pandas as pd\n",
    "customer_master = pd.read_csv('./sample_100knocks/サンプルコード_20200325/1章/customer_master.csv')\n",
    "item_master = pd.read_csv('./sample_100knocks/サンプルコード_20200325/1章/item_master.csv')\n",
    "transaction_1 = pd.read_csv('./sample_100knocks/サンプルコード_20200325/1章/transaction_1.csv')\n",
    "transaction_2 = pd.read_csv('./sample_100knocks/サンプルコード_20200325/1章/transaction_2.csv')\n",
    "transaction_detail_1 = pd.read_csv('./sample_100knocks/サンプルコード_20200325/1章/transaction_detail_1.csv')\n",
    "transaction_detail_2 = pd.read_csv('./sample_100knocks/サンプルコード_20200325/1章/transaction_detail_2.csv')\n",
    "\n",
    "transaction = pd.concat([transaction_1, transaction_2], ignore_index=True)\n",
    "transaction_detail = pd.concat([transaction_detail_1, transaction_detail_2], ignore_index=True)\n",
    "print(len(transaction_detail_1))\n",
    "print(len(transaction_detail_2))\n",
    "print(len(transaction_detail))"
   ]
  },
  {
   "cell_type": "code",
   "execution_count": null,
   "metadata": {},
   "outputs": [],
   "source": []
  }
 ],
 "metadata": {
  "kernelspec": {
   "display_name": "Python 3",
   "language": "python",
   "name": "python3"
  },
  "language_info": {
   "codemirror_mode": {
    "name": "ipython",
    "version": 3
   },
   "file_extension": ".py",
   "mimetype": "text/x-python",
   "name": "python",
   "nbconvert_exporter": "python",
   "pygments_lexer": "ipython3",
   "version": "3.7.3"
  }
 },
 "nbformat": 4,
 "nbformat_minor": 2
}
