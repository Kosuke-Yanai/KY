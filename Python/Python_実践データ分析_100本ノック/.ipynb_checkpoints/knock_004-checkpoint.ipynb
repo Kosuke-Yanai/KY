{
 "cells": [
  {
   "cell_type": "code",
   "execution_count": 1,
   "metadata": {},
   "outputs": [
    {
     "ename": "SyntaxError",
     "evalue": "invalid syntax (<ipython-input-1-3e0372e170b6>, line 13)",
     "output_type": "error",
     "traceback": [
      "\u001b[1;36m  File \u001b[1;32m\"<ipython-input-1-3e0372e170b6>\"\u001b[1;36m, line \u001b[1;32m13\u001b[0m\n\u001b[1;33m    join_data = pd.merge(join_data, customer_master[on=\"customer_id\", how=\"left\"]\u001b[0m\n\u001b[1;37m                                                      ^\u001b[0m\n\u001b[1;31mSyntaxError\u001b[0m\u001b[1;31m:\u001b[0m invalid syntax\n"
     ]
    }
   ],
   "source": [
    "import pandas as pd\n",
    "customer_master = pd.read_csv('./sample_100knocks/サンプルコード_20200325/1章/customer_master.csv')\n",
    "item_master = pd.read_csv('./sample_100knocks/サンプルコード_20200325/1章/item_master.csv')\n",
    "transaction_1 = pd.read_csv('./sample_100knocks/サンプルコード_20200325/1章/transaction_1.csv')\n",
    "transaction_2 = pd.read_csv('./sample_100knocks/サンプルコード_20200325/1章/transaction_2.csv')\n",
    "transaction_detail_1 = pd.read_csv('./sample_100knocks/サンプルコード_20200325/1章/transaction_detail_1.csv')\n",
    "transaction_detail_2 = pd.read_csv('./sample_100knocks/サンプルコード_20200325/1章/transaction_detail_2.csv')\n",
    "\n",
    "transaction = pd.concat([transaction_1, transaction_2], ignore_index=True)\n",
    "transaction_detail = pd.concat([transaction_detail_1, transaction_detail_2], ignore_index=True)\n",
    "\n",
    "join_data = pd.merge(transaction_detail, transaction[[\"transaction_id\", \"payment_date\", \"customer_id\"]], on=\"transaction_id\", how=\"left\")\n",
    "join_data = pd.merge(join_data, customer_master, on=\"customer_id\", how=\"left\")\n",
    "join_data = pd.merge(join_data, item_master, on=\"item_id\", how=\"left\")\n",
    "join_data.head()"
   ]
  },
  {
   "cell_type": "code",
   "execution_count": 7,
   "metadata": {},
   "outputs": [
    {
     "name": "stdout",
     "output_type": "stream",
     "text": [
      "7144\n",
      "6786\n",
      "7144\n"
     ]
    }
   ],
   "source": [
    "print(len(transaction_detail))\n",
    "print(len(transaction))\n",
    "print(len(join_data))"
   ]
  }
 ],
 "metadata": {
  "kernelspec": {
   "display_name": "Python 3",
   "language": "python",
   "name": "python3"
  },
  "language_info": {
   "codemirror_mode": {
    "name": "ipython",
    "version": 3
   },
   "file_extension": ".py",
   "mimetype": "text/x-python",
   "name": "python",
   "nbconvert_exporter": "python",
   "pygments_lexer": "ipython3",
   "version": "3.7.3"
  }
 },
 "nbformat": 4,
 "nbformat_minor": 2
}
