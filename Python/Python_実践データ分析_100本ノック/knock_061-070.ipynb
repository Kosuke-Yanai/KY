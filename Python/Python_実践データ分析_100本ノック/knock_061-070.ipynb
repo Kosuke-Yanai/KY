{
 "cells": [
  {
   "cell_type": "code",
   "execution_count": 67,
   "metadata": {},
   "outputs": [
    {
     "name": "stdout",
     "output_type": "stream",
     "text": [
      "i:0 j:0\n",
      "i:0 j:1\n",
      "i:0 j:2\n",
      "i:0 j:3\n",
      "i:1 j:0\n",
      "i:1 j:1\n",
      "i:1 j:2\n",
      "i:1 j:3\n",
      "i:2 j:0\n",
      "i:2 j:1\n",
      "i:2 j:2\n",
      "i:2 j:3\n",
      "    F1  F2  F3  F4\n",
      "工場                \n",
      "W1  28   7   0   0\n",
      "W2   0   0  31   5\n",
      "W3   0  22   0  20\n",
      "総輸送コスト:1296.0\n"
     ]
    }
   ],
   "source": [
    "import numpy as np\n",
    "import pandas as pd\n",
    "from itertools import product\n",
    "from pulp import LpVariable, lpSum, value\n",
    "from ortoolpy import model_min, addvars, addvals\n",
    "\n",
    "#データ読み込み\n",
    "df_tc = pd.read_csv(\"./sample_100knocks/サンプルコード_20200325/7章/trans_cost.csv\", index_col=\"工場\")\n",
    "df_demand = pd.read_csv(\"./sample_100knocks/サンプルコード_20200325/7章/demand.csv\")\n",
    "df_supply = pd.read_csv(\"./sample_100knocks/サンプルコード_20200325/7章/supply.csv\")\n",
    "\n",
    "#初期設定\n",
    "np.random.seed(1)\n",
    "nw = len(df_tc.index)\n",
    "nf = len(df_tc.columns)\n",
    "pr = list(product(range(nw), range(nf)))\n",
    "\n",
    "#数理モデル作成\n",
    "m1 = model_min()\n",
    "v1 = {(i, j):LpVariable(\"v%d_%d\"%(i, j), lowBound=0) for i,j in pr}\n",
    "m1 += lpSum(df_tc.iloc[i][j]*v1[i, j] for i,j in pr)\n",
    "\n",
    "for i in range(nw):\n",
    "    m1 += lpSum(v1[i, j] for j in range(nf)) <= df_supply.iloc[0][i]\n",
    "for j in range(nf):\n",
    "    m1 += lpSum(v1[i, j] for i in range(nw)) >= df_demand.iloc[0][j]\n",
    "m1.solve()\n",
    "\n",
    "#総輸送コスト計算\n",
    "df_tr_sol = df_tc.copy()\n",
    "total_cost = 0\n",
    "\n",
    "for k ,x in v1.items():\n",
    "    i,j = k[0],k[1]\n",
    "    print(\"i:\" + str(int(i)) + \" j:\" + str(int(j)))\n",
    "    df_tr_sol.iloc[i][j] = value(x)\n",
    "    total_cost += df_tc.iloc[i][j]*value(x)\n",
    "\n",
    "print(df_tr_sol)\n",
    "print(\"総輸送コスト:\"+str(total_cost))"
   ]
  },
  {
   "cell_type": "code",
   "execution_count": 66,
   "metadata": {},
   "outputs": [
    {
     "data": {
      "image/png": "[encoded data removed]",
      "text/plain": [
       "<Figure size 432x288 with 1 Axes>"
      ]
     },
     "metadata": {},
     "output_type": "display_data"
    }
   ],
   "source": [
    "import pandas as pd\n",
    "import matplotlib.pyplot as plt\n",
    "import networkx as nx\n",
    "\n",
    "#データ読み込み\n",
    "df_pos = pd.read_csv(\"./sample_100knocks/サンプルコード_20200325/7章/trans_route_pos.csv\")\n",
    "\n",
    "#グラフオブジェクトの作成\n",
    "G = nx.Graph()\n",
    "\n",
    "#エッジの重みのリスト化\n",
    "size = 0.1\n",
    "edge_weights = []\n",
    "for i in range(len(df_tr_sol.columns)):\n",
    "    for j in range(len(df_tr_sol.index)):\n",
    "        edge_weights.append(df_tr_sol.iloc[j][i]*size)\n",
    "\n",
    "#グラフオブジェクトの作成\n",
    "G = nx.Graph()\n",
    "\n",
    "#頂点の設定\n",
    "for i in range(len(df_tr_sol.columns)):\n",
    "    G.add_node(df_tr_sol.columns[i])\n",
    "\n",
    "for i in range(len(df_tr_sol.index)):\n",
    "    G.add_node(df_tr_sol.index[i])\n",
    "\n",
    "    \n",
    "#辺の設定\n",
    "for i in range(len(df_tr_sol.columns)):\n",
    "    for j in range(len(df_tr_sol.index)):\n",
    "        G.add_edge(df_tr_sol.columns[i], df_tr_sol.index[j])\n",
    "\n",
    "#座標の設定\n",
    "pos={}\n",
    "for i in range(len(df_pos.columns)):\n",
    "    node = df_pos.columns[i]\n",
    "    pos[node] = (df_pos[node][0], df_pos[node][1])\n",
    "\n",
    "#描画\n",
    "nx.draw(G, pos, with_labels=True, font_size=16, node_size=1000, node_color=\"k\", font_color=\"w\", width=edge_weights)\n",
    "\n",
    "#表示\n",
    "plt.show()\n"
   ]
  },
  {
   "cell_type": "code",
   "execution_count": 91,
   "metadata": {},
   "outputs": [
    {
     "name": "stdout",
     "output_type": "stream",
     "text": [
      "需要条件計算結果：[1. 1. 1. 1.]\n",
      "供給条件計算結果：[1. 1. 1.]\n"
     ]
    }
   ],
   "source": [
    "import pandas as pd\n",
    "import numpy as np\n",
    "\n",
    "\n",
    "#読み込み対象データ：df_tr_sol\n",
    "df_demand = pd.read_csv(\"./sample_100knocks/サンプルコード_20200325/7章/demand.csv\")\n",
    "df_supply = pd.read_csv(\"./sample_100knocks/サンプルコード_20200325/7章/supply.csv\")\n",
    "\n",
    "#制約条件の計算関数\n",
    "#需要側\n",
    "def condition_demand(df_tr, df_demand):\n",
    "    flag = np.zeros(len(df_demand.columns))\n",
    "    for i in range(len(df_demand.columns)):\n",
    "        temp_sum = sum(df_tr[df_demand.columns[i]])\n",
    "        if (temp_sum >= df_demand.iloc[0][i]):\n",
    "            flag[i] = 1\n",
    "    return flag\n",
    "\n",
    "#供給側\n",
    "def condition_supply(df_tr, df_supply):\n",
    "    flag = np.zeros(len(df_supply.columns))\n",
    "    for i in range(len(df_supply.columns)):\n",
    "        temp_sum = sum(df_tr.loc[df_supply.columns[i]])\n",
    "        if (temp_sum <= df_supply.iloc[0][i]):\n",
    "            flag[i] = 1\n",
    "    return flag\n",
    "\n",
    "print(\"需要条件計算結果：\"+str(condition_demand(df_tr_sol, df_demand)))\n",
    "print(\"供給条件計算結果：\"+str(condition_supply(df_tr_sol, df_supply)))\n"
   ]
  },
  {
   "cell_type": "markdown",
   "metadata": {},
   "source": [
    "temp_sum = sum(df_tr.loc[df_supply.columns[i]])\n",
    "\n",
    "df_tr_solは4列、df_supplyは3列。\n",
    "df_supplyの3\"列\"(W1~3)を、df_tr_solの3\"行\"に合わせ込むには、  \n",
    "(というよりは列で行を参照させるには、)locを使用する。\n",
    "文字列で検索する場合はlocを、セル番号で検索する場合はilocを使う。"
   ]
  },
  {
   "cell_type": "code",
   "execution_count": 103,
   "metadata": {},
   "outputs": [
    {
     "name": "stdout",
     "output_type": "stream",
     "text": [
      "     原料1  原料2  原料3\n",
      "製品                \n",
      "製品1    1    4    3\n",
      "製品2    2    4    1\n",
      "      利益\n",
      "製品      \n",
      "製品1  5.0\n",
      "製品2  4.0\n",
      "    原料1  原料2  原料3\n",
      "項目               \n",
      "在庫   40   80   50\n",
      "      生産量\n",
      "製品       \n",
      "製品1    16\n",
      "製品2     0\n"
     ]
    }
   ],
   "source": [
    "import pandas as pd\n",
    "\n",
    "df_material = pd.read_csv(\"./sample_100knocks/サンプルコード_20200325/7章/product_plan_material.csv\", index_col=\"製品\")\n",
    "df_profit =  pd.read_csv(\"./sample_100knocks/サンプルコード_20200325/7章/product_plan_profit.csv\", index_col=\"製品\")\n",
    "df_stock =  pd.read_csv(\"./sample_100knocks/サンプルコード_20200325/7章/product_plan_stock.csv\", index_col=\"項目\")\n",
    "df_plan =  pd.read_csv(\"./sample_100knocks/サンプルコード_20200325/7章/product_plan.csv\", index_col=\"製品\")\n",
    "\n",
    "print(df_material)\n",
    "print(df_profit)\n",
    "print(df_stock)\n",
    "print(df_plan)"
   ]
  },
  {
   "cell_type": "code",
   "execution_count": 99,
   "metadata": {},
   "outputs": [
    {
     "name": "stdout",
     "output_type": "stream",
     "text": [
      "総利益：80.0\n"
     ]
    }
   ],
   "source": [
    "#knock65 利益を計算する関数\n",
    "def product_plan(df_profit, df_plan):\n",
    "    profit = 0\n",
    "    for i in range(len(df_profit.index)):\n",
    "        profit += df_profit.iloc[i][0] * df_plan.loc[df_profit.index].iloc[i][0]\n",
    "    return profit\n",
    "print(\"総利益：\"+str(product_plan(df_profit, df_plan)))"
   ]
  },
  {
   "cell_type": "code",
   "execution_count": 114,
   "metadata": {},
   "outputs": [
    {
     "name": "stdout",
     "output_type": "stream",
     "text": [
      "{0: v0, 1: v1}\n",
      "NoName:\n",
      "MAXIMIZE\n",
      "5.0*v0 + 4.0*v1 + 0.0\n",
      "VARIABLES\n",
      "v0 Continuous\n",
      "v1 Continuous\n",
      "\n",
      "NoName:\n",
      "MAXIMIZE\n",
      "5.0*v0 + 4.0*v1 + 0.0\n",
      "SUBJECT TO\n",
      "_C1: v0 + 2 v1 <= 40\n",
      "\n",
      "_C2: 4 v0 + 4 v1 <= 80\n",
      "\n",
      "_C3: 3 v0 + v1 <= 50\n",
      "\n",
      "VARIABLES\n",
      "v0 Continuous\n",
      "v1 Continuous\n",
      "\n",
      "      生産量\n",
      "製品       \n",
      "製品1  15.0\n",
      "製品2   5.0\n",
      "総利益:95.0\n"
     ]
    }
   ],
   "source": [
    "#knock66 利益最適化問題\n",
    "import numpy as np\n",
    "import pandas as pd\n",
    "from itertools import product\n",
    "from pulp import LpVariable, lpSum, value\n",
    "from ortoolpy import model_max, addvars, addvals\n",
    "\n",
    "\n",
    "df_copy = df_material.copy()\n",
    "inv = df_stock\n",
    "\n",
    "#数理モデル作成\n",
    "m = model_max()\n",
    "v1 = {(i):LpVariable(\"v%d\"%(i), lowBound=0) for i in range(len(df_profit))}\n",
    "m += lpSum(df_profit.iloc[i]*v1[i] for i in range(len(df_profit)))\n",
    "print(v1)\n",
    "print(m)\n",
    "\n",
    "for i in range(len(df_material.columns)):\n",
    "    m += lpSum(df_material.iloc[j, i]*v1[j] for j in range(len(df_profit))) <= df_stock.iloc[:,i]\n",
    "m.solve()\n",
    "\n",
    "print(m)\n",
    "\n",
    "df_plan_sol = df_plan.copy()\n",
    "for k, x in v1.items():\n",
    "    df_plan_sol.iloc[k] = value(x)\n",
    "print(df_plan_sol)\n",
    "print(\"総利益:\"+str(value(m.objective)))"
   ]
  },
  {
   "cell_type": "code",
   "execution_count": 125,
   "metadata": {},
   "outputs": [
    {
     "name": "stdout",
     "output_type": "stream",
     "text": [
      "原料1使用量:25.0, 在庫:40\n",
      "原料2使用量:80.0, 在庫:80\n",
      "原料3使用量:50.0, 在庫:50\n",
      "制約条件計算結果:[1. 1. 1.]\n"
     ]
    }
   ],
   "source": [
    "#knock 67制約条件の計算関数\n",
    "def condition_stock(df_plan,df_material, df_stock):\n",
    "    flag = np.zeros(len(df_material.columns))\n",
    "    for i in range(len(df_material.columns)):\n",
    "        temp_sum = 0\n",
    "        for j in range(len(df_material.index)):\n",
    "            temp_sum += float(df_plan.iloc[j]) * df_material.iloc[j][i]\n",
    "        if temp_sum <= float(df_stock.iloc[0][i]):\n",
    "            flag[i] = 1\n",
    "        print(df_material.columns[i]+\"使用量:\"+str(temp_sum)+\", 在庫:\"+str(df_stock.iloc[0][i]))\n",
    "    return flag\n",
    "\n",
    "print(\"制約条件計算結果:\"+str(condition_stock(df_plan_sol, df_material, df_stock)))\n"
   ]
  },
  {
   "cell_type": "code",
   "execution_count": 139,
   "metadata": {},
   "outputs": [
    {
     "name": "stdout",
     "output_type": "stream",
     "text": [
      "  需要地 工場  輸送費\n",
      "0   P  X    1\n",
      "1   P  Y    2\n",
      "2   Q  X    3\n",
      "3   Q  Y    1\n",
      "  需要地 製品  需要\n",
      "0   P  A  10\n",
      "1   P  B  10\n",
      "2   Q  A  20\n",
      "3   Q  B  20\n",
      "  工場  レーン 製品  下限    上限  生産費\n",
      "0  X    0  A   0   inf  1.0\n",
      "3  X    1  B   0   inf  1.0\n",
      "4  Y    0  A   0  10.0  3.0\n",
      "6  Y    1  A   0   inf  5.0\n",
      "7  Y    1  B   0   inf  3.0\n",
      "  工場  レーン 製品  下限    上限  生産費     VarY  ValY\n",
      "0  X    0  A   0   inf  1.0  v000061  20.0\n",
      "3  X    1  B   0   inf  1.0  v000062  10.0\n",
      "4  Y    0  A   0  10.0  3.0  v000063  10.0\n",
      "6  Y    1  A   0   inf  5.0  v000064   0.0\n",
      "7  Y    1  B   0   inf  3.0  v000065  20.0\n",
      "  需要地 工場  輸送費 製品     VarX  ValX\n",
      "0   P  X    1  A  v000053  10.0\n",
      "1   P  X    1  B  v000054  10.0\n",
      "2   Q  X    3  A  v000055  10.0\n",
      "3   Q  X    3  B  v000056   0.0\n",
      "4   P  Y    2  A  v000057   0.0\n",
      "5   P  Y    2  B  v000058   0.0\n",
      "6   Q  Y    1  A  v000059  10.0\n",
      "7   Q  Y    1  B  v000060  20.0\n"
     ]
    }
   ],
   "source": [
    "#knock68\n",
    "import numpy as np\n",
    "import pandas as pd\n",
    "\n",
    "製品 = list(\"AB\")\n",
    "需要地 = list(\"PQ\")\n",
    "工場 = list(\"XY\")\n",
    "レーン = (2, 2)\n",
    "\n",
    "#輸送費表\n",
    "tbdi = pd.DataFrame(((j, k) for j in 需要地 for k in 工場), columns=[\"需要地\", \"工場\"])\n",
    "tbdi[\"輸送費\"] = [1, 2, 3, 1]\n",
    "print(tbdi)\n",
    "\n",
    "#需要表\n",
    "tbde = pd.DataFrame(((j, i) for j in 需要地 for i in 製品), columns=[\"需要地\", \"製品\"])\n",
    "tbde[\"需要\"] = [10, 10, 20, 20]\n",
    "print(tbde)\n",
    "\n",
    "#生産表\n",
    "tbfa = pd.DataFrame(((k, l, i, 0, np.inf) for k,nl in zip (工場, レーン) for l in range(nl) for i in 製品), columns=[\"工場\", \"レーン\", \"製品\", \"下限\", \"上限\"])\n",
    "tbfa[\"生産費\"] = [1, np.nan, np.nan, 1, 3, np.nan, 5, 3]\n",
    "tbfa.dropna(inplace=True)\n",
    "tbfa.loc[4, \"上限\"] = 10\n",
    "print(tbfa)\n",
    "\n",
    "from ortoolpy import logistics_network\n",
    "_, tbdi2, _ = logistics_network(tbde, tbdi, tbfa)\n",
    "print(tbfa)\n",
    "print(tbdi2)"
   ]
  },
  {
   "cell_type": "code",
   "execution_count": 145,
   "metadata": {},
   "outputs": [
    {
     "name": "stdout",
     "output_type": "stream",
     "text": [
      "輸送費:80.0\n"
     ]
    }
   ],
   "source": [
    "#knock69\n",
    "trans_cost = 0\n",
    "for i in range(len(tbdi2.index)):\n",
    "    trans_cost += tbdi2[\"輸送費\"].iloc[i] * tbdi2[\"ValX\"].iloc[i]\n",
    "print(\"輸送費:\"+str(trans_cost))"
   ]
  },
  {
   "cell_type": "code",
   "execution_count": 147,
   "metadata": {},
   "outputs": [
    {
     "name": "stdout",
     "output_type": "stream",
     "text": [
      "生産費:120.0\n"
     ]
    }
   ],
   "source": [
    "#knock70\n",
    "product_cost = 0\n",
    "for i in range(len(tbfa.index)):\n",
    "    product_cost += tbfa[\"生産費\"].iloc[i] * tbfa[\"ValY\"].iloc[i]\n",
    "print(\"生産費:\"+str(product_cost))"
   ]
  },
  {
   "cell_type": "code",
   "execution_count": null,
   "metadata": {},
   "outputs": [],
   "source": []
  }
 ],
 "metadata": {
  "kernelspec": {
   "display_name": "Python 3",
   "language": "python",
   "name": "python3"
  },
  "language_info": {
   "codemirror_mode": {
    "name": "ipython",
    "version": 3
   },
   "file_extension": ".py",
   "mimetype": "text/x-python",
   "name": "python",
   "nbconvert_exporter": "python",
   "pygments_lexer": "ipython3",
   "version": "3.7.3"
  }
 },
 "nbformat": 4,
 "nbformat_minor": 2
}
