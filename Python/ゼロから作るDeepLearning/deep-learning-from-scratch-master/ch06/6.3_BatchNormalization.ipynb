{
 "cells": [
  {
   "cell_type": "markdown",
   "metadata": {},
   "source": [
    "## BatchNormalizationのアルゴリズム"
   ]
  },
  {
   "cell_type": "code",
   "execution_count": 1,
   "metadata": {},
   "outputs": [
    {
     "name": "stdout",
     "output_type": "stream",
     "text": [
      "============== 1/16 ==============\n",
      "epoch:0 | 0.097 - 0.094\n",
      "epoch:1 | 0.097 - 0.078\n",
      "epoch:2 | 0.097 - 0.147\n",
      "epoch:3 | 0.097 - 0.177\n",
      "epoch:4 | 0.097 - 0.19\n",
      "epoch:5 | 0.097 - 0.217\n",
      "epoch:6 | 0.097 - 0.235\n",
      "epoch:7 | 0.097 - 0.262\n",
      "epoch:8 | 0.097 - 0.273\n",
      "epoch:9 | 0.097 - 0.287\n",
      "epoch:10 | 0.097 - 0.309\n",
      "epoch:11 | 0.097 - 0.32\n",
      "epoch:12 | 0.097 - 0.343\n",
      "epoch:13 | 0.097 - 0.356\n",
      "epoch:14 | 0.097 - 0.378\n",
      "epoch:15 | 0.097 - 0.396\n",
      "epoch:16 | 0.097 - 0.401\n",
      "epoch:17 | 0.097 - 0.414\n",
      "epoch:18 | 0.097 - 0.421\n",
      "epoch:19 | 0.097 - 0.417"
     ]
    },
    {
     "name": "stderr",
     "output_type": "stream",
     "text": [
      "No handles with labels found to put in legend.\n"
     ]
    },
    {
     "name": "stdout",
     "output_type": "stream",
     "text": [
      "\n",
      "============== 2/16 ==============\n",
      "epoch:0 | 0.097 - 0.099\n",
      "epoch:1 | 0.097 - 0.099\n"
     ]
    },
    {
     "name": "stderr",
     "output_type": "stream",
     "text": [
      "..\\common\\multi_layer_net_extend.py:101: RuntimeWarning: overflow encountered in square\n",
      "  weight_decay += 0.5 * self.weight_decay_lambda * np.sum(W**2)\n",
      "C:\\Users\\GALLERIA_KY\\anaconda3\\lib\\site-packages\\numpy\\core\\fromnumeric.py:87: RuntimeWarning: overflow encountered in reduce\n",
      "  return ufunc.reduce(obj, axis, dtype, out, **passkwargs)\n",
      "..\\common\\multi_layer_net_extend.py:101: RuntimeWarning: invalid value encountered in double_scalars\n",
      "  weight_decay += 0.5 * self.weight_decay_lambda * np.sum(W**2)\n",
      "..\\common\\functions.py:32: RuntimeWarning: invalid value encountered in subtract\n",
      "  x = x - np.max(x, axis=-1, keepdims=True)   # オーバーフロー対策\n"
     ]
    },
    {
     "name": "stdout",
     "output_type": "stream",
     "text": [
      "epoch:2 | 0.097 - 0.121\n",
      "epoch:3 | 0.097 - 0.144\n",
      "epoch:4 | 0.097 - 0.168\n",
      "epoch:5 | 0.097 - 0.197\n",
      "epoch:6 | 0.097 - 0.235\n",
      "epoch:7 | 0.097 - 0.262\n",
      "epoch:8 | 0.097 - 0.283\n",
      "epoch:9 | 0.097 - 0.306\n",
      "epoch:10 | 0.097 - 0.336\n",
      "epoch:11 | 0.097 - 0.361\n",
      "epoch:12 | 0.097 - 0.37\n",
      "epoch:13 | 0.097 - 0.39\n",
      "epoch:14 | 0.097 - 0.413\n",
      "epoch:15 | 0.097 - 0.438\n",
      "epoch:16 | 0.097 - 0.45\n",
      "epoch:17 | 0.097 - 0.455\n",
      "epoch:18 | 0.097 - 0.472\n",
      "epoch:19 | 0.097 - 0.495\n"
     ]
    },
    {
     "name": "stderr",
     "output_type": "stream",
     "text": [
      "No handles with labels found to put in legend.\n"
     ]
    },
    {
     "name": "stdout",
     "output_type": "stream",
     "text": [
      "============== 3/16 ==============\n",
      "epoch:0 | 0.113 - 0.113\n",
      "epoch:1 | 0.335 - 0.121\n",
      "epoch:2 | 0.507 - 0.156\n",
      "epoch:3 | 0.63 - 0.196\n",
      "epoch:4 | 0.699 - 0.237\n",
      "epoch:5 | 0.757 - 0.278\n",
      "epoch:6 | 0.809 - 0.309\n",
      "epoch:7 | 0.844 - 0.345\n",
      "epoch:8 | 0.885 - 0.385\n",
      "epoch:9 | 0.904 - 0.423\n",
      "epoch:10 | 0.923 - 0.452\n",
      "epoch:11 | 0.933 - 0.481\n",
      "epoch:12 | 0.949 - 0.522\n",
      "epoch:13 | 0.954 - 0.545\n",
      "epoch:14 | 0.962 - 0.573\n",
      "epoch:15 | 0.974 - 0.584\n",
      "epoch:16 | 0.982 - 0.605\n",
      "epoch:17 | 0.982 - 0.625\n",
      "epoch:18 | 0.988 - 0.638\n",
      "epoch:19 | 0.989 - 0.66"
     ]
    },
    {
     "name": "stderr",
     "output_type": "stream",
     "text": [
      "No handles with labels found to put in legend.\n"
     ]
    },
    {
     "name": "stdout",
     "output_type": "stream",
     "text": [
      "\n",
      "============== 4/16 ==============\n",
      "epoch:0 | 0.11 - 0.074\n",
      "epoch:1 | 0.319 - 0.098\n",
      "epoch:2 | 0.417 - 0.186\n",
      "epoch:3 | 0.489 - 0.257\n",
      "epoch:4 | 0.583 - 0.306\n",
      "epoch:5 | 0.616 - 0.361\n",
      "epoch:6 | 0.665 - 0.415\n",
      "epoch:7 | 0.704 - 0.471\n",
      "epoch:8 | 0.735 - 0.527\n",
      "epoch:9 | 0.748 - 0.576\n",
      "epoch:10 | 0.789 - 0.611\n",
      "epoch:11 | 0.786 - 0.654\n",
      "epoch:12 | 0.814 - 0.678\n",
      "epoch:13 | 0.827 - 0.695\n",
      "epoch:14 | 0.825 - 0.724\n",
      "epoch:15 | 0.838 - 0.744\n",
      "epoch:16 | 0.833 - 0.753\n",
      "epoch:17 | 0.847 - 0.764\n",
      "epoch:18 | 0.853 - 0.774"
     ]
    },
    {
     "name": "stderr",
     "output_type": "stream",
     "text": [
      "No handles with labels found to put in legend.\n"
     ]
    },
    {
     "name": "stdout",
     "output_type": "stream",
     "text": [
      "\n",
      "epoch:19 | 0.878 - 0.787\n",
      "============== 5/16 ==============\n",
      "epoch:0 | 0.07 - 0.169\n",
      "epoch:1 | 0.07 - 0.192\n",
      "epoch:2 | 0.083 - 0.286\n",
      "epoch:3 | 0.084 - 0.399\n",
      "epoch:4 | 0.083 - 0.469\n",
      "epoch:5 | 0.091 - 0.518\n",
      "epoch:6 | 0.093 - 0.58\n",
      "epoch:7 | 0.098 - 0.639\n",
      "epoch:8 | 0.103 - 0.681\n",
      "epoch:9 | 0.11 - 0.714\n",
      "epoch:10 | 0.117 - 0.741\n",
      "epoch:11 | 0.135 - 0.766\n",
      "epoch:12 | 0.154 - 0.789\n",
      "epoch:13 | 0.17 - 0.81\n",
      "epoch:14 | 0.191 - 0.827\n",
      "epoch:15 | 0.206 - 0.839\n",
      "epoch:16 | 0.238 - 0.857\n",
      "epoch:17 | 0.259 - 0.872\n",
      "epoch:18 | 0.26 - 0.878\n",
      "epoch:19 | 0.28 - 0.889\n"
     ]
    },
    {
     "name": "stderr",
     "output_type": "stream",
     "text": [
      "No handles with labels found to put in legend.\n"
     ]
    },
    {
     "name": "stdout",
     "output_type": "stream",
     "text": [
      "============== 6/16 ==============\n",
      "epoch:0 | 0.075 - 0.078\n",
      "epoch:1 | 0.064 - 0.202\n",
      "epoch:2 | 0.117 - 0.458\n",
      "epoch:3 | 0.117 - 0.591\n",
      "epoch:4 | 0.117 - 0.659\n",
      "epoch:5 | 0.117 - 0.696\n",
      "epoch:6 | 0.117 - 0.734\n",
      "epoch:7 | 0.117 - 0.769\n",
      "epoch:8 | 0.117 - 0.787\n",
      "epoch:9 | 0.117 - 0.824\n",
      "epoch:10 | 0.117 - 0.845\n",
      "epoch:11 | 0.117 - 0.861\n",
      "epoch:12 | 0.117 - 0.878\n",
      "epoch:13 | 0.117 - 0.893\n",
      "epoch:14 | 0.117 - 0.907\n",
      "epoch:15 | 0.117 - 0.916\n",
      "epoch:16 | 0.117 - 0.924\n",
      "epoch:17 | 0.117 - 0.931\n",
      "epoch:18 | 0.117 - 0.938\n"
     ]
    },
    {
     "name": "stderr",
     "output_type": "stream",
     "text": [
      "No handles with labels found to put in legend.\n"
     ]
    },
    {
     "name": "stdout",
     "output_type": "stream",
     "text": [
      "epoch:19 | 0.117 - 0.944\n",
      "============== 7/16 ==============\n",
      "epoch:0 | 0.105 - 0.123\n",
      "epoch:1 | 0.116 - 0.277\n",
      "epoch:2 | 0.105 - 0.617\n",
      "epoch:3 | 0.105 - 0.743\n",
      "epoch:4 | 0.117 - 0.791\n",
      "epoch:5 | 0.116 - 0.831\n",
      "epoch:6 | 0.117 - 0.849\n",
      "epoch:7 | 0.117 - 0.881\n",
      "epoch:8 | 0.117 - 0.903\n",
      "epoch:9 | 0.117 - 0.918\n",
      "epoch:10 | 0.117 - 0.928\n",
      "epoch:11 | 0.117 - 0.938\n",
      "epoch:12 | 0.117 - 0.955\n",
      "epoch:13 | 0.117 - 0.964\n",
      "epoch:14 | 0.117 - 0.973\n",
      "epoch:15 | 0.117 - 0.979\n",
      "epoch:16 | 0.117 - 0.984\n",
      "epoch:17 | 0.117 - 0.986\n"
     ]
    },
    {
     "name": "stderr",
     "output_type": "stream",
     "text": [
      "No handles with labels found to put in legend.\n"
     ]
    },
    {
     "name": "stdout",
     "output_type": "stream",
     "text": [
      "epoch:18 | 0.117 - 0.991\n",
      "epoch:19 | 0.117 - 0.995\n",
      "============== 8/16 ==============\n",
      "epoch:0 | 0.097 - 0.106\n",
      "epoch:1 | 0.099 - 0.343\n",
      "epoch:2 | 0.116 - 0.655\n",
      "epoch:3 | 0.117 - 0.774\n",
      "epoch:4 | 0.117 - 0.847\n",
      "epoch:5 | 0.117 - 0.867\n",
      "epoch:6 | 0.117 - 0.896\n",
      "epoch:7 | 0.117 - 0.922\n",
      "epoch:8 | 0.117 - 0.937\n",
      "epoch:9 | 0.117 - 0.95\n",
      "epoch:10 | 0.117 - 0.962\n",
      "epoch:11 | 0.117 - 0.975\n",
      "epoch:12 | 0.117 - 0.983\n",
      "epoch:13 | 0.116 - 0.986\n",
      "epoch:14 | 0.117 - 0.988\n",
      "epoch:15 | 0.117 - 0.994\n",
      "epoch:16 | 0.117 - 0.994\n",
      "epoch:17 | 0.117 - 0.995\n",
      "epoch:18 | 0.117 - 0.996"
     ]
    },
    {
     "name": "stderr",
     "output_type": "stream",
     "text": [
      "No handles with labels found to put in legend.\n"
     ]
    },
    {
     "name": "stdout",
     "output_type": "stream",
     "text": [
      "\n",
      "epoch:19 | 0.117 - 0.996\n",
      "============== 9/16 ==============\n",
      "epoch:0 | 0.116 - 0.14\n",
      "epoch:1 | 0.1 - 0.614\n",
      "epoch:2 | 0.116 - 0.77\n",
      "epoch:3 | 0.117 - 0.829\n",
      "epoch:4 | 0.116 - 0.875\n",
      "epoch:5 | 0.116 - 0.935\n",
      "epoch:6 | 0.116 - 0.952\n",
      "epoch:7 | 0.116 - 0.979\n",
      "epoch:8 | 0.116 - 0.981\n",
      "epoch:9 | 0.116 - 0.991\n",
      "epoch:10 | 0.117 - 0.995\n",
      "epoch:11 | 0.116 - 0.995\n",
      "epoch:12 | 0.116 - 0.998\n",
      "epoch:13 | 0.116 - 0.997\n",
      "epoch:14 | 0.116 - 1.0\n",
      "epoch:15 | 0.116 - 1.0\n",
      "epoch:16 | 0.116 - 1.0\n",
      "epoch:17 | 0.116 - 1.0\n"
     ]
    },
    {
     "name": "stderr",
     "output_type": "stream",
     "text": [
      "No handles with labels found to put in legend.\n"
     ]
    },
    {
     "name": "stdout",
     "output_type": "stream",
     "text": [
      "epoch:18 | 0.116 - 1.0\n",
      "epoch:19 | 0.116 - 1.0\n",
      "============== 10/16 ==============\n",
      "epoch:0 | 0.097 - 0.119\n",
      "epoch:1 | 0.094 - 0.612\n",
      "epoch:2 | 0.116 - 0.786\n",
      "epoch:3 | 0.116 - 0.802\n",
      "epoch:4 | 0.116 - 0.874\n",
      "epoch:5 | 0.116 - 0.883\n",
      "epoch:6 | 0.116 - 0.957\n",
      "epoch:7 | 0.116 - 0.943\n",
      "epoch:8 | 0.116 - 0.965\n",
      "epoch:9 | 0.116 - 0.986\n",
      "epoch:10 | 0.116 - 0.981\n",
      "epoch:11 | 0.116 - 0.992\n",
      "epoch:12 | 0.116 - 0.995\n",
      "epoch:13 | 0.116 - 0.996\n",
      "epoch:14 | 0.116 - 0.998\n",
      "epoch:15 | 0.116 - 0.998\n",
      "epoch:16 | 0.116 - 0.998\n",
      "epoch:17 | 0.117 - 0.998\n",
      "epoch:18 | 0.116 - 0.998\n",
      "epoch:19 | 0.117 - 0.999"
     ]
    },
    {
     "name": "stderr",
     "output_type": "stream",
     "text": [
      "No handles with labels found to put in legend.\n"
     ]
    },
    {
     "name": "stdout",
     "output_type": "stream",
     "text": [
      "\n",
      "============== 11/16 ==============\n",
      "epoch:0 | 0.105 - 0.22\n",
      "epoch:1 | 0.117 - 0.521\n",
      "epoch:2 | 0.117 - 0.603\n",
      "epoch:3 | 0.117 - 0.659\n",
      "epoch:4 | 0.117 - 0.808\n",
      "epoch:5 | 0.116 - 0.846\n",
      "epoch:6 | 0.116 - 0.751\n",
      "epoch:7 | 0.116 - 0.868\n",
      "epoch:8 | 0.116 - 0.885\n",
      "epoch:9 | 0.116 - 0.704\n",
      "epoch:10 | 0.116 - 0.881\n",
      "epoch:11 | 0.116 - 0.895\n",
      "epoch:12 | 0.116 - 0.899\n",
      "epoch:13 | 0.116 - 0.899\n",
      "epoch:14 | 0.116 - 0.898\n",
      "epoch:15 | 0.116 - 0.899\n",
      "epoch:16 | 0.116 - 0.9\n"
     ]
    },
    {
     "name": "stderr",
     "output_type": "stream",
     "text": [
      "No handles with labels found to put in legend.\n"
     ]
    },
    {
     "name": "stdout",
     "output_type": "stream",
     "text": [
      "epoch:17 | 0.116 - 0.901\n",
      "epoch:18 | 0.116 - 0.903\n",
      "epoch:19 | 0.116 - 0.903\n",
      "============== 12/16 ==============\n",
      "epoch:0 | 0.105 - 0.157\n",
      "epoch:1 | 0.117 - 0.535\n",
      "epoch:2 | 0.117 - 0.654\n",
      "epoch:3 | 0.116 - 0.703\n",
      "epoch:4 | 0.116 - 0.707\n",
      "epoch:5 | 0.117 - 0.752\n",
      "epoch:6 | 0.117 - 0.767\n",
      "epoch:7 | 0.117 - 0.782\n",
      "epoch:8 | 0.117 - 0.808\n",
      "epoch:9 | 0.117 - 0.883\n",
      "epoch:10 | 0.117 - 0.891\n",
      "epoch:11 | 0.117 - 0.954\n",
      "epoch:12 | 0.117 - 0.977\n",
      "epoch:13 | 0.117 - 0.984\n",
      "epoch:14 | 0.117 - 0.981\n",
      "epoch:15 | 0.117 - 0.876\n",
      "epoch:16 | 0.117 - 0.99\n",
      "epoch:17 | 0.117 - 0.987\n",
      "epoch:18 | 0.117 - 0.994\n",
      "epoch:19 | 0.117 - 0.994\n"
     ]
    },
    {
     "name": "stderr",
     "output_type": "stream",
     "text": [
      "No handles with labels found to put in legend.\n"
     ]
    },
    {
     "name": "stdout",
     "output_type": "stream",
     "text": [
      "============== 13/16 ==============\n",
      "epoch:0 | 0.116 - 0.184\n",
      "epoch:1 | 0.117 - 0.228\n",
      "epoch:2 | 0.116 - 0.533\n",
      "epoch:3 | 0.116 - 0.579\n",
      "epoch:4 | 0.116 - 0.493\n",
      "epoch:5 | 0.116 - 0.564\n",
      "epoch:6 | 0.116 - 0.601\n",
      "epoch:7 | 0.116 - 0.591\n",
      "epoch:8 | 0.116 - 0.677\n",
      "epoch:9 | 0.116 - 0.685\n",
      "epoch:10 | 0.116 - 0.684\n",
      "epoch:11 | 0.116 - 0.692\n",
      "epoch:12 | 0.116 - 0.697\n",
      "epoch:13 | 0.116 - 0.699\n",
      "epoch:14 | 0.116 - 0.702\n",
      "epoch:15 | 0.117 - 0.705\n",
      "epoch:16 | 0.116 - 0.703\n",
      "epoch:17 | 0.116 - 0.705\n",
      "epoch:18 | 0.116 - 0.703\n"
     ]
    },
    {
     "name": "stderr",
     "output_type": "stream",
     "text": [
      "No handles with labels found to put in legend.\n"
     ]
    },
    {
     "name": "stdout",
     "output_type": "stream",
     "text": [
      "epoch:19 | 0.116 - 0.703\n",
      "============== 14/16 ==============\n",
      "epoch:0 | 0.092 - 0.117\n",
      "epoch:1 | 0.116 - 0.319\n",
      "epoch:2 | 0.116 - 0.409\n",
      "epoch:3 | 0.116 - 0.412\n",
      "epoch:4 | 0.116 - 0.483\n",
      "epoch:5 | 0.117 - 0.441\n",
      "epoch:6 | 0.116 - 0.498\n",
      "epoch:7 | 0.116 - 0.507\n",
      "epoch:8 | 0.117 - 0.505\n",
      "epoch:9 | 0.117 - 0.515\n",
      "epoch:10 | 0.117 - 0.52\n",
      "epoch:11 | 0.116 - 0.507\n",
      "epoch:12 | 0.116 - 0.517\n",
      "epoch:13 | 0.116 - 0.522\n",
      "epoch:14 | 0.116 - 0.523\n",
      "epoch:15 | 0.117 - 0.523\n",
      "epoch:16 | 0.116 - 0.523\n"
     ]
    },
    {
     "name": "stderr",
     "output_type": "stream",
     "text": [
      "No handles with labels found to put in legend.\n"
     ]
    },
    {
     "name": "stdout",
     "output_type": "stream",
     "text": [
      "epoch:17 | 0.116 - 0.522\n",
      "epoch:18 | 0.116 - 0.525\n",
      "epoch:19 | 0.116 - 0.521\n",
      "============== 15/16 ==============\n",
      "epoch:0 | 0.099 - 0.101\n",
      "epoch:1 | 0.099 - 0.29\n",
      "epoch:2 | 0.099 - 0.3\n",
      "epoch:3 | 0.117 - 0.403\n",
      "epoch:4 | 0.117 - 0.416\n",
      "epoch:5 | 0.117 - 0.416\n",
      "epoch:6 | 0.117 - 0.399\n",
      "epoch:7 | 0.117 - 0.417\n",
      "epoch:8 | 0.117 - 0.418\n",
      "epoch:9 | 0.117 - 0.402\n",
      "epoch:10 | 0.117 - 0.418\n",
      "epoch:11 | 0.117 - 0.418\n",
      "epoch:12 | 0.117 - 0.42\n",
      "epoch:13 | 0.117 - 0.42\n",
      "epoch:14 | 0.117 - 0.419\n",
      "epoch:15 | 0.117 - 0.42\n",
      "epoch:16 | 0.117 - 0.42\n",
      "epoch:17 | 0.117 - 0.42\n"
     ]
    },
    {
     "name": "stderr",
     "output_type": "stream",
     "text": [
      "No handles with labels found to put in legend.\n"
     ]
    },
    {
     "name": "stdout",
     "output_type": "stream",
     "text": [
      "epoch:18 | 0.117 - 0.42\n",
      "epoch:19 | 0.117 - 0.42\n",
      "============== 16/16 ==============\n",
      "epoch:0 | 0.099 - 0.184\n",
      "epoch:1 | 0.117 - 0.321\n",
      "epoch:2 | 0.117 - 0.411\n",
      "epoch:3 | 0.117 - 0.416\n",
      "epoch:4 | 0.105 - 0.416\n",
      "epoch:5 | 0.117 - 0.5\n",
      "epoch:6 | 0.117 - 0.51\n",
      "epoch:7 | 0.117 - 0.513\n",
      "epoch:8 | 0.117 - 0.455\n",
      "epoch:9 | 0.117 - 0.468\n",
      "epoch:10 | 0.117 - 0.46\n",
      "epoch:11 | 0.117 - 0.455\n",
      "epoch:12 | 0.117 - 0.433\n",
      "epoch:13 | 0.117 - 0.504\n",
      "epoch:14 | 0.117 - 0.52\n",
      "epoch:15 | 0.117 - 0.522\n",
      "epoch:16 | 0.117 - 0.437\n",
      "epoch:17 | 0.117 - 0.522\n",
      "epoch:18 | 0.117 - 0.595\n",
      "epoch:19 | 0.117 - 0.608\n"
     ]
    },
    {
     "data": {
      "image/png": "[encoded data removed]",
      "text/plain": [
       "<Figure size 432x288 with 16 Axes>"
      ]
     },
     "metadata": {
      "needs_background": "light"
     },
     "output_type": "display_data"
    }
   ],
   "source": [
    "# coding: utf-8\n",
    "import sys, os\n",
    "sys.path.append(os.pardir)  # 親ディレクトリのファイルをインポートするための設定\n",
    "import numpy as np\n",
    "import matplotlib.pyplot as plt\n",
    "from dataset.mnist import load_mnist\n",
    "from common.multi_layer_net_extend import MultiLayerNetExtend\n",
    "from common.optimizer import SGD, Adam\n",
    "\n",
    "(x_train, t_train), (x_test, t_test) = load_mnist(normalize=True)\n",
    "\n",
    "# 学習データを削減\n",
    "x_train = x_train[:1000]\n",
    "t_train = t_train[:1000]\n",
    "\n",
    "max_epochs = 20\n",
    "train_size = x_train.shape[0]\n",
    "batch_size = 100\n",
    "learning_rate = 0.01\n",
    "\n",
    "\n",
    "def __train(weight_init_std):\n",
    "    bn_network = MultiLayerNetExtend(input_size=784, hidden_size_list=[100, 100, 100, 100, 100], output_size=10, \n",
    "                                    weight_init_std=weight_init_std, use_batchnorm=True)\n",
    "    network = MultiLayerNetExtend(input_size=784, hidden_size_list=[100, 100, 100, 100, 100], output_size=10,\n",
    "                                weight_init_std=weight_init_std)\n",
    "    optimizer = SGD(lr=learning_rate)\n",
    "    \n",
    "    train_acc_list = []\n",
    "    bn_train_acc_list = []\n",
    "    \n",
    "    iter_per_epoch = max(train_size / batch_size, 1)\n",
    "    epoch_cnt = 0\n",
    "    \n",
    "    for i in range(1000000000):\n",
    "        batch_mask = np.random.choice(train_size, batch_size)\n",
    "        x_batch = x_train[batch_mask]\n",
    "        t_batch = t_train[batch_mask]\n",
    "    \n",
    "        for _network in (bn_network, network):\n",
    "            grads = _network.gradient(x_batch, t_batch)\n",
    "            optimizer.update(_network.params, grads)\n",
    "    \n",
    "        if i % iter_per_epoch == 0:\n",
    "            train_acc = network.accuracy(x_train, t_train)\n",
    "            bn_train_acc = bn_network.accuracy(x_train, t_train)\n",
    "            train_acc_list.append(train_acc)\n",
    "            bn_train_acc_list.append(bn_train_acc)\n",
    "    \n",
    "            print(\"epoch:\" + str(epoch_cnt) + \" | \" + str(train_acc) + \" - \" + str(bn_train_acc))\n",
    "    \n",
    "            epoch_cnt += 1\n",
    "            if epoch_cnt >= max_epochs:\n",
    "                break\n",
    "                \n",
    "    return train_acc_list, bn_train_acc_list\n",
    "\n",
    "\n",
    "# 3.グラフの描画==========\n",
    "weight_scale_list = np.logspace(0, -4, num=16)\n",
    "x = np.arange(max_epochs)\n",
    "\n",
    "for i, w in enumerate(weight_scale_list):\n",
    "    print( \"============== \" + str(i+1) + \"/16\" + \" ==============\")\n",
    "    train_acc_list, bn_train_acc_list = __train(w)\n",
    "    \n",
    "    plt.subplot(4,4,i+1)\n",
    "    plt.title(\"W:\" + str(w))\n",
    "    if i == 15:\n",
    "        plt.plot(x, bn_train_acc_list, label='Batch Normalization', markevery=2)\n",
    "        plt.plot(x, train_acc_list, linestyle = \"--\", label='Normal(without BatchNorm)', markevery=2)\n",
    "    else:\n",
    "        plt.plot(x, bn_train_acc_list, markevery=2)\n",
    "        plt.plot(x, train_acc_list, linestyle=\"--\", markevery=2)\n",
    "\n",
    "    plt.ylim(0, 1.0)\n",
    "    if i % 4:\n",
    "        plt.yticks([])\n",
    "    else:\n",
    "        plt.ylabel(\"accuracy\")\n",
    "    if i < 12:\n",
    "        plt.xticks([])\n",
    "    else:\n",
    "        plt.xlabel(\"epochs\")\n",
    "    plt.legend(loc='lower right')\n",
    "    \n",
    "plt.show()"
   ]
  },
  {
   "cell_type": "code",
   "execution_count": null,
   "metadata": {},
   "outputs": [],
   "source": []
  }
 ],
 "metadata": {
  "kernelspec": {
   "display_name": "Python 3",
   "language": "python",
   "name": "python3"
  },
  "language_info": {
   "codemirror_mode": {
    "name": "ipython",
    "version": 3
   },
   "file_extension": ".py",
   "mimetype": "text/x-python",
   "name": "python",
   "nbconvert_exporter": "python",
   "pygments_lexer": "ipython3",
   "version": "3.8.5"
  }
 },
 "nbformat": 4,
 "nbformat_minor": 4
}
