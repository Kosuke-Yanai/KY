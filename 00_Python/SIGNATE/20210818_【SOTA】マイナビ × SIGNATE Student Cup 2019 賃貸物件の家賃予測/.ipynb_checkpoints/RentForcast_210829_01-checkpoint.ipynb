{
 "cells": [
  {
   "cell_type": "markdown",
   "metadata": {},
   "source": [
    "# [【SOTA】マイナビ × SIGNATE Student Cup 2019: 賃貸物件の家賃予測](https://signate.jp/competitions/264)"
   ]
  },
  {
   "cell_type": "markdown",
   "metadata": {},
   "source": [
    "## 1. データ読み込み"
   ]
  },
  {
   "cell_type": "code",
   "execution_count": 2,
   "metadata": {},
   "outputs": [],
   "source": [
    "import pandas as pd\n",
    "import numpy as np\n",
    "import pathlib\n",
    "import os\n",
    "\n",
    "# 学習データ、テストデータの読み込み\n",
    "train_path = pathlib.Path(\"./DATA/train.csv\")\n",
    "test_path = pathlib.Path(\"./DATA/test.csv\")\n",
    "\n",
    "train_data = pd.read_csv(train_path)\n",
    "test_data = pd.read_csv(test_path)"
   ]
  },
  {
   "cell_type": "code",
   "execution_count": 2,
   "metadata": {},
   "outputs": [
    {
     "data": {
      "text/html": [
       "<div>\n",
       "<style scoped>\n",
       "    .dataframe tbody tr th:only-of-type {\n",
       "        vertical-align: middle;\n",
       "    }\n",
       "\n",
       "    .dataframe tbody tr th {\n",
       "        vertical-align: top;\n",
       "    }\n",
       "\n",
       "    .dataframe thead th {\n",
       "        text-align: right;\n",
       "    }\n",
       "</style>\n",
       "<table border=\"1\" class=\"dataframe\">\n",
       "  <thead>\n",
       "    <tr style=\"text-align: right;\">\n",
       "      <th></th>\n",
       "      <th>id</th>\n",
       "      <th>所在地</th>\n",
       "      <th>アクセス</th>\n",
       "      <th>間取り</th>\n",
       "      <th>築年数</th>\n",
       "      <th>方角</th>\n",
       "      <th>面積</th>\n",
       "      <th>所在階</th>\n",
       "      <th>バス・トイレ</th>\n",
       "      <th>キッチン</th>\n",
       "      <th>放送・通信</th>\n",
       "      <th>室内設備</th>\n",
       "      <th>駐車場</th>\n",
       "      <th>周辺環境</th>\n",
       "      <th>建物構造</th>\n",
       "      <th>契約期間</th>\n",
       "    </tr>\n",
       "  </thead>\n",
       "  <tbody>\n",
       "    <tr>\n",
       "      <th>0</th>\n",
       "      <td>31471</td>\n",
       "      <td>東京都世田谷区深沢５丁目1-27</td>\n",
       "      <td>東急大井町線\\t等々力駅\\t徒歩15分\\t\\t東急田園都市線\\t桜新町駅\\t徒歩24分\\t\\...</td>\n",
       "      <td>2LDK</td>\n",
       "      <td>49年0ヶ月</td>\n",
       "      <td>南</td>\n",
       "      <td>50.22m2</td>\n",
       "      <td>8階／8階建</td>\n",
       "      <td>専用バス／\\t専用トイレ／\\tバス・トイレ別／\\tシャワー／\\t追焚機能／\\t温水洗浄便座／...</td>\n",
       "      <td>ガスコンロ／\\tコンロ3口／\\tシステムキッチン\\t／\\t給湯／\\tL字キッチン</td>\n",
       "      <td>インターネット対応</td>\n",
       "      <td>エアコン付\\tシューズボックス／\\tバルコニー／\\tフローリング／\\tエレベーター\\t公営水...</td>\n",
       "      <td>駐輪場\\t空有\\t駐車場\\t無\\tバイク置き場\\t無</td>\n",
       "      <td>【コンビニ】 74m\\t【スーパー】 215m\\t【病院】 313m\\t【小学校】 219m...</td>\n",
       "      <td>鉄骨造</td>\n",
       "      <td>NaN</td>\n",
       "    </tr>\n",
       "    <tr>\n",
       "      <th>1</th>\n",
       "      <td>31472</td>\n",
       "      <td>東京都目黒区八雲１丁目11-8</td>\n",
       "      <td>東急東横線\\t都立大学駅\\t徒歩6分\\t\\t東急東横線\\t自由が丘駅\\t徒歩17分\\t\\t東...</td>\n",
       "      <td>1R</td>\n",
       "      <td>0年2ヶ月</td>\n",
       "      <td>南東</td>\n",
       "      <td>20.88m2</td>\n",
       "      <td>3階／4階建</td>\n",
       "      <td>専用バス／\\t専用トイレ／\\tバス・トイレ別／\\tシャワー／\\t浴室乾燥機\\t／\\t温水洗浄...</td>\n",
       "      <td>ガスコンロ／\\tコンロ2口／\\tシステムキッチン\\t／\\t給湯</td>\n",
       "      <td>インターネット対応／\\tCSアンテナ／\\tBSアンテナ／\\tインターネット使用料無料</td>\n",
       "      <td>エアコン付\\tシューズボックス／\\tフローリング／\\t室内洗濯機置場\\t公営水道／\\t下水／...</td>\n",
       "      <td>駐車場\\t近隣\\t34,000円(税込)\\t距離200m\\t駐輪場\\t無\\tバイク置き場\\t無</td>\n",
       "      <td>【スーパー】 128m\\t【スーパー】 313m\\t【コンビニ】 374m\\t【コンビニ】 ...</td>\n",
       "      <td>RC（鉄筋コンクリート）</td>\n",
       "      <td>2年間</td>\n",
       "    </tr>\n",
       "    <tr>\n",
       "      <th>2</th>\n",
       "      <td>31473</td>\n",
       "      <td>東京都豊島区池袋本町２丁目22-2</td>\n",
       "      <td>東武東上線\\t北池袋駅\\t徒歩10分\\t\\t埼京線\\t板橋駅\\t徒歩16分\\t\\t山手線\\t...</td>\n",
       "      <td>1K</td>\n",
       "      <td>23年4ヶ月</td>\n",
       "      <td>南東</td>\n",
       "      <td>26.93m2</td>\n",
       "      <td>1階／4階建</td>\n",
       "      <td>専用バス／\\t専用トイレ／\\tバス・トイレ別／\\tシャワー／\\t温水洗浄便座</td>\n",
       "      <td>ガスコンロ／\\t給湯</td>\n",
       "      <td>インターネット対応／\\t光ファイバー／\\tCATV</td>\n",
       "      <td>エアコン付\\tシューズボックス／\\tバルコニー／\\tフローリング／\\t2面採光／\\t室内洗濯...</td>\n",
       "      <td>駐車場\\t空有\\t5,000円(税込)\\t(敷金あり\\t1ヶ月)\\t駐輪場\\t空有\\tバイク...</td>\n",
       "      <td>【スーパー】 529m\\t【スーパー】 810m\\t【コンビニ】 316m\\t【コンビニ】 ...</td>\n",
       "      <td>鉄骨造</td>\n",
       "      <td>2年間</td>\n",
       "    </tr>\n",
       "    <tr>\n",
       "      <th>3</th>\n",
       "      <td>31474</td>\n",
       "      <td>東京都杉並区和泉１丁目</td>\n",
       "      <td>丸ノ内線(中野坂上－方南町)\\t方南町駅\\t徒歩10分\\t\\t京王線\\t代田橋駅\\t徒歩8分...</td>\n",
       "      <td>1K</td>\n",
       "      <td>36年2ヶ月</td>\n",
       "      <td>南東</td>\n",
       "      <td>23.57m2</td>\n",
       "      <td>1階／2階建</td>\n",
       "      <td>シャワー</td>\n",
       "      <td>ガスコンロ／\\t給湯</td>\n",
       "      <td>NaN</td>\n",
       "      <td>エアコン付\\tシューズボックス／\\t2面採光／\\t室外洗濯機置場\\t公営水道／\\t下水／\\t...</td>\n",
       "      <td>駐輪場\\t空有\\t0円</td>\n",
       "      <td>【スーパー】 286m\\t【スーパー】 702m\\t【コンビニ】 489m\\t【コンビニ】 ...</td>\n",
       "      <td>木造</td>\n",
       "      <td>2年間</td>\n",
       "    </tr>\n",
       "    <tr>\n",
       "      <th>4</th>\n",
       "      <td>31475</td>\n",
       "      <td>東京都杉並区堀ノ内２丁目</td>\n",
       "      <td>丸ノ内線(中野坂上－方南町)\\t方南町駅\\t徒歩12分\\t\\t丸ノ内線(池袋－荻窪)\\t新高...</td>\n",
       "      <td>2LDK</td>\n",
       "      <td>45年4ヶ月</td>\n",
       "      <td>南</td>\n",
       "      <td>50m2</td>\n",
       "      <td>4階／4階建</td>\n",
       "      <td>専用バス／\\t専用トイレ／\\tバス・トイレ別</td>\n",
       "      <td>コンロ設置可（口数不明）／\\t給湯</td>\n",
       "      <td>インターネット対応</td>\n",
       "      <td>冷房／\\tエアコン付\\tシューズボックス／\\tバルコニー／\\tフローリング／\\t室内洗濯機置...</td>\n",
       "      <td>駐車場\\t近隣\\t22,600円\\t距離177m</td>\n",
       "      <td>【コンビニ】 312m\\t【コンビニ】 436m\\t【スーパー】 902m\\t【コンビニ】 ...</td>\n",
       "      <td>RC（鉄筋コンクリート）</td>\n",
       "      <td>2年間</td>\n",
       "    </tr>\n",
       "  </tbody>\n",
       "</table>\n",
       "</div>"
      ],
      "text/plain": [
       "      id                所在地  \\\n",
       "0  31471   東京都世田谷区深沢５丁目1-27   \n",
       "1  31472    東京都目黒区八雲１丁目11-8   \n",
       "2  31473  東京都豊島区池袋本町２丁目22-2   \n",
       "3  31474        東京都杉並区和泉１丁目   \n",
       "4  31475       東京都杉並区堀ノ内２丁目   \n",
       "\n",
       "                                                アクセス   間取り     築年数  方角  \\\n",
       "0  東急大井町線\\t等々力駅\\t徒歩15分\\t\\t東急田園都市線\\t桜新町駅\\t徒歩24分\\t\\...  2LDK  49年0ヶ月   南   \n",
       "1  東急東横線\\t都立大学駅\\t徒歩6分\\t\\t東急東横線\\t自由が丘駅\\t徒歩17分\\t\\t東...    1R   0年2ヶ月  南東   \n",
       "2  東武東上線\\t北池袋駅\\t徒歩10分\\t\\t埼京線\\t板橋駅\\t徒歩16分\\t\\t山手線\\t...    1K  23年4ヶ月  南東   \n",
       "3  丸ノ内線(中野坂上－方南町)\\t方南町駅\\t徒歩10分\\t\\t京王線\\t代田橋駅\\t徒歩8分...    1K  36年2ヶ月  南東   \n",
       "4  丸ノ内線(中野坂上－方南町)\\t方南町駅\\t徒歩12分\\t\\t丸ノ内線(池袋－荻窪)\\t新高...  2LDK  45年4ヶ月   南   \n",
       "\n",
       "        面積     所在階                                             バス・トイレ  \\\n",
       "0  50.22m2  8階／8階建  専用バス／\\t専用トイレ／\\tバス・トイレ別／\\tシャワー／\\t追焚機能／\\t温水洗浄便座／...   \n",
       "1  20.88m2  3階／4階建  専用バス／\\t専用トイレ／\\tバス・トイレ別／\\tシャワー／\\t浴室乾燥機\\t／\\t温水洗浄...   \n",
       "2  26.93m2  1階／4階建             専用バス／\\t専用トイレ／\\tバス・トイレ別／\\tシャワー／\\t温水洗浄便座   \n",
       "3  23.57m2  1階／2階建                                               シャワー   \n",
       "4     50m2  4階／4階建                             専用バス／\\t専用トイレ／\\tバス・トイレ別   \n",
       "\n",
       "                                       キッチン  \\\n",
       "0  ガスコンロ／\\tコンロ3口／\\tシステムキッチン\\t／\\t給湯／\\tL字キッチン   \n",
       "1           ガスコンロ／\\tコンロ2口／\\tシステムキッチン\\t／\\t給湯   \n",
       "2                                ガスコンロ／\\t給湯   \n",
       "3                                ガスコンロ／\\t給湯   \n",
       "4                         コンロ設置可（口数不明）／\\t給湯   \n",
       "\n",
       "                                        放送・通信  \\\n",
       "0                                   インターネット対応   \n",
       "1  インターネット対応／\\tCSアンテナ／\\tBSアンテナ／\\tインターネット使用料無料   \n",
       "2                   インターネット対応／\\t光ファイバー／\\tCATV   \n",
       "3                                         NaN   \n",
       "4                                   インターネット対応   \n",
       "\n",
       "                                                室内設備  \\\n",
       "0  エアコン付\\tシューズボックス／\\tバルコニー／\\tフローリング／\\tエレベーター\\t公営水...   \n",
       "1  エアコン付\\tシューズボックス／\\tフローリング／\\t室内洗濯機置場\\t公営水道／\\t下水／...   \n",
       "2  エアコン付\\tシューズボックス／\\tバルコニー／\\tフローリング／\\t2面採光／\\t室内洗濯...   \n",
       "3  エアコン付\\tシューズボックス／\\t2面採光／\\t室外洗濯機置場\\t公営水道／\\t下水／\\t...   \n",
       "4  冷房／\\tエアコン付\\tシューズボックス／\\tバルコニー／\\tフローリング／\\t室内洗濯機置...   \n",
       "\n",
       "                                                 駐車場  \\\n",
       "0                         駐輪場\\t空有\\t駐車場\\t無\\tバイク置き場\\t無   \n",
       "1    駐車場\\t近隣\\t34,000円(税込)\\t距離200m\\t駐輪場\\t無\\tバイク置き場\\t無   \n",
       "2  駐車場\\t空有\\t5,000円(税込)\\t(敷金あり\\t1ヶ月)\\t駐輪場\\t空有\\tバイク...   \n",
       "3                                        駐輪場\\t空有\\t0円   \n",
       "4                           駐車場\\t近隣\\t22,600円\\t距離177m   \n",
       "\n",
       "                                                周辺環境          建物構造 契約期間  \n",
       "0  【コンビニ】 74m\\t【スーパー】 215m\\t【病院】 313m\\t【小学校】 219m...           鉄骨造  NaN  \n",
       "1  【スーパー】 128m\\t【スーパー】 313m\\t【コンビニ】 374m\\t【コンビニ】 ...  RC（鉄筋コンクリート）  2年間  \n",
       "2  【スーパー】 529m\\t【スーパー】 810m\\t【コンビニ】 316m\\t【コンビニ】 ...           鉄骨造  2年間  \n",
       "3  【スーパー】 286m\\t【スーパー】 702m\\t【コンビニ】 489m\\t【コンビニ】 ...            木造  2年間  \n",
       "4  【コンビニ】 312m\\t【コンビニ】 436m\\t【スーパー】 902m\\t【コンビニ】 ...  RC（鉄筋コンクリート）  2年間  "
      ]
     },
     "execution_count": 2,
     "metadata": {},
     "output_type": "execute_result"
    }
   ],
   "source": [
    "test_data.head()"
   ]
  },
  {
   "cell_type": "markdown",
   "metadata": {},
   "source": [
    "## 2. 前処理"
   ]
  },
  {
   "cell_type": "markdown",
   "metadata": {},
   "source": [
    "### 2.1. データ選択"
   ]
  },
  {
   "cell_type": "code",
   "execution_count": 3,
   "metadata": {},
   "outputs": [],
   "source": [
    "# 簡単な前処理\n",
    "train_data_1 = train_data[[\"id\", \"賃料\", \"間取り\", \"築年数\", \"面積\", \"所在階\"]]\n",
    "test_data_1 = test_data[[\"id\", \"間取り\", \"築年数\", \"面積\", \"所在階\"]]"
   ]
  },
  {
   "cell_type": "markdown",
   "metadata": {},
   "source": [
    "### 2.2. 間取りの数値化"
   ]
  },
  {
   "cell_type": "code",
   "execution_count": 4,
   "metadata": {},
   "outputs": [
    {
     "name": "stderr",
     "output_type": "stream",
     "text": [
      "<ipython-input-4-95a8caebc059>:7: SettingWithCopyWarning: \n",
      "A value is trying to be set on a copy of a slice from a DataFrame.\n",
      "Try using .loc[row_indexer,col_indexer] = value instead\n",
      "\n",
      "See the caveats in the documentation: https://pandas.pydata.org/pandas-docs/stable/user_guide/indexing.html#returning-a-view-versus-a-copy\n",
      "  train_data_1[\"間取りID\"] = le.transform(train_data_1[\"間取り\"])\n",
      "<ipython-input-4-95a8caebc059>:8: SettingWithCopyWarning: \n",
      "A value is trying to be set on a copy of a slice from a DataFrame.\n",
      "Try using .loc[row_indexer,col_indexer] = value instead\n",
      "\n",
      "See the caveats in the documentation: https://pandas.pydata.org/pandas-docs/stable/user_guide/indexing.html#returning-a-view-versus-a-copy\n",
      "  test_data_1[\"間取りID\"] = le.transform(test_data_1[\"間取り\"])\n"
     ]
    }
   ],
   "source": [
    "# 間取りにlabel encodingを適用\n",
    "from sklearn.preprocessing import LabelEncoder\n",
    "\n",
    "le = LabelEncoder()\n",
    "le.fit(pd.concat([train_data_1[\"間取り\"],test_data_1[\"間取り\"]]))\n",
    "\n",
    "train_data_1[\"間取りID\"] = le.transform(train_data_1[\"間取り\"])\n",
    "test_data_1[\"間取りID\"] = le.transform(test_data_1[\"間取り\"])"
   ]
  },
  {
   "cell_type": "markdown",
   "metadata": {},
   "source": [
    "### 2.3. 面積の数値化"
   ]
  },
  {
   "cell_type": "code",
   "execution_count": 5,
   "metadata": {},
   "outputs": [],
   "source": [
    "# 面積のカラムタイトルを面積[m2]に置換\n",
    "train_data_1 = train_data_1.rename(columns={\"面積\": \"面積m2\"})\n",
    "test_data_1 = test_data_1.rename(columns={\"面積\": \"面積m2\"})"
   ]
  },
  {
   "cell_type": "code",
   "execution_count": 6,
   "metadata": {},
   "outputs": [],
   "source": [
    "# カラムタイトル面積[m2]の要素からm2を削除\n",
    "train_data_1['面積m2'] = train_data_1['面積m2'].str.replace('m2', '').astype(float)\n",
    "test_data_1['面積m2'] = test_data_1['面積m2'].str.replace('m2', '').astype(float)"
   ]
  },
  {
   "cell_type": "markdown",
   "metadata": {},
   "source": [
    "### 2.4. 所在階の数値化"
   ]
  },
  {
   "cell_type": "code",
   "execution_count": 7,
   "metadata": {},
   "outputs": [],
   "source": [
    "# 所在階の中身を\"／\"で2つの列に分割\n",
    "train_data_1 = pd.concat([train_data_1, train_data_1['所在階'].str.split('／', expand=True)], axis=1)\n",
    "test_data_1 = pd.concat([test_data_1, test_data_1['所在階'].str.split('／', expand=True)], axis=1)"
   ]
  },
  {
   "cell_type": "code",
   "execution_count": 8,
   "metadata": {},
   "outputs": [],
   "source": [
    "# 分割した所在階のカラム名変更　0:所在、1:階層\n",
    "train_data_1 = train_data_1.rename(columns={0:\"所在\", 1:\"階層\"})\n",
    "test_data_1 = test_data_1.rename(columns={0:\"所在\", 1:\"階層\"})"
   ]
  },
  {
   "cell_type": "code",
   "execution_count": 9,
   "metadata": {},
   "outputs": [],
   "source": [
    "# 所在と階層の要素を整形\n",
    "train_data_1['所在'] = train_data_1['所在'].str.replace('階', '')\n",
    "train_data_1['所在'] = train_data_1['所在'].str.replace('建', '')\n",
    "train_data_1['所在'] = train_data_1['所在'].str.replace('地下', '-')\n",
    "train_data_1['所在'] = train_data_1['所在'].str.replace('\\（.*\\）', '', regex=True)\n",
    "train_data_1['階層'] = train_data_1['階層'].str.replace('階建', '')\n",
    "train_data_1['階層'] = train_data_1['階層'].str.replace('\\（.*\\）', '', regex=True)\n",
    "train_data_1['所在'] = train_data_1['所在'].replace('', np.nan)\n",
    "\n",
    "test_data_1['所在'] = test_data_1['所在'].str.replace('階', '')\n",
    "test_data_1['所在'] = test_data_1['所在'].str.replace('建', '')\n",
    "test_data_1['所在'] = test_data_1['所在'].str.replace('地下', '-')\n",
    "test_data_1['所在'] = test_data_1['所在'].str.replace('\\（.*\\）', '', regex=True)\n",
    "test_data_1['階層'] = test_data_1['階層'].str.replace('階建', '')\n",
    "test_data_1['階層'] = test_data_1['階層'].str.replace('\\（.*\\）', '', regex=True)\n",
    "test_data_1['所在'] = test_data_1['所在'].replace('', np.nan)"
   ]
  },
  {
   "cell_type": "code",
   "execution_count": 10,
   "metadata": {},
   "outputs": [],
   "source": [
    "# \"階層\"がNoneの箇所を\"所在\"の値で埋める\n",
    "train_data_1['階層'].fillna(train_data_1['所在'], inplace=True)\n",
    "test_data_1['階層'].fillna(test_data_1['所在'], inplace=True)"
   ]
  },
  {
   "cell_type": "code",
   "execution_count": 11,
   "metadata": {},
   "outputs": [],
   "source": [
    "# 所在と階層の要素をfloat型に変換する\n",
    "train_data_1['所在'] = train_data_1['所在'].astype(float)\n",
    "train_data_1['階層'] = train_data_1['階層'].astype(float)\n",
    "\n",
    "test_data_1['所在'] = test_data_1['所在'].astype(float)\n",
    "test_data_1['階層'] = test_data_1['階層'].astype(float)"
   ]
  },
  {
   "cell_type": "code",
   "execution_count": 12,
   "metadata": {},
   "outputs": [],
   "source": [
    "# 間取りと所在階のカラムを削除\n",
    "train_data_1 = train_data_1.drop('間取り', axis=1)\n",
    "train_data_1 = train_data_1.drop('所在階', axis=1)\n",
    "\n",
    "test_data_1 = test_data_1.drop('間取り', axis=1)\n",
    "test_data_1 = test_data_1.drop('所在階', axis=1)"
   ]
  },
  {
   "cell_type": "markdown",
   "metadata": {},
   "source": [
    "### 2.5. 築年数の数値化"
   ]
  },
  {
   "cell_type": "code",
   "execution_count": 13,
   "metadata": {},
   "outputs": [],
   "source": [
    "# 新築の場合は全て0にする\n",
    "train_data_1.loc[train_data_1[\"築年数\"]==\"新築\", \"築年数\"] = float(0)\n",
    "test_data_1.loc[test_data_1[\"築年数\"]==\"新築\", \"築年数\"] = float(0)"
   ]
  },
  {
   "cell_type": "code",
   "execution_count": 14,
   "metadata": {},
   "outputs": [],
   "source": [
    "# 築年数を数値に変換する\n",
    "train_data_1 = pd.concat([train_data_1, train_data_1['築年数'].str.split('年', expand=True)], axis=1)\n",
    "test_data_1 = pd.concat([test_data_1, test_data_1['築年数'].str.split('年', expand=True)], axis=1)"
   ]
  },
  {
   "cell_type": "code",
   "execution_count": 15,
   "metadata": {},
   "outputs": [],
   "source": [
    "# ヶ月を消す\n",
    "train_data_1[1] = train_data_1[1].str.replace('ヶ月', '')\n",
    "test_data_1[1] = test_data_1[1].str.replace('ヶ月', '')"
   ]
  },
  {
   "cell_type": "code",
   "execution_count": 16,
   "metadata": {},
   "outputs": [],
   "source": [
    "test = train_data_1"
   ]
  },
  {
   "cell_type": "code",
   "execution_count": 17,
   "metadata": {},
   "outputs": [],
   "source": [
    "# 築年数をfloat変換\n",
    "train_data_1[\"築年数\"] = train_data_1[0].astype(float) + (train_data_1[1].astype(float) / float(10))\n",
    "test_data_1[\"築年数\"] = test_data_1[0].astype(float) + (test_data_1[1].astype(float) / float(10))"
   ]
  },
  {
   "cell_type": "code",
   "execution_count": 18,
   "metadata": {},
   "outputs": [
    {
     "data": {
      "text/html": [
       "<div>\n",
       "<style scoped>\n",
       "    .dataframe tbody tr th:only-of-type {\n",
       "        vertical-align: middle;\n",
       "    }\n",
       "\n",
       "    .dataframe tbody tr th {\n",
       "        vertical-align: top;\n",
       "    }\n",
       "\n",
       "    .dataframe thead th {\n",
       "        text-align: right;\n",
       "    }\n",
       "</style>\n",
       "<table border=\"1\" class=\"dataframe\">\n",
       "  <thead>\n",
       "    <tr style=\"text-align: right;\">\n",
       "      <th></th>\n",
       "      <th>id</th>\n",
       "      <th>築年数</th>\n",
       "      <th>面積m2</th>\n",
       "      <th>間取りID</th>\n",
       "      <th>所在</th>\n",
       "      <th>階層</th>\n",
       "      <th>0</th>\n",
       "      <th>1</th>\n",
       "    </tr>\n",
       "  </thead>\n",
       "  <tbody>\n",
       "    <tr>\n",
       "      <th>0</th>\n",
       "      <td>31471</td>\n",
       "      <td>49.0</td>\n",
       "      <td>50.22</td>\n",
       "      <td>14</td>\n",
       "      <td>8.0</td>\n",
       "      <td>8.0</td>\n",
       "      <td>49</td>\n",
       "      <td>0</td>\n",
       "    </tr>\n",
       "    <tr>\n",
       "      <th>1</th>\n",
       "      <td>31472</td>\n",
       "      <td>0.2</td>\n",
       "      <td>20.88</td>\n",
       "      <td>9</td>\n",
       "      <td>3.0</td>\n",
       "      <td>4.0</td>\n",
       "      <td>0</td>\n",
       "      <td>2</td>\n",
       "    </tr>\n",
       "    <tr>\n",
       "      <th>2</th>\n",
       "      <td>31473</td>\n",
       "      <td>23.4</td>\n",
       "      <td>26.93</td>\n",
       "      <td>3</td>\n",
       "      <td>1.0</td>\n",
       "      <td>4.0</td>\n",
       "      <td>23</td>\n",
       "      <td>4</td>\n",
       "    </tr>\n",
       "    <tr>\n",
       "      <th>3</th>\n",
       "      <td>31474</td>\n",
       "      <td>36.2</td>\n",
       "      <td>23.57</td>\n",
       "      <td>3</td>\n",
       "      <td>1.0</td>\n",
       "      <td>2.0</td>\n",
       "      <td>36</td>\n",
       "      <td>2</td>\n",
       "    </tr>\n",
       "    <tr>\n",
       "      <th>4</th>\n",
       "      <td>31475</td>\n",
       "      <td>45.4</td>\n",
       "      <td>50.00</td>\n",
       "      <td>14</td>\n",
       "      <td>4.0</td>\n",
       "      <td>4.0</td>\n",
       "      <td>45</td>\n",
       "      <td>4</td>\n",
       "    </tr>\n",
       "  </tbody>\n",
       "</table>\n",
       "</div>"
      ],
      "text/plain": [
       "      id   築年数   面積m2  間取りID   所在   階層   0  1\n",
       "0  31471  49.0  50.22     14  8.0  8.0  49  0\n",
       "1  31472   0.2  20.88      9  3.0  4.0   0  2\n",
       "2  31473  23.4  26.93      3  1.0  4.0  23  4\n",
       "3  31474  36.2  23.57      3  1.0  2.0  36  2\n",
       "4  31475  45.4  50.00     14  4.0  4.0  45  4"
      ]
     },
     "execution_count": 18,
     "metadata": {},
     "output_type": "execute_result"
    }
   ],
   "source": [
    "test_data_1.head()"
   ]
  },
  {
   "cell_type": "code",
   "execution_count": 19,
   "metadata": {},
   "outputs": [
    {
     "name": "stdout",
     "output_type": "stream",
     "text": [
      "          id  築年数   面積m2  間取りID   所在    階層    0    1\n",
      "77     31548  NaN  23.80      4  2.0   3.0  NaN  NaN\n",
      "108    31579  NaN  26.44      3  7.0  13.0  NaN  NaN\n",
      "112    31583  NaN  41.65      5  3.0  10.0  NaN  NaN\n",
      "156    31627  NaN  20.56      9  3.0  12.0  NaN  NaN\n",
      "162    31633  NaN  25.34      3  1.0   8.0  NaN  NaN\n",
      "...      ...  ...    ...    ...  ...   ...  ...  ...\n",
      "31141  62612  NaN  60.81     14  2.0   2.0  NaN  NaN\n",
      "31176  62647  NaN  40.06      5  3.0  10.0  NaN  NaN\n",
      "31181  62652  NaN  40.26      5  2.0   3.0  NaN  NaN\n",
      "31182  62653  NaN  54.75     14  1.0   3.0  NaN  NaN\n",
      "31212  62683  NaN  40.79      5  2.0   3.0  NaN  NaN\n",
      "\n",
      "[850 rows x 8 columns]\n"
     ]
    }
   ],
   "source": [
    "print(test_data_1[test_data_1[\"築年数\"].isnull()])"
   ]
  },
  {
   "cell_type": "code",
   "execution_count": 20,
   "metadata": {},
   "outputs": [],
   "source": [
    "# 0と1の列を消す\n",
    "train_data_1 = train_data_1.drop(0, axis=1)\n",
    "train_data_1 = train_data_1.drop(1, axis=1)\n",
    "\n",
    "test_data_1 = test_data_1.drop(0, axis=1)\n",
    "test_data_1 = test_data_1.drop(1, axis=1)"
   ]
  },
  {
   "cell_type": "markdown",
   "metadata": {},
   "source": [
    "### 2.6. 緯度経度情報の追加"
   ]
  },
  {
   "cell_type": "markdown",
   "metadata": {},
   "source": [
    "#### [このサイト](https://ktgis.net/gcode/geocoding.html)を利用する"
   ]
  },
  {
   "cell_type": "code",
   "execution_count": 23,
   "metadata": {},
   "outputs": [],
   "source": [
    "# IDと住所をファイル出力\n",
    "train_coordinate = train_data[[\"id\", \"所在地\"]]\n",
    "test_coordinate = test_data[[\"id\", \"所在地\"]]\n",
    "\n",
    "train_coordinate.to_csv(\"train_coordinate.csv\", header=False, index=False)\n",
    "test_coordinate.to_csv(\"test_coordinate.csv\", header=False, index=False)"
   ]
  },
  {
   "cell_type": "markdown",
   "metadata": {},
   "source": [
    "### 2.9. 抜けデータ埋め"
   ]
  },
  {
   "cell_type": "markdown",
   "metadata": {},
   "source": [
    "#### 2.9.1. 訓練データ"
   ]
  },
  {
   "cell_type": "code",
   "execution_count": 72,
   "metadata": {},
   "outputs": [
    {
     "name": "stdout",
     "output_type": "stream",
     "text": [
      "          id      賃料   築年数    面積m2  間取りID  所在    階層\n",
      "99       100  150500   5.5   68.83     14 NaN   3.0\n",
      "122      123   58000  30.5   18.98      9 NaN   8.0\n",
      "583      584  145000  26.5   60.72     17 NaN  12.0\n",
      "671      672  900000  14.7  231.52     31 NaN   3.0\n",
      "814      815  145000  30.0   71.36     21 NaN   2.0\n",
      "...      ...     ...   ...     ...    ...  ..   ...\n",
      "29667  29668  127000   1.0   35.03      5 NaN   3.0\n",
      "29800  29801   92000   8.2   50.94      6 NaN   2.0\n",
      "30306  30307  153000  13.8   50.92     14 NaN   5.0\n",
      "30435  30436  163000   9.0   55.58      5 NaN  16.0\n",
      "30838  30839   66000  33.6   16.50      9 NaN   5.0\n",
      "\n",
      "[120 rows x 7 columns]\n"
     ]
    }
   ],
   "source": [
    "# 埋める前の確認\n",
    "print(train_data_1[train_data_1[\"所在\"].isnull()])"
   ]
  },
  {
   "cell_type": "code",
   "execution_count": 73,
   "metadata": {},
   "outputs": [],
   "source": [
    "# 所在のNaNを埋める\n",
    "train_data_2 = train_data_1\n",
    "train_data_2.loc[train_data_2[\"所在\"].isnull(), \"所在\"] = train_data_2[\"階層\"]"
   ]
  },
  {
   "cell_type": "code",
   "execution_count": 74,
   "metadata": {},
   "outputs": [
    {
     "name": "stdout",
     "output_type": "stream",
     "text": [
      "        所在   階層\n",
      "30838  5.0  5.0\n"
     ]
    }
   ],
   "source": [
    "# 埋めた後の確認\n",
    "print(train_data_2[train_data_2[\"id\"]==30839][[\"所在\", \"階層\"]])"
   ]
  },
  {
   "cell_type": "code",
   "execution_count": 75,
   "metadata": {},
   "outputs": [],
   "source": [
    "# IDの削除\n",
    "train_data_2_no_ID = train_data_2.drop([\"id\"], axis=1)"
   ]
  },
  {
   "cell_type": "markdown",
   "metadata": {},
   "source": [
    "#### 2.9.2 テストデータ"
   ]
  },
  {
   "cell_type": "code",
   "execution_count": 76,
   "metadata": {},
   "outputs": [
    {
     "name": "stdout",
     "output_type": "stream",
     "text": [
      "         id  築年数   面積m2  間取りID  所在  階層\n",
      "9204  40675  0.4  94.91     21 NaN NaN\n",
      "          id   築年数   面積m2  間取りID  所在   階層\n",
      "125    31596  21.1  68.28     21 NaN  2.0\n",
      "229    31700   5.6  34.18      1 NaN  3.0\n",
      "262    31733  28.5  60.06     10 NaN  7.0\n",
      "835    32306  50.4  47.30      5 NaN  7.0\n",
      "1076   32547   9.4  54.63     10 NaN  3.0\n",
      "...      ...   ...    ...    ...  ..  ...\n",
      "30529  62000   0.6  40.73      5 NaN  3.0\n",
      "30781  62252  13.1  58.51     14 NaN  2.0\n",
      "30826  62297  27.7  46.26     19 NaN  2.0\n",
      "31073  62544  24.0  16.01      9 NaN  3.0\n",
      "31184  62655  30.8  16.62      3 NaN  2.0\n",
      "\n",
      "[114 rows x 6 columns]\n"
     ]
    }
   ],
   "source": [
    "# 埋める前の確認\n",
    "print(test_data_1[test_data_1[\"階層\"].isnull()])\n",
    "print(test_data_1[test_data_1[\"所在\"].isnull()])"
   ]
  },
  {
   "cell_type": "code",
   "execution_count": 77,
   "metadata": {},
   "outputs": [],
   "source": [
    "# 所在のNaNを埋める\n",
    "test_data_2 = test_data_1\n",
    "test_data_2.loc[test_data_2[\"所在\"].isnull(), \"所在\"] = test_data_2[\"階層\"]"
   ]
  },
  {
   "cell_type": "code",
   "execution_count": 78,
   "metadata": {},
   "outputs": [
    {
     "name": "stdout",
     "output_type": "stream",
     "text": [
      "         id  築年数   面積m2  間取りID  所在  階層\n",
      "9204  40675  0.4  94.91     21 NaN NaN\n"
     ]
    }
   ],
   "source": [
    "print(test_data_2[test_data_2[\"所在\"].isnull()])"
   ]
  },
  {
   "cell_type": "code",
   "execution_count": 79,
   "metadata": {},
   "outputs": [
    {
     "name": "stdout",
     "output_type": "stream",
     "text": [
      "id       44448.676471\n",
      "築年数         12.135294\n",
      "面積m2        92.323824\n",
      "間取りID       21.000000\n",
      "所在           6.181818\n",
      "階層           9.878788\n",
      "dtype: float64\n"
     ]
    }
   ],
   "source": [
    "# 所在も階層も空欄のデータは間取りと面積の近いデータで埋める\n",
    "print(test_data_1[(test_data_1[\"間取りID\"] == 21) & (test_data_1[\"面積m2\"] > 90) & (test_data_1[\"面積m2\"] < 95)].mean())"
   ]
  },
  {
   "cell_type": "code",
   "execution_count": 80,
   "metadata": {},
   "outputs": [],
   "source": [
    "test_data_2.loc[test_data_2[\"id\"]==40675, \"所在\"] = float(6)\n",
    "test_data_2.loc[test_data_2[\"id\"]==40675, \"階層\"] = float(9)"
   ]
  },
  {
   "cell_type": "code",
   "execution_count": 81,
   "metadata": {},
   "outputs": [
    {
     "name": "stdout",
     "output_type": "stream",
     "text": [
      "       所在   階層\n",
      "9204  6.0  9.0\n"
     ]
    }
   ],
   "source": [
    "# 埋めた後の確認\n",
    "print(test_data_2[test_data_2[\"id\"]==40675][[\"所在\", \"階層\"]])"
   ]
  },
  {
   "cell_type": "code",
   "execution_count": 82,
   "metadata": {},
   "outputs": [],
   "source": [
    "# IDの削除\n",
    "test_data_2_no_ID = test_data_2.drop([\"id\"], axis=1)"
   ]
  },
  {
   "cell_type": "markdown",
   "metadata": {},
   "source": [
    "## 3. データチェック"
   ]
  },
  {
   "cell_type": "code",
   "execution_count": 83,
   "metadata": {},
   "outputs": [
    {
     "data": {
      "text/plain": [
       "id         0\n",
       "賃料         0\n",
       "築年数      889\n",
       "面積m2       0\n",
       "間取りID      0\n",
       "所在         0\n",
       "階層         0\n",
       "dtype: int64"
      ]
     },
     "execution_count": 83,
     "metadata": {},
     "output_type": "execute_result"
    }
   ],
   "source": [
    "train_data_2.isnull().sum()"
   ]
  },
  {
   "cell_type": "code",
   "execution_count": 84,
   "metadata": {},
   "outputs": [
    {
     "data": {
      "text/plain": [
       "id         0\n",
       "築年数      850\n",
       "面積m2       0\n",
       "間取りID      0\n",
       "所在         0\n",
       "階層         0\n",
       "dtype: int64"
      ]
     },
     "execution_count": 84,
     "metadata": {},
     "output_type": "execute_result"
    }
   ],
   "source": [
    "test_data_2.isnull().sum()"
   ]
  },
  {
   "cell_type": "markdown",
   "metadata": {},
   "source": [
    "## 4.学習 "
   ]
  },
  {
   "cell_type": "code",
   "execution_count": 85,
   "metadata": {},
   "outputs": [],
   "source": [
    "# 特徴データと目的変数の設定\n",
    "train_x = train_data_2_no_ID.drop([\"賃料\"], axis=1)\n",
    "train_y = train_data_2_no_ID[\"賃料\"]\n",
    "\n",
    "test_x = test_data_2_no_ID"
   ]
  },
  {
   "cell_type": "code",
   "execution_count": 86,
   "metadata": {
    "collapsed": true,
    "jupyter": {
     "outputs_hidden": true
    }
   },
   "outputs": [
    {
     "name": "stdout",
     "output_type": "stream",
     "text": [
      "[22:05:54] WARNING: ..\\src\\learner.cc:541: \n",
      "Parameters: { sileng } might not be used.\n",
      "\n",
      "  This may not be accurate due to some parameters are only used in language bindings but\n",
      "  passed down to XGBoost core.  Or some parameters are not used but slip through this\n",
      "  verification. Please open an issue if you find above cases.\n",
      "\n",
      "\n",
      "[0]\ttrain-rmse:101310.85156\teval-rmse:100844.25000\n",
      "[1]\ttrain-rmse:75023.92969\teval-rmse:74971.04688\n",
      "[2]\ttrain-rmse:57161.87109\teval-rmse:58383.11719\n",
      "[3]\ttrain-rmse:45314.79297\teval-rmse:47126.34375\n",
      "[4]\ttrain-rmse:37820.22266\teval-rmse:40239.75781\n",
      "[5]\ttrain-rmse:33235.05469\teval-rmse:36253.42969\n",
      "[6]\ttrain-rmse:30464.21680\teval-rmse:33944.14062\n",
      "[7]\ttrain-rmse:28694.31836\teval-rmse:32433.40234\n",
      "[8]\ttrain-rmse:27527.16602\teval-rmse:31715.34766\n",
      "[9]\ttrain-rmse:26670.20117\teval-rmse:31067.40820\n",
      "[10]\ttrain-rmse:26160.42578\teval-rmse:30791.37109\n",
      "[11]\ttrain-rmse:25804.07617\teval-rmse:30696.08398\n",
      "[12]\ttrain-rmse:25588.52734\teval-rmse:30604.62305\n",
      "[13]\ttrain-rmse:25441.99219\teval-rmse:30532.65625\n",
      "[14]\ttrain-rmse:25347.33398\teval-rmse:30485.75000\n",
      "[15]\ttrain-rmse:25067.27930\teval-rmse:30359.97656\n",
      "[16]\ttrain-rmse:24948.22656\teval-rmse:30243.01367\n",
      "[17]\ttrain-rmse:24752.25391\teval-rmse:30253.09961\n",
      "[18]\ttrain-rmse:24576.75977\teval-rmse:30258.43945\n",
      "[19]\ttrain-rmse:24400.88086\teval-rmse:30215.00586\n",
      "[20]\ttrain-rmse:24292.67773\teval-rmse:30163.50781\n",
      "[21]\ttrain-rmse:24074.30664\teval-rmse:29997.88281\n",
      "[22]\ttrain-rmse:23971.26367\teval-rmse:29981.08594\n",
      "[23]\ttrain-rmse:23839.37891\teval-rmse:29905.00000\n",
      "[24]\ttrain-rmse:23728.47656\teval-rmse:29902.51367\n",
      "[25]\ttrain-rmse:23681.62109\teval-rmse:29928.97852\n",
      "[26]\ttrain-rmse:23610.12305\teval-rmse:29935.60938\n",
      "[27]\ttrain-rmse:23388.55469\teval-rmse:29788.99023\n",
      "[28]\ttrain-rmse:23205.65820\teval-rmse:29721.32031\n",
      "[29]\ttrain-rmse:23158.19531\teval-rmse:29706.59375\n",
      "[30]\ttrain-rmse:22953.22070\teval-rmse:29671.00391\n",
      "[31]\ttrain-rmse:22925.19336\teval-rmse:29633.55664\n",
      "[32]\ttrain-rmse:22790.50195\teval-rmse:29589.49219\n",
      "[33]\ttrain-rmse:22652.20312\teval-rmse:29571.25391\n",
      "[34]\ttrain-rmse:22572.68555\teval-rmse:29570.15234\n",
      "[35]\ttrain-rmse:22516.73438\teval-rmse:29554.65625\n",
      "[36]\ttrain-rmse:22500.23047\teval-rmse:29527.58789\n",
      "[37]\ttrain-rmse:22331.83203\teval-rmse:29448.17773\n",
      "[38]\ttrain-rmse:22146.73242\teval-rmse:29405.35547\n",
      "[39]\ttrain-rmse:22062.31836\teval-rmse:29362.34180\n",
      "[40]\ttrain-rmse:22051.80469\teval-rmse:29340.13867\n",
      "[41]\ttrain-rmse:22012.02539\teval-rmse:29369.04102\n",
      "[42]\ttrain-rmse:21986.31641\teval-rmse:29349.10352\n",
      "[43]\ttrain-rmse:21818.12695\teval-rmse:29232.52734\n",
      "[44]\ttrain-rmse:21559.14453\teval-rmse:29145.66406\n",
      "[45]\ttrain-rmse:21458.72852\teval-rmse:29126.46289\n",
      "[46]\ttrain-rmse:21372.89453\teval-rmse:29110.73047\n",
      "[47]\ttrain-rmse:21304.91016\teval-rmse:29085.58984\n",
      "[48]\ttrain-rmse:21259.95508\teval-rmse:29052.04883\n",
      "[49]\ttrain-rmse:21202.05859\teval-rmse:29004.98242\n",
      "[22:05:54] WARNING: ..\\src\\learner.cc:541: \n",
      "Parameters: { sileng } might not be used.\n",
      "\n",
      "  This may not be accurate due to some parameters are only used in language bindings but\n",
      "  passed down to XGBoost core.  Or some parameters are not used but slip through this\n",
      "  verification. Please open an issue if you find above cases.\n",
      "\n",
      "\n",
      "[0]\ttrain-rmse:101016.67188\teval-rmse:100935.01562\n",
      "[1]\ttrain-rmse:74632.46875\teval-rmse:75137.33594\n",
      "[2]\ttrain-rmse:56688.09766\teval-rmse:58091.88281\n",
      "[3]\ttrain-rmse:44843.22656\teval-rmse:47408.57031\n",
      "[4]\ttrain-rmse:37077.94531\teval-rmse:41052.94922\n",
      "[5]\ttrain-rmse:32262.72070\teval-rmse:37469.77344\n",
      "[6]\ttrain-rmse:29279.94336\teval-rmse:35557.03906\n",
      "[7]\ttrain-rmse:27481.26562\teval-rmse:34792.63281\n",
      "[8]\ttrain-rmse:26294.57227\teval-rmse:34477.90234\n",
      "[9]\ttrain-rmse:25527.83203\teval-rmse:34326.26172\n",
      "[10]\ttrain-rmse:25060.04102\teval-rmse:34177.99609\n",
      "[11]\ttrain-rmse:24731.84570\teval-rmse:34184.56641\n",
      "[12]\ttrain-rmse:24468.97461\teval-rmse:34122.18750\n",
      "[13]\ttrain-rmse:24256.79688\teval-rmse:34112.28516\n",
      "[14]\ttrain-rmse:24130.32812\teval-rmse:34068.90625\n",
      "[15]\ttrain-rmse:24006.75391\teval-rmse:34040.11328\n",
      "[16]\ttrain-rmse:23844.18750\teval-rmse:34171.02734\n",
      "[17]\ttrain-rmse:23772.03711\teval-rmse:34293.45312\n",
      "[18]\ttrain-rmse:23437.84961\teval-rmse:34208.47656\n",
      "[19]\ttrain-rmse:23289.01562\teval-rmse:34132.48047\n",
      "[20]\ttrain-rmse:23203.64648\teval-rmse:34126.57422\n",
      "[21]\ttrain-rmse:23101.35938\teval-rmse:34086.80078\n",
      "[22]\ttrain-rmse:22979.94336\teval-rmse:34036.05859\n",
      "[23]\ttrain-rmse:22750.97070\teval-rmse:34007.02734\n",
      "[24]\ttrain-rmse:22722.75000\teval-rmse:34039.46875\n",
      "[25]\ttrain-rmse:22632.54297\teval-rmse:34061.84375\n",
      "[26]\ttrain-rmse:22495.16992\teval-rmse:34007.03125\n",
      "[27]\ttrain-rmse:22387.41406\teval-rmse:33946.78516\n",
      "[28]\ttrain-rmse:22180.15625\teval-rmse:33848.69922\n",
      "[29]\ttrain-rmse:22141.13867\teval-rmse:33849.67188\n",
      "[30]\ttrain-rmse:22023.45312\teval-rmse:33867.87891\n",
      "[31]\ttrain-rmse:21922.76953\teval-rmse:33876.14453\n",
      "[32]\ttrain-rmse:21789.86914\teval-rmse:33876.23047\n",
      "[33]\ttrain-rmse:21647.21484\teval-rmse:33801.81641\n",
      "[34]\ttrain-rmse:21628.66406\teval-rmse:33807.05469\n",
      "[35]\ttrain-rmse:21520.51953\teval-rmse:33793.86328\n",
      "[36]\ttrain-rmse:21428.58203\teval-rmse:33811.78516\n",
      "[37]\ttrain-rmse:21343.09766\teval-rmse:33815.45703\n",
      "[38]\ttrain-rmse:21185.03906\teval-rmse:33739.67188\n",
      "[39]\ttrain-rmse:21136.55078\teval-rmse:33727.84375\n",
      "[40]\ttrain-rmse:21084.12109\teval-rmse:33740.72656\n",
      "[41]\ttrain-rmse:21007.46289\teval-rmse:33714.14453\n",
      "[42]\ttrain-rmse:20989.10742\teval-rmse:33708.48828\n",
      "[43]\ttrain-rmse:20875.32227\teval-rmse:33680.46484\n",
      "[44]\ttrain-rmse:20767.40430\teval-rmse:33626.82031\n",
      "[45]\ttrain-rmse:20707.58594\teval-rmse:33642.99219\n",
      "[46]\ttrain-rmse:20571.69141\teval-rmse:33581.72266\n",
      "[47]\ttrain-rmse:20394.58984\teval-rmse:33489.77344\n",
      "[48]\ttrain-rmse:20374.56836\teval-rmse:33485.20703\n",
      "[49]\ttrain-rmse:20350.03125\teval-rmse:33530.95703\n",
      "[22:05:54] WARNING: ..\\src\\learner.cc:541: \n",
      "Parameters: { sileng } might not be used.\n",
      "\n",
      "  This may not be accurate due to some parameters are only used in language bindings but\n",
      "  passed down to XGBoost core.  Or some parameters are not used but slip through this\n",
      "  verification. Please open an issue if you find above cases.\n",
      "\n",
      "\n",
      "[0]\ttrain-rmse:100709.75000\teval-rmse:103500.53906\n",
      "[1]\ttrain-rmse:74507.92969\teval-rmse:77956.75000\n",
      "[2]\ttrain-rmse:56970.65234\teval-rmse:61433.43359\n",
      "[3]\ttrain-rmse:45409.23438\teval-rmse:50286.90625\n",
      "[4]\ttrain-rmse:37871.14062\teval-rmse:43099.18750\n",
      "[5]\ttrain-rmse:33271.97656\teval-rmse:38931.44922\n",
      "[6]\ttrain-rmse:30381.01953\teval-rmse:36312.07031\n",
      "[7]\ttrain-rmse:28591.81641\teval-rmse:34599.91406\n",
      "[8]\ttrain-rmse:27361.52930\teval-rmse:33553.03906\n",
      "[9]\ttrain-rmse:26651.20117\teval-rmse:32869.22656\n",
      "[10]\ttrain-rmse:26086.58984\teval-rmse:32392.09570\n",
      "[11]\ttrain-rmse:25751.12305\teval-rmse:32130.44727\n",
      "[12]\ttrain-rmse:25475.58203\teval-rmse:32066.46875\n",
      "[13]\ttrain-rmse:25182.06055\teval-rmse:31760.34375\n",
      "[14]\ttrain-rmse:25035.70508\teval-rmse:31708.51562\n",
      "[15]\ttrain-rmse:24865.36914\teval-rmse:31453.48438\n",
      "[16]\ttrain-rmse:24653.04297\teval-rmse:31381.31250\n",
      "[17]\ttrain-rmse:24461.51758\teval-rmse:31410.38867\n",
      "[18]\ttrain-rmse:24255.16602\teval-rmse:31197.41602\n",
      "[19]\ttrain-rmse:24008.46289\teval-rmse:31123.32617\n",
      "[20]\ttrain-rmse:23862.19531\teval-rmse:31068.79883\n",
      "[21]\ttrain-rmse:23601.25195\teval-rmse:31057.26758\n",
      "[22]\ttrain-rmse:23555.31641\teval-rmse:31054.37891\n",
      "[23]\ttrain-rmse:23486.98438\teval-rmse:31055.02148\n",
      "[24]\ttrain-rmse:23353.84570\teval-rmse:31033.64844\n",
      "[25]\ttrain-rmse:23179.21680\teval-rmse:30960.24609\n",
      "[26]\ttrain-rmse:23086.33789\teval-rmse:30882.96680\n",
      "[27]\ttrain-rmse:23013.65820\teval-rmse:30992.64648\n",
      "[28]\ttrain-rmse:22821.96289\teval-rmse:30812.35547\n",
      "[29]\ttrain-rmse:22707.58789\teval-rmse:30730.01758\n",
      "[30]\ttrain-rmse:22541.34961\teval-rmse:30609.76172\n",
      "[31]\ttrain-rmse:22293.92969\teval-rmse:30509.65234\n",
      "[32]\ttrain-rmse:22226.83984\teval-rmse:30505.27930\n",
      "[33]\ttrain-rmse:22112.91992\teval-rmse:30583.80664\n",
      "[34]\ttrain-rmse:21986.79102\teval-rmse:30530.86133\n",
      "[35]\ttrain-rmse:21875.44727\teval-rmse:30470.66992\n",
      "[36]\ttrain-rmse:21749.21289\teval-rmse:30465.36914\n",
      "[37]\ttrain-rmse:21696.34375\teval-rmse:30527.49023\n",
      "[38]\ttrain-rmse:21682.01953\teval-rmse:30524.05273\n",
      "[39]\ttrain-rmse:21641.41016\teval-rmse:30541.29492\n",
      "[40]\ttrain-rmse:21494.34180\teval-rmse:30482.32422\n",
      "[41]\ttrain-rmse:21327.45898\teval-rmse:30427.15234\n",
      "[42]\ttrain-rmse:21211.10938\teval-rmse:30397.89453\n",
      "[43]\ttrain-rmse:21153.93359\teval-rmse:30379.41016\n",
      "[44]\ttrain-rmse:21070.22070\teval-rmse:30302.85156\n",
      "[45]\ttrain-rmse:20968.52930\teval-rmse:30280.76953\n",
      "[46]\ttrain-rmse:20886.41797\teval-rmse:30241.02344\n",
      "[47]\ttrain-rmse:20794.27148\teval-rmse:30219.33203\n",
      "[48]\ttrain-rmse:20701.87891\teval-rmse:30262.13672\n",
      "[49]\ttrain-rmse:20628.40820\teval-rmse:30241.90625\n",
      "[22:05:55] WARNING: ..\\src\\learner.cc:541: \n",
      "Parameters: { sileng } might not be used.\n",
      "\n",
      "  This may not be accurate due to some parameters are only used in language bindings but\n",
      "  passed down to XGBoost core.  Or some parameters are not used but slip through this\n",
      "  verification. Please open an issue if you find above cases.\n",
      "\n",
      "\n",
      "[0]\ttrain-rmse:101298.60938\teval-rmse:101322.14062\n",
      "[1]\ttrain-rmse:74874.49219\teval-rmse:75834.92969\n",
      "[2]\ttrain-rmse:56999.69141\teval-rmse:58540.73047\n",
      "[3]\ttrain-rmse:45262.29297\teval-rmse:47622.38281\n",
      "[4]\ttrain-rmse:37761.50000\teval-rmse:40613.99609\n",
      "[5]\ttrain-rmse:33040.16016\teval-rmse:36080.87109\n",
      "[6]\ttrain-rmse:30078.04297\teval-rmse:33386.07422\n",
      "[7]\ttrain-rmse:28403.31445\teval-rmse:32006.79688\n",
      "[8]\ttrain-rmse:27316.36719\teval-rmse:30912.91602\n",
      "[9]\ttrain-rmse:26520.42188\teval-rmse:30378.33008\n",
      "[10]\ttrain-rmse:25964.91602\teval-rmse:30189.88867\n",
      "[11]\ttrain-rmse:25583.18359\teval-rmse:29932.48047\n",
      "[12]\ttrain-rmse:25253.09180\teval-rmse:29709.51758\n",
      "[13]\ttrain-rmse:25120.02930\teval-rmse:29606.19141\n",
      "[14]\ttrain-rmse:24984.61328\teval-rmse:29470.59180\n",
      "[15]\ttrain-rmse:24897.79297\teval-rmse:29391.31250\n",
      "[16]\ttrain-rmse:24426.40039\teval-rmse:29348.07422\n",
      "[17]\ttrain-rmse:24332.74219\teval-rmse:29351.57812\n",
      "[18]\ttrain-rmse:24220.81641\teval-rmse:29265.94531\n",
      "[19]\ttrain-rmse:24184.89648\teval-rmse:29235.87109\n",
      "[20]\ttrain-rmse:24108.84180\teval-rmse:29162.93359\n",
      "[21]\ttrain-rmse:23646.66016\teval-rmse:29300.94336\n",
      "[22]\ttrain-rmse:23453.74219\teval-rmse:29152.34961\n",
      "[23]\ttrain-rmse:23278.04102\teval-rmse:29064.96094\n",
      "[24]\ttrain-rmse:23248.83008\teval-rmse:29019.14648\n",
      "[25]\ttrain-rmse:23131.19531\teval-rmse:28995.56641\n",
      "[26]\ttrain-rmse:23050.06250\teval-rmse:28932.29492\n",
      "[27]\ttrain-rmse:22756.50000\teval-rmse:29185.06641\n",
      "[28]\ttrain-rmse:22652.14258\teval-rmse:29129.48047\n",
      "[29]\ttrain-rmse:22514.61328\teval-rmse:29125.29688\n",
      "[30]\ttrain-rmse:22374.35352\teval-rmse:29091.04883\n",
      "[31]\ttrain-rmse:22238.59766\teval-rmse:29056.29688\n",
      "[32]\ttrain-rmse:22006.77539\teval-rmse:29223.85742\n",
      "[33]\ttrain-rmse:21896.67969\teval-rmse:29164.31836\n",
      "[34]\ttrain-rmse:21882.96680\teval-rmse:29160.49805\n",
      "[35]\ttrain-rmse:21798.81055\teval-rmse:29122.83594\n",
      "[36]\ttrain-rmse:21704.12109\teval-rmse:29092.01758\n",
      "[37]\ttrain-rmse:21576.22852\teval-rmse:29015.92969\n",
      "[38]\ttrain-rmse:21487.13672\teval-rmse:29009.19531\n",
      "[39]\ttrain-rmse:21421.30273\teval-rmse:28972.14844\n",
      "[40]\ttrain-rmse:21296.20703\teval-rmse:28931.67188\n",
      "[41]\ttrain-rmse:21155.35742\teval-rmse:28896.77930\n",
      "[42]\ttrain-rmse:21134.06836\teval-rmse:28897.63867\n",
      "[43]\ttrain-rmse:20993.62500\teval-rmse:28784.47266\n",
      "[44]\ttrain-rmse:20889.09570\teval-rmse:28770.77539\n",
      "[45]\ttrain-rmse:20804.12500\teval-rmse:28750.48047\n",
      "[46]\ttrain-rmse:20773.46289\teval-rmse:28729.40430\n",
      "[47]\ttrain-rmse:20758.13867\teval-rmse:28730.03906\n",
      "[48]\ttrain-rmse:20672.53320\teval-rmse:28741.58008\n",
      "[49]\ttrain-rmse:20641.68164\teval-rmse:28722.66797\n"
     ]
    }
   ],
   "source": [
    "import xgboost as xgb\n",
    "from xgboost import XGBClassifier\n",
    "from sklearn.metrics import log_loss, accuracy_score\n",
    "from sklearn.model_selection import KFold\n",
    "\n",
    "scores = []\n",
    "# GBDT用のハイパーパラメータ\n",
    "params = {\"objective\": \"reg:squarederror\", \"sileng\":1, \"random_state\":71}\n",
    "num_round = 50\n",
    "\n",
    "# クロスバリデーション\n",
    "kf = KFold(n_splits=4, shuffle=True, random_state=71)\n",
    "for tr_idx, va_idx, in kf.split(train_x):\n",
    "    tr_x, va_x = train_x.iloc[tr_idx], train_x.iloc[va_idx]\n",
    "    tr_y, va_y = train_y.iloc[tr_idx], train_y.iloc[va_idx]\n",
    "    \n",
    "    # GBDTで学習実行\n",
    "    dtrain = xgb.DMatrix(tr_x, label=tr_y) # enable_categorical=True\n",
    "    dvalid = xgb.DMatrix(va_x, label=va_y)\n",
    "    dtest = xgb.DMatrix(test_x)\n",
    "    \n",
    "    watchlist = [(dtrain, \"train\"), (dvalid, \"eval\")]\n",
    "    model = xgb.train(params, dtrain, num_round, evals=watchlist)"
   ]
  },
  {
   "cell_type": "markdown",
   "metadata": {},
   "source": [
    "## 5. 予測"
   ]
  },
  {
   "cell_type": "code",
   "execution_count": 87,
   "metadata": {},
   "outputs": [],
   "source": [
    "# テストデータでの予測\n",
    "pred = model.predict(dtest)"
   ]
  },
  {
   "cell_type": "code",
   "execution_count": 88,
   "metadata": {},
   "outputs": [
    {
     "data": {
      "text/plain": [
       "array([130153.44, 103998.85,  83846.53, ..., 176603.9 , 264875.8 ,\n",
       "        83261.43], dtype=float32)"
      ]
     },
     "execution_count": 88,
     "metadata": {},
     "output_type": "execute_result"
    }
   ],
   "source": [
    "pred"
   ]
  },
  {
   "cell_type": "code",
   "execution_count": 89,
   "metadata": {},
   "outputs": [
    {
     "data": {
      "text/plain": [
       "31262"
      ]
     },
     "execution_count": 89,
     "metadata": {},
     "output_type": "execute_result"
    }
   ],
   "source": [
    "len(pred)"
   ]
  },
  {
   "cell_type": "code",
   "execution_count": 90,
   "metadata": {},
   "outputs": [
    {
     "data": {
      "text/plain": [
       "31262"
      ]
     },
     "execution_count": 90,
     "metadata": {},
     "output_type": "execute_result"
    }
   ],
   "source": [
    "len(test_data_1)"
   ]
  },
  {
   "cell_type": "markdown",
   "metadata": {},
   "source": [
    "## 6. データ出力"
   ]
  },
  {
   "cell_type": "code",
   "execution_count": 91,
   "metadata": {},
   "outputs": [],
   "source": [
    "# 予測結果の結合\n",
    "test_data[\"予測結果\"] = pred"
   ]
  },
  {
   "cell_type": "code",
   "execution_count": 92,
   "metadata": {},
   "outputs": [],
   "source": [
    "# 予測結果をint型に変換\n",
    "test_data[\"予測結果\"] = test_data[\"予測結果\"].astype(int)"
   ]
  },
  {
   "cell_type": "code",
   "execution_count": 93,
   "metadata": {},
   "outputs": [],
   "source": [
    "result = test_data[[\"id\", \"予測結果\"]]"
   ]
  },
  {
   "cell_type": "code",
   "execution_count": 94,
   "metadata": {},
   "outputs": [
    {
     "data": {
      "text/html": [
       "<div>\n",
       "<style scoped>\n",
       "    .dataframe tbody tr th:only-of-type {\n",
       "        vertical-align: middle;\n",
       "    }\n",
       "\n",
       "    .dataframe tbody tr th {\n",
       "        vertical-align: top;\n",
       "    }\n",
       "\n",
       "    .dataframe thead th {\n",
       "        text-align: right;\n",
       "    }\n",
       "</style>\n",
       "<table border=\"1\" class=\"dataframe\">\n",
       "  <thead>\n",
       "    <tr style=\"text-align: right;\">\n",
       "      <th></th>\n",
       "      <th>id</th>\n",
       "      <th>予測結果</th>\n",
       "    </tr>\n",
       "  </thead>\n",
       "  <tbody>\n",
       "    <tr>\n",
       "      <th>0</th>\n",
       "      <td>31471</td>\n",
       "      <td>130153</td>\n",
       "    </tr>\n",
       "    <tr>\n",
       "      <th>1</th>\n",
       "      <td>31472</td>\n",
       "      <td>103998</td>\n",
       "    </tr>\n",
       "    <tr>\n",
       "      <th>2</th>\n",
       "      <td>31473</td>\n",
       "      <td>83846</td>\n",
       "    </tr>\n",
       "    <tr>\n",
       "      <th>3</th>\n",
       "      <td>31474</td>\n",
       "      <td>61178</td>\n",
       "    </tr>\n",
       "    <tr>\n",
       "      <th>4</th>\n",
       "      <td>31475</td>\n",
       "      <td>110826</td>\n",
       "    </tr>\n",
       "    <tr>\n",
       "      <th>...</th>\n",
       "      <td>...</td>\n",
       "      <td>...</td>\n",
       "    </tr>\n",
       "    <tr>\n",
       "      <th>31257</th>\n",
       "      <td>62728</td>\n",
       "      <td>103584</td>\n",
       "    </tr>\n",
       "    <tr>\n",
       "      <th>31258</th>\n",
       "      <td>62729</td>\n",
       "      <td>101055</td>\n",
       "    </tr>\n",
       "    <tr>\n",
       "      <th>31259</th>\n",
       "      <td>62730</td>\n",
       "      <td>176603</td>\n",
       "    </tr>\n",
       "    <tr>\n",
       "      <th>31260</th>\n",
       "      <td>62731</td>\n",
       "      <td>264875</td>\n",
       "    </tr>\n",
       "    <tr>\n",
       "      <th>31261</th>\n",
       "      <td>62732</td>\n",
       "      <td>83261</td>\n",
       "    </tr>\n",
       "  </tbody>\n",
       "</table>\n",
       "<p>31262 rows × 2 columns</p>\n",
       "</div>"
      ],
      "text/plain": [
       "          id    予測結果\n",
       "0      31471  130153\n",
       "1      31472  103998\n",
       "2      31473   83846\n",
       "3      31474   61178\n",
       "4      31475  110826\n",
       "...      ...     ...\n",
       "31257  62728  103584\n",
       "31258  62729  101055\n",
       "31259  62730  176603\n",
       "31260  62731  264875\n",
       "31261  62732   83261\n",
       "\n",
       "[31262 rows x 2 columns]"
      ]
     },
     "execution_count": 94,
     "metadata": {},
     "output_type": "execute_result"
    }
   ],
   "source": [
    "result"
   ]
  },
  {
   "cell_type": "code",
   "execution_count": 95,
   "metadata": {},
   "outputs": [],
   "source": [
    "result.to_csv(\"result.csv\", header=False, index=False)"
   ]
  },
  {
   "cell_type": "code",
   "execution_count": null,
   "metadata": {},
   "outputs": [],
   "source": []
  }
 ],
 "metadata": {
  "kernelspec": {
   "display_name": "Python 3",
   "language": "python",
   "name": "python3"
  },
  "language_info": {
   "codemirror_mode": {
    "name": "ipython",
    "version": 3
   },
   "file_extension": ".py",
   "mimetype": "text/x-python",
   "name": "python",
   "nbconvert_exporter": "python",
   "pygments_lexer": "ipython3",
   "version": "3.8.5"
  }
 },
 "nbformat": 4,
 "nbformat_minor": 4
}
