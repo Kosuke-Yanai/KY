{
 "cells": [
  {
   "cell_type": "markdown",
   "metadata": {},
   "source": [
    "# [【SOTA】マイナビ × SIGNATE Student Cup 2019: 賃貸物件の家賃予測](https://signate.jp/competitions/264)"
   ]
  },
  {
   "cell_type": "markdown",
   "metadata": {},
   "source": [
    "## 1. データ準備"
   ]
  },
  {
   "cell_type": "markdown",
   "metadata": {},
   "source": [
    "### 1.1. データ読込"
   ]
  },
  {
   "cell_type": "code",
   "execution_count": 1,
   "metadata": {},
   "outputs": [],
   "source": [
    "import pandas as pd\n",
    "import numpy as np\n",
    "import pathlib\n",
    "import os\n",
    "\n",
    "# 学習データ、テストデータの読み込み\n",
    "train_path = pathlib.Path(\"./DATA/train.csv\")\n",
    "test_path = pathlib.Path(\"./DATA/test.csv\")\n",
    "\n",
    "train_data = pd.read_csv(train_path)\n",
    "test_data = pd.read_csv(test_path)"
   ]
  },
  {
   "cell_type": "code",
   "execution_count": 2,
   "metadata": {},
   "outputs": [
    {
     "data": {
      "text/html": [
       "<div>\n",
       "<style scoped>\n",
       "    .dataframe tbody tr th:only-of-type {\n",
       "        vertical-align: middle;\n",
       "    }\n",
       "\n",
       "    .dataframe tbody tr th {\n",
       "        vertical-align: top;\n",
       "    }\n",
       "\n",
       "    .dataframe thead th {\n",
       "        text-align: right;\n",
       "    }\n",
       "</style>\n",
       "<table border=\"1\" class=\"dataframe\">\n",
       "  <thead>\n",
       "    <tr style=\"text-align: right;\">\n",
       "      <th></th>\n",
       "      <th>id</th>\n",
       "      <th>賃料</th>\n",
       "      <th>所在地</th>\n",
       "      <th>アクセス</th>\n",
       "      <th>間取り</th>\n",
       "      <th>築年数</th>\n",
       "      <th>方角</th>\n",
       "      <th>面積</th>\n",
       "      <th>所在階</th>\n",
       "      <th>バス・トイレ</th>\n",
       "      <th>キッチン</th>\n",
       "      <th>放送・通信</th>\n",
       "      <th>室内設備</th>\n",
       "      <th>駐車場</th>\n",
       "      <th>周辺環境</th>\n",
       "      <th>建物構造</th>\n",
       "      <th>契約期間</th>\n",
       "    </tr>\n",
       "  </thead>\n",
       "  <tbody>\n",
       "    <tr>\n",
       "      <th>0</th>\n",
       "      <td>1</td>\n",
       "      <td>75000</td>\n",
       "      <td>東京都北区滝野川３丁目</td>\n",
       "      <td>都営三田線\\t西巣鴨駅\\t徒歩4分\\t\\t埼京線\\t板橋駅\\t徒歩14分\\t\\t都電荒川線\\...</td>\n",
       "      <td>1K</td>\n",
       "      <td>9年9ヶ月</td>\n",
       "      <td>南東</td>\n",
       "      <td>20.01m2</td>\n",
       "      <td>1階／12階建</td>\n",
       "      <td>専用バス／\\t専用トイレ／\\tバス・トイレ別／\\tシャワー／\\t浴室乾燥機\\t／\\t温水洗浄便座</td>\n",
       "      <td>ガスコンロ／\\tコンロ2口／\\tシステムキッチン\\t／\\t給湯</td>\n",
       "      <td>インターネット対応／\\tCATV／\\tCSアンテナ／\\tBSアンテナ</td>\n",
       "      <td>エアコン付\\tシューズボックス／\\tバルコニー／\\tフローリング／\\t室内洗濯機置場／\\t敷...</td>\n",
       "      <td>駐輪場\\t空有</td>\n",
       "      <td>【小学校】 495m\\t【大学】 461m\\t【小学校】 962m\\t【公園】 1103m\\...</td>\n",
       "      <td>RC（鉄筋コンクリート）</td>\n",
       "      <td>2年間</td>\n",
       "    </tr>\n",
       "    <tr>\n",
       "      <th>1</th>\n",
       "      <td>2</td>\n",
       "      <td>76000</td>\n",
       "      <td>東京都中央区月島３丁目</td>\n",
       "      <td>都営大江戸線\\t勝どき駅\\t徒歩5分\\t\\t有楽町線\\t月島駅\\t徒歩9分\\t\\t日比谷線\\...</td>\n",
       "      <td>1R</td>\n",
       "      <td>44年10ヶ月</td>\n",
       "      <td>NaN</td>\n",
       "      <td>16.5m2</td>\n",
       "      <td>5階／10階建</td>\n",
       "      <td>専用トイレ／\\tシャワー／\\t温水洗浄便座</td>\n",
       "      <td>ガスコンロ／\\tシステムキッチン\\t／\\t給湯</td>\n",
       "      <td>インターネット対応</td>\n",
       "      <td>エアコン付\\tシューズボックス／\\tバルコニー／\\tフローリング／\\t室内洗濯機置場／\\t敷...</td>\n",
       "      <td>駐輪場\\t空有\\t駐車場\\t無\\tバイク置き場\\t無</td>\n",
       "      <td>【スーパー】 1283m</td>\n",
       "      <td>鉄骨造</td>\n",
       "      <td>2年間</td>\n",
       "    </tr>\n",
       "    <tr>\n",
       "      <th>2</th>\n",
       "      <td>3</td>\n",
       "      <td>110000</td>\n",
       "      <td>東京都渋谷区笹塚２丁目</td>\n",
       "      <td>京王線\\t笹塚駅\\t徒歩6分\\t\\t京王線\\t代田橋駅\\t徒歩7分\\t\\t京王線\\t明大前駅...</td>\n",
       "      <td>1K</td>\n",
       "      <td>8年6ヶ月</td>\n",
       "      <td>南</td>\n",
       "      <td>22.05m2</td>\n",
       "      <td>12階／15階建</td>\n",
       "      <td>専用バス／\\t専用トイレ／\\tバス・トイレ別／\\tシャワー／\\t浴室乾燥機\\t／\\t温水洗浄...</td>\n",
       "      <td>ガスコンロ／\\tコンロ2口／\\tシステムキッチン\\t／\\t給湯</td>\n",
       "      <td>インターネット対応／\\t光ファイバー／\\tCSアンテナ／\\tBSアンテナ</td>\n",
       "      <td>エアコン付\\tウォークインクローゼット\\tシューズボックス／\\tバルコニー／\\tフローリング...</td>\n",
       "      <td>駐輪場\\t空有\\tバイク置き場\\t空有\\t駐車場\\t近隣\\t30,000円(税込)\\t距離100m</td>\n",
       "      <td>【スーパー】 89m\\t【コンビニ】 184m\\t【コンビニ】 392m\\t【スーパー】 492m</td>\n",
       "      <td>RC（鉄筋コンクリート）</td>\n",
       "      <td>2年間</td>\n",
       "    </tr>\n",
       "    <tr>\n",
       "      <th>3</th>\n",
       "      <td>4</td>\n",
       "      <td>150000</td>\n",
       "      <td>東京都杉並区高円寺南２丁目23-2</td>\n",
       "      <td>総武線・中央線（各停）\\t高円寺駅\\t徒歩9分\\t\\t丸ノ内線(池袋－荻窪)\\t新高円寺駅\\...</td>\n",
       "      <td>2LDK</td>\n",
       "      <td>29年4ヶ月</td>\n",
       "      <td>南</td>\n",
       "      <td>60.48m2</td>\n",
       "      <td>3階／4階建</td>\n",
       "      <td>専用バス／\\t専用トイレ／\\tバス・トイレ別／\\tシャワー／\\t温水洗浄便座／\\t洗面台独立</td>\n",
       "      <td>ガスコンロ／\\t給湯</td>\n",
       "      <td>インターネット対応／\\t光ファイバー</td>\n",
       "      <td>エアコン付\\tシューズボックス／\\tバルコニー／\\t2面採光／\\t室内洗濯機置場／\\tエレベ...</td>\n",
       "      <td>駐車場\\t無\\t駐輪場\\t無\\tバイク置き場\\t無</td>\n",
       "      <td>【スーパー】 225m\\t【スーパー】 448m\\t【スーパー】 619m\\t【スーパー】 ...</td>\n",
       "      <td>RC（鉄筋コンクリート）</td>\n",
       "      <td>2年間\\t※この物件は\\t定期借家\\tです。</td>\n",
       "    </tr>\n",
       "    <tr>\n",
       "      <th>4</th>\n",
       "      <td>5</td>\n",
       "      <td>74000</td>\n",
       "      <td>東京都葛飾区金町３丁目7-2</td>\n",
       "      <td>京成金町線\\t京成金町駅\\t徒歩5分\\t\\t常磐線\\t金町(東京都)駅\\t徒歩7分\\t\\t京...</td>\n",
       "      <td>2DK</td>\n",
       "      <td>31年7ヶ月</td>\n",
       "      <td>南</td>\n",
       "      <td>39.66m2</td>\n",
       "      <td>1階／2階建</td>\n",
       "      <td>専用バス／\\t専用トイレ／\\tバス・トイレ別／\\tシャワー／\\t追焚機能</td>\n",
       "      <td>給湯／\\t独立キッチン</td>\n",
       "      <td>NaN</td>\n",
       "      <td>バルコニー／\\tフローリング／\\t室内洗濯機置場\\t公営水道／\\t下水</td>\n",
       "      <td>駐車場\\t近隣\\t17,000円(税込)\\t距離300m\\t駐輪場\\t無\\tバイク置き場\\t無</td>\n",
       "      <td>【スーパー】 193m\\t【スーパー】 298m\\t【スーパー】 660m\\t【スーパー】 ...</td>\n",
       "      <td>木造</td>\n",
       "      <td>2年間</td>\n",
       "    </tr>\n",
       "  </tbody>\n",
       "</table>\n",
       "</div>"
      ],
      "text/plain": [
       "   id      賃料                所在地  \\\n",
       "0   1   75000        東京都北区滝野川３丁目   \n",
       "1   2   76000        東京都中央区月島３丁目   \n",
       "2   3  110000        東京都渋谷区笹塚２丁目   \n",
       "3   4  150000  東京都杉並区高円寺南２丁目23-2   \n",
       "4   5   74000     東京都葛飾区金町３丁目7-2   \n",
       "\n",
       "                                                アクセス   間取り      築年数   方角  \\\n",
       "0  都営三田線\\t西巣鴨駅\\t徒歩4分\\t\\t埼京線\\t板橋駅\\t徒歩14分\\t\\t都電荒川線\\...    1K    9年9ヶ月   南東   \n",
       "1  都営大江戸線\\t勝どき駅\\t徒歩5分\\t\\t有楽町線\\t月島駅\\t徒歩9分\\t\\t日比谷線\\...    1R  44年10ヶ月  NaN   \n",
       "2  京王線\\t笹塚駅\\t徒歩6分\\t\\t京王線\\t代田橋駅\\t徒歩7分\\t\\t京王線\\t明大前駅...    1K    8年6ヶ月    南   \n",
       "3  総武線・中央線（各停）\\t高円寺駅\\t徒歩9分\\t\\t丸ノ内線(池袋－荻窪)\\t新高円寺駅\\...  2LDK   29年4ヶ月    南   \n",
       "4  京成金町線\\t京成金町駅\\t徒歩5分\\t\\t常磐線\\t金町(東京都)駅\\t徒歩7分\\t\\t京...   2DK   31年7ヶ月    南   \n",
       "\n",
       "        面積       所在階                                             バス・トイレ  \\\n",
       "0  20.01m2   1階／12階建   専用バス／\\t専用トイレ／\\tバス・トイレ別／\\tシャワー／\\t浴室乾燥機\\t／\\t温水洗浄便座   \n",
       "1   16.5m2   5階／10階建                              専用トイレ／\\tシャワー／\\t温水洗浄便座   \n",
       "2  22.05m2  12階／15階建  専用バス／\\t専用トイレ／\\tバス・トイレ別／\\tシャワー／\\t浴室乾燥機\\t／\\t温水洗浄...   \n",
       "3  60.48m2    3階／4階建     専用バス／\\t専用トイレ／\\tバス・トイレ別／\\tシャワー／\\t温水洗浄便座／\\t洗面台独立   \n",
       "4  39.66m2    1階／2階建               専用バス／\\t専用トイレ／\\tバス・トイレ別／\\tシャワー／\\t追焚機能   \n",
       "\n",
       "                              キッチン                                 放送・通信  \\\n",
       "0  ガスコンロ／\\tコンロ2口／\\tシステムキッチン\\t／\\t給湯    インターネット対応／\\tCATV／\\tCSアンテナ／\\tBSアンテナ   \n",
       "1          ガスコンロ／\\tシステムキッチン\\t／\\t給湯                             インターネット対応   \n",
       "2  ガスコンロ／\\tコンロ2口／\\tシステムキッチン\\t／\\t給湯  インターネット対応／\\t光ファイバー／\\tCSアンテナ／\\tBSアンテナ   \n",
       "3                       ガスコンロ／\\t給湯                    インターネット対応／\\t光ファイバー   \n",
       "4                      給湯／\\t独立キッチン                                   NaN   \n",
       "\n",
       "                                                室内設備  \\\n",
       "0  エアコン付\\tシューズボックス／\\tバルコニー／\\tフローリング／\\t室内洗濯機置場／\\t敷...   \n",
       "1  エアコン付\\tシューズボックス／\\tバルコニー／\\tフローリング／\\t室内洗濯機置場／\\t敷...   \n",
       "2  エアコン付\\tウォークインクローゼット\\tシューズボックス／\\tバルコニー／\\tフローリング...   \n",
       "3  エアコン付\\tシューズボックス／\\tバルコニー／\\t2面採光／\\t室内洗濯機置場／\\tエレベ...   \n",
       "4                バルコニー／\\tフローリング／\\t室内洗濯機置場\\t公営水道／\\t下水   \n",
       "\n",
       "                                                 駐車場  \\\n",
       "0                                            駐輪場\\t空有   \n",
       "1                         駐輪場\\t空有\\t駐車場\\t無\\tバイク置き場\\t無   \n",
       "2  駐輪場\\t空有\\tバイク置き場\\t空有\\t駐車場\\t近隣\\t30,000円(税込)\\t距離100m   \n",
       "3                          駐車場\\t無\\t駐輪場\\t無\\tバイク置き場\\t無   \n",
       "4    駐車場\\t近隣\\t17,000円(税込)\\t距離300m\\t駐輪場\\t無\\tバイク置き場\\t無   \n",
       "\n",
       "                                                周辺環境          建物構造  \\\n",
       "0  【小学校】 495m\\t【大学】 461m\\t【小学校】 962m\\t【公園】 1103m\\...  RC（鉄筋コンクリート）   \n",
       "1                                       【スーパー】 1283m           鉄骨造   \n",
       "2  【スーパー】 89m\\t【コンビニ】 184m\\t【コンビニ】 392m\\t【スーパー】 492m  RC（鉄筋コンクリート）   \n",
       "3  【スーパー】 225m\\t【スーパー】 448m\\t【スーパー】 619m\\t【スーパー】 ...  RC（鉄筋コンクリート）   \n",
       "4  【スーパー】 193m\\t【スーパー】 298m\\t【スーパー】 660m\\t【スーパー】 ...            木造   \n",
       "\n",
       "                     契約期間  \n",
       "0                     2年間  \n",
       "1                     2年間  \n",
       "2                     2年間  \n",
       "3  2年間\\t※この物件は\\t定期借家\\tです。  \n",
       "4                     2年間  "
      ]
     },
     "execution_count": 2,
     "metadata": {},
     "output_type": "execute_result"
    }
   ],
   "source": [
    "train_data.head()"
   ]
  },
  {
   "cell_type": "markdown",
   "metadata": {},
   "source": [
    "## 2. 前処理"
   ]
  },
  {
   "cell_type": "markdown",
   "metadata": {},
   "source": [
    "### 2.1. データ選択"
   ]
  },
  {
   "cell_type": "code",
   "execution_count": 3,
   "metadata": {},
   "outputs": [],
   "source": [
    "train_data_1 = train_data[[\"id\", \"所在地\", \"賃料\", \"間取り\", \"築年数\",\"方角\", \"面積\", \"所在階\", \"建物構造\"]]\n",
    "test_data_1 = test_data[[\"id\", \"所在地\", \"間取り\", \"築年数\",\"方角\",  \"面積\", \"所在階\", \"建物構造\"]]"
   ]
  },
  {
   "cell_type": "markdown",
   "metadata": {},
   "source": [
    "### 2.2. 間取りの数値化"
   ]
  },
  {
   "cell_type": "code",
   "execution_count": 4,
   "metadata": {},
   "outputs": [],
   "source": [
    "# 16m2で11R扱いの物件を1Rに修正する\n",
    "# test_data.loc[test_data[\"間取り\"]==\"11R\"]\n",
    "test_data_1 = test_data_1.replace(\"11R\", \"1R\")"
   ]
  },
  {
   "cell_type": "code",
   "execution_count": 5,
   "metadata": {},
   "outputs": [
    {
     "name": "stderr",
     "output_type": "stream",
     "text": [
      "C:\\ProgramData\\Anaconda3\\lib\\site-packages\\ipykernel_launcher.py:7: SettingWithCopyWarning: \n",
      "A value is trying to be set on a copy of a slice from a DataFrame.\n",
      "Try using .loc[row_indexer,col_indexer] = value instead\n",
      "\n",
      "See the caveats in the documentation: https://pandas.pydata.org/pandas-docs/stable/user_guide/indexing.html#returning-a-view-versus-a-copy\n",
      "  import sys\n"
     ]
    }
   ],
   "source": [
    "# 間取りにlabel encodingを適用\n",
    "from sklearn.preprocessing import LabelEncoder\n",
    "\n",
    "le = LabelEncoder()\n",
    "le.fit(pd.concat([train_data_1[\"間取り\"],test_data_1[\"間取り\"]]))\n",
    "\n",
    "train_data_1[\"間取りID\"] = le.transform(train_data_1[\"間取り\"])\n",
    "test_data_1[\"間取りID\"] = le.transform(test_data_1[\"間取り\"])"
   ]
  },
  {
   "cell_type": "markdown",
   "metadata": {},
   "source": [
    "### 2.3. 面積の数値化"
   ]
  },
  {
   "cell_type": "code",
   "execution_count": 6,
   "metadata": {},
   "outputs": [],
   "source": [
    "# 面積のカラムタイトルを面積[m2]に置換\n",
    "train_data_1 = train_data_1.rename(columns={\"面積\": \"面積m2\"})\n",
    "test_data_1 = test_data_1.rename(columns={\"面積\": \"面積m2\"})"
   ]
  },
  {
   "cell_type": "code",
   "execution_count": 7,
   "metadata": {},
   "outputs": [],
   "source": [
    "# カラムタイトル面積[m2]の要素からm2を削除\n",
    "train_data_1['面積m2'] = train_data_1['面積m2'].str.replace('m2', '').astype(float)\n",
    "test_data_1['面積m2'] = test_data_1['面積m2'].str.replace('m2', '').astype(float)"
   ]
  },
  {
   "cell_type": "markdown",
   "metadata": {},
   "source": [
    "### 2.4. 所在階の数値化"
   ]
  },
  {
   "cell_type": "code",
   "execution_count": 8,
   "metadata": {},
   "outputs": [],
   "source": [
    "# 所在階が総階数よりも大きい場合、値を入れ替える\n",
    "train_data_1 = train_data_1.replace(\"2階／1階建\", \"1階／2階建\")\n",
    "train_data_1 = train_data_1.replace(\"4階／2階建\", \"2階／4階建\")\n",
    "train_data_1 = train_data_1.replace(\"7階／2階建\", \"2階／7階建\")\n",
    "train_data_1 = train_data_1.replace(\"10階／8階建\", \"8階／10階建\")\n",
    "\n",
    "test_data_1 = test_data_1.replace(\"2階／1階建\", \"1階／2階建\")\n",
    "test_data_1 = test_data_1.replace(\"3階／2階建\", \"2階／3階建\")\n",
    "test_data_1 = test_data_1.replace(\"4階／1階建\", \"1階／4階建\")\n",
    "test_data_1 = test_data_1.replace(\"4階／2階建\", \"2階／4階建\")\n",
    "test_data_1 = test_data_1.replace(\"4階／3階建（地下1階）\", \"3階／4階建（地下1階）\")\n",
    "test_data_1 = test_data_1.replace(\"8階／6階建\", \"6階／8階建\")\n",
    "test_data_1 = test_data_1.replace(\"13階／4階建（地下1階）\", \"4階／13階建（地下1階）\")\n",
    "test_data_1 = test_data_1.replace(\"21階／3階建\", \"3階／21階建\")\n",
    "test_data_1 = test_data_1.replace(\"44階／4階建\", \"4階／44階建\")"
   ]
  },
  {
   "cell_type": "code",
   "execution_count": 9,
   "metadata": {},
   "outputs": [],
   "source": [
    "# 所在階の中身を\"／\"で2つの列に分割\n",
    "train_data_1 = pd.concat([train_data_1, train_data_1['所在階'].str.split('／', expand=True)], axis=1)\n",
    "test_data_1 = pd.concat([test_data_1, test_data_1['所在階'].str.split('／', expand=True)], axis=1)"
   ]
  },
  {
   "cell_type": "code",
   "execution_count": 10,
   "metadata": {},
   "outputs": [],
   "source": [
    "# 分割した所在階のカラム名変更　0:所在、1:階層\n",
    "train_data_1 = train_data_1.rename(columns={0:\"所在\", 1:\"階層\"})\n",
    "test_data_1 = test_data_1.rename(columns={0:\"所在\", 1:\"階層\"})"
   ]
  },
  {
   "cell_type": "code",
   "execution_count": 11,
   "metadata": {},
   "outputs": [],
   "source": [
    "# 所在と階層の要素を整形\n",
    "train_data_1['所在'] = train_data_1['所在'].str.replace('階', '')\n",
    "train_data_1['所在'] = train_data_1['所在'].str.replace('建', '')\n",
    "train_data_1['所在'] = train_data_1['所在'].str.replace('地下', '-')\n",
    "train_data_1['所在'] = train_data_1['所在'].str.replace('\\（.*\\）', '', regex=True)\n",
    "train_data_1['階層'] = train_data_1['階層'].str.replace('階建', '')\n",
    "train_data_1['階層'] = train_data_1['階層'].str.replace('\\（.*\\）', '', regex=True)\n",
    "train_data_1['所在'] = train_data_1['所在'].replace('', np.nan)\n",
    "\n",
    "test_data_1['所在'] = test_data_1['所在'].str.replace('階', '')\n",
    "test_data_1['所在'] = test_data_1['所在'].str.replace('建', '')\n",
    "test_data_1['所在'] = test_data_1['所在'].str.replace('地下', '-')\n",
    "test_data_1['所在'] = test_data_1['所在'].str.replace('\\（.*\\）', '', regex=True)\n",
    "test_data_1['階層'] = test_data_1['階層'].str.replace('階建', '')\n",
    "test_data_1['階層'] = test_data_1['階層'].str.replace('\\（.*\\）', '', regex=True)\n",
    "test_data_1['所在'] = test_data_1['所在'].replace('', np.nan)"
   ]
  },
  {
   "cell_type": "code",
   "execution_count": 12,
   "metadata": {},
   "outputs": [],
   "source": [
    "# # \"階層\"がNoneの箇所を\"所在\"の値で埋める\n",
    "# train_data_1['階層'].fillna(train_data_1['所在'], inplace=True)\n",
    "# test_data_1['階層'].fillna(test_data_1['所在'], inplace=True)"
   ]
  },
  {
   "cell_type": "code",
   "execution_count": 13,
   "metadata": {},
   "outputs": [],
   "source": [
    "# 所在と階層の要素をfloat型に変換する\n",
    "train_data_1['所在'] = train_data_1['所在'].astype(float)\n",
    "train_data_1['階層'] = train_data_1['階層'].astype(float)\n",
    "\n",
    "test_data_1['所在'] = test_data_1['所在'].astype(float)\n",
    "test_data_1['階層'] = test_data_1['階層'].astype(float)"
   ]
  },
  {
   "cell_type": "code",
   "execution_count": 14,
   "metadata": {},
   "outputs": [],
   "source": [
    "# 所在階のカラムを削除\n",
    "train_data_1 = train_data_1.drop('所在階', axis=1)\n",
    "test_data_1 = test_data_1.drop('所在階', axis=1)"
   ]
  },
  {
   "cell_type": "code",
   "execution_count": 15,
   "metadata": {},
   "outputs": [],
   "source": [
    "# # 所在のNaNを埋める\n",
    "# train_data_1.loc[train_data_1[\"所在\"].isnull(), \"所在\"] = train_data_1[\"階層\"]\n",
    "# test_data_1.loc[test_data_1[\"所在\"].isnull(), \"所在\"] = test_data_1[\"階層\"]"
   ]
  },
  {
   "cell_type": "code",
   "execution_count": 16,
   "metadata": {},
   "outputs": [],
   "source": [
    "# # 所在も階層も空欄のデータは間取りと面積の近いデータで埋める\n",
    "# print(test_data_1[(test_data_1[\"間取りID\"] == 21) & (test_data_1[\"面積m2\"] > 90) & (test_data_1[\"面積m2\"] < 95)].mean())\n",
    "# test_data_1.loc[test_data_1[\"id\"]==40675, \"所在\"] = float(6)\n",
    "# test_data_1.loc[test_data_1[\"id\"]==40675, \"階層\"] = float(9)"
   ]
  },
  {
   "cell_type": "markdown",
   "metadata": {},
   "source": [
    "### 2.5. 築年数の数値化"
   ]
  },
  {
   "cell_type": "code",
   "execution_count": 17,
   "metadata": {},
   "outputs": [],
   "source": [
    "# 新築の場合は全て0にする\n",
    "train_data_1.loc[train_data_1[\"築年数\"]==\"新築\", \"築年数\"] = float(0)\n",
    "test_data_1.loc[test_data_1[\"築年数\"]==\"新築\", \"築年数\"] = float(0)"
   ]
  },
  {
   "cell_type": "code",
   "execution_count": 18,
   "metadata": {},
   "outputs": [],
   "source": [
    "# 築年数を数値に変換する\n",
    "train_data_1 = pd.concat([train_data_1, train_data_1['築年数'].str.split('年', expand=True)], axis=1)\n",
    "test_data_1 = pd.concat([test_data_1, test_data_1['築年数'].str.split('年', expand=True)], axis=1)"
   ]
  },
  {
   "cell_type": "code",
   "execution_count": 19,
   "metadata": {},
   "outputs": [],
   "source": [
    "# ヶ月を消す\n",
    "train_data_1[1] = train_data_1[1].str.replace('ヶ月', '')\n",
    "test_data_1[1] = test_data_1[1].str.replace('ヶ月', '')"
   ]
  },
  {
   "cell_type": "code",
   "execution_count": 20,
   "metadata": {},
   "outputs": [],
   "source": [
    "# 築年数をfloat変換\n",
    "train_data_1[\"築年数\"] = train_data_1[0].astype(float) + (train_data_1[1].astype(float) / float(12))\n",
    "test_data_1[\"築年数\"] = test_data_1[0].astype(float) + (test_data_1[1].astype(float) / float(12))"
   ]
  },
  {
   "cell_type": "code",
   "execution_count": 21,
   "metadata": {},
   "outputs": [
    {
     "data": {
      "text/html": [
       "<div>\n",
       "<style scoped>\n",
       "    .dataframe tbody tr th:only-of-type {\n",
       "        vertical-align: middle;\n",
       "    }\n",
       "\n",
       "    .dataframe tbody tr th {\n",
       "        vertical-align: top;\n",
       "    }\n",
       "\n",
       "    .dataframe thead th {\n",
       "        text-align: right;\n",
       "    }\n",
       "</style>\n",
       "<table border=\"1\" class=\"dataframe\">\n",
       "  <thead>\n",
       "    <tr style=\"text-align: right;\">\n",
       "      <th></th>\n",
       "      <th>id</th>\n",
       "      <th>所在地</th>\n",
       "      <th>間取り</th>\n",
       "      <th>築年数</th>\n",
       "      <th>方角</th>\n",
       "      <th>面積m2</th>\n",
       "      <th>建物構造</th>\n",
       "      <th>間取りID</th>\n",
       "      <th>所在</th>\n",
       "      <th>階層</th>\n",
       "      <th>0</th>\n",
       "      <th>1</th>\n",
       "    </tr>\n",
       "  </thead>\n",
       "  <tbody>\n",
       "    <tr>\n",
       "      <th>0</th>\n",
       "      <td>31471</td>\n",
       "      <td>東京都世田谷区深沢５丁目1-27</td>\n",
       "      <td>2LDK</td>\n",
       "      <td>49.000000</td>\n",
       "      <td>南</td>\n",
       "      <td>50.22</td>\n",
       "      <td>鉄骨造</td>\n",
       "      <td>13</td>\n",
       "      <td>8.0</td>\n",
       "      <td>8.0</td>\n",
       "      <td>49</td>\n",
       "      <td>0</td>\n",
       "    </tr>\n",
       "    <tr>\n",
       "      <th>1</th>\n",
       "      <td>31472</td>\n",
       "      <td>東京都目黒区八雲１丁目11-8</td>\n",
       "      <td>1R</td>\n",
       "      <td>0.166667</td>\n",
       "      <td>南東</td>\n",
       "      <td>20.88</td>\n",
       "      <td>RC（鉄筋コンクリート）</td>\n",
       "      <td>8</td>\n",
       "      <td>3.0</td>\n",
       "      <td>4.0</td>\n",
       "      <td>0</td>\n",
       "      <td>2</td>\n",
       "    </tr>\n",
       "    <tr>\n",
       "      <th>2</th>\n",
       "      <td>31473</td>\n",
       "      <td>東京都豊島区池袋本町２丁目22-2</td>\n",
       "      <td>1K</td>\n",
       "      <td>23.333333</td>\n",
       "      <td>南東</td>\n",
       "      <td>26.93</td>\n",
       "      <td>鉄骨造</td>\n",
       "      <td>2</td>\n",
       "      <td>1.0</td>\n",
       "      <td>4.0</td>\n",
       "      <td>23</td>\n",
       "      <td>4</td>\n",
       "    </tr>\n",
       "    <tr>\n",
       "      <th>3</th>\n",
       "      <td>31474</td>\n",
       "      <td>東京都杉並区和泉１丁目</td>\n",
       "      <td>1K</td>\n",
       "      <td>36.166667</td>\n",
       "      <td>南東</td>\n",
       "      <td>23.57</td>\n",
       "      <td>木造</td>\n",
       "      <td>2</td>\n",
       "      <td>1.0</td>\n",
       "      <td>2.0</td>\n",
       "      <td>36</td>\n",
       "      <td>2</td>\n",
       "    </tr>\n",
       "    <tr>\n",
       "      <th>4</th>\n",
       "      <td>31475</td>\n",
       "      <td>東京都杉並区堀ノ内２丁目</td>\n",
       "      <td>2LDK</td>\n",
       "      <td>45.333333</td>\n",
       "      <td>南</td>\n",
       "      <td>50.00</td>\n",
       "      <td>RC（鉄筋コンクリート）</td>\n",
       "      <td>13</td>\n",
       "      <td>4.0</td>\n",
       "      <td>4.0</td>\n",
       "      <td>45</td>\n",
       "      <td>4</td>\n",
       "    </tr>\n",
       "  </tbody>\n",
       "</table>\n",
       "</div>"
      ],
      "text/plain": [
       "      id                所在地   間取り        築年数  方角   面積m2          建物構造  間取りID  \\\n",
       "0  31471   東京都世田谷区深沢５丁目1-27  2LDK  49.000000   南  50.22           鉄骨造     13   \n",
       "1  31472    東京都目黒区八雲１丁目11-8    1R   0.166667  南東  20.88  RC（鉄筋コンクリート）      8   \n",
       "2  31473  東京都豊島区池袋本町２丁目22-2    1K  23.333333  南東  26.93           鉄骨造      2   \n",
       "3  31474        東京都杉並区和泉１丁目    1K  36.166667  南東  23.57            木造      2   \n",
       "4  31475       東京都杉並区堀ノ内２丁目  2LDK  45.333333   南  50.00  RC（鉄筋コンクリート）     13   \n",
       "\n",
       "    所在   階層   0  1  \n",
       "0  8.0  8.0  49  0  \n",
       "1  3.0  4.0   0  2  \n",
       "2  1.0  4.0  23  4  \n",
       "3  1.0  2.0  36  2  \n",
       "4  4.0  4.0  45  4  "
      ]
     },
     "execution_count": 21,
     "metadata": {},
     "output_type": "execute_result"
    }
   ],
   "source": [
    "test_data_1.head()"
   ]
  },
  {
   "cell_type": "code",
   "execution_count": 22,
   "metadata": {},
   "outputs": [
    {
     "name": "stdout",
     "output_type": "stream",
     "text": [
      "          id               所在地       間取り  築年数  方角   面積m2          建物構造  間取りID  \\\n",
      "77     31548      東京都大田区東矢口２丁目  1K+S(納戸)  NaN   南  23.80           鉄骨造      3   \n",
      "108    31579  東京都世田谷区上馬２丁目26-8        1K  NaN  南西  26.44  RC（鉄筋コンクリート）      2   \n",
      "112    31583       東京都台東区台東２丁目      1LDK  NaN   北  41.65           鉄骨造      4   \n",
      "156    31627  東京都品川区南大井４丁目20-5        1R  NaN  南東  20.56  RC（鉄筋コンクリート）      8   \n",
      "162    31633     東京都江東区扇橋２丁目23        1K  NaN   西  25.34  RC（鉄筋コンクリート）      2   \n",
      "...      ...               ...       ...  ...  ..    ...           ...    ...   \n",
      "31141  62612  東京都世田谷区桜丘４丁目15-9      2LDK  NaN  南西  60.81            木造     13   \n",
      "31176  62647   東京都江戸川区中葛西８丁目22      1LDK  NaN   東  40.06  RC（鉄筋コンクリート）      4   \n",
      "31181  62652       東京都新宿区原町３丁目      1LDK  NaN  南東  40.26           鉄骨造      4   \n",
      "31182  62653       東京都新宿区原町３丁目      2LDK  NaN  南西  54.75           鉄骨造     13   \n",
      "31212  62683       東京都新宿区原町３丁目      1LDK  NaN  北西  40.79           鉄骨造      4   \n",
      "\n",
      "        所在    階層    0    1  \n",
      "77     2.0   3.0  NaN  NaN  \n",
      "108    7.0  13.0  NaN  NaN  \n",
      "112    3.0  10.0  NaN  NaN  \n",
      "156    3.0  12.0  NaN  NaN  \n",
      "162    1.0   8.0  NaN  NaN  \n",
      "...    ...   ...  ...  ...  \n",
      "31141  2.0   2.0  NaN  NaN  \n",
      "31176  3.0  10.0  NaN  NaN  \n",
      "31181  2.0   3.0  NaN  NaN  \n",
      "31182  1.0   3.0  NaN  NaN  \n",
      "31212  2.0   3.0  NaN  NaN  \n",
      "\n",
      "[850 rows x 12 columns]\n"
     ]
    }
   ],
   "source": [
    "print(test_data_1[test_data_1[\"築年数\"].isnull()])"
   ]
  },
  {
   "cell_type": "code",
   "execution_count": 23,
   "metadata": {},
   "outputs": [],
   "source": [
    "# 0と1の列を消す\n",
    "train_data_1 = train_data_1.drop(0, axis=1)\n",
    "train_data_1 = train_data_1.drop(1, axis=1)\n",
    "\n",
    "test_data_1 = test_data_1.drop(0, axis=1)\n",
    "test_data_1 = test_data_1.drop(1, axis=1)"
   ]
  },
  {
   "cell_type": "markdown",
   "metadata": {},
   "source": [
    "### 2.6. 緯度経度情報の追加"
   ]
  },
  {
   "cell_type": "markdown",
   "metadata": {},
   "source": [
    "#### [このサイト](https://ktgis.net/gcode/geocoding.html)を利用する"
   ]
  },
  {
   "cell_type": "code",
   "execution_count": 24,
   "metadata": {},
   "outputs": [],
   "source": [
    "# IDと住所をファイル出力\n",
    "train_coordinate = train_data[[\"id\", \"所在地\"]]\n",
    "test_coordinate = test_data[[\"id\", \"所在地\"]]\n",
    "\n",
    "train_coordinate.to_csv(\"train_coordinate.csv\", header=False, index=False)\n",
    "test_coordinate.to_csv(\"test_coordinate.csv\", header=False, index=False)"
   ]
  },
  {
   "cell_type": "code",
   "execution_count": 25,
   "metadata": {},
   "outputs": [],
   "source": [
    "# 緯度、経度情報の読み込み(id, 所在地, 経度, 緯度)\n",
    "train_coordinate_addvalue = pd.read_excel(\"train_coordinate_addvalue.xlsx\")\n",
    "test_coordinate_addvalue = pd.read_excel(\"test_coordinate_addvalue.xlsx\")"
   ]
  },
  {
   "cell_type": "code",
   "execution_count": 26,
   "metadata": {},
   "outputs": [],
   "source": [
    "train_data_1 = pd.merge(train_data_1, train_coordinate_addvalue[[\"id\", \"経度\", \"緯度\"]], on='id')\n",
    "test_data_1 = pd.merge(test_data_1, test_coordinate_addvalue[[\"id\", \"経度\", \"緯度\"]], on='id')"
   ]
  },
  {
   "cell_type": "markdown",
   "metadata": {},
   "source": [
    "### 2.7. 部屋数の追加"
   ]
  },
  {
   "cell_type": "code",
   "execution_count": 27,
   "metadata": {},
   "outputs": [],
   "source": [
    "# 部屋数のマージ\n",
    "number_of_rooms = pd.read_excel(\"number_of_rooms.xlsx\")\n",
    "train_data_1 = pd.merge(train_data_1, number_of_rooms[[\"間取り\", \"部屋数\"]], on='間取り')\n",
    "test_data_1 = pd.merge(test_data_1, number_of_rooms[[\"間取り\", \"部屋数\"]], on='間取り')"
   ]
  },
  {
   "cell_type": "code",
   "execution_count": 28,
   "metadata": {},
   "outputs": [],
   "source": [
    "# インデックスの振り直し\n",
    "train_data_1 = train_data_1.sort_values(\"id\")\n",
    "train_data_1 = train_data_1.reset_index(drop=True)\n",
    "\n",
    "test_data_1 = test_data_1.sort_values(\"id\")\n",
    "test_data_1 = test_data_1.reset_index(drop=True)"
   ]
  },
  {
   "cell_type": "markdown",
   "metadata": {},
   "source": [
    "### 2.8. 1部屋当たりの面積追加"
   ]
  },
  {
   "cell_type": "code",
   "execution_count": 29,
   "metadata": {},
   "outputs": [],
   "source": [
    "# 面積と部屋数から1部屋当たりの面積を算出\n",
    "train_data_1[\"1部屋当たり面積m2\"] = (train_data_1[\"面積m2\"] / train_data_1[\"部屋数\"]).astype(float)\n",
    "test_data_1[\"1部屋当たり面積m2\"] = (test_data_1[\"面積m2\"] / test_data_1[\"部屋数\"]).astype(float)"
   ]
  },
  {
   "cell_type": "code",
   "execution_count": 30,
   "metadata": {},
   "outputs": [],
   "source": [
    "# 間取りと間取りIDは削除する\n",
    "train_data_1 = train_data_1.drop('間取り', axis=1)\n",
    "test_data_1 = test_data_1.drop('間取り', axis=1)\n",
    "\n",
    "# train_data_1 = train_data_1.drop('間取りID', axis=1)\n",
    "# test_data_1 = test_data_1.drop('間取りID', axis=1)"
   ]
  },
  {
   "cell_type": "markdown",
   "metadata": {},
   "source": [
    "#### 2.9. 建物の高さ率を追加(高さ率=所在/階層)"
   ]
  },
  {
   "cell_type": "code",
   "execution_count": 31,
   "metadata": {},
   "outputs": [],
   "source": [
    "# 高さ率の算出\n",
    "train_data_1[\"高さ率\"] = (train_data_1[\"所在\"] / train_data_1[\"階層\"]).astype(float)\n",
    "test_data_1[\"高さ率\"] = (test_data_1[\"所在\"] / test_data_1[\"階層\"]).astype(float)"
   ]
  },
  {
   "cell_type": "markdown",
   "metadata": {},
   "source": [
    "### 2.10. 建物構造の数値化"
   ]
  },
  {
   "cell_type": "code",
   "execution_count": 32,
   "metadata": {},
   "outputs": [
    {
     "data": {
      "text/plain": [
       "RC（鉄筋コンクリート）                   17505\n",
       "木造                              5512\n",
       "鉄骨造                             3726\n",
       "SRC（鉄骨鉄筋コンクリート）                 2429\n",
       "軽量鉄骨                            1812\n",
       "ALC（軽量気泡コンクリート）                  297\n",
       "その他                              136\n",
       "PC（プレキャスト・コンクリート（鉄筋コンクリート））       46\n",
       "HPC（プレキャスト・コンクリート（重量鉄骨））           4\n",
       "ブロック                               3\n",
       "Name: 建物構造, dtype: int64"
      ]
     },
     "execution_count": 32,
     "metadata": {},
     "output_type": "execute_result"
    }
   ],
   "source": [
    "train_data_1[\"建物構造\"].value_counts()"
   ]
  },
  {
   "cell_type": "code",
   "execution_count": 33,
   "metadata": {},
   "outputs": [],
   "source": [
    "# 建物構造にlabel encodingを適用\n",
    "from sklearn.preprocessing import LabelEncoder\n",
    "\n",
    "le = LabelEncoder()\n",
    "le.fit(pd.concat([train_data_1[\"建物構造\"],test_data_1[\"建物構造\"]]))\n",
    "\n",
    "train_data_1[\"建物構造ID\"] = le.transform(train_data_1[\"建物構造\"])\n",
    "test_data_1[\"建物構造ID\"] = le.transform(test_data_1[\"建物構造\"])"
   ]
  },
  {
   "cell_type": "code",
   "execution_count": 34,
   "metadata": {},
   "outputs": [
    {
     "data": {
      "text/html": [
       "<div>\n",
       "<style scoped>\n",
       "    .dataframe tbody tr th:only-of-type {\n",
       "        vertical-align: middle;\n",
       "    }\n",
       "\n",
       "    .dataframe tbody tr th {\n",
       "        vertical-align: top;\n",
       "    }\n",
       "\n",
       "    .dataframe thead th {\n",
       "        text-align: right;\n",
       "    }\n",
       "</style>\n",
       "<table border=\"1\" class=\"dataframe\">\n",
       "  <thead>\n",
       "    <tr style=\"text-align: right;\">\n",
       "      <th></th>\n",
       "      <th>id</th>\n",
       "      <th>所在地</th>\n",
       "      <th>築年数</th>\n",
       "      <th>方角</th>\n",
       "      <th>面積m2</th>\n",
       "      <th>建物構造</th>\n",
       "      <th>間取りID</th>\n",
       "      <th>所在</th>\n",
       "      <th>階層</th>\n",
       "      <th>経度</th>\n",
       "      <th>緯度</th>\n",
       "      <th>部屋数</th>\n",
       "      <th>1部屋当たり面積m2</th>\n",
       "      <th>高さ率</th>\n",
       "      <th>建物構造ID</th>\n",
       "    </tr>\n",
       "  </thead>\n",
       "  <tbody>\n",
       "    <tr>\n",
       "      <th>0</th>\n",
       "      <td>31471</td>\n",
       "      <td>東京都世田谷区深沢５丁目1-27</td>\n",
       "      <td>49.000000</td>\n",
       "      <td>南</td>\n",
       "      <td>50.22</td>\n",
       "      <td>鉄骨造</td>\n",
       "      <td>13</td>\n",
       "      <td>8.0</td>\n",
       "      <td>8.0</td>\n",
       "      <td>139.652762</td>\n",
       "      <td>35.617708</td>\n",
       "      <td>3.5</td>\n",
       "      <td>14.348571</td>\n",
       "      <td>1.00</td>\n",
       "      <td>10</td>\n",
       "    </tr>\n",
       "    <tr>\n",
       "      <th>1</th>\n",
       "      <td>31472</td>\n",
       "      <td>東京都目黒区八雲１丁目11-8</td>\n",
       "      <td>0.166667</td>\n",
       "      <td>南東</td>\n",
       "      <td>20.88</td>\n",
       "      <td>RC（鉄筋コンクリート）</td>\n",
       "      <td>8</td>\n",
       "      <td>3.0</td>\n",
       "      <td>4.0</td>\n",
       "      <td>139.672871</td>\n",
       "      <td>35.617709</td>\n",
       "      <td>1.0</td>\n",
       "      <td>20.880000</td>\n",
       "      <td>0.75</td>\n",
       "      <td>3</td>\n",
       "    </tr>\n",
       "    <tr>\n",
       "      <th>2</th>\n",
       "      <td>31473</td>\n",
       "      <td>東京都豊島区池袋本町２丁目22-2</td>\n",
       "      <td>23.333333</td>\n",
       "      <td>南東</td>\n",
       "      <td>26.93</td>\n",
       "      <td>鉄骨造</td>\n",
       "      <td>2</td>\n",
       "      <td>1.0</td>\n",
       "      <td>4.0</td>\n",
       "      <td>139.709049</td>\n",
       "      <td>35.741996</td>\n",
       "      <td>1.0</td>\n",
       "      <td>26.930000</td>\n",
       "      <td>0.25</td>\n",
       "      <td>10</td>\n",
       "    </tr>\n",
       "    <tr>\n",
       "      <th>3</th>\n",
       "      <td>31474</td>\n",
       "      <td>東京都杉並区和泉１丁目</td>\n",
       "      <td>36.166667</td>\n",
       "      <td>南東</td>\n",
       "      <td>23.57</td>\n",
       "      <td>木造</td>\n",
       "      <td>2</td>\n",
       "      <td>1.0</td>\n",
       "      <td>2.0</td>\n",
       "      <td>139.658270</td>\n",
       "      <td>35.673602</td>\n",
       "      <td>1.0</td>\n",
       "      <td>23.570000</td>\n",
       "      <td>0.50</td>\n",
       "      <td>7</td>\n",
       "    </tr>\n",
       "    <tr>\n",
       "      <th>4</th>\n",
       "      <td>31475</td>\n",
       "      <td>東京都杉並区堀ノ内２丁目</td>\n",
       "      <td>45.333333</td>\n",
       "      <td>南</td>\n",
       "      <td>50.00</td>\n",
       "      <td>RC（鉄筋コンクリート）</td>\n",
       "      <td>13</td>\n",
       "      <td>4.0</td>\n",
       "      <td>4.0</td>\n",
       "      <td>139.650468</td>\n",
       "      <td>35.689411</td>\n",
       "      <td>3.5</td>\n",
       "      <td>14.285714</td>\n",
       "      <td>1.00</td>\n",
       "      <td>3</td>\n",
       "    </tr>\n",
       "  </tbody>\n",
       "</table>\n",
       "</div>"
      ],
      "text/plain": [
       "      id                所在地        築年数  方角   面積m2          建物構造  間取りID   所在  \\\n",
       "0  31471   東京都世田谷区深沢５丁目1-27  49.000000   南  50.22           鉄骨造     13  8.0   \n",
       "1  31472    東京都目黒区八雲１丁目11-8   0.166667  南東  20.88  RC（鉄筋コンクリート）      8  3.0   \n",
       "2  31473  東京都豊島区池袋本町２丁目22-2  23.333333  南東  26.93           鉄骨造      2  1.0   \n",
       "3  31474        東京都杉並区和泉１丁目  36.166667  南東  23.57            木造      2  1.0   \n",
       "4  31475       東京都杉並区堀ノ内２丁目  45.333333   南  50.00  RC（鉄筋コンクリート）     13  4.0   \n",
       "\n",
       "    階層          経度         緯度  部屋数  1部屋当たり面積m2   高さ率  建物構造ID  \n",
       "0  8.0  139.652762  35.617708  3.5   14.348571  1.00      10  \n",
       "1  4.0  139.672871  35.617709  1.0   20.880000  0.75       3  \n",
       "2  4.0  139.709049  35.741996  1.0   26.930000  0.25      10  \n",
       "3  2.0  139.658270  35.673602  1.0   23.570000  0.50       7  \n",
       "4  4.0  139.650468  35.689411  3.5   14.285714  1.00       3  "
      ]
     },
     "execution_count": 34,
     "metadata": {},
     "output_type": "execute_result"
    }
   ],
   "source": [
    "test_data_1.head()"
   ]
  },
  {
   "cell_type": "code",
   "execution_count": 35,
   "metadata": {},
   "outputs": [],
   "source": [
    "# 不要になった建物構造カラムを削除する\n",
    "train_data_1 = train_data_1.drop('建物構造', axis=1)\n",
    "test_data_1 = test_data_1.drop('建物構造', axis=1)"
   ]
  },
  {
   "cell_type": "markdown",
   "metadata": {},
   "source": [
    "### 2.11. 新規カラムに「賃料/面積」を追加"
   ]
  },
  {
   "cell_type": "code",
   "execution_count": 36,
   "metadata": {},
   "outputs": [],
   "source": [
    "train_data_1[\"賃料/面積\"] = train_data_1[\"賃料\"] / train_data_1[\"面積m2\"]"
   ]
  },
  {
   "cell_type": "code",
   "execution_count": 37,
   "metadata": {},
   "outputs": [
    {
     "data": {
      "text/html": [
       "<div>\n",
       "<style scoped>\n",
       "    .dataframe tbody tr th:only-of-type {\n",
       "        vertical-align: middle;\n",
       "    }\n",
       "\n",
       "    .dataframe tbody tr th {\n",
       "        vertical-align: top;\n",
       "    }\n",
       "\n",
       "    .dataframe thead th {\n",
       "        text-align: right;\n",
       "    }\n",
       "</style>\n",
       "<table border=\"1\" class=\"dataframe\">\n",
       "  <thead>\n",
       "    <tr style=\"text-align: right;\">\n",
       "      <th></th>\n",
       "      <th>id</th>\n",
       "      <th>所在地</th>\n",
       "      <th>賃料</th>\n",
       "      <th>築年数</th>\n",
       "      <th>方角</th>\n",
       "      <th>面積m2</th>\n",
       "      <th>間取りID</th>\n",
       "      <th>所在</th>\n",
       "      <th>階層</th>\n",
       "      <th>経度</th>\n",
       "      <th>緯度</th>\n",
       "      <th>部屋数</th>\n",
       "      <th>1部屋当たり面積m2</th>\n",
       "      <th>高さ率</th>\n",
       "      <th>建物構造ID</th>\n",
       "      <th>賃料/面積</th>\n",
       "    </tr>\n",
       "  </thead>\n",
       "  <tbody>\n",
       "    <tr>\n",
       "      <th>0</th>\n",
       "      <td>1</td>\n",
       "      <td>東京都北区滝野川３丁目</td>\n",
       "      <td>75000</td>\n",
       "      <td>9.750000</td>\n",
       "      <td>南東</td>\n",
       "      <td>20.01</td>\n",
       "      <td>2</td>\n",
       "      <td>1.0</td>\n",
       "      <td>12.0</td>\n",
       "      <td>139.727873</td>\n",
       "      <td>35.747759</td>\n",
       "      <td>1.0</td>\n",
       "      <td>20.01</td>\n",
       "      <td>0.083333</td>\n",
       "      <td>3</td>\n",
       "      <td>3748.125937</td>\n",
       "    </tr>\n",
       "    <tr>\n",
       "      <th>1</th>\n",
       "      <td>2</td>\n",
       "      <td>東京都中央区月島３丁目</td>\n",
       "      <td>76000</td>\n",
       "      <td>44.833333</td>\n",
       "      <td>NaN</td>\n",
       "      <td>16.50</td>\n",
       "      <td>8</td>\n",
       "      <td>5.0</td>\n",
       "      <td>10.0</td>\n",
       "      <td>139.780485</td>\n",
       "      <td>35.662406</td>\n",
       "      <td>1.0</td>\n",
       "      <td>16.50</td>\n",
       "      <td>0.500000</td>\n",
       "      <td>10</td>\n",
       "      <td>4606.060606</td>\n",
       "    </tr>\n",
       "    <tr>\n",
       "      <th>2</th>\n",
       "      <td>3</td>\n",
       "      <td>東京都渋谷区笹塚２丁目</td>\n",
       "      <td>110000</td>\n",
       "      <td>8.500000</td>\n",
       "      <td>南</td>\n",
       "      <td>22.05</td>\n",
       "      <td>2</td>\n",
       "      <td>12.0</td>\n",
       "      <td>15.0</td>\n",
       "      <td>139.667375</td>\n",
       "      <td>35.675358</td>\n",
       "      <td>1.0</td>\n",
       "      <td>22.05</td>\n",
       "      <td>0.800000</td>\n",
       "      <td>3</td>\n",
       "      <td>4988.662132</td>\n",
       "    </tr>\n",
       "    <tr>\n",
       "      <th>3</th>\n",
       "      <td>4</td>\n",
       "      <td>東京都杉並区高円寺南２丁目23-2</td>\n",
       "      <td>150000</td>\n",
       "      <td>29.333333</td>\n",
       "      <td>南</td>\n",
       "      <td>60.48</td>\n",
       "      <td>13</td>\n",
       "      <td>3.0</td>\n",
       "      <td>4.0</td>\n",
       "      <td>139.648495</td>\n",
       "      <td>35.700193</td>\n",
       "      <td>3.5</td>\n",
       "      <td>17.28</td>\n",
       "      <td>0.750000</td>\n",
       "      <td>3</td>\n",
       "      <td>2480.158730</td>\n",
       "    </tr>\n",
       "    <tr>\n",
       "      <th>4</th>\n",
       "      <td>5</td>\n",
       "      <td>東京都葛飾区金町３丁目7-2</td>\n",
       "      <td>74000</td>\n",
       "      <td>31.583333</td>\n",
       "      <td>南</td>\n",
       "      <td>39.66</td>\n",
       "      <td>9</td>\n",
       "      <td>1.0</td>\n",
       "      <td>2.0</td>\n",
       "      <td>139.872315</td>\n",
       "      <td>35.766413</td>\n",
       "      <td>3.0</td>\n",
       "      <td>13.22</td>\n",
       "      <td>0.500000</td>\n",
       "      <td>7</td>\n",
       "      <td>1865.859808</td>\n",
       "    </tr>\n",
       "  </tbody>\n",
       "</table>\n",
       "</div>"
      ],
      "text/plain": [
       "   id                所在地      賃料        築年数   方角   面積m2  間取りID    所在    階層  \\\n",
       "0   1        東京都北区滝野川３丁目   75000   9.750000   南東  20.01      2   1.0  12.0   \n",
       "1   2        東京都中央区月島３丁目   76000  44.833333  NaN  16.50      8   5.0  10.0   \n",
       "2   3        東京都渋谷区笹塚２丁目  110000   8.500000    南  22.05      2  12.0  15.0   \n",
       "3   4  東京都杉並区高円寺南２丁目23-2  150000  29.333333    南  60.48     13   3.0   4.0   \n",
       "4   5     東京都葛飾区金町３丁目7-2   74000  31.583333    南  39.66      9   1.0   2.0   \n",
       "\n",
       "           経度         緯度  部屋数  1部屋当たり面積m2       高さ率  建物構造ID        賃料/面積  \n",
       "0  139.727873  35.747759  1.0       20.01  0.083333       3  3748.125937  \n",
       "1  139.780485  35.662406  1.0       16.50  0.500000      10  4606.060606  \n",
       "2  139.667375  35.675358  1.0       22.05  0.800000       3  4988.662132  \n",
       "3  139.648495  35.700193  3.5       17.28  0.750000       3  2480.158730  \n",
       "4  139.872315  35.766413  3.0       13.22  0.500000       7  1865.859808  "
      ]
     },
     "execution_count": 37,
     "metadata": {},
     "output_type": "execute_result"
    }
   ],
   "source": [
    "train_data_1.head()"
   ]
  },
  {
   "cell_type": "markdown",
   "metadata": {},
   "source": [
    "### 2.12. 東京23区の地域ごとに、住宅地の平均地価情報を追加"
   ]
  },
  {
   "cell_type": "code",
   "execution_count": 38,
   "metadata": {},
   "outputs": [],
   "source": [
    "# 区の情報の確認(23区だけだった)\n",
    "# sample = train_data[\"所在地\"].str.extract(\"東京都(.+区)\", expand=True)\n",
    "# sample.value_counts()"
   ]
  },
  {
   "cell_type": "code",
   "execution_count": 39,
   "metadata": {},
   "outputs": [
    {
     "name": "stdout",
     "output_type": "stream",
     "text": [
      "31470\n",
      "31262\n"
     ]
    }
   ],
   "source": [
    "print(len(train_data_1))\n",
    "print(len(test_data_1))"
   ]
  },
  {
   "cell_type": "code",
   "execution_count": 40,
   "metadata": {},
   "outputs": [],
   "source": [
    "# 訓練データとテストデータに、エリア情報を追加\n",
    "train_data_1[\"エリア\"] = \"\"\n",
    "test_data_1[\"エリア\"] = \"\"\n",
    "train_data_1[\"エリア\"] = train_data_1[\"所在地\"].str.extract(\"東京都((.+区.+?)[０-９]|(.+区.+?)[0-9]|(.+区.+))\", expand=True)\n",
    "test_data_1[\"エリア\"] = test_data_1[\"所在地\"].str.extract(\"東京都((.+区.+?)[０-９]|(.+区.+?)[0-9]|(.+区.+))\", expand=True)"
   ]
  },
  {
   "cell_type": "code",
   "execution_count": 41,
   "metadata": {},
   "outputs": [
    {
     "name": "stdout",
     "output_type": "stream",
     "text": [
      "31470\n",
      "31262\n"
     ]
    }
   ],
   "source": [
    "print(len(train_data_1))\n",
    "print(len(test_data_1))"
   ]
  },
  {
   "cell_type": "code",
   "execution_count": 42,
   "metadata": {},
   "outputs": [],
   "source": [
    "# 一部エリア情報に数値が残ってしまうので、消す\n",
    "train_data_1[\"エリア\"] = train_data_1[\"エリア\"].str.replace(\"[０-９]|[0-9]\", \"\")\n",
    "train_data_1[\"エリア\"] = train_data_1[\"エリア\"].str.replace(\"一丁目\", \"\")\n",
    "train_data_1[\"エリア\"] = train_data_1[\"エリア\"].str.replace(\"-\", \"\")\n",
    "\n",
    "test_data_1[\"エリア\"] = test_data_1[\"エリア\"].str.replace(\"[０-９]|[0-9]\", \"\")\n",
    "test_data_1[\"エリア\"] = test_data_1[\"エリア\"].str.replace(\"一丁目\", \"\")\n",
    "test_data_1[\"エリア\"] = test_data_1[\"エリア\"].str.replace(\"二丁目\", \"\")\n",
    "test_data_1[\"エリア\"] = test_data_1[\"エリア\"].str.replace(\"四丁目\", \"\")"
   ]
  },
  {
   "cell_type": "code",
   "execution_count": 43,
   "metadata": {},
   "outputs": [
    {
     "name": "stdout",
     "output_type": "stream",
     "text": [
      "31470\n",
      "31262\n"
     ]
    }
   ],
   "source": [
    "print(len(train_data_1))\n",
    "print(len(test_data_1))"
   ]
  },
  {
   "cell_type": "code",
   "execution_count": 44,
   "metadata": {},
   "outputs": [],
   "source": [
    "# 坪単価情報の読込～結合\n",
    "wards_value = pd.read_excel(\"23区_地域毎_坪単価.xlsx\")\n",
    "train_data_1 = pd.merge(train_data_1, wards_value, on=\"エリア\", how=\"left\")\n",
    "test_data_1 = pd.merge(test_data_1, wards_value, on=\"エリア\", how=\"left\")\n",
    "train_data_1 = train_data_1.sort_values(\"id\")\n",
    "test_data_1 = test_data_1.sort_values(\"id\")"
   ]
  },
  {
   "cell_type": "code",
   "execution_count": 45,
   "metadata": {},
   "outputs": [],
   "source": [
    "# 地価の抜けデータを平均値で補間\n",
    "# 江東区\n",
    "train_data_1.loc[train_data_1[\"id\"]==2767, \"平均坪単価（万円）\"] = 206.6\n",
    "train_data_1.loc[train_data_1[\"id\"]==7559, \"平均坪単価（万円）\"] = 206.6\n",
    "# 港区\n",
    "train_data_1.loc[train_data_1[\"id\"]==17654, \"平均坪単価（万円）\"] = 1321.4"
   ]
  },
  {
   "cell_type": "code",
   "execution_count": 46,
   "metadata": {},
   "outputs": [
    {
     "name": "stdout",
     "output_type": "stream",
     "text": [
      "31470\n",
      "31262\n"
     ]
    }
   ],
   "source": [
    "print(len(train_data_1))\n",
    "print(len(test_data_1))"
   ]
  },
  {
   "cell_type": "code",
   "execution_count": 47,
   "metadata": {},
   "outputs": [
    {
     "name": "stdout",
     "output_type": "stream",
     "text": [
      "Empty DataFrame\n",
      "Columns: [id, 所在地, 賃料, 築年数, 方角, 面積m2, 間取りID, 所在, 階層, 経度, 緯度, 部屋数, 1部屋当たり面積m2, 高さ率, 建物構造ID, 賃料/面積, エリア, 区, 地名, 平均坪単価（万円）]\n",
      "Index: []\n",
      "Empty DataFrame\n",
      "Columns: [id, 所在地, 築年数, 方角, 面積m2, 間取りID, 所在, 階層, 経度, 緯度, 部屋数, 1部屋当たり面積m2, 高さ率, 建物構造ID, エリア, 区, 地名, 平均坪単価（万円）]\n",
      "Index: []\n"
     ]
    }
   ],
   "source": [
    "print(train_data_1[train_data_1[\"平均坪単価（万円）\"].isnull()])\n",
    "print(test_data_1[test_data_1[\"平均坪単価（万円）\"].isnull()])"
   ]
  },
  {
   "cell_type": "code",
   "execution_count": 48,
   "metadata": {},
   "outputs": [],
   "source": [
    "# 不要なカラムを削除する\n",
    "# train_data_1 = train_data_1.drop([\"所在地\", \"エリア\", \"区\", \"地名\"], axis=1)\n",
    "# test_data_1 = test_data_1.drop([\"所在地\", \"エリア\", \"区\", \"地名\"], axis=1)\n",
    "train_data_1 = train_data_1.drop([\"エリア\", \"地名\"], axis=1)\n",
    "test_data_1 = test_data_1.drop([\"エリア\", \"地名\"], axis=1)"
   ]
  },
  {
   "cell_type": "code",
   "execution_count": 49,
   "metadata": {},
   "outputs": [
    {
     "data": {
      "text/html": [
       "<div>\n",
       "<style scoped>\n",
       "    .dataframe tbody tr th:only-of-type {\n",
       "        vertical-align: middle;\n",
       "    }\n",
       "\n",
       "    .dataframe tbody tr th {\n",
       "        vertical-align: top;\n",
       "    }\n",
       "\n",
       "    .dataframe thead th {\n",
       "        text-align: right;\n",
       "    }\n",
       "</style>\n",
       "<table border=\"1\" class=\"dataframe\">\n",
       "  <thead>\n",
       "    <tr style=\"text-align: right;\">\n",
       "      <th></th>\n",
       "      <th>id</th>\n",
       "      <th>所在地</th>\n",
       "      <th>賃料</th>\n",
       "      <th>築年数</th>\n",
       "      <th>方角</th>\n",
       "      <th>面積m2</th>\n",
       "      <th>間取りID</th>\n",
       "      <th>所在</th>\n",
       "      <th>階層</th>\n",
       "      <th>経度</th>\n",
       "      <th>緯度</th>\n",
       "      <th>部屋数</th>\n",
       "      <th>1部屋当たり面積m2</th>\n",
       "      <th>高さ率</th>\n",
       "      <th>建物構造ID</th>\n",
       "      <th>賃料/面積</th>\n",
       "      <th>区</th>\n",
       "      <th>平均坪単価（万円）</th>\n",
       "    </tr>\n",
       "  </thead>\n",
       "  <tbody>\n",
       "    <tr>\n",
       "      <th>0</th>\n",
       "      <td>1</td>\n",
       "      <td>東京都北区滝野川３丁目</td>\n",
       "      <td>75000</td>\n",
       "      <td>9.750000</td>\n",
       "      <td>南東</td>\n",
       "      <td>20.01</td>\n",
       "      <td>2</td>\n",
       "      <td>1.0</td>\n",
       "      <td>12.0</td>\n",
       "      <td>139.727873</td>\n",
       "      <td>35.747759</td>\n",
       "      <td>1.0</td>\n",
       "      <td>20.01</td>\n",
       "      <td>0.083333</td>\n",
       "      <td>3</td>\n",
       "      <td>3748.125937</td>\n",
       "      <td>北区</td>\n",
       "      <td>180.0</td>\n",
       "    </tr>\n",
       "    <tr>\n",
       "      <th>1</th>\n",
       "      <td>2</td>\n",
       "      <td>東京都中央区月島３丁目</td>\n",
       "      <td>76000</td>\n",
       "      <td>44.833333</td>\n",
       "      <td>NaN</td>\n",
       "      <td>16.50</td>\n",
       "      <td>8</td>\n",
       "      <td>5.0</td>\n",
       "      <td>10.0</td>\n",
       "      <td>139.780485</td>\n",
       "      <td>35.662406</td>\n",
       "      <td>1.0</td>\n",
       "      <td>16.50</td>\n",
       "      <td>0.500000</td>\n",
       "      <td>10</td>\n",
       "      <td>4606.060606</td>\n",
       "      <td>中央区</td>\n",
       "      <td>323.0</td>\n",
       "    </tr>\n",
       "    <tr>\n",
       "      <th>2</th>\n",
       "      <td>3</td>\n",
       "      <td>東京都渋谷区笹塚２丁目</td>\n",
       "      <td>110000</td>\n",
       "      <td>8.500000</td>\n",
       "      <td>南</td>\n",
       "      <td>22.05</td>\n",
       "      <td>2</td>\n",
       "      <td>12.0</td>\n",
       "      <td>15.0</td>\n",
       "      <td>139.667375</td>\n",
       "      <td>35.675358</td>\n",
       "      <td>1.0</td>\n",
       "      <td>22.05</td>\n",
       "      <td>0.800000</td>\n",
       "      <td>3</td>\n",
       "      <td>4988.662132</td>\n",
       "      <td>渋谷区</td>\n",
       "      <td>324.0</td>\n",
       "    </tr>\n",
       "    <tr>\n",
       "      <th>3</th>\n",
       "      <td>4</td>\n",
       "      <td>東京都杉並区高円寺南２丁目23-2</td>\n",
       "      <td>150000</td>\n",
       "      <td>29.333333</td>\n",
       "      <td>南</td>\n",
       "      <td>60.48</td>\n",
       "      <td>13</td>\n",
       "      <td>3.0</td>\n",
       "      <td>4.0</td>\n",
       "      <td>139.648495</td>\n",
       "      <td>35.700193</td>\n",
       "      <td>3.5</td>\n",
       "      <td>17.28</td>\n",
       "      <td>0.750000</td>\n",
       "      <td>3</td>\n",
       "      <td>2480.158730</td>\n",
       "      <td>杉並区</td>\n",
       "      <td>253.0</td>\n",
       "    </tr>\n",
       "    <tr>\n",
       "      <th>4</th>\n",
       "      <td>5</td>\n",
       "      <td>東京都葛飾区金町３丁目7-2</td>\n",
       "      <td>74000</td>\n",
       "      <td>31.583333</td>\n",
       "      <td>南</td>\n",
       "      <td>39.66</td>\n",
       "      <td>9</td>\n",
       "      <td>1.0</td>\n",
       "      <td>2.0</td>\n",
       "      <td>139.872315</td>\n",
       "      <td>35.766413</td>\n",
       "      <td>3.0</td>\n",
       "      <td>13.22</td>\n",
       "      <td>0.500000</td>\n",
       "      <td>7</td>\n",
       "      <td>1865.859808</td>\n",
       "      <td>葛飾区</td>\n",
       "      <td>111.0</td>\n",
       "    </tr>\n",
       "  </tbody>\n",
       "</table>\n",
       "</div>"
      ],
      "text/plain": [
       "   id                所在地      賃料        築年数   方角   面積m2  間取りID    所在    階層  \\\n",
       "0   1        東京都北区滝野川３丁目   75000   9.750000   南東  20.01      2   1.0  12.0   \n",
       "1   2        東京都中央区月島３丁目   76000  44.833333  NaN  16.50      8   5.0  10.0   \n",
       "2   3        東京都渋谷区笹塚２丁目  110000   8.500000    南  22.05      2  12.0  15.0   \n",
       "3   4  東京都杉並区高円寺南２丁目23-2  150000  29.333333    南  60.48     13   3.0   4.0   \n",
       "4   5     東京都葛飾区金町３丁目7-2   74000  31.583333    南  39.66      9   1.0   2.0   \n",
       "\n",
       "           経度         緯度  部屋数  1部屋当たり面積m2       高さ率  建物構造ID        賃料/面積    区  \\\n",
       "0  139.727873  35.747759  1.0       20.01  0.083333       3  3748.125937   北区   \n",
       "1  139.780485  35.662406  1.0       16.50  0.500000      10  4606.060606  中央区   \n",
       "2  139.667375  35.675358  1.0       22.05  0.800000       3  4988.662132  渋谷区   \n",
       "3  139.648495  35.700193  3.5       17.28  0.750000       3  2480.158730  杉並区   \n",
       "4  139.872315  35.766413  3.0       13.22  0.500000       7  1865.859808  葛飾区   \n",
       "\n",
       "   平均坪単価（万円）  \n",
       "0      180.0  \n",
       "1      323.0  \n",
       "2      324.0  \n",
       "3      253.0  \n",
       "4      111.0  "
      ]
     },
     "execution_count": 49,
     "metadata": {},
     "output_type": "execute_result"
    }
   ],
   "source": [
    "train_data_1.head()"
   ]
  },
  {
   "cell_type": "markdown",
   "metadata": {},
   "source": [
    "### 2.13. 最寄り駅までの徒歩分数を追加"
   ]
  },
  {
   "cell_type": "code",
   "execution_count": 50,
   "metadata": {},
   "outputs": [],
   "source": [
    "# 精度悪化の要因になるため無効化\n",
    "# train_data_1[\"アクセス\"] = (train_data[\"アクセス\"].str.extract(\"徒歩(.+?)\", expand=True)).astype(float)\n",
    "# test_data_1[\"アクセス\"] = (test_data[\"アクセス\"].str.extract(\"徒歩(.+?)\", expand=True)).astype(float)"
   ]
  },
  {
   "cell_type": "markdown",
   "metadata": {},
   "source": [
    "### 2.14. 方角の数値化"
   ]
  },
  {
   "cell_type": "code",
   "execution_count": 51,
   "metadata": {},
   "outputs": [],
   "source": [
    "train_data_1[\"方角\"].fillna(\"missing\", inplace=True)\n",
    "test_data_1[\"方角\"].fillna(\"missing\", inplace=True)"
   ]
  },
  {
   "cell_type": "code",
   "execution_count": 52,
   "metadata": {},
   "outputs": [],
   "source": [
    "# 方角にlabel encodingを適用\n",
    "from sklearn.preprocessing import LabelEncoder\n",
    "\n",
    "le = LabelEncoder()\n",
    "le.fit(pd.concat([train_data_1[\"方角\"],test_data_1[\"方角\"]]))\n",
    "\n",
    "train_data_1[\"方角ID\"] = le.transform(train_data_1[\"方角\"])\n",
    "test_data_1[\"方角ID\"] = le.transform(test_data_1[\"方角\"])"
   ]
  },
  {
   "cell_type": "code",
   "execution_count": 53,
   "metadata": {},
   "outputs": [],
   "source": [
    "# 方角のカラムを削除\n",
    "train_data_1 = train_data_1.drop(\"方角\", axis=1)\n",
    "test_data_1 = test_data_1.drop(\"方角\", axis=1)"
   ]
  },
  {
   "cell_type": "markdown",
   "metadata": {},
   "source": [
    "### 2.15. 23区毎の人口、区面積、人口密度の追加"
   ]
  },
  {
   "cell_type": "code",
   "execution_count": 54,
   "metadata": {},
   "outputs": [],
   "source": [
    "# 今後のために、一旦\"区\"以下の地域データを出力する\n",
    "train_data_1[\"地域\"] = \"\"\n",
    "test_data_1[\"地域\"] = \"\"\n",
    "train_data_1[\"地域\"] = train_data_1[\"所在地\"].str.extract(\"東京都.+区((.+?)[０-９]|(.+?)[0-9]|(.+))\", expand=True)\n",
    "test_data_1[\"地域\"] = test_data_1[\"所在地\"].str.extract(\"東京都.+区((.+?)[０-９]|(.+?)[0-9]|(.+))\", expand=True)\n",
    "# test[\"地域\"] = test[\"所在地\"].str.extract(\"東京都.+区((.+?)丁目|(.*)(?!丁目))\", expand=True) # \"丁目\"基準で抜き出すパターン"
   ]
  },
  {
   "cell_type": "code",
   "execution_count": 55,
   "metadata": {},
   "outputs": [],
   "source": [
    "# 区と地域を結合する\n",
    "train_data_1[\"区+地域\"] = train_data_1[\"区\"].str.cat(train_data_1[\"地域\"])\n",
    "test_data_1[\"区+地域\"] = test_data_1[\"区\"].str.cat(test_data_1[\"地域\"])"
   ]
  },
  {
   "cell_type": "code",
   "execution_count": 56,
   "metadata": {},
   "outputs": [],
   "source": [
    "# 数字を消す　※番地までは細かすぎる。また表記のあり/なしの差が大きすぎるため。\n",
    "train_data_1[\"区+地域\"] = train_data_1[\"区+地域\"].str.replace(\"[0-9]|[０-９]\", \"\")\n",
    "test_data_1[\"区+地域\"] = test_data_1[\"区+地域\"].str.replace(\"[0-9]|[０-９]\", \"\")"
   ]
  },
  {
   "cell_type": "code",
   "execution_count": 57,
   "metadata": {},
   "outputs": [
    {
     "name": "stderr",
     "output_type": "stream",
     "text": [
      "C:\\Users\\emma_\\AppData\\Roaming\\Python\\Python37\\site-packages\\pandas\\core\\indexing.py:671: SettingWithCopyWarning: \n",
      "A value is trying to be set on a copy of a slice from a DataFrame\n",
      "\n",
      "See the caveats in the documentation: https://pandas.pydata.org/pandas-docs/stable/user_guide/indexing.html#returning-a-view-versus-a-copy\n",
      "  self._setitem_with_indexer(indexer, value)\n"
     ]
    }
   ],
   "source": [
    "# 同音異語の置換(ﾉ、ヶ、ｹ、ツ)\n",
    "train_data_1[\"区+地域\"] = train_data_1[\"区+地域\"].str.replace(\"ﾉ\", \"ノ\")\n",
    "train_data_1[\"区+地域\"] = train_data_1[\"区+地域\"].str.replace(\"ヶ\", \"ケ\")\n",
    "train_data_1[\"区+地域\"] = train_data_1[\"区+地域\"].str.replace(\"ｹ\", \"ケ\")\n",
    "train_data_1[\"区+地域\"] = train_data_1[\"区+地域\"].str.replace(\"ﾂ\", \"ツ\")\n",
    "# 間違った住所や旧字体の訂正\n",
    "train_data_1[\"区+地域\"] = train_data_1[\"区+地域\"].str.replace(\"新宿区四谷本塩町\", \"新宿区本塩町\")\n",
    "train_data_1[\"区+地域\"] = train_data_1[\"区+地域\"].str.replace(\"千代田区神田猿楽町\", \"千代田区猿楽町\")\n",
    "train_data_1[\"区+地域\"] = train_data_1[\"区+地域\"].str.replace(\"新宿区四谷三栄町\", \"新宿区三栄町\")\n",
    "train_data_1[\"区+地域\"] = train_data_1[\"区+地域\"].str.replace(\"千代田区神田三崎町\", \"千代田区三崎町\")\n",
    "\n",
    "train_data_1[\"区+地域\"] = train_data_1[\"区+地域\"].str.replace(\"蠣殻町\", \"蛎殻町\")\n",
    "train_data_1[\"区+地域\"] = train_data_1[\"区+地域\"].str.replace(\"渋谷区松濤\", \"渋谷区松涛\")\n",
    "train_data_1[\"区+地域\"] = train_data_1[\"区+地域\"].str.replace(\"渋谷区鶯谷町\", \"渋谷区鴬谷町\")\n",
    "\n",
    "train_data_1[\"区+地域\"] = train_data_1[\"区+地域\"].str.replace(\"一丁目\", \"\")\n",
    "train_data_1[\"区+地域\"] = train_data_1[\"区+地域\"].str.replace(\"二丁目\", \"\")\n",
    "train_data_1[\"区+地域\"] = train_data_1[\"区+地域\"].str.replace(\"三丁目\", \"\")\n",
    "train_data_1[\"区+地域\"] = train_data_1[\"区+地域\"].str.replace(\"四丁目\", \"\")\n",
    "\n",
    "# 同音異語の置換(ﾉ、ヶ、ｹ、ツ)\n",
    "test_data_1[\"区+地域\"] = test_data_1[\"区+地域\"].str.replace(\"ﾉ\", \"ノ\")\n",
    "test_data_1[\"区+地域\"] = test_data_1[\"区+地域\"].str.replace(\"ヶ\", \"ケ\")\n",
    "test_data_1[\"区+地域\"] = test_data_1[\"区+地域\"].str.replace(\"ｹ\", \"ケ\")\n",
    "test_data_1[\"区+地域\"] = test_data_1[\"区+地域\"].str.replace(\"ﾂ\", \"ツ\")\n",
    "# 間違った住所や旧字体の訂正\n",
    "test_data_1[\"区+地域\"] = test_data_1[\"区+地域\"].str.replace(\"新宿区四谷本塩町\", \"新宿区本塩町\")\n",
    "test_data_1[\"区+地域\"] = test_data_1[\"区+地域\"].str.replace(\"千代田区神田猿楽町\", \"千代田区猿楽町\")\n",
    "test_data_1[\"区+地域\"] = test_data_1[\"区+地域\"].str.replace(\"新宿区四谷三栄町\", \"新宿区三栄町\")\n",
    "test_data_1[\"区+地域\"] = test_data_1[\"区+地域\"].str.replace(\"千代田区神田三崎町\", \"千代田区三崎町\")\n",
    "\n",
    "test_data_1[\"区+地域\"] = test_data_1[\"区+地域\"].str.replace(\"蠣殻町\", \"蛎殻町\")\n",
    "test_data_1[\"区+地域\"] = test_data_1[\"区+地域\"].str.replace(\"渋谷区松濤\", \"渋谷区松涛\")\n",
    "test_data_1[\"区+地域\"] = test_data_1[\"区+地域\"].str.replace(\"渋谷区鶯谷町\", \"渋谷区鴬谷町\")\n",
    "\n",
    "test_data_1[\"区+地域\"] = test_data_1[\"区+地域\"].str.replace(\"一丁目\", \"\")\n",
    "test_data_1[\"区+地域\"] = test_data_1[\"区+地域\"].str.replace(\"二丁目\", \"\")\n",
    "test_data_1[\"区+地域\"] = test_data_1[\"区+地域\"].str.replace(\"三丁目\", \"\")\n",
    "test_data_1[\"区+地域\"] = test_data_1[\"区+地域\"].str.replace(\"四丁目\", \"\")\n",
    "\n",
    "# 区までしか所在地に記載されていない物件の対処(train_dataのみ)\n",
    "train_data_1[\"区+地域\"].loc[train_data_1[\"id\"]==2767] = \"江東区\"\n",
    "train_data_1[\"区+地域\"].loc[train_data_1[\"id\"]==7559] = \"江東区\"\n",
    "train_data_1[\"区+地域\"].loc[train_data_1[\"id\"]==17654] = \"港区\"\n",
    "\n",
    "train_data_1[\"区\"].loc[train_data_1[\"id\"]==2767] = \"江東区\"\n",
    "train_data_1[\"区\"].loc[train_data_1[\"id\"]==7559] = \"江東区\"\n",
    "train_data_1[\"区\"].loc[train_data_1[\"id\"]==17654] = \"港区\""
   ]
  },
  {
   "cell_type": "code",
   "execution_count": 58,
   "metadata": {},
   "outputs": [],
   "source": [
    "# 人口、面積、年収データを読み込み、整形\n",
    "population = pd.read_excel(\"./23区別国勢調査結果/人口と面積/23区.xls\")\n",
    "annual_income = pd.read_excel(\"./23区別国勢調査結果/年収/23区年収.xls\")\n",
    "\n",
    "# 不要なカラムを消す\n",
    "population = population.drop([\"区\", \"地域\"], axis=1)"
   ]
  },
  {
   "cell_type": "code",
   "execution_count": 59,
   "metadata": {},
   "outputs": [],
   "source": [
    "# データの結合\n",
    "train_data_1 = pd.merge(train_data_1, population, on=\"区+地域\", how=\"left\")\n",
    "train_data_1 = pd.merge(train_data_1, annual_income, on=\"区\", how=\"left\")\n",
    "\n",
    "test_data_1 = pd.merge(test_data_1, population, on=\"区+地域\", how=\"left\")\n",
    "test_data_1 = pd.merge(test_data_1, annual_income, on=\"区\", how=\"left\")"
   ]
  },
  {
   "cell_type": "code",
   "execution_count": 60,
   "metadata": {},
   "outputs": [],
   "source": [
    "# 結合後、不要なカラムを消す\n",
    "train_data_1 = train_data_1.drop([\"所在地\", \"区\", \"地域\", \"区+地域\"], axis=1)\n",
    "test_data_1 = test_data_1.drop([\"所在地\", \"区\", \"地域\", \"区+地域\"], axis=1)"
   ]
  },
  {
   "cell_type": "code",
   "execution_count": 61,
   "metadata": {},
   "outputs": [],
   "source": [
    "# 結合したカラムの要素をfloat型に変換する ( 人口総数, 面積, 人口密度, 0～14歳, 15～64歳, 65歳以上, うち75歳以上, 外国人)\n",
    "train_data_1[\"人口総数\"] = train_data_1[\"人口総数\"].astype(float)\n",
    "train_data_1[\"人口密度\"] = train_data_1[\"人口密度\"].astype(float)\n",
    "train_data_1[\"区面積\"] = train_data_1[\"区面積\"].astype(float)\n",
    "train_data_1[\"0～14歳\"] = train_data_1[\"0～14歳\"].astype(float)\n",
    "train_data_1[\"15～64歳\"] = train_data_1[\"15～64歳\"].astype(float)\n",
    "train_data_1[\"65歳以上\"] = train_data_1[\"65歳以上\"].astype(float)\n",
    "train_data_1[\"うち75歳以上\"] = train_data_1[\"うち75歳以上\"].astype(float)\n",
    "train_data_1[\"外国人\"] = train_data_1[\"外国人\"].astype(float)\n",
    "\n",
    "test_data_1[\"人口総数\"] = test_data_1[\"人口総数\"].astype(float)\n",
    "test_data_1[\"人口密度\"] = test_data_1[\"人口密度\"].astype(float)\n",
    "test_data_1[\"区面積\"] = test_data_1[\"区面積\"].astype(float)\n",
    "test_data_1[\"0～14歳\"] = test_data_1[\"0～14歳\"].astype(float)\n",
    "test_data_1[\"15～64歳\"] = test_data_1[\"15～64歳\"].astype(float)\n",
    "test_data_1[\"65歳以上\"] = test_data_1[\"65歳以上\"].astype(float)\n",
    "test_data_1[\"うち75歳以上\"] = test_data_1[\"うち75歳以上\"].astype(float)\n",
    "test_data_1[\"外国人\"] = test_data_1[\"外国人\"].astype(float)"
   ]
  },
  {
   "cell_type": "code",
   "execution_count": 62,
   "metadata": {},
   "outputs": [],
   "source": [
    "# ★スコアが2000近く悪化したので、年収以外は削る\n",
    "train_data_1 = train_data_1.drop([\"人口総数\", \"人口密度\", \"区面積\", \"0～14歳\", \"15～64歳\", \"65歳以上\", \"うち75歳以上\", \"外国人\"], axis=1)\n",
    "test_data_1 = test_data_1.drop([\"人口総数\", \"人口密度\", \"区面積\", \"0～14歳\", \"15～64歳\", \"65歳以上\", \"うち75歳以上\", \"外国人\"], axis=1)"
   ]
  },
  {
   "cell_type": "markdown",
   "metadata": {},
   "source": [
    "### 2.16. 重複物件の抽出・削除"
   ]
  },
  {
   "cell_type": "code",
   "execution_count": 63,
   "metadata": {},
   "outputs": [],
   "source": [
    "# 重複確認用のデータ出力\n",
    "# train_duplicate = pd.concat([train_data[[\"id\", \"賃料\", \"所在地\"]], train_data_1[[\"間取りID\", \"面積m2\", \"所在\", \"階層\"]]], axis=1)\n",
    "# test_duplicate = pd.concat([test_data[[\"id\", \"所在地\"]], test_data_1[[\"間取りID\", \"面積m2\", \"所在\", \"階層\"]]], axis=1)"
   ]
  },
  {
   "cell_type": "code",
   "execution_count": 64,
   "metadata": {},
   "outputs": [],
   "source": [
    "# 結果の出力\n",
    "# train_duplicate.to_excel(\"train_duplicate.xlsx\", header=True, index=False)\n",
    "# test_duplicate.to_excel(\"test_duplicate.xlsx\", header=True, index=False)"
   ]
  },
  {
   "cell_type": "code",
   "execution_count": 65,
   "metadata": {},
   "outputs": [],
   "source": [
    "# 重複対象のデータ読み込み\n",
    "train_duplicate_flag = pd.read_excel(\"train_duplicate_flag.xlsx\")\n",
    "test_duplicate_flag = pd.read_excel(\"test_duplicate_flag.xlsx\")"
   ]
  },
  {
   "cell_type": "code",
   "execution_count": 66,
   "metadata": {},
   "outputs": [
    {
     "name": "stdout",
     "output_type": "stream",
     "text": [
      "Train: 31470 - 31470 = 0\n",
      "Test: 31262 - 31262 = 0\n"
     ]
    }
   ],
   "source": [
    "# データ数のチェック\n",
    "print(\"Train:\", len(train_data_1), \"-\", len(train_duplicate_flag), \"=\", len(train_data_1)-len(train_duplicate_flag))\n",
    "print(\"Test:\", len(test_data_1), \"-\", len(test_duplicate_flag), \"=\", len(test_data_1)-len(test_duplicate_flag))"
   ]
  },
  {
   "cell_type": "code",
   "execution_count": 67,
   "metadata": {},
   "outputs": [],
   "source": [
    "# 重複フラグを結合\n",
    "train_data_1 = pd.merge(train_data_1, train_duplicate_flag, on=\"id\")\n",
    "train_data_1 = train_data_1.rename(columns={\"賃料_x\":\"賃料\"})\n",
    "train_data_1 = train_data_1.drop('賃料_y', axis=1)\n",
    "\n",
    "test_data_1 = pd.merge(test_data_1, test_duplicate_flag, on=\"id\")"
   ]
  },
  {
   "cell_type": "code",
   "execution_count": 68,
   "metadata": {},
   "outputs": [
    {
     "name": "stdout",
     "output_type": "stream",
     "text": [
      "【削除前】 train: 31470 ,  test: 31262\n",
      "【削除後】 train: 31470 ,  test: 24812\n"
     ]
    }
   ],
   "source": [
    "# testデータからのみ、flag=1.0の列を削除\n",
    "print(\"【削除前】\", \"train:\", len(train_data_1), \", \", \"test:\", len(test_data_1))\n",
    "#train_data_1 = train_data_1.loc[train_data_1[\"flag\"] != 1.0]\n",
    "test_data_1 = test_data_1.loc[test_data_1[\"flag\"] != 1.0]\n",
    "print(\"【削除後】\", \"train:\", len(train_data_1), \", \", \"test:\", len(test_data_1))"
   ]
  },
  {
   "cell_type": "markdown",
   "metadata": {},
   "source": [
    "### 2.17. データクレンジング"
   ]
  },
  {
   "cell_type": "code",
   "execution_count": 69,
   "metadata": {},
   "outputs": [
    {
     "data": {
      "text/html": [
       "<div>\n",
       "<style scoped>\n",
       "    .dataframe tbody tr th:only-of-type {\n",
       "        vertical-align: middle;\n",
       "    }\n",
       "\n",
       "    .dataframe tbody tr th {\n",
       "        vertical-align: top;\n",
       "    }\n",
       "\n",
       "    .dataframe thead th {\n",
       "        text-align: right;\n",
       "    }\n",
       "</style>\n",
       "<table border=\"1\" class=\"dataframe\">\n",
       "  <thead>\n",
       "    <tr style=\"text-align: right;\">\n",
       "      <th></th>\n",
       "      <th>id</th>\n",
       "      <th>賃料</th>\n",
       "      <th>築年数</th>\n",
       "      <th>面積m2</th>\n",
       "      <th>間取りID</th>\n",
       "      <th>所在</th>\n",
       "      <th>階層</th>\n",
       "      <th>経度</th>\n",
       "      <th>緯度</th>\n",
       "      <th>部屋数</th>\n",
       "      <th>1部屋当たり面積m2</th>\n",
       "      <th>高さ率</th>\n",
       "      <th>建物構造ID</th>\n",
       "      <th>賃料/面積</th>\n",
       "      <th>平均坪単価（万円）</th>\n",
       "      <th>方角ID</th>\n",
       "      <th>人口総数</th>\n",
       "      <th>区面積</th>\n",
       "      <th>人口密度</th>\n",
       "      <th>flag</th>\n",
       "    </tr>\n",
       "  </thead>\n",
       "  <tbody>\n",
       "    <tr>\n",
       "      <th>0</th>\n",
       "      <td>1</td>\n",
       "      <td>75000</td>\n",
       "      <td>9.750000</td>\n",
       "      <td>20.01</td>\n",
       "      <td>2</td>\n",
       "      <td>1.0</td>\n",
       "      <td>12.0</td>\n",
       "      <td>139.727873</td>\n",
       "      <td>35.747759</td>\n",
       "      <td>1.0</td>\n",
       "      <td>20.01</td>\n",
       "      <td>0.083333</td>\n",
       "      <td>3</td>\n",
       "      <td>3748.125937</td>\n",
       "      <td>180.0</td>\n",
       "      <td>5</td>\n",
       "      <td>34285.0</td>\n",
       "      <td>1.42</td>\n",
       "      <td>24144.4</td>\n",
       "      <td>NaN</td>\n",
       "    </tr>\n",
       "    <tr>\n",
       "      <th>1</th>\n",
       "      <td>2</td>\n",
       "      <td>76000</td>\n",
       "      <td>44.833333</td>\n",
       "      <td>16.50</td>\n",
       "      <td>8</td>\n",
       "      <td>5.0</td>\n",
       "      <td>10.0</td>\n",
       "      <td>139.780485</td>\n",
       "      <td>35.662406</td>\n",
       "      <td>1.0</td>\n",
       "      <td>16.50</td>\n",
       "      <td>0.500000</td>\n",
       "      <td>10</td>\n",
       "      <td>4606.060606</td>\n",
       "      <td>323.0</td>\n",
       "      <td>0</td>\n",
       "      <td>14890.0</td>\n",
       "      <td>0.52</td>\n",
       "      <td>28634.6</td>\n",
       "      <td>1.0</td>\n",
       "    </tr>\n",
       "    <tr>\n",
       "      <th>2</th>\n",
       "      <td>3</td>\n",
       "      <td>110000</td>\n",
       "      <td>8.500000</td>\n",
       "      <td>22.05</td>\n",
       "      <td>2</td>\n",
       "      <td>12.0</td>\n",
       "      <td>15.0</td>\n",
       "      <td>139.667375</td>\n",
       "      <td>35.675358</td>\n",
       "      <td>1.0</td>\n",
       "      <td>22.05</td>\n",
       "      <td>0.800000</td>\n",
       "      <td>3</td>\n",
       "      <td>4988.662132</td>\n",
       "      <td>324.0</td>\n",
       "      <td>4</td>\n",
       "      <td>16531.0</td>\n",
       "      <td>0.63</td>\n",
       "      <td>26239.7</td>\n",
       "      <td>NaN</td>\n",
       "    </tr>\n",
       "    <tr>\n",
       "      <th>3</th>\n",
       "      <td>4</td>\n",
       "      <td>150000</td>\n",
       "      <td>29.333333</td>\n",
       "      <td>60.48</td>\n",
       "      <td>13</td>\n",
       "      <td>3.0</td>\n",
       "      <td>4.0</td>\n",
       "      <td>139.648495</td>\n",
       "      <td>35.700193</td>\n",
       "      <td>3.5</td>\n",
       "      <td>17.28</td>\n",
       "      <td>0.750000</td>\n",
       "      <td>3</td>\n",
       "      <td>2480.158730</td>\n",
       "      <td>253.0</td>\n",
       "      <td>4</td>\n",
       "      <td>32316.0</td>\n",
       "      <td>1.29</td>\n",
       "      <td>25051.2</td>\n",
       "      <td>NaN</td>\n",
       "    </tr>\n",
       "    <tr>\n",
       "      <th>4</th>\n",
       "      <td>5</td>\n",
       "      <td>74000</td>\n",
       "      <td>31.583333</td>\n",
       "      <td>39.66</td>\n",
       "      <td>9</td>\n",
       "      <td>1.0</td>\n",
       "      <td>2.0</td>\n",
       "      <td>139.872315</td>\n",
       "      <td>35.766413</td>\n",
       "      <td>3.0</td>\n",
       "      <td>13.22</td>\n",
       "      <td>0.500000</td>\n",
       "      <td>7</td>\n",
       "      <td>1865.859808</td>\n",
       "      <td>111.0</td>\n",
       "      <td>4</td>\n",
       "      <td>17147.0</td>\n",
       "      <td>1.07</td>\n",
       "      <td>16025.2</td>\n",
       "      <td>NaN</td>\n",
       "    </tr>\n",
       "  </tbody>\n",
       "</table>\n",
       "</div>"
      ],
      "text/plain": [
       "   id      賃料        築年数   面積m2  間取りID    所在    階層          経度         緯度  \\\n",
       "0   1   75000   9.750000  20.01      2   1.0  12.0  139.727873  35.747759   \n",
       "1   2   76000  44.833333  16.50      8   5.0  10.0  139.780485  35.662406   \n",
       "2   3  110000   8.500000  22.05      2  12.0  15.0  139.667375  35.675358   \n",
       "3   4  150000  29.333333  60.48     13   3.0   4.0  139.648495  35.700193   \n",
       "4   5   74000  31.583333  39.66      9   1.0   2.0  139.872315  35.766413   \n",
       "\n",
       "   部屋数  1部屋当たり面積m2       高さ率  建物構造ID        賃料/面積  平均坪単価（万円）  方角ID     人口総数  \\\n",
       "0  1.0       20.01  0.083333       3  3748.125937      180.0     5  34285.0   \n",
       "1  1.0       16.50  0.500000      10  4606.060606      323.0     0  14890.0   \n",
       "2  1.0       22.05  0.800000       3  4988.662132      324.0     4  16531.0   \n",
       "3  3.5       17.28  0.750000       3  2480.158730      253.0     4  32316.0   \n",
       "4  3.0       13.22  0.500000       7  1865.859808      111.0     4  17147.0   \n",
       "\n",
       "    区面積     人口密度  flag  \n",
       "0  1.42  24144.4   NaN  \n",
       "1  0.52  28634.6   1.0  \n",
       "2  0.63  26239.7   NaN  \n",
       "3  1.29  25051.2   NaN  \n",
       "4  1.07  16025.2   NaN  "
      ]
     },
     "execution_count": 69,
     "metadata": {},
     "output_type": "execute_result"
    }
   ],
   "source": [
    "train_data_1.head()"
   ]
  },
  {
   "cell_type": "code",
   "execution_count": 70,
   "metadata": {},
   "outputs": [
    {
     "data": {
      "text/plain": [
       "<Figure size 640x480 with 1 Axes>"
      ]
     },
     "metadata": {},
     "output_type": "display_data"
    }
   ],
   "source": [
    "# ハズレ値の確認\n",
    "import matplotlib.pyplot as plt\n",
    "import numpy as np\n",
    "font = {'family' : 'Meiryo'} # matplotlibのデフォルトフォントをTakaoGothicに設定\n",
    "plt.rc('font', **font)\n",
    "plt.scatter(train_data_1[\"賃料\"], train_data_1[\"面積m2\"], alpha = 0.5)\n",
    "plt.title(\"訓練データの分布\")\n",
    "plt.xlabel('賃料')\n",
    "plt.ylabel('面積m2')\n",
    "plt.show()"
   ]
  },
  {
   "cell_type": "code",
   "execution_count": 71,
   "metadata": {},
   "outputs": [
    {
     "name": "stderr",
     "output_type": "stream",
     "text": [
      "C:\\ProgramData\\Anaconda3\\lib\\site-packages\\matplotlib\\font_manager.py:1241: UserWarning: findfont: Font family ['Meiryo'] not found. Falling back to DejaVu Sans.\n",
      "  (prop.get_family(), self.defaultFamily[fontext]))\n"
     ]
    },
    {
     "data": {
      "image/png": "[encoded data removed]",
      "text/plain": [
       "<Figure size 432x288 with 1 Axes>"
      ]
     },
     "metadata": {
      "needs_background": "light"
     },
     "output_type": "display_data"
    }
   ],
   "source": [
    "font = {'family' : 'Meiryo'} # matplotlibのデフォルトフォントをTakaoGothicに設定\n",
    "plt.rc('font', **font)\n",
    "plt.scatter(train_data_1[\"賃料/面積\"], train_data_1[\"面積m2\"], alpha = 0.5)\n",
    "plt.title(\"訓練データの分布\")\n",
    "plt.xlabel('賃料/面積')\n",
    "plt.ylabel('面積m2')\n",
    "plt.show()"
   ]
  },
  {
   "cell_type": "code",
   "execution_count": 72,
   "metadata": {},
   "outputs": [
    {
     "data": {
      "text/html": [
       "<div>\n",
       "<style scoped>\n",
       "    .dataframe tbody tr th:only-of-type {\n",
       "        vertical-align: middle;\n",
       "    }\n",
       "\n",
       "    .dataframe tbody tr th {\n",
       "        vertical-align: top;\n",
       "    }\n",
       "\n",
       "    .dataframe thead th {\n",
       "        text-align: right;\n",
       "    }\n",
       "</style>\n",
       "<table border=\"1\" class=\"dataframe\">\n",
       "  <thead>\n",
       "    <tr style=\"text-align: right;\">\n",
       "      <th></th>\n",
       "      <th>id</th>\n",
       "      <th>賃料</th>\n",
       "      <th>築年数</th>\n",
       "      <th>面積m2</th>\n",
       "      <th>間取りID</th>\n",
       "      <th>所在</th>\n",
       "      <th>階層</th>\n",
       "      <th>経度</th>\n",
       "      <th>緯度</th>\n",
       "      <th>部屋数</th>\n",
       "      <th>1部屋当たり面積m2</th>\n",
       "      <th>高さ率</th>\n",
       "      <th>建物構造ID</th>\n",
       "      <th>賃料/面積</th>\n",
       "      <th>平均坪単価（万円）</th>\n",
       "      <th>方角ID</th>\n",
       "      <th>人口総数</th>\n",
       "      <th>区面積</th>\n",
       "      <th>人口密度</th>\n",
       "      <th>flag</th>\n",
       "    </tr>\n",
       "  </thead>\n",
       "  <tbody>\n",
       "    <tr>\n",
       "      <th>5775</th>\n",
       "      <td>5776</td>\n",
       "      <td>1203500</td>\n",
       "      <td>12.416667</td>\n",
       "      <td>20.53</td>\n",
       "      <td>2</td>\n",
       "      <td>10.0</td>\n",
       "      <td>15.0</td>\n",
       "      <td>139.756843</td>\n",
       "      <td>35.664231</td>\n",
       "      <td>1.0</td>\n",
       "      <td>20.530000</td>\n",
       "      <td>0.666667</td>\n",
       "      <td>3</td>\n",
       "      <td>58621.529469</td>\n",
       "      <td>867.0</td>\n",
       "      <td>3</td>\n",
       "      <td>2583.0</td>\n",
       "      <td>0.47</td>\n",
       "      <td>5495.7</td>\n",
       "      <td>1.0</td>\n",
       "    </tr>\n",
       "    <tr>\n",
       "      <th>7491</th>\n",
       "      <td>7492</td>\n",
       "      <td>184000</td>\n",
       "      <td>0.166667</td>\n",
       "      <td>5.83</td>\n",
       "      <td>13</td>\n",
       "      <td>8.0</td>\n",
       "      <td>11.0</td>\n",
       "      <td>139.683483</td>\n",
       "      <td>35.728822</td>\n",
       "      <td>3.5</td>\n",
       "      <td>1.665714</td>\n",
       "      <td>0.727273</td>\n",
       "      <td>3</td>\n",
       "      <td>31560.891938</td>\n",
       "      <td>191.0</td>\n",
       "      <td>4</td>\n",
       "      <td>20312.0</td>\n",
       "      <td>0.82</td>\n",
       "      <td>24770.7</td>\n",
       "      <td>NaN</td>\n",
       "    </tr>\n",
       "  </tbody>\n",
       "</table>\n",
       "</div>"
      ],
      "text/plain": [
       "        id       賃料        築年数   面積m2  間取りID    所在    階層          経度  \\\n",
       "5775  5776  1203500  12.416667  20.53      2  10.0  15.0  139.756843   \n",
       "7491  7492   184000   0.166667   5.83     13   8.0  11.0  139.683483   \n",
       "\n",
       "             緯度  部屋数  1部屋当たり面積m2       高さ率  建物構造ID         賃料/面積  平均坪単価（万円）  \\\n",
       "5775  35.664231  1.0   20.530000  0.666667       3  58621.529469      867.0   \n",
       "7491  35.728822  3.5    1.665714  0.727273       3  31560.891938      191.0   \n",
       "\n",
       "      方角ID     人口総数   区面積     人口密度  flag  \n",
       "5775     3   2583.0  0.47   5495.7   1.0  \n",
       "7491     4  20312.0  0.82  24770.7   NaN  "
      ]
     },
     "execution_count": 72,
     "metadata": {},
     "output_type": "execute_result"
    }
   ],
   "source": [
    "train_data_1.loc[train_data_1[\"賃料/面積\"]>30000]"
   ]
  },
  {
   "cell_type": "code",
   "execution_count": 73,
   "metadata": {},
   "outputs": [
    {
     "name": "stdout",
     "output_type": "stream",
     "text": [
      "除去前: 31470\n",
      "除去後: 31464\n"
     ]
    }
   ],
   "source": [
    "# ハズレ値の除去\n",
    "print(\"除去前:\",len(train_data_1))\n",
    "train_data_1 = train_data_1.drop(5093, axis=0)\n",
    "train_data_1 = train_data_1.drop(20643, axis=0)\n",
    "train_data_1 = train_data_1.drop(30539, axis=0)\n",
    "\n",
    "train_data_1 = train_data_1.drop(5775, axis=0)\n",
    "\n",
    "train_data_1 = train_data_1.drop(20926, axis=0)\n",
    "\n",
    "train_data_1 = train_data_1.drop(7491, axis=0)\n",
    "print(\"除去後:\",len(train_data_1))"
   ]
  },
  {
   "cell_type": "code",
   "execution_count": 74,
   "metadata": {},
   "outputs": [
    {
     "data": {
      "image/png": "[encoded data removed]",
      "text/plain": [
       "<Figure size 432x288 with 1 Axes>"
      ]
     },
     "metadata": {
      "needs_background": "light"
     },
     "output_type": "display_data"
    }
   ],
   "source": [
    "font = {'family' : 'Meiryo'} # matplotlibのデフォルトフォントをTakaoGothicに設定\n",
    "plt.rc('font', **font)\n",
    "plt.scatter(train_data_1[\"賃料\"], train_data_1[\"面積m2\"], alpha = 0.5)\n",
    "plt.title(\"訓練データの分布\")\n",
    "plt.xlabel('賃料')\n",
    "plt.ylabel('面積m2')\n",
    "plt.show()"
   ]
  },
  {
   "cell_type": "markdown",
   "metadata": {},
   "source": [
    "## 3. データチェック"
   ]
  },
  {
   "cell_type": "code",
   "execution_count": 75,
   "metadata": {},
   "outputs": [
    {
     "data": {
      "text/plain": [
       "id                0\n",
       "賃料                0\n",
       "築年数             889\n",
       "面積m2              0\n",
       "間取りID             0\n",
       "所在              120\n",
       "階層              594\n",
       "経度                0\n",
       "緯度                0\n",
       "部屋数               0\n",
       "1部屋当たり面積m2        0\n",
       "高さ率             714\n",
       "建物構造ID            0\n",
       "賃料/面積             0\n",
       "平均坪単価（万円）         0\n",
       "方角ID              0\n",
       "人口総数              5\n",
       "区面積               3\n",
       "人口密度            221\n",
       "flag          25971\n",
       "dtype: int64"
      ]
     },
     "execution_count": 75,
     "metadata": {},
     "output_type": "execute_result"
    }
   ],
   "source": [
    "train_data_1.isnull().sum()"
   ]
  },
  {
   "cell_type": "code",
   "execution_count": 76,
   "metadata": {},
   "outputs": [
    {
     "data": {
      "text/plain": [
       "id                0\n",
       "築年数             675\n",
       "面積m2              0\n",
       "間取りID             0\n",
       "所在              102\n",
       "階層              476\n",
       "経度                0\n",
       "緯度                0\n",
       "部屋数               0\n",
       "1部屋当たり面積m2        0\n",
       "高さ率             577\n",
       "建物構造ID            0\n",
       "平均坪単価（万円）         0\n",
       "方角ID              0\n",
       "人口総数              2\n",
       "区面積               0\n",
       "人口密度            179\n",
       "flag          24812\n",
       "dtype: int64"
      ]
     },
     "execution_count": 76,
     "metadata": {},
     "output_type": "execute_result"
    }
   ],
   "source": [
    "test_data_1.isnull().sum()"
   ]
  },
  {
   "cell_type": "code",
   "execution_count": 77,
   "metadata": {},
   "outputs": [
    {
     "data": {
      "text/plain": [
       "31464"
      ]
     },
     "execution_count": 77,
     "metadata": {},
     "output_type": "execute_result"
    }
   ],
   "source": [
    "len(train_data_1)"
   ]
  },
  {
   "cell_type": "code",
   "execution_count": 78,
   "metadata": {},
   "outputs": [
    {
     "data": {
      "text/plain": [
       "31470"
      ]
     },
     "execution_count": 78,
     "metadata": {},
     "output_type": "execute_result"
    }
   ],
   "source": [
    "len(train_data)"
   ]
  },
  {
   "cell_type": "code",
   "execution_count": 79,
   "metadata": {},
   "outputs": [
    {
     "data": {
      "text/plain": [
       "24812"
      ]
     },
     "execution_count": 79,
     "metadata": {},
     "output_type": "execute_result"
    }
   ],
   "source": [
    "len(test_data_1)"
   ]
  },
  {
   "cell_type": "code",
   "execution_count": 80,
   "metadata": {},
   "outputs": [
    {
     "data": {
      "text/plain": [
       "31262"
      ]
     },
     "execution_count": 80,
     "metadata": {},
     "output_type": "execute_result"
    }
   ],
   "source": [
    "len(test_data)"
   ]
  },
  {
   "cell_type": "code",
   "execution_count": 81,
   "metadata": {},
   "outputs": [
    {
     "data": {
      "text/html": [
       "<div>\n",
       "<style scoped>\n",
       "    .dataframe tbody tr th:only-of-type {\n",
       "        vertical-align: middle;\n",
       "    }\n",
       "\n",
       "    .dataframe tbody tr th {\n",
       "        vertical-align: top;\n",
       "    }\n",
       "\n",
       "    .dataframe thead th {\n",
       "        text-align: right;\n",
       "    }\n",
       "</style>\n",
       "<table border=\"1\" class=\"dataframe\">\n",
       "  <thead>\n",
       "    <tr style=\"text-align: right;\">\n",
       "      <th></th>\n",
       "      <th>id</th>\n",
       "      <th>賃料</th>\n",
       "      <th>築年数</th>\n",
       "      <th>面積m2</th>\n",
       "      <th>間取りID</th>\n",
       "      <th>所在</th>\n",
       "      <th>階層</th>\n",
       "      <th>経度</th>\n",
       "      <th>緯度</th>\n",
       "      <th>部屋数</th>\n",
       "      <th>1部屋当たり面積m2</th>\n",
       "      <th>高さ率</th>\n",
       "      <th>建物構造ID</th>\n",
       "      <th>賃料/面積</th>\n",
       "      <th>平均坪単価（万円）</th>\n",
       "      <th>方角ID</th>\n",
       "      <th>人口総数</th>\n",
       "      <th>区面積</th>\n",
       "      <th>人口密度</th>\n",
       "      <th>flag</th>\n",
       "    </tr>\n",
       "  </thead>\n",
       "  <tbody>\n",
       "    <tr>\n",
       "      <th>0</th>\n",
       "      <td>1</td>\n",
       "      <td>75000</td>\n",
       "      <td>9.750000</td>\n",
       "      <td>20.01</td>\n",
       "      <td>2</td>\n",
       "      <td>1.0</td>\n",
       "      <td>12.0</td>\n",
       "      <td>139.727873</td>\n",
       "      <td>35.747759</td>\n",
       "      <td>1.0</td>\n",
       "      <td>20.01</td>\n",
       "      <td>0.083333</td>\n",
       "      <td>3</td>\n",
       "      <td>3748.125937</td>\n",
       "      <td>180.0</td>\n",
       "      <td>5</td>\n",
       "      <td>34285.0</td>\n",
       "      <td>1.42</td>\n",
       "      <td>24144.4</td>\n",
       "      <td>NaN</td>\n",
       "    </tr>\n",
       "    <tr>\n",
       "      <th>1</th>\n",
       "      <td>2</td>\n",
       "      <td>76000</td>\n",
       "      <td>44.833333</td>\n",
       "      <td>16.50</td>\n",
       "      <td>8</td>\n",
       "      <td>5.0</td>\n",
       "      <td>10.0</td>\n",
       "      <td>139.780485</td>\n",
       "      <td>35.662406</td>\n",
       "      <td>1.0</td>\n",
       "      <td>16.50</td>\n",
       "      <td>0.500000</td>\n",
       "      <td>10</td>\n",
       "      <td>4606.060606</td>\n",
       "      <td>323.0</td>\n",
       "      <td>0</td>\n",
       "      <td>14890.0</td>\n",
       "      <td>0.52</td>\n",
       "      <td>28634.6</td>\n",
       "      <td>1.0</td>\n",
       "    </tr>\n",
       "    <tr>\n",
       "      <th>2</th>\n",
       "      <td>3</td>\n",
       "      <td>110000</td>\n",
       "      <td>8.500000</td>\n",
       "      <td>22.05</td>\n",
       "      <td>2</td>\n",
       "      <td>12.0</td>\n",
       "      <td>15.0</td>\n",
       "      <td>139.667375</td>\n",
       "      <td>35.675358</td>\n",
       "      <td>1.0</td>\n",
       "      <td>22.05</td>\n",
       "      <td>0.800000</td>\n",
       "      <td>3</td>\n",
       "      <td>4988.662132</td>\n",
       "      <td>324.0</td>\n",
       "      <td>4</td>\n",
       "      <td>16531.0</td>\n",
       "      <td>0.63</td>\n",
       "      <td>26239.7</td>\n",
       "      <td>NaN</td>\n",
       "    </tr>\n",
       "    <tr>\n",
       "      <th>3</th>\n",
       "      <td>4</td>\n",
       "      <td>150000</td>\n",
       "      <td>29.333333</td>\n",
       "      <td>60.48</td>\n",
       "      <td>13</td>\n",
       "      <td>3.0</td>\n",
       "      <td>4.0</td>\n",
       "      <td>139.648495</td>\n",
       "      <td>35.700193</td>\n",
       "      <td>3.5</td>\n",
       "      <td>17.28</td>\n",
       "      <td>0.750000</td>\n",
       "      <td>3</td>\n",
       "      <td>2480.158730</td>\n",
       "      <td>253.0</td>\n",
       "      <td>4</td>\n",
       "      <td>32316.0</td>\n",
       "      <td>1.29</td>\n",
       "      <td>25051.2</td>\n",
       "      <td>NaN</td>\n",
       "    </tr>\n",
       "    <tr>\n",
       "      <th>4</th>\n",
       "      <td>5</td>\n",
       "      <td>74000</td>\n",
       "      <td>31.583333</td>\n",
       "      <td>39.66</td>\n",
       "      <td>9</td>\n",
       "      <td>1.0</td>\n",
       "      <td>2.0</td>\n",
       "      <td>139.872315</td>\n",
       "      <td>35.766413</td>\n",
       "      <td>3.0</td>\n",
       "      <td>13.22</td>\n",
       "      <td>0.500000</td>\n",
       "      <td>7</td>\n",
       "      <td>1865.859808</td>\n",
       "      <td>111.0</td>\n",
       "      <td>4</td>\n",
       "      <td>17147.0</td>\n",
       "      <td>1.07</td>\n",
       "      <td>16025.2</td>\n",
       "      <td>NaN</td>\n",
       "    </tr>\n",
       "  </tbody>\n",
       "</table>\n",
       "</div>"
      ],
      "text/plain": [
       "   id      賃料        築年数   面積m2  間取りID    所在    階層          経度         緯度  \\\n",
       "0   1   75000   9.750000  20.01      2   1.0  12.0  139.727873  35.747759   \n",
       "1   2   76000  44.833333  16.50      8   5.0  10.0  139.780485  35.662406   \n",
       "2   3  110000   8.500000  22.05      2  12.0  15.0  139.667375  35.675358   \n",
       "3   4  150000  29.333333  60.48     13   3.0   4.0  139.648495  35.700193   \n",
       "4   5   74000  31.583333  39.66      9   1.0   2.0  139.872315  35.766413   \n",
       "\n",
       "   部屋数  1部屋当たり面積m2       高さ率  建物構造ID        賃料/面積  平均坪単価（万円）  方角ID     人口総数  \\\n",
       "0  1.0       20.01  0.083333       3  3748.125937      180.0     5  34285.0   \n",
       "1  1.0       16.50  0.500000      10  4606.060606      323.0     0  14890.0   \n",
       "2  1.0       22.05  0.800000       3  4988.662132      324.0     4  16531.0   \n",
       "3  3.5       17.28  0.750000       3  2480.158730      253.0     4  32316.0   \n",
       "4  3.0       13.22  0.500000       7  1865.859808      111.0     4  17147.0   \n",
       "\n",
       "    区面積     人口密度  flag  \n",
       "0  1.42  24144.4   NaN  \n",
       "1  0.52  28634.6   1.0  \n",
       "2  0.63  26239.7   NaN  \n",
       "3  1.29  25051.2   NaN  \n",
       "4  1.07  16025.2   NaN  "
      ]
     },
     "execution_count": 81,
     "metadata": {},
     "output_type": "execute_result"
    }
   ],
   "source": [
    "train_data_1.head()"
   ]
  },
  {
   "cell_type": "code",
   "execution_count": 82,
   "metadata": {},
   "outputs": [
    {
     "data": {
      "text/html": [
       "<div>\n",
       "<style scoped>\n",
       "    .dataframe tbody tr th:only-of-type {\n",
       "        vertical-align: middle;\n",
       "    }\n",
       "\n",
       "    .dataframe tbody tr th {\n",
       "        vertical-align: top;\n",
       "    }\n",
       "\n",
       "    .dataframe thead th {\n",
       "        text-align: right;\n",
       "    }\n",
       "</style>\n",
       "<table border=\"1\" class=\"dataframe\">\n",
       "  <thead>\n",
       "    <tr style=\"text-align: right;\">\n",
       "      <th></th>\n",
       "      <th>id</th>\n",
       "      <th>築年数</th>\n",
       "      <th>面積m2</th>\n",
       "      <th>間取りID</th>\n",
       "      <th>所在</th>\n",
       "      <th>階層</th>\n",
       "      <th>経度</th>\n",
       "      <th>緯度</th>\n",
       "      <th>部屋数</th>\n",
       "      <th>1部屋当たり面積m2</th>\n",
       "      <th>高さ率</th>\n",
       "      <th>建物構造ID</th>\n",
       "      <th>平均坪単価（万円）</th>\n",
       "      <th>方角ID</th>\n",
       "      <th>人口総数</th>\n",
       "      <th>区面積</th>\n",
       "      <th>人口密度</th>\n",
       "      <th>flag</th>\n",
       "    </tr>\n",
       "  </thead>\n",
       "  <tbody>\n",
       "    <tr>\n",
       "      <th>0</th>\n",
       "      <td>31471</td>\n",
       "      <td>49.000000</td>\n",
       "      <td>50.22</td>\n",
       "      <td>13</td>\n",
       "      <td>8.0</td>\n",
       "      <td>8.0</td>\n",
       "      <td>139.652762</td>\n",
       "      <td>35.617708</td>\n",
       "      <td>3.5</td>\n",
       "      <td>14.348571</td>\n",
       "      <td>1.00</td>\n",
       "      <td>10</td>\n",
       "      <td>208.0</td>\n",
       "      <td>4</td>\n",
       "      <td>24079.0</td>\n",
       "      <td>1.70</td>\n",
       "      <td>14164.1</td>\n",
       "      <td>NaN</td>\n",
       "    </tr>\n",
       "    <tr>\n",
       "      <th>1</th>\n",
       "      <td>31472</td>\n",
       "      <td>0.166667</td>\n",
       "      <td>20.88</td>\n",
       "      <td>8</td>\n",
       "      <td>3.0</td>\n",
       "      <td>4.0</td>\n",
       "      <td>139.672871</td>\n",
       "      <td>35.617709</td>\n",
       "      <td>1.0</td>\n",
       "      <td>20.880000</td>\n",
       "      <td>0.75</td>\n",
       "      <td>3</td>\n",
       "      <td>273.0</td>\n",
       "      <td>5</td>\n",
       "      <td>14934.0</td>\n",
       "      <td>0.94</td>\n",
       "      <td>15887.2</td>\n",
       "      <td>NaN</td>\n",
       "    </tr>\n",
       "    <tr>\n",
       "      <th>2</th>\n",
       "      <td>31473</td>\n",
       "      <td>23.333333</td>\n",
       "      <td>26.93</td>\n",
       "      <td>2</td>\n",
       "      <td>1.0</td>\n",
       "      <td>4.0</td>\n",
       "      <td>139.709049</td>\n",
       "      <td>35.741996</td>\n",
       "      <td>1.0</td>\n",
       "      <td>26.930000</td>\n",
       "      <td>0.25</td>\n",
       "      <td>10</td>\n",
       "      <td>186.0</td>\n",
       "      <td>5</td>\n",
       "      <td>18808.0</td>\n",
       "      <td>0.63</td>\n",
       "      <td>29854.0</td>\n",
       "      <td>NaN</td>\n",
       "    </tr>\n",
       "    <tr>\n",
       "      <th>3</th>\n",
       "      <td>31474</td>\n",
       "      <td>36.166667</td>\n",
       "      <td>23.57</td>\n",
       "      <td>2</td>\n",
       "      <td>1.0</td>\n",
       "      <td>2.0</td>\n",
       "      <td>139.658270</td>\n",
       "      <td>35.673602</td>\n",
       "      <td>1.0</td>\n",
       "      <td>23.570000</td>\n",
       "      <td>0.50</td>\n",
       "      <td>7</td>\n",
       "      <td>184.0</td>\n",
       "      <td>5</td>\n",
       "      <td>27682.0</td>\n",
       "      <td>1.55</td>\n",
       "      <td>17859.4</td>\n",
       "      <td>NaN</td>\n",
       "    </tr>\n",
       "    <tr>\n",
       "      <th>5</th>\n",
       "      <td>31476</td>\n",
       "      <td>25.500000</td>\n",
       "      <td>21.45</td>\n",
       "      <td>8</td>\n",
       "      <td>1.0</td>\n",
       "      <td>2.0</td>\n",
       "      <td>139.686023</td>\n",
       "      <td>35.691395</td>\n",
       "      <td>1.0</td>\n",
       "      <td>21.450000</td>\n",
       "      <td>0.50</td>\n",
       "      <td>7</td>\n",
       "      <td>294.0</td>\n",
       "      <td>8</td>\n",
       "      <td>20781.0</td>\n",
       "      <td>1.73</td>\n",
       "      <td>12012.1</td>\n",
       "      <td>NaN</td>\n",
       "    </tr>\n",
       "  </tbody>\n",
       "</table>\n",
       "</div>"
      ],
      "text/plain": [
       "      id        築年数   面積m2  間取りID   所在   階層          経度         緯度  部屋数  \\\n",
       "0  31471  49.000000  50.22     13  8.0  8.0  139.652762  35.617708  3.5   \n",
       "1  31472   0.166667  20.88      8  3.0  4.0  139.672871  35.617709  1.0   \n",
       "2  31473  23.333333  26.93      2  1.0  4.0  139.709049  35.741996  1.0   \n",
       "3  31474  36.166667  23.57      2  1.0  2.0  139.658270  35.673602  1.0   \n",
       "5  31476  25.500000  21.45      8  1.0  2.0  139.686023  35.691395  1.0   \n",
       "\n",
       "   1部屋当たり面積m2   高さ率  建物構造ID  平均坪単価（万円）  方角ID     人口総数   区面積     人口密度  flag  \n",
       "0   14.348571  1.00      10      208.0     4  24079.0  1.70  14164.1   NaN  \n",
       "1   20.880000  0.75       3      273.0     5  14934.0  0.94  15887.2   NaN  \n",
       "2   26.930000  0.25      10      186.0     5  18808.0  0.63  29854.0   NaN  \n",
       "3   23.570000  0.50       7      184.0     5  27682.0  1.55  17859.4   NaN  \n",
       "5   21.450000  0.50       7      294.0     8  20781.0  1.73  12012.1   NaN  "
      ]
     },
     "execution_count": 82,
     "metadata": {},
     "output_type": "execute_result"
    }
   ],
   "source": [
    "test_data_1.head()"
   ]
  },
  {
   "cell_type": "markdown",
   "metadata": {},
   "source": [
    "## 4.学習 "
   ]
  },
  {
   "cell_type": "code",
   "execution_count": 83,
   "metadata": {},
   "outputs": [],
   "source": [
    "# IDとflagの削除\n",
    "train_data_1_no_ID = train_data_1.drop([\"id\", \"flag\"], axis=1)\n",
    "test_data_1_no_ID = test_data_1.drop([\"id\", \"flag\"], axis=1)"
   ]
  },
  {
   "cell_type": "code",
   "execution_count": 84,
   "metadata": {},
   "outputs": [],
   "source": [
    "# 特徴データと目的変数の設定\n",
    "train_x = train_data_1_no_ID.drop([\"賃料\", \"賃料/面積\"], axis=1)\n",
    "train_y = train_data_1_no_ID[\"賃料/面積\"]\n",
    "\n",
    "test_x = test_data_1_no_ID"
   ]
  },
  {
   "cell_type": "code",
   "execution_count": 85,
   "metadata": {
    "collapsed": true,
    "jupyter": {
     "outputs_hidden": true
    }
   },
   "outputs": [
    {
     "name": "stdout",
     "output_type": "stream",
     "text": [
      "[20:20:46] WARNING: C:/Users/Administrator/workspace/xgboost-win64_release_1.4.0/src/learner.cc:573: \n",
      "Parameters: { \"sileng\" } might not be used.\n",
      "\n",
      "  This may not be accurate due to some parameters are only used in language bindings but\n",
      "  passed down to XGBoost core.  Or some parameters are not used but slip through this\n",
      "  verification. Please open an issue if you find above cases.\n",
      "\n",
      "\n",
      "[0]\ttrain-rmse:2614.46143\teval-rmse:2600.12085\n",
      "[1]\ttrain-rmse:1865.55359\teval-rmse:1857.17493\n",
      "[2]\ttrain-rmse:1347.62305\teval-rmse:1345.68640\n",
      "[3]\ttrain-rmse:994.52600\teval-rmse:996.81537\n",
      "[4]\ttrain-rmse:758.47113\teval-rmse:765.43408\n",
      "[5]\ttrain-rmse:603.75580\teval-rmse:616.77783\n",
      "[6]\ttrain-rmse:505.78479\teval-rmse:522.44580\n",
      "[7]\ttrain-rmse:445.71310\teval-rmse:466.57040\n",
      "[8]\ttrain-rmse:409.51492\teval-rmse:434.35269\n",
      "[9]\ttrain-rmse:386.50098\teval-rmse:414.26361\n",
      "[10]\ttrain-rmse:371.95142\teval-rmse:401.19656\n",
      "[11]\ttrain-rmse:360.75522\teval-rmse:391.12491\n",
      "[12]\ttrain-rmse:353.52661\teval-rmse:385.46057\n",
      "[13]\ttrain-rmse:346.87894\teval-rmse:381.72345\n",
      "[14]\ttrain-rmse:343.07748\teval-rmse:378.79904\n",
      "[15]\ttrain-rmse:339.41330\teval-rmse:375.88297\n",
      "[16]\ttrain-rmse:335.75006\teval-rmse:373.15945\n",
      "[17]\ttrain-rmse:332.17773\teval-rmse:371.16849\n",
      "[18]\ttrain-rmse:330.24353\teval-rmse:369.71741\n",
      "[19]\ttrain-rmse:328.77719\teval-rmse:368.78330\n",
      "[20]\ttrain-rmse:325.84070\teval-rmse:366.86038\n",
      "[21]\ttrain-rmse:323.53232\teval-rmse:365.57840\n",
      "[22]\ttrain-rmse:319.86386\teval-rmse:362.65704\n",
      "[23]\ttrain-rmse:318.35089\teval-rmse:362.19177\n",
      "[24]\ttrain-rmse:316.02499\teval-rmse:360.77170\n",
      "[25]\ttrain-rmse:313.10950\teval-rmse:359.45020\n",
      "[26]\ttrain-rmse:311.08960\teval-rmse:358.02881\n",
      "[27]\ttrain-rmse:307.91705\teval-rmse:355.75781\n",
      "[28]\ttrain-rmse:307.01544\teval-rmse:355.21655\n",
      "[29]\ttrain-rmse:305.46258\teval-rmse:354.24374\n",
      "[30]\ttrain-rmse:303.62616\teval-rmse:353.29797\n",
      "[31]\ttrain-rmse:301.57022\teval-rmse:352.17581\n",
      "[32]\ttrain-rmse:300.12079\teval-rmse:351.09872\n",
      "[33]\ttrain-rmse:298.13751\teval-rmse:349.73032\n",
      "[34]\ttrain-rmse:297.72427\teval-rmse:349.69608\n",
      "[35]\ttrain-rmse:295.79846\teval-rmse:348.92230\n",
      "[36]\ttrain-rmse:294.28540\teval-rmse:347.94305\n",
      "[37]\ttrain-rmse:292.63812\teval-rmse:347.21020\n",
      "[38]\ttrain-rmse:291.25729\teval-rmse:346.40356\n",
      "[39]\ttrain-rmse:290.95560\teval-rmse:346.26044\n",
      "[40]\ttrain-rmse:290.42825\teval-rmse:345.99609\n",
      "[41]\ttrain-rmse:288.59009\teval-rmse:345.37082\n",
      "[42]\ttrain-rmse:288.02490\teval-rmse:345.06436\n",
      "[43]\ttrain-rmse:286.55661\teval-rmse:344.31116\n",
      "[44]\ttrain-rmse:285.65335\teval-rmse:343.89166\n",
      "[45]\ttrain-rmse:285.17685\teval-rmse:343.68579\n",
      "[46]\ttrain-rmse:284.13943\teval-rmse:343.28021\n",
      "[47]\ttrain-rmse:282.98517\teval-rmse:342.73370\n",
      "[48]\ttrain-rmse:282.62753\teval-rmse:342.52182\n",
      "[49]\ttrain-rmse:281.03754\teval-rmse:341.38089\n",
      "[20:20:50] WARNING: C:/Users/Administrator/workspace/xgboost-win64_release_1.4.0/src/learner.cc:573: \n",
      "Parameters: { \"sileng\" } might not be used.\n",
      "\n",
      "  This may not be accurate due to some parameters are only used in language bindings but\n",
      "  passed down to XGBoost core.  Or some parameters are not used but slip through this\n",
      "  verification. Please open an issue if you find above cases.\n",
      "\n",
      "\n",
      "[0]\ttrain-rmse:2604.14941\teval-rmse:2629.07007\n",
      "[1]\ttrain-rmse:1858.46216\teval-rmse:1879.82129\n",
      "[2]\ttrain-rmse:1341.67224\teval-rmse:1361.95410\n",
      "[3]\ttrain-rmse:989.65247\teval-rmse:1009.75793\n",
      "[4]\ttrain-rmse:754.37891\teval-rmse:775.57318\n",
      "[5]\ttrain-rmse:601.39154\teval-rmse:625.47522\n",
      "[6]\ttrain-rmse:503.58133\teval-rmse:532.08765\n",
      "[7]\ttrain-rmse:444.22455\teval-rmse:476.26114\n",
      "[8]\ttrain-rmse:408.90079\teval-rmse:442.73257\n",
      "[9]\ttrain-rmse:385.57956\teval-rmse:423.00531\n",
      "[10]\ttrain-rmse:371.93036\teval-rmse:411.14636\n",
      "[11]\ttrain-rmse:361.83762\teval-rmse:402.91598\n",
      "[12]\ttrain-rmse:352.08682\teval-rmse:394.34952\n",
      "[13]\ttrain-rmse:346.74454\teval-rmse:391.05936\n",
      "[14]\ttrain-rmse:343.49634\teval-rmse:388.95532\n",
      "[15]\ttrain-rmse:338.46164\teval-rmse:384.68970\n",
      "[16]\ttrain-rmse:336.34399\teval-rmse:383.37891\n",
      "[17]\ttrain-rmse:332.45526\teval-rmse:381.32696\n",
      "[18]\ttrain-rmse:329.16058\teval-rmse:379.50552\n",
      "[19]\ttrain-rmse:325.27539\teval-rmse:376.67508\n",
      "[20]\ttrain-rmse:322.91675\teval-rmse:375.70841\n",
      "[21]\ttrain-rmse:321.43439\teval-rmse:374.70371\n",
      "[22]\ttrain-rmse:317.29010\teval-rmse:372.10571\n",
      "[23]\ttrain-rmse:315.11990\teval-rmse:370.83478\n",
      "[24]\ttrain-rmse:313.16434\teval-rmse:369.81918\n",
      "[25]\ttrain-rmse:310.31399\teval-rmse:368.06659\n",
      "[26]\ttrain-rmse:307.70725\teval-rmse:366.34036\n",
      "[27]\ttrain-rmse:304.72546\teval-rmse:364.71286\n",
      "[28]\ttrain-rmse:303.97543\teval-rmse:364.28805\n",
      "[29]\ttrain-rmse:301.32709\teval-rmse:363.27896\n",
      "[30]\ttrain-rmse:299.14899\teval-rmse:362.39764\n",
      "[31]\ttrain-rmse:298.18973\teval-rmse:361.66824\n",
      "[32]\ttrain-rmse:297.20612\teval-rmse:361.42981\n",
      "[33]\ttrain-rmse:295.78744\teval-rmse:361.12985\n",
      "[34]\ttrain-rmse:294.94199\teval-rmse:360.68301\n",
      "[35]\ttrain-rmse:292.95950\teval-rmse:359.45578\n",
      "[36]\ttrain-rmse:292.32526\teval-rmse:359.22015\n",
      "[37]\ttrain-rmse:290.57846\teval-rmse:358.33334\n",
      "[38]\ttrain-rmse:288.24252\teval-rmse:357.27478\n",
      "[39]\ttrain-rmse:286.97885\teval-rmse:356.96078\n",
      "[40]\ttrain-rmse:285.63263\teval-rmse:356.16757\n",
      "[41]\ttrain-rmse:284.07071\teval-rmse:355.79752\n",
      "[42]\ttrain-rmse:283.25952\teval-rmse:355.29404\n",
      "[43]\ttrain-rmse:282.67941\teval-rmse:354.97342\n",
      "[44]\ttrain-rmse:280.77179\teval-rmse:354.81314\n",
      "[45]\ttrain-rmse:280.53461\teval-rmse:354.87683\n",
      "[46]\ttrain-rmse:278.81448\teval-rmse:353.98630\n",
      "[47]\ttrain-rmse:277.34168\teval-rmse:353.39908\n",
      "[48]\ttrain-rmse:276.47928\teval-rmse:352.89368\n",
      "[49]\ttrain-rmse:276.08527\teval-rmse:352.61408\n",
      "[20:20:53] WARNING: C:/Users/Administrator/workspace/xgboost-win64_release_1.4.0/src/learner.cc:573: \n",
      "Parameters: { \"sileng\" } might not be used.\n",
      "\n",
      "  This may not be accurate due to some parameters are only used in language bindings but\n",
      "  passed down to XGBoost core.  Or some parameters are not used but slip through this\n",
      "  verification. Please open an issue if you find above cases.\n",
      "\n",
      "\n",
      "[0]\ttrain-rmse:2611.11816\teval-rmse:2605.63306\n",
      "[1]\ttrain-rmse:1864.13086\teval-rmse:1857.00525\n",
      "[2]\ttrain-rmse:1346.81982\teval-rmse:1340.78870\n",
      "[3]\ttrain-rmse:994.49933\teval-rmse:990.60907\n",
      "[4]\ttrain-rmse:758.13086\teval-rmse:758.08606\n",
      "[5]\ttrain-rmse:603.89990\teval-rmse:607.37189\n",
      "[6]\ttrain-rmse:505.04138\teval-rmse:515.16229\n",
      "[7]\ttrain-rmse:445.03391\teval-rmse:459.54355\n",
      "[8]\ttrain-rmse:408.63052\teval-rmse:427.86307\n",
      "[9]\ttrain-rmse:385.16949\teval-rmse:407.05576\n",
      "[10]\ttrain-rmse:369.81366\teval-rmse:395.18658\n",
      "[11]\ttrain-rmse:360.31219\teval-rmse:388.26181\n",
      "[12]\ttrain-rmse:353.36105\teval-rmse:383.32379\n",
      "[13]\ttrain-rmse:347.95026\teval-rmse:380.63367\n",
      "[14]\ttrain-rmse:341.99725\teval-rmse:377.19989\n",
      "[15]\ttrain-rmse:337.07132\teval-rmse:373.95844\n",
      "[16]\ttrain-rmse:334.39905\teval-rmse:372.26508\n",
      "[17]\ttrain-rmse:332.95889\teval-rmse:371.76379\n",
      "[18]\ttrain-rmse:327.74963\teval-rmse:368.03180\n",
      "[19]\ttrain-rmse:324.32459\teval-rmse:366.30176\n",
      "[20]\ttrain-rmse:320.84665\teval-rmse:364.43777\n",
      "[21]\ttrain-rmse:319.72940\teval-rmse:363.89554\n",
      "[22]\ttrain-rmse:316.98038\teval-rmse:361.82098\n",
      "[23]\ttrain-rmse:315.22159\teval-rmse:361.09885\n",
      "[24]\ttrain-rmse:312.78568\teval-rmse:359.53836\n",
      "[25]\ttrain-rmse:308.69696\teval-rmse:357.00244\n",
      "[26]\ttrain-rmse:307.10352\teval-rmse:356.76883\n",
      "[27]\ttrain-rmse:305.26343\teval-rmse:355.59106\n",
      "[28]\ttrain-rmse:303.26981\teval-rmse:354.34219\n",
      "[29]\ttrain-rmse:301.79913\teval-rmse:353.49097\n",
      "[30]\ttrain-rmse:299.04413\teval-rmse:352.51215\n",
      "[31]\ttrain-rmse:297.43091\teval-rmse:352.21512\n",
      "[32]\ttrain-rmse:294.28690\teval-rmse:350.95670\n",
      "[33]\ttrain-rmse:293.53485\teval-rmse:350.48480\n",
      "[34]\ttrain-rmse:292.47208\teval-rmse:350.23172\n",
      "[35]\ttrain-rmse:291.44488\teval-rmse:349.95938\n",
      "[36]\ttrain-rmse:290.43298\teval-rmse:349.78851\n",
      "[37]\ttrain-rmse:288.77115\teval-rmse:348.92142\n",
      "[38]\ttrain-rmse:286.29901\teval-rmse:347.67380\n",
      "[39]\ttrain-rmse:283.84644\teval-rmse:346.65317\n",
      "[40]\ttrain-rmse:283.15594\teval-rmse:346.41040\n",
      "[41]\ttrain-rmse:281.69803\teval-rmse:345.80984\n",
      "[42]\ttrain-rmse:280.36996\teval-rmse:344.88876\n",
      "[43]\ttrain-rmse:280.17554\teval-rmse:344.82873\n",
      "[44]\ttrain-rmse:279.55783\teval-rmse:344.69998\n",
      "[45]\ttrain-rmse:279.03546\teval-rmse:344.36862\n",
      "[46]\ttrain-rmse:277.88376\teval-rmse:343.81519\n",
      "[47]\ttrain-rmse:277.12643\teval-rmse:343.54202\n",
      "[48]\ttrain-rmse:276.93805\teval-rmse:343.48379\n",
      "[49]\ttrain-rmse:275.72516\teval-rmse:343.20334\n",
      "[20:20:57] WARNING: C:/Users/Administrator/workspace/xgboost-win64_release_1.4.0/src/learner.cc:573: \n",
      "Parameters: { \"sileng\" } might not be used.\n",
      "\n",
      "  This may not be accurate due to some parameters are only used in language bindings but\n",
      "  passed down to XGBoost core.  Or some parameters are not used but slip through this\n",
      "  verification. Please open an issue if you find above cases.\n",
      "\n",
      "\n",
      "[0]\ttrain-rmse:2611.34326\teval-rmse:2609.22241\n",
      "[1]\ttrain-rmse:1863.74719\teval-rmse:1865.11511\n",
      "[2]\ttrain-rmse:1346.13098\teval-rmse:1350.19189\n",
      "[3]\ttrain-rmse:992.66974\teval-rmse:999.97430\n",
      "[4]\ttrain-rmse:756.86957\teval-rmse:766.40973\n",
      "[5]\ttrain-rmse:602.27112\teval-rmse:616.18268\n",
      "[6]\ttrain-rmse:504.34235\teval-rmse:522.25745\n",
      "[7]\ttrain-rmse:445.51920\teval-rmse:466.39508\n",
      "[8]\ttrain-rmse:408.68475\teval-rmse:431.09524\n",
      "[9]\ttrain-rmse:385.67371\teval-rmse:410.57461\n",
      "[10]\ttrain-rmse:370.54709\teval-rmse:397.88446\n",
      "[11]\ttrain-rmse:360.25925\teval-rmse:389.74689\n",
      "[12]\ttrain-rmse:352.31894\teval-rmse:383.67465\n",
      "[13]\ttrain-rmse:346.45059\teval-rmse:379.08643\n",
      "[14]\ttrain-rmse:339.17819\teval-rmse:372.88599\n",
      "[15]\ttrain-rmse:335.80277\teval-rmse:371.21973\n",
      "[16]\ttrain-rmse:331.51749\teval-rmse:367.38864\n",
      "[17]\ttrain-rmse:329.31024\teval-rmse:366.04971\n",
      "[18]\ttrain-rmse:327.00211\teval-rmse:364.69354\n",
      "[19]\ttrain-rmse:323.67270\teval-rmse:361.59250\n",
      "[20]\ttrain-rmse:322.17313\teval-rmse:360.62726\n",
      "[21]\ttrain-rmse:320.20877\teval-rmse:359.09515\n",
      "[22]\ttrain-rmse:318.42075\teval-rmse:357.90613\n",
      "[23]\ttrain-rmse:316.39002\teval-rmse:357.39908\n",
      "[24]\ttrain-rmse:313.52814\teval-rmse:356.39856\n",
      "[25]\ttrain-rmse:311.67563\teval-rmse:355.55920\n",
      "[26]\ttrain-rmse:311.12738\teval-rmse:355.12573\n",
      "[27]\ttrain-rmse:308.29724\teval-rmse:353.38040\n",
      "[28]\ttrain-rmse:306.77405\teval-rmse:352.14432\n",
      "[29]\ttrain-rmse:304.15186\teval-rmse:351.77936\n",
      "[30]\ttrain-rmse:301.27551\teval-rmse:351.40750\n",
      "[31]\ttrain-rmse:299.21893\teval-rmse:350.19235\n",
      "[32]\ttrain-rmse:296.85965\teval-rmse:349.38821\n",
      "[33]\ttrain-rmse:295.29422\teval-rmse:348.54501\n",
      "[34]\ttrain-rmse:293.42694\teval-rmse:347.26489\n",
      "[35]\ttrain-rmse:292.44952\teval-rmse:346.87729\n",
      "[36]\ttrain-rmse:292.21341\teval-rmse:346.78799\n",
      "[37]\ttrain-rmse:290.85645\teval-rmse:345.83719\n",
      "[38]\ttrain-rmse:288.92368\teval-rmse:344.49210\n",
      "[39]\ttrain-rmse:287.95700\teval-rmse:344.44138\n",
      "[40]\ttrain-rmse:286.35654\teval-rmse:343.65805\n",
      "[41]\ttrain-rmse:284.16052\teval-rmse:342.33218\n",
      "[42]\ttrain-rmse:283.11237\teval-rmse:341.52020\n",
      "[43]\ttrain-rmse:282.75247\teval-rmse:341.41489\n",
      "[44]\ttrain-rmse:280.77460\teval-rmse:340.39560\n",
      "[45]\ttrain-rmse:279.51254\teval-rmse:339.15897\n",
      "[46]\ttrain-rmse:277.79199\teval-rmse:338.55603\n",
      "[47]\ttrain-rmse:276.87402\teval-rmse:338.05334\n",
      "[48]\ttrain-rmse:276.12631\teval-rmse:337.78894\n",
      "[49]\ttrain-rmse:275.52270\teval-rmse:337.63580\n"
     ]
    }
   ],
   "source": [
    "import xgboost as xgb\n",
    "from xgboost import XGBClassifier\n",
    "from sklearn.metrics import log_loss, accuracy_score\n",
    "from sklearn.model_selection import KFold\n",
    "\n",
    "scores = []\n",
    "# GBDT用のハイパーパラメータ\n",
    "params = {\"objective\": \"reg:squarederror\", \"sileng\":1, \"random_state\":71, \"eval_metric\":\"rmse\"}\n",
    "num_round = 50\n",
    "\n",
    "# クロスバリデーション\n",
    "kf = KFold(n_splits=4, shuffle=True, random_state=71)\n",
    "for tr_idx, va_idx, in kf.split(train_x):\n",
    "    tr_x, va_x = train_x.iloc[tr_idx], train_x.iloc[va_idx]\n",
    "    tr_y, va_y = train_y.iloc[tr_idx], train_y.iloc[va_idx]\n",
    "    \n",
    "    # GBDTで学習実行\n",
    "    dtrain = xgb.DMatrix(tr_x, tr_y) # enable_categorical=True\n",
    "    dvalid = xgb.DMatrix(va_x, va_y)\n",
    "    dtest = xgb.DMatrix(test_x)\n",
    "    \n",
    "    watchlist = [(dtrain, \"train\"), (dvalid, \"eval\")]\n",
    "    model = xgb.train(params, dtrain, num_round, evals=watchlist)"
   ]
  },
  {
   "cell_type": "markdown",
   "metadata": {},
   "source": [
    "## 5. 検証"
   ]
  },
  {
   "cell_type": "code",
   "execution_count": 86,
   "metadata": {},
   "outputs": [
    {
     "name": "stderr",
     "output_type": "stream",
     "text": [
      "C:\\ProgramData\\Anaconda3\\lib\\site-packages\\xgboost\\core.py:104: UserWarning: ntree_limit is deprecated, use `iteration_range` or model slicing instead.\n",
      "  UserWarning\n"
     ]
    },
    {
     "data": {
      "image/png": "[encoded data removed]",
      "text/plain": [
       "<Figure size 432x288 with 1 Axes>"
      ]
     },
     "metadata": {
      "needs_background": "light"
     },
     "output_type": "display_data"
    }
   ],
   "source": [
    "# 訓練データの予測結果の可視化\n",
    "import matplotlib.pyplot as plt\n",
    "import numpy as np\n",
    "pred = model.predict(xgb.DMatrix(va_x), ntree_limit = model.best_ntree_limit)\n",
    "plt.scatter(va_y, pred, alpha = 0.5)\n",
    "plt.plot(np.linspace(0, 30000, 30000), np.linspace(0, 30000, 30000), \"red\")\n",
    "plt.show()"
   ]
  },
  {
   "cell_type": "code",
   "execution_count": 87,
   "metadata": {},
   "outputs": [
    {
     "name": "stdout",
     "output_type": "stream",
     "text": [
      "337.6358270986768\n"
     ]
    }
   ],
   "source": [
    "# 訓練データのRMSEの出力\n",
    "from sklearn.metrics import mean_squared_error\n",
    "mse = mean_squared_error(va_y, pred)\n",
    "rmse = np.sqrt(mse)\n",
    "print(rmse)"
   ]
  },
  {
   "cell_type": "code",
   "execution_count": 88,
   "metadata": {},
   "outputs": [
    {
     "data": {
      "image/png": "[encoded data removed]",
      "text/plain": [
       "<Figure size 432x288 with 1 Axes>"
      ]
     },
     "metadata": {
      "needs_background": "light"
     },
     "output_type": "display_data"
    }
   ],
   "source": [
    "# 特徴量の予測結果への貢献度(Fスコア)を可視化\n",
    "font = {'family' : 'Meiryo'} # matplotlibのデフォルトフォントをTakaoGothicに設定\n",
    "plt.rc('font', **font)\n",
    "xgb.plot_importance(model, importance_type = \"gain\")\n",
    "plt.show()"
   ]
  },
  {
   "cell_type": "markdown",
   "metadata": {},
   "source": [
    "## 6. 予測"
   ]
  },
  {
   "cell_type": "code",
   "execution_count": 89,
   "metadata": {},
   "outputs": [
    {
     "name": "stderr",
     "output_type": "stream",
     "text": [
      "C:\\ProgramData\\Anaconda3\\lib\\site-packages\\xgboost\\core.py:104: UserWarning: ntree_limit is deprecated, use `iteration_range` or model slicing instead.\n",
      "  UserWarning\n"
     ]
    }
   ],
   "source": [
    "# テストデータでの予測\n",
    "pred = model.predict(dtest, ntree_limit = model.best_ntree_limit)"
   ]
  },
  {
   "cell_type": "code",
   "execution_count": 90,
   "metadata": {},
   "outputs": [
    {
     "data": {
      "text/plain": [
       "array([2510.5784, 5533.507 , 3056.0635, ..., 4542.749 , 3822.8179,\n",
       "       3732.06  ], dtype=float32)"
      ]
     },
     "execution_count": 90,
     "metadata": {},
     "output_type": "execute_result"
    }
   ],
   "source": [
    "pred"
   ]
  },
  {
   "cell_type": "code",
   "execution_count": 91,
   "metadata": {},
   "outputs": [
    {
     "data": {
      "text/plain": [
       "24812"
      ]
     },
     "execution_count": 91,
     "metadata": {},
     "output_type": "execute_result"
    }
   ],
   "source": [
    "len(pred)"
   ]
  },
  {
   "cell_type": "code",
   "execution_count": 92,
   "metadata": {},
   "outputs": [
    {
     "data": {
      "text/plain": [
       "24812"
      ]
     },
     "execution_count": 92,
     "metadata": {},
     "output_type": "execute_result"
    }
   ],
   "source": [
    "len(test_data_1)"
   ]
  },
  {
   "cell_type": "markdown",
   "metadata": {},
   "source": [
    "## 7. データ出力"
   ]
  },
  {
   "cell_type": "code",
   "execution_count": 93,
   "metadata": {},
   "outputs": [],
   "source": [
    "# 予測結果の結合\n",
    "test_data_1[\"賃料/面積\"] = pred"
   ]
  },
  {
   "cell_type": "code",
   "execution_count": 94,
   "metadata": {},
   "outputs": [],
   "source": [
    "# 予測結果から賃料を算出し、int型に変換\n",
    "test_data_1[\"賃料\"] = (test_data_1[\"面積m2\"] * test_data_1[\"賃料/面積\"]).astype(int)"
   ]
  },
  {
   "cell_type": "code",
   "execution_count": 95,
   "metadata": {},
   "outputs": [],
   "source": [
    "result = test_data_1[[\"id\", \"賃料\"]]"
   ]
  },
  {
   "cell_type": "code",
   "execution_count": 96,
   "metadata": {},
   "outputs": [
    {
     "data": {
      "text/html": [
       "<div>\n",
       "<style scoped>\n",
       "    .dataframe tbody tr th:only-of-type {\n",
       "        vertical-align: middle;\n",
       "    }\n",
       "\n",
       "    .dataframe tbody tr th {\n",
       "        vertical-align: top;\n",
       "    }\n",
       "\n",
       "    .dataframe thead th {\n",
       "        text-align: right;\n",
       "    }\n",
       "</style>\n",
       "<table border=\"1\" class=\"dataframe\">\n",
       "  <thead>\n",
       "    <tr style=\"text-align: right;\">\n",
       "      <th></th>\n",
       "      <th>id</th>\n",
       "      <th>賃料</th>\n",
       "    </tr>\n",
       "  </thead>\n",
       "  <tbody>\n",
       "    <tr>\n",
       "      <th>0</th>\n",
       "      <td>31471</td>\n",
       "      <td>126081</td>\n",
       "    </tr>\n",
       "    <tr>\n",
       "      <th>1</th>\n",
       "      <td>31472</td>\n",
       "      <td>115539</td>\n",
       "    </tr>\n",
       "    <tr>\n",
       "      <th>2</th>\n",
       "      <td>31473</td>\n",
       "      <td>82299</td>\n",
       "    </tr>\n",
       "    <tr>\n",
       "      <th>3</th>\n",
       "      <td>31474</td>\n",
       "      <td>61338</td>\n",
       "    </tr>\n",
       "    <tr>\n",
       "      <th>5</th>\n",
       "      <td>31476</td>\n",
       "      <td>75320</td>\n",
       "    </tr>\n",
       "    <tr>\n",
       "      <th>...</th>\n",
       "      <td>...</td>\n",
       "      <td>...</td>\n",
       "    </tr>\n",
       "    <tr>\n",
       "      <th>31255</th>\n",
       "      <td>62726</td>\n",
       "      <td>102656</td>\n",
       "    </tr>\n",
       "    <tr>\n",
       "      <th>31257</th>\n",
       "      <td>62728</td>\n",
       "      <td>106053</td>\n",
       "    </tr>\n",
       "    <tr>\n",
       "      <th>31258</th>\n",
       "      <td>62729</td>\n",
       "      <td>103165</td>\n",
       "    </tr>\n",
       "    <tr>\n",
       "      <th>31259</th>\n",
       "      <td>62730</td>\n",
       "      <td>174932</td>\n",
       "    </tr>\n",
       "    <tr>\n",
       "      <th>31261</th>\n",
       "      <td>62732</td>\n",
       "      <td>79045</td>\n",
       "    </tr>\n",
       "  </tbody>\n",
       "</table>\n",
       "<p>24812 rows × 2 columns</p>\n",
       "</div>"
      ],
      "text/plain": [
       "          id      賃料\n",
       "0      31471  126081\n",
       "1      31472  115539\n",
       "2      31473   82299\n",
       "3      31474   61338\n",
       "5      31476   75320\n",
       "...      ...     ...\n",
       "31255  62726  102656\n",
       "31257  62728  106053\n",
       "31258  62729  103165\n",
       "31259  62730  174932\n",
       "31261  62732   79045\n",
       "\n",
       "[24812 rows x 2 columns]"
      ]
     },
     "execution_count": 96,
     "metadata": {},
     "output_type": "execute_result"
    }
   ],
   "source": [
    "result"
   ]
  },
  {
   "cell_type": "code",
   "execution_count": 97,
   "metadata": {},
   "outputs": [
    {
     "data": {
      "text/plain": [
       "24812"
      ]
     },
     "execution_count": 97,
     "metadata": {},
     "output_type": "execute_result"
    }
   ],
   "source": [
    "len(result)"
   ]
  },
  {
   "cell_type": "code",
   "execution_count": 98,
   "metadata": {},
   "outputs": [
    {
     "data": {
      "text/plain": [
       "31262"
      ]
     },
     "execution_count": 98,
     "metadata": {},
     "output_type": "execute_result"
    }
   ],
   "source": [
    "# 除外していた重複idの賃料を戻す\n",
    "test_duplicate_rentvalue = pd.read_excel(\"test_duplicate_rentvalue.xlsx\")\n",
    "result = pd.concat([result, test_duplicate_rentvalue])\n",
    "result = result.sort_values(\"id\")\n",
    "len(result)"
   ]
  },
  {
   "cell_type": "code",
   "execution_count": 99,
   "metadata": {},
   "outputs": [
    {
     "data": {
      "text/html": [
       "<div>\n",
       "<style scoped>\n",
       "    .dataframe tbody tr th:only-of-type {\n",
       "        vertical-align: middle;\n",
       "    }\n",
       "\n",
       "    .dataframe tbody tr th {\n",
       "        vertical-align: top;\n",
       "    }\n",
       "\n",
       "    .dataframe thead th {\n",
       "        text-align: right;\n",
       "    }\n",
       "</style>\n",
       "<table border=\"1\" class=\"dataframe\">\n",
       "  <thead>\n",
       "    <tr style=\"text-align: right;\">\n",
       "      <th></th>\n",
       "      <th>id</th>\n",
       "      <th>賃料</th>\n",
       "    </tr>\n",
       "  </thead>\n",
       "  <tbody>\n",
       "    <tr>\n",
       "      <th>0</th>\n",
       "      <td>31471</td>\n",
       "      <td>126081</td>\n",
       "    </tr>\n",
       "    <tr>\n",
       "      <th>1</th>\n",
       "      <td>31472</td>\n",
       "      <td>115539</td>\n",
       "    </tr>\n",
       "    <tr>\n",
       "      <th>2</th>\n",
       "      <td>31473</td>\n",
       "      <td>82299</td>\n",
       "    </tr>\n",
       "    <tr>\n",
       "      <th>3</th>\n",
       "      <td>31474</td>\n",
       "      <td>61338</td>\n",
       "    </tr>\n",
       "    <tr>\n",
       "      <th>0</th>\n",
       "      <td>31475</td>\n",
       "      <td>90000</td>\n",
       "    </tr>\n",
       "    <tr>\n",
       "      <th>...</th>\n",
       "      <td>...</td>\n",
       "      <td>...</td>\n",
       "    </tr>\n",
       "    <tr>\n",
       "      <th>31257</th>\n",
       "      <td>62728</td>\n",
       "      <td>106053</td>\n",
       "    </tr>\n",
       "    <tr>\n",
       "      <th>31258</th>\n",
       "      <td>62729</td>\n",
       "      <td>103165</td>\n",
       "    </tr>\n",
       "    <tr>\n",
       "      <th>31259</th>\n",
       "      <td>62730</td>\n",
       "      <td>174932</td>\n",
       "    </tr>\n",
       "    <tr>\n",
       "      <th>6449</th>\n",
       "      <td>62731</td>\n",
       "      <td>280000</td>\n",
       "    </tr>\n",
       "    <tr>\n",
       "      <th>31261</th>\n",
       "      <td>62732</td>\n",
       "      <td>79045</td>\n",
       "    </tr>\n",
       "  </tbody>\n",
       "</table>\n",
       "<p>31262 rows × 2 columns</p>\n",
       "</div>"
      ],
      "text/plain": [
       "          id      賃料\n",
       "0      31471  126081\n",
       "1      31472  115539\n",
       "2      31473   82299\n",
       "3      31474   61338\n",
       "0      31475   90000\n",
       "...      ...     ...\n",
       "31257  62728  106053\n",
       "31258  62729  103165\n",
       "31259  62730  174932\n",
       "6449   62731  280000\n",
       "31261  62732   79045\n",
       "\n",
       "[31262 rows x 2 columns]"
      ]
     },
     "execution_count": 99,
     "metadata": {},
     "output_type": "execute_result"
    }
   ],
   "source": [
    "result"
   ]
  },
  {
   "cell_type": "code",
   "execution_count": 100,
   "metadata": {},
   "outputs": [],
   "source": [
    "result.to_csv(\"result.csv\", header=False, index=False)"
   ]
  },
  {
   "cell_type": "code",
   "execution_count": null,
   "metadata": {},
   "outputs": [],
   "source": []
  }
 ],
 "metadata": {
  "kernelspec": {
   "display_name": "Python 3",
   "language": "python",
   "name": "python3"
  },
  "language_info": {
   "codemirror_mode": {
    "name": "ipython",
    "version": 3
   },
   "file_extension": ".py",
   "mimetype": "text/x-python",
   "name": "python",
   "nbconvert_exporter": "python",
   "pygments_lexer": "ipython3",
   "version": "3.7.3"
  }
 },
 "nbformat": 4,
 "nbformat_minor": 4
}
