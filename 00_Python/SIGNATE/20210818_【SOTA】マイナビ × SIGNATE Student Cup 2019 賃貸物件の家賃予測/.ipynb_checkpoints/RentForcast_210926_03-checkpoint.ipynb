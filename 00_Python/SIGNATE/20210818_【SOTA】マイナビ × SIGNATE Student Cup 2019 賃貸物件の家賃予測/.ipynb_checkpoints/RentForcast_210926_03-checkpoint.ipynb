{
 "cells": [
  {
   "cell_type": "markdown",
   "metadata": {},
   "source": [
    "# [【SOTA】マイナビ × SIGNATE Student Cup 2019: 賃貸物件の家賃予測](https://signate.jp/competitions/264)"
   ]
  },
  {
   "cell_type": "markdown",
   "metadata": {},
   "source": [
    "## 1. データ読み込み"
   ]
  },
  {
   "cell_type": "code",
   "execution_count": 274,
   "metadata": {},
   "outputs": [],
   "source": [
    "import pandas as pd\n",
    "import numpy as np\n",
    "import pathlib\n",
    "import os\n",
    "\n",
    "# 学習データ、テストデータの読み込み\n",
    "train_path = pathlib.Path(\"./DATA/train.csv\")\n",
    "test_path = pathlib.Path(\"./DATA/test.csv\")\n",
    "\n",
    "train_data = pd.read_csv(train_path)\n",
    "test_data = pd.read_csv(test_path)"
   ]
  },
  {
   "cell_type": "code",
   "execution_count": 275,
   "metadata": {},
   "outputs": [
    {
     "data": {
      "text/html": [
       "<div>\n",
       "<style scoped>\n",
       "    .dataframe tbody tr th:only-of-type {\n",
       "        vertical-align: middle;\n",
       "    }\n",
       "\n",
       "    .dataframe tbody tr th {\n",
       "        vertical-align: top;\n",
       "    }\n",
       "\n",
       "    .dataframe thead th {\n",
       "        text-align: right;\n",
       "    }\n",
       "</style>\n",
       "<table border=\"1\" class=\"dataframe\">\n",
       "  <thead>\n",
       "    <tr style=\"text-align: right;\">\n",
       "      <th></th>\n",
       "      <th>id</th>\n",
       "      <th>所在地</th>\n",
       "      <th>アクセス</th>\n",
       "      <th>間取り</th>\n",
       "      <th>築年数</th>\n",
       "      <th>方角</th>\n",
       "      <th>面積</th>\n",
       "      <th>所在階</th>\n",
       "      <th>バス・トイレ</th>\n",
       "      <th>キッチン</th>\n",
       "      <th>放送・通信</th>\n",
       "      <th>室内設備</th>\n",
       "      <th>駐車場</th>\n",
       "      <th>周辺環境</th>\n",
       "      <th>建物構造</th>\n",
       "      <th>契約期間</th>\n",
       "    </tr>\n",
       "  </thead>\n",
       "  <tbody>\n",
       "    <tr>\n",
       "      <th>0</th>\n",
       "      <td>31471</td>\n",
       "      <td>東京都世田谷区深沢５丁目1-27</td>\n",
       "      <td>東急大井町線\\t等々力駅\\t徒歩15分\\t\\t東急田園都市線\\t桜新町駅\\t徒歩24分\\t\\...</td>\n",
       "      <td>2LDK</td>\n",
       "      <td>49年0ヶ月</td>\n",
       "      <td>南</td>\n",
       "      <td>50.22m2</td>\n",
       "      <td>8階／8階建</td>\n",
       "      <td>専用バス／\\t専用トイレ／\\tバス・トイレ別／\\tシャワー／\\t追焚機能／\\t温水洗浄便座／...</td>\n",
       "      <td>ガスコンロ／\\tコンロ3口／\\tシステムキッチン\\t／\\t給湯／\\tL字キッチン</td>\n",
       "      <td>インターネット対応</td>\n",
       "      <td>エアコン付\\tシューズボックス／\\tバルコニー／\\tフローリング／\\tエレベーター\\t公営水...</td>\n",
       "      <td>駐輪場\\t空有\\t駐車場\\t無\\tバイク置き場\\t無</td>\n",
       "      <td>【コンビニ】 74m\\t【スーパー】 215m\\t【病院】 313m\\t【小学校】 219m...</td>\n",
       "      <td>鉄骨造</td>\n",
       "      <td>NaN</td>\n",
       "    </tr>\n",
       "    <tr>\n",
       "      <th>1</th>\n",
       "      <td>31472</td>\n",
       "      <td>東京都目黒区八雲１丁目11-8</td>\n",
       "      <td>東急東横線\\t都立大学駅\\t徒歩6分\\t\\t東急東横線\\t自由が丘駅\\t徒歩17分\\t\\t東...</td>\n",
       "      <td>1R</td>\n",
       "      <td>0年2ヶ月</td>\n",
       "      <td>南東</td>\n",
       "      <td>20.88m2</td>\n",
       "      <td>3階／4階建</td>\n",
       "      <td>専用バス／\\t専用トイレ／\\tバス・トイレ別／\\tシャワー／\\t浴室乾燥機\\t／\\t温水洗浄...</td>\n",
       "      <td>ガスコンロ／\\tコンロ2口／\\tシステムキッチン\\t／\\t給湯</td>\n",
       "      <td>インターネット対応／\\tCSアンテナ／\\tBSアンテナ／\\tインターネット使用料無料</td>\n",
       "      <td>エアコン付\\tシューズボックス／\\tフローリング／\\t室内洗濯機置場\\t公営水道／\\t下水／...</td>\n",
       "      <td>駐車場\\t近隣\\t34,000円(税込)\\t距離200m\\t駐輪場\\t無\\tバイク置き場\\t無</td>\n",
       "      <td>【スーパー】 128m\\t【スーパー】 313m\\t【コンビニ】 374m\\t【コンビニ】 ...</td>\n",
       "      <td>RC（鉄筋コンクリート）</td>\n",
       "      <td>2年間</td>\n",
       "    </tr>\n",
       "    <tr>\n",
       "      <th>2</th>\n",
       "      <td>31473</td>\n",
       "      <td>東京都豊島区池袋本町２丁目22-2</td>\n",
       "      <td>東武東上線\\t北池袋駅\\t徒歩10分\\t\\t埼京線\\t板橋駅\\t徒歩16分\\t\\t山手線\\t...</td>\n",
       "      <td>1K</td>\n",
       "      <td>23年4ヶ月</td>\n",
       "      <td>南東</td>\n",
       "      <td>26.93m2</td>\n",
       "      <td>1階／4階建</td>\n",
       "      <td>専用バス／\\t専用トイレ／\\tバス・トイレ別／\\tシャワー／\\t温水洗浄便座</td>\n",
       "      <td>ガスコンロ／\\t給湯</td>\n",
       "      <td>インターネット対応／\\t光ファイバー／\\tCATV</td>\n",
       "      <td>エアコン付\\tシューズボックス／\\tバルコニー／\\tフローリング／\\t2面採光／\\t室内洗濯...</td>\n",
       "      <td>駐車場\\t空有\\t5,000円(税込)\\t(敷金あり\\t1ヶ月)\\t駐輪場\\t空有\\tバイク...</td>\n",
       "      <td>【スーパー】 529m\\t【スーパー】 810m\\t【コンビニ】 316m\\t【コンビニ】 ...</td>\n",
       "      <td>鉄骨造</td>\n",
       "      <td>2年間</td>\n",
       "    </tr>\n",
       "    <tr>\n",
       "      <th>3</th>\n",
       "      <td>31474</td>\n",
       "      <td>東京都杉並区和泉１丁目</td>\n",
       "      <td>丸ノ内線(中野坂上－方南町)\\t方南町駅\\t徒歩10分\\t\\t京王線\\t代田橋駅\\t徒歩8分...</td>\n",
       "      <td>1K</td>\n",
       "      <td>36年2ヶ月</td>\n",
       "      <td>南東</td>\n",
       "      <td>23.57m2</td>\n",
       "      <td>1階／2階建</td>\n",
       "      <td>シャワー</td>\n",
       "      <td>ガスコンロ／\\t給湯</td>\n",
       "      <td>NaN</td>\n",
       "      <td>エアコン付\\tシューズボックス／\\t2面採光／\\t室外洗濯機置場\\t公営水道／\\t下水／\\t...</td>\n",
       "      <td>駐輪場\\t空有\\t0円</td>\n",
       "      <td>【スーパー】 286m\\t【スーパー】 702m\\t【コンビニ】 489m\\t【コンビニ】 ...</td>\n",
       "      <td>木造</td>\n",
       "      <td>2年間</td>\n",
       "    </tr>\n",
       "    <tr>\n",
       "      <th>4</th>\n",
       "      <td>31475</td>\n",
       "      <td>東京都杉並区堀ノ内２丁目</td>\n",
       "      <td>丸ノ内線(中野坂上－方南町)\\t方南町駅\\t徒歩12分\\t\\t丸ノ内線(池袋－荻窪)\\t新高...</td>\n",
       "      <td>2LDK</td>\n",
       "      <td>45年4ヶ月</td>\n",
       "      <td>南</td>\n",
       "      <td>50m2</td>\n",
       "      <td>4階／4階建</td>\n",
       "      <td>専用バス／\\t専用トイレ／\\tバス・トイレ別</td>\n",
       "      <td>コンロ設置可（口数不明）／\\t給湯</td>\n",
       "      <td>インターネット対応</td>\n",
       "      <td>冷房／\\tエアコン付\\tシューズボックス／\\tバルコニー／\\tフローリング／\\t室内洗濯機置...</td>\n",
       "      <td>駐車場\\t近隣\\t22,600円\\t距離177m</td>\n",
       "      <td>【コンビニ】 312m\\t【コンビニ】 436m\\t【スーパー】 902m\\t【コンビニ】 ...</td>\n",
       "      <td>RC（鉄筋コンクリート）</td>\n",
       "      <td>2年間</td>\n",
       "    </tr>\n",
       "  </tbody>\n",
       "</table>\n",
       "</div>"
      ],
      "text/plain": [
       "      id                所在地  \\\n",
       "0  31471   東京都世田谷区深沢５丁目1-27   \n",
       "1  31472    東京都目黒区八雲１丁目11-8   \n",
       "2  31473  東京都豊島区池袋本町２丁目22-2   \n",
       "3  31474        東京都杉並区和泉１丁目   \n",
       "4  31475       東京都杉並区堀ノ内２丁目   \n",
       "\n",
       "                                                アクセス   間取り     築年数  方角  \\\n",
       "0  東急大井町線\\t等々力駅\\t徒歩15分\\t\\t東急田園都市線\\t桜新町駅\\t徒歩24分\\t\\...  2LDK  49年0ヶ月   南   \n",
       "1  東急東横線\\t都立大学駅\\t徒歩6分\\t\\t東急東横線\\t自由が丘駅\\t徒歩17分\\t\\t東...    1R   0年2ヶ月  南東   \n",
       "2  東武東上線\\t北池袋駅\\t徒歩10分\\t\\t埼京線\\t板橋駅\\t徒歩16分\\t\\t山手線\\t...    1K  23年4ヶ月  南東   \n",
       "3  丸ノ内線(中野坂上－方南町)\\t方南町駅\\t徒歩10分\\t\\t京王線\\t代田橋駅\\t徒歩8分...    1K  36年2ヶ月  南東   \n",
       "4  丸ノ内線(中野坂上－方南町)\\t方南町駅\\t徒歩12分\\t\\t丸ノ内線(池袋－荻窪)\\t新高...  2LDK  45年4ヶ月   南   \n",
       "\n",
       "        面積     所在階                                             バス・トイレ  \\\n",
       "0  50.22m2  8階／8階建  専用バス／\\t専用トイレ／\\tバス・トイレ別／\\tシャワー／\\t追焚機能／\\t温水洗浄便座／...   \n",
       "1  20.88m2  3階／4階建  専用バス／\\t専用トイレ／\\tバス・トイレ別／\\tシャワー／\\t浴室乾燥機\\t／\\t温水洗浄...   \n",
       "2  26.93m2  1階／4階建             専用バス／\\t専用トイレ／\\tバス・トイレ別／\\tシャワー／\\t温水洗浄便座   \n",
       "3  23.57m2  1階／2階建                                               シャワー   \n",
       "4     50m2  4階／4階建                             専用バス／\\t専用トイレ／\\tバス・トイレ別   \n",
       "\n",
       "                                       キッチン  \\\n",
       "0  ガスコンロ／\\tコンロ3口／\\tシステムキッチン\\t／\\t給湯／\\tL字キッチン   \n",
       "1           ガスコンロ／\\tコンロ2口／\\tシステムキッチン\\t／\\t給湯   \n",
       "2                                ガスコンロ／\\t給湯   \n",
       "3                                ガスコンロ／\\t給湯   \n",
       "4                         コンロ設置可（口数不明）／\\t給湯   \n",
       "\n",
       "                                        放送・通信  \\\n",
       "0                                   インターネット対応   \n",
       "1  インターネット対応／\\tCSアンテナ／\\tBSアンテナ／\\tインターネット使用料無料   \n",
       "2                   インターネット対応／\\t光ファイバー／\\tCATV   \n",
       "3                                         NaN   \n",
       "4                                   インターネット対応   \n",
       "\n",
       "                                                室内設備  \\\n",
       "0  エアコン付\\tシューズボックス／\\tバルコニー／\\tフローリング／\\tエレベーター\\t公営水...   \n",
       "1  エアコン付\\tシューズボックス／\\tフローリング／\\t室内洗濯機置場\\t公営水道／\\t下水／...   \n",
       "2  エアコン付\\tシューズボックス／\\tバルコニー／\\tフローリング／\\t2面採光／\\t室内洗濯...   \n",
       "3  エアコン付\\tシューズボックス／\\t2面採光／\\t室外洗濯機置場\\t公営水道／\\t下水／\\t...   \n",
       "4  冷房／\\tエアコン付\\tシューズボックス／\\tバルコニー／\\tフローリング／\\t室内洗濯機置...   \n",
       "\n",
       "                                                 駐車場  \\\n",
       "0                         駐輪場\\t空有\\t駐車場\\t無\\tバイク置き場\\t無   \n",
       "1    駐車場\\t近隣\\t34,000円(税込)\\t距離200m\\t駐輪場\\t無\\tバイク置き場\\t無   \n",
       "2  駐車場\\t空有\\t5,000円(税込)\\t(敷金あり\\t1ヶ月)\\t駐輪場\\t空有\\tバイク...   \n",
       "3                                        駐輪場\\t空有\\t0円   \n",
       "4                           駐車場\\t近隣\\t22,600円\\t距離177m   \n",
       "\n",
       "                                                周辺環境          建物構造 契約期間  \n",
       "0  【コンビニ】 74m\\t【スーパー】 215m\\t【病院】 313m\\t【小学校】 219m...           鉄骨造  NaN  \n",
       "1  【スーパー】 128m\\t【スーパー】 313m\\t【コンビニ】 374m\\t【コンビニ】 ...  RC（鉄筋コンクリート）  2年間  \n",
       "2  【スーパー】 529m\\t【スーパー】 810m\\t【コンビニ】 316m\\t【コンビニ】 ...           鉄骨造  2年間  \n",
       "3  【スーパー】 286m\\t【スーパー】 702m\\t【コンビニ】 489m\\t【コンビニ】 ...            木造  2年間  \n",
       "4  【コンビニ】 312m\\t【コンビニ】 436m\\t【スーパー】 902m\\t【コンビニ】 ...  RC（鉄筋コンクリート）  2年間  "
      ]
     },
     "execution_count": 275,
     "metadata": {},
     "output_type": "execute_result"
    }
   ],
   "source": [
    "test_data.head()"
   ]
  },
  {
   "cell_type": "markdown",
   "metadata": {},
   "source": [
    "## 2. 前処理"
   ]
  },
  {
   "cell_type": "markdown",
   "metadata": {},
   "source": [
    "### 2.1. データ選択"
   ]
  },
  {
   "cell_type": "code",
   "execution_count": 276,
   "metadata": {},
   "outputs": [],
   "source": [
    "train_data_1 = train_data[[\"id\", \"アクセス\", \"所在地\", \"賃料\", \"間取り\", \"築年数\", \"面積\", \"所在階\", \"建物構造\"]]\n",
    "test_data_1 = test_data[[\"id\", \"アクセス\", \"所在地\", \"間取り\", \"築年数\", \"面積\", \"所在階\", \"建物構造\"]]"
   ]
  },
  {
   "cell_type": "markdown",
   "metadata": {},
   "source": [
    "### 2.2. 間取りの数値化"
   ]
  },
  {
   "cell_type": "code",
   "execution_count": 277,
   "metadata": {},
   "outputs": [
    {
     "name": "stderr",
     "output_type": "stream",
     "text": [
      "C:\\ProgramData\\Anaconda3\\lib\\site-packages\\ipykernel_launcher.py:7: SettingWithCopyWarning: \n",
      "A value is trying to be set on a copy of a slice from a DataFrame.\n",
      "Try using .loc[row_indexer,col_indexer] = value instead\n",
      "\n",
      "See the caveats in the documentation: https://pandas.pydata.org/pandas-docs/stable/user_guide/indexing.html#returning-a-view-versus-a-copy\n",
      "  import sys\n",
      "C:\\ProgramData\\Anaconda3\\lib\\site-packages\\ipykernel_launcher.py:8: SettingWithCopyWarning: \n",
      "A value is trying to be set on a copy of a slice from a DataFrame.\n",
      "Try using .loc[row_indexer,col_indexer] = value instead\n",
      "\n",
      "See the caveats in the documentation: https://pandas.pydata.org/pandas-docs/stable/user_guide/indexing.html#returning-a-view-versus-a-copy\n",
      "  \n"
     ]
    }
   ],
   "source": [
    "# 間取りにlabel encodingを適用\n",
    "from sklearn.preprocessing import LabelEncoder\n",
    "\n",
    "le = LabelEncoder()\n",
    "le.fit(pd.concat([train_data_1[\"間取り\"],test_data_1[\"間取り\"]]))\n",
    "\n",
    "train_data_1[\"間取りID\"] = le.transform(train_data_1[\"間取り\"])\n",
    "test_data_1[\"間取りID\"] = le.transform(test_data_1[\"間取り\"])"
   ]
  },
  {
   "cell_type": "markdown",
   "metadata": {},
   "source": [
    "### 2.3. 面積の数値化"
   ]
  },
  {
   "cell_type": "code",
   "execution_count": 278,
   "metadata": {},
   "outputs": [],
   "source": [
    "# 面積のカラムタイトルを面積[m2]に置換\n",
    "train_data_1 = train_data_1.rename(columns={\"面積\": \"面積m2\"})\n",
    "test_data_1 = test_data_1.rename(columns={\"面積\": \"面積m2\"})"
   ]
  },
  {
   "cell_type": "code",
   "execution_count": 279,
   "metadata": {},
   "outputs": [],
   "source": [
    "# カラムタイトル面積[m2]の要素からm2を削除\n",
    "train_data_1['面積m2'] = train_data_1['面積m2'].str.replace('m2', '').astype(float)\n",
    "test_data_1['面積m2'] = test_data_1['面積m2'].str.replace('m2', '').astype(float)"
   ]
  },
  {
   "cell_type": "markdown",
   "metadata": {},
   "source": [
    "### 2.4. 所在階の数値化"
   ]
  },
  {
   "cell_type": "code",
   "execution_count": 280,
   "metadata": {},
   "outputs": [],
   "source": [
    "# 所在階の中身を\"／\"で2つの列に分割\n",
    "train_data_1 = pd.concat([train_data_1, train_data_1['所在階'].str.split('／', expand=True)], axis=1)\n",
    "test_data_1 = pd.concat([test_data_1, test_data_1['所在階'].str.split('／', expand=True)], axis=1)"
   ]
  },
  {
   "cell_type": "code",
   "execution_count": 281,
   "metadata": {},
   "outputs": [],
   "source": [
    "# 分割した所在階のカラム名変更　0:所在、1:階層\n",
    "train_data_1 = train_data_1.rename(columns={0:\"所在\", 1:\"階層\"})\n",
    "test_data_1 = test_data_1.rename(columns={0:\"所在\", 1:\"階層\"})"
   ]
  },
  {
   "cell_type": "code",
   "execution_count": 282,
   "metadata": {},
   "outputs": [],
   "source": [
    "# 所在と階層の要素を整形\n",
    "train_data_1['所在'] = train_data_1['所在'].str.replace('階', '')\n",
    "train_data_1['所在'] = train_data_1['所在'].str.replace('建', '')\n",
    "train_data_1['所在'] = train_data_1['所在'].str.replace('地下', '-')\n",
    "train_data_1['所在'] = train_data_1['所在'].str.replace('\\（.*\\）', '', regex=True)\n",
    "train_data_1['階層'] = train_data_1['階層'].str.replace('階建', '')\n",
    "train_data_1['階層'] = train_data_1['階層'].str.replace('\\（.*\\）', '', regex=True)\n",
    "train_data_1['所在'] = train_data_1['所在'].replace('', np.nan)\n",
    "\n",
    "test_data_1['所在'] = test_data_1['所在'].str.replace('階', '')\n",
    "test_data_1['所在'] = test_data_1['所在'].str.replace('建', '')\n",
    "test_data_1['所在'] = test_data_1['所在'].str.replace('地下', '-')\n",
    "test_data_1['所在'] = test_data_1['所在'].str.replace('\\（.*\\）', '', regex=True)\n",
    "test_data_1['階層'] = test_data_1['階層'].str.replace('階建', '')\n",
    "test_data_1['階層'] = test_data_1['階層'].str.replace('\\（.*\\）', '', regex=True)\n",
    "test_data_1['所在'] = test_data_1['所在'].replace('', np.nan)"
   ]
  },
  {
   "cell_type": "code",
   "execution_count": 283,
   "metadata": {},
   "outputs": [],
   "source": [
    "# # \"階層\"がNoneの箇所を\"所在\"の値で埋める\n",
    "# train_data_1['階層'].fillna(train_data_1['所在'], inplace=True)\n",
    "# test_data_1['階層'].fillna(test_data_1['所在'], inplace=True)"
   ]
  },
  {
   "cell_type": "code",
   "execution_count": 284,
   "metadata": {},
   "outputs": [],
   "source": [
    "# 所在と階層の要素をfloat型に変換する\n",
    "train_data_1['所在'] = train_data_1['所在'].astype(float)\n",
    "train_data_1['階層'] = train_data_1['階層'].astype(float)\n",
    "\n",
    "test_data_1['所在'] = test_data_1['所在'].astype(float)\n",
    "test_data_1['階層'] = test_data_1['階層'].astype(float)"
   ]
  },
  {
   "cell_type": "code",
   "execution_count": 285,
   "metadata": {},
   "outputs": [],
   "source": [
    "# 所在階のカラムを削除\n",
    "train_data_1 = train_data_1.drop('所在階', axis=1)\n",
    "test_data_1 = test_data_1.drop('所在階', axis=1)"
   ]
  },
  {
   "cell_type": "code",
   "execution_count": 286,
   "metadata": {},
   "outputs": [],
   "source": [
    "# # 所在も階層も空欄のデータは間取りと面積の近いデータで埋める\n",
    "# print(test_data_1[(test_data_1[\"間取りID\"] == 21) & (test_data_1[\"面積m2\"] > 90) & (test_data_1[\"面積m2\"] < 95)].mean())\n",
    "# test_data_1.loc[test_data_1[\"id\"]==40675, \"所在\"] = float(6)\n",
    "# test_data_1.loc[test_data_1[\"id\"]==40675, \"階層\"] = float(9)"
   ]
  },
  {
   "cell_type": "markdown",
   "metadata": {},
   "source": [
    "### 2.5. 築年数の数値化"
   ]
  },
  {
   "cell_type": "code",
   "execution_count": 287,
   "metadata": {},
   "outputs": [],
   "source": [
    "# 新築の場合は全て0にする\n",
    "train_data_1.loc[train_data_1[\"築年数\"]==\"新築\", \"築年数\"] = float(0)\n",
    "test_data_1.loc[test_data_1[\"築年数\"]==\"新築\", \"築年数\"] = float(0)"
   ]
  },
  {
   "cell_type": "code",
   "execution_count": 288,
   "metadata": {},
   "outputs": [],
   "source": [
    "# 築年数を数値に変換する\n",
    "train_data_1 = pd.concat([train_data_1, train_data_1['築年数'].str.split('年', expand=True)], axis=1)\n",
    "test_data_1 = pd.concat([test_data_1, test_data_1['築年数'].str.split('年', expand=True)], axis=1)"
   ]
  },
  {
   "cell_type": "code",
   "execution_count": 289,
   "metadata": {},
   "outputs": [],
   "source": [
    "# ヶ月を消す\n",
    "train_data_1[1] = train_data_1[1].str.replace('ヶ月', '')\n",
    "test_data_1[1] = test_data_1[1].str.replace('ヶ月', '')"
   ]
  },
  {
   "cell_type": "code",
   "execution_count": 290,
   "metadata": {},
   "outputs": [],
   "source": [
    "# 築年数をfloat変換\n",
    "train_data_1[\"築年数\"] = train_data_1[0].astype(float) + (train_data_1[1].astype(float) / float(10))\n",
    "test_data_1[\"築年数\"] = test_data_1[0].astype(float) + (test_data_1[1].astype(float) / float(10))"
   ]
  },
  {
   "cell_type": "code",
   "execution_count": 291,
   "metadata": {},
   "outputs": [
    {
     "data": {
      "text/html": [
       "<div>\n",
       "<style scoped>\n",
       "    .dataframe tbody tr th:only-of-type {\n",
       "        vertical-align: middle;\n",
       "    }\n",
       "\n",
       "    .dataframe tbody tr th {\n",
       "        vertical-align: top;\n",
       "    }\n",
       "\n",
       "    .dataframe thead th {\n",
       "        text-align: right;\n",
       "    }\n",
       "</style>\n",
       "<table border=\"1\" class=\"dataframe\">\n",
       "  <thead>\n",
       "    <tr style=\"text-align: right;\">\n",
       "      <th></th>\n",
       "      <th>id</th>\n",
       "      <th>アクセス</th>\n",
       "      <th>所在地</th>\n",
       "      <th>間取り</th>\n",
       "      <th>築年数</th>\n",
       "      <th>面積m2</th>\n",
       "      <th>建物構造</th>\n",
       "      <th>間取りID</th>\n",
       "      <th>所在</th>\n",
       "      <th>階層</th>\n",
       "      <th>0</th>\n",
       "      <th>1</th>\n",
       "    </tr>\n",
       "  </thead>\n",
       "  <tbody>\n",
       "    <tr>\n",
       "      <th>0</th>\n",
       "      <td>31471</td>\n",
       "      <td>東急大井町線\\t等々力駅\\t徒歩15分\\t\\t東急田園都市線\\t桜新町駅\\t徒歩24分\\t\\...</td>\n",
       "      <td>東京都世田谷区深沢５丁目1-27</td>\n",
       "      <td>2LDK</td>\n",
       "      <td>49.0</td>\n",
       "      <td>50.22</td>\n",
       "      <td>鉄骨造</td>\n",
       "      <td>14</td>\n",
       "      <td>8.0</td>\n",
       "      <td>8.0</td>\n",
       "      <td>49</td>\n",
       "      <td>0</td>\n",
       "    </tr>\n",
       "    <tr>\n",
       "      <th>1</th>\n",
       "      <td>31472</td>\n",
       "      <td>東急東横線\\t都立大学駅\\t徒歩6分\\t\\t東急東横線\\t自由が丘駅\\t徒歩17分\\t\\t東...</td>\n",
       "      <td>東京都目黒区八雲１丁目11-8</td>\n",
       "      <td>1R</td>\n",
       "      <td>0.2</td>\n",
       "      <td>20.88</td>\n",
       "      <td>RC（鉄筋コンクリート）</td>\n",
       "      <td>9</td>\n",
       "      <td>3.0</td>\n",
       "      <td>4.0</td>\n",
       "      <td>0</td>\n",
       "      <td>2</td>\n",
       "    </tr>\n",
       "    <tr>\n",
       "      <th>2</th>\n",
       "      <td>31473</td>\n",
       "      <td>東武東上線\\t北池袋駅\\t徒歩10分\\t\\t埼京線\\t板橋駅\\t徒歩16分\\t\\t山手線\\t...</td>\n",
       "      <td>東京都豊島区池袋本町２丁目22-2</td>\n",
       "      <td>1K</td>\n",
       "      <td>23.4</td>\n",
       "      <td>26.93</td>\n",
       "      <td>鉄骨造</td>\n",
       "      <td>3</td>\n",
       "      <td>1.0</td>\n",
       "      <td>4.0</td>\n",
       "      <td>23</td>\n",
       "      <td>4</td>\n",
       "    </tr>\n",
       "    <tr>\n",
       "      <th>3</th>\n",
       "      <td>31474</td>\n",
       "      <td>丸ノ内線(中野坂上－方南町)\\t方南町駅\\t徒歩10分\\t\\t京王線\\t代田橋駅\\t徒歩8分...</td>\n",
       "      <td>東京都杉並区和泉１丁目</td>\n",
       "      <td>1K</td>\n",
       "      <td>36.2</td>\n",
       "      <td>23.57</td>\n",
       "      <td>木造</td>\n",
       "      <td>3</td>\n",
       "      <td>1.0</td>\n",
       "      <td>2.0</td>\n",
       "      <td>36</td>\n",
       "      <td>2</td>\n",
       "    </tr>\n",
       "    <tr>\n",
       "      <th>4</th>\n",
       "      <td>31475</td>\n",
       "      <td>丸ノ内線(中野坂上－方南町)\\t方南町駅\\t徒歩12分\\t\\t丸ノ内線(池袋－荻窪)\\t新高...</td>\n",
       "      <td>東京都杉並区堀ノ内２丁目</td>\n",
       "      <td>2LDK</td>\n",
       "      <td>45.4</td>\n",
       "      <td>50.00</td>\n",
       "      <td>RC（鉄筋コンクリート）</td>\n",
       "      <td>14</td>\n",
       "      <td>4.0</td>\n",
       "      <td>4.0</td>\n",
       "      <td>45</td>\n",
       "      <td>4</td>\n",
       "    </tr>\n",
       "  </tbody>\n",
       "</table>\n",
       "</div>"
      ],
      "text/plain": [
       "      id                                               アクセス  \\\n",
       "0  31471  東急大井町線\\t等々力駅\\t徒歩15分\\t\\t東急田園都市線\\t桜新町駅\\t徒歩24分\\t\\...   \n",
       "1  31472  東急東横線\\t都立大学駅\\t徒歩6分\\t\\t東急東横線\\t自由が丘駅\\t徒歩17分\\t\\t東...   \n",
       "2  31473  東武東上線\\t北池袋駅\\t徒歩10分\\t\\t埼京線\\t板橋駅\\t徒歩16分\\t\\t山手線\\t...   \n",
       "3  31474  丸ノ内線(中野坂上－方南町)\\t方南町駅\\t徒歩10分\\t\\t京王線\\t代田橋駅\\t徒歩8分...   \n",
       "4  31475  丸ノ内線(中野坂上－方南町)\\t方南町駅\\t徒歩12分\\t\\t丸ノ内線(池袋－荻窪)\\t新高...   \n",
       "\n",
       "                 所在地   間取り   築年数   面積m2          建物構造  間取りID   所在   階層   0  1  \n",
       "0   東京都世田谷区深沢５丁目1-27  2LDK  49.0  50.22           鉄骨造     14  8.0  8.0  49  0  \n",
       "1    東京都目黒区八雲１丁目11-8    1R   0.2  20.88  RC（鉄筋コンクリート）      9  3.0  4.0   0  2  \n",
       "2  東京都豊島区池袋本町２丁目22-2    1K  23.4  26.93           鉄骨造      3  1.0  4.0  23  4  \n",
       "3        東京都杉並区和泉１丁目    1K  36.2  23.57            木造      3  1.0  2.0  36  2  \n",
       "4       東京都杉並区堀ノ内２丁目  2LDK  45.4  50.00  RC（鉄筋コンクリート）     14  4.0  4.0  45  4  "
      ]
     },
     "execution_count": 291,
     "metadata": {},
     "output_type": "execute_result"
    }
   ],
   "source": [
    "test_data_1.head()"
   ]
  },
  {
   "cell_type": "code",
   "execution_count": 292,
   "metadata": {},
   "outputs": [
    {
     "name": "stdout",
     "output_type": "stream",
     "text": [
      "          id                                               アクセス  \\\n",
      "77     31548  東急多摩川線\\t矢口渡駅\\t徒歩7分\\t\\t京浜東北線\\t蒲田駅\\t徒歩20分\\t\\t東急池...   \n",
      "108    31579  東急田園都市線\\t三軒茶屋駅\\t徒歩8分\\t\\t東急世田谷線\\t三軒茶屋駅\\t徒歩9分\\t\\...   \n",
      "112    31583  日比谷線\\t仲御徒町駅\\t徒歩6分\\t\\t山手線\\t秋葉原駅\\t徒歩9分\\t\\t山手線\\t御...   \n",
      "156    31627  京急本線\\t大森海岸駅\\t徒歩8分\\t\\t京浜東北線\\t大森(東京都)駅\\t徒歩11分\\t\\...   \n",
      "162    31633  半蔵門線\\t住吉(東京都)駅\\t徒歩7分\\t\\t都営新宿線\\t西大島駅\\t徒歩23分\\t\\t...   \n",
      "...      ...                                                ...   \n",
      "31141  62612  小田急小田原線\\t千歳船橋駅\\t徒歩15分\\t\\t小田急小田原線\\t祖師ケ谷大蔵駅\\t徒歩1...   \n",
      "31176  62647  東西線\\t葛西駅\\t徒歩10分\\t\\t東西線\\t西葛西駅\\t徒歩23分\\t\\t京葉線(東京－...   \n",
      "31181  62652  都営大江戸線\\t牛込柳町駅\\t徒歩5分\\t\\t都営大江戸線\\t若松河田駅\\t徒歩6分\\t\\t...   \n",
      "31182  62653  都営大江戸線\\t牛込柳町駅\\t徒歩5分\\t\\t都営大江戸線\\t若松河田駅\\t徒歩6分\\t\\t...   \n",
      "31212  62683  都営大江戸線\\t牛込柳町駅\\t徒歩5分\\t\\t都営大江戸線\\t若松河田駅\\t徒歩6分\\t\\t...   \n",
      "\n",
      "                    所在地       間取り  築年数   面積m2          建物構造  間取りID   所在    階層  \\\n",
      "77         東京都大田区東矢口２丁目  1K+S(納戸)  NaN  23.80           鉄骨造      4  2.0   3.0   \n",
      "108    東京都世田谷区上馬２丁目26-8        1K  NaN  26.44  RC（鉄筋コンクリート）      3  7.0  13.0   \n",
      "112         東京都台東区台東２丁目      1LDK  NaN  41.65           鉄骨造      5  3.0  10.0   \n",
      "156    東京都品川区南大井４丁目20-5        1R  NaN  20.56  RC（鉄筋コンクリート）      9  3.0  12.0   \n",
      "162       東京都江東区扇橋２丁目23        1K  NaN  25.34  RC（鉄筋コンクリート）      3  1.0   8.0   \n",
      "...                 ...       ...  ...    ...           ...    ...  ...   ...   \n",
      "31141  東京都世田谷区桜丘４丁目15-9      2LDK  NaN  60.81            木造     14  2.0   2.0   \n",
      "31176   東京都江戸川区中葛西８丁目22      1LDK  NaN  40.06  RC（鉄筋コンクリート）      5  3.0  10.0   \n",
      "31181       東京都新宿区原町３丁目      1LDK  NaN  40.26           鉄骨造      5  2.0   3.0   \n",
      "31182       東京都新宿区原町３丁目      2LDK  NaN  54.75           鉄骨造     14  1.0   3.0   \n",
      "31212       東京都新宿区原町３丁目      1LDK  NaN  40.79           鉄骨造      5  2.0   3.0   \n",
      "\n",
      "         0    1  \n",
      "77     NaN  NaN  \n",
      "108    NaN  NaN  \n",
      "112    NaN  NaN  \n",
      "156    NaN  NaN  \n",
      "162    NaN  NaN  \n",
      "...    ...  ...  \n",
      "31141  NaN  NaN  \n",
      "31176  NaN  NaN  \n",
      "31181  NaN  NaN  \n",
      "31182  NaN  NaN  \n",
      "31212  NaN  NaN  \n",
      "\n",
      "[850 rows x 12 columns]\n"
     ]
    }
   ],
   "source": [
    "print(test_data_1[test_data_1[\"築年数\"].isnull()])"
   ]
  },
  {
   "cell_type": "code",
   "execution_count": 293,
   "metadata": {},
   "outputs": [],
   "source": [
    "# 0と1の列を消す\n",
    "train_data_1 = train_data_1.drop(0, axis=1)\n",
    "train_data_1 = train_data_1.drop(1, axis=1)\n",
    "\n",
    "test_data_1 = test_data_1.drop(0, axis=1)\n",
    "test_data_1 = test_data_1.drop(1, axis=1)"
   ]
  },
  {
   "cell_type": "markdown",
   "metadata": {},
   "source": [
    "### 2.6. 緯度経度情報の追加"
   ]
  },
  {
   "cell_type": "markdown",
   "metadata": {},
   "source": [
    "#### [このサイト](https://ktgis.net/gcode/geocoding.html)を利用する"
   ]
  },
  {
   "cell_type": "code",
   "execution_count": 294,
   "metadata": {},
   "outputs": [],
   "source": [
    "# IDと住所をファイル出力\n",
    "train_coordinate = train_data[[\"id\", \"所在地\"]]\n",
    "test_coordinate = test_data[[\"id\", \"所在地\"]]\n",
    "\n",
    "train_coordinate.to_csv(\"train_coordinate.csv\", header=False, index=False)\n",
    "test_coordinate.to_csv(\"test_coordinate.csv\", header=False, index=False)"
   ]
  },
  {
   "cell_type": "code",
   "execution_count": 295,
   "metadata": {},
   "outputs": [],
   "source": [
    "# 緯度、経度情報の読み込み(id, 所在地, 経度, 緯度)\n",
    "train_coordinate_addvalue = pd.read_excel(\"train_coordinate_addvalue.xlsx\")\n",
    "test_coordinate_addvalue = pd.read_excel(\"test_coordinate_addvalue.xlsx\")"
   ]
  },
  {
   "cell_type": "code",
   "execution_count": 296,
   "metadata": {},
   "outputs": [],
   "source": [
    "train_data_1 = pd.merge(train_data_1, train_coordinate_addvalue[[\"id\", \"経度\", \"緯度\"]], on='id')\n",
    "test_data_1 = pd.merge(test_data_1, test_coordinate_addvalue[[\"id\", \"経度\", \"緯度\"]], on='id')"
   ]
  },
  {
   "cell_type": "markdown",
   "metadata": {},
   "source": [
    "### 2.7. 部屋数の追加"
   ]
  },
  {
   "cell_type": "code",
   "execution_count": 297,
   "metadata": {},
   "outputs": [],
   "source": [
    "# 部屋数のマージ\n",
    "number_of_rooms = pd.read_excel(\"number_of_rooms.xlsx\")\n",
    "train_data_1 = pd.merge(train_data_1, number_of_rooms[[\"間取り\", \"部屋数\"]], on='間取り')\n",
    "test_data_1 = pd.merge(test_data_1, number_of_rooms[[\"間取り\", \"部屋数\"]], on='間取り')"
   ]
  },
  {
   "cell_type": "code",
   "execution_count": 298,
   "metadata": {},
   "outputs": [],
   "source": [
    "# インデックスの振り直し\n",
    "train_data_1 = train_data_1.sort_values(\"id\")\n",
    "train_data_1 = train_data_1.reset_index(drop=True)\n",
    "\n",
    "test_data_1 = test_data_1.sort_values(\"id\")\n",
    "test_data_1 = test_data_1.reset_index(drop=True)"
   ]
  },
  {
   "cell_type": "markdown",
   "metadata": {},
   "source": [
    "### 2.8. 1部屋当たりの面積追加"
   ]
  },
  {
   "cell_type": "code",
   "execution_count": 299,
   "metadata": {},
   "outputs": [],
   "source": [
    "# 面積と部屋数から1部屋当たりの面積を算出\n",
    "train_data_1[\"1部屋当たり面積m2\"] = (train_data_1[\"面積m2\"] / train_data_1[\"部屋数\"]).astype(float)\n",
    "test_data_1[\"1部屋当たり面積m2\"] = (test_data_1[\"面積m2\"] / test_data_1[\"部屋数\"]).astype(float)"
   ]
  },
  {
   "cell_type": "code",
   "execution_count": 300,
   "metadata": {},
   "outputs": [],
   "source": [
    "# 間取りと間取りIDは削除する\n",
    "train_data_1 = train_data_1.drop('間取り', axis=1)\n",
    "test_data_1 = test_data_1.drop('間取り', axis=1)\n",
    "\n",
    "# train_data_1 = train_data_1.drop('間取りID', axis=1)\n",
    "# test_data_1 = test_data_1.drop('間取りID', axis=1)"
   ]
  },
  {
   "cell_type": "markdown",
   "metadata": {},
   "source": [
    "#### 2.9. 建物の高さ率を追加(高さ率=所在/階層)"
   ]
  },
  {
   "cell_type": "code",
   "execution_count": 301,
   "metadata": {},
   "outputs": [],
   "source": [
    "# 高さ率の算出\n",
    "train_data_1[\"高さ率\"] = (train_data_1[\"所在\"] / train_data_1[\"階層\"]).astype(float)\n",
    "test_data_1[\"高さ率\"] = (test_data_1[\"所在\"] / test_data_1[\"階層\"]).astype(float)"
   ]
  },
  {
   "cell_type": "markdown",
   "metadata": {},
   "source": [
    "### 2.10. 建物構造の数値化"
   ]
  },
  {
   "cell_type": "code",
   "execution_count": 302,
   "metadata": {},
   "outputs": [
    {
     "data": {
      "text/plain": [
       "RC（鉄筋コンクリート）                   17505\n",
       "木造                              5512\n",
       "鉄骨造                             3726\n",
       "SRC（鉄骨鉄筋コンクリート）                 2429\n",
       "軽量鉄骨                            1812\n",
       "ALC（軽量気泡コンクリート）                  297\n",
       "その他                              136\n",
       "PC（プレキャスト・コンクリート（鉄筋コンクリート））       46\n",
       "HPC（プレキャスト・コンクリート（重量鉄骨））           4\n",
       "ブロック                               3\n",
       "Name: 建物構造, dtype: int64"
      ]
     },
     "execution_count": 302,
     "metadata": {},
     "output_type": "execute_result"
    }
   ],
   "source": [
    "train_data_1[\"建物構造\"].value_counts()"
   ]
  },
  {
   "cell_type": "code",
   "execution_count": 303,
   "metadata": {},
   "outputs": [],
   "source": [
    "# 建物構造にlabel encodingを適用\n",
    "from sklearn.preprocessing import LabelEncoder\n",
    "\n",
    "le = LabelEncoder()\n",
    "le.fit(pd.concat([train_data_1[\"建物構造\"],test_data_1[\"建物構造\"]]))\n",
    "\n",
    "train_data_1[\"建物構造ID\"] = le.transform(train_data_1[\"建物構造\"])\n",
    "test_data_1[\"建物構造ID\"] = le.transform(test_data_1[\"建物構造\"])"
   ]
  },
  {
   "cell_type": "code",
   "execution_count": 304,
   "metadata": {},
   "outputs": [],
   "source": [
    "# 不要になった建物構造カラムを削除する\n",
    "train_data_1 = train_data_1.drop('建物構造', axis=1)\n",
    "test_data_1 = test_data_1.drop('建物構造', axis=1)"
   ]
  },
  {
   "cell_type": "markdown",
   "metadata": {},
   "source": [
    "### 2.11. 新規カラムに「賃料/面積」を追加"
   ]
  },
  {
   "cell_type": "code",
   "execution_count": 305,
   "metadata": {},
   "outputs": [],
   "source": [
    "train_data_1[\"賃料/面積\"] = train_data_1[\"賃料\"] / train_data_1[\"面積m2\"]"
   ]
  },
  {
   "cell_type": "markdown",
   "metadata": {},
   "source": [
    "### 2.12. 東京23区の地域ごとに、住宅地の平均地価情報を追加"
   ]
  },
  {
   "cell_type": "code",
   "execution_count": 306,
   "metadata": {},
   "outputs": [],
   "source": [
    "# 区の情報の確認(23区だけだった)\n",
    "# sample = train_data[\"所在地\"].str.extract(\"東京都(.+区)\", expand=True)\n",
    "# sample.value_counts()"
   ]
  },
  {
   "cell_type": "code",
   "execution_count": 307,
   "metadata": {},
   "outputs": [
    {
     "name": "stdout",
     "output_type": "stream",
     "text": [
      "31470\n",
      "31262\n"
     ]
    }
   ],
   "source": [
    "print(len(train_data_1))\n",
    "print(len(test_data_1))"
   ]
  },
  {
   "cell_type": "code",
   "execution_count": 308,
   "metadata": {},
   "outputs": [],
   "source": [
    "# 訓練データとテストデータに、エリア情報を追加\n",
    "train_data_1[\"エリア\"] = \"\"\n",
    "test_data_1[\"エリア\"] = \"\"\n",
    "train_data_1[\"エリア\"] = train_data_1[\"所在地\"].str.extract(\"東京都((.+区.+?)[０-９]|(.+区.+?)[0-9]|(.+区.+))\", expand=True)\n",
    "test_data_1[\"エリア\"] = test_data_1[\"所在地\"].str.extract(\"東京都((.+区.+?)[０-９]|(.+区.+?)[0-9]|(.+区.+))\", expand=True)"
   ]
  },
  {
   "cell_type": "code",
   "execution_count": 309,
   "metadata": {},
   "outputs": [
    {
     "name": "stdout",
     "output_type": "stream",
     "text": [
      "31470\n",
      "31262\n"
     ]
    }
   ],
   "source": [
    "print(len(train_data_1))\n",
    "print(len(test_data_1))"
   ]
  },
  {
   "cell_type": "code",
   "execution_count": 310,
   "metadata": {},
   "outputs": [
    {
     "name": "stderr",
     "output_type": "stream",
     "text": [
      "C:\\ProgramData\\Anaconda3\\lib\\site-packages\\ipykernel_launcher.py:2: FutureWarning: The default value of regex will change from True to False in a future version.\n",
      "  \n",
      "C:\\ProgramData\\Anaconda3\\lib\\site-packages\\ipykernel_launcher.py:6: FutureWarning: The default value of regex will change from True to False in a future version.\n",
      "  \n"
     ]
    }
   ],
   "source": [
    "# 一部エリア情報に数値が残ってしまうので、消す\n",
    "train_data_1[\"エリア\"] = train_data_1[\"エリア\"].str.replace(\"[０-９]|[0-9]\", \"\")\n",
    "train_data_1[\"エリア\"] = train_data_1[\"エリア\"].str.replace(\"一丁目\", \"\")\n",
    "train_data_1[\"エリア\"] = train_data_1[\"エリア\"].str.replace(\"-\", \"\")\n",
    "\n",
    "test_data_1[\"エリア\"] = test_data_1[\"エリア\"].str.replace(\"[０-９]|[0-9]\", \"\")\n",
    "test_data_1[\"エリア\"] = test_data_1[\"エリア\"].str.replace(\"一丁目\", \"\")\n",
    "test_data_1[\"エリア\"] = test_data_1[\"エリア\"].str.replace(\"二丁目\", \"\")\n",
    "test_data_1[\"エリア\"] = test_data_1[\"エリア\"].str.replace(\"四丁目\", \"\")"
   ]
  },
  {
   "cell_type": "code",
   "execution_count": 311,
   "metadata": {},
   "outputs": [
    {
     "name": "stdout",
     "output_type": "stream",
     "text": [
      "31470\n",
      "31262\n"
     ]
    }
   ],
   "source": [
    "print(len(train_data_1))\n",
    "print(len(test_data_1))"
   ]
  },
  {
   "cell_type": "code",
   "execution_count": 312,
   "metadata": {},
   "outputs": [],
   "source": [
    "# 坪単価情報の読込～結合\n",
    "wards_value = pd.read_excel(\"23区_地域毎_坪単価.xlsx\")\n",
    "train_data_1 = pd.merge(train_data_1, wards_value, on=\"エリア\", how=\"left\")\n",
    "test_data_1 = pd.merge(test_data_1, wards_value, on=\"エリア\", how=\"left\")\n",
    "train_data_1 = train_data_1.sort_values(\"id\")\n",
    "test_data_1 = test_data_1.sort_values(\"id\")\n",
    "\n",
    "train_data_1 = train_data_1.drop(\"Unnamed: 4\", axis=1)\n",
    "test_data_1 = test_data_1.drop(\"Unnamed: 4\", axis=1)"
   ]
  },
  {
   "cell_type": "code",
   "execution_count": 313,
   "metadata": {},
   "outputs": [],
   "source": [
    "# 地価の抜けデータを平均値で補間\n",
    "# 江東区\n",
    "train_data_1.loc[train_data_1[\"id\"]==2767, \"区\"] = \"江東区\"\n",
    "train_data_1.loc[train_data_1[\"id\"]==7559, \"区\"] = \"江東区\"\n",
    "train_data_1.loc[train_data_1[\"id\"]==2767, \"平均坪単価（万円）\"] = 206.6\n",
    "train_data_1.loc[train_data_1[\"id\"]==7559, \"平均坪単価（万円）\"] = 206.6\n",
    "# 港区\n",
    "train_data_1.loc[train_data_1[\"id\"]==17654, \"区\"] = \"港区\"\n",
    "train_data_1.loc[train_data_1[\"id\"]==17654, \"平均坪単価（万円）\"] = 1321.4"
   ]
  },
  {
   "cell_type": "code",
   "execution_count": 314,
   "metadata": {},
   "outputs": [
    {
     "name": "stdout",
     "output_type": "stream",
     "text": [
      "31470\n",
      "31262\n"
     ]
    }
   ],
   "source": [
    "print(len(train_data_1))\n",
    "print(len(test_data_1))"
   ]
  },
  {
   "cell_type": "code",
   "execution_count": 315,
   "metadata": {},
   "outputs": [
    {
     "name": "stdout",
     "output_type": "stream",
     "text": [
      "Empty DataFrame\n",
      "Columns: [id, アクセス, 所在地, 賃料, 築年数, 面積m2, 間取りID, 所在, 階層, 経度, 緯度, 部屋数, 1部屋当たり面積m2, 高さ率, 建物構造ID, 賃料/面積, エリア, 区, 地名, 平均坪単価（万円）]\n",
      "Index: []\n",
      "Empty DataFrame\n",
      "Columns: [id, アクセス, 所在地, 築年数, 面積m2, 間取りID, 所在, 階層, 経度, 緯度, 部屋数, 1部屋当たり面積m2, 高さ率, 建物構造ID, エリア, 区, 地名, 平均坪単価（万円）]\n",
      "Index: []\n"
     ]
    }
   ],
   "source": [
    "print(train_data_1[train_data_1[\"平均坪単価（万円）\"].isnull()])\n",
    "print(test_data_1[test_data_1[\"平均坪単価（万円）\"].isnull()])"
   ]
  },
  {
   "cell_type": "markdown",
   "metadata": {},
   "source": [
    "### 2.13. 六本木駅からの距離情報を追加"
   ]
  },
  {
   "cell_type": "code",
   "execution_count": 316,
   "metadata": {},
   "outputs": [],
   "source": [
    "# 六本木駅からの距離を追加\n",
    "# 六本木駅 緯度: 35.662725 経度: 139.731217\n",
    "from geopy import Point\n",
    "from geopy.distance import geodesic\n",
    "from geopy.distance import distance\n",
    "\n",
    "train_data_1[\"Roppongi_longtitude\"] = 139.731217\n",
    "train_data_1[\"Roppongi_latitude\"] = 35.662725\n",
    "train_data_1['point'] = train_data_1.apply(lambda row: Point(latitude=row['緯度'], longitude=row['経度']), axis=1)\n",
    "train_data_1['point_next'] = train_data_1.apply(lambda row: Point(latitude=row['Roppongi_latitude'], longitude=row['Roppongi_longtitude']), axis=1)\n",
    "\n",
    "test_data_1[\"Roppongi_longtitude\"] = 139.731217\n",
    "test_data_1[\"Roppongi_latitude\"] = 35.662725\n",
    "test_data_1['point'] = test_data_1.apply(lambda row: Point(latitude=row['緯度'], longitude=row['経度']), axis=1)\n",
    "test_data_1['point_next'] = test_data_1.apply(lambda row: Point(latitude=row['Roppongi_latitude'], longitude=row['Roppongi_longtitude']), axis=1)\n",
    "\n",
    "train_data_1['distance_km'] = train_data_1.apply(lambda row: distance(row['point'], row['point_next']).km if row['point_next'] is not None else float('nan'), axis=1)\n",
    "test_data_1['distance_km'] = test_data_1.apply(lambda row: distance(row['point'], row['point_next']).km if row['point_next'] is not None else float('nan'), axis=1)\n",
    "\n",
    "# 距離値を逆数にする　Reciprocal\n",
    "train_data_1[\"Recciprocal_distance_km\"] = (1 / train_data_1[\"distance_km\"]).astype(float)\n",
    "test_data_1[\"Recciprocal_distance_km\"] = (1 / test_data_1[\"distance_km\"]).astype(float)"
   ]
  },
  {
   "cell_type": "code",
   "execution_count": 317,
   "metadata": {},
   "outputs": [],
   "source": [
    "# 不要なカラムを削除する\n",
    "train_data_1 = train_data_1.drop([\"Roppongi_longtitude\", \"Roppongi_latitude\", \"point\", \"point_next\", \"distance_km\"], axis=1)\n",
    "test_data_1 = test_data_1.drop([\"Roppongi_longtitude\", \"Roppongi_latitude\", \"point\", \"point_next\", \"distance_km\"], axis=1)"
   ]
  },
  {
   "cell_type": "markdown",
   "metadata": {},
   "source": [
    "### 2.14. 欠損値を区の平均値で埋める"
   ]
  },
  {
   "cell_type": "code",
   "execution_count": 318,
   "metadata": {},
   "outputs": [],
   "source": [
    "train_data_1[\"築年数\"] = train_data_1.groupby('区')[\"築年数\"].transform(lambda x:x.fillna(x.mean()))\n",
    "train_data_1[\"所在\"] = train_data_1.groupby('区')[\"所在\"].transform(lambda x:x.fillna(x.mean()))\n",
    "train_data_1[\"階層\"] = train_data_1.groupby('区')[\"階層\"].transform(lambda x:x.fillna(x.mean()))\n",
    "\n",
    "test_data_1[\"築年数\"] = test_data_1.groupby('区')[\"築年数\"].transform(lambda x:x.fillna(x.mean()))\n",
    "test_data_1[\"所在\"] = test_data_1.groupby('区')[\"所在\"].transform(lambda x:x.fillna(x.mean()))\n",
    "test_data_1[\"階層\"] = test_data_1.groupby('区')[\"階層\"].transform(lambda x:x.fillna(x.mean()))"
   ]
  },
  {
   "cell_type": "code",
   "execution_count": 319,
   "metadata": {},
   "outputs": [],
   "source": [
    "# 高さ率の更新\n",
    "train_data_1[\"高さ率\"] = (train_data_1[\"所在\"] / train_data_1[\"階層\"]).astype(float)\n",
    "test_data_1[\"高さ率\"] = (test_data_1[\"所在\"] / test_data_1[\"階層\"]).astype(float)"
   ]
  },
  {
   "cell_type": "markdown",
   "metadata": {},
   "source": [
    "### 2.15. 区IDと区ごとの統計情報の追加"
   ]
  },
  {
   "cell_type": "code",
   "execution_count": 320,
   "metadata": {},
   "outputs": [],
   "source": [
    "# 区にlabel encodingを適用\n",
    "from sklearn.preprocessing import LabelEncoder\n",
    "\n",
    "le = LabelEncoder()\n",
    "le.fit(pd.concat([train_data_1[\"区\"],test_data_1[\"区\"]]))\n",
    "\n",
    "train_data_1[\"区ID\"] = le.transform(train_data_1[\"区\"])\n",
    "test_data_1[\"区ID\"] = le.transform(test_data_1[\"区\"])"
   ]
  },
  {
   "cell_type": "code",
   "execution_count": 321,
   "metadata": {},
   "outputs": [],
   "source": [
    "# 区ごとの統計情報の追加\n",
    "# 例）新宿区のとある物件の築年数の統計値：(【1】-【2】)*【1】/【2】\n",
    "# 【1】該当物件の築年数、【2】新宿区の物件の平均築年数：＝(該当物件の築年数-)*\n",
    "# train_data_1 = train_data_1.assign(target_enc=train_data_1.groupby(\"区ID\")[\"賃料/面積\"].transform(\"mean\").copy())"
   ]
  },
  {
   "cell_type": "markdown",
   "metadata": {},
   "source": [
    "### 2.16. 最寄りの路線ID、駅IDと、そこからの徒歩分数を追加"
   ]
  },
  {
   "cell_type": "code",
   "execution_count": 322,
   "metadata": {},
   "outputs": [],
   "source": [
    "# 徒歩分数の整理のために初回のみ出力\n",
    "# test_data_1[\"路線情報\"] = test_data_1[\"アクセス\"].str.extract(\"(\\d{1,2}分)\", expand=True)\n",
    "# train_data_1 = pd.concat([train_data_1, train_data_1['アクセス'].str.split('\\t', expand=True)], axis=1).drop('アクセス', axis=1)\n",
    "# test_data_1 = pd.concat([test_data_1, test_data_1['アクセス'].str.split('\\t', expand=True)], axis=1).drop('アクセス', axis=1)\n",
    "\n",
    "# train_access_1 = train_data_1[[0, 1, 2]]\n",
    "# train_access_2 = train_data_1[[4, 5, 6]]\n",
    "# train_access_3 = train_data_1[[8, 9, 10]]\n",
    "\n",
    "# test_access_1 = test_data_1[[0, 1, 2]]\n",
    "# test_access_2 = test_data_1[[4, 5, 6]]\n",
    "# test_access_3 = test_data_1[[8, 9, 10]]\n",
    "\n",
    "# train_access_1.to_excel(\"train_access_1.xlsx\", header=True, index=False)\n",
    "# train_access_2.to_excel(\"train_access_2.xlsx\", header=True, index=False)\n",
    "# train_access_3.to_excel(\"train_access_3.xlsx\", header=True, index=False)\n",
    "\n",
    "# test_access_1.to_excel(\"test_access_1.xlsx\", header=True, index=False)\n",
    "# test_access_2.to_excel(\"test_access_2.xlsx\", header=True, index=False)\n",
    "# test_access_3.to_excel(\"test_access_3.xlsx\", header=True, index=False)"
   ]
  },
  {
   "cell_type": "code",
   "execution_count": 323,
   "metadata": {},
   "outputs": [],
   "source": [
    "# 最寄り駅データの読み込み\n",
    "train_access_result = pd.read_excel(\"./アクセス/train_access_result.xlsx\")\n",
    "test_access_result = pd.read_excel(\"./アクセス/test_access_result.xlsx\")\n",
    "\n",
    "# データ結合\n",
    "train_data_1 = pd.concat([train_data_1, train_access_result], axis=1)\n",
    "test_data_1 = pd.concat([test_data_1, test_access_result], axis=1)\n",
    "\n",
    "# 徒歩分数とfloat型に変換する\n",
    "train_data_1[\"徒歩分数\"] = (train_data_1[\"徒歩分数\"]).astype(float)\n",
    "test_data_1[\"徒歩分数\"] = (test_data_1[\"徒歩分数\"]).astype(float)"
   ]
  },
  {
   "cell_type": "code",
   "execution_count": 324,
   "metadata": {},
   "outputs": [],
   "source": [
    "# # 路線名にlabel encodingを適用\n",
    "# le = LabelEncoder()\n",
    "# le.fit(pd.concat([train_data_1[\"路線名\"],test_data_1[\"路線名\"]]))\n",
    "\n",
    "# train_data_1[\"路線ID\"] = le.transform(train_data_1[\"路線名\"])\n",
    "# test_data_1[\"路線ID\"] = le.transform(test_data_1[\"路線名\"])"
   ]
  },
  {
   "cell_type": "code",
   "execution_count": 325,
   "metadata": {},
   "outputs": [],
   "source": [
    "# # 駅名にlabel encodingを適用\n",
    "# le = LabelEncoder()\n",
    "# le.fit(pd.concat([train_data_1[\"駅名\"],test_data_1[\"駅名\"]]))\n",
    "\n",
    "# train_data_1[\"駅ID\"] = le.transform(train_data_1[\"駅名\"])\n",
    "# test_data_1[\"駅ID\"] = le.transform(test_data_1[\"駅名\"])"
   ]
  },
  {
   "cell_type": "markdown",
   "metadata": {},
   "source": [
    "### 2.17. データクレンジング"
   ]
  },
  {
   "cell_type": "code",
   "execution_count": 326,
   "metadata": {},
   "outputs": [
    {
     "data": {
      "text/plain": [
       "Index(['id', 'アクセス', '所在地', '築年数', '面積m2', '間取りID', '所在', '階層', '経度', '緯度',\n",
       "       '部屋数', '1部屋当たり面積m2', '高さ率', '建物構造ID', 'エリア', '区', '地名', '平均坪単価（万円）',\n",
       "       'Recciprocal_distance_km', '区ID', 'No.', '路線名', '駅名', '徒歩分数'],\n",
       "      dtype='object')"
      ]
     },
     "execution_count": 326,
     "metadata": {},
     "output_type": "execute_result"
    }
   ],
   "source": [
    "test_data_1.columns"
   ]
  },
  {
   "cell_type": "code",
   "execution_count": 327,
   "metadata": {},
   "outputs": [
    {
     "data": {
      "image/png": "[encoded data removed]",
      "text/plain": [
       "<Figure size 432x288 with 1 Axes>"
      ]
     },
     "metadata": {
      "needs_background": "light"
     },
     "output_type": "display_data"
    }
   ],
   "source": [
    "# ハズレ値の確認\n",
    "import matplotlib.pyplot as plt\n",
    "import numpy as np\n",
    "font = {'family' : 'Meiryo'} # matplotlibのデフォルトフォントをTakaoGothicに設定\n",
    "plt.rc('font', **font)\n",
    "plt.scatter(train_data_1[\"間取りID\"], train_data_1[\"1部屋当たり面積m2\"], alpha = 0.5, color=\"blue\", label=\"train\")\n",
    "plt.scatter(test_data_1[\"間取りID\"], test_data_1[\"1部屋当たり面積m2\"], alpha = 0.5, color=\"red\", label=\"test\")\n",
    "plt.xlabel('間取りID')\n",
    "plt.ylabel('1部屋当たり面積m2')\n",
    "plt.legend()\n",
    "plt.show()"
   ]
  },
  {
   "cell_type": "code",
   "execution_count": 328,
   "metadata": {},
   "outputs": [
    {
     "data": {
      "text/html": [
       "<div>\n",
       "<style scoped>\n",
       "    .dataframe tbody tr th:only-of-type {\n",
       "        vertical-align: middle;\n",
       "    }\n",
       "\n",
       "    .dataframe tbody tr th {\n",
       "        vertical-align: top;\n",
       "    }\n",
       "\n",
       "    .dataframe thead th {\n",
       "        text-align: right;\n",
       "    }\n",
       "</style>\n",
       "<table border=\"1\" class=\"dataframe\">\n",
       "  <thead>\n",
       "    <tr style=\"text-align: right;\">\n",
       "      <th></th>\n",
       "      <th>id</th>\n",
       "      <th>アクセス</th>\n",
       "      <th>所在地</th>\n",
       "      <th>賃料</th>\n",
       "      <th>築年数</th>\n",
       "      <th>面積m2</th>\n",
       "      <th>間取りID</th>\n",
       "      <th>所在</th>\n",
       "      <th>階層</th>\n",
       "      <th>経度</th>\n",
       "      <th>...</th>\n",
       "      <th>エリア</th>\n",
       "      <th>区</th>\n",
       "      <th>地名</th>\n",
       "      <th>平均坪単価（万円）</th>\n",
       "      <th>Recciprocal_distance_km</th>\n",
       "      <th>区ID</th>\n",
       "      <th>No.</th>\n",
       "      <th>路線名</th>\n",
       "      <th>駅名</th>\n",
       "      <th>徒歩分数</th>\n",
       "    </tr>\n",
       "  </thead>\n",
       "  <tbody>\n",
       "    <tr>\n",
       "      <th>20926</th>\n",
       "      <td>20927</td>\n",
       "      <td>日比谷線\\t南千住駅\\t徒歩7分\\t\\t京成本線\\t千住大橋駅\\t徒歩10分\\t\\t都電荒川...</td>\n",
       "      <td>東京都荒川区南千住７丁目</td>\n",
       "      <td>116000</td>\n",
       "      <td>20.1</td>\n",
       "      <td>430.10</td>\n",
       "      <td>14</td>\n",
       "      <td>2.0</td>\n",
       "      <td>10.0</td>\n",
       "      <td>139.798184</td>\n",
       "      <td>...</td>\n",
       "      <td>荒川区南千住</td>\n",
       "      <td>荒川区</td>\n",
       "      <td>南千住</td>\n",
       "      <td>149.0</td>\n",
       "      <td>0.099574</td>\n",
       "      <td>19</td>\n",
       "      <td>20926</td>\n",
       "      <td>日比谷線</td>\n",
       "      <td>南千住駅</td>\n",
       "      <td>7.0</td>\n",
       "    </tr>\n",
       "    <tr>\n",
       "      <th>25838</th>\n",
       "      <td>25839</td>\n",
       "      <td>高崎線\\t尾久駅\\t徒歩5分\\t\\t山手線\\t田端駅\\t徒歩16分\\t\\t京浜東北線\\t上中...</td>\n",
       "      <td>東京都荒川区西尾久４丁目</td>\n",
       "      <td>486000</td>\n",
       "      <td>0.6</td>\n",
       "      <td>132.28</td>\n",
       "      <td>9</td>\n",
       "      <td>1.0</td>\n",
       "      <td>10.0</td>\n",
       "      <td>139.760181</td>\n",
       "      <td>...</td>\n",
       "      <td>荒川区西尾久</td>\n",
       "      <td>荒川区</td>\n",
       "      <td>西尾久</td>\n",
       "      <td>144.0</td>\n",
       "      <td>0.104563</td>\n",
       "      <td>19</td>\n",
       "      <td>25838</td>\n",
       "      <td>高崎線</td>\n",
       "      <td>尾久駅</td>\n",
       "      <td>5.0</td>\n",
       "    </tr>\n",
       "  </tbody>\n",
       "</table>\n",
       "<p>2 rows × 26 columns</p>\n",
       "</div>"
      ],
      "text/plain": [
       "          id                                               アクセス           所在地  \\\n",
       "20926  20927  日比谷線\\t南千住駅\\t徒歩7分\\t\\t京成本線\\t千住大橋駅\\t徒歩10分\\t\\t都電荒川...  東京都荒川区南千住７丁目   \n",
       "25838  25839  高崎線\\t尾久駅\\t徒歩5分\\t\\t山手線\\t田端駅\\t徒歩16分\\t\\t京浜東北線\\t上中...  東京都荒川区西尾久４丁目   \n",
       "\n",
       "           賃料   築年数    面積m2  間取りID   所在    階層          経度  ...     エリア    区  \\\n",
       "20926  116000  20.1  430.10     14  2.0  10.0  139.798184  ...  荒川区南千住  荒川区   \n",
       "25838  486000   0.6  132.28      9  1.0  10.0  139.760181  ...  荒川区西尾久  荒川区   \n",
       "\n",
       "        地名  平均坪単価（万円）  Recciprocal_distance_km  区ID    No.   路線名    駅名  徒歩分数  \n",
       "20926  南千住      149.0                 0.099574   19  20926  日比谷線  南千住駅   7.0  \n",
       "25838  西尾久      144.0                 0.104563   19  25838   高崎線   尾久駅   5.0  \n",
       "\n",
       "[2 rows x 26 columns]"
      ]
     },
     "execution_count": 328,
     "metadata": {},
     "output_type": "execute_result"
    }
   ],
   "source": [
    "train_data_1.loc[train_data_1[\"1部屋当たり面積m2\"]>120]"
   ]
  },
  {
   "cell_type": "code",
   "execution_count": 329,
   "metadata": {},
   "outputs": [
    {
     "data": {
      "image/png": "[encoded data removed]",
      "text/plain": [
       "<Figure size 432x288 with 1 Axes>"
      ]
     },
     "metadata": {
      "needs_background": "light"
     },
     "output_type": "display_data"
    }
   ],
   "source": [
    "font = {'family' : 'Meiryo'} # matplotlibのデフォルトフォントをTakaoGothicに設定\n",
    "plt.rc('font', **font)\n",
    "plt.scatter(train_data_1[\"Recciprocal_distance_km\"], train_data_1[\"1部屋当たり面積m2\"], alpha = 0.5, color=\"blue\", label=\"train\")\n",
    "plt.scatter(test_data_1[\"Recciprocal_distance_km\"], test_data_1[\"1部屋当たり面積m2\"], alpha = 0.5, color=\"red\", label=\"test\")\n",
    "plt.xlabel('Recciprocal_distance_km')\n",
    "plt.ylabel('1部屋当たり面積m2')\n",
    "plt.legend()\n",
    "plt.show()"
   ]
  },
  {
   "cell_type": "code",
   "execution_count": 330,
   "metadata": {},
   "outputs": [
    {
     "data": {
      "text/html": [
       "<div>\n",
       "<style scoped>\n",
       "    .dataframe tbody tr th:only-of-type {\n",
       "        vertical-align: middle;\n",
       "    }\n",
       "\n",
       "    .dataframe tbody tr th {\n",
       "        vertical-align: top;\n",
       "    }\n",
       "\n",
       "    .dataframe thead th {\n",
       "        text-align: right;\n",
       "    }\n",
       "</style>\n",
       "<table border=\"1\" class=\"dataframe\">\n",
       "  <thead>\n",
       "    <tr style=\"text-align: right;\">\n",
       "      <th></th>\n",
       "      <th>id</th>\n",
       "      <th>アクセス</th>\n",
       "      <th>所在地</th>\n",
       "      <th>賃料</th>\n",
       "      <th>築年数</th>\n",
       "      <th>面積m2</th>\n",
       "      <th>間取りID</th>\n",
       "      <th>所在</th>\n",
       "      <th>階層</th>\n",
       "      <th>経度</th>\n",
       "      <th>...</th>\n",
       "      <th>エリア</th>\n",
       "      <th>区</th>\n",
       "      <th>地名</th>\n",
       "      <th>平均坪単価（万円）</th>\n",
       "      <th>Recciprocal_distance_km</th>\n",
       "      <th>区ID</th>\n",
       "      <th>No.</th>\n",
       "      <th>路線名</th>\n",
       "      <th>駅名</th>\n",
       "      <th>徒歩分数</th>\n",
       "    </tr>\n",
       "  </thead>\n",
       "  <tbody>\n",
       "    <tr>\n",
       "      <th>16520</th>\n",
       "      <td>16521</td>\n",
       "      <td>日比谷線\\t六本木駅\\t徒歩5分\\t\\t南北線\\t麻布十番駅\\t徒歩9分</td>\n",
       "      <td>東京都港区六本木６丁目</td>\n",
       "      <td>880000</td>\n",
       "      <td>16.4</td>\n",
       "      <td>94.09</td>\n",
       "      <td>14</td>\n",
       "      <td>17.0</td>\n",
       "      <td>43.0</td>\n",
       "      <td>139.732156</td>\n",
       "      <td>...</td>\n",
       "      <td>港区六本木</td>\n",
       "      <td>港区</td>\n",
       "      <td>六本木</td>\n",
       "      <td>830.0</td>\n",
       "      <td>9.260568</td>\n",
       "      <td>16</td>\n",
       "      <td>16520</td>\n",
       "      <td>日比谷線</td>\n",
       "      <td>六本木駅</td>\n",
       "      <td>5.0</td>\n",
       "    </tr>\n",
       "  </tbody>\n",
       "</table>\n",
       "<p>1 rows × 26 columns</p>\n",
       "</div>"
      ],
      "text/plain": [
       "          id                                  アクセス          所在地      賃料   築年数  \\\n",
       "16520  16521  日比谷線\\t六本木駅\\t徒歩5分\\t\\t南北線\\t麻布十番駅\\t徒歩9分  東京都港区六本木６丁目  880000  16.4   \n",
       "\n",
       "        面積m2  間取りID    所在    階層          経度  ...    エリア   区   地名  平均坪単価（万円）  \\\n",
       "16520  94.09     14  17.0  43.0  139.732156  ...  港区六本木  港区  六本木      830.0   \n",
       "\n",
       "       Recciprocal_distance_km  区ID    No.   路線名    駅名  徒歩分数  \n",
       "16520                 9.260568   16  16520  日比谷線  六本木駅   5.0  \n",
       "\n",
       "[1 rows x 26 columns]"
      ]
     },
     "execution_count": 330,
     "metadata": {},
     "output_type": "execute_result"
    }
   ],
   "source": [
    "train_data_1.loc[train_data_1[\"Recciprocal_distance_km\"]>8]"
   ]
  },
  {
   "cell_type": "code",
   "execution_count": 331,
   "metadata": {},
   "outputs": [],
   "source": [
    "# # ハズレ値の除去\n",
    "# print(\"除去前:\",len(train_data_1))\n",
    "# train_data_1 = train_data_1.drop(20926, axis=0)\n",
    "# train_data_1 = train_data_1.drop(25838, axis=0)\n",
    "# train_data_1 = train_data_1.drop(16520, axis=0)\n",
    "# print(\"除去後:\",len(train_data_1))"
   ]
  },
  {
   "cell_type": "markdown",
   "metadata": {},
   "source": [
    "### 2.18. 重複物件の抽出・削除"
   ]
  },
  {
   "cell_type": "code",
   "execution_count": 332,
   "metadata": {},
   "outputs": [],
   "source": [
    "# 重複確認用のデータ出力\n",
    "# train_duplicate = pd.concat([train_data[[\"id\", \"賃料\", \"所在地\"]], train_data_1[[\"間取りID\", \"面積m2\", \"所在\", \"階層\"]]], axis=1)\n",
    "# test_duplicate = pd.concat([test_data[[\"id\", \"所在地\"]], test_data_1[[\"間取りID\", \"面積m2\", \"所在\", \"階層\"]]], axis=1)"
   ]
  },
  {
   "cell_type": "code",
   "execution_count": 333,
   "metadata": {},
   "outputs": [],
   "source": [
    "# 結果の出力\n",
    "# train_duplicate.to_excel(\"train_duplicate.xlsx\", header=True, index=False)\n",
    "# test_duplicate.to_excel(\"test_duplicate.xlsx\", header=True, index=False)"
   ]
  },
  {
   "cell_type": "code",
   "execution_count": 334,
   "metadata": {},
   "outputs": [],
   "source": [
    "# 重複対象のデータ読み込み\n",
    "train_duplicate_flag = pd.read_excel(\"train_duplicate_flag.xlsx\")\n",
    "test_duplicate_flag = pd.read_excel(\"test_duplicate_flag.xlsx\")"
   ]
  },
  {
   "cell_type": "code",
   "execution_count": 335,
   "metadata": {},
   "outputs": [
    {
     "name": "stdout",
     "output_type": "stream",
     "text": [
      "Train: 31470 - 31470 = 0\n",
      "Test: 31262 - 31262 = 0\n"
     ]
    }
   ],
   "source": [
    "# データ数のチェック\n",
    "print(\"Train:\", len(train_data_1), \"-\", len(train_duplicate_flag), \"=\", len(train_data_1)-len(train_duplicate_flag))\n",
    "print(\"Test:\", len(test_data_1), \"-\", len(test_duplicate_flag), \"=\", len(test_data_1)-len(test_duplicate_flag))"
   ]
  },
  {
   "cell_type": "code",
   "execution_count": 336,
   "metadata": {},
   "outputs": [],
   "source": [
    "# 重複フラグを結合\n",
    "train_data_1 = pd.merge(train_data_1, train_duplicate_flag, on=\"id\")\n",
    "train_data_1 = train_data_1.rename(columns={\"賃料_x\":\"賃料\"})\n",
    "train_data_1 = train_data_1.drop('賃料_y', axis=1)\n",
    "\n",
    "test_data_1 = pd.merge(test_data_1, test_duplicate_flag, on=\"id\")"
   ]
  },
  {
   "cell_type": "code",
   "execution_count": 337,
   "metadata": {},
   "outputs": [
    {
     "name": "stdout",
     "output_type": "stream",
     "text": [
      "【削除前】 train: 31470 ,  test: 31262\n",
      "【削除後】 train: 31470 ,  test: 24812\n"
     ]
    }
   ],
   "source": [
    "# testデータからのみ、flag=1.0の列を削除\n",
    "print(\"【削除前】\", \"train:\", len(train_data_1), \", \", \"test:\", len(test_data_1))\n",
    "#train_data_1 = train_data_1.loc[train_data_1[\"flag\"] != 1.0]\n",
    "test_data_1 = test_data_1.loc[test_data_1[\"flag\"] != 1.0]\n",
    "print(\"【削除後】\", \"train:\", len(train_data_1), \", \", \"test:\", len(test_data_1))"
   ]
  },
  {
   "cell_type": "code",
   "execution_count": 338,
   "metadata": {},
   "outputs": [],
   "source": [
    "# 不要なカラムを削除する\n",
    "train_data_1 = train_data_1.drop([\"アクセス\", \"所在地\", \"エリア\", \"区\", \"No.\", \"地名\", \"路線名\", \"駅名\"], axis=1)\n",
    "test_data_1 = test_data_1.drop([\"アクセス\", \"所在地\", \"エリア\", \"区\", \"No.\", \"地名\", \"路線名\", \"駅名\"], axis=1)"
   ]
  },
  {
   "cell_type": "markdown",
   "metadata": {},
   "source": [
    "## 3. データチェック"
   ]
  },
  {
   "cell_type": "code",
   "execution_count": 339,
   "metadata": {},
   "outputs": [
    {
     "data": {
      "text/plain": [
       "id                             0\n",
       "賃料                             0\n",
       "築年数                            0\n",
       "面積m2                           0\n",
       "間取りID                          0\n",
       "所在                             0\n",
       "階層                             0\n",
       "経度                             0\n",
       "緯度                             0\n",
       "部屋数                            0\n",
       "1部屋当たり面積m2                     0\n",
       "高さ率                            0\n",
       "建物構造ID                         0\n",
       "賃料/面積                          0\n",
       "平均坪単価（万円）                      0\n",
       "Recciprocal_distance_km        0\n",
       "区ID                            0\n",
       "徒歩分数                           0\n",
       "flag                       25975\n",
       "dtype: int64"
      ]
     },
     "execution_count": 339,
     "metadata": {},
     "output_type": "execute_result"
    }
   ],
   "source": [
    "train_data_1.isnull().sum()"
   ]
  },
  {
   "cell_type": "code",
   "execution_count": 340,
   "metadata": {},
   "outputs": [
    {
     "data": {
      "text/plain": [
       "id                             0\n",
       "築年数                            0\n",
       "面積m2                           0\n",
       "間取りID                          0\n",
       "所在                             0\n",
       "階層                             0\n",
       "経度                             0\n",
       "緯度                             0\n",
       "部屋数                            0\n",
       "1部屋当たり面積m2                     0\n",
       "高さ率                            0\n",
       "建物構造ID                         0\n",
       "平均坪単価（万円）                      0\n",
       "Recciprocal_distance_km        0\n",
       "区ID                            0\n",
       "徒歩分数                           0\n",
       "flag                       24812\n",
       "dtype: int64"
      ]
     },
     "execution_count": 340,
     "metadata": {},
     "output_type": "execute_result"
    }
   ],
   "source": [
    "test_data_1.isnull().sum()"
   ]
  },
  {
   "cell_type": "code",
   "execution_count": 341,
   "metadata": {},
   "outputs": [
    {
     "data": {
      "text/plain": [
       "31470"
      ]
     },
     "execution_count": 341,
     "metadata": {},
     "output_type": "execute_result"
    }
   ],
   "source": [
    "len(train_data_1)"
   ]
  },
  {
   "cell_type": "code",
   "execution_count": 342,
   "metadata": {},
   "outputs": [
    {
     "data": {
      "text/plain": [
       "31470"
      ]
     },
     "execution_count": 342,
     "metadata": {},
     "output_type": "execute_result"
    }
   ],
   "source": [
    "len(train_data)"
   ]
  },
  {
   "cell_type": "code",
   "execution_count": 343,
   "metadata": {},
   "outputs": [
    {
     "data": {
      "text/plain": [
       "24812"
      ]
     },
     "execution_count": 343,
     "metadata": {},
     "output_type": "execute_result"
    }
   ],
   "source": [
    "len(test_data_1)"
   ]
  },
  {
   "cell_type": "code",
   "execution_count": 344,
   "metadata": {},
   "outputs": [
    {
     "data": {
      "text/plain": [
       "31262"
      ]
     },
     "execution_count": 344,
     "metadata": {},
     "output_type": "execute_result"
    }
   ],
   "source": [
    "len(test_data)"
   ]
  },
  {
   "cell_type": "code",
   "execution_count": 345,
   "metadata": {},
   "outputs": [
    {
     "data": {
      "text/html": [
       "<div>\n",
       "<style scoped>\n",
       "    .dataframe tbody tr th:only-of-type {\n",
       "        vertical-align: middle;\n",
       "    }\n",
       "\n",
       "    .dataframe tbody tr th {\n",
       "        vertical-align: top;\n",
       "    }\n",
       "\n",
       "    .dataframe thead th {\n",
       "        text-align: right;\n",
       "    }\n",
       "</style>\n",
       "<table border=\"1\" class=\"dataframe\">\n",
       "  <thead>\n",
       "    <tr style=\"text-align: right;\">\n",
       "      <th></th>\n",
       "      <th>id</th>\n",
       "      <th>賃料</th>\n",
       "      <th>築年数</th>\n",
       "      <th>面積m2</th>\n",
       "      <th>間取りID</th>\n",
       "      <th>所在</th>\n",
       "      <th>階層</th>\n",
       "      <th>経度</th>\n",
       "      <th>緯度</th>\n",
       "      <th>部屋数</th>\n",
       "      <th>1部屋当たり面積m2</th>\n",
       "      <th>高さ率</th>\n",
       "      <th>建物構造ID</th>\n",
       "      <th>賃料/面積</th>\n",
       "      <th>平均坪単価（万円）</th>\n",
       "      <th>Recciprocal_distance_km</th>\n",
       "      <th>区ID</th>\n",
       "      <th>徒歩分数</th>\n",
       "      <th>flag</th>\n",
       "    </tr>\n",
       "  </thead>\n",
       "  <tbody>\n",
       "    <tr>\n",
       "      <th>0</th>\n",
       "      <td>1</td>\n",
       "      <td>75000</td>\n",
       "      <td>9.9</td>\n",
       "      <td>20.01</td>\n",
       "      <td>3</td>\n",
       "      <td>1.0</td>\n",
       "      <td>12.0</td>\n",
       "      <td>139.727873</td>\n",
       "      <td>35.747759</td>\n",
       "      <td>1.0</td>\n",
       "      <td>20.01</td>\n",
       "      <td>0.083333</td>\n",
       "      <td>3</td>\n",
       "      <td>3748.125937</td>\n",
       "      <td>180.0</td>\n",
       "      <td>0.105936</td>\n",
       "      <td>3</td>\n",
       "      <td>4.0</td>\n",
       "      <td>NaN</td>\n",
       "    </tr>\n",
       "    <tr>\n",
       "      <th>1</th>\n",
       "      <td>2</td>\n",
       "      <td>76000</td>\n",
       "      <td>45.0</td>\n",
       "      <td>16.50</td>\n",
       "      <td>9</td>\n",
       "      <td>5.0</td>\n",
       "      <td>10.0</td>\n",
       "      <td>139.780485</td>\n",
       "      <td>35.662406</td>\n",
       "      <td>1.0</td>\n",
       "      <td>16.50</td>\n",
       "      <td>0.500000</td>\n",
       "      <td>10</td>\n",
       "      <td>4606.060606</td>\n",
       "      <td>323.0</td>\n",
       "      <td>0.224156</td>\n",
       "      <td>1</td>\n",
       "      <td>5.0</td>\n",
       "      <td>1.0</td>\n",
       "    </tr>\n",
       "    <tr>\n",
       "      <th>2</th>\n",
       "      <td>3</td>\n",
       "      <td>110000</td>\n",
       "      <td>8.6</td>\n",
       "      <td>22.05</td>\n",
       "      <td>3</td>\n",
       "      <td>12.0</td>\n",
       "      <td>15.0</td>\n",
       "      <td>139.667375</td>\n",
       "      <td>35.675358</td>\n",
       "      <td>1.0</td>\n",
       "      <td>22.05</td>\n",
       "      <td>0.800000</td>\n",
       "      <td>3</td>\n",
       "      <td>4988.662132</td>\n",
       "      <td>324.0</td>\n",
       "      <td>0.168132</td>\n",
       "      <td>15</td>\n",
       "      <td>6.0</td>\n",
       "      <td>NaN</td>\n",
       "    </tr>\n",
       "    <tr>\n",
       "      <th>3</th>\n",
       "      <td>4</td>\n",
       "      <td>150000</td>\n",
       "      <td>29.4</td>\n",
       "      <td>60.48</td>\n",
       "      <td>14</td>\n",
       "      <td>3.0</td>\n",
       "      <td>4.0</td>\n",
       "      <td>139.648495</td>\n",
       "      <td>35.700193</td>\n",
       "      <td>3.5</td>\n",
       "      <td>17.28</td>\n",
       "      <td>0.750000</td>\n",
       "      <td>3</td>\n",
       "      <td>2480.158730</td>\n",
       "      <td>253.0</td>\n",
       "      <td>0.116755</td>\n",
       "      <td>11</td>\n",
       "      <td>3.0</td>\n",
       "      <td>NaN</td>\n",
       "    </tr>\n",
       "    <tr>\n",
       "      <th>4</th>\n",
       "      <td>5</td>\n",
       "      <td>74000</td>\n",
       "      <td>31.7</td>\n",
       "      <td>39.66</td>\n",
       "      <td>10</td>\n",
       "      <td>1.0</td>\n",
       "      <td>2.0</td>\n",
       "      <td>139.872315</td>\n",
       "      <td>35.766413</td>\n",
       "      <td>3.0</td>\n",
       "      <td>13.22</td>\n",
       "      <td>0.500000</td>\n",
       "      <td>7</td>\n",
       "      <td>1865.859808</td>\n",
       "      <td>111.0</td>\n",
       "      <td>0.058186</td>\n",
       "      <td>20</td>\n",
       "      <td>5.0</td>\n",
       "      <td>NaN</td>\n",
       "    </tr>\n",
       "  </tbody>\n",
       "</table>\n",
       "</div>"
      ],
      "text/plain": [
       "   id      賃料   築年数   面積m2  間取りID    所在    階層          経度         緯度  部屋数  \\\n",
       "0   1   75000   9.9  20.01      3   1.0  12.0  139.727873  35.747759  1.0   \n",
       "1   2   76000  45.0  16.50      9   5.0  10.0  139.780485  35.662406  1.0   \n",
       "2   3  110000   8.6  22.05      3  12.0  15.0  139.667375  35.675358  1.0   \n",
       "3   4  150000  29.4  60.48     14   3.0   4.0  139.648495  35.700193  3.5   \n",
       "4   5   74000  31.7  39.66     10   1.0   2.0  139.872315  35.766413  3.0   \n",
       "\n",
       "   1部屋当たり面積m2       高さ率  建物構造ID        賃料/面積  平均坪単価（万円）  \\\n",
       "0       20.01  0.083333       3  3748.125937      180.0   \n",
       "1       16.50  0.500000      10  4606.060606      323.0   \n",
       "2       22.05  0.800000       3  4988.662132      324.0   \n",
       "3       17.28  0.750000       3  2480.158730      253.0   \n",
       "4       13.22  0.500000       7  1865.859808      111.0   \n",
       "\n",
       "   Recciprocal_distance_km  区ID  徒歩分数  flag  \n",
       "0                 0.105936    3   4.0   NaN  \n",
       "1                 0.224156    1   5.0   1.0  \n",
       "2                 0.168132   15   6.0   NaN  \n",
       "3                 0.116755   11   3.0   NaN  \n",
       "4                 0.058186   20   5.0   NaN  "
      ]
     },
     "execution_count": 345,
     "metadata": {},
     "output_type": "execute_result"
    }
   ],
   "source": [
    "train_data_1.head()"
   ]
  },
  {
   "cell_type": "code",
   "execution_count": 346,
   "metadata": {},
   "outputs": [
    {
     "data": {
      "text/html": [
       "<div>\n",
       "<style scoped>\n",
       "    .dataframe tbody tr th:only-of-type {\n",
       "        vertical-align: middle;\n",
       "    }\n",
       "\n",
       "    .dataframe tbody tr th {\n",
       "        vertical-align: top;\n",
       "    }\n",
       "\n",
       "    .dataframe thead th {\n",
       "        text-align: right;\n",
       "    }\n",
       "</style>\n",
       "<table border=\"1\" class=\"dataframe\">\n",
       "  <thead>\n",
       "    <tr style=\"text-align: right;\">\n",
       "      <th></th>\n",
       "      <th>id</th>\n",
       "      <th>築年数</th>\n",
       "      <th>面積m2</th>\n",
       "      <th>間取りID</th>\n",
       "      <th>所在</th>\n",
       "      <th>階層</th>\n",
       "      <th>経度</th>\n",
       "      <th>緯度</th>\n",
       "      <th>部屋数</th>\n",
       "      <th>1部屋当たり面積m2</th>\n",
       "      <th>高さ率</th>\n",
       "      <th>建物構造ID</th>\n",
       "      <th>平均坪単価（万円）</th>\n",
       "      <th>Recciprocal_distance_km</th>\n",
       "      <th>区ID</th>\n",
       "      <th>徒歩分数</th>\n",
       "      <th>flag</th>\n",
       "    </tr>\n",
       "  </thead>\n",
       "  <tbody>\n",
       "    <tr>\n",
       "      <th>0</th>\n",
       "      <td>31471</td>\n",
       "      <td>49.0</td>\n",
       "      <td>50.22</td>\n",
       "      <td>14</td>\n",
       "      <td>8.0</td>\n",
       "      <td>8.0</td>\n",
       "      <td>139.652762</td>\n",
       "      <td>35.617708</td>\n",
       "      <td>3.5</td>\n",
       "      <td>14.348571</td>\n",
       "      <td>1.00</td>\n",
       "      <td>10</td>\n",
       "      <td>208.0</td>\n",
       "      <td>0.115133</td>\n",
       "      <td>0</td>\n",
       "      <td>15.0</td>\n",
       "      <td>NaN</td>\n",
       "    </tr>\n",
       "    <tr>\n",
       "      <th>1</th>\n",
       "      <td>31472</td>\n",
       "      <td>0.2</td>\n",
       "      <td>20.88</td>\n",
       "      <td>9</td>\n",
       "      <td>3.0</td>\n",
       "      <td>4.0</td>\n",
       "      <td>139.672871</td>\n",
       "      <td>35.617709</td>\n",
       "      <td>1.0</td>\n",
       "      <td>20.880000</td>\n",
       "      <td>0.75</td>\n",
       "      <td>3</td>\n",
       "      <td>273.0</td>\n",
       "      <td>0.137527</td>\n",
       "      <td>17</td>\n",
       "      <td>6.0</td>\n",
       "      <td>NaN</td>\n",
       "    </tr>\n",
       "    <tr>\n",
       "      <th>2</th>\n",
       "      <td>31473</td>\n",
       "      <td>23.4</td>\n",
       "      <td>26.93</td>\n",
       "      <td>3</td>\n",
       "      <td>1.0</td>\n",
       "      <td>4.0</td>\n",
       "      <td>139.709049</td>\n",
       "      <td>35.741996</td>\n",
       "      <td>1.0</td>\n",
       "      <td>26.930000</td>\n",
       "      <td>0.25</td>\n",
       "      <td>10</td>\n",
       "      <td>186.0</td>\n",
       "      <td>0.110849</td>\n",
       "      <td>21</td>\n",
       "      <td>10.0</td>\n",
       "      <td>NaN</td>\n",
       "    </tr>\n",
       "    <tr>\n",
       "      <th>3</th>\n",
       "      <td>31474</td>\n",
       "      <td>36.2</td>\n",
       "      <td>23.57</td>\n",
       "      <td>3</td>\n",
       "      <td>1.0</td>\n",
       "      <td>2.0</td>\n",
       "      <td>139.658270</td>\n",
       "      <td>35.673602</td>\n",
       "      <td>1.0</td>\n",
       "      <td>23.570000</td>\n",
       "      <td>0.50</td>\n",
       "      <td>7</td>\n",
       "      <td>184.0</td>\n",
       "      <td>0.148943</td>\n",
       "      <td>11</td>\n",
       "      <td>8.0</td>\n",
       "      <td>NaN</td>\n",
       "    </tr>\n",
       "    <tr>\n",
       "      <th>5</th>\n",
       "      <td>31476</td>\n",
       "      <td>25.6</td>\n",
       "      <td>21.45</td>\n",
       "      <td>9</td>\n",
       "      <td>1.0</td>\n",
       "      <td>2.0</td>\n",
       "      <td>139.686023</td>\n",
       "      <td>35.691395</td>\n",
       "      <td>1.0</td>\n",
       "      <td>21.450000</td>\n",
       "      <td>0.50</td>\n",
       "      <td>7</td>\n",
       "      <td>294.0</td>\n",
       "      <td>0.192956</td>\n",
       "      <td>10</td>\n",
       "      <td>4.0</td>\n",
       "      <td>NaN</td>\n",
       "    </tr>\n",
       "  </tbody>\n",
       "</table>\n",
       "</div>"
      ],
      "text/plain": [
       "      id   築年数   面積m2  間取りID   所在   階層          経度         緯度  部屋数  \\\n",
       "0  31471  49.0  50.22     14  8.0  8.0  139.652762  35.617708  3.5   \n",
       "1  31472   0.2  20.88      9  3.0  4.0  139.672871  35.617709  1.0   \n",
       "2  31473  23.4  26.93      3  1.0  4.0  139.709049  35.741996  1.0   \n",
       "3  31474  36.2  23.57      3  1.0  2.0  139.658270  35.673602  1.0   \n",
       "5  31476  25.6  21.45      9  1.0  2.0  139.686023  35.691395  1.0   \n",
       "\n",
       "   1部屋当たり面積m2   高さ率  建物構造ID  平均坪単価（万円）  Recciprocal_distance_km  区ID  徒歩分数  \\\n",
       "0   14.348571  1.00      10      208.0                 0.115133    0  15.0   \n",
       "1   20.880000  0.75       3      273.0                 0.137527   17   6.0   \n",
       "2   26.930000  0.25      10      186.0                 0.110849   21  10.0   \n",
       "3   23.570000  0.50       7      184.0                 0.148943   11   8.0   \n",
       "5   21.450000  0.50       7      294.0                 0.192956   10   4.0   \n",
       "\n",
       "   flag  \n",
       "0   NaN  \n",
       "1   NaN  \n",
       "2   NaN  \n",
       "3   NaN  \n",
       "5   NaN  "
      ]
     },
     "execution_count": 346,
     "metadata": {},
     "output_type": "execute_result"
    }
   ],
   "source": [
    "test_data_1.head()"
   ]
  },
  {
   "cell_type": "markdown",
   "metadata": {},
   "source": [
    "## 4.学習 "
   ]
  },
  {
   "cell_type": "code",
   "execution_count": 347,
   "metadata": {},
   "outputs": [],
   "source": [
    "# IDとflagの削除\n",
    "train_data_1_no_ID = train_data_1.drop([\"id\", \"flag\"], axis=1)\n",
    "test_data_1_no_ID = test_data_1.drop([\"id\", \"flag\"], axis=1)"
   ]
  },
  {
   "cell_type": "code",
   "execution_count": 348,
   "metadata": {},
   "outputs": [],
   "source": [
    "# 特徴データと目的変数の設定\n",
    "# train_x = train_data_1_no_ID.drop([\"賃料\", \"賃料/面積\"], axis=1)\n",
    "train_x = train_data_1_no_ID\n",
    "train_y = train_data_1_no_ID[\"賃料/面積\"]\n",
    "\n",
    "test_x = test_data_1_no_ID"
   ]
  },
  {
   "cell_type": "code",
   "execution_count": 349,
   "metadata": {},
   "outputs": [],
   "source": [
    "import numpy as np\n",
    "import pandas as pd\n",
    "\n",
    "class TargetEncoding_ws(object):\n",
    "    \"\"\"\n",
    "    DFと変換したいカラムリスト、targetを引数として、Target Encoding with Smoothingを行う\n",
    "    引数\n",
    "    dataframe : DF全体 (pd.DataFrame)\n",
    "    target : 目的変数のカラム (np.ndarray or np.Series)\n",
    "    list_cols : 変換したいカラムリスト (list[str])\n",
    "    k : smoothingのハイパーパラメータ (int)\n",
    "    impute : 未知のカテゴリに平均を入れるか (boolean)\n",
    "    \"\"\"\n",
    "    def __init__(self, list_cols, k=100, impute=True):\n",
    "        self.df = None\n",
    "        self.target = None\n",
    "        self.list_cols = list_cols\n",
    "        self.k = k\n",
    "        self.impute = impute\n",
    "        self.target_map = {}\n",
    "        self.target_mean = None\n",
    "\n",
    "    def sigmoid(self, x, k):\n",
    "        return 1 / (1 + np.exp(- x / k))\n",
    "\n",
    "    def fit_univariate(self, target, col):\n",
    "        \"\"\"\n",
    "        一つの変数に対するTarget_Encoding\n",
    "        col : TargetEncodingしたい変数名\n",
    "        \"\"\"\n",
    "        df = self.df.copy()\n",
    "        k = self.k\n",
    "        df[\"target\"] = target\n",
    "        n_i = df.groupby(col).count()[\"target\"]\n",
    "\n",
    "        lambda_n_i = self.sigmoid(n_i, k)\n",
    "        uni_map = df.groupby(col).mean()[\"target\"]\n",
    "\n",
    "        return lambda_n_i * df.loc[:, \"target\"].mean() + (1 - lambda_n_i) * uni_map\n",
    "\n",
    "    def fit(self, data, target):\n",
    "        \"\"\"\n",
    "        複数カラムにも対応したTargetEncoding\n",
    "        \"\"\"\n",
    "        self.df = data.copy()\n",
    "        self.target = target\n",
    "\n",
    "        if self.impute == True:\n",
    "            self.target_mean = target.mean()\n",
    "\n",
    "        #各カラムのmapを保存\n",
    "        for col in list_cols:\n",
    "            self.target_map[col] = self.fit_univariate(target, col)\n",
    "\n",
    "    def transform(self, x):\n",
    "        list_cols = self.list_cols\n",
    "        x_d = x.copy()\n",
    "        for col in list_cols:\n",
    "            x_d.loc[:, col] = x_d.loc[:, col].map(self.target_map[col])\n",
    "\n",
    "            #impute\n",
    "            if self.impute == True:\n",
    "                x_d.loc[:, col] = np.where(x_d.loc[:, col].isnull(), self.target_mean, x_d.loc[:, col])\n",
    "\n",
    "        return x_d"
   ]
  },
  {
   "cell_type": "code",
   "execution_count": 350,
   "metadata": {},
   "outputs": [
    {
     "name": "stdout",
     "output_type": "stream",
     "text": [
      "[20:27:26] WARNING: C:/Users/Administrator/workspace/xgboost-win64_release_1.4.0/src/learner.cc:573: \n",
      "Parameters: { \"sileng\" } might not be used.\n",
      "\n",
      "  This may not be accurate due to some parameters are only used in language bindings but\n",
      "  passed down to XGBoost core.  Or some parameters are not used but slip through this\n",
      "  verification. Please open an issue if you find above cases.\n",
      "\n",
      "\n",
      "[0]\ttrain-rmse:2639.59155\teval-rmse:2610.60449\n",
      "[1]\ttrain-rmse:1894.57593\teval-rmse:1861.44739\n",
      "[2]\ttrain-rmse:1382.20007\teval-rmse:1346.52747\n",
      "[3]\ttrain-rmse:1035.98364\teval-rmse:999.06500\n",
      "[4]\ttrain-rmse:809.92609\teval-rmse:769.57019\n",
      "[5]\ttrain-rmse:665.57343\teval-rmse:622.00488\n",
      "[6]\ttrain-rmse:573.19971\teval-rmse:534.37549\n",
      "[7]\ttrain-rmse:520.95630\teval-rmse:482.10220\n",
      "[8]\ttrain-rmse:489.77972\teval-rmse:452.72238\n",
      "[9]\ttrain-rmse:466.52991\teval-rmse:440.54159\n",
      "[10]\ttrain-rmse:454.59250\teval-rmse:430.44745\n",
      "[11]\ttrain-rmse:443.15503\teval-rmse:422.23260\n",
      "[12]\ttrain-rmse:438.21075\teval-rmse:418.42752\n",
      "[13]\ttrain-rmse:431.96799\teval-rmse:414.17819\n",
      "[14]\ttrain-rmse:428.84570\teval-rmse:412.36340\n",
      "[15]\ttrain-rmse:424.66925\teval-rmse:411.40527\n",
      "[16]\ttrain-rmse:420.83823\teval-rmse:408.51074\n",
      "[17]\ttrain-rmse:417.88690\teval-rmse:406.61145\n",
      "[18]\ttrain-rmse:416.28766\teval-rmse:405.37381\n",
      "[19]\ttrain-rmse:413.74097\teval-rmse:404.28177\n",
      "[20]\ttrain-rmse:411.10821\teval-rmse:402.98611\n",
      "[21]\ttrain-rmse:409.09580\teval-rmse:401.74872\n",
      "[22]\ttrain-rmse:406.31851\teval-rmse:401.05395\n",
      "[23]\ttrain-rmse:403.38840\teval-rmse:404.66281\n",
      "[24]\ttrain-rmse:400.85980\teval-rmse:404.14163\n",
      "[25]\ttrain-rmse:399.87531\teval-rmse:403.38870\n",
      "[26]\ttrain-rmse:399.11227\teval-rmse:402.98126\n",
      "[27]\ttrain-rmse:397.36676\teval-rmse:401.96695\n",
      "[28]\ttrain-rmse:395.29837\teval-rmse:400.38705\n",
      "[29]\ttrain-rmse:394.49020\teval-rmse:399.92459\n",
      "[30]\ttrain-rmse:393.37967\teval-rmse:399.96310\n",
      "[31]\ttrain-rmse:392.94052\teval-rmse:399.76419\n",
      "[32]\ttrain-rmse:391.92999\teval-rmse:398.90030\n",
      "[33]\ttrain-rmse:389.96542\teval-rmse:402.24423\n",
      "[34]\ttrain-rmse:389.63547\teval-rmse:402.03571\n",
      "[35]\ttrain-rmse:388.34222\teval-rmse:401.46612\n",
      "[36]\ttrain-rmse:386.86273\teval-rmse:400.25476\n",
      "[37]\ttrain-rmse:384.15872\teval-rmse:399.26532\n",
      "[38]\ttrain-rmse:382.45642\teval-rmse:398.33047\n",
      "[39]\ttrain-rmse:381.89658\teval-rmse:397.99606\n",
      "[40]\ttrain-rmse:381.22400\teval-rmse:397.70511\n",
      "[41]\ttrain-rmse:380.58078\teval-rmse:397.25479\n",
      "[42]\ttrain-rmse:379.80115\teval-rmse:397.05029\n",
      "[43]\ttrain-rmse:378.51318\teval-rmse:396.12408\n",
      "[44]\ttrain-rmse:377.60519\teval-rmse:395.69757\n",
      "[45]\ttrain-rmse:377.33859\teval-rmse:395.55496\n",
      "[46]\ttrain-rmse:376.82059\teval-rmse:395.42172\n",
      "[47]\ttrain-rmse:376.23685\teval-rmse:395.29764\n",
      "[48]\ttrain-rmse:376.14157\teval-rmse:395.43991\n",
      "[49]\ttrain-rmse:374.98486\teval-rmse:394.46368\n",
      "[20:27:31] WARNING: C:/Users/Administrator/workspace/xgboost-win64_release_1.4.0/src/learner.cc:573: \n",
      "Parameters: { \"sileng\" } might not be used.\n",
      "\n",
      "  This may not be accurate due to some parameters are only used in language bindings but\n",
      "  passed down to XGBoost core.  Or some parameters are not used but slip through this\n",
      "  verification. Please open an issue if you find above cases.\n",
      "\n",
      "\n",
      "[0]\ttrain-rmse:2616.55249\teval-rmse:2688.49951\n",
      "[1]\ttrain-rmse:1866.99280\teval-rmse:1964.82153\n",
      "[2]\ttrain-rmse:1348.76233\teval-rmse:1481.26086\n",
      "[3]\ttrain-rmse:996.24976\teval-rmse:1168.49585\n",
      "[4]\ttrain-rmse:759.26031\teval-rmse:974.33221\n",
      "[5]\ttrain-rmse:605.74145\teval-rmse:861.53223\n",
      "[6]\ttrain-rmse:509.14648\teval-rmse:797.28369\n",
      "[7]\ttrain-rmse:447.47730\teval-rmse:759.96808\n",
      "[8]\ttrain-rmse:410.66431\teval-rmse:739.31061\n",
      "[9]\ttrain-rmse:390.02515\teval-rmse:729.05298\n",
      "[10]\ttrain-rmse:374.72284\teval-rmse:720.01788\n",
      "[11]\ttrain-rmse:366.19885\teval-rmse:715.36310\n",
      "[12]\ttrain-rmse:358.04501\teval-rmse:709.67645\n",
      "[13]\ttrain-rmse:352.72324\teval-rmse:707.03589\n",
      "[14]\ttrain-rmse:347.74793\teval-rmse:704.97076\n",
      "[15]\ttrain-rmse:344.35339\teval-rmse:703.95276\n",
      "[16]\ttrain-rmse:341.34677\teval-rmse:702.78925\n",
      "[17]\ttrain-rmse:338.30829\teval-rmse:700.03815\n",
      "[18]\ttrain-rmse:335.63907\teval-rmse:698.32013\n",
      "[19]\ttrain-rmse:333.22287\teval-rmse:697.14520\n",
      "[20]\ttrain-rmse:330.94360\teval-rmse:696.35059\n",
      "[21]\ttrain-rmse:327.98410\teval-rmse:695.08911\n",
      "[22]\ttrain-rmse:325.66592\teval-rmse:694.90100\n",
      "[23]\ttrain-rmse:323.60733\teval-rmse:694.37940\n",
      "[24]\ttrain-rmse:320.37866\teval-rmse:693.32294\n",
      "[25]\ttrain-rmse:318.62595\teval-rmse:692.80096\n",
      "[26]\ttrain-rmse:316.83756\teval-rmse:692.03119\n",
      "[27]\ttrain-rmse:315.38000\teval-rmse:691.68390\n",
      "[28]\ttrain-rmse:313.52765\teval-rmse:691.25024\n",
      "[29]\ttrain-rmse:309.23480\teval-rmse:689.93781\n",
      "[30]\ttrain-rmse:307.79172\teval-rmse:689.79620\n",
      "[31]\ttrain-rmse:306.97784\teval-rmse:689.55762\n",
      "[32]\ttrain-rmse:304.81281\teval-rmse:689.19928\n",
      "[33]\ttrain-rmse:302.81915\teval-rmse:688.70575\n",
      "[34]\ttrain-rmse:301.71668\teval-rmse:688.27960\n",
      "[35]\ttrain-rmse:301.42636\teval-rmse:688.27502\n",
      "[36]\ttrain-rmse:299.13739\teval-rmse:687.59949\n",
      "[37]\ttrain-rmse:296.07294\teval-rmse:686.53998\n",
      "[38]\ttrain-rmse:293.73251\teval-rmse:686.01538\n",
      "[39]\ttrain-rmse:292.81796\teval-rmse:685.94623\n",
      "[40]\ttrain-rmse:290.54968\teval-rmse:685.24072\n",
      "[41]\ttrain-rmse:289.72406\teval-rmse:685.10907\n",
      "[42]\ttrain-rmse:289.12366\teval-rmse:684.92816\n",
      "[43]\ttrain-rmse:288.03027\teval-rmse:684.87134\n",
      "[44]\ttrain-rmse:287.17093\teval-rmse:684.71118\n",
      "[45]\ttrain-rmse:286.86023\teval-rmse:684.59796\n",
      "[46]\ttrain-rmse:286.48260\teval-rmse:684.48547\n",
      "[47]\ttrain-rmse:285.60794\teval-rmse:684.27496\n",
      "[48]\ttrain-rmse:284.25903\teval-rmse:684.04883\n",
      "[49]\ttrain-rmse:282.27322\teval-rmse:683.65772\n",
      "[20:27:37] WARNING: C:/Users/Administrator/workspace/xgboost-win64_release_1.4.0/src/learner.cc:573: \n",
      "Parameters: { \"sileng\" } might not be used.\n",
      "\n",
      "  This may not be accurate due to some parameters are only used in language bindings but\n",
      "  passed down to XGBoost core.  Or some parameters are not used but slip through this\n",
      "  verification. Please open an issue if you find above cases.\n",
      "\n",
      "\n",
      "[0]\ttrain-rmse:2639.65112\teval-rmse:2614.97705\n",
      "[1]\ttrain-rmse:1897.22949\teval-rmse:1869.29089\n",
      "[2]\ttrain-rmse:1386.93530\teval-rmse:1357.27014\n",
      "[3]\ttrain-rmse:1046.39148\teval-rmse:1012.18561\n",
      "[4]\ttrain-rmse:815.64667\teval-rmse:781.01703\n",
      "[5]\ttrain-rmse:669.85999\teval-rmse:632.52252\n",
      "[6]\ttrain-rmse:582.21350\teval-rmse:542.24487\n",
      "[7]\ttrain-rmse:530.34088\teval-rmse:488.33188\n",
      "[8]\ttrain-rmse:492.51907\teval-rmse:455.56595\n",
      "[9]\ttrain-rmse:473.61371\teval-rmse:436.49216\n",
      "[10]\ttrain-rmse:462.02267\teval-rmse:424.80780\n",
      "[11]\ttrain-rmse:454.28622\teval-rmse:418.47305\n",
      "[12]\ttrain-rmse:448.18256\teval-rmse:413.60809\n",
      "[13]\ttrain-rmse:441.74139\teval-rmse:406.81656\n",
      "[14]\ttrain-rmse:437.08374\teval-rmse:404.64642\n",
      "[15]\ttrain-rmse:429.99637\teval-rmse:402.48343\n",
      "[16]\ttrain-rmse:428.73285\teval-rmse:400.49396\n",
      "[17]\ttrain-rmse:425.28317\teval-rmse:398.24969\n",
      "[18]\ttrain-rmse:423.57025\teval-rmse:396.84769\n",
      "[19]\ttrain-rmse:420.10461\teval-rmse:393.14197\n",
      "[20]\ttrain-rmse:418.48090\teval-rmse:391.83023\n",
      "[21]\ttrain-rmse:416.49774\teval-rmse:390.21173\n",
      "[22]\ttrain-rmse:413.91223\teval-rmse:388.96866\n",
      "[23]\ttrain-rmse:409.42087\teval-rmse:387.39240\n",
      "[24]\ttrain-rmse:407.36038\teval-rmse:385.80179\n",
      "[25]\ttrain-rmse:404.96536\teval-rmse:384.41342\n",
      "[26]\ttrain-rmse:402.01178\teval-rmse:383.51486\n",
      "[27]\ttrain-rmse:401.44147\teval-rmse:383.50449\n",
      "[28]\ttrain-rmse:400.70944\teval-rmse:383.01910\n",
      "[29]\ttrain-rmse:398.36356\teval-rmse:381.25482\n",
      "[30]\ttrain-rmse:396.57379\teval-rmse:380.23932\n",
      "[31]\ttrain-rmse:395.63370\teval-rmse:379.62701\n",
      "[32]\ttrain-rmse:395.10837\teval-rmse:379.21036\n",
      "[33]\ttrain-rmse:393.28720\teval-rmse:378.52075\n",
      "[34]\ttrain-rmse:391.82571\teval-rmse:377.63742\n",
      "[35]\ttrain-rmse:390.59662\teval-rmse:376.54306\n",
      "[36]\ttrain-rmse:388.22098\teval-rmse:375.83432\n",
      "[37]\ttrain-rmse:388.03598\teval-rmse:375.81644\n",
      "[38]\ttrain-rmse:386.33185\teval-rmse:375.28330\n",
      "[39]\ttrain-rmse:384.84061\teval-rmse:374.11743\n",
      "[40]\ttrain-rmse:383.18112\teval-rmse:373.11606\n",
      "[41]\ttrain-rmse:381.08649\teval-rmse:371.94605\n",
      "[42]\ttrain-rmse:379.53757\teval-rmse:371.30460\n",
      "[43]\ttrain-rmse:378.29987\teval-rmse:370.48529\n",
      "[44]\ttrain-rmse:377.34760\teval-rmse:369.44064\n",
      "[45]\ttrain-rmse:376.85455\teval-rmse:368.85391\n",
      "[46]\ttrain-rmse:376.44446\teval-rmse:368.76669\n",
      "[47]\ttrain-rmse:375.98956\teval-rmse:368.44067\n",
      "[48]\ttrain-rmse:375.76587\teval-rmse:368.33603\n",
      "[49]\ttrain-rmse:374.25897\teval-rmse:366.30203\n",
      "[20:27:42] WARNING: C:/Users/Administrator/workspace/xgboost-win64_release_1.4.0/src/learner.cc:573: \n",
      "Parameters: { \"sileng\" } might not be used.\n",
      "\n",
      "  This may not be accurate due to some parameters are only used in language bindings but\n",
      "  passed down to XGBoost core.  Or some parameters are not used but slip through this\n",
      "  verification. Please open an issue if you find above cases.\n",
      "\n",
      "\n",
      "[0]\ttrain-rmse:2635.52295\teval-rmse:2632.96826\n",
      "[1]\ttrain-rmse:1890.76501\teval-rmse:1893.74829\n",
      "[2]\ttrain-rmse:1372.58960\teval-rmse:1392.31604\n",
      "[3]\ttrain-rmse:1020.17529\teval-rmse:1067.23804\n",
      "[4]\ttrain-rmse:782.83630\teval-rmse:866.86237\n",
      "[5]\ttrain-rmse:631.06647\teval-rmse:736.35742\n",
      "[6]\ttrain-rmse:529.25885\teval-rmse:680.04541\n",
      "[7]\ttrain-rmse:472.27707\teval-rmse:637.67889\n",
      "[8]\ttrain-rmse:437.08929\teval-rmse:615.28308\n",
      "[9]\ttrain-rmse:407.87204\teval-rmse:623.04108\n",
      "[10]\ttrain-rmse:388.14990\teval-rmse:633.85339\n",
      "[11]\ttrain-rmse:377.61447\teval-rmse:627.52106\n",
      "[12]\ttrain-rmse:371.63428\teval-rmse:623.91815\n",
      "[13]\ttrain-rmse:361.17438\teval-rmse:639.54187\n",
      "[14]\ttrain-rmse:357.05469\teval-rmse:637.42889\n",
      "[15]\ttrain-rmse:349.06906\teval-rmse:653.08771\n",
      "[16]\ttrain-rmse:344.30771\teval-rmse:651.33545\n",
      "[17]\ttrain-rmse:342.21295\teval-rmse:655.04889\n",
      "[18]\ttrain-rmse:337.82880\teval-rmse:653.54724\n",
      "[19]\ttrain-rmse:335.48785\teval-rmse:652.76227\n",
      "[20]\ttrain-rmse:333.46506\teval-rmse:652.11664\n",
      "[21]\ttrain-rmse:328.89804\teval-rmse:666.82678\n",
      "[22]\ttrain-rmse:326.91370\teval-rmse:666.37610\n",
      "[23]\ttrain-rmse:324.38025\teval-rmse:665.69794\n",
      "[24]\ttrain-rmse:321.80695\teval-rmse:664.94330\n",
      "[25]\ttrain-rmse:320.63135\teval-rmse:664.69220\n",
      "[26]\ttrain-rmse:319.82712\teval-rmse:664.39850\n",
      "[27]\ttrain-rmse:318.73294\teval-rmse:664.11151\n",
      "[28]\ttrain-rmse:316.37344\teval-rmse:663.17169\n",
      "[29]\ttrain-rmse:316.04541\teval-rmse:663.17474\n",
      "[30]\ttrain-rmse:313.91425\teval-rmse:664.41962\n",
      "[31]\ttrain-rmse:312.38034\teval-rmse:664.11542\n",
      "[32]\ttrain-rmse:311.11932\teval-rmse:663.85632\n",
      "[33]\ttrain-rmse:310.24509\teval-rmse:663.52466\n",
      "[34]\ttrain-rmse:306.32812\teval-rmse:675.26910\n",
      "[35]\ttrain-rmse:305.15448\teval-rmse:675.02258\n",
      "[36]\ttrain-rmse:303.31006\teval-rmse:674.50122\n",
      "[37]\ttrain-rmse:301.83435\teval-rmse:674.18970\n",
      "[38]\ttrain-rmse:300.80160\teval-rmse:673.74609\n",
      "[39]\ttrain-rmse:300.25278\teval-rmse:673.49359\n",
      "[40]\ttrain-rmse:298.88098\teval-rmse:672.96283\n",
      "[41]\ttrain-rmse:296.90842\teval-rmse:672.55780\n",
      "[42]\ttrain-rmse:296.13818\teval-rmse:672.36853\n",
      "[43]\ttrain-rmse:294.01953\teval-rmse:671.87720\n",
      "[44]\ttrain-rmse:291.91678\teval-rmse:671.40686\n",
      "[45]\ttrain-rmse:291.28888\teval-rmse:671.22754\n",
      "[46]\ttrain-rmse:290.74033\teval-rmse:671.03357\n",
      "[47]\ttrain-rmse:289.71497\teval-rmse:670.81818\n",
      "[48]\ttrain-rmse:289.41809\teval-rmse:670.59308\n",
      "[49]\ttrain-rmse:288.78464\teval-rmse:670.40979\n"
     ]
    }
   ],
   "source": [
    "import xgboost as xgb\n",
    "from xgboost import XGBClassifier\n",
    "from sklearn.metrics import log_loss, accuracy_score\n",
    "from sklearn.model_selection import KFold\n",
    "\n",
    "import pandas as pd\n",
    "from sklearn.decomposition import PCA\n",
    "import math\n",
    "from sklearn import model_selection\n",
    "from sklearn.ensemble import RandomForestRegressor\n",
    "\n",
    "# 2つの値から角度を求めて、配列を返す関数\n",
    "def make_radian_row(pca_result):\n",
    "    rad = []\n",
    "    for r in pca_result:\n",
    "        rad.append(math.atan(r[0]/r[1]))\n",
    "\n",
    "    return rad\n",
    "\n",
    "scores = []\n",
    "# GBDT用のハイパーパラメータ\n",
    "params = {\"objective\": \"reg:squarederror\", \"sileng\":1, \"random_state\":71, \"eval_metric\":\"rmse\"}\n",
    "num_round = 50\n",
    "\n",
    "# クロスバリデーション\n",
    "kf = KFold(n_splits=4, shuffle=True, random_state=71)\n",
    "for tr_idx, va_idx, in kf.split(train_x):\n",
    "    \n",
    "    train_x = train_data_1_no_ID\n",
    "    \n",
    "    tr_x, va_x = train_x.iloc[tr_idx], train_x.iloc[va_idx]\n",
    "    tr_y, va_y = train_y.iloc[tr_idx], train_y.iloc[va_idx]\n",
    "\n",
    "#     list_cols = [\"区ID\", \"間取りID\", \"建物構造ID\", \"路線ID\", \"駅ID\"]\n",
    "    list_cols = [\"区ID\", \"間取りID\", \"建物構造ID\"]    \n",
    "    te = TargetEncoding_ws(list_cols=list_cols, k=200, impute=True)\n",
    "    te.fit(tr_x, tr_y)\n",
    "    \n",
    "    tr_x = te.transform(tr_x)\n",
    "    va_x = te.transform(va_x)\n",
    "    test_x = te.transform(test_x)\n",
    "    \n",
    "#    # 訓練データを'区ID'でgroupbyを行い、'賃料/面積'の平均を求める。 \n",
    "#     tr_x['区id_target_enc'] = tr_x.groupby('区ID')['賃料/面積'].transform('mean')\n",
    "#     tr_x['間取りid_target_enc'] = tr_x.groupby('間取りID')['賃料/面積'].transform('mean')\n",
    "#     tr_x['建物構造id_target_enc'] = tr_x.groupby('建物構造ID')['賃料/面積'].transform('mean')\n",
    "#     tr_x['路線id_target_enc'] = tr_x.groupby('路線ID')['賃料/面積'].transform('mean')\n",
    "#     tr_x['駅id_target_enc'] = tr_x.groupby('駅ID')['賃料/面積'].transform('mean')\n",
    "    \n",
    "#    # 検証データを使用しないで'区ID'カラムに対する'賃料/面積'の平均を求める\n",
    "#     va_x['区id_target_enc'] = va_x['区ID'].map(tr_x.groupby('区ID')['賃料/面積'].mean())\n",
    "#     va_x['間取りid_target_enc'] = va_x['間取りID'].map(tr_x.groupby('間取りID')['賃料/面積'].mean())\n",
    "#     va_x['建物構造id_target_enc'] = va_x['建物構造ID'].map(tr_x.groupby('建物構造ID')['賃料/面積'].mean())\n",
    "#     va_x['路線id_target_enc'] = va_x['路線ID'].map(tr_x.groupby('路線ID')['賃料/面積'].mean())\n",
    "#     va_x['駅id_target_enc'] = va_x['駅ID'].map(tr_x.groupby('駅ID')['賃料/面積'].mean())\n",
    "    \n",
    "#     test_x['区id_target_enc'] = test_x['区ID'].map(tr_x.groupby('区ID')['賃料/面積'].mean())\n",
    "#     test_x['間取りid_target_enc'] = test_x['間取りID'].map(tr_x.groupby('間取りID')['賃料/面積'].mean())\n",
    "#     test_x['建物構造id_target_enc'] = test_x['建物構造ID'].map(tr_x.groupby('建物構造ID')['賃料/面積'].mean())\n",
    "#     test_x['路線id_target_enc'] = test_x['路線ID'].map(tr_x.groupby('路線ID')['賃料/面積'].mean())\n",
    "#     test_x['駅id_target_enc'] = test_x['駅ID'].map(tr_x.groupby('駅ID')['賃料/面積'].mean())    \n",
    "        \n",
    "    # tr_x, va_xより、\"賃料\", \"賃料/面積\"を削除\n",
    "    tr_x = tr_x.drop([\"賃料\", \"賃料/面積\"], axis=1)\n",
    "    va_x = va_x.drop([\"賃料\", \"賃料/面積\"], axis=1)\n",
    "    \n",
    "    # 主成分分析\n",
    "    pca = PCA(n_components=2)\n",
    "    pca.fit(tr_x)\n",
    "    \n",
    "    # 角度データの追加\n",
    "    tr_x[\"rad\"] = make_radian_row(pca.transform(tr_x))\n",
    "    va_x[\"rad\"] = make_radian_row(pca.transform(va_x))\n",
    "    test_x[\"rad\"] = make_radian_row(pca.transform(test_x))\n",
    "    \n",
    "    # GBDTで学習実行\n",
    "    dtrain = xgb.DMatrix(tr_x, label=tr_y) # enable_categorical=True\n",
    "    dvalid = xgb.DMatrix(va_x, label=va_y)\n",
    "    \n",
    "    watchlist = [(dtrain, \"train\"), (dvalid, \"eval\")]\n",
    "    model = xgb.train(params, dtrain, num_round, evals=watchlist)\n",
    "    \n",
    "    tr_x = tr_x.drop(\"rad\", axis=1)\n",
    "    va_x = va_x.drop(\"rad\", axis=1)\n",
    "    test_x = test_x.drop(\"rad\", axis=1)"
   ]
  },
  {
   "cell_type": "code",
   "execution_count": 351,
   "metadata": {
    "collapsed": true,
    "jupyter": {
     "outputs_hidden": true
    }
   },
   "outputs": [],
   "source": [
    "# import xgboost as xgb\n",
    "# from xgboost import XGBClassifier\n",
    "# from sklearn.metrics import log_loss, accuracy_score\n",
    "# from sklearn.model_selection import KFold\n",
    "\n",
    "# scores = []\n",
    "# # GBDT用のハイパーパラメータ\n",
    "# params = {\"objective\": \"reg:squarederror\", \"sileng\":1, \"random_state\":71, \"eval_metric\":\"rmse\"}\n",
    "# num_round = 50\n",
    "\n",
    "# # クロスバリデーション\n",
    "# kf = KFold(n_splits=4, shuffle=True, random_state=71)\n",
    "# for tr_idx, va_idx, in kf.split(train_x):\n",
    "#     tr_x, va_x = train_x.iloc[tr_idx], train_x.iloc[va_idx]\n",
    "#     tr_y, va_y = train_y.iloc[tr_idx], train_y.iloc[va_idx]\n",
    "    \n",
    "#     # GBDTで学習実行\n",
    "#     dtrain = xgb.DMatrix(tr_x, label=tr_y) # enable_categorical=True\n",
    "#     dvalid = xgb.DMatrix(va_x, label=va_y)\n",
    "#     dtest = xgb.DMatrix(test_x)\n",
    "    \n",
    "#     watchlist = [(dtrain, \"train\"), (dvalid, \"eval\")]\n",
    "#     model = xgb.train(params, dtrain, num_round, evals=watchlist)"
   ]
  },
  {
   "cell_type": "markdown",
   "metadata": {},
   "source": [
    "## 5. 検証"
   ]
  },
  {
   "cell_type": "code",
   "execution_count": 352,
   "metadata": {},
   "outputs": [
    {
     "data": {
      "image/png": "[encoded data removed]",
      "text/plain": [
       "<Figure size 432x288 with 1 Axes>"
      ]
     },
     "metadata": {
      "needs_background": "light"
     },
     "output_type": "display_data"
    }
   ],
   "source": [
    "# 特徴量の予測結果への貢献度(Fスコア)を可視化\n",
    "import matplotlib.pyplot as plt\n",
    "import matplotlib\n",
    "import numpy as np\n",
    "font = {'family' : 'Meiryo'} # matplotlibのデフォルトフォントをTakaoGothicに設定\n",
    "plt.rc('font', **font)\n",
    "xgb.plot_importance(model, importance_type = \"gain\")\n",
    "plt.show()"
   ]
  },
  {
   "cell_type": "code",
   "execution_count": 353,
   "metadata": {},
   "outputs": [
    {
     "data": {
      "image/png": "[encoded data removed]",
      "text/plain": [
       "<Figure size 1440x720 with 289 Axes>"
      ]
     },
     "metadata": {
      "needs_background": "light"
     },
     "output_type": "display_data"
    }
   ],
   "source": [
    "# # ヒストグラムと散布図の行列を作成\n",
    "# from pandas.plotting import scatter_matrix\n",
    "# x = scatter_matrix(train_data_1_no_ID, alpha=1, figsize=(20, 10), diagonal='hist')"
   ]
  },
  {
   "cell_type": "code",
   "execution_count": 354,
   "metadata": {},
   "outputs": [
    {
     "name": "stdout",
     "output_type": "stream",
     "text": [
      "[9.99291262e-01 5.95692890e-04]\n"
     ]
    },
    {
     "data": {
      "image/png": "[encoded data removed]",
      "text/plain": [
       "<Figure size 432x288 with 1 Axes>"
      ]
     },
     "metadata": {
      "needs_background": "light"
     },
     "output_type": "display_data"
    }
   ],
   "source": [
    "# PCA分析結果を可視化する\n",
    "transformed = pca.fit_transform(tr_x)\n",
    "\n",
    "# 主成分をプロットする\n",
    "plt.subplot(1, 2, 2)\n",
    "plt.scatter(transformed[:, 0], transformed[:, 1])\n",
    "plt.title('principal component')\n",
    "plt.xlabel('pc1')\n",
    "plt.ylabel('pc2')\n",
    "\n",
    "# 主成分の次元ごとの寄与率を出力する\n",
    "print(pca.explained_variance_ratio_)\n",
    "# グラフを表示する\n",
    "plt.show()"
   ]
  },
  {
   "cell_type": "markdown",
   "metadata": {},
   "source": [
    "## 6. 予測"
   ]
  },
  {
   "cell_type": "code",
   "execution_count": 355,
   "metadata": {},
   "outputs": [
    {
     "data": {
      "text/html": [
       "<div>\n",
       "<style scoped>\n",
       "    .dataframe tbody tr th:only-of-type {\n",
       "        vertical-align: middle;\n",
       "    }\n",
       "\n",
       "    .dataframe tbody tr th {\n",
       "        vertical-align: top;\n",
       "    }\n",
       "\n",
       "    .dataframe thead th {\n",
       "        text-align: right;\n",
       "    }\n",
       "</style>\n",
       "<table border=\"1\" class=\"dataframe\">\n",
       "  <thead>\n",
       "    <tr style=\"text-align: right;\">\n",
       "      <th></th>\n",
       "      <th>築年数</th>\n",
       "      <th>面積m2</th>\n",
       "      <th>間取りID</th>\n",
       "      <th>所在</th>\n",
       "      <th>階層</th>\n",
       "      <th>経度</th>\n",
       "      <th>緯度</th>\n",
       "      <th>部屋数</th>\n",
       "      <th>1部屋当たり面積m2</th>\n",
       "      <th>高さ率</th>\n",
       "      <th>建物構造ID</th>\n",
       "      <th>平均坪単価（万円）</th>\n",
       "      <th>Recciprocal_distance_km</th>\n",
       "      <th>区ID</th>\n",
       "      <th>徒歩分数</th>\n",
       "    </tr>\n",
       "  </thead>\n",
       "  <tbody>\n",
       "    <tr>\n",
       "      <th>0</th>\n",
       "      <td>9.9</td>\n",
       "      <td>20.01</td>\n",
       "      <td>3543.760940</td>\n",
       "      <td>1.0</td>\n",
       "      <td>12.0</td>\n",
       "      <td>139.727873</td>\n",
       "      <td>35.747759</td>\n",
       "      <td>1.0</td>\n",
       "      <td>20.010000</td>\n",
       "      <td>0.083333</td>\n",
       "      <td>3543.760940</td>\n",
       "      <td>180.0</td>\n",
       "      <td>0.105936</td>\n",
       "      <td>3539.878533</td>\n",
       "      <td>4.0</td>\n",
       "    </tr>\n",
       "    <tr>\n",
       "      <th>1</th>\n",
       "      <td>45.0</td>\n",
       "      <td>16.50</td>\n",
       "      <td>3543.760942</td>\n",
       "      <td>5.0</td>\n",
       "      <td>10.0</td>\n",
       "      <td>139.780485</td>\n",
       "      <td>35.662406</td>\n",
       "      <td>1.0</td>\n",
       "      <td>16.500000</td>\n",
       "      <td>0.500000</td>\n",
       "      <td>3543.760485</td>\n",
       "      <td>323.0</td>\n",
       "      <td>0.224156</td>\n",
       "      <td>3551.000820</td>\n",
       "      <td>5.0</td>\n",
       "    </tr>\n",
       "    <tr>\n",
       "      <th>2</th>\n",
       "      <td>8.6</td>\n",
       "      <td>22.05</td>\n",
       "      <td>3543.760940</td>\n",
       "      <td>12.0</td>\n",
       "      <td>15.0</td>\n",
       "      <td>139.667375</td>\n",
       "      <td>35.675358</td>\n",
       "      <td>1.0</td>\n",
       "      <td>22.050000</td>\n",
       "      <td>0.800000</td>\n",
       "      <td>3543.760940</td>\n",
       "      <td>324.0</td>\n",
       "      <td>0.168132</td>\n",
       "      <td>3570.310104</td>\n",
       "      <td>6.0</td>\n",
       "    </tr>\n",
       "    <tr>\n",
       "      <th>3</th>\n",
       "      <td>29.4</td>\n",
       "      <td>60.48</td>\n",
       "      <td>3543.735949</td>\n",
       "      <td>3.0</td>\n",
       "      <td>4.0</td>\n",
       "      <td>139.648495</td>\n",
       "      <td>35.700193</td>\n",
       "      <td>3.5</td>\n",
       "      <td>17.280000</td>\n",
       "      <td>0.750000</td>\n",
       "      <td>3543.760940</td>\n",
       "      <td>253.0</td>\n",
       "      <td>0.116755</td>\n",
       "      <td>3543.526283</td>\n",
       "      <td>3.0</td>\n",
       "    </tr>\n",
       "    <tr>\n",
       "      <th>5</th>\n",
       "      <td>7.6</td>\n",
       "      <td>50.80</td>\n",
       "      <td>3543.735949</td>\n",
       "      <td>6.0</td>\n",
       "      <td>12.0</td>\n",
       "      <td>139.795759</td>\n",
       "      <td>35.732019</td>\n",
       "      <td>3.5</td>\n",
       "      <td>14.514286</td>\n",
       "      <td>0.500000</td>\n",
       "      <td>3543.760940</td>\n",
       "      <td>149.0</td>\n",
       "      <td>0.103565</td>\n",
       "      <td>3504.879312</td>\n",
       "      <td>2.0</td>\n",
       "    </tr>\n",
       "  </tbody>\n",
       "</table>\n",
       "</div>"
      ],
      "text/plain": [
       "    築年数   面積m2        間取りID    所在    階層          経度         緯度  部屋数  \\\n",
       "0   9.9  20.01  3543.760940   1.0  12.0  139.727873  35.747759  1.0   \n",
       "1  45.0  16.50  3543.760942   5.0  10.0  139.780485  35.662406  1.0   \n",
       "2   8.6  22.05  3543.760940  12.0  15.0  139.667375  35.675358  1.0   \n",
       "3  29.4  60.48  3543.735949   3.0   4.0  139.648495  35.700193  3.5   \n",
       "5   7.6  50.80  3543.735949   6.0  12.0  139.795759  35.732019  3.5   \n",
       "\n",
       "   1部屋当たり面積m2       高さ率       建物構造ID  平均坪単価（万円）  Recciprocal_distance_km  \\\n",
       "0   20.010000  0.083333  3543.760940      180.0                 0.105936   \n",
       "1   16.500000  0.500000  3543.760485      323.0                 0.224156   \n",
       "2   22.050000  0.800000  3543.760940      324.0                 0.168132   \n",
       "3   17.280000  0.750000  3543.760940      253.0                 0.116755   \n",
       "5   14.514286  0.500000  3543.760940      149.0                 0.103565   \n",
       "\n",
       "           区ID  徒歩分数  \n",
       "0  3539.878533   4.0  \n",
       "1  3551.000820   5.0  \n",
       "2  3570.310104   6.0  \n",
       "3  3543.526283   3.0  \n",
       "5  3504.879312   2.0  "
      ]
     },
     "execution_count": 355,
     "metadata": {},
     "output_type": "execute_result"
    }
   ],
   "source": [
    "tr_x.head()"
   ]
  },
  {
   "cell_type": "code",
   "execution_count": 356,
   "metadata": {},
   "outputs": [
    {
     "data": {
      "text/html": [
       "<div>\n",
       "<style scoped>\n",
       "    .dataframe tbody tr th:only-of-type {\n",
       "        vertical-align: middle;\n",
       "    }\n",
       "\n",
       "    .dataframe tbody tr th {\n",
       "        vertical-align: top;\n",
       "    }\n",
       "\n",
       "    .dataframe thead th {\n",
       "        text-align: right;\n",
       "    }\n",
       "</style>\n",
       "<table border=\"1\" class=\"dataframe\">\n",
       "  <thead>\n",
       "    <tr style=\"text-align: right;\">\n",
       "      <th></th>\n",
       "      <th>築年数</th>\n",
       "      <th>面積m2</th>\n",
       "      <th>間取りID</th>\n",
       "      <th>所在</th>\n",
       "      <th>階層</th>\n",
       "      <th>経度</th>\n",
       "      <th>緯度</th>\n",
       "      <th>部屋数</th>\n",
       "      <th>1部屋当たり面積m2</th>\n",
       "      <th>高さ率</th>\n",
       "      <th>建物構造ID</th>\n",
       "      <th>平均坪単価（万円）</th>\n",
       "      <th>Recciprocal_distance_km</th>\n",
       "      <th>区ID</th>\n",
       "      <th>徒歩分数</th>\n",
       "    </tr>\n",
       "  </thead>\n",
       "  <tbody>\n",
       "    <tr>\n",
       "      <th>0</th>\n",
       "      <td>49.0</td>\n",
       "      <td>50.22</td>\n",
       "      <td>3543.76094</td>\n",
       "      <td>8.0</td>\n",
       "      <td>8.0</td>\n",
       "      <td>139.652762</td>\n",
       "      <td>35.617708</td>\n",
       "      <td>3.5</td>\n",
       "      <td>14.348571</td>\n",
       "      <td>1.00</td>\n",
       "      <td>3543.76094</td>\n",
       "      <td>208.0</td>\n",
       "      <td>0.115133</td>\n",
       "      <td>3543.76094</td>\n",
       "      <td>15.0</td>\n",
       "    </tr>\n",
       "    <tr>\n",
       "      <th>1</th>\n",
       "      <td>0.2</td>\n",
       "      <td>20.88</td>\n",
       "      <td>3543.76094</td>\n",
       "      <td>3.0</td>\n",
       "      <td>4.0</td>\n",
       "      <td>139.672871</td>\n",
       "      <td>35.617709</td>\n",
       "      <td>1.0</td>\n",
       "      <td>20.880000</td>\n",
       "      <td>0.75</td>\n",
       "      <td>3543.76094</td>\n",
       "      <td>273.0</td>\n",
       "      <td>0.137527</td>\n",
       "      <td>3543.76094</td>\n",
       "      <td>6.0</td>\n",
       "    </tr>\n",
       "    <tr>\n",
       "      <th>2</th>\n",
       "      <td>23.4</td>\n",
       "      <td>26.93</td>\n",
       "      <td>3543.76094</td>\n",
       "      <td>1.0</td>\n",
       "      <td>4.0</td>\n",
       "      <td>139.709049</td>\n",
       "      <td>35.741996</td>\n",
       "      <td>1.0</td>\n",
       "      <td>26.930000</td>\n",
       "      <td>0.25</td>\n",
       "      <td>3543.76094</td>\n",
       "      <td>186.0</td>\n",
       "      <td>0.110849</td>\n",
       "      <td>3543.76094</td>\n",
       "      <td>10.0</td>\n",
       "    </tr>\n",
       "    <tr>\n",
       "      <th>3</th>\n",
       "      <td>36.2</td>\n",
       "      <td>23.57</td>\n",
       "      <td>3543.76094</td>\n",
       "      <td>1.0</td>\n",
       "      <td>2.0</td>\n",
       "      <td>139.658270</td>\n",
       "      <td>35.673602</td>\n",
       "      <td>1.0</td>\n",
       "      <td>23.570000</td>\n",
       "      <td>0.50</td>\n",
       "      <td>3543.76094</td>\n",
       "      <td>184.0</td>\n",
       "      <td>0.148943</td>\n",
       "      <td>3543.76094</td>\n",
       "      <td>8.0</td>\n",
       "    </tr>\n",
       "    <tr>\n",
       "      <th>5</th>\n",
       "      <td>25.6</td>\n",
       "      <td>21.45</td>\n",
       "      <td>3543.76094</td>\n",
       "      <td>1.0</td>\n",
       "      <td>2.0</td>\n",
       "      <td>139.686023</td>\n",
       "      <td>35.691395</td>\n",
       "      <td>1.0</td>\n",
       "      <td>21.450000</td>\n",
       "      <td>0.50</td>\n",
       "      <td>3543.76094</td>\n",
       "      <td>294.0</td>\n",
       "      <td>0.192956</td>\n",
       "      <td>3543.76094</td>\n",
       "      <td>4.0</td>\n",
       "    </tr>\n",
       "  </tbody>\n",
       "</table>\n",
       "</div>"
      ],
      "text/plain": [
       "    築年数   面積m2       間取りID   所在   階層          経度         緯度  部屋数  1部屋当たり面積m2  \\\n",
       "0  49.0  50.22  3543.76094  8.0  8.0  139.652762  35.617708  3.5   14.348571   \n",
       "1   0.2  20.88  3543.76094  3.0  4.0  139.672871  35.617709  1.0   20.880000   \n",
       "2  23.4  26.93  3543.76094  1.0  4.0  139.709049  35.741996  1.0   26.930000   \n",
       "3  36.2  23.57  3543.76094  1.0  2.0  139.658270  35.673602  1.0   23.570000   \n",
       "5  25.6  21.45  3543.76094  1.0  2.0  139.686023  35.691395  1.0   21.450000   \n",
       "\n",
       "    高さ率      建物構造ID  平均坪単価（万円）  Recciprocal_distance_km         区ID  徒歩分数  \n",
       "0  1.00  3543.76094      208.0                 0.115133  3543.76094  15.0  \n",
       "1  0.75  3543.76094      273.0                 0.137527  3543.76094   6.0  \n",
       "2  0.25  3543.76094      186.0                 0.110849  3543.76094  10.0  \n",
       "3  0.50  3543.76094      184.0                 0.148943  3543.76094   8.0  \n",
       "5  0.50  3543.76094      294.0                 0.192956  3543.76094   4.0  "
      ]
     },
     "execution_count": 356,
     "metadata": {},
     "output_type": "execute_result"
    }
   ],
   "source": [
    "test_x.head()"
   ]
  },
  {
   "cell_type": "code",
   "execution_count": 357,
   "metadata": {},
   "outputs": [],
   "source": [
    "# テストデータでの予測\n",
    "test_x[\"rad\"] = make_radian_row(pca.transform(test_x))\n",
    "dtest = xgb.DMatrix(test_x)\n",
    "pred = model.predict(dtest)"
   ]
  },
  {
   "cell_type": "code",
   "execution_count": 358,
   "metadata": {},
   "outputs": [
    {
     "data": {
      "text/plain": [
       "array([2977.453 , 5117.2905, 3141.459 , ..., 4511.646 , 3631.6914,\n",
       "       3916.3694], dtype=float32)"
      ]
     },
     "execution_count": 358,
     "metadata": {},
     "output_type": "execute_result"
    }
   ],
   "source": [
    "pred"
   ]
  },
  {
   "cell_type": "code",
   "execution_count": 359,
   "metadata": {},
   "outputs": [
    {
     "data": {
      "text/plain": [
       "24812"
      ]
     },
     "execution_count": 359,
     "metadata": {},
     "output_type": "execute_result"
    }
   ],
   "source": [
    "len(pred)"
   ]
  },
  {
   "cell_type": "code",
   "execution_count": 360,
   "metadata": {},
   "outputs": [
    {
     "data": {
      "text/plain": [
       "24812"
      ]
     },
     "execution_count": 360,
     "metadata": {},
     "output_type": "execute_result"
    }
   ],
   "source": [
    "len(test_data_1)"
   ]
  },
  {
   "cell_type": "markdown",
   "metadata": {},
   "source": [
    "## 7. データ出力"
   ]
  },
  {
   "cell_type": "code",
   "execution_count": 361,
   "metadata": {},
   "outputs": [],
   "source": [
    "# 予測結果の結合\n",
    "test_data_1[\"賃料/面積\"] = pred"
   ]
  },
  {
   "cell_type": "code",
   "execution_count": 362,
   "metadata": {},
   "outputs": [],
   "source": [
    "# 予測結果から賃料を算出し、int型に変換\n",
    "test_data_1[\"賃料\"] = (test_data_1[\"面積m2\"] * test_data_1[\"賃料/面積\"]).astype(int)"
   ]
  },
  {
   "cell_type": "code",
   "execution_count": 363,
   "metadata": {},
   "outputs": [],
   "source": [
    "result = test_data_1[[\"id\", \"賃料\"]]"
   ]
  },
  {
   "cell_type": "code",
   "execution_count": 364,
   "metadata": {},
   "outputs": [
    {
     "data": {
      "text/html": [
       "<div>\n",
       "<style scoped>\n",
       "    .dataframe tbody tr th:only-of-type {\n",
       "        vertical-align: middle;\n",
       "    }\n",
       "\n",
       "    .dataframe tbody tr th {\n",
       "        vertical-align: top;\n",
       "    }\n",
       "\n",
       "    .dataframe thead th {\n",
       "        text-align: right;\n",
       "    }\n",
       "</style>\n",
       "<table border=\"1\" class=\"dataframe\">\n",
       "  <thead>\n",
       "    <tr style=\"text-align: right;\">\n",
       "      <th></th>\n",
       "      <th>id</th>\n",
       "      <th>賃料</th>\n",
       "    </tr>\n",
       "  </thead>\n",
       "  <tbody>\n",
       "    <tr>\n",
       "      <th>0</th>\n",
       "      <td>31471</td>\n",
       "      <td>149527</td>\n",
       "    </tr>\n",
       "    <tr>\n",
       "      <th>1</th>\n",
       "      <td>31472</td>\n",
       "      <td>106849</td>\n",
       "    </tr>\n",
       "    <tr>\n",
       "      <th>2</th>\n",
       "      <td>31473</td>\n",
       "      <td>84599</td>\n",
       "    </tr>\n",
       "    <tr>\n",
       "      <th>3</th>\n",
       "      <td>31474</td>\n",
       "      <td>57742</td>\n",
       "    </tr>\n",
       "    <tr>\n",
       "      <th>5</th>\n",
       "      <td>31476</td>\n",
       "      <td>70618</td>\n",
       "    </tr>\n",
       "    <tr>\n",
       "      <th>...</th>\n",
       "      <td>...</td>\n",
       "      <td>...</td>\n",
       "    </tr>\n",
       "    <tr>\n",
       "      <th>31255</th>\n",
       "      <td>62726</td>\n",
       "      <td>106139</td>\n",
       "    </tr>\n",
       "    <tr>\n",
       "      <th>31257</th>\n",
       "      <td>62728</td>\n",
       "      <td>106363</td>\n",
       "    </tr>\n",
       "    <tr>\n",
       "      <th>31258</th>\n",
       "      <td>62729</td>\n",
       "      <td>102459</td>\n",
       "    </tr>\n",
       "    <tr>\n",
       "      <th>31259</th>\n",
       "      <td>62730</td>\n",
       "      <td>166186</td>\n",
       "    </tr>\n",
       "    <tr>\n",
       "      <th>31261</th>\n",
       "      <td>62732</td>\n",
       "      <td>82948</td>\n",
       "    </tr>\n",
       "  </tbody>\n",
       "</table>\n",
       "<p>24812 rows × 2 columns</p>\n",
       "</div>"
      ],
      "text/plain": [
       "          id      賃料\n",
       "0      31471  149527\n",
       "1      31472  106849\n",
       "2      31473   84599\n",
       "3      31474   57742\n",
       "5      31476   70618\n",
       "...      ...     ...\n",
       "31255  62726  106139\n",
       "31257  62728  106363\n",
       "31258  62729  102459\n",
       "31259  62730  166186\n",
       "31261  62732   82948\n",
       "\n",
       "[24812 rows x 2 columns]"
      ]
     },
     "execution_count": 364,
     "metadata": {},
     "output_type": "execute_result"
    }
   ],
   "source": [
    "result"
   ]
  },
  {
   "cell_type": "code",
   "execution_count": 365,
   "metadata": {},
   "outputs": [
    {
     "data": {
      "text/plain": [
       "24812"
      ]
     },
     "execution_count": 365,
     "metadata": {},
     "output_type": "execute_result"
    }
   ],
   "source": [
    "len(result)"
   ]
  },
  {
   "cell_type": "code",
   "execution_count": 366,
   "metadata": {},
   "outputs": [
    {
     "data": {
      "text/plain": [
       "31262"
      ]
     },
     "execution_count": 366,
     "metadata": {},
     "output_type": "execute_result"
    }
   ],
   "source": [
    "# 除外していた重複idの賃料を戻す\n",
    "test_duplicate_rentvalue = pd.read_excel(\"test_duplicate_rentvalue.xlsx\")\n",
    "result = pd.concat([result, test_duplicate_rentvalue])\n",
    "result = result.sort_values(\"id\")\n",
    "len(result)"
   ]
  },
  {
   "cell_type": "code",
   "execution_count": 367,
   "metadata": {},
   "outputs": [
    {
     "data": {
      "text/html": [
       "<div>\n",
       "<style scoped>\n",
       "    .dataframe tbody tr th:only-of-type {\n",
       "        vertical-align: middle;\n",
       "    }\n",
       "\n",
       "    .dataframe tbody tr th {\n",
       "        vertical-align: top;\n",
       "    }\n",
       "\n",
       "    .dataframe thead th {\n",
       "        text-align: right;\n",
       "    }\n",
       "</style>\n",
       "<table border=\"1\" class=\"dataframe\">\n",
       "  <thead>\n",
       "    <tr style=\"text-align: right;\">\n",
       "      <th></th>\n",
       "      <th>id</th>\n",
       "      <th>賃料</th>\n",
       "    </tr>\n",
       "  </thead>\n",
       "  <tbody>\n",
       "    <tr>\n",
       "      <th>0</th>\n",
       "      <td>31471</td>\n",
       "      <td>149527</td>\n",
       "    </tr>\n",
       "    <tr>\n",
       "      <th>1</th>\n",
       "      <td>31472</td>\n",
       "      <td>106849</td>\n",
       "    </tr>\n",
       "    <tr>\n",
       "      <th>2</th>\n",
       "      <td>31473</td>\n",
       "      <td>84599</td>\n",
       "    </tr>\n",
       "    <tr>\n",
       "      <th>3</th>\n",
       "      <td>31474</td>\n",
       "      <td>57742</td>\n",
       "    </tr>\n",
       "    <tr>\n",
       "      <th>0</th>\n",
       "      <td>31475</td>\n",
       "      <td>90000</td>\n",
       "    </tr>\n",
       "    <tr>\n",
       "      <th>...</th>\n",
       "      <td>...</td>\n",
       "      <td>...</td>\n",
       "    </tr>\n",
       "    <tr>\n",
       "      <th>31257</th>\n",
       "      <td>62728</td>\n",
       "      <td>106363</td>\n",
       "    </tr>\n",
       "    <tr>\n",
       "      <th>31258</th>\n",
       "      <td>62729</td>\n",
       "      <td>102459</td>\n",
       "    </tr>\n",
       "    <tr>\n",
       "      <th>31259</th>\n",
       "      <td>62730</td>\n",
       "      <td>166186</td>\n",
       "    </tr>\n",
       "    <tr>\n",
       "      <th>6449</th>\n",
       "      <td>62731</td>\n",
       "      <td>280000</td>\n",
       "    </tr>\n",
       "    <tr>\n",
       "      <th>31261</th>\n",
       "      <td>62732</td>\n",
       "      <td>82948</td>\n",
       "    </tr>\n",
       "  </tbody>\n",
       "</table>\n",
       "<p>31262 rows × 2 columns</p>\n",
       "</div>"
      ],
      "text/plain": [
       "          id      賃料\n",
       "0      31471  149527\n",
       "1      31472  106849\n",
       "2      31473   84599\n",
       "3      31474   57742\n",
       "0      31475   90000\n",
       "...      ...     ...\n",
       "31257  62728  106363\n",
       "31258  62729  102459\n",
       "31259  62730  166186\n",
       "6449   62731  280000\n",
       "31261  62732   82948\n",
       "\n",
       "[31262 rows x 2 columns]"
      ]
     },
     "execution_count": 367,
     "metadata": {},
     "output_type": "execute_result"
    }
   ],
   "source": [
    "result"
   ]
  },
  {
   "cell_type": "code",
   "execution_count": 368,
   "metadata": {},
   "outputs": [],
   "source": [
    "result.to_csv(\"result.csv\", header=False, index=False)"
   ]
  },
  {
   "cell_type": "code",
   "execution_count": null,
   "metadata": {},
   "outputs": [],
   "source": []
  }
 ],
 "metadata": {
  "kernelspec": {
   "display_name": "Python 3",
   "language": "python",
   "name": "python3"
  },
  "language_info": {
   "codemirror_mode": {
    "name": "ipython",
    "version": 3
   },
   "file_extension": ".py",
   "mimetype": "text/x-python",
   "name": "python",
   "nbconvert_exporter": "python",
   "pygments_lexer": "ipython3",
   "version": "3.7.3"
  }
 },
 "nbformat": 4,
 "nbformat_minor": 4
}
