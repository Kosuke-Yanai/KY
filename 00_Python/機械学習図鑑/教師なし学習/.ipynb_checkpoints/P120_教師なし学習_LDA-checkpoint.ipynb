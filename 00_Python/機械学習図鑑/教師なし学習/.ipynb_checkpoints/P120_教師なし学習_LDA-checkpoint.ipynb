{
 "cells": [
  {
   "cell_type": "code",
   "execution_count": 1,
   "metadata": {},
   "outputs": [
    {
     "name": "stderr",
     "output_type": "stream",
     "text": [
      "Downloading 20news dataset. This may take a few minutes.\n",
      "Downloading dataset from https://ndownloader.figshare.com/files/5975967 (14 MB)\n"
     ]
    }
   ],
   "source": [
    "from sklearn.datasets import fetch_20newsgroups\n",
    "from sklearn.feature_extraction.text import CountVectorizer\n",
    "from sklearn.decomposition import LatentDirichletAllocation\n",
    "\n",
    "datas = fetch_20newsgroups()\n",
    "data =fetch_20newsgroups(remove=(\"headers\", \"footers\", \"quotes\"))"
   ]
  },
  {
   "cell_type": "code",
   "execution_count": 5,
   "metadata": {},
   "outputs": [
    {
     "name": "stdout",
     "output_type": "stream",
     "text": [
      "[[5.00000000e-02 5.00000002e-02 5.00000000e-02 ... 1.19426987e+02\n",
      "  6.83021421e-01 7.90259655e-01]\n",
      " [1.29976903e+02 2.12300896e+02 2.05210006e+02 ... 5.00000006e-02\n",
      "  3.79428324e+01 2.28970752e+01]\n",
      " [1.30727778e-01 2.48379462e+01 5.00001323e-02 ... 5.75999268e+00\n",
      "  5.00000004e-02 1.27461485e-01]\n",
      " ...\n",
      " [5.00000000e-02 5.00000000e-02 5.00000000e-02 ... 5.00000000e-02\n",
      "  5.00000000e-02 5.00000000e-02]\n",
      " [5.00000001e-02 5.00000006e-02 5.00000003e-02 ... 1.68939248e+02\n",
      "  5.00000006e-02 5.00000004e-02]\n",
      " [5.00000002e-02 5.00267105e-02 5.00000002e-02 ... 1.74878834e+01\n",
      "  5.00000001e-02 7.34617984e-02]]\n",
      "[[0.00208333 0.00208333 0.07435942 ... 0.00208333 0.57678358 0.00208333]\n",
      " [0.0025     0.0025     0.0025     ... 0.0025     0.30719288 0.0025    ]\n",
      " [0.00060241 0.00060241 0.13406212 ... 0.00060241 0.43757881 0.00060241]\n",
      " ...\n",
      " [0.00454545 0.00454545 0.00454545 ... 0.00454545 0.00454545 0.32178987]\n",
      " [0.23972003 0.00294118 0.00294118 ... 0.00294118 0.00294118 0.00294118]\n",
      " [0.00357143 0.17508643 0.00357143 ... 0.00357143 0.28276796 0.34498311]]\n"
     ]
    }
   ],
   "source": [
    "max_features = 1000\n",
    "tf_vectorizer = CountVectorizer(max_features=max_features, stop_words=\"english\")\n",
    "tf = tf_vectorizer.fit_transform(data.data)\n",
    "\n",
    "n_topics = 20\n",
    "model = LatentDirichletAllocation(n_components=n_topics)\n",
    "model.fit(tf)\n",
    "\n",
    "print(model.components_)\n",
    "print(model.transform(tf))"
   ]
  },
  {
   "cell_type": "code",
   "execution_count": 6,
   "metadata": {},
   "outputs": [
    {
     "data": {
      "text/plain": [
       "1000000.0"
      ]
     },
     "execution_count": 6,
     "metadata": {},
     "output_type": "execute_result"
    }
   ],
   "source": [
    "model.total_samples"
   ]
  },
  {
   "cell_type": "code",
   "execution_count": null,
   "metadata": {},
   "outputs": [],
   "source": []
  }
 ],
 "metadata": {
  "kernelspec": {
   "display_name": "Python 3",
   "language": "python",
   "name": "python3"
  },
  "language_info": {
   "codemirror_mode": {
    "name": "ipython",
    "version": 3
   },
   "file_extension": ".py",
   "mimetype": "text/x-python",
   "name": "python",
   "nbconvert_exporter": "python",
   "pygments_lexer": "ipython3",
   "version": "3.7.3"
  }
 },
 "nbformat": 4,
 "nbformat_minor": 2
}
