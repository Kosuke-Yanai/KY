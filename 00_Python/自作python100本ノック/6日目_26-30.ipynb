{
 "cells": [
  {
   "cell_type": "markdown",
   "metadata": {},
   "source": [
    "## Q26: リスト問題"
   ]
  },
  {
   "cell_type": "markdown",
   "metadata": {},
   "source": [
    "```\n",
    "問題：\n",
    "１. \"mozzarella\",\"cinderella\",\"salmonella\"(「モッツァレラ」「シンデレラ」「サルモネラ菌」)\n",
    "の３つの文字列を要素としてthingsというリストを作成\n",
    "２. \"mozzarella\"の先頭文字を大文字にする\n",
    "３. \"cinderella\"を全て大文字にする\n",
    "４. \"salmonella\"を大文字にして、逆順にする。\n",
    "```"
   ]
  },
  {
   "cell_type": "code",
   "execution_count": 30,
   "metadata": {},
   "outputs": [
    {
     "name": "stdout",
     "output_type": "stream",
     "text": [
      "['Mozzarella', 'CINDERELLA', 'ALLENOMLAS']\n"
     ]
    }
   ],
   "source": [
    "def things(word_1st, word_2nd, word_3rd):\n",
    "    things = list([word_1st, word_2nd, word_3rd])\n",
    "    things[0] = things[0].capitalize()\n",
    "    things[1] =  things[1].upper()\n",
    "    things[2] = ''.join(list(reversed(things[2].upper())))\n",
    "    \n",
    "    print(things)\n",
    "\n",
    "things(\"mozzarella\",\"cinderella\",\"salmonella\")"
   ]
  },
  {
   "cell_type": "code",
   "execution_count": 35,
   "metadata": {},
   "outputs": [
    {
     "data": {
      "text/plain": [
       "'ALLENOMLAS'"
      ]
     },
     "execution_count": 35,
     "metadata": {},
     "output_type": "execute_result"
    }
   ],
   "source": [
    "# スライスを使った方が逆順は作りやすい\n",
    "things = list([\"mozzarella\",\"cinderella\",\"salmonella\"])\n",
    "things[2] = things[2].upper()[::-1]\n",
    "things[2]"
   ]
  },
  {
   "cell_type": "markdown",
   "metadata": {},
   "source": [
    "## Q27: 辞書問題"
   ]
  },
  {
   "cell_type": "markdown",
   "metadata": {},
   "source": [
    "```\n",
    "問題：\n",
    "1. e2fという英仏辞書を作り、それを表示\n",
    "この辞書にはdogはchien,catはchat,walrusはmourseという情報が入っている。\n",
    "2. 辞書e2fを使って、walrusという単語に対応するフランス語を表示\n",
    "3. e2fからf2eという仏英辞書を作成\n",
    "4. e2fから英単語だけを集合の形で表示せよ\n",
    "```"
   ]
  },
  {
   "cell_type": "code",
   "execution_count": 72,
   "metadata": {},
   "outputs": [
    {
     "name": "stdout",
     "output_type": "stream",
     "text": [
      "英仏辞書: {'dog': 'chien', 'cat': 'chat', 'walrus': 'mourse'}\n",
      "walrusという単語に対応するフランス語: mourse\n",
      "仏英辞書: {'chien': 'dog', 'chat': 'cat', 'mourse': 'walrus'}\n",
      "英単語一覧: {'cat', 'walrus', 'dog'}\n"
     ]
    }
   ],
   "source": [
    "dict_e2f = {\"dog\":\"chien\", \"cat\":\"chat\", \"walrus\":\"mourse\"}\n",
    "print(\"英仏辞書:\", dict_e2f)\n",
    "print(\"walrusという単語に対応するフランス語:\", dict_e2f[\"walrus\"])\n",
    "\n",
    "dict_f2e = {v: k for k, v in dict_e2f.items()}\n",
    "print(\"仏英辞書:\", dict_f2e)\n",
    "\n",
    "words_en = {v for v in dict_e2f.keys()}\n",
    "print(\"英単語一覧:\", words_en)"
   ]
  },
  {
   "cell_type": "code",
   "execution_count": 73,
   "metadata": {},
   "outputs": [
    {
     "data": {
      "text/plain": [
       "{'cat', 'dog', 'walrus'}"
      ]
     },
     "execution_count": 73,
     "metadata": {},
     "output_type": "execute_result"
    }
   ],
   "source": [
    "# setを使えば、よりシンプルにキーのみ集合で取り出せる\n",
    "set(dict_e2f.keys())"
   ]
  },
  {
   "cell_type": "markdown",
   "metadata": {},
   "source": [
    "## Q28: 多重レベルの辞書問題"
   ]
  },
  {
   "cell_type": "markdown",
   "metadata": {},
   "source": [
    "```\n",
    "問題：\n",
    "1. lifeという多重レベルの辞書を作る。\n",
    "\"animals\",\"plants\",\"other\"という最上位キーがあり、\n",
    "animalsキーは\"cats\",\"octopi\",\"emus\"というキーを持つ他の辞書を参照する。\n",
    "catsキーは\"Henri\",\"Grumpy\",\"lucy\"という文字列のリストを参照する。\n",
    "他のキーは空辞書を参照する。\n",
    "2. lifeの最上位のキーを表示せよ\n",
    "3. life[\"animals\"]のキーを表示せよ\n",
    "4. life[\"animals\"][\"cats\"]の値を表示せよ\n",
    "```"
   ]
  },
  {
   "cell_type": "code",
   "execution_count": 79,
   "metadata": {},
   "outputs": [
    {
     "name": "stdout",
     "output_type": "stream",
     "text": [
      "辞書lifeの最上位キー: ['animals', 'plants', 'other']\n",
      "辞書lifeのanimalsキーの持つキー: ['cats', 'octopi', 'emus']\n",
      "辞書lifeのanimalsのcatの要素を表示: ['Henri', 'Grumpy', 'lucy']\n"
     ]
    }
   ],
   "source": [
    "dict_life = {\"animals\":{\"cats\":[\"Henri\",\"Grumpy\",\"lucy\"], \"octopi\":[], \"emus\":[]}, \\\n",
    "             \"plants\":{}, \"other\":{}}\n",
    "print(\"辞書lifeの最上位キー:\", list(dict_life.keys()))\n",
    "print(\"辞書lifeのanimalsキーの持つキー:\", list(dict_life[\"animals\"].keys()))\n",
    "print(\"辞書lifeのanimalsのcatの要素を表示:\", dict_life[\"animals\"][\"cats\"])"
   ]
  },
  {
   "cell_type": "markdown",
   "metadata": {},
   "source": [
    "## Q29: リスト内包表記を使って、range(10)の偶数リストを作れ"
   ]
  },
  {
   "cell_type": "code",
   "execution_count": 80,
   "metadata": {},
   "outputs": [
    {
     "data": {
      "text/plain": [
       "[0, 2, 4, 6, 8, 10, 12, 14, 16, 18]"
      ]
     },
     "execution_count": 80,
     "metadata": {},
     "output_type": "execute_result"
    }
   ],
   "source": [
    "list_even = [i*2 for i in range(10)]\n",
    "list_even"
   ]
  },
  {
   "cell_type": "markdown",
   "metadata": {},
   "source": [
    "## Q30: 辞書内包表記を使って、squaresという辞書を作れ"
   ]
  },
  {
   "cell_type": "markdown",
   "metadata": {},
   "source": [
    "```\n",
    "条件： キーの値は、range(10)を使ってキーを返し、各キーの自乗とする。\n",
    "```"
   ]
  },
  {
   "cell_type": "code",
   "execution_count": 82,
   "metadata": {},
   "outputs": [
    {
     "data": {
      "text/plain": [
       "{0: 0, 1: 1, 2: 4, 3: 9, 4: 16, 5: 25, 6: 36, 7: 49, 8: 64, 9: 81}"
      ]
     },
     "execution_count": 82,
     "metadata": {},
     "output_type": "execute_result"
    }
   ],
   "source": [
    "dict_squares = {v: v**2 for v in range(10)}\n",
    "dict_squares"
   ]
  },
  {
   "cell_type": "code",
   "execution_count": null,
   "metadata": {},
   "outputs": [],
   "source": []
  }
 ],
 "metadata": {
  "kernelspec": {
   "display_name": "Python 3",
   "language": "python",
   "name": "python3"
  },
  "language_info": {
   "codemirror_mode": {
    "name": "ipython",
    "version": 3
   },
   "file_extension": ".py",
   "mimetype": "text/x-python",
   "name": "python",
   "nbconvert_exporter": "python",
   "pygments_lexer": "ipython3",
   "version": "3.8.5"
  }
 },
 "nbformat": 4,
 "nbformat_minor": 4
}
