{
 "cells": [
  {
   "cell_type": "markdown",
   "metadata": {},
   "source": [
    "## Q31 :集合内包表記を使って、range(10)の奇数の集合を作れ"
   ]
  },
  {
   "cell_type": "code",
   "execution_count": 3,
   "metadata": {},
   "outputs": [
    {
     "data": {
      "text/plain": [
       "{1, 3, 5, 7, 9}"
      ]
     },
     "execution_count": 3,
     "metadata": {},
     "output_type": "execute_result"
    }
   ],
   "source": [
    "set_odd = {i for i in range(10) if i % 2 != 0}\n",
    "set_odd"
   ]
  },
  {
   "cell_type": "markdown",
   "metadata": {},
   "source": [
    "## Q32 :rage(10)の数値に対しては、\"Got\"と数値を返すジェネレータ関数を作れ。"
   ]
  },
  {
   "cell_type": "markdown",
   "metadata": {},
   "source": [
    "```\n",
    "条件：・ ジェネレータ内包表記を使うこと\n",
    "　　　・ for文を使って反復処理すること\n",
    "出力例：Got 0, Got 1, Got 2 ・・・・・\n",
    "```"
   ]
  },
  {
   "cell_type": "code",
   "execution_count": 20,
   "metadata": {},
   "outputs": [
    {
     "name": "stdout",
     "output_type": "stream",
     "text": [
      "Got 0\n",
      "Got 1\n",
      "Got 2\n",
      "Got 3\n",
      "Got 4\n",
      "Got 5\n",
      "Got 6\n",
      "Got 7\n",
      "Got 8\n",
      "Got 9\n"
     ]
    }
   ],
   "source": [
    "def generator(num):\n",
    "    g = (i for i in range(num))\n",
    "    \n",
    "    for j in g:\n",
    "        print(\"Got\", j)\n",
    "\n",
    "generator(10)"
   ]
  },
  {
   "cell_type": "code",
   "execution_count": 19,
   "metadata": {},
   "outputs": [
    {
     "name": "stdout",
     "output_type": "stream",
     "text": [
      "Got 0\n",
      "Got 1\n",
      "Got 2\n",
      "Got 3\n",
      "Got 4\n",
      "Got 5\n",
      "Got 6\n",
      "Got 7\n",
      "Got 8\n",
      "Got 9\n"
     ]
    }
   ],
   "source": [
    "# 解答例はよりシンプル。\n",
    "def generator(num):\n",
    "    for thing in (\"Got %s\" % number for number in range(num)):\n",
    "        print(thing)\n",
    "\n",
    "generator(10)"
   ]
  },
  {
   "cell_type": "markdown",
   "metadata": {},
   "source": [
    "## Q33 :range(10)から奇数を返すジェネレータ関数を定義し、for文を使って、返された3番目の値を見つけて表示せよ。"
   ]
  },
  {
   "cell_type": "code",
   "execution_count": 25,
   "metadata": {},
   "outputs": [
    {
     "name": "stdout",
     "output_type": "stream",
     "text": [
      "Got 5\n"
     ]
    }
   ],
   "source": [
    "def generator(num):\n",
    "    count = 0\n",
    "    for thing in (\"Got %s\" % number for number in range(num) if number % 2 != 0):\n",
    "        count += 1\n",
    "        if count == 3:\n",
    "            print(thing)\n",
    "\n",
    "generator(10)"
   ]
  },
  {
   "cell_type": "code",
   "execution_count": 27,
   "metadata": {},
   "outputs": [
    {
     "name": "stdout",
     "output_type": "stream",
     "text": [
      "5\n"
     ]
    }
   ],
   "source": [
    "# enumerate()を使用して、「インデックス番号、要素」の順に取得できる\n",
    "def get_odds():\n",
    "    for number in range(1, 10, 2):\n",
    "        yield number\n",
    "\n",
    "for count, number in enumerate(get_odds(), 1):\n",
    "    if count == 3:\n",
    "        print(number)\n",
    "        break"
   ]
  },
  {
   "cell_type": "markdown",
   "metadata": {},
   "source": [
    "## Q34 :デコレータの定義"
   ]
  },
  {
   "cell_type": "markdown",
   "metadata": {},
   "source": [
    "```\n",
    "問題：関数が呼び出された時に\"start\"、終了した時に\"end\"を表示するtestというデコレータを定義せよ\n",
    "```"
   ]
  },
  {
   "cell_type": "code",
   "execution_count": 28,
   "metadata": {},
   "outputs": [
    {
     "name": "stdout",
     "output_type": "stream",
     "text": [
      "--start--\n",
      "Hello Decorator\n",
      "--end--\n"
     ]
    }
   ],
   "source": [
    "# 説明 https://qiita.com/mtb_beta/items/d257519b018b8cd0cc2e#fn1\n",
    "def deco(func):\n",
    "    def wrapper(*args, **kwargs):\n",
    "        print('--start--')\n",
    "        func(*args, **kwargs)\n",
    "        print('--end--')\n",
    "    return wrapper\n",
    "\n",
    "@deco\n",
    "def test():\n",
    "    print('Hello Decorator')\n",
    "\n",
    "test()"
   ]
  },
  {
   "cell_type": "markdown",
   "metadata": {},
   "source": [
    "## Q35 :例外のキャッチ"
   ]
  },
  {
   "cell_type": "markdown",
   "metadata": {},
   "source": [
    "```\n",
    "問題：以下のコードには例外が含まれる。例外に対するエラー処理を2つ追加せよ。　\n",
    "```"
   ]
  },
  {
   "cell_type": "code",
   "execution_count": 38,
   "metadata": {},
   "outputs": [
    {
     "name": "stdin",
     "output_type": "stream",
     "text": [
      "Position [q to quit]?  0\n"
     ]
    },
    {
     "name": "stdout",
     "output_type": "stream",
     "text": [
      "1\n"
     ]
    },
    {
     "name": "stdin",
     "output_type": "stream",
     "text": [
      "Position [q to quit]?  1\n"
     ]
    },
    {
     "name": "stdout",
     "output_type": "stream",
     "text": [
      "2\n"
     ]
    },
    {
     "name": "stdin",
     "output_type": "stream",
     "text": [
      "Position [q to quit]?  2\n"
     ]
    },
    {
     "name": "stdout",
     "output_type": "stream",
     "text": [
      "3\n"
     ]
    },
    {
     "name": "stdin",
     "output_type": "stream",
     "text": [
      "Position [q to quit]?  3\n"
     ]
    },
    {
     "name": "stdout",
     "output_type": "stream",
     "text": [
      "Input range is 0 to 2.\n"
     ]
    },
    {
     "name": "stdin",
     "output_type": "stream",
     "text": [
      "Position [q to quit]?  4\n"
     ]
    },
    {
     "name": "stdout",
     "output_type": "stream",
     "text": [
      "Input range is 0 to 2.\n"
     ]
    },
    {
     "name": "stdin",
     "output_type": "stream",
     "text": [
      "Position [q to quit]?  q\n"
     ]
    }
   ],
   "source": [
    "short_list = [1,2,3]\n",
    "while True:\n",
    "    value = input(\"Position [q to quit]? \")\n",
    "    if value == \"q\":\n",
    "        break\n",
    "    elif int(value) < 0 or 2 < int(value):\n",
    "        print(\"Input range is 0 to 2.\")\n",
    "    else:\n",
    "        position = int(value)\n",
    "        print(short_list[position])"
   ]
  },
  {
   "cell_type": "code",
   "execution_count": 41,
   "metadata": {},
   "outputs": [
    {
     "name": "stdin",
     "output_type": "stream",
     "text": [
      "Position [q to quit]?  5\n"
     ]
    },
    {
     "name": "stdout",
     "output_type": "stream",
     "text": [
      "Bad index: 5 list index out of range\n"
     ]
    },
    {
     "name": "stdin",
     "output_type": "stream",
     "text": [
      "Position [q to quit]?  q\n"
     ]
    }
   ],
   "source": [
    "#exceptによる例外処理\n",
    "short_list = [1,2,3]\n",
    "while True:\n",
    "    value = input(\"Position [q to quit]? \")\n",
    "    if value == \"q\":\n",
    "        break\n",
    "    try:\n",
    "        position = int(value)\n",
    "        print(short_list[position])\n",
    "    except IndexError as err:\n",
    "        print(\"Bad index:\", position)\n",
    "    except Exception as other:\n",
    "        print(\"something else broke:\", other)"
   ]
  },
  {
   "cell_type": "markdown",
   "metadata": {},
   "source": [
    "## Q36 :zip()を使ってmoviesという辞書を作れ"
   ]
  },
  {
   "cell_type": "markdown",
   "metadata": {},
   "source": [
    "```\n",
    "条件：\n",
    "辞書は、titles = [\"Creature of Habit\", \"Crewel Fate\"]というリストと\n",
    "plots = [\"A nun turns into a monster\", \"A haunted yarn shop\"]というリストを組み合わせて作るものとする。\n",
    "```"
   ]
  },
  {
   "cell_type": "code",
   "execution_count": 4,
   "metadata": {},
   "outputs": [
    {
     "name": "stdout",
     "output_type": "stream",
     "text": [
      "{'Creature of Habit': 'A nun turns into a monster', 'Crewel Fate': 'A haunted yarn shop'}\n"
     ]
    }
   ],
   "source": [
    "titles = [\"Creature of Habit\", \"Crewel Fate\"]\n",
    "plots = [\"A nun turns into a monster\", \"A haunted yarn shop\"]\n",
    "movies = {}\n",
    "\n",
    "for title, plot in zip(titles, plots):\n",
    "    movies[title] = plot\n",
    "\n",
    "print(movies)"
   ]
  },
  {
   "cell_type": "code",
   "execution_count": 5,
   "metadata": {},
   "outputs": [
    {
     "data": {
      "text/plain": [
       "{'Creature of Habit': 'A nun turns into a monster',\n",
       " 'Crewel Fate': 'A haunted yarn shop'}"
      ]
     },
     "execution_count": 5,
     "metadata": {},
     "output_type": "execute_result"
    }
   ],
   "source": [
    "# 回答例。forループもいらんのか。\n",
    "titles = [\"Creature of Habit\", \"Crewel Fate\"]\n",
    "plots = [\"A nun turns into a monster\", \"A haunted yarn shop\"]\n",
    "\n",
    "movies = dict(zip(titles, plots))\n",
    "movies"
   ]
  },
  {
   "cell_type": "markdown",
   "metadata": {},
   "source": [
    "## Q37 :クラスのオブジェクトを辞書から直接初期化しよう"
   ]
  },
  {
   "cell_type": "markdown",
   "metadata": {},
   "source": [
    "```\n",
    "条件：以下のクラスと辞書を使用。\n",
    "\n",
    "引数の特別な形式に注意ですね・\n",
    "*args: 任意の固定引数が入ったタプル\n",
    "**kwargs: 任意のキーワード引数が入った辞書\n",
    "```"
   ]
  },
  {
   "cell_type": "code",
   "execution_count": 11,
   "metadata": {},
   "outputs": [
    {
     "name": "stdout",
     "output_type": "stream",
     "text": [
      "Hydrogem\n",
      "H\n",
      "1\n"
     ]
    }
   ],
   "source": [
    "#クラス\n",
    "class Elements:\n",
    "    def __init__(self, name, symbol, number):\n",
    "        self.name = name\n",
    "        self.symbol = symbol\n",
    "        self.number = number\n",
    "#辞書\n",
    "el_dict = {\"name\": \"Hydrogem\", \"symbol\": \"H\", \"number\": 1 }\n",
    "element = Elements.__new__(Elements)\n",
    "element.__dict__.update(el_dict)\n",
    "\n",
    "print(element.name)\n",
    "print(element.symbol)\n",
    "print(element.number)"
   ]
  },
  {
   "cell_type": "code",
   "execution_count": 12,
   "metadata": {},
   "outputs": [
    {
     "data": {
      "text/plain": [
       "'Hydrogem'"
      ]
     },
     "execution_count": 12,
     "metadata": {},
     "output_type": "execute_result"
    }
   ],
   "source": [
    "# 回答例。もっとシンプルに。\n",
    "hydrogem = Elements(**el_dict) # 辞書を引数に渡すときは「**」 をつける\n",
    "hydrogem.name"
   ]
  },
  {
   "cell_type": "markdown",
   "metadata": {},
   "source": [
    "## Q38 :クラスを編集しprint(hydrogem)だけでオブジェクト属性の値が表示されるようにせよ"
   ]
  },
  {
   "cell_type": "code",
   "execution_count": 1,
   "metadata": {},
   "outputs": [],
   "source": [
    "#問題のクラス\n",
    "class Elements:\n",
    "    def __init__(self, name, symbol, number):\n",
    "        self.name = name\n",
    "        self.symbol = symbol\n",
    "        self.number = number"
   ]
  },
  {
   "cell_type": "code",
   "execution_count": 23,
   "metadata": {},
   "outputs": [
    {
     "name": "stdout",
     "output_type": "stream",
     "text": [
      "Hydrogem\n"
     ]
    }
   ],
   "source": [
    "# 修正後\n",
    "class Elements:\n",
    "    def __init__(self, name, symbol, number):\n",
    "        self.name = name\n",
    "        self.symbol = symbol\n",
    "        self.number = number\n",
    "    \n",
    "    def __str__(self):\n",
    "        return str(self.name)\n",
    "\n",
    "el_dict = {\"name\": \"Hydrogem\", \"symbol\": \"H\", \"number\": 1 }\n",
    "hydrogem = Elements(**el_dict)\n",
    "print(hydrogem)"
   ]
  },
  {
   "cell_type": "markdown",
   "metadata": {},
   "source": [
    "## Q39 :クラスを編集し、name,symbol,number属性を非公開にし、そしてそれぞれについて値を返すゲッターを定義せよ。"
   ]
  },
  {
   "cell_type": "code",
   "execution_count": 34,
   "metadata": {},
   "outputs": [
    {
     "data": {
      "text/plain": [
       "'Hydrogem'"
      ]
     },
     "execution_count": 34,
     "metadata": {},
     "output_type": "execute_result"
    }
   ],
   "source": [
    "#問題\n",
    "class Elements:\n",
    "    def __init__(self, name, symbol, number):\n",
    "        self.__name = name\n",
    "        self.__symbol = symbol\n",
    "        self.__number = number\n",
    "\n",
    "    @property\n",
    "    def name(self):\n",
    "        return self.__name\n",
    "        \n",
    "el_dict = {\"name\": \"Hydrogem\", \"symbol\": \"H\", \"number\": 1 }\n",
    "hydrogem = Elements(**el_dict)\n",
    "hydrogem.name"
   ]
  },
  {
   "cell_type": "markdown",
   "metadata": {},
   "source": [
    "## Q40 :Bear, Rabbit, Octothorpeの3つのクラスを定義せよ。"
   ]
  },
  {
   "cell_type": "markdown",
   "metadata": {},
   "source": [
    "```\n",
    "条件：\n",
    "それぞれについて唯一のメソッド、eats()を定義する。\n",
    "eats()は、\"berries\"(Bear)、\"clover\"(Rabbit)、\"campers\"(Octothorpe)を返すものとする。\n",
    "それぞれのクラスからオブジェクトを作り、何を食べるのかを表示せよ。\n",
    "```"
   ]
  },
  {
   "cell_type": "code",
   "execution_count": 53,
   "metadata": {},
   "outputs": [
    {
     "data": {
      "text/plain": [
       "'berries'"
      ]
     },
     "execution_count": 53,
     "metadata": {},
     "output_type": "execute_result"
    }
   ],
   "source": [
    "class Bear:\n",
    "    def eats(self):\n",
    "        return \"berries\"\n",
    "\n",
    "food_bear = Bear() # インスタンス化\n",
    "food_bear.eats()"
   ]
  }
 ],
 "metadata": {
  "kernelspec": {
   "display_name": "Python 3",
   "language": "python",
   "name": "python3"
  },
  "language_info": {
   "codemirror_mode": {
    "name": "ipython",
    "version": 3
   },
   "file_extension": ".py",
   "mimetype": "text/x-python",
   "name": "python",
   "nbconvert_exporter": "python",
   "pygments_lexer": "ipython3",
   "version": "3.8.5"
  }
 },
 "nbformat": 4,
 "nbformat_minor": 4
}
