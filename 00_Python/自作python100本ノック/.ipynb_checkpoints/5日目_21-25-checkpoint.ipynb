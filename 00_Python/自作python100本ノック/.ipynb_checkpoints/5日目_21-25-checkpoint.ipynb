{
 "cells": [
  {
   "cell_type": "markdown",
   "metadata": {},
   "source": [
    "## Q21: 支払いパターンを計算して表示"
   ]
  },
  {
   "cell_type": "markdown",
   "metadata": {},
   "source": [
    "```\n",
    "問題：あなたは、500 円玉を A 枚、100 円玉を B 枚、50 円玉を C 枚持っています。\n",
    "これらの硬貨の中から何枚かを選び、合計金額をちょうどX円にする方法は何通りありますか。\n",
    "条件：Xは50の倍数である\n",
    "```"
   ]
  },
  {
   "cell_type": "code",
   "execution_count": 17,
   "metadata": {},
   "outputs": [
    {
     "data": {
      "text/plain": [
       "5"
      ]
     },
     "execution_count": 17,
     "metadata": {},
     "output_type": "execute_result"
    }
   ],
   "source": [
    "def PaymentPattern(total_fee, yen_500, yen_100, yen_50):\n",
    "    pattern = 0\n",
    "    for i in range(yen_500 + 1):\n",
    "        for j in range(yen_100 + 1):\n",
    "            for k in range(yen_50 + 1):\n",
    "                if i*500 + j*100 + k*50 == total_fee: \n",
    "                    pattern += 1\n",
    "    return pattern\n",
    "\n",
    "PaymentPattern(500, 1, 3, 10)"
   ]
  },
  {
   "cell_type": "markdown",
   "metadata": {},
   "source": [
    "## Q22: ポケットを叩くとビスケットが２倍"
   ]
  },
  {
   "cell_type": "markdown",
   "metadata": {},
   "source": [
    "```\n",
    "問題：Saraは、「ふしぎなポケット」を手に入れた。\n",
    "「ふしぎなポケット」は、いくつかビスケットを入れて叩くと、入れたビスケットの数が２倍になる。\n",
    "Saraは最初1枚のビスケットを持っていて「ふしぎなポケット」を使ってN枚のビスケットにして、\n",
    "全部食べたいと思っている。（食べきれないので枚数をオーバーしてはいけない）\n",
    "この時、ちょうどN枚にするには、Saraは最低何回ポケットを叩く必要があるか求めてください。\n",
    "```"
   ]
  },
  {
   "cell_type": "code",
   "execution_count": 51,
   "metadata": {},
   "outputs": [
    {
     "name": "stdout",
     "output_type": "stream",
     "text": [
      "3回ポケットを叩いてください\n"
     ]
    }
   ],
   "source": [
    "def pocket(aim):\n",
    "    count = 0\n",
    "    biskets = 1\n",
    "    while biskets < aim:\n",
    "        count += 1\n",
    "        biskets = 2 ** count\n",
    "    else:\n",
    "        print(\"{}回ポケットを叩いてください\".format(count))\n",
    "\n",
    "pocket(5)"
   ]
  },
  {
   "cell_type": "markdown",
   "metadata": {},
   "source": [
    "## Q23: パスワードの安全性を確認する"
   ]
  },
  {
   "cell_type": "markdown",
   "metadata": {},
   "source": [
    "```\n",
    "問題： 与えられた文字列がパスワードとして安全かどうか確認せよ。\n",
    "条件：安全なパスワードとは10文字以上であり、大文字、小文字、数字が必ず１つは含まれているものとする。\n",
    "```"
   ]
  },
  {
   "cell_type": "code",
   "execution_count": 67,
   "metadata": {},
   "outputs": [
    {
     "name": "stdout",
     "output_type": "stream",
     "text": [
      "このパスワードは安全です。\n"
     ]
    }
   ],
   "source": [
    "def StrCheck(word):\n",
    "#    if len(password) >= 10 and not password.isalpha() and not password.isnumeric() and not password.islower() and not password.isupper():\n",
    "    if len(word) >= 10 and any(map(str.islower, word)) and any(map(str.isupper, word)) and any(map(str.isdigit, word)):\n",
    "        print(\"このパスワードは安全です。\")\n",
    "    else:\n",
    "        print(\"パスワードを直ちに変更して下さい。\")\n",
    "\n",
    "StrCheck(\"aBfidfeee1e\")"
   ]
  },
  {
   "cell_type": "markdown",
   "metadata": {},
   "source": [
    "## Q24: 文字列の内最頻な文字を表示（小文字,alphabet順）"
   ]
  },
  {
   "cell_type": "markdown",
   "metadata": {},
   "source": [
    "```\n",
    "条件：与えられる文字列に制限はないが、結果は全て小文字で表示し\n",
    "１番多い頻度の文字が複数個存在する場合は、アルファベット順で早い方を表示\n",
    "```"
   ]
  },
  {
   "cell_type": "code",
   "execution_count": 125,
   "metadata": {},
   "outputs": [
    {
     "name": "stdout",
     "output_type": "stream",
     "text": [
      "最頻文字： g , 回数： 6\n"
     ]
    }
   ],
   "source": [
    "import collections\n",
    "\n",
    "def StrCount(word):\n",
    "    chk_word = list(str.lower(word))\n",
    "    chk_word.sort()\n",
    "    values = collections.Counter(chk_word).values()\n",
    "    keys = collections.Counter(chk_word).keys()\n",
    "    \n",
    "    max_count = max(values)\n",
    "    max_index = list(values).index(max_count)\n",
    "    max_word = list(keys)[max_index]\n",
    "    \n",
    "    print(\"最頻文字：\", max_word, \", 回数：\", max_count)\n",
    "\n",
    "StrCount(\"ggggoeiojigeg\")"
   ]
  },
  {
   "cell_type": "code",
   "execution_count": 126,
   "metadata": {},
   "outputs": [
    {
     "name": "stdout",
     "output_type": "stream",
     "text": [
      "g\n"
     ]
    }
   ],
   "source": [
    "#実行例。よりシンプル。\n",
    "import string\n",
    "\n",
    "def find_frequent_word(text):\n",
    "    text = text.lower()\n",
    "    return max(string.ascii_lowercase, key=text.count)\n",
    "\n",
    "a = find_frequent_word(\"ggggoeiojigeg\")\n",
    "print(a)"
   ]
  },
  {
   "cell_type": "markdown",
   "metadata": {},
   "source": [
    "## Q25 文字列の内最も連続された文字の個数を数える"
   ]
  },
  {
   "cell_type": "markdown",
   "metadata": {},
   "source": [
    "```\n",
    "複数の文字列が対象となった場合は遅く登場した方をピックアップ対象とする。\n",
    "```"
   ]
  },
  {
   "cell_type": "code",
   "execution_count": 141,
   "metadata": {},
   "outputs": [
    {
     "name": "stdout",
     "output_type": "stream",
     "text": [
      "最大カウント： 4 , 対象文字： g\n"
     ]
    }
   ],
   "source": [
    "def sequential_counter(word):\n",
    "    count = 1\n",
    "    max_count = 1\n",
    "    max_word = \"なし\"\n",
    "    for i in range(len(word)-1):\n",
    "        if word[i] == word[i+1]:\n",
    "            count += 1\n",
    "            max_count = count\n",
    "            max_word = word[i]\n",
    "        else:\n",
    "            count = 1\n",
    "    \n",
    "    print(\"最大カウント：\", max_count, \", 対象文字：\", max_word)\n",
    "\n",
    "sequential_counter(\"fefffeegggge\")\n",
    "     "
   ]
  },
  {
   "cell_type": "code",
   "execution_count": null,
   "metadata": {},
   "outputs": [],
   "source": []
  }
 ],
 "metadata": {
  "kernelspec": {
   "display_name": "Python 3",
   "language": "python",
   "name": "python3"
  },
  "language_info": {
   "codemirror_mode": {
    "name": "ipython",
    "version": 3
   },
   "file_extension": ".py",
   "mimetype": "text/x-python",
   "name": "python",
   "nbconvert_exporter": "python",
   "pygments_lexer": "ipython3",
   "version": "3.8.5"
  }
 },
 "nbformat": 4,
 "nbformat_minor": 4
}
