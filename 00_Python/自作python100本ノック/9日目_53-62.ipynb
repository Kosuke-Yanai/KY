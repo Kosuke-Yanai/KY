{
 "cells": [
  {
   "cell_type": "markdown",
   "metadata": {},
   "source": [
    "## Q53:　以下の16進文字列が有名なGIFファイルであるか確認せよ。"
   ]
  },
  {
   "cell_type": "markdown",
   "metadata": {},
   "source": [
    "```\n",
    "問題： 以下の16進文字列をbytes変数に変換し、その先頭が、”GIF89a”（有名なGIFファイル）という文字列になっているか確認せよ。\n",
    "```"
   ]
  },
  {
   "cell_type": "code",
   "execution_count": 7,
   "metadata": {},
   "outputs": [
    {
     "data": {
      "text/plain": [
       "True"
      ]
     },
     "execution_count": 7,
     "metadata": {},
     "output_type": "execute_result"
    }
   ],
   "source": [
    "#16進文字列\n",
    "hex_str = '47494638396101000100800000000000ffffff21f90401000000002c000000000100010000020144003b'\n",
    "\n",
    "import binascii\n",
    "gif = binascii.unhexlify(hex_str)\n",
    "gif[:6] == b'GIF89a'"
   ]
  },
  {
   "cell_type": "markdown",
   "metadata": {},
   "source": [
    "## Q54:test.txtというファイルにtest１の内容を書き込みなさい"
   ]
  },
  {
   "cell_type": "code",
   "execution_count": 9,
   "metadata": {},
   "outputs": [],
   "source": [
    "#text1\n",
    "test1 = \"This is a test of the emergency text system\"\n",
    "\n",
    "f = open('day9_Q54.txt', 'w')\n",
    "f.write(test1)\n",
    "f.close()"
   ]
  },
  {
   "cell_type": "markdown",
   "metadata": {},
   "source": [
    "## Q55:test.txtをtest2変数に読み出し、test1とtest2が同じになっているか確認せよ"
   ]
  },
  {
   "cell_type": "markdown",
   "metadata": {},
   "source": [
    "```\n",
    "条件：withを使うこと\n",
    "```"
   ]
  },
  {
   "cell_type": "code",
   "execution_count": 14,
   "metadata": {},
   "outputs": [
    {
     "data": {
      "text/plain": [
       "True"
      ]
     },
     "execution_count": 14,
     "metadata": {},
     "output_type": "execute_result"
    }
   ],
   "source": [
    "test1 = \"This is a test of the emergency text system\"\n",
    "\n",
    "with open('day9_Q54.txt', 'r') as readfile:\n",
    "    test2 = readfile.read()\n",
    "\n",
    "test1 == test2"
   ]
  },
  {
   "cell_type": "markdown",
   "metadata": {},
   "source": [
    "## Q56:次のテキストをbooks.csvというファイルに保存した後、その内容を変数booksに読み込み、booksの内容を表示しよう。"
   ]
  },
  {
   "cell_type": "markdown",
   "metadata": {},
   "source": [
    "```\n",
    "条件：csvモジュールとそのDictReaderメソッドを使うこと\n",
    "```"
   ]
  },
  {
   "cell_type": "code",
   "execution_count": 1,
   "metadata": {},
   "outputs": [
    {
     "name": "stdout",
     "output_type": "stream",
     "text": [
      "[OrderedDict([('author', 'J R R Tolkien'), (' book', ' The Hobbit ')]), OrderedDict([('author', 'Lynne Truss'), (' book', ' \"Eats'), (None, [' Shoots & Leaves\" '])])]\n"
     ]
    }
   ],
   "source": [
    "text = '''author, book\n",
    "J R R Tolkien, The Hobbit \n",
    "Lynne Truss, \"Eats, Shoots & Leaves\" '''\n",
    "\n",
    "import csv\n",
    "\n",
    "with open('books.csv', 'w') as csvfile:\n",
    "    csvfile.write(text)\n",
    "    \n",
    "with open('books.csv', 'r') as csvfile:\n",
    "    books = csv.DictReader(csvfile)\n",
    "    book = [raw for raw in books]\n",
    "    print(book)"
   ]
  },
  {
   "cell_type": "markdown",
   "metadata": {},
   "source": [
    "## Q57: テクストファイルの中から、行番号で指定した行を読みたい"
   ]
  },
  {
   "cell_type": "code",
   "execution_count": 2,
   "metadata": {},
   "outputs": [
    {
     "name": "stdout",
     "output_type": "stream",
     "text": [
      "A\n",
      "\n"
     ]
    }
   ],
   "source": [
    "with open('alphabet.txt', 'r') as readfile:\n",
    "    data = readfile.readlines()[3]\n",
    "    print(data)"
   ]
  },
  {
   "cell_type": "markdown",
   "metadata": {},
   "source": [
    "## Q58: ファイルの行数を計算したい"
   ]
  },
  {
   "cell_type": "code",
   "execution_count": 4,
   "metadata": {},
   "outputs": [
    {
     "name": "stdout",
     "output_type": "stream",
     "text": [
      "15\n"
     ]
    }
   ],
   "source": [
    "with open('alphabet.txt', 'r') as readfile:\n",
    "    count = len(readfile.readlines())\n",
    "    print(count)"
   ]
  },
  {
   "cell_type": "markdown",
   "metadata": {},
   "source": [
    "## Q59： many_books.dbというSQLiteデータベースを作り、その中にtitle(文字列)、\"author\"(文字列)、\"year\"(整数)というフィールドをもつbookというテーブルを作れ"
   ]
  },
  {
   "cell_type": "markdown",
   "metadata": {},
   "source": [
    "```\n",
    "条件：sqlite3モジュールを使うこと\n",
    "```"
   ]
  },
  {
   "cell_type": "code",
   "execution_count": 53,
   "metadata": {},
   "outputs": [],
   "source": [
    "#データベースの作成\n",
    "import sqlite3\n",
    "\n",
    "db = sqlite3.connect(\"books.db\")# connect()：データベースへの接続を開設する（ユーザー名、パスワード、サーバーアドレス、その他引数が指定可能）\n",
    "curs = db.cursor()#クエリーを管理するカーソルオブジェクトを作る\n",
    "curs.execute('''create table if not exists book (title text, author text, year int)''')# データベースに対してSQLコマンドを実行する\n",
    "\n",
    "db.commit()"
   ]
  },
  {
   "cell_type": "code",
   "execution_count": 54,
   "metadata": {},
   "outputs": [
    {
     "name": "stdout",
     "output_type": "stream",
     "text": [
      "<sqlite3.Cursor object at 0x000001B891E4FE30>\n",
      "[]\n"
     ]
    }
   ],
   "source": [
    "select_book = \"SELECT * FROM book\"\n",
    "\n",
    "print(cur.execute(select_book))\n",
    "print(cur.fetchall())"
   ]
  },
  {
   "cell_type": "markdown",
   "metadata": {},
   "source": [
    "## Q61: 次のテキストをmany_books.csvというファイルに保存し、そのデータをbookテーブルに挿入せよ。"
   ]
  },
  {
   "cell_type": "code",
   "execution_count": 55,
   "metadata": {},
   "outputs": [],
   "source": [
    "text = '''title,author,year\n",
    "The Weirdstone of Brisingamen, Alan Garner, 1960\n",
    "Perdido Street Station, ChinaMiéville,2000\n",
    "Thud!, Terry Pratchett,2005\n",
    "The Spellman Files, Lisa Lutz,2007\n",
    "Small Gods, Terry Pratchett, 1992'''"
   ]
  },
  {
   "cell_type": "code",
   "execution_count": 56,
   "metadata": {},
   "outputs": [],
   "source": [
    "import csv\n",
    "import sqlite3\n",
    "\n",
    "ins_str = \"insert into book values(?, ?, ?)\"\n",
    "\n",
    "with open(\"many_books.csv\", \"rt\") as infile:\n",
    "    books = csv.DictReader(infile)\n",
    "    for book in books:\n",
    "        curs.execute(ins_str, (book[\"title\"], book[\"author\"], book[\"year\"]))\n",
    "\n",
    "db.commit()"
   ]
  },
  {
   "cell_type": "code",
   "execution_count": 70,
   "metadata": {},
   "outputs": [
    {
     "name": "stdout",
     "output_type": "stream",
     "text": [
      "<sqlite3.Cursor object at 0x000001B8920D55E0>\n",
      "[('The Weirdstone of Brisingamen', ' Alan Garner', 1960), ('Perdido Street Station', ' ChinaMiﾃｩville', 2000), ('Thud!', ' Terry Pratchett', 2005), ('The Spellman Files', ' Lisa Lutz', 2007), ('Small Gods', ' Terry Pratchett', 1992)]\n"
     ]
    }
   ],
   "source": [
    "select_book = \"SELECT * FROM book\"\n",
    "\n",
    "print(curs.execute(select_book))\n",
    "print(curs.fetchall())"
   ]
  },
  {
   "cell_type": "markdown",
   "metadata": {},
   "source": [
    "## Q62: bookテーブルのtitle列を選択し、アルファベット順に表示せよ。"
   ]
  },
  {
   "cell_type": "code",
   "execution_count": 69,
   "metadata": {},
   "outputs": [
    {
     "name": "stdout",
     "output_type": "stream",
     "text": [
      "('Perdido Street Station',)\n",
      "('Small Gods',)\n",
      "('The Spellman Files',)\n",
      "('The Weirdstone of Brisingamen',)\n",
      "('Thud!',)\n"
     ]
    }
   ],
   "source": [
    "sql = \"select title from book order by title asc\"\n",
    "for row in db.execute(sql):\n",
    "    print(row)"
   ]
  },
  {
   "cell_type": "code",
   "execution_count": null,
   "metadata": {},
   "outputs": [],
   "source": []
  }
 ],
 "metadata": {
  "kernelspec": {
   "display_name": "Python 3",
   "language": "python",
   "name": "python3"
  },
  "language_info": {
   "codemirror_mode": {
    "name": "ipython",
    "version": 3
   },
   "file_extension": ".py",
   "mimetype": "text/x-python",
   "name": "python",
   "nbconvert_exporter": "python",
   "pygments_lexer": "ipython3",
   "version": "3.7.3"
  }
 },
 "nbformat": 4,
 "nbformat_minor": 4
}
