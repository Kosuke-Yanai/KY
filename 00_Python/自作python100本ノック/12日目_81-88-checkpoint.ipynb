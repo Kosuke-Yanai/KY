{
 "cells": [
  {
   "cell_type": "markdown",
   "metadata": {},
   "source": [
    "## Q81: TwoSums"
   ]
  },
  {
   "cell_type": "markdown",
   "metadata": {},
   "source": [
    "```\n",
    "問題：整数配列とターゲットが渡された時、整数配列の内足したら答えがターゲットになる2つの数字を返しなさい。\n",
    "例: twosums([2, 7, 11, 15],9) ==> 2,7\n",
    "```"
   ]
  },
  {
   "cell_type": "code",
   "execution_count": 6,
   "metadata": {},
   "outputs": [
    {
     "data": {
      "text/plain": [
       "[(2, 5), (3, 4)]"
      ]
     },
     "execution_count": 6,
     "metadata": {},
     "output_type": "execute_result"
    }
   ],
   "source": [
    "import itertools\n",
    "\n",
    "def TwoSums(numbers, target):\n",
    "    answer = []\n",
    "    for i in itertools.combinations(numbers, 2):\n",
    "        if sum(i) == target:\n",
    "            answer.append(i)\n",
    "    return answer\n",
    "\n",
    "numbers = [1, 2, 3, 4, 5]\n",
    "target = 7\n",
    "TwoSums(numbers, target)"
   ]
  },
  {
   "cell_type": "markdown",
   "metadata": {},
   "source": [
    "## Q82: Reverse Integer"
   ]
  },
  {
   "cell_type": "markdown",
   "metadata": {},
   "source": [
    "```\n",
    "問題： 渡される整数を逆にして返せ\n",
    "```"
   ]
  },
  {
   "cell_type": "code",
   "execution_count": 22,
   "metadata": {},
   "outputs": [
    {
     "data": {
      "text/plain": [
       "51943"
      ]
     },
     "execution_count": 22,
     "metadata": {},
     "output_type": "execute_result"
    }
   ],
   "source": [
    "def ReverseInteger(integer):\n",
    "    return int(str(integer)[::-1])\n",
    "\n",
    "integer = 34915\n",
    "ReverseInteger(integer)"
   ]
  },
  {
   "cell_type": "markdown",
   "metadata": {},
   "source": [
    "## Q83:Roman to Int (ローマ字から整数へ)"
   ]
  },
  {
   "cell_type": "markdown",
   "metadata": {},
   "source": [
    "```\n",
    "問題：\n",
    "(0~4999)までのローマ字を数字に変換せよ。ちなみにローマ数字と整数は以下。\n",
    "\n",
    "let romanValues = [“M”, “CM”, “D”, “CD”, “C”, “XC”, “L”, “XL”, “X”, “IX”, “V”, “IV”, “I”]\n",
    "let arabicValues = [1000, 900, 500, 400, 100, 90, 50, 40, 10, 9, 5, 4, 1]\n",
    "```"
   ]
  },
  {
   "cell_type": "code",
   "execution_count": 1,
   "metadata": {},
   "outputs": [
    {
     "data": {
      "text/plain": [
       "'MMMMCMXCIX'"
      ]
     },
     "execution_count": 1,
     "metadata": {},
     "output_type": "execute_result"
    }
   ],
   "source": [
    "def RomanToInt(number):\n",
    "    answer = []\n",
    "    RomanNumDict = {1000:'M', 900:'CM', 500:'D', 400:'CD', 100:'C', 90:'XC', \\\n",
    "                    50:'L', 40:'XL', 10:'X',  9:'IX', 5:'V', 4:'IV', 1:'I'}\n",
    "    for key in RomanNumDict.keys():\n",
    "        quotient = number // key\n",
    "        number -= (quotient * key)\n",
    "        for i in range(int(quotient)):\n",
    "            answer.append(RomanNumDict[key])\n",
    "    return ''.join(answer)\n",
    "\n",
    "number = 4999\n",
    "RomanToInt(number)\n"
   ]
  },
  {
   "cell_type": "markdown",
   "metadata": {},
   "source": [
    "## Q84: Valid Parentheses"
   ]
  },
  {
   "cell_type": "markdown",
   "metadata": {},
   "source": [
    "```\n",
    "問題: (), {}, []など，括弧が有効であるかチェックをしてBoolを返しなさい。\n",
    "```"
   ]
  },
  {
   "cell_type": "code",
   "execution_count": 16,
   "metadata": {},
   "outputs": [
    {
     "data": {
      "text/plain": [
       "True"
      ]
     },
     "execution_count": 16,
     "metadata": {},
     "output_type": "execute_result"
    }
   ],
   "source": [
    "def ValidParentheses(text):\n",
    "    stack = []\n",
    "    PareDict = {'(':')', '{':'}', '[':']'}\n",
    "    for elm in text:\n",
    "        if elm in PareDict.keys():\n",
    "            stack.append(PareDict[elm])\n",
    "        elif elm in PareDict.values() and elm != stack.pop():\n",
    "            return False\n",
    "    return False if len(stack) else True\n",
    "\n",
    "text = 'ab(rr)'\n",
    "ValidParentheses(text)"
   ]
  },
  {
   "cell_type": "markdown",
   "metadata": {},
   "source": [
    "## Q85: 「パタトクカシーー」という文字列の1,3,5,7文字目を取り出して連結した文字列を得よ"
   ]
  },
  {
   "cell_type": "code",
   "execution_count": 17,
   "metadata": {},
   "outputs": [
    {
     "data": {
      "text/plain": [
       "'パトカー'"
      ]
     },
     "execution_count": 17,
     "metadata": {},
     "output_type": "execute_result"
    }
   ],
   "source": [
    "text = 'パタトクカシーー'\n",
    "text2 = text[::2]\n",
    "text2"
   ]
  },
  {
   "cell_type": "markdown",
   "metadata": {},
   "source": [
    "## Q86:　「パトカー」＋「タクシー」の文字を先頭から交互に連結して文字列「パタトクカシーー」を得よ"
   ]
  },
  {
   "cell_type": "code",
   "execution_count": 20,
   "metadata": {},
   "outputs": [
    {
     "data": {
      "text/plain": [
       "'パタトクカシーー'"
      ]
     },
     "execution_count": 20,
     "metadata": {},
     "output_type": "execute_result"
    }
   ],
   "source": [
    "text1 = 'パトカー'\n",
    "text2 = 'タクシー'\n",
    "text3 = ''\n",
    "\n",
    "for chr1, chr2 in zip(text1, text2):\n",
    "    text3 += chr1 + chr2\n",
    "\n",
    "text3"
   ]
  },
  {
   "cell_type": "code",
   "execution_count": 27,
   "metadata": {},
   "outputs": [
    {
     "name": "stdout",
     "output_type": "stream",
     "text": [
      "パタトクカシーー\n"
     ]
    }
   ],
   "source": [
    "# 回答例。１行でシンプル。\n",
    "print(''.join([a + b for a, b in zip(text1, text2)]))"
   ]
  },
  {
   "cell_type": "markdown",
   "metadata": {},
   "source": [
    "## Q87:　単語の文字数"
   ]
  },
  {
   "cell_type": "code",
   "execution_count": 34,
   "metadata": {},
   "outputs": [
    {
     "data": {
      "text/plain": [
       "[3, 1, 4, 1, 5, 9, 2, 6, 5, 3, 5, 8]"
      ]
     },
     "execution_count": 34,
     "metadata": {},
     "output_type": "execute_result"
    }
   ],
   "source": [
    "def CountWords(text):\n",
    "    count_list = []\n",
    "    word_list = re.findall(r'\\w+', text)\n",
    "    for word in word_list:\n",
    "        count_list.append(len(word))\n",
    "    return count_list\n",
    "    \n",
    "text = \"Now I need a drink, alcoholic of course, after the heavy lectures.\"\n",
    "CountWords(text)"
   ]
  },
  {
   "cell_type": "markdown",
   "metadata": {},
   "source": [
    "## Q88: Typoglycemia"
   ]
  },
  {
   "cell_type": "markdown",
   "metadata": {},
   "source": [
    "```\n",
    "問題：\n",
    "スペースで区切られた単語列に対して，各単語の先頭と末尾の文字は残し，\n",
    "それ以外の文字の順序をランダムに並び替えるプログラムを作成せよ．\n",
    "条件：\n",
    "長さが４以下の単語は並び替えない。\n",
    "\n",
    "（例えば\"I couldn't believe that I could actually understand\n",
    "what I was reading : the phenomenal power of the human mind .\"）\n",
    "を与え，その実行結果を確認せよ．\n",
    "```"
   ]
  },
  {
   "cell_type": "code",
   "execution_count": 67,
   "metadata": {},
   "outputs": [
    {
     "data": {
      "text/plain": [
       "\" I co'lndut biveele that I cluod aulctaly uesadntrnd what I was rienadg : the pnonaeemhl peowr of the hamun mind .\""
      ]
     },
     "execution_count": 67,
     "metadata": {},
     "output_type": "execute_result"
    }
   ],
   "source": [
    "import random\n",
    "\n",
    "def Typoglycemia(text):\n",
    "    answer = ''\n",
    "    words_list = text.split(' ')\n",
    "    for word in words_list:\n",
    "        if len(word) > 4:\n",
    "            word_part = list(word[1:-1])\n",
    "            random.shuffle(word_part)\n",
    "            word = word[0] + ''.join(word_part) + word[-1]\n",
    "        answer += ' ' + word\n",
    "    return answer\n",
    "    \n",
    "text = \"I couldn't believe that I could actually understand \\\n",
    "what I was reading : the phenomenal power of the human mind .\"\n",
    "Typoglycemia(text)"
   ]
  },
  {
   "cell_type": "code",
   "execution_count": null,
   "metadata": {},
   "outputs": [],
   "source": []
  }
 ],
 "metadata": {
  "kernelspec": {
   "display_name": "Python 3",
   "language": "python",
   "name": "python3"
  },
  "language_info": {
   "codemirror_mode": {
    "name": "ipython",
    "version": 3
   },
   "file_extension": ".py",
   "mimetype": "text/x-python",
   "name": "python",
   "nbconvert_exporter": "python",
   "pygments_lexer": "ipython3",
   "version": "3.7.3"
  }
 },
 "nbformat": 4,
 "nbformat_minor": 4
}
