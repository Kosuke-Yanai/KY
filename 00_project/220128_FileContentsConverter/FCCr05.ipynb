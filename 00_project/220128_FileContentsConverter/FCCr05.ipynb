{
 "cells": [
  {
   "cell_type": "markdown",
   "metadata": {},
   "source": [
    "# File Contents Converter"
   ]
  },
  {
   "cell_type": "markdown",
   "metadata": {},
   "source": [
    "### バイナリファイル内の文字列を任意に置換するプログラム"
   ]
  },
  {
   "cell_type": "markdown",
   "metadata": {},
   "source": [
    "#### 01. read確認"
   ]
  },
  {
   "cell_type": "code",
   "execution_count": 2,
   "metadata": {
    "collapsed": true,
    "jupyter": {
     "outputs_hidden": true
    }
   },
   "outputs": [
    {
     "name": "stdout",
     "output_type": "stream",
     "text": [
      "b'\\x00\\x01\\x02\\x03\\x04\\x05\\x06\\x07\\x08\\t\\n\\x0b\\x0c\\r\\x0e\\x0f\\x10\\x11\\x12\\x13\\x14\\x15\\x16\\x17\\x18\\x19\\x1a\\x1b\\x1c\\x1d\\x1e\\x1f !\"#$%&\\'()*+,-./0123456789:;<=>?'\n"
     ]
    }
   ],
   "source": [
    "fr = open('test_01.DMP', 'rb')\n",
    "read_data = fr.read()\n",
    "print(read_data)\n",
    "fr.close()"
   ]
  },
  {
   "cell_type": "markdown",
   "metadata": {},
   "source": [
    "#### 02. write確認"
   ]
  },
  {
   "cell_type": "code",
   "execution_count": 3,
   "metadata": {},
   "outputs": [],
   "source": [
    "fw = open('write_01.DMP', 'wb')\n",
    "fw.write(read_data)\n",
    "fw.close()"
   ]
  },
  {
   "cell_type": "markdown",
   "metadata": {},
   "source": [
    "#### 03. 置換の確認"
   ]
  },
  {
   "cell_type": "code",
   "execution_count": 5,
   "metadata": {},
   "outputs": [],
   "source": [
    "for i in (b'\\x00', b'\\x10', b'\\x20', b'\\x30'):\n",
    "    read_data = read_data.replace(i, b'\\xAA')\n",
    "fc = open('convert_01.DMP', 'wb')\n",
    "fc.write(read_data)\n",
    "fc.close()"
   ]
  },
  {
   "cell_type": "markdown",
   "metadata": {},
   "source": [
    "#### 04. バイナリファイルを指定byteずつreadする"
   ]
  },
  {
   "cell_type": "code",
   "execution_count": 3,
   "metadata": {
    "collapsed": true,
    "jupyter": {
     "outputs_hidden": true
    }
   },
   "outputs": [
    {
     "name": "stdout",
     "output_type": "stream",
     "text": [
      "b'\\x00\\x01\\x02\\x03\\x04\\x05\\x06\\x07\\x08\\t\\n\\x0b\\x0c\\r\\x0e\\x0f'\n",
      "b'\\x10\\x11\\x12\\x13\\x14\\x15\\x16\\x17\\x18\\x19\\x1a\\x1b\\x1c\\x1d\\x1e\\x1f'\n",
      "b' !\"#$%&\\'()*+,-./'\n",
      "b'0123456789:;<=>?'\n",
      "b''\n",
      "End of File\n"
     ]
    }
   ],
   "source": [
    "# ファイルサイズを調べなくてもEOF検出で行ける\n",
    "with open('./test_01.DMP', 'rb') as fr:\n",
    "    while True:\n",
    "        read_data = fr.read(16)\n",
    "        print(read_data)\n",
    "        if read_data == b'':\n",
    "            print('End of File')\n",
    "            break\n",
    "fr.close()"
   ]
  },
  {
   "cell_type": "markdown",
   "metadata": {},
   "source": [
    "#### 05. 実行時に外部から与える変数を定義する"
   ]
  },
  {
   "cell_type": "code",
   "execution_count": 42,
   "metadata": {},
   "outputs": [
    {
     "name": "stdin",
     "output_type": "stream",
     "text": [
      "Enter header size(default 4): 6\n"
     ]
    }
   ],
   "source": [
    "input_val = input('Enter header size(default 4):')\n",
    "val = 4 if input_val == '' else int(input_val)"
   ]
  },
  {
   "cell_type": "code",
   "execution_count": 25,
   "metadata": {},
   "outputs": [
    {
     "name": "stdin",
     "output_type": "stream",
     "text": [
      "Enter target_unitID: 3\n"
     ]
    },
    {
     "name": "stdout",
     "output_type": "stream",
     "text": [
      "b'\\x03'\n"
     ]
    },
    {
     "name": "stdin",
     "output_type": "stream",
     "text": [
      "Enter timestamp: 4567\n"
     ]
    },
    {
     "name": "stdout",
     "output_type": "stream",
     "text": [
      "b'\\xd7\\x11\\x00\\x00'\n"
     ]
    }
   ],
   "source": [
    "target_unitID = int(input('Enter target_unitID:'))\n",
    "target_unitID = target_unitID.to_bytes(1, 'little')\n",
    "print(target_unitID)\n",
    "\n",
    "\n",
    "\n",
    "target_timestamp = int(input('Enter timestamp:'))\n",
    "target_timestamp = target_timestamp.to_bytes(4, 'little')\n",
    "print(target_timestamp)"
   ]
  },
  {
   "cell_type": "code",
   "execution_count": 42,
   "metadata": {},
   "outputs": [
    {
     "name": "stdin",
     "output_type": "stream",
     "text": [
      "Enter timestamp: 67438087\n"
     ]
    },
    {
     "name": "stdout",
     "output_type": "stream",
     "text": [
      "b'\\x04\\x05\\x06\\x07'\n"
     ]
    }
   ],
   "source": [
    "target_timestamp = int(input('Enter timestamp:'))\n",
    "target_timestamp = target_timestamp.to_bytes(4, 'big')\n",
    "print(target_timestamp)"
   ]
  },
  {
   "cell_type": "code",
   "execution_count": 45,
   "metadata": {},
   "outputs": [
    {
     "name": "stdin",
     "output_type": "stream",
     "text": [
      "Enter timestamp: 67438087\n"
     ]
    },
    {
     "name": "stdout",
     "output_type": "stream",
     "text": [
      "b'\\x04\\x05\\x06\\x07'\n"
     ]
    }
   ],
   "source": [
    "target_timestamp = int(input('Enter timestamp:')).to_bytes(4, 'big')\n",
    "print(target_timestamp)"
   ]
  },
  {
   "cell_type": "markdown",
   "metadata": {},
   "source": [
    "#### 06. 【本体】指定byteずつ読み込んだ任意の文字列を置換して出力する"
   ]
  },
  {
   "cell_type": "code",
   "execution_count": 8,
   "metadata": {
    "collapsed": true,
    "jupyter": {
     "outputs_hidden": true
    }
   },
   "outputs": [
    {
     "name": "stdin",
     "output_type": "stream",
     "text": [
      "Enter target_unitID: 3\n",
      "Enter timestamp: 67438087\n",
      "Enter angleID From: 239\n",
      "Enter angleID To: 237\n"
     ]
    },
    {
     "name": "stdout",
     "output_type": "stream",
     "text": [
      "End of File\n",
      "置換数: 2\n"
     ]
    },
    {
     "name": "stdin",
     "output_type": "stream",
     "text": [
      "処理完了しました。キー入力待ち。  \n"
     ]
    },
    {
     "data": {
      "text/plain": [
       "''"
      ]
     },
     "execution_count": 8,
     "metadata": {},
     "output_type": "execute_result"
    }
   ],
   "source": [
    "# データイメージ /1byte/\n",
    "# aa/uu/xx/xx/ts/ts/ts/ts/1280byte data/\n",
    "\n",
    "import struct\n",
    "\n",
    "# データ入力\n",
    "target_unitID = int(input('Enter target_unitID:')).to_bytes(1, 'little')\n",
    "target_timestamp = int(input('Enter timestamp:')).to_bytes(4, 'big') # 67438087\n",
    "target_from = int(input('Enter angleID From:')).to_bytes(1, 'little')\n",
    "target_to = int(input('Enter angleID To:')).to_bytes(1, 'little')\n",
    "\n",
    "# 初期化\n",
    "frame_header_size = 4 # DEADBEEF\n",
    "line_header_size = 8 # ラインデータのヘッダ部 12\n",
    "line_data_size = 4 # ラインデータ本体 1280\n",
    "\n",
    "input_file = './input.DMP'\n",
    "output_file = './output.DMP'\n",
    "\n",
    "count = 0\n",
    "read_size = 0\n",
    "write_data = b''\n",
    "\n",
    "# メイン処理\n",
    "with open(input_file, 'rb') as fr:\n",
    "    frame_header = fr.read(frame_header_size) #先頭4byteはスキップ  \n",
    "    write_data = frame_header\n",
    "    while True:\n",
    "        line_header_data = fr.read(line_header_size)\n",
    "        line_main_data = fr.read(line_data_size)\n",
    "        read_size += line_header_size + line_data_size\n",
    "\n",
    "        if line_header_data[1:2] == target_unitID and line_header_data[4:8] == target_timestamp and \\\n",
    "        line_header_data[0:1] == target_from:\n",
    "            count += 1\n",
    "            line_header_replaced = line_header_data[0:1].replace(target_from, target_to)\n",
    "        else:\n",
    "            line_header_replaced = line_header_data[0:1]\n",
    "        write_data += (line_header_replaced + line_header_data[1:8] + line_main_data)\n",
    "\n",
    "#         if line_header_data == b'' or line_main_data == b'' or \\\n",
    "#         (line_header_data[1:2] == target_unitID and line_header_data[4:8] > target_timestamp):\n",
    "        if line_header_data == b'' or line_main_data == b'':\n",
    "            print('End of File')\n",
    "            break\n",
    "                  \n",
    "# ファイル出力\n",
    "print(\"置換数:\", count)\n",
    "fw = open(output_file, 'wb')\n",
    "fw.write(write_data)\n",
    "fw.close()\n",
    "fr.close()\n",
    "\n",
    "input(\"処理完了しました。キー入力待ち。 \")"
   ]
  },
  {
   "cell_type": "markdown",
   "metadata": {},
   "source": [
    "#### 07. ファイルの分割"
   ]
  },
  {
   "cell_type": "code",
   "execution_count": 58,
   "metadata": {},
   "outputs": [
    {
     "name": "stdin",
     "output_type": "stream",
     "text": [
      "Enter target_unitID: 3\n",
      "Enter timestamp: 67438087\n",
      "Enter angleID From: 239\n",
      "Enter angleID To: 237\n"
     ]
    },
    {
     "name": "stdout",
     "output_type": "stream",
     "text": [
      "2 / 5\n",
      "4 / 5\n"
     ]
    },
    {
     "name": "stdin",
     "output_type": "stream",
     "text": [
      "処理完了しました。キー入力待ち。  \n"
     ]
    }
   ],
   "source": [
    "import os\n",
    "import shutil\n",
    "import struct\n",
    "    \n",
    "def divide_file(filePath, frame_header_size, chunkSize, chunk_path):\n",
    "    readedDataSize = frame_header_size\n",
    "    i = 0\n",
    "    fileList = []\n",
    "    # 対象ファイルを開く\n",
    "    f = open(filePath, \"rb\")\n",
    "    # ファイルを読み終わるまで繰り返す\n",
    "    contentLength = os.path.getsize(filePath)\n",
    "    while readedDataSize < contentLength:\n",
    "        # 読み取り位置をシーク\n",
    "        f.seek(readedDataSize)\n",
    "        # 指定されたデータサイズだけ読み込む\n",
    "        data = f.read(chunkSize)\n",
    "        # 分割ファイルを保存\n",
    "        saveFilePath = chunk_path + \"/\" + filePath + \".\" + str(i)\n",
    "        with open(saveFilePath, 'wb') as saveFile:\n",
    "            saveFile.write(data)\n",
    "        # 読み込んだデータサイズの更新\n",
    "        readedDataSize = readedDataSize + len(data)\n",
    "        i = i + 1\n",
    "        fileList.append(saveFilePath)\n",
    "    return fileList\n",
    "\n",
    "def check_string(filePath, timestamp):\n",
    "    with open(filePath, 'rb') as temp_f:\n",
    "        if timestamp in temp_f.read():\n",
    "            return True # The string is found\n",
    "        return False  # The string does not exist in the file\n",
    "\n",
    "def FCC(filePath, frame_header_size, line_header_size, line_data_size, \\\n",
    "                target_unitID, target_timestamp, target_from, target_to):\n",
    "    read_size = 0\n",
    "    write_data = b''\n",
    "    # メイン処理\n",
    "    with open(filePath, 'rb') as fr:\n",
    "#         frame_header = fr.read(frame_header_size) #先頭4byteはスキップ  \n",
    "#         write_data = frame_header\n",
    "        while True:\n",
    "            line_header_data = fr.read(line_header_size)\n",
    "            line_main_data = fr.read(line_data_size)\n",
    "            read_size += line_header_size + line_data_size\n",
    "\n",
    "            if line_header_data[1:2] == target_unitID and line_header_data[4:8] == target_timestamp and \\\n",
    "            line_header_data[0:1] == target_from:\n",
    "                line_header_replaced = line_header_data[0:1].replace(target_from, target_to)\n",
    "            else:\n",
    "                line_header_replaced = line_header_data[0:1]\n",
    "            write_data += (line_header_replaced + line_header_data[1:8] + line_main_data)\n",
    "\n",
    "            if line_header_data == b'' or line_main_data == b'':\n",
    "#                 print('End of File')\n",
    "                break\n",
    "        # 置換結果でファイル上書き\n",
    "        fw = open(filePath, 'wb')\n",
    "        fw.write(write_data) \n",
    "        fw.close()\n",
    "        fr.close()\n",
    "\n",
    "def join_file(file_list, filePath):\n",
    "    with open(filePath, 'wb') as saveFile:\n",
    "        saveFile.write(b'\\xEF\\xBE\\xAD\\xDE')\n",
    "        for f in file_list:\n",
    "            data = open(f, 'rb').read()\n",
    "            saveFile.write(data)\n",
    "            saveFile.flush()\n",
    "\n",
    "def main():\n",
    "\n",
    "    # 初期化\n",
    "    frame_header_size = 4 # DEADBEEF\n",
    "    line_header_size = 8 # ラインデータのヘッダ部 12\n",
    "    line_data_size = 4 # ラインデータ本体 1280\n",
    "    chunk_size = 12 # ファイル分割サイズ\n",
    "    \n",
    "    input_file = 'input.DMP'\n",
    "    output_file = './output.DMP' \n",
    "    chunk_path = './chunk_data'\n",
    "    output_data = b''\n",
    "    count = 0\n",
    "    \n",
    "    os.mkdir(chunk_path)\n",
    "    \n",
    "    #データ入力\n",
    "    target_unitID = int(input('Enter target_unitID:')).to_bytes(1, 'little')\n",
    "    target_timestamp = int(input('Enter timestamp:')).to_bytes(4, 'big') # 67438087\n",
    "    target_from = int(input('Enter angleID From:')).to_bytes(1, 'little')\n",
    "    target_to = int(input('Enter angleID To:')).to_bytes(1, 'little')\n",
    "\n",
    "    # ファイル分割\n",
    "    file_list = divide_file(input_file, frame_header_size, chunk_size, chunk_path)\n",
    "    \n",
    "    # ファイル捜査しhitしたら置換処理を行う\n",
    "    for filePath in file_list:\n",
    "        count += 1\n",
    "        print(count, '/', (len(file_list))) if count%2 == 0 else 'odd'\n",
    "        result = check_string(filePath, target_timestamp) # ファイル捜査\n",
    "        if result: # hitしたものに対し置換処理\n",
    "            FCC(filePath, frame_header_size, line_header_size, line_data_size, \\\n",
    "                target_unitID, target_timestamp, target_from, target_to)\n",
    "    \n",
    "    join_file(file_list, output_file)\n",
    "    \n",
    "    shutil.rmtree(chunk_path)\n",
    "    \n",
    "    input(\"処理完了しました。キー入力待ち。 \")\n",
    "            \n",
    "if __name__ == \"__main__\":\n",
    "    main()\n"
   ]
  },
  {
   "cell_type": "markdown",
   "metadata": {},
   "source": [
    "#### 08. 実DMPファイル用のチューニング"
   ]
  },
  {
   "cell_type": "code",
   "execution_count": 51,
   "metadata": {},
   "outputs": [
    {
     "ename": "NameError",
     "evalue": "name 'chunk_path' is not defined",
     "output_type": "error",
     "traceback": [
      "\u001b[1;31m---------------------------------------------------------------------------\u001b[0m",
      "\u001b[1;31mNameError\u001b[0m                                 Traceback (most recent call last)",
      "\u001b[1;32m<ipython-input-51-8fd3ed838f88>\u001b[0m in \u001b[0;36m<module>\u001b[1;34m\u001b[0m\n\u001b[0;32m    104\u001b[0m \u001b[1;33m\u001b[0m\u001b[0m\n\u001b[0;32m    105\u001b[0m \u001b[1;32mif\u001b[0m \u001b[0m__name__\u001b[0m \u001b[1;33m==\u001b[0m \u001b[1;34m\"__main__\"\u001b[0m\u001b[1;33m:\u001b[0m\u001b[1;33m\u001b[0m\u001b[1;33m\u001b[0m\u001b[0m\n\u001b[1;32m--> 106\u001b[1;33m     \u001b[0mmain\u001b[0m\u001b[1;33m(\u001b[0m\u001b[1;33m)\u001b[0m\u001b[1;33m\u001b[0m\u001b[1;33m\u001b[0m\u001b[0m\n\u001b[0m",
      "\u001b[1;32m<ipython-input-51-8fd3ed838f88>\u001b[0m in \u001b[0;36mmain\u001b[1;34m()\u001b[0m\n\u001b[0;32m     76\u001b[0m     \u001b[0minput_file\u001b[0m \u001b[1;33m=\u001b[0m \u001b[1;34m'./input.DMP'\u001b[0m\u001b[1;33m\u001b[0m\u001b[1;33m\u001b[0m\u001b[0m\n\u001b[0;32m     77\u001b[0m     \u001b[0moutput_file\u001b[0m \u001b[1;33m=\u001b[0m \u001b[1;34m'./output.DMP'\u001b[0m\u001b[1;33m\u001b[0m\u001b[1;33m\u001b[0m\u001b[0m\n\u001b[1;32m---> 78\u001b[1;33m     \u001b[0mchunk_path\u001b[0m\u001b[1;33m\u001b[0m\u001b[1;33m\u001b[0m\u001b[0m\n\u001b[0m\u001b[0;32m     79\u001b[0m     \u001b[0moutput_data\u001b[0m \u001b[1;33m=\u001b[0m \u001b[1;34mb''\u001b[0m\u001b[1;33m\u001b[0m\u001b[1;33m\u001b[0m\u001b[0m\n\u001b[0;32m     80\u001b[0m     \u001b[0mcount\u001b[0m \u001b[1;33m=\u001b[0m \u001b[1;36m0\u001b[0m\u001b[1;33m\u001b[0m\u001b[1;33m\u001b[0m\u001b[0m\n",
      "\u001b[1;31mNameError\u001b[0m: name 'chunk_path' is not defined"
     ]
    }
   ],
   "source": [
    "import os\n",
    "import shutil\n",
    "import struct\n",
    "    \n",
    "def divide_file(filePath, frame_header_size, chunkSize, chunk_path):\n",
    "    readedDataSize = frame_header_size\n",
    "    i = 0\n",
    "    fileList = []\n",
    "    # 対象ファイルを開く\n",
    "    f = open(filePath, \"rb\")\n",
    "    # ファイルを読み終わるまで繰り返す\n",
    "    contentLength = os.path.getsize(filePath)\n",
    "    while readedDataSize < contentLength:\n",
    "        # 読み取り位置をシーク\n",
    "        f.seek(readedDataSize)\n",
    "        # 指定されたデータサイズだけ読み込む\n",
    "        data = f.read(chunkSize)\n",
    "        # 分割ファイルを保存\n",
    "        saveFilePath = chunk_path + \"/\" + filePath + \".\" + str(i)\n",
    "        with open(saveFilePath, 'wb') as saveFile:\n",
    "            saveFile.write(data)\n",
    "        # 読み込んだデータサイズの更新\n",
    "        readedDataSize = readedDataSize + len(data)\n",
    "        i = i + 1\n",
    "        fileList.append(saveFilePath)\n",
    "    return fileList\n",
    "\n",
    "def check_string(filePath, timestamp):\n",
    "    with open(filePath, 'rb') as temp_f:\n",
    "        if timestamp in temp_f.read():\n",
    "            return True # The string is found\n",
    "        return False  # The string does not exist in the file\n",
    "\n",
    "def FCC(filePath, frame_header_size, line_header_size, line_data_size, \\\n",
    "                target_unitID, target_timestamp, target_from, target_to):\n",
    "    write_data = b''\n",
    "    # メイン処理\n",
    "    with open(filePath, 'rb') as fr:\n",
    "#         frame_header = fr.read(frame_header_size) #先頭4byteはスキップ  \n",
    "#         write_data = frame_header\n",
    "        while True:\n",
    "            line_header_data = fr.read(line_header_size)\n",
    "            line_main_data = fr.read(line_data_size)\n",
    "\n",
    "            if line_header_data[5:6] == target_unitID and line_header_data[8:12] == target_timestamp and \\\n",
    "            line_header_data[4:5] == target_from:\n",
    "                line_header_replaced = line_header_data[4:5].replace(target_from, target_to)\n",
    "            else:\n",
    "                line_header_replaced = line_header_data[4:5]\n",
    "            write_data += (line_header_data[0:4] + line_header_replaced + line_header_data[5:12] + line_main_data)\n",
    "\n",
    "            if line_header_data == b'' or line_main_data == b'':\n",
    "#                 print('End of File')\n",
    "                break\n",
    "        # 置換結果でファイル上書き\n",
    "        fw = open(filePath, 'wb')\n",
    "        fw.write(write_data) \n",
    "        fw.close()\n",
    "        fr.close()\n",
    "\n",
    "def join_file(file_list, filePath):\n",
    "    with open(filePath, 'wb') as saveFile:\n",
    "        saveFile.write(b'\\xEF\\xBE\\xAD\\xDE')\n",
    "        for f in file_list:\n",
    "            data = open(f, 'rb').read()\n",
    "            saveFile.write(data)\n",
    "            saveFile.flush()\n",
    "\n",
    "def main():\n",
    "\n",
    "    # 初期化\n",
    "    frame_header_size = 4 # DEADBEEF\n",
    "    line_header_size = 12 # ラインデータのヘッダ部 12\n",
    "    line_data_size = 1280 # ラインデータ本体 1280\n",
    "    chunk_size = (line_header_size + line_data_size) * 200 * 8 * 1 # ファイル分割サイズ 8ch x 1frm\n",
    "    \n",
    "    input_file = 'input.DMP'\n",
    "    output_file = './output.DMP' \n",
    "    chunk_path = './chunk_data'\n",
    "    output_data = b''\n",
    "    count = 0\n",
    "    \n",
    "    os.mkdir(chunk_path)\n",
    "    \n",
    "    #データ入力\n",
    "    target_unitID = int(input('Enter target_unitID:')).to_bytes(1, 'little')\n",
    "    target_timestamp = int(input('Enter timestamp:')).to_bytes(4, 'big') # 67438087\n",
    "    target_from = int(input('Enter angleID From:')).to_bytes(1, 'little')\n",
    "    target_to = int(input('Enter angleID To:')).to_bytes(1, 'little')\n",
    "\n",
    "    # ファイル分割\n",
    "    file_list = divide_file(input_file, frame_header_size, chunk_size, chunk_path)\n",
    "    \n",
    "    # ファイル捜査しhitしたら置換処理を行う\n",
    "    for filePath in file_list:\n",
    "        count += 1\n",
    "        print('Progress: ', count, '/', (len(file_list))) if count%5 == 0 else 'odd'\n",
    "        result = check_string(filePath, target_timestamp) # ファイル捜査\n",
    "        if result: # hitしたものに対し置換処理\n",
    "            FCC(filePath, frame_header_size, line_header_size, line_data_size, \\\n",
    "                target_unitID, target_timestamp, target_from, target_to)\n",
    "    \n",
    "    # 分割したファイルを結合する\n",
    "    join_file(file_list, output_file)\n",
    "    \n",
    "    shutil.rmtree(chunk_path)\n",
    "    \n",
    "    input(\"処理完了しました。キー入力待ち。 \")\n",
    "            \n",
    "if __name__ == \"__main__\":\n",
    "    main()\n"
   ]
  },
  {
   "cell_type": "code",
   "execution_count": 50,
   "metadata": {},
   "outputs": [
    {
     "name": "stdout",
     "output_type": "stream",
     "text": [
      "b'\\x01'\n"
     ]
    }
   ],
   "source": [
    "fr = open('input.DMP', 'rb')\n",
    "read_data = fr.read()\n",
    "print(read_data[5:])\n",
    "fr.close()"
   ]
  },
  {
   "cell_type": "code",
   "execution_count": null,
   "metadata": {},
   "outputs": [],
   "source": []
  }
 ],
 "metadata": {
  "kernelspec": {
   "display_name": "Python 3",
   "language": "python",
   "name": "python3"
  },
  "language_info": {
   "codemirror_mode": {
    "name": "ipython",
    "version": 3
   },
   "file_extension": ".py",
   "mimetype": "text/x-python",
   "name": "python",
   "nbconvert_exporter": "python",
   "pygments_lexer": "ipython3",
   "version": "3.8.5"
  }
 },
 "nbformat": 4,
 "nbformat_minor": 4
}
