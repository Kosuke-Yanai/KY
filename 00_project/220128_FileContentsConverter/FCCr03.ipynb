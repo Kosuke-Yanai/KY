{
 "cells": [
  {
   "cell_type": "markdown",
   "metadata": {},
   "source": [
    "# File Contents Converter"
   ]
  },
  {
   "cell_type": "markdown",
   "metadata": {},
   "source": [
    "### バイナリファイル内の文字列を任意に置換するプログラム"
   ]
  },
  {
   "cell_type": "markdown",
   "metadata": {},
   "source": [
    "#### 01. read確認"
   ]
  },
  {
   "cell_type": "code",
   "execution_count": 2,
   "metadata": {
    "collapsed": true,
    "jupyter": {
     "outputs_hidden": true
    }
   },
   "outputs": [
    {
     "name": "stdout",
     "output_type": "stream",
     "text": [
      "b'\\x00\\x01\\x02\\x03\\x04\\x05\\x06\\x07\\x08\\t\\n\\x0b\\x0c\\r\\x0e\\x0f\\x10\\x11\\x12\\x13\\x14\\x15\\x16\\x17\\x18\\x19\\x1a\\x1b\\x1c\\x1d\\x1e\\x1f !\"#$%&\\'()*+,-./0123456789:;<=>?'\n"
     ]
    }
   ],
   "source": [
    "fr = open('test_01.DMP', 'rb')\n",
    "read_data = fr.read()\n",
    "print(read_data)\n",
    "fr.close()"
   ]
  },
  {
   "cell_type": "markdown",
   "metadata": {},
   "source": [
    "#### 02. write確認"
   ]
  },
  {
   "cell_type": "code",
   "execution_count": 3,
   "metadata": {},
   "outputs": [],
   "source": [
    "fw = open('write_01.DMP', 'wb')\n",
    "fw.write(read_data)\n",
    "fw.close()"
   ]
  },
  {
   "cell_type": "markdown",
   "metadata": {},
   "source": [
    "#### 03. 置換の確認"
   ]
  },
  {
   "cell_type": "code",
   "execution_count": 5,
   "metadata": {},
   "outputs": [],
   "source": [
    "for i in (b'\\x00', b'\\x10', b'\\x20', b'\\x30'):\n",
    "    read_data = read_data.replace(i, b'\\xAA')\n",
    "fc = open('convert_01.DMP', 'wb')\n",
    "fc.write(read_data)\n",
    "fc.close()"
   ]
  },
  {
   "cell_type": "markdown",
   "metadata": {},
   "source": [
    "#### 04. バイナリファイルを指定byteずつreadする"
   ]
  },
  {
   "cell_type": "code",
   "execution_count": 3,
   "metadata": {
    "collapsed": true,
    "jupyter": {
     "outputs_hidden": true
    }
   },
   "outputs": [
    {
     "name": "stdout",
     "output_type": "stream",
     "text": [
      "b'\\x00\\x01\\x02\\x03\\x04\\x05\\x06\\x07\\x08\\t\\n\\x0b\\x0c\\r\\x0e\\x0f'\n",
      "b'\\x10\\x11\\x12\\x13\\x14\\x15\\x16\\x17\\x18\\x19\\x1a\\x1b\\x1c\\x1d\\x1e\\x1f'\n",
      "b' !\"#$%&\\'()*+,-./'\n",
      "b'0123456789:;<=>?'\n",
      "b''\n",
      "End of File\n"
     ]
    }
   ],
   "source": [
    "# ファイルサイズを調べなくてもEOF検出で行ける\n",
    "with open('./test_01.DMP', 'rb') as fr:\n",
    "    while True:\n",
    "        read_data = fr.read(16)\n",
    "        print(read_data)\n",
    "        if read_data == b'':\n",
    "            print('End of File')\n",
    "            break\n",
    "fr.close()"
   ]
  },
  {
   "cell_type": "markdown",
   "metadata": {},
   "source": [
    "#### 05. 実行時に外部から与える変数を定義する"
   ]
  },
  {
   "cell_type": "code",
   "execution_count": 42,
   "metadata": {},
   "outputs": [
    {
     "name": "stdin",
     "output_type": "stream",
     "text": [
      "Enter header size(default 4): 6\n"
     ]
    }
   ],
   "source": [
    "input_val = input('Enter header size(default 4):')\n",
    "val = 4 if input_val == '' else int(input_val)"
   ]
  },
  {
   "cell_type": "code",
   "execution_count": 25,
   "metadata": {},
   "outputs": [
    {
     "name": "stdin",
     "output_type": "stream",
     "text": [
      "Enter target_unitID: 3\n"
     ]
    },
    {
     "name": "stdout",
     "output_type": "stream",
     "text": [
      "b'\\x03'\n"
     ]
    },
    {
     "name": "stdin",
     "output_type": "stream",
     "text": [
      "Enter timestamp: 4567\n"
     ]
    },
    {
     "name": "stdout",
     "output_type": "stream",
     "text": [
      "b'\\xd7\\x11\\x00\\x00'\n"
     ]
    }
   ],
   "source": [
    "target_unitID = int(input('Enter target_unitID:'))\n",
    "target_unitID = target_unitID.to_bytes(1, 'little')\n",
    "print(target_unitID)\n",
    "\n",
    "\n",
    "\n",
    "target_timestamp = int(input('Enter timestamp:'))\n",
    "target_timestamp = target_timestamp.to_bytes(4, 'little')\n",
    "print(target_timestamp)"
   ]
  },
  {
   "cell_type": "code",
   "execution_count": 42,
   "metadata": {},
   "outputs": [
    {
     "name": "stdin",
     "output_type": "stream",
     "text": [
      "Enter timestamp: 67438087\n"
     ]
    },
    {
     "name": "stdout",
     "output_type": "stream",
     "text": [
      "b'\\x04\\x05\\x06\\x07'\n"
     ]
    }
   ],
   "source": [
    "target_timestamp = int(input('Enter timestamp:'))\n",
    "target_timestamp = target_timestamp.to_bytes(4, 'big')\n",
    "print(target_timestamp)"
   ]
  },
  {
   "cell_type": "code",
   "execution_count": 45,
   "metadata": {},
   "outputs": [
    {
     "name": "stdin",
     "output_type": "stream",
     "text": [
      "Enter timestamp: 67438087\n"
     ]
    },
    {
     "name": "stdout",
     "output_type": "stream",
     "text": [
      "b'\\x04\\x05\\x06\\x07'\n"
     ]
    }
   ],
   "source": [
    "target_timestamp = int(input('Enter timestamp:')).to_bytes(4, 'big')\n",
    "print(target_timestamp)"
   ]
  },
  {
   "cell_type": "markdown",
   "metadata": {},
   "source": [
    "#### 06. 【本体】指定byteずつ読み込んだ任意の文字列を置換して出力する"
   ]
  },
  {
   "cell_type": "code",
   "execution_count": 2,
   "metadata": {},
   "outputs": [
    {
     "name": "stdin",
     "output_type": "stream",
     "text": [
      "Enter target_unitID: 3\n",
      "Enter timestamp: 3\n",
      "Enter angleID From: 3\n",
      "Enter angleID To: 3\n"
     ]
    },
    {
     "name": "stdout",
     "output_type": "stream",
     "text": [
      "End of File\n",
      "置換数: 0\n"
     ]
    },
    {
     "name": "stdin",
     "output_type": "stream",
     "text": [
      "処理完了しました。キー入力待ち。  \n"
     ]
    },
    {
     "data": {
      "text/plain": [
       "''"
      ]
     },
     "execution_count": 2,
     "metadata": {},
     "output_type": "execute_result"
    }
   ],
   "source": [
    "# データイメージ /1byte/\n",
    "# aa/uu/xx/xx/ts/ts/ts/ts/1280byte data/\n",
    "\n",
    "import struct\n",
    "\n",
    "# データ入力\n",
    "target_unitID = int(input('Enter target_unitID:')).to_bytes(1, 'little')\n",
    "target_timestamp = int(input('Enter timestamp:')).to_bytes(4, 'big') # 67438087\n",
    "target_from = int(input('Enter angleID From:')).to_bytes(1, 'little')\n",
    "target_to = int(input('Enter angleID To:')).to_bytes(1, 'little')\n",
    "\n",
    "# 初期化\n",
    "frame_header_size = 4 # DEADBEEF\n",
    "line_header_size = 12 # ラインデータのヘッダ部\n",
    "line_data_size = 1280 # ラインデータ本体\n",
    "\n",
    "input_file = './input.DMP'\n",
    "output_file = './output.DMP'\n",
    "\n",
    "# target_unitID = b'\\x03'\n",
    "# target_timestamp = b'\\x04\\x05\\x06\\x07'\n",
    "# target_from =  b'\\xEF' # angleID=239\n",
    "# target_to = b'\\xED' # angleID=237\n",
    "\n",
    "count = 0\n",
    "write_data = b''\n",
    "\n",
    "# メイン処理\n",
    "with open(input_file, 'rb') as fr:\n",
    "    frame_header = fr.read(frame_header_size) #先頭4byteはスキップ  \n",
    "    write_data = frame_header\n",
    "    while True:\n",
    "        line_header_data = fr.read(line_header_size)\n",
    "        line_main_data = fr.read(line_data_size)\n",
    "        if line_header_data[5:6] == target_unitID and line_header_data[8:12] == target_timestamp and \\\n",
    "        line_header_data[4:5] == target_from:\n",
    "            count += 1\n",
    "            line_header_replaced = line_header_data[0:2].replace(target_from, target_to)\n",
    "        else:\n",
    "            line_header_replaced = line_header_data[0:2]\n",
    "        write_data += (line_header_replaced + line_header_data[2:8] + line_main_data)\n",
    "        if line_header_data == b'' or line_main_data == b'' :\n",
    "#             print('End of File')\n",
    "            break\n",
    "                  \n",
    "# ファイル出力\n",
    "print(\"置換数:\", count)\n",
    "fw = open(output_file, 'wb')\n",
    "fw.write(write_data)\n",
    "fw.close()\n",
    "fr.close()\n",
    "\n",
    "input(\"処理完了しました。キー入力待ち。 \")"
   ]
  },
  {
   "cell_type": "markdown",
   "metadata": {},
   "source": [
    "#### 07. GUI表示の作成イメージ"
   ]
  },
  {
   "cell_type": "code",
   "execution_count": 24,
   "metadata": {},
   "outputs": [],
   "source": [
    "# tkinterのインポート\n",
    "import tkinter as tk\n",
    "import tkinter.ttk as ttk\n",
    "from tkinter import messagebox\n",
    "\n",
    "# 関数birthdayの定義\n",
    "# def birthday():\n",
    "#     messagebox.showinfo(\"誕生日\",\"あなたの誕生日は\" + entry.get() + \"です\")\n",
    "#     entry.delete(0,tk.END)\n",
    "\n",
    "# rootフレームの設定\n",
    "root = tk.Tk()\n",
    "root.title(\"FileContentsConverter\")\n",
    "root.geometry(\"500x500\")\n",
    "\n",
    "# フレームの作成と設置\n",
    "frame = ttk.Frame(root)\n",
    "frame.grid(column=0, row=0, sticky=tk.NSEW, padx=5, pady=10)\n",
    "\n",
    "# 各種ウィジェットの作成\n",
    "label_header_size = ttk.Label(frame, text=\"ヘッダサイズ[byte]：\", anchor=tk.E)\n",
    "label_read_size = ttk.Label(frame, text=\"リードサイズ[byte]：\", anchor=tk.E)\n",
    "label_timestamp = ttk.Label(frame, text=\"timestamp：\", anchor=tk.E)\n",
    "label_unitnum = ttk.Label(frame, text=\"unit No.：\", anchor=tk.E)\n",
    "label_angle_before = ttk.Label(frame, text=\"置換前AngleID：\", anchor=tk.E)\n",
    "label_angle_after = ttk.Label(frame, text=\"置換後AngleID：\", anchor=tk.E)\n",
    "\n",
    "entry_header_size = ttk.Entry(frame)\n",
    "entry_read_size = ttk.Entry(frame)\n",
    "entry_timestamp = ttk.Entry(frame)\n",
    "entry_unitnum = ttk.Entry(frame)\n",
    "entry_angle_before = ttk.Entry(frame)\n",
    "entry_angle_after = ttk.Entry(frame)\n",
    "\n",
    "button_execute = ttk.Button(frame, text=\"実行\", command=birthday)\n",
    "\n",
    "# 各種ウィジェットの設置\n",
    "label_header_size.grid(row=0, column=0)\n",
    "label_read_size.grid(row=1, column=0)\n",
    "label_timestamp.grid(row=2, column=0)\n",
    "label_unitnum.grid(row=3, column=0)\n",
    "label_angle_before.grid(row=4, column=0)\n",
    "label_angle_after.grid(row=5, column=0)\n",
    "\n",
    "\n",
    "entry_header_size.grid(row=0, column=2)\n",
    "entry_read_size.grid(row=1, column=2)\n",
    "entry_timestamp.grid(row=2, column=2)\n",
    "entry_unitnum.grid(row=3, column=2)\n",
    "entry_angle_before.grid(row=4, column=2)\n",
    "entry_angle_after.grid(row=5, column=2)\n",
    "\n",
    "button_execute.grid(row=10 , column=5)\n",
    "\n",
    "# Entryウィジェットへ文字列のセット\n",
    "# entry.insert(tk.END,\"1999/01/01\")\n",
    "\n",
    "root.mainloop()"
   ]
  },
  {
   "cell_type": "code",
   "execution_count": null,
   "metadata": {},
   "outputs": [],
   "source": []
  }
 ],
 "metadata": {
  "kernelspec": {
   "display_name": "Python 3",
   "language": "python",
   "name": "python3"
  },
  "language_info": {
   "codemirror_mode": {
    "name": "ipython",
    "version": 3
   },
   "file_extension": ".py",
   "mimetype": "text/x-python",
   "name": "python",
   "nbconvert_exporter": "python",
   "pygments_lexer": "ipython3",
   "version": "3.8.5"
  }
 },
 "nbformat": 4,
 "nbformat_minor": 4
}
